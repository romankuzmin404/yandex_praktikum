{
 "cells": [
  {
   "cell_type": "markdown",
   "metadata": {
    "toc": true
   },
   "source": [
    "<h1>Содержание<span class=\"tocSkip\"></span></h1>\n",
    "<div class=\"toc\"><ul class=\"toc-item\"><li><span><a href=\"#Подготовка-данных\" data-toc-modified-id=\"Подготовка-данных-1\"><span class=\"toc-item-num\">1&nbsp;&nbsp;</span>Подготовка данных</a></span></li><li><span><a href=\"#Исследование-задачи\" data-toc-modified-id=\"Исследование-задачи-2\"><span class=\"toc-item-num\">2&nbsp;&nbsp;</span>Исследование задачи</a></span><ul class=\"toc-item\"><li><span><a href=\"#Дисбаланс-классов\" data-toc-modified-id=\"Дисбаланс-классов-2.1\"><span class=\"toc-item-num\">2.1&nbsp;&nbsp;</span>Дисбаланс классов</a></span></li><li><span><a href=\"#DecisionTreeClassifier\" data-toc-modified-id=\"DecisionTreeClassifier-2.2\"><span class=\"toc-item-num\">2.2&nbsp;&nbsp;</span>DecisionTreeClassifier</a></span></li><li><span><a href=\"#RandomForestClassifier\" data-toc-modified-id=\"RandomForestClassifier-2.3\"><span class=\"toc-item-num\">2.3&nbsp;&nbsp;</span>RandomForestClassifier</a></span></li><li><span><a href=\"#LogisticRegression\" data-toc-modified-id=\"LogisticRegression-2.4\"><span class=\"toc-item-num\">2.4&nbsp;&nbsp;</span>LogisticRegression</a></span></li></ul></li><li><span><a href=\"#Борьба-с-дисбалансом\" data-toc-modified-id=\"Борьба-с-дисбалансом-3\"><span class=\"toc-item-num\">3&nbsp;&nbsp;</span>Борьба с дисбалансом</a></span><ul class=\"toc-item\"><li><span><a href=\"#Взвешивание-классов\" data-toc-modified-id=\"Взвешивание-классов-3.1\"><span class=\"toc-item-num\">3.1&nbsp;&nbsp;</span>Взвешивание классов</a></span></li><li><span><a href=\"#Увеличение-выборки\" data-toc-modified-id=\"Увеличение-выборки-3.2\"><span class=\"toc-item-num\">3.2&nbsp;&nbsp;</span>Увеличение выборки</a></span><ul class=\"toc-item\"><li><span><a href=\"#DecisionTreeClassifier-с-учетом-дисбаланса\" data-toc-modified-id=\"DecisionTreeClassifier-с-учетом-дисбаланса-3.2.1\"><span class=\"toc-item-num\">3.2.1&nbsp;&nbsp;</span>DecisionTreeClassifier с учетом дисбаланса</a></span></li><li><span><a href=\"#RandomForest-с-учетом-дисбаланса\" data-toc-modified-id=\"RandomForest-с-учетом-дисбаланса-3.2.2\"><span class=\"toc-item-num\">3.2.2&nbsp;&nbsp;</span>RandomForest с учетом дисбаланса</a></span></li><li><span><a href=\"#LogisticRegression-с-учетом-дисбаланса\" data-toc-modified-id=\"LogisticRegression-с-учетом-дисбаланса-3.2.3\"><span class=\"toc-item-num\">3.2.3&nbsp;&nbsp;</span>LogisticRegression с учетом дисбаланса</a></span></li></ul></li><li><span><a href=\"#Уменьшение-выборки\" data-toc-modified-id=\"Уменьшение-выборки-3.3\"><span class=\"toc-item-num\">3.3&nbsp;&nbsp;</span>Уменьшение выборки</a></span><ul class=\"toc-item\"><li><span><a href=\"#DecisionTreeClassifier-с-учетом-дисбаланса\" data-toc-modified-id=\"DecisionTreeClassifier-с-учетом-дисбаланса-3.3.1\"><span class=\"toc-item-num\">3.3.1&nbsp;&nbsp;</span>DecisionTreeClassifier с учетом дисбаланса</a></span></li><li><span><a href=\"#RandomForest-с-учетом-дисбаланса\" data-toc-modified-id=\"RandomForest-с-учетом-дисбаланса-3.3.2\"><span class=\"toc-item-num\">3.3.2&nbsp;&nbsp;</span>RandomForest с учетом дисбаланса</a></span></li><li><span><a href=\"#LogisticRegression-с-учетом-дисбаланса\" data-toc-modified-id=\"LogisticRegression-с-учетом-дисбаланса-3.3.3\"><span class=\"toc-item-num\">3.3.3&nbsp;&nbsp;</span>LogisticRegression с учетом дисбаланса</a></span></li></ul></li></ul></li><li><span><a href=\"#Тестирование-модели\" data-toc-modified-id=\"Тестирование-модели-4\"><span class=\"toc-item-num\">4&nbsp;&nbsp;</span>Тестирование модели</a></span><ul class=\"toc-item\"><li><span><a href=\"#Тест-увеличенная-выборка\" data-toc-modified-id=\"Тест-увеличенная-выборка-4.1\"><span class=\"toc-item-num\">4.1&nbsp;&nbsp;</span>Тест увеличенная выборка</a></span></li><li><span><a href=\"#Тест-уменьшенная-выборка\" data-toc-modified-id=\"Тест-уменьшенная-выборка-4.2\"><span class=\"toc-item-num\">4.2&nbsp;&nbsp;</span>Тест уменьшенная выборка</a></span></li><li><span><a href=\"#Тест-взвешенные-классы\" data-toc-modified-id=\"Тест-взвешенные-классы-4.3\"><span class=\"toc-item-num\">4.3&nbsp;&nbsp;</span>Тест взвешенные классы</a></span></li></ul></li><li><span><a href=\"#Вывод\" data-toc-modified-id=\"Вывод-5\"><span class=\"toc-item-num\">5&nbsp;&nbsp;</span>Вывод</a></span></li></ul></div>"
   ]
  },
  {
   "cell_type": "markdown",
   "metadata": {},
   "source": [
    "# Отток клиентов"
   ]
  },
  {
   "cell_type": "markdown",
   "metadata": {},
   "source": [
    "Из «Бета-Банка» стали уходить клиенты. Каждый месяц. Немного, но заметно. Банковские маркетологи посчитали: сохранять текущих клиентов дешевле, чем привлекать новых.\n",
    "\n",
    "Нужно спрогнозировать, уйдёт клиент из банка в ближайшее время или нет. Вам предоставлены исторические данные о поведении клиентов и расторжении договоров с банком. \n",
    "\n",
    "Постройте модель с предельно большим значением *F1*-меры. Чтобы сдать проект успешно, нужно довести метрику до 0.59. Проверьте *F1*-меру на тестовой выборке самостоятельно.\n",
    "\n",
    "Дополнительно измеряйте *AUC-ROC*, сравнивайте её значение с *F1*-мерой.\n",
    "\n",
    "Источник данных: [https://www.kaggle.com/barelydedicated/bank-customer-churn-modeling](https://www.kaggle.com/barelydedicated/bank-customer-churn-modeling)"
   ]
  },
  {
   "cell_type": "markdown",
   "metadata": {},
   "source": [
    "Признаки\n",
    "- RowNumber — индекс строки в данных\n",
    "- CustomerId — уникальный идентификатор клиента\n",
    "- Surname — фамилия\n",
    "- CreditScore — кредитный рейтинг\n",
    "- Geography — страна проживания\n",
    "- Gender — пол\n",
    "- Age — возраст\n",
    "- Tenure — сколько лет человек является клиентом банка\n",
    "- Balance — баланс на счёте\n",
    "- NumOfProducts — количество продуктов банка, используемых клиентом\n",
    "- HasCrCard — наличие кредитной карты\n",
    "- IsActiveMember — активность клиента\n",
    "- EstimatedSalary — предполагаемая зарплата\n",
    "\n",
    "Целевой признак\n",
    "\n",
    "- Exited — факт ухода клиента"
   ]
  },
  {
   "cell_type": "markdown",
   "metadata": {},
   "source": [
    "**Постановка целей**\n",
    " - Подготовим данные\n",
    " - Исследуем задачу \n",
    " - Исследуем баланс классов\n",
    " - Изучим модели без учёта дисбаланса\n",
    " - Учтем дисбаланс\n",
    " - Применим несколько способов борьбы с дисбалансом\n",
    " - Проведем тестирование\n",
    " - Достичь F1-меры не менее 0.59\n",
    " - Исследуем метрику AUC-ROC\n",
    " - Выводы по результатам исследования"
   ]
  },
  {
   "cell_type": "markdown",
   "metadata": {},
   "source": [
    "Импортируем необходимые библиотеки"
   ]
  },
  {
   "cell_type": "code",
   "execution_count": 1,
   "metadata": {},
   "outputs": [],
   "source": [
    "import pandas as pd\n",
    "import numpy as np\n",
    "import matplotlib.pyplot as plt\n",
    "from sklearn.preprocessing import StandardScaler\n",
    "from sklearn.tree import DecisionTreeClassifier\n",
    "from sklearn.model_selection import train_test_split\n",
    "from sklearn.metrics import confusion_matrix\n",
    "from sklearn.metrics import recall_score\n",
    "from sklearn.metrics import precision_score\n",
    "from sklearn.metrics import accuracy_score\n",
    "from sklearn.metrics import f1_score\n",
    "from sklearn.metrics import roc_auc_score\n",
    "from sklearn.ensemble import RandomForestClassifier\n",
    "from sklearn.linear_model import LogisticRegression\n",
    "from sklearn.utils import shuffle\n",
    "from sklearn.metrics import precision_recall_curve\n",
    "from sklearn.metrics import roc_curve\n",
    "from sklearn.model_selection import GridSearchCV\n",
    "from sklearn.datasets import make_classification\n",
    "\n",
    "\n",
    "from sklearn import metrics\n",
    "from sklearn.metrics import classification_report\n",
    "from sklearn.pipeline import Pipeline"
   ]
  },
  {
   "cell_type": "code",
   "execution_count": 2,
   "metadata": {},
   "outputs": [],
   "source": [
    "import warnings\n",
    "warnings.filterwarnings('ignore')"
   ]
  },
  {
   "cell_type": "markdown",
   "metadata": {},
   "source": [
    "## Подготовка данных"
   ]
  },
  {
   "cell_type": "markdown",
   "metadata": {},
   "source": [
    "Напишем функцию для получения данных из файла и анализа содержания"
   ]
  },
  {
   "cell_type": "code",
   "execution_count": 3,
   "metadata": {},
   "outputs": [],
   "source": [
    "def get_data(path):\n",
    "    df = pd.read_csv(path)\n",
    "    display(df.info())\n",
    "    display(df.head())\n",
    "    display(df.describe().T)\n",
    "    try: \n",
    "        del df['Unnamed: 0'] #удаление лишнего столбца при наличии\n",
    "    except KeyError:\n",
    "        print('Unnamed: 0 не обнаружено лишних столбцов')\n",
    "        print('')\n",
    "        \n",
    "    print('столбцов: ', len(df.columns), df.columns) \n",
    "        \n",
    "    for i in range(0, len(df.columns)):\n",
    "        print('')\n",
    "        print('уникальные значения столбца ' + str(i) + ' ' + df.columns[i])\n",
    "        print(df.iloc[:,i].unique())\n",
    "        print('')\n",
    "    return df"
   ]
  },
  {
   "cell_type": "markdown",
   "metadata": {},
   "source": [
    "Применим функцию и посмотрим на уникальность значений файлов, типы данных, пропущенные значения"
   ]
  },
  {
   "cell_type": "code",
   "execution_count": 4,
   "metadata": {
    "scrolled": false
   },
   "outputs": [
    {
     "name": "stdout",
     "output_type": "stream",
     "text": [
      "<class 'pandas.core.frame.DataFrame'>\n",
      "RangeIndex: 10000 entries, 0 to 9999\n",
      "Data columns (total 14 columns):\n",
      " #   Column           Non-Null Count  Dtype  \n",
      "---  ------           --------------  -----  \n",
      " 0   RowNumber        10000 non-null  int64  \n",
      " 1   CustomerId       10000 non-null  int64  \n",
      " 2   Surname          10000 non-null  object \n",
      " 3   CreditScore      10000 non-null  int64  \n",
      " 4   Geography        10000 non-null  object \n",
      " 5   Gender           10000 non-null  object \n",
      " 6   Age              10000 non-null  int64  \n",
      " 7   Tenure           9091 non-null   float64\n",
      " 8   Balance          10000 non-null  float64\n",
      " 9   NumOfProducts    10000 non-null  int64  \n",
      " 10  HasCrCard        10000 non-null  int64  \n",
      " 11  IsActiveMember   10000 non-null  int64  \n",
      " 12  EstimatedSalary  10000 non-null  float64\n",
      " 13  Exited           10000 non-null  int64  \n",
      "dtypes: float64(3), int64(8), object(3)\n",
      "memory usage: 1.1+ MB\n"
     ]
    },
    {
     "data": {
      "text/plain": [
       "None"
      ]
     },
     "metadata": {},
     "output_type": "display_data"
    },
    {
     "data": {
      "text/html": [
       "<div>\n",
       "<style scoped>\n",
       "    .dataframe tbody tr th:only-of-type {\n",
       "        vertical-align: middle;\n",
       "    }\n",
       "\n",
       "    .dataframe tbody tr th {\n",
       "        vertical-align: top;\n",
       "    }\n",
       "\n",
       "    .dataframe thead th {\n",
       "        text-align: right;\n",
       "    }\n",
       "</style>\n",
       "<table border=\"1\" class=\"dataframe\">\n",
       "  <thead>\n",
       "    <tr style=\"text-align: right;\">\n",
       "      <th></th>\n",
       "      <th>RowNumber</th>\n",
       "      <th>CustomerId</th>\n",
       "      <th>Surname</th>\n",
       "      <th>CreditScore</th>\n",
       "      <th>Geography</th>\n",
       "      <th>Gender</th>\n",
       "      <th>Age</th>\n",
       "      <th>Tenure</th>\n",
       "      <th>Balance</th>\n",
       "      <th>NumOfProducts</th>\n",
       "      <th>HasCrCard</th>\n",
       "      <th>IsActiveMember</th>\n",
       "      <th>EstimatedSalary</th>\n",
       "      <th>Exited</th>\n",
       "    </tr>\n",
       "  </thead>\n",
       "  <tbody>\n",
       "    <tr>\n",
       "      <th>0</th>\n",
       "      <td>1</td>\n",
       "      <td>15634602</td>\n",
       "      <td>Hargrave</td>\n",
       "      <td>619</td>\n",
       "      <td>France</td>\n",
       "      <td>Female</td>\n",
       "      <td>42</td>\n",
       "      <td>2.0</td>\n",
       "      <td>0.00</td>\n",
       "      <td>1</td>\n",
       "      <td>1</td>\n",
       "      <td>1</td>\n",
       "      <td>101348.88</td>\n",
       "      <td>1</td>\n",
       "    </tr>\n",
       "    <tr>\n",
       "      <th>1</th>\n",
       "      <td>2</td>\n",
       "      <td>15647311</td>\n",
       "      <td>Hill</td>\n",
       "      <td>608</td>\n",
       "      <td>Spain</td>\n",
       "      <td>Female</td>\n",
       "      <td>41</td>\n",
       "      <td>1.0</td>\n",
       "      <td>83807.86</td>\n",
       "      <td>1</td>\n",
       "      <td>0</td>\n",
       "      <td>1</td>\n",
       "      <td>112542.58</td>\n",
       "      <td>0</td>\n",
       "    </tr>\n",
       "    <tr>\n",
       "      <th>2</th>\n",
       "      <td>3</td>\n",
       "      <td>15619304</td>\n",
       "      <td>Onio</td>\n",
       "      <td>502</td>\n",
       "      <td>France</td>\n",
       "      <td>Female</td>\n",
       "      <td>42</td>\n",
       "      <td>8.0</td>\n",
       "      <td>159660.80</td>\n",
       "      <td>3</td>\n",
       "      <td>1</td>\n",
       "      <td>0</td>\n",
       "      <td>113931.57</td>\n",
       "      <td>1</td>\n",
       "    </tr>\n",
       "    <tr>\n",
       "      <th>3</th>\n",
       "      <td>4</td>\n",
       "      <td>15701354</td>\n",
       "      <td>Boni</td>\n",
       "      <td>699</td>\n",
       "      <td>France</td>\n",
       "      <td>Female</td>\n",
       "      <td>39</td>\n",
       "      <td>1.0</td>\n",
       "      <td>0.00</td>\n",
       "      <td>2</td>\n",
       "      <td>0</td>\n",
       "      <td>0</td>\n",
       "      <td>93826.63</td>\n",
       "      <td>0</td>\n",
       "    </tr>\n",
       "    <tr>\n",
       "      <th>4</th>\n",
       "      <td>5</td>\n",
       "      <td>15737888</td>\n",
       "      <td>Mitchell</td>\n",
       "      <td>850</td>\n",
       "      <td>Spain</td>\n",
       "      <td>Female</td>\n",
       "      <td>43</td>\n",
       "      <td>2.0</td>\n",
       "      <td>125510.82</td>\n",
       "      <td>1</td>\n",
       "      <td>1</td>\n",
       "      <td>1</td>\n",
       "      <td>79084.10</td>\n",
       "      <td>0</td>\n",
       "    </tr>\n",
       "  </tbody>\n",
       "</table>\n",
       "</div>"
      ],
      "text/plain": [
       "   RowNumber  CustomerId   Surname  CreditScore Geography  Gender  Age  \\\n",
       "0          1    15634602  Hargrave          619    France  Female   42   \n",
       "1          2    15647311      Hill          608     Spain  Female   41   \n",
       "2          3    15619304      Onio          502    France  Female   42   \n",
       "3          4    15701354      Boni          699    France  Female   39   \n",
       "4          5    15737888  Mitchell          850     Spain  Female   43   \n",
       "\n",
       "   Tenure    Balance  NumOfProducts  HasCrCard  IsActiveMember  \\\n",
       "0     2.0       0.00              1          1               1   \n",
       "1     1.0   83807.86              1          0               1   \n",
       "2     8.0  159660.80              3          1               0   \n",
       "3     1.0       0.00              2          0               0   \n",
       "4     2.0  125510.82              1          1               1   \n",
       "\n",
       "   EstimatedSalary  Exited  \n",
       "0        101348.88       1  \n",
       "1        112542.58       0  \n",
       "2        113931.57       1  \n",
       "3         93826.63       0  \n",
       "4         79084.10       0  "
      ]
     },
     "metadata": {},
     "output_type": "display_data"
    },
    {
     "data": {
      "text/html": [
       "<div>\n",
       "<style scoped>\n",
       "    .dataframe tbody tr th:only-of-type {\n",
       "        vertical-align: middle;\n",
       "    }\n",
       "\n",
       "    .dataframe tbody tr th {\n",
       "        vertical-align: top;\n",
       "    }\n",
       "\n",
       "    .dataframe thead th {\n",
       "        text-align: right;\n",
       "    }\n",
       "</style>\n",
       "<table border=\"1\" class=\"dataframe\">\n",
       "  <thead>\n",
       "    <tr style=\"text-align: right;\">\n",
       "      <th></th>\n",
       "      <th>count</th>\n",
       "      <th>mean</th>\n",
       "      <th>std</th>\n",
       "      <th>min</th>\n",
       "      <th>25%</th>\n",
       "      <th>50%</th>\n",
       "      <th>75%</th>\n",
       "      <th>max</th>\n",
       "    </tr>\n",
       "  </thead>\n",
       "  <tbody>\n",
       "    <tr>\n",
       "      <th>RowNumber</th>\n",
       "      <td>10000.0</td>\n",
       "      <td>5.000500e+03</td>\n",
       "      <td>2886.895680</td>\n",
       "      <td>1.00</td>\n",
       "      <td>2500.75</td>\n",
       "      <td>5.000500e+03</td>\n",
       "      <td>7.500250e+03</td>\n",
       "      <td>10000.00</td>\n",
       "    </tr>\n",
       "    <tr>\n",
       "      <th>CustomerId</th>\n",
       "      <td>10000.0</td>\n",
       "      <td>1.569094e+07</td>\n",
       "      <td>71936.186123</td>\n",
       "      <td>15565701.00</td>\n",
       "      <td>15628528.25</td>\n",
       "      <td>1.569074e+07</td>\n",
       "      <td>1.575323e+07</td>\n",
       "      <td>15815690.00</td>\n",
       "    </tr>\n",
       "    <tr>\n",
       "      <th>CreditScore</th>\n",
       "      <td>10000.0</td>\n",
       "      <td>6.505288e+02</td>\n",
       "      <td>96.653299</td>\n",
       "      <td>350.00</td>\n",
       "      <td>584.00</td>\n",
       "      <td>6.520000e+02</td>\n",
       "      <td>7.180000e+02</td>\n",
       "      <td>850.00</td>\n",
       "    </tr>\n",
       "    <tr>\n",
       "      <th>Age</th>\n",
       "      <td>10000.0</td>\n",
       "      <td>3.892180e+01</td>\n",
       "      <td>10.487806</td>\n",
       "      <td>18.00</td>\n",
       "      <td>32.00</td>\n",
       "      <td>3.700000e+01</td>\n",
       "      <td>4.400000e+01</td>\n",
       "      <td>92.00</td>\n",
       "    </tr>\n",
       "    <tr>\n",
       "      <th>Tenure</th>\n",
       "      <td>9091.0</td>\n",
       "      <td>4.997690e+00</td>\n",
       "      <td>2.894723</td>\n",
       "      <td>0.00</td>\n",
       "      <td>2.00</td>\n",
       "      <td>5.000000e+00</td>\n",
       "      <td>7.000000e+00</td>\n",
       "      <td>10.00</td>\n",
       "    </tr>\n",
       "    <tr>\n",
       "      <th>Balance</th>\n",
       "      <td>10000.0</td>\n",
       "      <td>7.648589e+04</td>\n",
       "      <td>62397.405202</td>\n",
       "      <td>0.00</td>\n",
       "      <td>0.00</td>\n",
       "      <td>9.719854e+04</td>\n",
       "      <td>1.276442e+05</td>\n",
       "      <td>250898.09</td>\n",
       "    </tr>\n",
       "    <tr>\n",
       "      <th>NumOfProducts</th>\n",
       "      <td>10000.0</td>\n",
       "      <td>1.530200e+00</td>\n",
       "      <td>0.581654</td>\n",
       "      <td>1.00</td>\n",
       "      <td>1.00</td>\n",
       "      <td>1.000000e+00</td>\n",
       "      <td>2.000000e+00</td>\n",
       "      <td>4.00</td>\n",
       "    </tr>\n",
       "    <tr>\n",
       "      <th>HasCrCard</th>\n",
       "      <td>10000.0</td>\n",
       "      <td>7.055000e-01</td>\n",
       "      <td>0.455840</td>\n",
       "      <td>0.00</td>\n",
       "      <td>0.00</td>\n",
       "      <td>1.000000e+00</td>\n",
       "      <td>1.000000e+00</td>\n",
       "      <td>1.00</td>\n",
       "    </tr>\n",
       "    <tr>\n",
       "      <th>IsActiveMember</th>\n",
       "      <td>10000.0</td>\n",
       "      <td>5.151000e-01</td>\n",
       "      <td>0.499797</td>\n",
       "      <td>0.00</td>\n",
       "      <td>0.00</td>\n",
       "      <td>1.000000e+00</td>\n",
       "      <td>1.000000e+00</td>\n",
       "      <td>1.00</td>\n",
       "    </tr>\n",
       "    <tr>\n",
       "      <th>EstimatedSalary</th>\n",
       "      <td>10000.0</td>\n",
       "      <td>1.000902e+05</td>\n",
       "      <td>57510.492818</td>\n",
       "      <td>11.58</td>\n",
       "      <td>51002.11</td>\n",
       "      <td>1.001939e+05</td>\n",
       "      <td>1.493882e+05</td>\n",
       "      <td>199992.48</td>\n",
       "    </tr>\n",
       "    <tr>\n",
       "      <th>Exited</th>\n",
       "      <td>10000.0</td>\n",
       "      <td>2.037000e-01</td>\n",
       "      <td>0.402769</td>\n",
       "      <td>0.00</td>\n",
       "      <td>0.00</td>\n",
       "      <td>0.000000e+00</td>\n",
       "      <td>0.000000e+00</td>\n",
       "      <td>1.00</td>\n",
       "    </tr>\n",
       "  </tbody>\n",
       "</table>\n",
       "</div>"
      ],
      "text/plain": [
       "                   count          mean           std          min  \\\n",
       "RowNumber        10000.0  5.000500e+03   2886.895680         1.00   \n",
       "CustomerId       10000.0  1.569094e+07  71936.186123  15565701.00   \n",
       "CreditScore      10000.0  6.505288e+02     96.653299       350.00   \n",
       "Age              10000.0  3.892180e+01     10.487806        18.00   \n",
       "Tenure            9091.0  4.997690e+00      2.894723         0.00   \n",
       "Balance          10000.0  7.648589e+04  62397.405202         0.00   \n",
       "NumOfProducts    10000.0  1.530200e+00      0.581654         1.00   \n",
       "HasCrCard        10000.0  7.055000e-01      0.455840         0.00   \n",
       "IsActiveMember   10000.0  5.151000e-01      0.499797         0.00   \n",
       "EstimatedSalary  10000.0  1.000902e+05  57510.492818        11.58   \n",
       "Exited           10000.0  2.037000e-01      0.402769         0.00   \n",
       "\n",
       "                         25%           50%           75%          max  \n",
       "RowNumber            2500.75  5.000500e+03  7.500250e+03     10000.00  \n",
       "CustomerId       15628528.25  1.569074e+07  1.575323e+07  15815690.00  \n",
       "CreditScore           584.00  6.520000e+02  7.180000e+02       850.00  \n",
       "Age                    32.00  3.700000e+01  4.400000e+01        92.00  \n",
       "Tenure                  2.00  5.000000e+00  7.000000e+00        10.00  \n",
       "Balance                 0.00  9.719854e+04  1.276442e+05    250898.09  \n",
       "NumOfProducts           1.00  1.000000e+00  2.000000e+00         4.00  \n",
       "HasCrCard               0.00  1.000000e+00  1.000000e+00         1.00  \n",
       "IsActiveMember          0.00  1.000000e+00  1.000000e+00         1.00  \n",
       "EstimatedSalary     51002.11  1.001939e+05  1.493882e+05    199992.48  \n",
       "Exited                  0.00  0.000000e+00  0.000000e+00         1.00  "
      ]
     },
     "metadata": {},
     "output_type": "display_data"
    },
    {
     "name": "stdout",
     "output_type": "stream",
     "text": [
      "Unnamed: 0 не обнаружено лишних столбцов\n",
      "\n",
      "столбцов:  14 Index(['RowNumber', 'CustomerId', 'Surname', 'CreditScore', 'Geography',\n",
      "       'Gender', 'Age', 'Tenure', 'Balance', 'NumOfProducts', 'HasCrCard',\n",
      "       'IsActiveMember', 'EstimatedSalary', 'Exited'],\n",
      "      dtype='object')\n",
      "\n",
      "уникальные значения столбца 0 RowNumber\n",
      "[    1     2     3 ...  9998  9999 10000]\n",
      "\n",
      "\n",
      "уникальные значения столбца 1 CustomerId\n",
      "[15634602 15647311 15619304 ... 15584532 15682355 15628319]\n",
      "\n",
      "\n",
      "уникальные значения столбца 2 Surname\n",
      "['Hargrave' 'Hill' 'Onio' ... 'Kashiwagi' 'Aldridge' 'Burbidge']\n",
      "\n",
      "\n",
      "уникальные значения столбца 3 CreditScore\n",
      "[619 608 502 699 850 645 822 376 501 684 528 497 476 549 635 616 653 587\n",
      " 726 732 636 510 669 846 577 756 571 574 411 591 533 553 520 722 475 490\n",
      " 804 582 472 465 556 834 660 776 829 637 550 698 585 788 655 601 656 725\n",
      " 511 614 742 687 555 603 751 581 735 661 675 738 813 657 604 519 664 678\n",
      " 757 416 665 777 543 506 493 652 750 729 646 647 808 524 769 730 515 773\n",
      " 814 710 413 623 670 622 785 605 479 685 538 562 721 628 668 828 674 625\n",
      " 432 770 758 795 686 789 589 461 584 579 663 682 793 691 485 650 754 535\n",
      " 716 539 706 586 631 717 800 683 704 615 667 484 480 578 512 606 597 778\n",
      " 514 525 715 580 807 521 759 516 711 618 643 671 689 620 676 572 695 592\n",
      " 567 694 547 594 673 610 767 763 712 703 662 659 523 772 545 634 739 771\n",
      " 681 544 696 766 727 693 557 531 498 651 791 733 811 707 714 782 775 799\n",
      " 602 744 588 747 583 627 731 629 438 642 806 474 559 429 680 749 734 644\n",
      " 626 649 805 718 840 630 654 762 568 613 522 737 648 443 640 540 460 593\n",
      " 801 611 802 745 483 690 492 709 705 560 752 701 537 487 596 702 486 724\n",
      " 548 464 790 534 748 494 590 468 509 818 816 536 753 774 621 569 658 798\n",
      " 641 542 692 639 765 570 638 599 632 779 527 564 833 504 842 508 417 598\n",
      " 741 607 761 848 546 439 755 760 526 713 700 666 566 495 688 612 477 427\n",
      " 839 819 720 459 503 624 529 563 482 796 445 746 786 554 672 787 499 844\n",
      " 450 815 838 803 736 633 600 679 517 792 743 488 421 841 708 507 505 456\n",
      " 435 561 518 565 728 784 552 609 764 697 723 551 444 719 496 541 830 812\n",
      " 677 420 595 617 809 500 826 434 513 478 797 363 399 463 780 452 575 837\n",
      " 794 824 428 823 781 849 489 431 457 768 831 359 820 573 576 558 817 449\n",
      " 440 415 821 530 350 446 425 740 481 783 358 845 451 458 469 423 404 836\n",
      " 473 835 466 491 351 827 843 365 532 414 453 471 401 810 832 470 447 422\n",
      " 825 430 436 426 408 847 418 437 410 454 407 455 462 386 405 383 395 467\n",
      " 433 442 424 448 441 367 412 382 373 419]\n",
      "\n",
      "\n",
      "уникальные значения столбца 4 Geography\n",
      "['France' 'Spain' 'Germany']\n",
      "\n",
      "\n",
      "уникальные значения столбца 5 Gender\n",
      "['Female' 'Male']\n",
      "\n",
      "\n",
      "уникальные значения столбца 6 Age\n",
      "[42 41 39 43 44 50 29 27 31 24 34 25 35 45 58 32 38 46 36 33 40 51 61 49\n",
      " 37 19 66 56 26 21 55 75 22 30 28 65 48 52 57 73 47 54 72 20 67 79 62 53\n",
      " 80 59 68 23 60 70 63 64 18 82 69 74 71 76 77 88 85 84 78 81 92 83]\n",
      "\n",
      "\n",
      "уникальные значения столбца 7 Tenure\n",
      "[ 2.  1.  8.  7.  4.  6.  3. 10.  5.  9.  0. nan]\n",
      "\n",
      "\n",
      "уникальные значения столбца 8 Balance\n",
      "[     0.    83807.86 159660.8  ...  57369.61  75075.31 130142.79]\n",
      "\n",
      "\n",
      "уникальные значения столбца 9 NumOfProducts\n",
      "[1 3 2 4]\n",
      "\n",
      "\n",
      "уникальные значения столбца 10 HasCrCard\n",
      "[1 0]\n",
      "\n",
      "\n",
      "уникальные значения столбца 11 IsActiveMember\n",
      "[1 0]\n",
      "\n",
      "\n",
      "уникальные значения столбца 12 EstimatedSalary\n",
      "[101348.88 112542.58 113931.57 ...  42085.58  92888.52  38190.78]\n",
      "\n",
      "\n",
      "уникальные значения столбца 13 Exited\n",
      "[1 0]\n",
      "\n"
     ]
    }
   ],
   "source": [
    "df = get_data('/datasets/Churn.csv')"
   ]
  },
  {
   "cell_type": "markdown",
   "metadata": {},
   "source": [
    "Преобразуем названия столбцов"
   ]
  },
  {
   "cell_type": "code",
   "execution_count": 5,
   "metadata": {},
   "outputs": [
    {
     "data": {
      "text/html": [
       "<div>\n",
       "<style scoped>\n",
       "    .dataframe tbody tr th:only-of-type {\n",
       "        vertical-align: middle;\n",
       "    }\n",
       "\n",
       "    .dataframe tbody tr th {\n",
       "        vertical-align: top;\n",
       "    }\n",
       "\n",
       "    .dataframe thead th {\n",
       "        text-align: right;\n",
       "    }\n",
       "</style>\n",
       "<table border=\"1\" class=\"dataframe\">\n",
       "  <thead>\n",
       "    <tr style=\"text-align: right;\">\n",
       "      <th></th>\n",
       "      <th>row_number</th>\n",
       "      <th>customer_id</th>\n",
       "      <th>surname</th>\n",
       "      <th>credit_score</th>\n",
       "      <th>geography</th>\n",
       "      <th>gender</th>\n",
       "      <th>age</th>\n",
       "      <th>tenure</th>\n",
       "      <th>balance</th>\n",
       "      <th>num_of_products</th>\n",
       "      <th>has_cr_card</th>\n",
       "      <th>is_active_member</th>\n",
       "      <th>estimated_salary</th>\n",
       "      <th>exited</th>\n",
       "    </tr>\n",
       "  </thead>\n",
       "  <tbody>\n",
       "    <tr>\n",
       "      <th>0</th>\n",
       "      <td>1</td>\n",
       "      <td>15634602</td>\n",
       "      <td>Hargrave</td>\n",
       "      <td>619</td>\n",
       "      <td>France</td>\n",
       "      <td>Female</td>\n",
       "      <td>42</td>\n",
       "      <td>2.0</td>\n",
       "      <td>0.00</td>\n",
       "      <td>1</td>\n",
       "      <td>1</td>\n",
       "      <td>1</td>\n",
       "      <td>101348.88</td>\n",
       "      <td>1</td>\n",
       "    </tr>\n",
       "    <tr>\n",
       "      <th>1</th>\n",
       "      <td>2</td>\n",
       "      <td>15647311</td>\n",
       "      <td>Hill</td>\n",
       "      <td>608</td>\n",
       "      <td>Spain</td>\n",
       "      <td>Female</td>\n",
       "      <td>41</td>\n",
       "      <td>1.0</td>\n",
       "      <td>83807.86</td>\n",
       "      <td>1</td>\n",
       "      <td>0</td>\n",
       "      <td>1</td>\n",
       "      <td>112542.58</td>\n",
       "      <td>0</td>\n",
       "    </tr>\n",
       "    <tr>\n",
       "      <th>2</th>\n",
       "      <td>3</td>\n",
       "      <td>15619304</td>\n",
       "      <td>Onio</td>\n",
       "      <td>502</td>\n",
       "      <td>France</td>\n",
       "      <td>Female</td>\n",
       "      <td>42</td>\n",
       "      <td>8.0</td>\n",
       "      <td>159660.80</td>\n",
       "      <td>3</td>\n",
       "      <td>1</td>\n",
       "      <td>0</td>\n",
       "      <td>113931.57</td>\n",
       "      <td>1</td>\n",
       "    </tr>\n",
       "    <tr>\n",
       "      <th>3</th>\n",
       "      <td>4</td>\n",
       "      <td>15701354</td>\n",
       "      <td>Boni</td>\n",
       "      <td>699</td>\n",
       "      <td>France</td>\n",
       "      <td>Female</td>\n",
       "      <td>39</td>\n",
       "      <td>1.0</td>\n",
       "      <td>0.00</td>\n",
       "      <td>2</td>\n",
       "      <td>0</td>\n",
       "      <td>0</td>\n",
       "      <td>93826.63</td>\n",
       "      <td>0</td>\n",
       "    </tr>\n",
       "    <tr>\n",
       "      <th>4</th>\n",
       "      <td>5</td>\n",
       "      <td>15737888</td>\n",
       "      <td>Mitchell</td>\n",
       "      <td>850</td>\n",
       "      <td>Spain</td>\n",
       "      <td>Female</td>\n",
       "      <td>43</td>\n",
       "      <td>2.0</td>\n",
       "      <td>125510.82</td>\n",
       "      <td>1</td>\n",
       "      <td>1</td>\n",
       "      <td>1</td>\n",
       "      <td>79084.10</td>\n",
       "      <td>0</td>\n",
       "    </tr>\n",
       "  </tbody>\n",
       "</table>\n",
       "</div>"
      ],
      "text/plain": [
       "   row_number  customer_id   surname  credit_score geography  gender  age  \\\n",
       "0           1     15634602  Hargrave           619    France  Female   42   \n",
       "1           2     15647311      Hill           608     Spain  Female   41   \n",
       "2           3     15619304      Onio           502    France  Female   42   \n",
       "3           4     15701354      Boni           699    France  Female   39   \n",
       "4           5     15737888  Mitchell           850     Spain  Female   43   \n",
       "\n",
       "   tenure    balance  num_of_products  has_cr_card  is_active_member  \\\n",
       "0     2.0       0.00                1            1                 1   \n",
       "1     1.0   83807.86                1            0                 1   \n",
       "2     8.0  159660.80                3            1                 0   \n",
       "3     1.0       0.00                2            0                 0   \n",
       "4     2.0  125510.82                1            1                 1   \n",
       "\n",
       "   estimated_salary  exited  \n",
       "0         101348.88       1  \n",
       "1         112542.58       0  \n",
       "2         113931.57       1  \n",
       "3          93826.63       0  \n",
       "4          79084.10       0  "
      ]
     },
     "execution_count": 5,
     "metadata": {},
     "output_type": "execute_result"
    }
   ],
   "source": [
    "df.columns = (['row_number', 'customer_id', 'surname', 'credit_score', 'geography', 'gender', \n",
    "               'age', 'tenure', 'balance', 'num_of_products', 'has_cr_card', 'is_active_member', \n",
    "               'estimated_salary', 'exited'])\n",
    "df.head()"
   ]
  },
  {
   "cell_type": "markdown",
   "metadata": {},
   "source": [
    "Проверим наличие дубликатов"
   ]
  },
  {
   "cell_type": "code",
   "execution_count": 6,
   "metadata": {},
   "outputs": [
    {
     "data": {
      "text/plain": [
       "0"
      ]
     },
     "execution_count": 6,
     "metadata": {},
     "output_type": "execute_result"
    }
   ],
   "source": [
    "df.duplicated().sum()"
   ]
  },
  {
   "cell_type": "markdown",
   "metadata": {},
   "source": [
    "Проверим клиентов с пропусками столбца tenure (сколько лет человек является клиентом банка)"
   ]
  },
  {
   "cell_type": "code",
   "execution_count": 7,
   "metadata": {},
   "outputs": [
    {
     "data": {
      "text/html": [
       "<div>\n",
       "<style scoped>\n",
       "    .dataframe tbody tr th:only-of-type {\n",
       "        vertical-align: middle;\n",
       "    }\n",
       "\n",
       "    .dataframe tbody tr th {\n",
       "        vertical-align: top;\n",
       "    }\n",
       "\n",
       "    .dataframe thead th {\n",
       "        text-align: right;\n",
       "    }\n",
       "</style>\n",
       "<table border=\"1\" class=\"dataframe\">\n",
       "  <thead>\n",
       "    <tr style=\"text-align: right;\">\n",
       "      <th></th>\n",
       "      <th>row_number</th>\n",
       "      <th>customer_id</th>\n",
       "      <th>surname</th>\n",
       "      <th>credit_score</th>\n",
       "      <th>geography</th>\n",
       "      <th>gender</th>\n",
       "      <th>age</th>\n",
       "      <th>tenure</th>\n",
       "      <th>balance</th>\n",
       "      <th>num_of_products</th>\n",
       "      <th>has_cr_card</th>\n",
       "      <th>is_active_member</th>\n",
       "      <th>estimated_salary</th>\n",
       "      <th>exited</th>\n",
       "    </tr>\n",
       "  </thead>\n",
       "  <tbody>\n",
       "    <tr>\n",
       "      <th>30</th>\n",
       "      <td>31</td>\n",
       "      <td>15589475</td>\n",
       "      <td>Azikiwe</td>\n",
       "      <td>591</td>\n",
       "      <td>Spain</td>\n",
       "      <td>Female</td>\n",
       "      <td>39</td>\n",
       "      <td>NaN</td>\n",
       "      <td>0.00</td>\n",
       "      <td>3</td>\n",
       "      <td>1</td>\n",
       "      <td>0</td>\n",
       "      <td>140469.38</td>\n",
       "      <td>1</td>\n",
       "    </tr>\n",
       "    <tr>\n",
       "      <th>48</th>\n",
       "      <td>49</td>\n",
       "      <td>15766205</td>\n",
       "      <td>Yin</td>\n",
       "      <td>550</td>\n",
       "      <td>Germany</td>\n",
       "      <td>Male</td>\n",
       "      <td>38</td>\n",
       "      <td>NaN</td>\n",
       "      <td>103391.38</td>\n",
       "      <td>1</td>\n",
       "      <td>0</td>\n",
       "      <td>1</td>\n",
       "      <td>90878.13</td>\n",
       "      <td>0</td>\n",
       "    </tr>\n",
       "    <tr>\n",
       "      <th>51</th>\n",
       "      <td>52</td>\n",
       "      <td>15768193</td>\n",
       "      <td>Trevisani</td>\n",
       "      <td>585</td>\n",
       "      <td>Germany</td>\n",
       "      <td>Male</td>\n",
       "      <td>36</td>\n",
       "      <td>NaN</td>\n",
       "      <td>146050.97</td>\n",
       "      <td>2</td>\n",
       "      <td>0</td>\n",
       "      <td>0</td>\n",
       "      <td>86424.57</td>\n",
       "      <td>0</td>\n",
       "    </tr>\n",
       "    <tr>\n",
       "      <th>53</th>\n",
       "      <td>54</td>\n",
       "      <td>15702298</td>\n",
       "      <td>Parkhill</td>\n",
       "      <td>655</td>\n",
       "      <td>Germany</td>\n",
       "      <td>Male</td>\n",
       "      <td>41</td>\n",
       "      <td>NaN</td>\n",
       "      <td>125561.97</td>\n",
       "      <td>1</td>\n",
       "      <td>0</td>\n",
       "      <td>0</td>\n",
       "      <td>164040.94</td>\n",
       "      <td>1</td>\n",
       "    </tr>\n",
       "    <tr>\n",
       "      <th>60</th>\n",
       "      <td>61</td>\n",
       "      <td>15651280</td>\n",
       "      <td>Hunter</td>\n",
       "      <td>742</td>\n",
       "      <td>Germany</td>\n",
       "      <td>Male</td>\n",
       "      <td>35</td>\n",
       "      <td>NaN</td>\n",
       "      <td>136857.00</td>\n",
       "      <td>1</td>\n",
       "      <td>0</td>\n",
       "      <td>0</td>\n",
       "      <td>84509.57</td>\n",
       "      <td>0</td>\n",
       "    </tr>\n",
       "    <tr>\n",
       "      <th>...</th>\n",
       "      <td>...</td>\n",
       "      <td>...</td>\n",
       "      <td>...</td>\n",
       "      <td>...</td>\n",
       "      <td>...</td>\n",
       "      <td>...</td>\n",
       "      <td>...</td>\n",
       "      <td>...</td>\n",
       "      <td>...</td>\n",
       "      <td>...</td>\n",
       "      <td>...</td>\n",
       "      <td>...</td>\n",
       "      <td>...</td>\n",
       "      <td>...</td>\n",
       "    </tr>\n",
       "    <tr>\n",
       "      <th>9944</th>\n",
       "      <td>9945</td>\n",
       "      <td>15703923</td>\n",
       "      <td>Cameron</td>\n",
       "      <td>744</td>\n",
       "      <td>Germany</td>\n",
       "      <td>Male</td>\n",
       "      <td>41</td>\n",
       "      <td>NaN</td>\n",
       "      <td>190409.34</td>\n",
       "      <td>2</td>\n",
       "      <td>1</td>\n",
       "      <td>1</td>\n",
       "      <td>138361.48</td>\n",
       "      <td>0</td>\n",
       "    </tr>\n",
       "    <tr>\n",
       "      <th>9956</th>\n",
       "      <td>9957</td>\n",
       "      <td>15707861</td>\n",
       "      <td>Nucci</td>\n",
       "      <td>520</td>\n",
       "      <td>France</td>\n",
       "      <td>Female</td>\n",
       "      <td>46</td>\n",
       "      <td>NaN</td>\n",
       "      <td>85216.61</td>\n",
       "      <td>1</td>\n",
       "      <td>1</td>\n",
       "      <td>0</td>\n",
       "      <td>117369.52</td>\n",
       "      <td>1</td>\n",
       "    </tr>\n",
       "    <tr>\n",
       "      <th>9964</th>\n",
       "      <td>9965</td>\n",
       "      <td>15642785</td>\n",
       "      <td>Douglas</td>\n",
       "      <td>479</td>\n",
       "      <td>France</td>\n",
       "      <td>Male</td>\n",
       "      <td>34</td>\n",
       "      <td>NaN</td>\n",
       "      <td>117593.48</td>\n",
       "      <td>2</td>\n",
       "      <td>0</td>\n",
       "      <td>0</td>\n",
       "      <td>113308.29</td>\n",
       "      <td>0</td>\n",
       "    </tr>\n",
       "    <tr>\n",
       "      <th>9985</th>\n",
       "      <td>9986</td>\n",
       "      <td>15586914</td>\n",
       "      <td>Nepean</td>\n",
       "      <td>659</td>\n",
       "      <td>France</td>\n",
       "      <td>Male</td>\n",
       "      <td>36</td>\n",
       "      <td>NaN</td>\n",
       "      <td>123841.49</td>\n",
       "      <td>2</td>\n",
       "      <td>1</td>\n",
       "      <td>0</td>\n",
       "      <td>96833.00</td>\n",
       "      <td>0</td>\n",
       "    </tr>\n",
       "    <tr>\n",
       "      <th>9999</th>\n",
       "      <td>10000</td>\n",
       "      <td>15628319</td>\n",
       "      <td>Walker</td>\n",
       "      <td>792</td>\n",
       "      <td>France</td>\n",
       "      <td>Female</td>\n",
       "      <td>28</td>\n",
       "      <td>NaN</td>\n",
       "      <td>130142.79</td>\n",
       "      <td>1</td>\n",
       "      <td>1</td>\n",
       "      <td>0</td>\n",
       "      <td>38190.78</td>\n",
       "      <td>0</td>\n",
       "    </tr>\n",
       "  </tbody>\n",
       "</table>\n",
       "<p>909 rows × 14 columns</p>\n",
       "</div>"
      ],
      "text/plain": [
       "      row_number  customer_id    surname  credit_score geography  gender  age  \\\n",
       "30            31     15589475    Azikiwe           591     Spain  Female   39   \n",
       "48            49     15766205        Yin           550   Germany    Male   38   \n",
       "51            52     15768193  Trevisani           585   Germany    Male   36   \n",
       "53            54     15702298   Parkhill           655   Germany    Male   41   \n",
       "60            61     15651280     Hunter           742   Germany    Male   35   \n",
       "...          ...          ...        ...           ...       ...     ...  ...   \n",
       "9944        9945     15703923    Cameron           744   Germany    Male   41   \n",
       "9956        9957     15707861      Nucci           520    France  Female   46   \n",
       "9964        9965     15642785    Douglas           479    France    Male   34   \n",
       "9985        9986     15586914     Nepean           659    France    Male   36   \n",
       "9999       10000     15628319     Walker           792    France  Female   28   \n",
       "\n",
       "      tenure    balance  num_of_products  has_cr_card  is_active_member  \\\n",
       "30       NaN       0.00                3            1                 0   \n",
       "48       NaN  103391.38                1            0                 1   \n",
       "51       NaN  146050.97                2            0                 0   \n",
       "53       NaN  125561.97                1            0                 0   \n",
       "60       NaN  136857.00                1            0                 0   \n",
       "...      ...        ...              ...          ...               ...   \n",
       "9944     NaN  190409.34                2            1                 1   \n",
       "9956     NaN   85216.61                1            1                 0   \n",
       "9964     NaN  117593.48                2            0                 0   \n",
       "9985     NaN  123841.49                2            1                 0   \n",
       "9999     NaN  130142.79                1            1                 0   \n",
       "\n",
       "      estimated_salary  exited  \n",
       "30           140469.38       1  \n",
       "48            90878.13       0  \n",
       "51            86424.57       0  \n",
       "53           164040.94       1  \n",
       "60            84509.57       0  \n",
       "...                ...     ...  \n",
       "9944         138361.48       0  \n",
       "9956         117369.52       1  \n",
       "9964         113308.29       0  \n",
       "9985          96833.00       0  \n",
       "9999          38190.78       0  \n",
       "\n",
       "[909 rows x 14 columns]"
      ]
     },
     "execution_count": 7,
     "metadata": {},
     "output_type": "execute_result"
    }
   ],
   "source": [
    "df[df['tenure'].isna()]"
   ]
  },
  {
   "cell_type": "markdown",
   "metadata": {},
   "source": [
    "Проверим распределение клиентов по количеству лет обслуживания в банке"
   ]
  },
  {
   "cell_type": "code",
   "execution_count": 8,
   "metadata": {},
   "outputs": [
    {
     "data": {
      "text/plain": [
       "1.0     952\n",
       "2.0     950\n",
       "8.0     933\n",
       "3.0     928\n",
       "5.0     927\n",
       "7.0     925\n",
       "4.0     885\n",
       "9.0     882\n",
       "6.0     881\n",
       "10.0    446\n",
       "0.0     382\n",
       "Name: tenure, dtype: int64"
      ]
     },
     "execution_count": 8,
     "metadata": {},
     "output_type": "execute_result"
    }
   ],
   "source": [
    "df['tenure'].value_counts()"
   ]
  },
  {
   "cell_type": "code",
   "execution_count": 9,
   "metadata": {
    "scrolled": true
   },
   "outputs": [
    {
     "data": {
      "image/png": "[encoded data removed]",
      "text/plain": [
       "<Figure size 432x288 with 1 Axes>"
      ]
     },
     "metadata": {
      "needs_background": "light"
     },
     "output_type": "display_data"
    }
   ],
   "source": [
    "ax = df.plot(\n",
    "    kind='hist',\n",
    "    y='tenure',\n",
    "    bins=11,\n",
    "    label='Гистограмма количества лет обслуживания',\n",
    "    grid=True,\n",
    "    legend=True\n",
    ")\n",
    "#Добавляем подписи к осям:\n",
    "ax.set_xlabel('Лет, год')\n",
    "ax.set_ylabel('Частота, объектов')\n",
    "plt.show()"
   ]
  },
  {
   "cell_type": "markdown",
   "metadata": {},
   "source": [
    "Количество пропущенных значений"
   ]
  },
  {
   "cell_type": "code",
   "execution_count": 10,
   "metadata": {},
   "outputs": [
    {
     "data": {
      "text/plain": [
       "909"
      ]
     },
     "execution_count": 10,
     "metadata": {},
     "output_type": "execute_result"
    }
   ],
   "source": [
    "df['tenure'].isna().sum()"
   ]
  },
  {
   "cell_type": "markdown",
   "metadata": {},
   "source": [
    "При замене на медианные значения получим существенные выбросы, удалим пропуски и изменим тип данных"
   ]
  },
  {
   "cell_type": "code",
   "execution_count": 11,
   "metadata": {},
   "outputs": [
    {
     "name": "stdout",
     "output_type": "stream",
     "text": [
      "<class 'pandas.core.frame.DataFrame'>\n",
      "RangeIndex: 10000 entries, 0 to 9999\n",
      "Data columns (total 14 columns):\n",
      " #   Column            Non-Null Count  Dtype  \n",
      "---  ------            --------------  -----  \n",
      " 0   row_number        10000 non-null  int64  \n",
      " 1   customer_id       10000 non-null  int64  \n",
      " 2   surname           10000 non-null  object \n",
      " 3   credit_score      10000 non-null  int64  \n",
      " 4   geography         10000 non-null  object \n",
      " 5   gender            10000 non-null  object \n",
      " 6   age               10000 non-null  int64  \n",
      " 7   tenure            9091 non-null   float64\n",
      " 8   balance           10000 non-null  float64\n",
      " 9   num_of_products   10000 non-null  int64  \n",
      " 10  has_cr_card       10000 non-null  int64  \n",
      " 11  is_active_member  10000 non-null  int64  \n",
      " 12  estimated_salary  10000 non-null  float64\n",
      " 13  exited            10000 non-null  int64  \n",
      "dtypes: float64(3), int64(8), object(3)\n",
      "memory usage: 1.1+ MB\n"
     ]
    }
   ],
   "source": [
    "df.info()\n",
    "df = df.dropna()"
   ]
  },
  {
   "cell_type": "code",
   "execution_count": 12,
   "metadata": {},
   "outputs": [
    {
     "name": "stdout",
     "output_type": "stream",
     "text": [
      "<class 'pandas.core.frame.DataFrame'>\n",
      "Int64Index: 9091 entries, 0 to 9998\n",
      "Data columns (total 14 columns):\n",
      " #   Column            Non-Null Count  Dtype  \n",
      "---  ------            --------------  -----  \n",
      " 0   row_number        9091 non-null   int64  \n",
      " 1   customer_id       9091 non-null   int64  \n",
      " 2   surname           9091 non-null   object \n",
      " 3   credit_score      9091 non-null   int64  \n",
      " 4   geography         9091 non-null   object \n",
      " 5   gender            9091 non-null   object \n",
      " 6   age               9091 non-null   int64  \n",
      " 7   tenure            9091 non-null   float64\n",
      " 8   balance           9091 non-null   float64\n",
      " 9   num_of_products   9091 non-null   int64  \n",
      " 10  has_cr_card       9091 non-null   int64  \n",
      " 11  is_active_member  9091 non-null   int64  \n",
      " 12  estimated_salary  9091 non-null   float64\n",
      " 13  exited            9091 non-null   int64  \n",
      "dtypes: float64(3), int64(8), object(3)\n",
      "memory usage: 1.0+ MB\n"
     ]
    }
   ],
   "source": [
    "df.info()"
   ]
  },
  {
   "cell_type": "code",
   "execution_count": 13,
   "metadata": {},
   "outputs": [],
   "source": [
    "df['tenure'] = df['tenure'].astype(int)"
   ]
  },
  {
   "cell_type": "code",
   "execution_count": 14,
   "metadata": {},
   "outputs": [
    {
     "data": {
      "text/plain": [
       "1     952\n",
       "2     950\n",
       "8     933\n",
       "3     928\n",
       "5     927\n",
       "7     925\n",
       "4     885\n",
       "9     882\n",
       "6     881\n",
       "10    446\n",
       "0     382\n",
       "Name: tenure, dtype: int64"
      ]
     },
     "execution_count": 14,
     "metadata": {},
     "output_type": "execute_result"
    }
   ],
   "source": [
    "df['tenure'].value_counts()"
   ]
  },
  {
   "cell_type": "markdown",
   "metadata": {},
   "source": [
    "Подготовим признаки"
   ]
  },
  {
   "cell_type": "code",
   "execution_count": 15,
   "metadata": {},
   "outputs": [
    {
     "data": {
      "text/html": [
       "<div>\n",
       "<style scoped>\n",
       "    .dataframe tbody tr th:only-of-type {\n",
       "        vertical-align: middle;\n",
       "    }\n",
       "\n",
       "    .dataframe tbody tr th {\n",
       "        vertical-align: top;\n",
       "    }\n",
       "\n",
       "    .dataframe thead th {\n",
       "        text-align: right;\n",
       "    }\n",
       "</style>\n",
       "<table border=\"1\" class=\"dataframe\">\n",
       "  <thead>\n",
       "    <tr style=\"text-align: right;\">\n",
       "      <th></th>\n",
       "      <th>credit_score</th>\n",
       "      <th>age</th>\n",
       "      <th>tenure</th>\n",
       "      <th>balance</th>\n",
       "      <th>num_of_products</th>\n",
       "      <th>has_cr_card</th>\n",
       "      <th>is_active_member</th>\n",
       "      <th>estimated_salary</th>\n",
       "      <th>exited</th>\n",
       "      <th>geography_Germany</th>\n",
       "      <th>geography_Spain</th>\n",
       "      <th>gender_Male</th>\n",
       "    </tr>\n",
       "  </thead>\n",
       "  <tbody>\n",
       "    <tr>\n",
       "      <th>0</th>\n",
       "      <td>619</td>\n",
       "      <td>42</td>\n",
       "      <td>2</td>\n",
       "      <td>0.00</td>\n",
       "      <td>1</td>\n",
       "      <td>1</td>\n",
       "      <td>1</td>\n",
       "      <td>101348.88</td>\n",
       "      <td>1</td>\n",
       "      <td>0</td>\n",
       "      <td>0</td>\n",
       "      <td>0</td>\n",
       "    </tr>\n",
       "    <tr>\n",
       "      <th>1</th>\n",
       "      <td>608</td>\n",
       "      <td>41</td>\n",
       "      <td>1</td>\n",
       "      <td>83807.86</td>\n",
       "      <td>1</td>\n",
       "      <td>0</td>\n",
       "      <td>1</td>\n",
       "      <td>112542.58</td>\n",
       "      <td>0</td>\n",
       "      <td>0</td>\n",
       "      <td>1</td>\n",
       "      <td>0</td>\n",
       "    </tr>\n",
       "    <tr>\n",
       "      <th>2</th>\n",
       "      <td>502</td>\n",
       "      <td>42</td>\n",
       "      <td>8</td>\n",
       "      <td>159660.80</td>\n",
       "      <td>3</td>\n",
       "      <td>1</td>\n",
       "      <td>0</td>\n",
       "      <td>113931.57</td>\n",
       "      <td>1</td>\n",
       "      <td>0</td>\n",
       "      <td>0</td>\n",
       "      <td>0</td>\n",
       "    </tr>\n",
       "    <tr>\n",
       "      <th>3</th>\n",
       "      <td>699</td>\n",
       "      <td>39</td>\n",
       "      <td>1</td>\n",
       "      <td>0.00</td>\n",
       "      <td>2</td>\n",
       "      <td>0</td>\n",
       "      <td>0</td>\n",
       "      <td>93826.63</td>\n",
       "      <td>0</td>\n",
       "      <td>0</td>\n",
       "      <td>0</td>\n",
       "      <td>0</td>\n",
       "    </tr>\n",
       "    <tr>\n",
       "      <th>4</th>\n",
       "      <td>850</td>\n",
       "      <td>43</td>\n",
       "      <td>2</td>\n",
       "      <td>125510.82</td>\n",
       "      <td>1</td>\n",
       "      <td>1</td>\n",
       "      <td>1</td>\n",
       "      <td>79084.10</td>\n",
       "      <td>0</td>\n",
       "      <td>0</td>\n",
       "      <td>1</td>\n",
       "      <td>0</td>\n",
       "    </tr>\n",
       "  </tbody>\n",
       "</table>\n",
       "</div>"
      ],
      "text/plain": [
       "   credit_score  age  tenure    balance  num_of_products  has_cr_card  \\\n",
       "0           619   42       2       0.00                1            1   \n",
       "1           608   41       1   83807.86                1            0   \n",
       "2           502   42       8  159660.80                3            1   \n",
       "3           699   39       1       0.00                2            0   \n",
       "4           850   43       2  125510.82                1            1   \n",
       "\n",
       "   is_active_member  estimated_salary  exited  geography_Germany  \\\n",
       "0                 1         101348.88       1                  0   \n",
       "1                 1         112542.58       0                  0   \n",
       "2                 0         113931.57       1                  0   \n",
       "3                 0          93826.63       0                  0   \n",
       "4                 1          79084.10       0                  0   \n",
       "\n",
       "   geography_Spain  gender_Male  \n",
       "0                0            0  \n",
       "1                1            0  \n",
       "2                0            0  \n",
       "3                0            0  \n",
       "4                1            0  "
      ]
     },
     "execution_count": 15,
     "metadata": {},
     "output_type": "execute_result"
    }
   ],
   "source": [
    "data_ohe = pd.get_dummies(df.drop(['row_number','surname','customer_id'], axis=1), drop_first=True)\n",
    "data_ohe.head()"
   ]
  },
  {
   "cell_type": "markdown",
   "metadata": {},
   "source": [
    "**Вывод** Данные получены из файла, подготовлены для дальнейшего исследования, изменен тип данных столбца tenure, пропущенные значения удалены, изменен регистр столбцов для удобства восприятия. Подготовили призраки техникой OHE."
   ]
  },
  {
   "cell_type": "markdown",
   "metadata": {},
   "source": [
    "## Исследование задачи"
   ]
  },
  {
   "cell_type": "markdown",
   "metadata": {},
   "source": [
    "### Дисбаланс классов"
   ]
  },
  {
   "cell_type": "markdown",
   "metadata": {},
   "source": [
    "Проверим дисбаланс классов"
   ]
  },
  {
   "cell_type": "code",
   "execution_count": 16,
   "metadata": {},
   "outputs": [
    {
     "data": {
      "text/plain": [
       "0    7237\n",
       "1    1854\n",
       "Name: exited, dtype: int64"
      ]
     },
     "execution_count": 16,
     "metadata": {},
     "output_type": "execute_result"
    }
   ],
   "source": [
    "df.exited.value_counts()"
   ]
  },
  {
   "cell_type": "markdown",
   "metadata": {},
   "source": [
    "Дисбаланс классов присутствует класс 0 превышает 1"
   ]
  },
  {
   "cell_type": "markdown",
   "metadata": {},
   "source": [
    "Обучим модель без учета дисбаланса классов:\n",
    "\n",
    "Поделим выборку на обучающую, валидационную и тестовую в соотношении 80% / 10% / 10%"
   ]
  },
  {
   "cell_type": "code",
   "execution_count": 17,
   "metadata": {},
   "outputs": [],
   "source": [
    "target = data_ohe['exited']\n",
    "features = data_ohe.drop('exited', axis=1)\n",
    "features_train, features_valid, target_train, target_valid = train_test_split(\n",
    "                                            features, target, test_size=0.2, random_state=12345)\n",
    "\n",
    "features_test, features_valid, target_test, target_valid = train_test_split(\n",
    "                                            features_valid, target_valid, test_size=0.5, random_state=12345)\n",
    "features_train = features_train.copy()\n",
    "features_valid = features_valid.copy()"
   ]
  },
  {
   "cell_type": "markdown",
   "metadata": {},
   "source": [
    "Масштабируем данные методом стандартизации, создадим объект этой структуры StandardScaler и настроим его на обучающих данных:"
   ]
  },
  {
   "cell_type": "code",
   "execution_count": 18,
   "metadata": {},
   "outputs": [],
   "source": [
    "numeric = ['credit_score', 'age', 'tenure', 'balance', 'estimated_salary']"
   ]
  },
  {
   "cell_type": "code",
   "execution_count": 19,
   "metadata": {},
   "outputs": [],
   "source": [
    "scaler = StandardScaler()\n",
    "scaler.fit(features_train[numeric])\n",
    "scaler.fit(features_test[numeric])\n",
    "features_train[numeric] = scaler.transform(features_train[numeric])\n",
    "features_valid[numeric] = scaler.transform(features_valid[numeric])\n",
    "features_test[numeric] = scaler.transform(features_test[numeric])\n",
    "\n",
    "pd.options.mode.chained_assignment = None"
   ]
  },
  {
   "cell_type": "code",
   "execution_count": 20,
   "metadata": {},
   "outputs": [
    {
     "data": {
      "text/html": [
       "<div>\n",
       "<style scoped>\n",
       "    .dataframe tbody tr th:only-of-type {\n",
       "        vertical-align: middle;\n",
       "    }\n",
       "\n",
       "    .dataframe tbody tr th {\n",
       "        vertical-align: top;\n",
       "    }\n",
       "\n",
       "    .dataframe thead th {\n",
       "        text-align: right;\n",
       "    }\n",
       "</style>\n",
       "<table border=\"1\" class=\"dataframe\">\n",
       "  <thead>\n",
       "    <tr style=\"text-align: right;\">\n",
       "      <th></th>\n",
       "      <th>credit_score</th>\n",
       "      <th>age</th>\n",
       "      <th>tenure</th>\n",
       "      <th>balance</th>\n",
       "      <th>num_of_products</th>\n",
       "      <th>has_cr_card</th>\n",
       "      <th>is_active_member</th>\n",
       "      <th>estimated_salary</th>\n",
       "      <th>geography_Germany</th>\n",
       "      <th>geography_Spain</th>\n",
       "      <th>gender_Male</th>\n",
       "    </tr>\n",
       "  </thead>\n",
       "  <tbody>\n",
       "    <tr>\n",
       "      <th>8404</th>\n",
       "      <td>-0.740739</td>\n",
       "      <td>0.776230</td>\n",
       "      <td>-0.000782</td>\n",
       "      <td>1.272147</td>\n",
       "      <td>2</td>\n",
       "      <td>1</td>\n",
       "      <td>1</td>\n",
       "      <td>-0.612925</td>\n",
       "      <td>1</td>\n",
       "      <td>0</td>\n",
       "      <td>0</td>\n",
       "    </tr>\n",
       "    <tr>\n",
       "      <th>2973</th>\n",
       "      <td>-0.688941</td>\n",
       "      <td>1.646855</td>\n",
       "      <td>1.421276</td>\n",
       "      <td>0.827400</td>\n",
       "      <td>1</td>\n",
       "      <td>1</td>\n",
       "      <td>1</td>\n",
       "      <td>1.681292</td>\n",
       "      <td>0</td>\n",
       "      <td>0</td>\n",
       "      <td>0</td>\n",
       "    </tr>\n",
       "    <tr>\n",
       "      <th>2939</th>\n",
       "      <td>-1.289797</td>\n",
       "      <td>0.002341</td>\n",
       "      <td>-1.067326</td>\n",
       "      <td>-1.204001</td>\n",
       "      <td>1</td>\n",
       "      <td>0</td>\n",
       "      <td>1</td>\n",
       "      <td>-0.469263</td>\n",
       "      <td>0</td>\n",
       "      <td>0</td>\n",
       "      <td>0</td>\n",
       "    </tr>\n",
       "    <tr>\n",
       "      <th>7687</th>\n",
       "      <td>0.999671</td>\n",
       "      <td>2.130535</td>\n",
       "      <td>-0.000782</td>\n",
       "      <td>1.107010</td>\n",
       "      <td>1</td>\n",
       "      <td>1</td>\n",
       "      <td>1</td>\n",
       "      <td>-1.028162</td>\n",
       "      <td>0</td>\n",
       "      <td>0</td>\n",
       "      <td>1</td>\n",
       "    </tr>\n",
       "    <tr>\n",
       "      <th>7672</th>\n",
       "      <td>-1.061886</td>\n",
       "      <td>-0.868284</td>\n",
       "      <td>-1.422840</td>\n",
       "      <td>-1.204001</td>\n",
       "      <td>2</td>\n",
       "      <td>0</td>\n",
       "      <td>0</td>\n",
       "      <td>-0.215262</td>\n",
       "      <td>0</td>\n",
       "      <td>0</td>\n",
       "      <td>1</td>\n",
       "    </tr>\n",
       "  </tbody>\n",
       "</table>\n",
       "</div>"
      ],
      "text/plain": [
       "      credit_score       age    tenure   balance  num_of_products  \\\n",
       "8404     -0.740739  0.776230 -0.000782  1.272147                2   \n",
       "2973     -0.688941  1.646855  1.421276  0.827400                1   \n",
       "2939     -1.289797  0.002341 -1.067326 -1.204001                1   \n",
       "7687      0.999671  2.130535 -0.000782  1.107010                1   \n",
       "7672     -1.061886 -0.868284 -1.422840 -1.204001                2   \n",
       "\n",
       "      has_cr_card  is_active_member  estimated_salary  geography_Germany  \\\n",
       "8404            1                 1         -0.612925                  1   \n",
       "2973            1                 1          1.681292                  0   \n",
       "2939            0                 1         -0.469263                  0   \n",
       "7687            1                 1         -1.028162                  0   \n",
       "7672            0                 0         -0.215262                  0   \n",
       "\n",
       "      geography_Spain  gender_Male  \n",
       "8404                0            0  \n",
       "2973                0            0  \n",
       "2939                0            0  \n",
       "7687                0            1  \n",
       "7672                0            1  "
      ]
     },
     "execution_count": 20,
     "metadata": {},
     "output_type": "execute_result"
    }
   ],
   "source": [
    "features_test.head()"
   ]
  },
  {
   "cell_type": "markdown",
   "metadata": {},
   "source": [
    "Добавим функцию обучающую модель, вычисляющую необходимые метрики, а также для построения необходимых кривых:"
   ]
  },
  {
   "cell_type": "code",
   "execution_count": 21,
   "metadata": {},
   "outputs": [],
   "source": [
    "def model_fit_scoring(features_valid, features_train, target_valid, target_train, plot):\n",
    "    model.fit(features_train, target_train)\n",
    "    predicted_valid = model.predict(features_valid)\n",
    "    print('матрица ошибок:')\n",
    "    print(confusion_matrix(target_valid, predicted_valid))\n",
    "    print('точность:', round(precision_score(target_valid, predicted_valid),3))\n",
    "    print('полнота:', round(recall_score(target_valid, predicted_valid),3))\n",
    "    print('оценка accuracy:', round(accuracy_score(target_valid, predicted_valid),3))\n",
    "    print('F1-мера:', round(f1_score(target_valid, predicted_valid),3))\n",
    "    #PR plot\n",
    "    if plot == True:      \n",
    "        probabilities_valid = model.predict_proba(features_valid)\n",
    "        probabilities_one_valid = probabilities_valid[:, 1]\n",
    "        auc_roc = roc_auc_score(target_valid, probabilities_one_valid)\n",
    "        print('auc_roc:', auc_roc)\n",
    "        \n",
    "        precision, recall, thresholds = precision_recall_curve(target_valid, probabilities_valid[:, 1])\n",
    "        plt.figure(figsize=(6, 6))\n",
    "        plt.step(recall, precision, where='post')\n",
    "        plt.xlabel('Recall')\n",
    "        plt.ylabel('Precision')\n",
    "        plt.ylim([0.0, 1.05])\n",
    "        plt.xlim([0.0, 1.0])\n",
    "        plt.title('Кривая Precision-Recall')\n",
    "        plt.show()\n",
    "    \n",
    "        \n",
    "        fpr, tpr, thresholds = roc_curve(target_valid, probabilities_one_valid)\n",
    "\n",
    "        plt.figure()\n",
    "        plt.plot(fpr, tpr)\n",
    "        # ROC-кривая случайной модели\n",
    "        plt.plot([0, 1], [0, 1], linestyle='--')\n",
    "\n",
    "        # < применим функции plt.xlim() и plt.ylim(), чтобы\n",
    "        #   установим границы осей от 0 до 1 >\n",
    "        plt.ylim([0.0, 1.0])\n",
    "        plt.xlim([0.0, 1.0])\n",
    "        # < применим функции plt.xlabel() и plt.ylabel(), чтобы\n",
    "        #   подпишем оси \"False Positive Rate\" и \"True Positive Rate\" >\n",
    "        plt.xlabel(\"False Positive Rate\")\n",
    "        plt.ylabel(\"True Positive Rate\")\n",
    "        # < добавим к графику заголовок \"ROC-кривая\" функцией plt.title() >\n",
    "        plt.title(\"ROC-кривая\")\n",
    "        plt.show()\n",
    "        \n",
    "        \n",
    "    return round(f1_score(target_valid, predicted_valid),3)"
   ]
  },
  {
   "cell_type": "markdown",
   "metadata": {},
   "source": [
    "### DecisionTreeClassifier"
   ]
  },
  {
   "cell_type": "markdown",
   "metadata": {},
   "source": [
    "Обучим модель DecisionTreeClassifier на подготовленных данных:"
   ]
  },
  {
   "cell_type": "code",
   "execution_count": 22,
   "metadata": {},
   "outputs": [],
   "source": [
    "model = DecisionTreeClassifier(random_state=12345)"
   ]
  },
  {
   "cell_type": "markdown",
   "metadata": {},
   "source": [
    "Рассчитаем метрики:"
   ]
  },
  {
   "cell_type": "code",
   "execution_count": 23,
   "metadata": {},
   "outputs": [
    {
     "name": "stdout",
     "output_type": "stream",
     "text": [
      "матрица ошибок:\n",
      "[[610 108]\n",
      " [ 95  97]]\n",
      "точность: 0.473\n",
      "полнота: 0.505\n",
      "оценка accuracy: 0.777\n",
      "F1-мера: 0.489\n"
     ]
    },
    {
     "data": {
      "text/plain": [
       "0.489"
      ]
     },
     "execution_count": 23,
     "metadata": {},
     "output_type": "execute_result"
    }
   ],
   "source": [
    "model_fit_scoring(features_valid, features_train, target_valid, target_train, False)"
   ]
  },
  {
   "cell_type": "markdown",
   "metadata": {},
   "source": [
    "Обучили модель и получили необходимые метрики для сравнения эффективности модели"
   ]
  },
  {
   "cell_type": "markdown",
   "metadata": {},
   "source": [
    "### RandomForestClassifier\n"
   ]
  },
  {
   "cell_type": "markdown",
   "metadata": {},
   "source": [
    "Обучим модель DecisionTreeClassifier на подготовленных данных:\n",
    "\n",
    "подберем оптимальное количество деревьев для модели"
   ]
  },
  {
   "cell_type": "code",
   "execution_count": 24,
   "metadata": {
    "scrolled": false
   },
   "outputs": [
    {
     "name": "stdout",
     "output_type": "stream",
     "text": [
      "Оценка accuracy наилучшей модели на валидационной выборке: 0.858 est 97\n",
      "F1 мера наилучшей модели на валидационной выборке: 0.583 est 97\n",
      "CPU times: user 1min 2s, sys: 1.91 s, total: 1min 4s\n",
      "Wall time: 1min 11s\n"
     ]
    }
   ],
   "source": [
    "%%time\n",
    "best_result = 0\n",
    "best_f1_score = 0\n",
    "f1_score_result = 0\n",
    "best_est_f1 = 0\n",
    "best_est_score = 0\n",
    "for est in range(1, 101):\n",
    "    model = RandomForestClassifier(random_state=12345, n_estimators=est) # обучим модель с заданным количеством деревьев\n",
    "    model.fit(features_train, target_train) # обучим модель на тренировочной выборке\n",
    "    result = model.score(features_valid, target_valid) # посчитаем качество модели на валидационной выборке\n",
    "    \n",
    "    predicted_valid = model.predict(features_valid)\n",
    "    f1_score_result = f1_score(target_valid, predicted_valid)\n",
    "\n",
    "    if result > best_result:\n",
    "        best_result = result\n",
    "        best_est_score = est\n",
    "\n",
    "    if f1_score_result > best_f1_score:\n",
    "        best_f1_score = f1_score_result\n",
    "        best_est_f1 = est\n",
    "        \n",
    "\n",
    "print(\"Оценка accuracy наилучшей модели на валидационной выборке:\", round(best_result, 3), \"est\", best_est_score)\n",
    "print(\"F1 мера наилучшей модели на валидационной выборке:\", round(best_f1_score, 3), \"est\", best_est_f1)"
   ]
  },
  {
   "cell_type": "markdown",
   "metadata": {},
   "source": [
    "Получили наилучшие результаты"
   ]
  },
  {
   "cell_type": "markdown",
   "metadata": {},
   "source": [
    "Построим график AUC-ROC и PR кривую модели с высоким F1 score:"
   ]
  },
  {
   "cell_type": "code",
   "execution_count": 25,
   "metadata": {
    "scrolled": false
   },
   "outputs": [
    {
     "name": "stdout",
     "output_type": "stream",
     "text": [
      "матрица ошибок:\n",
      "[[691  27]\n",
      " [102  90]]\n",
      "точность: 0.769\n",
      "полнота: 0.469\n",
      "оценка accuracy: 0.858\n",
      "F1-мера: 0.583\n",
      "auc_roc: 0.8611921135097492\n"
     ]
    },
    {
     "data": {
      "image/png": "[encoded data removed]",
      "text/plain": [
       "<Figure size 432x432 with 1 Axes>"
      ]
     },
     "metadata": {
      "needs_background": "light"
     },
     "output_type": "display_data"
    },
    {
     "data": {
      "image/png": "[encoded data removed]",
      "text/plain": [
       "<Figure size 432x288 with 1 Axes>"
      ]
     },
     "metadata": {
      "needs_background": "light"
     },
     "output_type": "display_data"
    },
    {
     "data": {
      "text/plain": [
       "0.583"
      ]
     },
     "execution_count": 25,
     "metadata": {},
     "output_type": "execute_result"
    }
   ],
   "source": [
    "model = RandomForestClassifier(random_state=12345, n_estimators=best_est_f1)\n",
    "model_fit_scoring(features_valid, features_train, target_valid, target_train, True)"
   ]
  },
  {
   "cell_type": "code",
   "execution_count": 26,
   "metadata": {},
   "outputs": [
    {
     "data": {
      "image/png": "[encoded data removed]",
      "text/plain": [
       "<Figure size 432x288 with 1 Axes>"
      ]
     },
     "metadata": {
      "needs_background": "light"
     },
     "output_type": "display_data"
    }
   ],
   "source": [
    "feature_names = [name for name in features.columns] \n",
    "\n",
    "importances = model.feature_importances_\n",
    "forest_importances = pd.Series(importances, index=feature_names)\n",
    "std = np.std([\n",
    "    tree.feature_importances_ for tree in model.estimators_], axis=0)\n",
    "fig, ax = plt.subplots()\n",
    "forest_importances.plot.bar(yerr=std, ax=ax)\n",
    "ax.set_title(\"Feature importances using MDI\")\n",
    "ax.set_ylabel(\"Mean decrease in impurity\")\n",
    "fig.tight_layout()"
   ]
  },
  {
   "cell_type": "markdown",
   "metadata": {},
   "source": [
    "### LogisticRegression"
   ]
  },
  {
   "cell_type": "markdown",
   "metadata": {},
   "source": [
    "Обучим модель LogisticRegression на подготовленных данных:"
   ]
  },
  {
   "cell_type": "code",
   "execution_count": 27,
   "metadata": {},
   "outputs": [
    {
     "name": "stdout",
     "output_type": "stream",
     "text": [
      "матрица ошибок:\n",
      "[[696  22]\n",
      " [154  38]]\n",
      "точность: 0.633\n",
      "полнота: 0.198\n",
      "оценка accuracy: 0.807\n",
      "F1-мера: 0.302\n",
      "auc_roc: 0.804883356545961\n"
     ]
    },
    {
     "data": {
      "image/png": "[encoded data removed]",
      "text/plain": [
       "<Figure size 432x432 with 1 Axes>"
      ]
     },
     "metadata": {
      "needs_background": "light"
     },
     "output_type": "display_data"
    },
    {
     "data": {
      "image/png": "[encoded data removed]",
      "text/plain": [
       "<Figure size 432x288 with 1 Axes>"
      ]
     },
     "metadata": {
      "needs_background": "light"
     },
     "output_type": "display_data"
    },
    {
     "data": {
      "text/plain": [
       "0.302"
      ]
     },
     "execution_count": 27,
     "metadata": {},
     "output_type": "execute_result"
    }
   ],
   "source": [
    "model = LogisticRegression(random_state=12345, solver='liblinear')\n",
    "model_fit_scoring(features_valid, features_train, target_valid, target_train, True)"
   ]
  },
  {
   "cell_type": "markdown",
   "metadata": {},
   "source": [
    "**Вывод** из представленных моделей наилучший результат показывает RandomForest."
   ]
  },
  {
   "cell_type": "markdown",
   "metadata": {},
   "source": [
    "## Борьба с дисбалансом"
   ]
  },
  {
   "cell_type": "markdown",
   "metadata": {},
   "source": [
    "### Взвешивание классов"
   ]
  },
  {
   "cell_type": "markdown",
   "metadata": {},
   "source": [
    "Обучим модель LogisticRegression на подготовленных данных с учетом весов классов:"
   ]
  },
  {
   "cell_type": "code",
   "execution_count": 28,
   "metadata": {},
   "outputs": [
    {
     "name": "stdout",
     "output_type": "stream",
     "text": [
      "матрица ошибок:\n",
      "[[536 182]\n",
      " [ 48 144]]\n",
      "точность: 0.442\n",
      "полнота: 0.75\n",
      "оценка accuracy: 0.747\n",
      "F1-мера: 0.556\n",
      "auc_roc: 0.8058553853296193\n"
     ]
    },
    {
     "data": {
      "image/png": "[encoded data removed]",
      "text/plain": [
       "<Figure size 432x432 with 1 Axes>"
      ]
     },
     "metadata": {
      "needs_background": "light"
     },
     "output_type": "display_data"
    },
    {
     "data": {
      "image/png": "[encoded data removed]",
      "text/plain": [
       "<Figure size 432x288 with 1 Axes>"
      ]
     },
     "metadata": {
      "needs_background": "light"
     },
     "output_type": "display_data"
    },
    {
     "data": {
      "text/plain": [
       "0.556"
      ]
     },
     "execution_count": 28,
     "metadata": {},
     "output_type": "execute_result"
    }
   ],
   "source": [
    "model = LogisticRegression(random_state=12345, solver='liblinear', class_weight='balanced')\n",
    "model_fit_scoring(features_valid, features_train, target_valid, target_train, True)"
   ]
  },
  {
   "cell_type": "markdown",
   "metadata": {},
   "source": [
    "Результат лучше, чем без учета дисбаланса."
   ]
  },
  {
   "cell_type": "markdown",
   "metadata": {},
   "source": [
    "### Увеличение выборки"
   ]
  },
  {
   "cell_type": "markdown",
   "metadata": {},
   "source": [
    "Размер исходной обучающей выборки:"
   ]
  },
  {
   "cell_type": "code",
   "execution_count": 29,
   "metadata": {},
   "outputs": [
    {
     "name": "stdout",
     "output_type": "stream",
     "text": [
      "(7272, 11)\n",
      "(7272,)\n"
     ]
    }
   ],
   "source": [
    "print(features_train.shape)\n",
    "print(target_train.shape)"
   ]
  },
  {
   "cell_type": "markdown",
   "metadata": {},
   "source": [
    "Увеличим выборку с помощью функции"
   ]
  },
  {
   "cell_type": "code",
   "execution_count": 30,
   "metadata": {},
   "outputs": [
    {
     "name": "stdout",
     "output_type": "stream",
     "text": [
      "features_zeros (5787, 11)\n",
      "features_ones (1485, 11)\n",
      "target_zeros (5787,)\n",
      "target_ones (1485,)\n",
      "upsampling...\n",
      "features_zeros (5787, 11)\n",
      "features_ones (5940, 11)\n",
      "target_zeros (5787,)\n",
      "target_ones (5940,)\n"
     ]
    }
   ],
   "source": [
    "def upsample(features, target, repeat):\n",
    "    \n",
    "    features_zeros = features[target == 0]\n",
    "    print('features_zeros', features_zeros.shape)\n",
    "    features_ones = features[target == 1]\n",
    "    print('features_ones', features_ones.shape)\n",
    "    target_zeros = target[target == 0]\n",
    "    print('target_zeros', target_zeros.shape)\n",
    "    target_ones = target[target == 1]\n",
    "    print('target_ones', target_ones.shape)\n",
    "\n",
    "    features_upsampled = pd.concat([features_zeros] + [features_ones] * repeat)\n",
    "    target_upsampled = pd.concat([target_zeros] + [target_ones] * repeat)\n",
    "    \n",
    "    out1 = shuffle(features_upsampled, random_state=12345)\n",
    "    out2 = shuffle(target_upsampled, random_state=12345)\n",
    "    \n",
    "    print('upsampling...')\n",
    "    features_zeros = features_upsampled[target == 0]\n",
    "    print('features_zeros', features_zeros.shape)\n",
    "    features_ones = features_upsampled[target == 1]\n",
    "    print('features_ones', features_ones.shape)\n",
    "    target_zeros = target_upsampled[target == 0]\n",
    "    print('target_zeros', target_zeros.shape)\n",
    "    target_ones = target_upsampled[target == 1]\n",
    "    print('target_ones', target_ones.shape)\n",
    "\n",
    "    return out1, out2\n",
    "\n",
    "features_upsampled, target_upsampled = upsample(features_train, target_train, 4)"
   ]
  },
  {
   "cell_type": "markdown",
   "metadata": {},
   "source": [
    "Размер увеличенной обучающей выборки"
   ]
  },
  {
   "cell_type": "code",
   "execution_count": 31,
   "metadata": {},
   "outputs": [
    {
     "name": "stdout",
     "output_type": "stream",
     "text": [
      "(11727, 11)\n",
      "(11727,)\n"
     ]
    }
   ],
   "source": [
    "print(features_upsampled.shape)\n",
    "print(target_upsampled.shape)"
   ]
  },
  {
   "cell_type": "markdown",
   "metadata": {},
   "source": [
    "#### DecisionTreeClassifier с учетом дисбаланса"
   ]
  },
  {
   "cell_type": "markdown",
   "metadata": {},
   "source": [
    "Обучим модель на увеличенной выборке "
   ]
  },
  {
   "cell_type": "code",
   "execution_count": 32,
   "metadata": {},
   "outputs": [
    {
     "name": "stdout",
     "output_type": "stream",
     "text": [
      "матрица ошибок:\n",
      "[[627  91]\n",
      " [ 96  96]]\n",
      "точность: 0.513\n",
      "полнота: 0.5\n",
      "оценка accuracy: 0.795\n",
      "F1-мера: 0.507\n"
     ]
    },
    {
     "data": {
      "text/plain": [
       "0.507"
      ]
     },
     "execution_count": 32,
     "metadata": {},
     "output_type": "execute_result"
    }
   ],
   "source": [
    "model = DecisionTreeClassifier(random_state=12345)\n",
    "model_fit_scoring(features_valid, features_upsampled, target_valid, target_upsampled, False)"
   ]
  },
  {
   "cell_type": "markdown",
   "metadata": {},
   "source": [
    "F1-мера с учетом дисбаланса не увеличилась"
   ]
  },
  {
   "cell_type": "markdown",
   "metadata": {},
   "source": [
    "#### RandomForest с учетом дисбаланса"
   ]
  },
  {
   "cell_type": "markdown",
   "metadata": {},
   "source": [
    "Обучим модель на увеличенной выборке и подберем оптимальное значение количества деревьев"
   ]
  },
  {
   "cell_type": "code",
   "execution_count": 33,
   "metadata": {},
   "outputs": [
    {
     "name": "stdout",
     "output_type": "stream",
     "text": [
      "Оценка accuracy наилучшей модели на валидационной выборке: 0.852 est 66\n",
      "F1 мера наилучшей модели на валидационной выборке: 0.611 est 63\n",
      "CPU times: user 1min 26s, sys: 2.84 s, total: 1min 29s\n",
      "Wall time: 1min 38s\n"
     ]
    }
   ],
   "source": [
    "%%time\n",
    "best_result = 0\n",
    "best_f1_score = 0\n",
    "f1_score_result = 0\n",
    "best_est_f1_up = 0\n",
    "best_est_score = 0\n",
    "for est in range(1, 101):\n",
    "    model = RandomForestClassifier(random_state=12345, n_estimators=est) # обучим модель с заданным количеством деревьев\n",
    "    model.fit(features_upsampled, target_upsampled) # обучим модель на тренировочной выборке\n",
    "    result = model.score(features_valid, target_valid) # посчитаем качество модели на валидационной выборке\n",
    "    \n",
    "    predicted_valid = model.predict(features_valid)\n",
    "    f1_score_result = f1_score(target_valid, predicted_valid)\n",
    "\n",
    "    if result > best_result:\n",
    "        best_result = result\n",
    "        best_est_score = est\n",
    "\n",
    "    if f1_score_result > best_f1_score:\n",
    "        best_f1_score = f1_score_result\n",
    "        best_est_f1_up = est\n",
    "        \n",
    "\n",
    "print(\"Оценка accuracy наилучшей модели на валидационной выборке:\", round(best_result, 3), \"est\", best_est_score)\n",
    "print(\"F1 мера наилучшей модели на валидационной выборке:\", round(best_f1_score, 3), \"est\", best_est_f1_up)"
   ]
  },
  {
   "cell_type": "markdown",
   "metadata": {},
   "source": [
    "Проверим модель RandomForest на увеличенной выборке"
   ]
  },
  {
   "cell_type": "code",
   "execution_count": 34,
   "metadata": {},
   "outputs": [
    {
     "name": "stdout",
     "output_type": "stream",
     "text": [
      "матрица ошибок:\n",
      "[[667  51]\n",
      " [ 85 107]]\n",
      "точность: 0.677\n",
      "полнота: 0.557\n",
      "оценка accuracy: 0.851\n",
      "F1-мера: 0.611\n",
      "auc_roc: 0.8472355211234912\n"
     ]
    },
    {
     "data": {
      "image/png": "[encoded data removed]",
      "text/plain": [
       "<Figure size 432x432 with 1 Axes>"
      ]
     },
     "metadata": {
      "needs_background": "light"
     },
     "output_type": "display_data"
    },
    {
     "data": {
      "image/png": "[encoded data removed]",
      "text/plain": [
       "<Figure size 432x288 with 1 Axes>"
      ]
     },
     "metadata": {
      "needs_background": "light"
     },
     "output_type": "display_data"
    },
    {
     "data": {
      "text/plain": [
       "0.611"
      ]
     },
     "execution_count": 34,
     "metadata": {},
     "output_type": "execute_result"
    }
   ],
   "source": [
    "model = RandomForestClassifier(random_state=12345, n_estimators=best_est_f1_up)\n",
    "model_fit_scoring(features_valid, features_upsampled, target_valid, target_upsampled, True)"
   ]
  },
  {
   "cell_type": "code",
   "execution_count": 35,
   "metadata": {},
   "outputs": [
    {
     "data": {
      "image/png": "[encoded data removed]",
      "text/plain": [
       "<Figure size 432x288 with 1 Axes>"
      ]
     },
     "metadata": {
      "needs_background": "light"
     },
     "output_type": "display_data"
    }
   ],
   "source": [
    "feature_names = [name for name in features.columns] \n",
    "\n",
    "importances = model.feature_importances_\n",
    "forest_importances = pd.Series(importances, index=feature_names)\n",
    "std = np.std([\n",
    "    tree.feature_importances_ for tree in model.estimators_], axis=0)\n",
    "fig, ax = plt.subplots()\n",
    "forest_importances.plot.bar(yerr=std, ax=ax)\n",
    "ax.set_title(\"Feature importances using MDI\")\n",
    "ax.set_ylabel(\"Mean decrease in impurity\")\n",
    "fig.tight_layout()"
   ]
  },
  {
   "cell_type": "markdown",
   "metadata": {},
   "source": [
    "Получили F1-меру выше, чем без учета дисбаланса"
   ]
  },
  {
   "cell_type": "markdown",
   "metadata": {},
   "source": [
    "#### LogisticRegression с учетом дисбаланса"
   ]
  },
  {
   "cell_type": "markdown",
   "metadata": {},
   "source": [
    "Обучим модель LogisticRegression и проверим метрики на увеличенной выборке"
   ]
  },
  {
   "cell_type": "code",
   "execution_count": 36,
   "metadata": {},
   "outputs": [],
   "source": [
    "model = LogisticRegression(random_state=12345, solver='liblinear')"
   ]
  },
  {
   "cell_type": "code",
   "execution_count": 37,
   "metadata": {},
   "outputs": [
    {
     "name": "stdout",
     "output_type": "stream",
     "text": [
      "матрица ошибок:\n",
      "[[531 187]\n",
      " [ 46 146]]\n",
      "точность: 0.438\n",
      "полнота: 0.76\n",
      "оценка accuracy: 0.744\n",
      "F1-мера: 0.556\n",
      "auc_roc: 0.8058481313834727\n"
     ]
    },
    {
     "data": {
      "image/png": "[encoded data removed]",
      "text/plain": [
       "<Figure size 432x432 with 1 Axes>"
      ]
     },
     "metadata": {
      "needs_background": "light"
     },
     "output_type": "display_data"
    },
    {
     "data": {
      "image/png": "[encoded data removed]",
      "text/plain": [
       "<Figure size 432x288 with 1 Axes>"
      ]
     },
     "metadata": {
      "needs_background": "light"
     },
     "output_type": "display_data"
    },
    {
     "data": {
      "text/plain": [
       "0.556"
      ]
     },
     "execution_count": 37,
     "metadata": {},
     "output_type": "execute_result"
    }
   ],
   "source": [
    "model_fit_scoring(features_valid, features_upsampled, target_valid, target_upsampled, True)"
   ]
  },
  {
   "cell_type": "markdown",
   "metadata": {},
   "source": [
    "Увеличение выборки дало F1-меру выше, чем модель без учета дисбаланса, получили одинаковый результат с взвешенными классами."
   ]
  },
  {
   "cell_type": "markdown",
   "metadata": {},
   "source": [
    "### Уменьшение выборки"
   ]
  },
  {
   "cell_type": "markdown",
   "metadata": {},
   "source": [
    "Уменьшим выборку используя функцию"
   ]
  },
  {
   "cell_type": "code",
   "execution_count": 38,
   "metadata": {},
   "outputs": [
    {
     "name": "stdout",
     "output_type": "stream",
     "text": [
      "(9091, 11)\n",
      "(9091,)\n"
     ]
    }
   ],
   "source": [
    "print(features.shape)\n",
    "print(target.shape)"
   ]
  },
  {
   "cell_type": "code",
   "execution_count": 39,
   "metadata": {},
   "outputs": [
    {
     "name": "stdout",
     "output_type": "stream",
     "text": [
      "features_zeros (5787, 11)\n",
      "features_ones (1485, 11)\n",
      "target_zeros (5787,)\n",
      "target_ones (1485,)\n",
      "downsampling...\n",
      "features_zeros (1447, 11)\n",
      "features_ones (1485, 11)\n",
      "target_zeros (1447,)\n",
      "target_ones (1485,)\n"
     ]
    }
   ],
   "source": [
    "def downsample(features, target, fraction):\n",
    "    \n",
    "    features_zeros = features[target == 0]\n",
    "    print('features_zeros', features_zeros.shape)\n",
    "    features_ones = features[target == 1]\n",
    "    print('features_ones', features_ones.shape)\n",
    "    target_zeros = target[target == 0]\n",
    "    print('target_zeros', target_zeros.shape)\n",
    "    target_ones = target[target == 1]\n",
    "    print('target_ones', target_ones.shape)\n",
    "    \n",
    "    \n",
    "    features_downsampled = pd.concat([features_ones] + [features_zeros.sample(frac=fraction, random_state=12345)])\n",
    "    target_downsampled = pd.concat([target_ones] + [target_zeros.sample(frac=fraction, random_state=12345)])\n",
    "    \n",
    "    features_downsampled, target_downsampled = shuffle(features_downsampled, target_downsampled, random_state=12345)\n",
    "    \n",
    "    print('downsampling...')\n",
    "    features_zeros = features_downsampled[target == 0]\n",
    "    print('features_zeros', features_zeros.shape)\n",
    "    features_ones = features_downsampled[target == 1]\n",
    "    print('features_ones', features_ones.shape)\n",
    "    target_zeros = target_downsampled[target == 0]\n",
    "    print('target_zeros', target_zeros.shape)\n",
    "    target_ones = target_downsampled[target == 1]\n",
    "    print('target_ones', target_ones.shape)\n",
    "    \n",
    "    \n",
    "    return features_downsampled, target_downsampled\n",
    "\n",
    "features_downsampled, target_downsampled = downsample(features_train, target_train, 0.25)"
   ]
  },
  {
   "cell_type": "code",
   "execution_count": 40,
   "metadata": {},
   "outputs": [
    {
     "name": "stdout",
     "output_type": "stream",
     "text": [
      "(2932, 11)\n",
      "(2932,)\n"
     ]
    }
   ],
   "source": [
    "print(features_downsampled.shape)\n",
    "print(target_downsampled.shape)"
   ]
  },
  {
   "cell_type": "markdown",
   "metadata": {},
   "source": [
    "#### DecisionTreeClassifier с учетом дисбаланса"
   ]
  },
  {
   "cell_type": "markdown",
   "metadata": {},
   "source": [
    "Обучим модель на уменьшенной выборке"
   ]
  },
  {
   "cell_type": "code",
   "execution_count": 41,
   "metadata": {},
   "outputs": [
    {
     "name": "stdout",
     "output_type": "stream",
     "text": [
      "матрица ошибок:\n",
      "[[487 231]\n",
      " [ 53 139]]\n",
      "точность: 0.376\n",
      "полнота: 0.724\n",
      "оценка accuracy: 0.688\n",
      "F1-мера: 0.495\n"
     ]
    },
    {
     "data": {
      "text/plain": [
       "0.495"
      ]
     },
     "execution_count": 41,
     "metadata": {},
     "output_type": "execute_result"
    }
   ],
   "source": [
    "model = DecisionTreeClassifier(random_state=12345)\n",
    "model_fit_scoring(features_valid, features_downsampled, target_valid, target_downsampled, False)"
   ]
  },
  {
   "cell_type": "markdown",
   "metadata": {},
   "source": [
    "Результат немного хуже чем без учета дисбаланса"
   ]
  },
  {
   "cell_type": "markdown",
   "metadata": {},
   "source": [
    "#### RandomForest с учетом дисбаланса"
   ]
  },
  {
   "cell_type": "markdown",
   "metadata": {},
   "source": [
    "Обучим модель на уменьшенной выборке и найдем оптимальное количество деревьев"
   ]
  },
  {
   "cell_type": "code",
   "execution_count": 42,
   "metadata": {},
   "outputs": [
    {
     "name": "stdout",
     "output_type": "stream",
     "text": [
      "Оценка accuracy наилучшей модели на валидационной выборке: 0.785 est 10\n",
      "F1 мера наилучшей модели на валидационной выборке: 0.6 est 48\n",
      "CPU times: user 30.3 s, sys: 789 ms, total: 31.1 s\n",
      "Wall time: 33.5 s\n"
     ]
    }
   ],
   "source": [
    "%%time\n",
    "best_result = 0\n",
    "best_f1_score = 0\n",
    "f1_score_result = 0\n",
    "best_est_f1_down = 0\n",
    "best_est_score = 0\n",
    "for est in range(1, 101):\n",
    "    model = RandomForestClassifier(random_state=12345, n_estimators=est) # обучим модель с заданным количеством деревьев\n",
    "    model.fit(features_downsampled, target_downsampled) # обучим модель на тренировочной выборке\n",
    "    result = model.score(features_valid, target_valid) # посчитаем качество модели на валидационной выборке\n",
    "    \n",
    "    predicted_valid = model.predict(features_valid)\n",
    "    f1_score_result = f1_score(target_valid, predicted_valid)\n",
    "\n",
    "    if result > best_result:\n",
    "        best_result = result\n",
    "        best_est_score = est\n",
    "\n",
    "    if f1_score_result > best_f1_score:\n",
    "        best_f1_score = f1_score_result\n",
    "        best_est_f1_down = est\n",
    "        \n",
    "\n",
    "print(\"Оценка accuracy наилучшей модели на валидационной выборке:\", round(best_result, 3), \"est\", best_est_score)\n",
    "print(\"F1 мера наилучшей модели на валидационной выборке:\", round(best_f1_score, 3), \"est\", best_est_f1_down)"
   ]
  },
  {
   "cell_type": "code",
   "execution_count": 43,
   "metadata": {},
   "outputs": [
    {
     "name": "stdout",
     "output_type": "stream",
     "text": [
      "матрица ошибок:\n",
      "[[558 160]\n",
      " [ 41 151]]\n",
      "точность: 0.486\n",
      "полнота: 0.786\n",
      "оценка accuracy: 0.779\n",
      "F1-мера: 0.6\n",
      "auc_roc: 0.8578335364438253\n"
     ]
    },
    {
     "data": {
      "image/png": "[encoded data removed]",
      "text/plain": [
       "<Figure size 432x432 with 1 Axes>"
      ]
     },
     "metadata": {
      "needs_background": "light"
     },
     "output_type": "display_data"
    },
    {
     "data": {
      "image/png": "[encoded data removed]",
      "text/plain": [
       "<Figure size 432x288 with 1 Axes>"
      ]
     },
     "metadata": {
      "needs_background": "light"
     },
     "output_type": "display_data"
    },
    {
     "data": {
      "text/plain": [
       "0.6"
      ]
     },
     "execution_count": 43,
     "metadata": {},
     "output_type": "execute_result"
    }
   ],
   "source": [
    "model = RandomForestClassifier(random_state=12345, n_estimators=best_est_f1_down)\n",
    "model_fit_scoring(features_valid, features_downsampled, target_valid, target_downsampled, True)"
   ]
  },
  {
   "cell_type": "markdown",
   "metadata": {},
   "source": [
    "Проверим важность признаков"
   ]
  },
  {
   "cell_type": "code",
   "execution_count": 44,
   "metadata": {},
   "outputs": [
    {
     "data": {
      "image/png": "[encoded data removed]",
      "text/plain": [
       "<Figure size 432x288 with 1 Axes>"
      ]
     },
     "metadata": {
      "needs_background": "light"
     },
     "output_type": "display_data"
    }
   ],
   "source": [
    "feature_names = [name for name in features.columns] \n",
    "\n",
    "importances = model.feature_importances_\n",
    "forest_importances = pd.Series(importances, index=feature_names)\n",
    "std = np.std([\n",
    "    tree.feature_importances_ for tree in model.estimators_], axis=0)\n",
    "fig, ax = plt.subplots()\n",
    "forest_importances.plot.bar(yerr=std, ax=ax)\n",
    "ax.set_title(\"Feature importances using MDI\")\n",
    "ax.set_ylabel(\"Mean decrease in impurity\")\n",
    "fig.tight_layout()"
   ]
  },
  {
   "cell_type": "markdown",
   "metadata": {},
   "source": [
    "Получили результат выше чем без учета дисбаланса классов"
   ]
  },
  {
   "cell_type": "markdown",
   "metadata": {},
   "source": [
    "**Вывод:** \n",
    "\n",
    "С учетом дисбаланса классов получили модели с более высокими значениями F1-меры. Наилучший результат показала модель RandomForestClassifier"
   ]
  },
  {
   "cell_type": "markdown",
   "metadata": {},
   "source": [
    "#### LogisticRegression с учетом дисбаланса"
   ]
  },
  {
   "cell_type": "markdown",
   "metadata": {},
   "source": [
    "Обучим модель и проверим метрики на уменьшенной выборке"
   ]
  },
  {
   "cell_type": "code",
   "execution_count": 45,
   "metadata": {},
   "outputs": [
    {
     "name": "stdout",
     "output_type": "stream",
     "text": [
      "матрица ошибок:\n",
      "[[526 192]\n",
      " [ 45 147]]\n",
      "точность: 0.434\n",
      "полнота: 0.766\n",
      "оценка accuracy: 0.74\n",
      "F1-мера: 0.554\n",
      "auc_roc: 0.8054781801299906\n"
     ]
    },
    {
     "data": {
      "image/png": "[encoded data removed]",
      "text/plain": [
       "<Figure size 432x432 with 1 Axes>"
      ]
     },
     "metadata": {
      "needs_background": "light"
     },
     "output_type": "display_data"
    },
    {
     "data": {
      "image/png": "[encoded data removed]",
      "text/plain": [
       "<Figure size 432x288 with 1 Axes>"
      ]
     },
     "metadata": {
      "needs_background": "light"
     },
     "output_type": "display_data"
    },
    {
     "data": {
      "text/plain": [
       "0.554"
      ]
     },
     "execution_count": 45,
     "metadata": {},
     "output_type": "execute_result"
    }
   ],
   "source": [
    "model = LogisticRegression(random_state=12345, solver='liblinear')\n",
    "model_fit_scoring(features_valid, features_downsampled, target_valid, target_downsampled, True)"
   ]
  },
  {
   "cell_type": "markdown",
   "metadata": {},
   "source": [
    "Увеличение выборки дало F1-меру выше, чем модель без учета дисбаланса, получили примерно одинаковый результат с взвешенными классами и увеличенной выборкой."
   ]
  },
  {
   "cell_type": "markdown",
   "metadata": {},
   "source": [
    "Подберем оптимальные параметры с помощью GridSearchCV"
   ]
  },
  {
   "cell_type": "code",
   "execution_count": 46,
   "metadata": {
    "scrolled": false
   },
   "outputs": [
    {
     "name": "stdout",
     "output_type": "stream",
     "text": [
      "CPU times: user 5.92 s, sys: 157 ms, total: 6.08 s\n",
      "Wall time: 6.89 s\n"
     ]
    }
   ],
   "source": [
    "%%time\n",
    "#Classifier Pipeline\n",
    "pipeline = Pipeline([\n",
    "    ('classifier', RandomForestClassifier())\n",
    "])\n",
    "# Params for classifier\n",
    "params = {\"classifier__n_estimators\": range(97, 98),\n",
    "            \"classifier__max_depth\": range(14, 15),\n",
    "         }\n",
    "\n",
    "# Grid Search Execute\n",
    "rf_grid = GridSearchCV(estimator=pipeline , param_grid=params, scoring='f1') \n",
    "rf_detector = rf_grid.fit(features_train, target_train)"
   ]
  },
  {
   "cell_type": "code",
   "execution_count": 47,
   "metadata": {
    "scrolled": false
   },
   "outputs": [
    {
     "name": "stdout",
     "output_type": "stream",
     "text": [
      "0.5699268742514871\n",
      "{'classifier__max_depth': 14, 'classifier__n_estimators': 97}\n",
      "Pipeline(steps=[('classifier',\n",
      "                 RandomForestClassifier(max_depth=14, n_estimators=97))])\n"
     ]
    }
   ],
   "source": [
    "print(rf_grid.best_score_)\n",
    "print(rf_grid.best_params_)\n",
    "print(rf_grid.best_estimator_)"
   ]
  },
  {
   "cell_type": "code",
   "execution_count": 48,
   "metadata": {},
   "outputs": [
    {
     "data": {
      "image/png": "[encoded data removed]",
      "text/plain": [
       "<Figure size 432x288 with 1 Axes>"
      ]
     },
     "metadata": {
      "needs_background": "light"
     },
     "output_type": "display_data"
    }
   ],
   "source": [
    "import seaborn as sns\n",
    "model = LogisticRegression(random_state=12345, solver='liblinear', class_weight='balanced')\n",
    "model.fit(features_train, target_train)\n",
    "feature_importance = model.coef_[0]\n",
    "feature_imp = pd.DataFrame(sorted(zip(feature_importance, features.columns)), columns=['Value','Feature'])\n",
    "sns.barplot(x=\"Value\", y=\"Feature\", data=feature_imp.sort_values(by=\"Value\", ascending=False))\n",
    "plt.title('Feature importance')\n",
    "plt.tight_layout()\n",
    "plt.show();"
   ]
  },
  {
   "cell_type": "code",
   "execution_count": 49,
   "metadata": {},
   "outputs": [
    {
     "name": "stdout",
     "output_type": "stream",
     "text": [
      "матрица ошибок:\n",
      "[[536 182]\n",
      " [ 48 144]]\n",
      "точность: 0.442\n",
      "полнота: 0.75\n",
      "оценка accuracy: 0.747\n",
      "F1-мера: 0.556\n",
      "auc_roc: 0.8058553853296193\n"
     ]
    },
    {
     "data": {
      "image/png": "[encoded data removed]",
      "text/plain": [
       "<Figure size 432x432 with 1 Axes>"
      ]
     },
     "metadata": {
      "needs_background": "light"
     },
     "output_type": "display_data"
    },
    {
     "data": {
      "image/png": "[encoded data removed]",
      "text/plain": [
       "<Figure size 432x288 with 1 Axes>"
      ]
     },
     "metadata": {
      "needs_background": "light"
     },
     "output_type": "display_data"
    },
    {
     "data": {
      "text/plain": [
       "0.556"
      ]
     },
     "execution_count": 49,
     "metadata": {},
     "output_type": "execute_result"
    }
   ],
   "source": [
    "model_1 = RandomForestClassifier(\n",
    "                                        max_depth=14,\n",
    "                                        n_estimators=97,\n",
    "                                        bootstrap=True, class_weight=None,\n",
    "                                        criterion='gini',                                        \n",
    "                                        max_features='auto',\n",
    "                                        max_leaf_nodes=None,\n",
    "                                        min_impurity_decrease=0.0,\n",
    "                                        min_impurity_split=None,\n",
    "                                        min_samples_leaf=1, min_samples_split=2,\n",
    "                                        min_weight_fraction_leaf=0.0,\n",
    "                                        n_jobs=None,\n",
    "                                        oob_score=False, random_state=None,\n",
    "                                        verbose=0, warm_start=False\n",
    "                                )\n",
    "model_fit_scoring(features_valid, features_train, target_valid, target_train, True)"
   ]
  },
  {
   "cell_type": "markdown",
   "metadata": {},
   "source": [
    "## Тестирование модели"
   ]
  },
  {
   "cell_type": "markdown",
   "metadata": {},
   "source": [
    "### Тест увеличенная выборка"
   ]
  },
  {
   "cell_type": "markdown",
   "metadata": {},
   "source": [
    "Проверим на тестовой выборке модель RandomForestClassifier обученную на увеличенной выборке "
   ]
  },
  {
   "cell_type": "code",
   "execution_count": 50,
   "metadata": {},
   "outputs": [
    {
     "name": "stdout",
     "output_type": "stream",
     "text": [
      "матрица ошибок:\n",
      "[[683  49]\n",
      " [ 83  94]]\n",
      "точность: 0.657\n",
      "полнота: 0.531\n",
      "оценка accuracy: 0.855\n",
      "F1-мера: 0.587\n",
      "auc_roc: 0.848538174184187\n"
     ]
    },
    {
     "data": {
      "image/png": "[encoded data removed]",
      "text/plain": [
       "<Figure size 432x432 with 1 Axes>"
      ]
     },
     "metadata": {
      "needs_background": "light"
     },
     "output_type": "display_data"
    },
    {
     "data": {
      "image/png": "[encoded data removed]",
      "text/plain": [
       "<Figure size 432x288 with 1 Axes>"
      ]
     },
     "metadata": {
      "needs_background": "light"
     },
     "output_type": "display_data"
    },
    {
     "data": {
      "text/plain": [
       "0.587"
      ]
     },
     "execution_count": 50,
     "metadata": {},
     "output_type": "execute_result"
    }
   ],
   "source": [
    "model = RandomForestClassifier(random_state=12345, n_estimators=best_est_f1_up)\n",
    "model_fit_scoring(features_test, features_upsampled, target_test, target_upsampled, True)"
   ]
  },
  {
   "cell_type": "markdown",
   "metadata": {},
   "source": [
    "На тестовой выборке результ F1-меры равен 0.21"
   ]
  },
  {
   "cell_type": "markdown",
   "metadata": {},
   "source": [
    "### Тест уменьшенная выборка"
   ]
  },
  {
   "cell_type": "markdown",
   "metadata": {},
   "source": [
    "Проверим на тестовой выборке модель RandomForestClassifier обученную на уменьшенной выборке"
   ]
  },
  {
   "cell_type": "code",
   "execution_count": 51,
   "metadata": {},
   "outputs": [
    {
     "name": "stdout",
     "output_type": "stream",
     "text": [
      "матрица ошибок:\n",
      "[[561 171]\n",
      " [ 44 133]]\n",
      "точность: 0.438\n",
      "полнота: 0.751\n",
      "оценка accuracy: 0.763\n",
      "F1-мера: 0.553\n",
      "auc_roc: 0.8549751474174925\n"
     ]
    },
    {
     "data": {
      "image/png": "[encoded data removed]",
      "text/plain": [
       "<Figure size 432x432 with 1 Axes>"
      ]
     },
     "metadata": {
      "needs_background": "light"
     },
     "output_type": "display_data"
    },
    {
     "data": {
      "image/png": "[encoded data removed]",
      "text/plain": [
       "<Figure size 432x288 with 1 Axes>"
      ]
     },
     "metadata": {
      "needs_background": "light"
     },
     "output_type": "display_data"
    },
    {
     "data": {
      "text/plain": [
       "0.553"
      ]
     },
     "execution_count": 51,
     "metadata": {},
     "output_type": "execute_result"
    }
   ],
   "source": [
    "model = RandomForestClassifier(random_state=12345, n_estimators=best_est_f1_down)\n",
    "model_fit_scoring(features_test, features_downsampled, target_test, target_downsampled, True)"
   ]
  },
  {
   "cell_type": "markdown",
   "metadata": {},
   "source": [
    "### Тест взвешенные классы"
   ]
  },
  {
   "cell_type": "markdown",
   "metadata": {},
   "source": [
    "Проверим модель LogisticRegression с взвешенными классами на тестовой выборке"
   ]
  },
  {
   "cell_type": "code",
   "execution_count": 52,
   "metadata": {},
   "outputs": [
    {
     "name": "stdout",
     "output_type": "stream",
     "text": [
      "матрица ошибок:\n",
      "[[512 220]\n",
      " [ 55 122]]\n",
      "точность: 0.357\n",
      "полнота: 0.689\n",
      "оценка accuracy: 0.697\n",
      "F1-мера: 0.47\n",
      "auc_roc: 0.7721434966503041\n"
     ]
    },
    {
     "data": {
      "image/png": "[encoded data removed]",
      "text/plain": [
       "<Figure size 432x432 with 1 Axes>"
      ]
     },
     "metadata": {
      "needs_background": "light"
     },
     "output_type": "display_data"
    },
    {
     "data": {
      "image/png": "[encoded data removed]",
      "text/plain": [
       "<Figure size 432x288 with 1 Axes>"
      ]
     },
     "metadata": {
      "needs_background": "light"
     },
     "output_type": "display_data"
    },
    {
     "data": {
      "text/plain": [
       "0.47"
      ]
     },
     "execution_count": 52,
     "metadata": {},
     "output_type": "execute_result"
    }
   ],
   "source": [
    "model = LogisticRegression(random_state=12345, solver='liblinear', class_weight='balanced')\n",
    "model_fit_scoring(features_test, features_train, target_test, target_train, True)"
   ]
  },
  {
   "cell_type": "markdown",
   "metadata": {},
   "source": [
    "Результат модели показавшей лучший результат на валидационной выборке существенно ниже результата на тестовой выборке."
   ]
  },
  {
   "cell_type": "markdown",
   "metadata": {},
   "source": [
    "## Вывод"
   ]
  },
  {
   "cell_type": "markdown",
   "metadata": {},
   "source": [
    "Проведено исследование моделей с учетом дисбаланса классов и без, реализовано несколько способов борьбы с дисбалансом классов. Выполнено тестирование моделей на тестовой выборке. \n",
    "\n",
    "Сравнение результатов:\n",
    "\n",
    "**Без учета дисбаланса**\n",
    "1. Модель DecisionTreeClassifier  F1-мера: 0.499\n",
    "2. Модель RandomForestClassifier F1-мера: 0.583\n",
    "3. Модель LogisticRegression F1-мера: 0.302\n",
    "\n",
    "**С учетом дисбаланса**\n",
    "1. Взвешивание классов\n",
    "- LogisticRegression F1-мера: 0.556\n",
    "2. Увеличение выборки\n",
    "- DecisionTreeClassifier F1-мера: 0.497\n",
    "- RandomForestClassifier F1-мера: 0.615\n",
    "- LogisticRegression F1-мера: 0.556\n",
    "3. Уменьшение выборки \n",
    "- DecisionTreeClassifier F1-мера: 0.493\n",
    "- RandomForestClassifier F1-мера: 0.6\n",
    "- LogisticRegression F1-мера: 0.554\n",
    "\n",
    "Наилучшие результаты на валидационной выборке показывает модель RandomForestClassifier обученная на увеличенной выборке с результатом F1-мера: 0.615, auc_roc: 0.847. Результат модели на тестовой выборке F1-мера: 0.326\n",
    "\n",
    "При обучении модели RandomForestClassifier на уменьшенной выборке результат на валидационной выборке равен F1-мера: 0.6, auc_roc: 0.862. Результат модели на тестовой выборке F1-мера: 0.4"
   ]
  }
 ],
 "metadata": {
  "ExecuteTimeLog": [
   {
    "duration": 1335,
    "start_time": "2021-08-19T13:54:20.647Z"
   },
   {
    "duration": 9,
    "start_time": "2021-08-19T13:56:29.567Z"
   },
   {
    "duration": 165,
    "start_time": "2021-08-19T13:56:57.136Z"
   },
   {
    "duration": 751,
    "start_time": "2021-08-19T14:10:58.512Z"
   },
   {
    "duration": 5,
    "start_time": "2021-08-19T14:11:48.493Z"
   },
   {
    "duration": 5,
    "start_time": "2021-08-19T14:12:02.724Z"
   },
   {
    "duration": 5,
    "start_time": "2021-08-19T14:12:20.474Z"
   },
   {
    "duration": 33,
    "start_time": "2021-08-19T14:12:24.916Z"
   },
   {
    "duration": 18,
    "start_time": "2021-08-19T14:12:28.756Z"
   },
   {
    "duration": 18,
    "start_time": "2021-08-19T14:12:36.345Z"
   },
   {
    "duration": 8,
    "start_time": "2021-08-19T14:12:53.136Z"
   },
   {
    "duration": 28,
    "start_time": "2021-08-19T14:12:59.370Z"
   },
   {
    "duration": 33,
    "start_time": "2021-08-19T14:13:06.624Z"
   },
   {
    "duration": 315,
    "start_time": "2021-08-19T14:13:26.663Z"
   },
   {
    "duration": 32,
    "start_time": "2021-08-19T14:13:30.105Z"
   },
   {
    "duration": 11,
    "start_time": "2021-08-19T14:14:02.105Z"
   },
   {
    "duration": 34,
    "start_time": "2021-08-19T14:14:16.324Z"
   },
   {
    "duration": 20,
    "start_time": "2021-08-19T14:16:45.869Z"
   },
   {
    "duration": 15,
    "start_time": "2021-08-19T14:16:49.687Z"
   },
   {
    "duration": 23,
    "start_time": "2021-08-19T14:17:12.370Z"
   },
   {
    "duration": 15,
    "start_time": "2021-08-19T14:17:34.797Z"
   },
   {
    "duration": 34,
    "start_time": "2021-08-19T14:18:57.008Z"
   },
   {
    "duration": 7,
    "start_time": "2021-08-19T14:19:30.668Z"
   },
   {
    "duration": 12,
    "start_time": "2021-08-19T14:19:34.859Z"
   },
   {
    "duration": 11,
    "start_time": "2021-08-19T14:20:22.387Z"
   },
   {
    "duration": 102,
    "start_time": "2021-08-19T14:21:36.776Z"
   },
   {
    "duration": 8,
    "start_time": "2021-08-19T14:22:29.799Z"
   },
   {
    "duration": 6,
    "start_time": "2021-08-19T14:22:53.146Z"
   },
   {
    "duration": 16,
    "start_time": "2021-08-19T14:22:56.060Z"
   },
   {
    "duration": 9,
    "start_time": "2021-08-19T14:23:04.967Z"
   },
   {
    "duration": 5,
    "start_time": "2021-08-19T14:23:16.584Z"
   },
   {
    "duration": 12,
    "start_time": "2021-08-19T14:23:19.267Z"
   },
   {
    "duration": 7,
    "start_time": "2021-08-19T14:23:42.487Z"
   },
   {
    "duration": 479,
    "start_time": "2021-08-19T14:23:45.199Z"
   },
   {
    "duration": 736,
    "start_time": "2021-08-19T14:23:56.395Z"
   },
   {
    "duration": 332,
    "start_time": "2021-08-19T14:23:58.996Z"
   },
   {
    "duration": 163,
    "start_time": "2021-08-19T14:37:09.531Z"
   },
   {
    "duration": 21,
    "start_time": "2021-08-19T14:37:13.918Z"
   },
   {
    "duration": 293,
    "start_time": "2021-08-19T14:37:22.992Z"
   },
   {
    "duration": 19,
    "start_time": "2021-08-19T14:37:57.352Z"
   },
   {
    "duration": 10,
    "start_time": "2021-08-19T14:38:02.510Z"
   },
   {
    "duration": 6,
    "start_time": "2021-08-19T14:38:11.792Z"
   },
   {
    "duration": 6,
    "start_time": "2021-08-19T14:38:16.331Z"
   },
   {
    "duration": 88,
    "start_time": "2021-08-19T14:39:16.638Z"
   },
   {
    "duration": 281,
    "start_time": "2021-08-19T14:39:33.090Z"
   },
   {
    "duration": 270,
    "start_time": "2021-08-19T14:39:38.417Z"
   },
   {
    "duration": 312,
    "start_time": "2021-08-19T14:40:22.780Z"
   },
   {
    "duration": 4,
    "start_time": "2021-08-19T14:49:33.531Z"
   },
   {
    "duration": 6,
    "start_time": "2021-08-19T14:49:45.693Z"
   },
   {
    "duration": 33,
    "start_time": "2021-08-19T14:49:49.581Z"
   },
   {
    "duration": 8,
    "start_time": "2021-08-19T14:58:36.155Z"
   },
   {
    "duration": 288,
    "start_time": "2021-08-19T14:58:51.722Z"
   },
   {
    "duration": 276,
    "start_time": "2021-08-19T14:58:59.212Z"
   },
   {
    "duration": 346,
    "start_time": "2021-08-19T14:59:04.614Z"
   },
   {
    "duration": 270,
    "start_time": "2021-08-19T14:59:07.923Z"
   },
   {
    "duration": 8,
    "start_time": "2021-08-19T15:04:56.202Z"
   },
   {
    "duration": 297,
    "start_time": "2021-08-19T15:12:53.405Z"
   },
   {
    "duration": 320,
    "start_time": "2021-08-19T15:13:01.563Z"
   },
   {
    "duration": 31,
    "start_time": "2021-08-19T15:14:16.710Z"
   },
   {
    "duration": 13,
    "start_time": "2021-08-19T15:18:21.874Z"
   },
   {
    "duration": 3571,
    "start_time": "2021-08-19T15:18:37.544Z"
   },
   {
    "duration": 3266,
    "start_time": "2021-08-19T15:18:49.824Z"
   },
   {
    "duration": 9085,
    "start_time": "2021-08-19T15:19:10.584Z"
   },
   {
    "duration": 35,
    "start_time": "2021-08-19T15:20:23.116Z"
   },
   {
    "duration": 33,
    "start_time": "2021-08-19T15:20:52.542Z"
   },
   {
    "duration": 35,
    "start_time": "2021-08-19T15:22:20.317Z"
   },
   {
    "duration": 36,
    "start_time": "2021-08-19T15:22:31.877Z"
   },
   {
    "duration": 36,
    "start_time": "2021-08-19T15:23:12.205Z"
   },
   {
    "duration": 35,
    "start_time": "2021-08-19T15:23:28.214Z"
   },
   {
    "duration": 29,
    "start_time": "2021-08-19T15:24:03.693Z"
   },
   {
    "duration": 37,
    "start_time": "2021-08-19T15:24:11.793Z"
   },
   {
    "duration": 36,
    "start_time": "2021-08-19T15:26:12.307Z"
   },
   {
    "duration": 39,
    "start_time": "2021-08-19T15:28:39.212Z"
   },
   {
    "duration": 5,
    "start_time": "2021-08-19T15:45:26.774Z"
   },
   {
    "duration": 519,
    "start_time": "2021-08-19T15:55:53.541Z"
   },
   {
    "duration": 348,
    "start_time": "2021-08-19T16:06:51.474Z"
   },
   {
    "duration": 34,
    "start_time": "2021-08-19T16:07:00.865Z"
   },
   {
    "duration": 33,
    "start_time": "2021-08-19T16:07:11.928Z"
   },
   {
    "duration": 263,
    "start_time": "2021-08-19T16:09:55.069Z"
   },
   {
    "duration": 29,
    "start_time": "2021-08-19T16:10:10.662Z"
   },
   {
    "duration": 3,
    "start_time": "2021-08-19T16:10:54.713Z"
   },
   {
    "duration": 6875,
    "start_time": "2021-08-19T16:11:36.353Z"
   },
   {
    "duration": 12,
    "start_time": "2021-08-19T16:12:03.376Z"
   },
   {
    "duration": 14,
    "start_time": "2021-08-19T16:12:12.160Z"
   },
   {
    "duration": 10,
    "start_time": "2021-08-19T16:13:46.457Z"
   },
   {
    "duration": 10,
    "start_time": "2021-08-19T16:15:02.208Z"
   },
   {
    "duration": 3,
    "start_time": "2021-08-19T16:15:02.574Z"
   },
   {
    "duration": 32,
    "start_time": "2021-08-19T16:15:04.713Z"
   },
   {
    "duration": 29,
    "start_time": "2021-08-19T16:15:31.368Z"
   },
   {
    "duration": 12,
    "start_time": "2021-08-19T16:16:19.213Z"
   },
   {
    "duration": 27,
    "start_time": "2021-08-19T16:16:22.240Z"
   },
   {
    "duration": 35,
    "start_time": "2021-08-19T16:17:24.533Z"
   },
   {
    "duration": 138,
    "start_time": "2021-08-19T16:22:44.882Z"
   },
   {
    "duration": 325,
    "start_time": "2021-08-19T16:22:50.835Z"
   },
   {
    "duration": 5,
    "start_time": "2021-08-19T16:23:06.732Z"
   },
   {
    "duration": 58,
    "start_time": "2021-08-19T16:23:13.906Z"
   },
   {
    "duration": 53,
    "start_time": "2021-08-19T16:23:30.695Z"
   },
   {
    "duration": 12,
    "start_time": "2021-08-19T16:23:39.188Z"
   },
   {
    "duration": 10,
    "start_time": "2021-08-19T16:24:28.127Z"
   },
   {
    "duration": 108,
    "start_time": "2021-08-19T16:24:59.496Z"
   },
   {
    "duration": 6,
    "start_time": "2021-08-19T16:25:03.298Z"
   },
   {
    "duration": 54,
    "start_time": "2021-08-19T16:25:09.822Z"
   },
   {
    "duration": 10,
    "start_time": "2021-08-19T16:25:11.909Z"
   },
   {
    "duration": 33,
    "start_time": "2021-08-19T16:25:25.758Z"
   },
   {
    "duration": 7,
    "start_time": "2021-08-19T16:25:31.978Z"
   },
   {
    "duration": 59,
    "start_time": "2021-08-19T16:25:35.487Z"
   },
   {
    "duration": 12,
    "start_time": "2021-08-19T16:25:38.046Z"
   },
   {
    "duration": 12,
    "start_time": "2021-08-19T16:26:24.138Z"
   },
   {
    "duration": 35,
    "start_time": "2021-08-19T16:26:29.698Z"
   },
   {
    "duration": 12,
    "start_time": "2021-08-19T16:26:34.646Z"
   },
   {
    "duration": 4,
    "start_time": "2021-08-19T16:26:45.792Z"
   },
   {
    "duration": 50,
    "start_time": "2021-08-19T16:26:52.046Z"
   },
   {
    "duration": 10,
    "start_time": "2021-08-19T16:26:53.815Z"
   },
   {
    "duration": 11,
    "start_time": "2021-08-19T16:27:00.627Z"
   },
   {
    "duration": 27,
    "start_time": "2021-08-19T16:27:03.307Z"
   },
   {
    "duration": 54,
    "start_time": "2021-08-19T16:27:05.967Z"
   },
   {
    "duration": 32,
    "start_time": "2021-08-19T16:27:36.447Z"
   },
   {
    "duration": 35,
    "start_time": "2021-08-19T16:27:45.693Z"
   },
   {
    "duration": 12,
    "start_time": "2021-08-19T16:27:49.690Z"
   },
   {
    "duration": 53,
    "start_time": "2021-08-19T16:27:52.289Z"
   },
   {
    "duration": 10,
    "start_time": "2021-08-19T16:27:53.879Z"
   },
   {
    "duration": 22,
    "start_time": "2021-08-19T16:27:59.799Z"
   },
   {
    "duration": 26,
    "start_time": "2021-08-19T16:30:17.778Z"
   },
   {
    "duration": 25,
    "start_time": "2021-08-19T16:30:21.111Z"
   },
   {
    "duration": 259,
    "start_time": "2021-08-19T16:32:11.586Z"
   },
   {
    "duration": 5,
    "start_time": "2021-08-19T16:32:34.966Z"
   },
   {
    "duration": 9,
    "start_time": "2021-08-19T16:39:05.817Z"
   },
   {
    "duration": 36,
    "start_time": "2021-08-19T16:40:01.930Z"
   },
   {
    "duration": 66,
    "start_time": "2021-08-19T16:40:05.190Z"
   },
   {
    "duration": 8,
    "start_time": "2021-08-19T16:40:06.709Z"
   },
   {
    "duration": 268,
    "start_time": "2021-08-19T16:41:02.090Z"
   },
   {
    "duration": 7,
    "start_time": "2021-08-19T17:06:23.097Z"
   },
   {
    "duration": 9,
    "start_time": "2021-08-19T17:06:34.310Z"
   },
   {
    "duration": 9,
    "start_time": "2021-08-19T17:06:39.369Z"
   },
   {
    "duration": 439,
    "start_time": "2021-08-19T17:06:59.340Z"
   },
   {
    "duration": 258,
    "start_time": "2021-08-19T17:07:16.789Z"
   },
   {
    "duration": 8,
    "start_time": "2021-08-19T17:07:55.951Z"
   },
   {
    "duration": 16,
    "start_time": "2021-08-19T17:11:44.668Z"
   },
   {
    "duration": 5,
    "start_time": "2021-08-19T17:16:37.579Z"
   },
   {
    "duration": 223,
    "start_time": "2021-08-19T17:16:54.438Z"
   },
   {
    "duration": 5,
    "start_time": "2021-08-19T17:17:15.799Z"
   },
   {
    "duration": 138,
    "start_time": "2021-08-19T17:17:18.218Z"
   },
   {
    "duration": 6,
    "start_time": "2021-08-19T17:17:34.911Z"
   },
   {
    "duration": 223,
    "start_time": "2021-08-19T17:17:36.733Z"
   },
   {
    "duration": 85,
    "start_time": "2021-08-19T17:18:07.722Z"
   },
   {
    "duration": 3,
    "start_time": "2021-08-19T17:30:00.076Z"
   },
   {
    "duration": 63,
    "start_time": "2021-08-19T17:30:01.779Z"
   },
   {
    "duration": 4,
    "start_time": "2021-08-19T17:32:00.933Z"
   },
   {
    "duration": 61,
    "start_time": "2021-08-19T17:32:07.302Z"
   },
   {
    "duration": 96,
    "start_time": "2021-08-19T17:32:30.068Z"
   },
   {
    "duration": 6,
    "start_time": "2021-08-19T17:34:35.292Z"
   },
   {
    "duration": 6,
    "start_time": "2021-08-19T17:34:39.756Z"
   },
   {
    "duration": 5,
    "start_time": "2021-08-19T17:34:52.431Z"
   },
   {
    "duration": 5,
    "start_time": "2021-08-19T17:36:51.657Z"
   },
   {
    "duration": 5,
    "start_time": "2021-08-19T17:40:02.489Z"
   },
   {
    "duration": 657,
    "start_time": "2021-08-19T17:40:04.655Z"
   },
   {
    "duration": 5,
    "start_time": "2021-08-19T17:40:17.650Z"
   },
   {
    "duration": 119,
    "start_time": "2021-08-19T17:40:21.145Z"
   },
   {
    "duration": 5,
    "start_time": "2021-08-19T17:40:43.810Z"
   },
   {
    "duration": 247,
    "start_time": "2021-08-19T17:40:47.108Z"
   },
   {
    "duration": 4,
    "start_time": "2021-08-19T17:41:03.437Z"
   },
   {
    "duration": 202,
    "start_time": "2021-08-19T17:41:04.954Z"
   },
   {
    "duration": 267,
    "start_time": "2021-08-19T17:46:55.385Z"
   },
   {
    "duration": 6,
    "start_time": "2021-08-19T18:03:17.883Z"
   },
   {
    "duration": 10,
    "start_time": "2021-08-19T18:03:17.891Z"
   },
   {
    "duration": 150,
    "start_time": "2021-08-19T18:03:17.904Z"
   },
   {
    "duration": 21,
    "start_time": "2021-08-19T18:03:18.057Z"
   },
   {
    "duration": 24,
    "start_time": "2021-08-19T18:03:18.081Z"
   },
   {
    "duration": 66,
    "start_time": "2021-08-19T18:03:18.108Z"
   },
   {
    "duration": 10,
    "start_time": "2021-08-19T18:03:18.177Z"
   },
   {
    "duration": 307,
    "start_time": "2021-08-19T18:03:18.190Z"
   },
   {
    "duration": 6,
    "start_time": "2021-08-19T18:03:18.502Z"
   },
   {
    "duration": 8,
    "start_time": "2021-08-19T18:03:18.512Z"
   },
   {
    "duration": 36,
    "start_time": "2021-08-19T18:03:18.523Z"
   },
   {
    "duration": 35,
    "start_time": "2021-08-19T18:03:18.561Z"
   },
   {
    "duration": 7,
    "start_time": "2021-08-19T18:03:18.598Z"
   },
   {
    "duration": 16,
    "start_time": "2021-08-19T18:03:18.607Z"
   },
   {
    "duration": 4,
    "start_time": "2021-08-19T18:03:18.655Z"
   },
   {
    "duration": 31,
    "start_time": "2021-08-19T18:03:18.661Z"
   },
   {
    "duration": 5,
    "start_time": "2021-08-19T18:03:18.695Z"
   },
   {
    "duration": 10,
    "start_time": "2021-08-19T18:03:18.703Z"
   },
   {
    "duration": 88,
    "start_time": "2021-08-19T18:03:18.715Z"
   },
   {
    "duration": 712,
    "start_time": "2021-08-19T18:03:18.805Z"
   },
   {
    "duration": 4,
    "start_time": "2021-08-19T18:03:19.519Z"
   },
   {
    "duration": 232,
    "start_time": "2021-08-19T18:03:19.525Z"
   },
   {
    "duration": 779,
    "start_time": "2021-08-19T18:03:34.316Z"
   },
   {
    "duration": 787,
    "start_time": "2021-08-19T18:03:49.060Z"
   },
   {
    "duration": 729,
    "start_time": "2021-08-19T18:04:02.944Z"
   },
   {
    "duration": 2436,
    "start_time": "2021-08-19T18:04:08.958Z"
   },
   {
    "duration": 734,
    "start_time": "2021-08-19T18:04:23.001Z"
   },
   {
    "duration": 1618,
    "start_time": "2021-08-19T18:04:45.161Z"
   },
   {
    "duration": 1579,
    "start_time": "2021-08-19T18:05:06.129Z"
   },
   {
    "duration": 304,
    "start_time": "2021-08-19T18:06:35.564Z"
   },
   {
    "duration": 1603,
    "start_time": "2021-08-19T18:06:46.276Z"
   },
   {
    "duration": 1671,
    "start_time": "2021-08-19T18:07:20.404Z"
   },
   {
    "duration": 1597,
    "start_time": "2021-08-19T18:08:01.790Z"
   },
   {
    "duration": 6,
    "start_time": "2021-08-19T18:11:04.261Z"
   },
   {
    "duration": 6,
    "start_time": "2021-08-19T18:11:33.795Z"
   },
   {
    "duration": 6,
    "start_time": "2021-08-19T18:11:38.844Z"
   },
   {
    "duration": 5,
    "start_time": "2021-08-19T18:11:46.832Z"
   },
   {
    "duration": 1327,
    "start_time": "2021-08-19T18:11:48.851Z"
   },
   {
    "duration": 6,
    "start_time": "2021-08-19T18:12:31.392Z"
   },
   {
    "duration": 689,
    "start_time": "2021-08-19T18:12:40.352Z"
   },
   {
    "duration": 7,
    "start_time": "2021-08-19T18:12:52.183Z"
   },
   {
    "duration": 597,
    "start_time": "2021-08-19T18:12:54.434Z"
   },
   {
    "duration": 4,
    "start_time": "2021-08-19T18:12:56.343Z"
   },
   {
    "duration": 605,
    "start_time": "2021-08-19T18:12:58.120Z"
   },
   {
    "duration": 293,
    "start_time": "2021-08-20T05:43:46.735Z"
   },
   {
    "duration": 1463,
    "start_time": "2021-08-20T05:43:55.653Z"
   },
   {
    "duration": 7,
    "start_time": "2021-08-20T05:43:57.119Z"
   },
   {
    "duration": 323,
    "start_time": "2021-08-20T05:43:57.129Z"
   },
   {
    "duration": 28,
    "start_time": "2021-08-20T05:43:57.455Z"
   },
   {
    "duration": 20,
    "start_time": "2021-08-20T05:43:57.486Z"
   },
   {
    "duration": 32,
    "start_time": "2021-08-20T05:43:57.509Z"
   },
   {
    "duration": 10,
    "start_time": "2021-08-20T05:43:57.568Z"
   },
   {
    "duration": 319,
    "start_time": "2021-08-20T05:43:57.583Z"
   },
   {
    "duration": 7,
    "start_time": "2021-08-20T05:43:57.906Z"
   },
   {
    "duration": 8,
    "start_time": "2021-08-20T05:43:57.916Z"
   },
   {
    "duration": 40,
    "start_time": "2021-08-20T05:43:57.927Z"
   },
   {
    "duration": 37,
    "start_time": "2021-08-20T05:43:57.971Z"
   },
   {
    "duration": 10,
    "start_time": "2021-08-20T05:43:58.011Z"
   },
   {
    "duration": 56,
    "start_time": "2021-08-20T05:43:58.024Z"
   },
   {
    "duration": 4,
    "start_time": "2021-08-20T05:43:58.082Z"
   },
   {
    "duration": 29,
    "start_time": "2021-08-20T05:43:58.089Z"
   },
   {
    "duration": 7,
    "start_time": "2021-08-20T05:43:58.121Z"
   },
   {
    "duration": 39,
    "start_time": "2021-08-20T05:43:58.131Z"
   },
   {
    "duration": 681,
    "start_time": "2021-08-20T05:43:58.173Z"
   },
   {
    "duration": 12370,
    "start_time": "2021-08-20T05:43:46.486Z"
   },
   {
    "duration": 12353,
    "start_time": "2021-08-20T05:43:46.505Z"
   },
   {
    "duration": 12347,
    "start_time": "2021-08-20T05:43:46.512Z"
   },
   {
    "duration": 5,
    "start_time": "2021-08-20T05:44:13.119Z"
   },
   {
    "duration": 10,
    "start_time": "2021-08-20T05:44:13.128Z"
   },
   {
    "duration": 161,
    "start_time": "2021-08-20T05:44:13.142Z"
   },
   {
    "duration": 19,
    "start_time": "2021-08-20T05:44:13.305Z"
   },
   {
    "duration": 52,
    "start_time": "2021-08-20T05:44:13.327Z"
   },
   {
    "duration": 36,
    "start_time": "2021-08-20T05:44:13.382Z"
   },
   {
    "duration": 9,
    "start_time": "2021-08-20T05:44:13.421Z"
   },
   {
    "duration": 295,
    "start_time": "2021-08-20T05:44:13.466Z"
   },
   {
    "duration": 6,
    "start_time": "2021-08-20T05:44:13.764Z"
   },
   {
    "duration": 21,
    "start_time": "2021-08-20T05:44:13.772Z"
   },
   {
    "duration": 14,
    "start_time": "2021-08-20T05:44:13.796Z"
   },
   {
    "duration": 57,
    "start_time": "2021-08-20T05:44:13.813Z"
   },
   {
    "duration": 10,
    "start_time": "2021-08-20T05:44:13.873Z"
   },
   {
    "duration": 13,
    "start_time": "2021-08-20T05:44:13.885Z"
   },
   {
    "duration": 3,
    "start_time": "2021-08-20T05:44:13.900Z"
   },
   {
    "duration": 31,
    "start_time": "2021-08-20T05:44:13.905Z"
   },
   {
    "duration": 7,
    "start_time": "2021-08-20T05:44:13.968Z"
   },
   {
    "duration": 13,
    "start_time": "2021-08-20T05:44:13.977Z"
   },
   {
    "duration": 595,
    "start_time": "2021-08-20T05:44:13.992Z"
   },
   {
    "duration": 12411,
    "start_time": "2021-08-20T05:44:02.178Z"
   },
   {
    "duration": 12408,
    "start_time": "2021-08-20T05:44:02.182Z"
   },
   {
    "duration": 12403,
    "start_time": "2021-08-20T05:44:02.189Z"
   },
   {
    "duration": 503,
    "start_time": "2021-08-20T05:44:17.387Z"
   },
   {
    "duration": 6,
    "start_time": "2021-08-20T05:49:31.219Z"
   },
   {
    "duration": 565,
    "start_time": "2021-08-20T05:49:33.875Z"
   },
   {
    "duration": 5,
    "start_time": "2021-08-20T05:58:45.524Z"
   },
   {
    "duration": 67,
    "start_time": "2021-08-20T05:58:47.703Z"
   },
   {
    "duration": 12,
    "start_time": "2021-08-20T09:10:12.916Z"
   },
   {
    "duration": 3,
    "start_time": "2021-08-20T09:10:13.858Z"
   },
   {
    "duration": 28,
    "start_time": "2021-08-20T09:10:14.196Z"
   },
   {
    "duration": 5,
    "start_time": "2021-08-20T09:10:15.928Z"
   },
   {
    "duration": 11,
    "start_time": "2021-08-20T09:10:58.237Z"
   },
   {
    "duration": 3,
    "start_time": "2021-08-20T09:10:59.233Z"
   },
   {
    "duration": 27,
    "start_time": "2021-08-20T09:10:59.617Z"
   },
   {
    "duration": 5,
    "start_time": "2021-08-20T09:11:00.918Z"
   },
   {
    "duration": 4,
    "start_time": "2021-08-20T09:11:03.708Z"
   },
   {
    "duration": 69,
    "start_time": "2021-08-20T09:11:05.649Z"
   },
   {
    "duration": 12,
    "start_time": "2021-08-20T09:18:23.037Z"
   },
   {
    "duration": 4,
    "start_time": "2021-08-20T09:18:23.937Z"
   },
   {
    "duration": 15,
    "start_time": "2021-08-20T09:18:27.897Z"
   },
   {
    "duration": 3,
    "start_time": "2021-08-20T09:18:28.549Z"
   },
   {
    "duration": 3,
    "start_time": "2021-08-20T09:18:28.889Z"
   },
   {
    "duration": 6,
    "start_time": "2021-08-20T09:18:30.858Z"
   },
   {
    "duration": 4,
    "start_time": "2021-08-20T09:18:32.737Z"
   },
   {
    "duration": 67,
    "start_time": "2021-08-20T09:18:33.669Z"
   },
   {
    "duration": 12,
    "start_time": "2021-08-20T09:20:21.197Z"
   },
   {
    "duration": 4,
    "start_time": "2021-08-20T09:20:21.916Z"
   },
   {
    "duration": 29,
    "start_time": "2021-08-20T09:20:22.164Z"
   },
   {
    "duration": 9,
    "start_time": "2021-08-20T09:20:23.824Z"
   },
   {
    "duration": 4,
    "start_time": "2021-08-20T09:20:26.448Z"
   },
   {
    "duration": 70,
    "start_time": "2021-08-20T09:20:28.373Z"
   },
   {
    "duration": 1670,
    "start_time": "2021-08-20T09:37:50.937Z"
   },
   {
    "duration": 4,
    "start_time": "2021-08-20T09:53:30.386Z"
   },
   {
    "duration": 193,
    "start_time": "2021-08-20T09:53:31.176Z"
   },
   {
    "duration": 3403,
    "start_time": "2021-08-20T09:54:35.677Z"
   },
   {
    "duration": 127924,
    "start_time": "2021-08-20T09:54:53.884Z"
   },
   {
    "duration": 7,
    "start_time": "2021-08-20T11:04:20.307Z"
   },
   {
    "duration": 12,
    "start_time": "2021-08-20T11:04:20.318Z"
   },
   {
    "duration": 157,
    "start_time": "2021-08-20T11:04:20.334Z"
   },
   {
    "duration": 19,
    "start_time": "2021-08-20T11:04:20.494Z"
   },
   {
    "duration": 25,
    "start_time": "2021-08-20T11:04:20.516Z"
   },
   {
    "duration": 55,
    "start_time": "2021-08-20T11:04:20.543Z"
   },
   {
    "duration": 7,
    "start_time": "2021-08-20T11:04:20.601Z"
   },
   {
    "duration": 339,
    "start_time": "2021-08-20T11:04:20.610Z"
   },
   {
    "duration": 14,
    "start_time": "2021-08-20T11:04:20.953Z"
   },
   {
    "duration": 16,
    "start_time": "2021-08-20T11:04:20.970Z"
   },
   {
    "duration": 30,
    "start_time": "2021-08-20T11:04:20.988Z"
   },
   {
    "duration": 57,
    "start_time": "2021-08-20T11:04:21.021Z"
   },
   {
    "duration": 8,
    "start_time": "2021-08-20T11:04:21.080Z"
   },
   {
    "duration": 33,
    "start_time": "2021-08-20T11:04:21.090Z"
   },
   {
    "duration": 11,
    "start_time": "2021-08-20T11:04:21.125Z"
   },
   {
    "duration": 37,
    "start_time": "2021-08-20T11:04:21.139Z"
   },
   {
    "duration": 8,
    "start_time": "2021-08-20T11:04:21.178Z"
   },
   {
    "duration": 23,
    "start_time": "2021-08-20T11:04:21.188Z"
   },
   {
    "duration": 84,
    "start_time": "2021-08-20T11:04:21.214Z"
   },
   {
    "duration": 128316,
    "start_time": "2021-08-20T11:04:21.300Z"
   },
   {
    "duration": 3,
    "start_time": "2021-08-20T11:06:29.619Z"
   },
   {
    "duration": 243,
    "start_time": "2021-08-20T11:06:29.625Z"
   },
   {
    "duration": 6,
    "start_time": "2021-08-20T11:06:29.880Z"
   },
   {
    "duration": 190,
    "start_time": "2021-08-20T11:06:43.680Z"
   },
   {
    "duration": 289,
    "start_time": "2021-08-20T11:08:04.103Z"
   },
   {
    "duration": 250,
    "start_time": "2021-08-20T11:08:40.643Z"
   },
   {
    "duration": 1880,
    "start_time": "2021-08-20T11:08:50.074Z"
   },
   {
    "duration": 1695,
    "start_time": "2021-08-20T11:09:10.824Z"
   },
   {
    "duration": 1682,
    "start_time": "2021-08-20T11:11:30.272Z"
   },
   {
    "duration": 1692,
    "start_time": "2021-08-20T11:11:50.230Z"
   },
   {
    "duration": 125780,
    "start_time": "2021-08-20T11:13:01.241Z"
   },
   {
    "duration": 1079,
    "start_time": "2021-08-20T13:26:14.566Z"
   },
   {
    "duration": 4,
    "start_time": "2021-08-20T13:26:15.646Z"
   },
   {
    "duration": 91,
    "start_time": "2021-08-20T13:26:15.652Z"
   },
   {
    "duration": 10,
    "start_time": "2021-08-20T13:26:15.745Z"
   },
   {
    "duration": 14,
    "start_time": "2021-08-20T13:26:15.756Z"
   },
   {
    "duration": 34,
    "start_time": "2021-08-20T13:26:15.772Z"
   },
   {
    "duration": 5,
    "start_time": "2021-08-20T13:26:15.807Z"
   },
   {
    "duration": 163,
    "start_time": "2021-08-20T13:26:15.813Z"
   },
   {
    "duration": 5,
    "start_time": "2021-08-20T13:26:15.979Z"
   },
   {
    "duration": 7,
    "start_time": "2021-08-20T13:26:15.991Z"
   },
   {
    "duration": 19,
    "start_time": "2021-08-20T13:26:15.999Z"
   },
   {
    "duration": 30,
    "start_time": "2021-08-20T13:26:16.019Z"
   },
   {
    "duration": 6,
    "start_time": "2021-08-20T13:26:16.050Z"
   },
   {
    "duration": 26,
    "start_time": "2021-08-20T13:26:16.057Z"
   },
   {
    "duration": 23,
    "start_time": "2021-08-20T13:26:16.085Z"
   },
   {
    "duration": 27,
    "start_time": "2021-08-20T13:26:16.109Z"
   },
   {
    "duration": 6,
    "start_time": "2021-08-20T13:26:16.138Z"
   },
   {
    "duration": 6,
    "start_time": "2021-08-20T13:26:16.145Z"
   },
   {
    "duration": 50,
    "start_time": "2021-08-20T13:26:16.152Z"
   },
   {
    "duration": 75608,
    "start_time": "2021-08-20T13:26:16.203Z"
   },
   {
    "duration": 3,
    "start_time": "2021-08-20T13:27:31.812Z"
   },
   {
    "duration": 181,
    "start_time": "2021-08-20T13:27:31.817Z"
   },
   {
    "duration": 5,
    "start_time": "2021-08-20T13:27:32.001Z"
   },
   {
    "duration": 3,
    "start_time": "2021-08-20T13:28:00.323Z"
   },
   {
    "duration": 20147,
    "start_time": "2021-08-20T13:28:02.376Z"
   },
   {
    "duration": 3,
    "start_time": "2021-08-20T13:28:25.720Z"
   },
   {
    "duration": 579,
    "start_time": "2021-08-20T13:28:29.478Z"
   },
   {
    "duration": 4,
    "start_time": "2021-08-20T13:29:11.898Z"
   },
   {
    "duration": 560,
    "start_time": "2021-08-20T13:29:14.671Z"
   },
   {
    "duration": 20935,
    "start_time": "2021-08-20T13:29:39.665Z"
   },
   {
    "duration": 77059,
    "start_time": "2021-08-20T13:32:03.310Z"
   },
   {
    "duration": 20768,
    "start_time": "2021-08-20T13:34:55.008Z"
   },
   {
    "duration": 3,
    "start_time": "2021-08-20T13:36:09.647Z"
   },
   {
    "duration": 37,
    "start_time": "2021-08-20T13:36:10.958Z"
   },
   {
    "duration": 3,
    "start_time": "2021-08-20T13:36:23.947Z"
   },
   {
    "duration": 109,
    "start_time": "2021-08-20T13:36:24.685Z"
   },
   {
    "duration": 2,
    "start_time": "2021-08-20T13:36:37.727Z"
   },
   {
    "duration": 124,
    "start_time": "2021-08-20T13:36:38.375Z"
   },
   {
    "duration": 84,
    "start_time": "2021-08-20T13:37:34.574Z"
   },
   {
    "duration": 111,
    "start_time": "2021-08-20T13:37:41.083Z"
   },
   {
    "duration": 364,
    "start_time": "2021-08-21T05:02:45.145Z"
   },
   {
    "duration": 1430,
    "start_time": "2021-08-21T05:03:27.268Z"
   },
   {
    "duration": 8,
    "start_time": "2021-08-21T05:03:28.700Z"
   },
   {
    "duration": 150,
    "start_time": "2021-08-21T05:03:28.711Z"
   },
   {
    "duration": 32,
    "start_time": "2021-08-21T05:03:28.864Z"
   },
   {
    "duration": 23,
    "start_time": "2021-08-21T05:03:28.898Z"
   },
   {
    "duration": 62,
    "start_time": "2021-08-21T05:03:28.924Z"
   },
   {
    "duration": 9,
    "start_time": "2021-08-21T05:03:28.989Z"
   },
   {
    "duration": 298,
    "start_time": "2021-08-21T05:03:29.002Z"
   },
   {
    "duration": 6,
    "start_time": "2021-08-21T05:03:29.304Z"
   },
   {
    "duration": 6,
    "start_time": "2021-08-21T05:03:29.312Z"
   },
   {
    "duration": 8,
    "start_time": "2021-08-21T05:03:29.321Z"
   },
   {
    "duration": 65,
    "start_time": "2021-08-21T05:03:29.332Z"
   },
   {
    "duration": 8,
    "start_time": "2021-08-21T05:03:29.399Z"
   },
   {
    "duration": 13,
    "start_time": "2021-08-21T05:03:29.409Z"
   },
   {
    "duration": 4,
    "start_time": "2021-08-21T05:03:29.424Z"
   },
   {
    "duration": 63,
    "start_time": "2021-08-21T05:03:29.430Z"
   },
   {
    "duration": 6,
    "start_time": "2021-08-21T05:03:29.495Z"
   },
   {
    "duration": 6,
    "start_time": "2021-08-21T05:03:29.504Z"
   },
   {
    "duration": 87,
    "start_time": "2021-08-21T05:03:29.512Z"
   },
   {
    "duration": 31130,
    "start_time": "2021-08-21T05:03:29.601Z"
   },
   {
    "duration": 4,
    "start_time": "2021-08-21T05:04:00.733Z"
   },
   {
    "duration": 245,
    "start_time": "2021-08-21T05:04:00.739Z"
   },
   {
    "duration": 513,
    "start_time": "2021-08-21T05:04:00.988Z"
   },
   {
    "duration": 13104,
    "start_time": "2021-08-21T05:03:48.400Z"
   },
   {
    "duration": 176,
    "start_time": "2021-08-21T05:04:37.008Z"
   },
   {
    "duration": 5,
    "start_time": "2021-08-21T05:05:05.117Z"
   },
   {
    "duration": 23,
    "start_time": "2021-08-21T05:05:09.883Z"
   },
   {
    "duration": 4,
    "start_time": "2021-08-21T05:05:16.772Z"
   },
   {
    "duration": 5,
    "start_time": "2021-08-21T05:06:20.281Z"
   },
   {
    "duration": 4,
    "start_time": "2021-08-21T05:06:33.543Z"
   },
   {
    "duration": 43,
    "start_time": "2021-08-21T05:07:44.343Z"
   },
   {
    "duration": 29,
    "start_time": "2021-08-21T05:08:04.237Z"
   },
   {
    "duration": 30,
    "start_time": "2021-08-21T05:08:17.726Z"
   },
   {
    "duration": 25,
    "start_time": "2021-08-21T05:08:42.286Z"
   },
   {
    "duration": 99,
    "start_time": "2021-08-21T05:09:44.303Z"
   },
   {
    "duration": 22,
    "start_time": "2021-08-21T05:10:44.919Z"
   },
   {
    "duration": 4,
    "start_time": "2021-08-21T05:10:47.330Z"
   },
   {
    "duration": 24,
    "start_time": "2021-08-21T05:17:07.932Z"
   },
   {
    "duration": 4,
    "start_time": "2021-08-21T05:17:09.323Z"
   },
   {
    "duration": 21,
    "start_time": "2021-08-21T05:17:16.162Z"
   },
   {
    "duration": 4,
    "start_time": "2021-08-21T05:17:17.016Z"
   },
   {
    "duration": 5,
    "start_time": "2021-08-21T05:17:25.762Z"
   },
   {
    "duration": 73,
    "start_time": "2021-08-21T05:18:27.013Z"
   },
   {
    "duration": 177,
    "start_time": "2021-08-21T05:18:56.208Z"
   },
   {
    "duration": 174,
    "start_time": "2021-08-21T05:20:10.911Z"
   },
   {
    "duration": 232,
    "start_time": "2021-08-21T05:20:58.055Z"
   },
   {
    "duration": 5,
    "start_time": "2021-08-21T05:21:06.429Z"
   },
   {
    "duration": 32,
    "start_time": "2021-08-21T05:21:32.409Z"
   },
   {
    "duration": 40,
    "start_time": "2021-08-21T05:21:36.990Z"
   },
   {
    "duration": 42,
    "start_time": "2021-08-21T05:21:40.316Z"
   },
   {
    "duration": 6,
    "start_time": "2021-08-21T05:21:41.049Z"
   },
   {
    "duration": 4,
    "start_time": "2021-08-21T05:21:48.873Z"
   },
   {
    "duration": 265,
    "start_time": "2021-08-21T05:21:50.319Z"
   },
   {
    "duration": 93,
    "start_time": "2021-08-21T05:23:20.767Z"
   },
   {
    "duration": 6,
    "start_time": "2021-08-21T05:27:21.845Z"
   },
   {
    "duration": 6,
    "start_time": "2021-08-21T05:27:36.235Z"
   },
   {
    "duration": 9,
    "start_time": "2021-08-21T05:28:46.669Z"
   },
   {
    "duration": 4,
    "start_time": "2021-08-21T05:28:50.695Z"
   },
   {
    "duration": 340,
    "start_time": "2021-08-21T05:28:59.963Z"
   },
   {
    "duration": 9,
    "start_time": "2021-08-21T05:31:29.910Z"
   },
   {
    "duration": 13,
    "start_time": "2021-08-21T05:31:38.046Z"
   },
   {
    "duration": 4,
    "start_time": "2021-08-21T05:31:47.070Z"
   },
   {
    "duration": 25,
    "start_time": "2021-08-21T05:31:48.680Z"
   },
   {
    "duration": 8,
    "start_time": "2021-08-21T05:31:54.416Z"
   },
   {
    "duration": 4,
    "start_time": "2021-08-21T05:31:56.519Z"
   },
   {
    "duration": 434,
    "start_time": "2021-08-21T05:31:57.650Z"
   },
   {
    "duration": 30397,
    "start_time": "2021-08-21T05:32:50.020Z"
   },
   {
    "duration": 9,
    "start_time": "2021-08-21T05:35:23.903Z"
   },
   {
    "duration": 4,
    "start_time": "2021-08-21T05:35:27.712Z"
   },
   {
    "duration": 340,
    "start_time": "2021-08-21T05:35:28.792Z"
   },
   {
    "duration": 4,
    "start_time": "2021-08-21T05:37:09.608Z"
   },
   {
    "duration": 297,
    "start_time": "2021-08-21T05:38:53.212Z"
   },
   {
    "duration": 294,
    "start_time": "2021-08-21T05:39:23.999Z"
   },
   {
    "duration": 228,
    "start_time": "2021-08-21T05:44:41.015Z"
   },
   {
    "duration": 675,
    "start_time": "2021-08-21T05:44:49.020Z"
   },
   {
    "duration": 673,
    "start_time": "2021-08-21T05:45:26.059Z"
   },
   {
    "duration": 241,
    "start_time": "2021-08-21T05:45:36.044Z"
   },
   {
    "duration": 815,
    "start_time": "2021-08-21T05:45:40.974Z"
   },
   {
    "duration": 12,
    "start_time": "2021-08-21T05:48:30.594Z"
   },
   {
    "duration": 1104,
    "start_time": "2021-08-21T05:48:33.447Z"
   },
   {
    "duration": 11,
    "start_time": "2021-08-21T05:49:06.492Z"
   },
   {
    "duration": 856,
    "start_time": "2021-08-21T05:49:12.012Z"
   },
   {
    "duration": 89,
    "start_time": "2021-08-21T05:49:58.758Z"
   },
   {
    "duration": 138,
    "start_time": "2021-08-21T05:50:17.494Z"
   },
   {
    "duration": 4,
    "start_time": "2021-08-21T05:51:14.855Z"
   },
   {
    "duration": 1181,
    "start_time": "2021-08-21T05:51:25.088Z"
   },
   {
    "duration": 1019,
    "start_time": "2021-08-21T05:51:52.948Z"
   },
   {
    "duration": 1099,
    "start_time": "2021-08-21T05:54:20.285Z"
   },
   {
    "duration": 3,
    "start_time": "2021-08-21T05:54:26.694Z"
   },
   {
    "duration": 557,
    "start_time": "2021-08-21T05:54:28.195Z"
   },
   {
    "duration": 88,
    "start_time": "2021-08-21T05:55:09.528Z"
   },
   {
    "duration": 11,
    "start_time": "2021-08-21T05:55:16.375Z"
   },
   {
    "duration": 4,
    "start_time": "2021-08-21T05:55:20.779Z"
   },
   {
    "duration": 545,
    "start_time": "2021-08-21T05:55:21.592Z"
   },
   {
    "duration": 66,
    "start_time": "2021-08-21T05:55:33.625Z"
   },
   {
    "duration": 1189,
    "start_time": "2021-08-21T05:55:46.394Z"
   },
   {
    "duration": 1017,
    "start_time": "2021-08-21T05:55:58.284Z"
   },
   {
    "duration": 11,
    "start_time": "2021-08-21T05:59:20.438Z"
   },
   {
    "duration": 4,
    "start_time": "2021-08-21T05:59:26.344Z"
   },
   {
    "duration": 69,
    "start_time": "2021-08-21T05:59:27.180Z"
   },
   {
    "duration": 1104,
    "start_time": "2021-08-21T05:59:38.848Z"
   },
   {
    "duration": 6,
    "start_time": "2021-08-21T05:59:53.959Z"
   },
   {
    "duration": 5,
    "start_time": "2021-08-21T06:00:01.362Z"
   },
   {
    "duration": 1132,
    "start_time": "2021-08-21T06:00:24.151Z"
   },
   {
    "duration": 783,
    "start_time": "2021-08-21T07:05:47.009Z"
   },
   {
    "duration": 837,
    "start_time": "2021-08-21T07:06:16.324Z"
   },
   {
    "duration": 5,
    "start_time": "2021-08-21T07:06:31.405Z"
   },
   {
    "duration": 16,
    "start_time": "2021-08-21T07:12:24.580Z"
   },
   {
    "duration": 4,
    "start_time": "2021-08-21T07:12:27.135Z"
   },
   {
    "duration": 26,
    "start_time": "2021-08-21T07:12:27.531Z"
   },
   {
    "duration": 12,
    "start_time": "2021-08-21T07:12:29.399Z"
   },
   {
    "duration": 5,
    "start_time": "2021-08-21T07:12:31.511Z"
   },
   {
    "duration": 78,
    "start_time": "2021-08-21T07:12:33.719Z"
   },
   {
    "duration": 42336,
    "start_time": "2021-08-21T07:12:45.076Z"
   },
   {
    "duration": 1301,
    "start_time": "2021-08-21T07:13:41.962Z"
   },
   {
    "duration": 933,
    "start_time": "2021-08-21T07:13:51.360Z"
   },
   {
    "duration": 1010,
    "start_time": "2021-08-21T07:14:28.557Z"
   },
   {
    "duration": 993,
    "start_time": "2021-08-21T07:14:35.599Z"
   },
   {
    "duration": 930,
    "start_time": "2021-08-21T07:15:01.659Z"
   },
   {
    "duration": 832,
    "start_time": "2021-08-21T07:16:41.136Z"
   },
   {
    "duration": 5,
    "start_time": "2021-08-21T07:17:09.795Z"
   },
   {
    "duration": 263,
    "start_time": "2021-08-21T07:18:28.250Z"
   },
   {
    "duration": 25,
    "start_time": "2021-08-21T07:18:52.142Z"
   },
   {
    "duration": 5,
    "start_time": "2021-08-21T07:19:10.498Z"
   },
   {
    "duration": 4,
    "start_time": "2021-08-21T07:19:13.246Z"
   },
   {
    "duration": 375,
    "start_time": "2021-08-21T07:19:14.575Z"
   },
   {
    "duration": 948,
    "start_time": "2021-08-21T07:19:29.675Z"
   },
   {
    "duration": 95,
    "start_time": "2021-08-21T07:20:38.153Z"
   },
   {
    "duration": 1587,
    "start_time": "2021-08-21T07:22:09.971Z"
   },
   {
    "duration": 1753,
    "start_time": "2021-08-21T07:24:55.595Z"
   },
   {
    "duration": 265,
    "start_time": "2021-08-21T07:26:00.684Z"
   },
   {
    "duration": 6,
    "start_time": "2021-08-21T07:28:15.728Z"
   },
   {
    "duration": 8,
    "start_time": "2021-08-21T07:28:15.737Z"
   },
   {
    "duration": 155,
    "start_time": "2021-08-21T07:28:15.748Z"
   },
   {
    "duration": 19,
    "start_time": "2021-08-21T07:28:15.906Z"
   },
   {
    "duration": 18,
    "start_time": "2021-08-21T07:28:15.928Z"
   },
   {
    "duration": 63,
    "start_time": "2021-08-21T07:28:15.949Z"
   },
   {
    "duration": 8,
    "start_time": "2021-08-21T07:28:16.015Z"
   },
   {
    "duration": 309,
    "start_time": "2021-08-21T07:28:16.027Z"
   },
   {
    "duration": 8,
    "start_time": "2021-08-21T07:28:16.340Z"
   },
   {
    "duration": 10,
    "start_time": "2021-08-21T07:28:16.350Z"
   },
   {
    "duration": 21,
    "start_time": "2021-08-21T07:28:16.363Z"
   },
   {
    "duration": 40,
    "start_time": "2021-08-21T07:28:16.386Z"
   },
   {
    "duration": 8,
    "start_time": "2021-08-21T07:28:16.428Z"
   },
   {
    "duration": 46,
    "start_time": "2021-08-21T07:28:16.439Z"
   },
   {
    "duration": 3,
    "start_time": "2021-08-21T07:28:16.488Z"
   },
   {
    "duration": 25,
    "start_time": "2021-08-21T07:28:16.493Z"
   },
   {
    "duration": 10,
    "start_time": "2021-08-21T07:28:16.521Z"
   },
   {
    "duration": 9,
    "start_time": "2021-08-21T07:28:16.534Z"
   },
   {
    "duration": 111,
    "start_time": "2021-08-21T07:28:16.545Z"
   },
   {
    "duration": 6,
    "start_time": "2021-08-21T07:28:16.658Z"
   },
   {
    "duration": 13131,
    "start_time": "2021-08-21T07:28:03.535Z"
   },
   {
    "duration": 13142,
    "start_time": "2021-08-21T07:28:03.540Z"
   },
   {
    "duration": 13121,
    "start_time": "2021-08-21T07:28:03.562Z"
   },
   {
    "duration": 13119,
    "start_time": "2021-08-21T07:28:03.566Z"
   },
   {
    "duration": 13117,
    "start_time": "2021-08-21T07:28:03.569Z"
   },
   {
    "duration": 13114,
    "start_time": "2021-08-21T07:28:03.573Z"
   },
   {
    "duration": 13113,
    "start_time": "2021-08-21T07:28:03.576Z"
   },
   {
    "duration": 13108,
    "start_time": "2021-08-21T07:28:03.582Z"
   },
   {
    "duration": 13105,
    "start_time": "2021-08-21T07:28:03.586Z"
   },
   {
    "duration": 13102,
    "start_time": "2021-08-21T07:28:03.590Z"
   },
   {
    "duration": 120575,
    "start_time": "2021-08-21T07:29:04.485Z"
   },
   {
    "duration": 649,
    "start_time": "2021-08-21T07:31:22.976Z"
   },
   {
    "duration": 656,
    "start_time": "2021-08-21T07:34:03.986Z"
   },
   {
    "duration": 645,
    "start_time": "2021-08-21T07:34:10.154Z"
   },
   {
    "duration": 120144,
    "start_time": "2021-08-21T07:36:24.101Z"
   },
   {
    "duration": 708,
    "start_time": "2021-08-21T07:39:24.137Z"
   },
   {
    "duration": 729,
    "start_time": "2021-08-21T07:39:41.539Z"
   },
   {
    "duration": 722,
    "start_time": "2021-08-21T07:40:51.435Z"
   },
   {
    "duration": 714,
    "start_time": "2021-08-21T07:42:15.336Z"
   },
   {
    "duration": 877,
    "start_time": "2021-08-21T07:42:16.053Z"
   },
   {
    "duration": 863,
    "start_time": "2021-08-21T07:42:16.933Z"
   },
   {
    "duration": 4,
    "start_time": "2021-08-21T07:42:17.799Z"
   },
   {
    "duration": 31,
    "start_time": "2021-08-21T07:42:17.806Z"
   },
   {
    "duration": 8,
    "start_time": "2021-08-21T07:42:17.840Z"
   },
   {
    "duration": 31,
    "start_time": "2021-08-21T07:42:17.851Z"
   },
   {
    "duration": 950,
    "start_time": "2021-08-21T07:42:17.886Z"
   },
   {
    "duration": 1473,
    "start_time": "2021-08-21T07:42:18.838Z"
   },
   {
    "duration": 1826,
    "start_time": "2021-08-21T07:42:20.314Z"
   },
   {
    "duration": 864,
    "start_time": "2021-08-21T07:43:19.506Z"
   },
   {
    "duration": 841,
    "start_time": "2021-08-21T07:44:01.611Z"
   },
   {
    "duration": 978,
    "start_time": "2021-08-21T07:44:11.468Z"
   },
   {
    "duration": 878,
    "start_time": "2021-08-21T07:44:15.278Z"
   },
   {
    "duration": 6,
    "start_time": "2021-08-21T07:44:49.777Z"
   },
   {
    "duration": 9,
    "start_time": "2021-08-21T07:44:49.786Z"
   },
   {
    "duration": 159,
    "start_time": "2021-08-21T07:44:49.798Z"
   },
   {
    "duration": 38,
    "start_time": "2021-08-21T07:44:49.960Z"
   },
   {
    "duration": 22,
    "start_time": "2021-08-21T07:44:50.001Z"
   },
   {
    "duration": 62,
    "start_time": "2021-08-21T07:44:50.026Z"
   },
   {
    "duration": 9,
    "start_time": "2021-08-21T07:44:50.090Z"
   },
   {
    "duration": 293,
    "start_time": "2021-08-21T07:44:50.103Z"
   },
   {
    "duration": 7,
    "start_time": "2021-08-21T07:44:50.399Z"
   },
   {
    "duration": 4,
    "start_time": "2021-08-21T07:44:50.408Z"
   },
   {
    "duration": 10,
    "start_time": "2021-08-21T07:44:50.415Z"
   },
   {
    "duration": 64,
    "start_time": "2021-08-21T07:44:50.427Z"
   },
   {
    "duration": 7,
    "start_time": "2021-08-21T07:44:50.494Z"
   },
   {
    "duration": 15,
    "start_time": "2021-08-21T07:44:50.504Z"
   },
   {
    "duration": 4,
    "start_time": "2021-08-21T07:44:50.521Z"
   },
   {
    "duration": 61,
    "start_time": "2021-08-21T07:44:50.527Z"
   },
   {
    "duration": 10,
    "start_time": "2021-08-21T07:44:50.591Z"
   },
   {
    "duration": 11,
    "start_time": "2021-08-21T07:44:50.604Z"
   },
   {
    "duration": 559,
    "start_time": "2021-08-21T07:44:50.618Z"
   },
   {
    "duration": 13044,
    "start_time": "2021-08-21T07:44:38.135Z"
   },
   {
    "duration": 13042,
    "start_time": "2021-08-21T07:44:38.139Z"
   },
   {
    "duration": 13040,
    "start_time": "2021-08-21T07:44:38.142Z"
   },
   {
    "duration": 13037,
    "start_time": "2021-08-21T07:44:38.146Z"
   },
   {
    "duration": 13036,
    "start_time": "2021-08-21T07:44:38.148Z"
   },
   {
    "duration": 13032,
    "start_time": "2021-08-21T07:44:38.154Z"
   },
   {
    "duration": 13030,
    "start_time": "2021-08-21T07:44:38.157Z"
   },
   {
    "duration": 13028,
    "start_time": "2021-08-21T07:44:38.161Z"
   },
   {
    "duration": 13026,
    "start_time": "2021-08-21T07:44:38.164Z"
   },
   {
    "duration": 13024,
    "start_time": "2021-08-21T07:44:38.167Z"
   },
   {
    "duration": 13024,
    "start_time": "2021-08-21T07:44:38.169Z"
   },
   {
    "duration": 13020,
    "start_time": "2021-08-21T07:44:38.174Z"
   },
   {
    "duration": 1025,
    "start_time": "2021-08-21T07:46:06.330Z"
   },
   {
    "duration": 961,
    "start_time": "2021-08-21T07:46:17.688Z"
   },
   {
    "duration": 18,
    "start_time": "2021-08-21T07:46:26.373Z"
   },
   {
    "duration": 7,
    "start_time": "2021-08-21T07:46:31.906Z"
   },
   {
    "duration": 34,
    "start_time": "2021-08-21T07:46:40.542Z"
   },
   {
    "duration": 13,
    "start_time": "2021-08-21T07:46:47.010Z"
   },
   {
    "duration": 9,
    "start_time": "2021-08-21T07:47:05.141Z"
   },
   {
    "duration": 8,
    "start_time": "2021-08-21T07:47:16.577Z"
   },
   {
    "duration": 6,
    "start_time": "2021-08-21T07:47:26.839Z"
   },
   {
    "duration": 10,
    "start_time": "2021-08-21T07:47:26.848Z"
   },
   {
    "duration": 140,
    "start_time": "2021-08-21T07:47:26.861Z"
   },
   {
    "duration": 20,
    "start_time": "2021-08-21T07:47:27.003Z"
   },
   {
    "duration": 19,
    "start_time": "2021-08-21T07:47:27.026Z"
   },
   {
    "duration": 33,
    "start_time": "2021-08-21T07:47:27.083Z"
   },
   {
    "duration": 8,
    "start_time": "2021-08-21T07:47:27.118Z"
   },
   {
    "duration": 295,
    "start_time": "2021-08-21T07:47:27.130Z"
   },
   {
    "duration": 6,
    "start_time": "2021-08-21T07:47:27.428Z"
   },
   {
    "duration": 12,
    "start_time": "2021-08-21T07:47:27.436Z"
   },
   {
    "duration": 6,
    "start_time": "2021-08-21T07:47:27.450Z"
   },
   {
    "duration": 30,
    "start_time": "2021-08-21T07:47:27.458Z"
   },
   {
    "duration": 34,
    "start_time": "2021-08-21T07:47:27.490Z"
   },
   {
    "duration": 7,
    "start_time": "2021-08-21T07:47:27.526Z"
   },
   {
    "duration": 51,
    "start_time": "2021-08-21T07:47:27.536Z"
   },
   {
    "duration": 3,
    "start_time": "2021-08-21T07:47:27.589Z"
   },
   {
    "duration": 25,
    "start_time": "2021-08-21T07:47:27.594Z"
   },
   {
    "duration": 11,
    "start_time": "2021-08-21T07:47:27.622Z"
   },
   {
    "duration": 9,
    "start_time": "2021-08-21T07:47:27.636Z"
   },
   {
    "duration": 90,
    "start_time": "2021-08-21T07:47:27.648Z"
   },
   {
    "duration": 690,
    "start_time": "2021-08-21T07:47:27.741Z"
   },
   {
    "duration": 665,
    "start_time": "2021-08-21T07:47:28.434Z"
   },
   {
    "duration": 1207,
    "start_time": "2021-08-21T07:47:29.105Z"
   },
   {
    "duration": 894,
    "start_time": "2021-08-21T07:47:30.314Z"
   },
   {
    "duration": 4,
    "start_time": "2021-08-21T07:47:31.211Z"
   },
   {
    "duration": 91,
    "start_time": "2021-08-21T07:47:31.218Z"
   },
   {
    "duration": 5,
    "start_time": "2021-08-21T07:47:31.311Z"
   },
   {
    "duration": 14,
    "start_time": "2021-08-21T07:47:31.319Z"
   },
   {
    "duration": 1331,
    "start_time": "2021-08-21T07:47:31.384Z"
   },
   {
    "duration": 1418,
    "start_time": "2021-08-21T07:47:32.718Z"
   },
   {
    "duration": 1411,
    "start_time": "2021-08-21T07:47:34.139Z"
   },
   {
    "duration": 832,
    "start_time": "2021-08-21T07:47:35.552Z"
   },
   {
    "duration": 11,
    "start_time": "2021-08-21T07:47:45.117Z"
   },
   {
    "duration": 6,
    "start_time": "2021-08-21T07:50:28.825Z"
   },
   {
    "duration": 18,
    "start_time": "2021-08-21T07:50:28.837Z"
   },
   {
    "duration": 161,
    "start_time": "2021-08-21T07:50:28.858Z"
   },
   {
    "duration": 20,
    "start_time": "2021-08-21T07:50:29.021Z"
   },
   {
    "duration": 50,
    "start_time": "2021-08-21T07:50:29.044Z"
   },
   {
    "duration": 33,
    "start_time": "2021-08-21T07:50:29.096Z"
   },
   {
    "duration": 8,
    "start_time": "2021-08-21T07:50:29.132Z"
   },
   {
    "duration": 305,
    "start_time": "2021-08-21T07:50:29.143Z"
   },
   {
    "duration": 7,
    "start_time": "2021-08-21T07:50:29.451Z"
   },
   {
    "duration": 24,
    "start_time": "2021-08-21T07:50:29.461Z"
   },
   {
    "duration": 19,
    "start_time": "2021-08-21T07:50:29.488Z"
   },
   {
    "duration": 14,
    "start_time": "2021-08-21T07:50:29.510Z"
   },
   {
    "duration": 42,
    "start_time": "2021-08-21T07:50:29.527Z"
   },
   {
    "duration": 7,
    "start_time": "2021-08-21T07:50:29.583Z"
   },
   {
    "duration": 21,
    "start_time": "2021-08-21T07:50:29.593Z"
   },
   {
    "duration": 6,
    "start_time": "2021-08-21T07:50:29.616Z"
   },
   {
    "duration": 35,
    "start_time": "2021-08-21T07:50:29.624Z"
   },
   {
    "duration": 25,
    "start_time": "2021-08-21T07:50:29.662Z"
   },
   {
    "duration": 24,
    "start_time": "2021-08-21T07:50:29.689Z"
   },
   {
    "duration": 81,
    "start_time": "2021-08-21T07:50:29.715Z"
   },
   {
    "duration": 99,
    "start_time": "2021-08-21T07:50:29.798Z"
   },
   {
    "duration": 13127,
    "start_time": "2021-08-21T07:50:16.774Z"
   },
   {
    "duration": 13093,
    "start_time": "2021-08-21T07:50:16.809Z"
   },
   {
    "duration": 13091,
    "start_time": "2021-08-21T07:50:16.812Z"
   },
   {
    "duration": 13090,
    "start_time": "2021-08-21T07:50:16.815Z"
   },
   {
    "duration": 13089,
    "start_time": "2021-08-21T07:50:16.817Z"
   },
   {
    "duration": 13088,
    "start_time": "2021-08-21T07:50:16.820Z"
   },
   {
    "duration": 13084,
    "start_time": "2021-08-21T07:50:16.825Z"
   },
   {
    "duration": 13081,
    "start_time": "2021-08-21T07:50:16.829Z"
   },
   {
    "duration": 13081,
    "start_time": "2021-08-21T07:50:16.831Z"
   },
   {
    "duration": 13080,
    "start_time": "2021-08-21T07:50:16.833Z"
   },
   {
    "duration": 13079,
    "start_time": "2021-08-21T07:50:16.836Z"
   },
   {
    "duration": 80,
    "start_time": "2021-08-21T07:50:57.059Z"
   },
   {
    "duration": 723,
    "start_time": "2021-08-21T07:51:04.045Z"
   },
   {
    "duration": 100,
    "start_time": "2021-08-21T07:52:56.674Z"
   },
   {
    "duration": 746,
    "start_time": "2021-08-21T07:53:07.840Z"
   },
   {
    "duration": 765,
    "start_time": "2021-08-21T07:53:46.542Z"
   },
   {
    "duration": 6,
    "start_time": "2021-08-21T07:54:09.210Z"
   },
   {
    "duration": 10,
    "start_time": "2021-08-21T07:54:09.219Z"
   },
   {
    "duration": 151,
    "start_time": "2021-08-21T07:54:09.233Z"
   },
   {
    "duration": 18,
    "start_time": "2021-08-21T07:54:09.386Z"
   },
   {
    "duration": 20,
    "start_time": "2021-08-21T07:54:09.406Z"
   },
   {
    "duration": 60,
    "start_time": "2021-08-21T07:54:09.428Z"
   },
   {
    "duration": 8,
    "start_time": "2021-08-21T07:54:09.491Z"
   },
   {
    "duration": 282,
    "start_time": "2021-08-21T07:54:09.503Z"
   },
   {
    "duration": 6,
    "start_time": "2021-08-21T07:54:09.788Z"
   },
   {
    "duration": 10,
    "start_time": "2021-08-21T07:54:09.796Z"
   },
   {
    "duration": 23,
    "start_time": "2021-08-21T07:54:09.808Z"
   },
   {
    "duration": 8,
    "start_time": "2021-08-21T07:54:09.834Z"
   },
   {
    "duration": 57,
    "start_time": "2021-08-21T07:54:09.844Z"
   },
   {
    "duration": 8,
    "start_time": "2021-08-21T07:54:09.903Z"
   },
   {
    "duration": 17,
    "start_time": "2021-08-21T07:54:09.913Z"
   },
   {
    "duration": 4,
    "start_time": "2021-08-21T07:54:09.932Z"
   },
   {
    "duration": 67,
    "start_time": "2021-08-21T07:54:09.938Z"
   },
   {
    "duration": 12,
    "start_time": "2021-08-21T07:54:10.007Z"
   },
   {
    "duration": 12,
    "start_time": "2021-08-21T07:54:10.022Z"
   },
   {
    "duration": 73,
    "start_time": "2021-08-21T07:54:10.036Z"
   },
   {
    "duration": 125933,
    "start_time": "2021-08-21T07:54:10.112Z"
   },
   {
    "duration": 663,
    "start_time": "2021-08-21T07:56:16.047Z"
   },
   {
    "duration": 853,
    "start_time": "2021-08-21T07:56:16.715Z"
   },
   {
    "duration": 930,
    "start_time": "2021-08-21T07:56:17.571Z"
   },
   {
    "duration": 4,
    "start_time": "2021-08-21T07:56:18.504Z"
   },
   {
    "duration": 26,
    "start_time": "2021-08-21T07:56:18.510Z"
   },
   {
    "duration": 4,
    "start_time": "2021-08-21T07:56:18.539Z"
   },
   {
    "duration": 37,
    "start_time": "2021-08-21T07:56:18.546Z"
   },
   {
    "duration": 898,
    "start_time": "2021-08-21T07:56:18.585Z"
   },
   {
    "duration": 1503,
    "start_time": "2021-08-21T07:56:19.486Z"
   },
   {
    "duration": 1502,
    "start_time": "2021-08-21T07:56:20.991Z"
   },
   {
    "duration": 844,
    "start_time": "2021-08-21T07:56:22.495Z"
   },
   {
    "duration": 781,
    "start_time": "2021-08-21T08:06:31.970Z"
   },
   {
    "duration": 6,
    "start_time": "2021-08-21T08:27:01.313Z"
   },
   {
    "duration": 54,
    "start_time": "2021-08-21T08:27:01.322Z"
   },
   {
    "duration": 151,
    "start_time": "2021-08-21T08:27:01.380Z"
   },
   {
    "duration": 19,
    "start_time": "2021-08-21T08:27:01.535Z"
   },
   {
    "duration": 49,
    "start_time": "2021-08-21T08:27:01.558Z"
   },
   {
    "duration": 53,
    "start_time": "2021-08-21T08:27:01.609Z"
   },
   {
    "duration": 25,
    "start_time": "2021-08-21T08:27:01.664Z"
   },
   {
    "duration": 290,
    "start_time": "2021-08-21T08:27:01.692Z"
   },
   {
    "duration": 6,
    "start_time": "2021-08-21T08:27:01.986Z"
   },
   {
    "duration": 357,
    "start_time": "2021-08-21T08:27:01.995Z"
   },
   {
    "duration": 13030,
    "start_time": "2021-08-21T08:26:49.325Z"
   },
   {
    "duration": 13017,
    "start_time": "2021-08-21T08:26:49.339Z"
   },
   {
    "duration": 13014,
    "start_time": "2021-08-21T08:26:49.343Z"
   },
   {
    "duration": 13012,
    "start_time": "2021-08-21T08:26:49.347Z"
   },
   {
    "duration": 13010,
    "start_time": "2021-08-21T08:26:49.350Z"
   },
   {
    "duration": 13007,
    "start_time": "2021-08-21T08:26:49.355Z"
   },
   {
    "duration": 13005,
    "start_time": "2021-08-21T08:26:49.358Z"
   },
   {
    "duration": 13002,
    "start_time": "2021-08-21T08:26:49.362Z"
   },
   {
    "duration": 13002,
    "start_time": "2021-08-21T08:26:49.364Z"
   },
   {
    "duration": 13000,
    "start_time": "2021-08-21T08:26:49.367Z"
   },
   {
    "duration": 12998,
    "start_time": "2021-08-21T08:26:49.371Z"
   },
   {
    "duration": 12996,
    "start_time": "2021-08-21T08:26:49.374Z"
   },
   {
    "duration": 12993,
    "start_time": "2021-08-21T08:26:49.379Z"
   },
   {
    "duration": 12985,
    "start_time": "2021-08-21T08:26:49.388Z"
   },
   {
    "duration": 12983,
    "start_time": "2021-08-21T08:26:49.391Z"
   },
   {
    "duration": 12982,
    "start_time": "2021-08-21T08:26:49.394Z"
   },
   {
    "duration": 12980,
    "start_time": "2021-08-21T08:26:49.397Z"
   },
   {
    "duration": 12975,
    "start_time": "2021-08-21T08:26:49.404Z"
   },
   {
    "duration": 12974,
    "start_time": "2021-08-21T08:26:49.407Z"
   },
   {
    "duration": 12972,
    "start_time": "2021-08-21T08:26:49.411Z"
   },
   {
    "duration": 12970,
    "start_time": "2021-08-21T08:26:49.414Z"
   },
   {
    "duration": 12970,
    "start_time": "2021-08-21T08:26:49.416Z"
   },
   {
    "duration": 6,
    "start_time": "2021-08-21T08:27:23.361Z"
   },
   {
    "duration": 8,
    "start_time": "2021-08-21T08:27:23.372Z"
   },
   {
    "duration": 131,
    "start_time": "2021-08-21T08:27:23.396Z"
   },
   {
    "duration": 23,
    "start_time": "2021-08-21T08:27:23.531Z"
   },
   {
    "duration": 38,
    "start_time": "2021-08-21T08:27:23.557Z"
   },
   {
    "duration": 35,
    "start_time": "2021-08-21T08:27:23.598Z"
   },
   {
    "duration": 11,
    "start_time": "2021-08-21T08:27:23.635Z"
   },
   {
    "duration": 353,
    "start_time": "2021-08-21T08:27:23.648Z"
   },
   {
    "duration": 7,
    "start_time": "2021-08-21T08:27:24.003Z"
   },
   {
    "duration": 618,
    "start_time": "2021-08-21T08:27:24.013Z"
   },
   {
    "duration": 13036,
    "start_time": "2021-08-21T08:27:11.598Z"
   },
   {
    "duration": 13033,
    "start_time": "2021-08-21T08:27:11.602Z"
   },
   {
    "duration": 13032,
    "start_time": "2021-08-21T08:27:11.605Z"
   },
   {
    "duration": 13028,
    "start_time": "2021-08-21T08:27:11.610Z"
   },
   {
    "duration": 13019,
    "start_time": "2021-08-21T08:27:11.620Z"
   },
   {
    "duration": 13017,
    "start_time": "2021-08-21T08:27:11.624Z"
   },
   {
    "duration": 13014,
    "start_time": "2021-08-21T08:27:11.628Z"
   },
   {
    "duration": 13011,
    "start_time": "2021-08-21T08:27:11.632Z"
   },
   {
    "duration": 12999,
    "start_time": "2021-08-21T08:27:11.645Z"
   },
   {
    "duration": 12995,
    "start_time": "2021-08-21T08:27:11.650Z"
   },
   {
    "duration": 12994,
    "start_time": "2021-08-21T08:27:11.653Z"
   },
   {
    "duration": 12987,
    "start_time": "2021-08-21T08:27:11.661Z"
   },
   {
    "duration": 12986,
    "start_time": "2021-08-21T08:27:11.664Z"
   },
   {
    "duration": 12981,
    "start_time": "2021-08-21T08:27:11.670Z"
   },
   {
    "duration": 12978,
    "start_time": "2021-08-21T08:27:11.674Z"
   },
   {
    "duration": 12975,
    "start_time": "2021-08-21T08:27:11.678Z"
   },
   {
    "duration": 12971,
    "start_time": "2021-08-21T08:27:11.684Z"
   },
   {
    "duration": 12969,
    "start_time": "2021-08-21T08:27:11.687Z"
   },
   {
    "duration": 12940,
    "start_time": "2021-08-21T08:27:11.717Z"
   },
   {
    "duration": 12935,
    "start_time": "2021-08-21T08:27:11.724Z"
   },
   {
    "duration": 12924,
    "start_time": "2021-08-21T08:27:11.737Z"
   },
   {
    "duration": 12919,
    "start_time": "2021-08-21T08:27:11.743Z"
   },
   {
    "duration": 7,
    "start_time": "2021-08-21T08:28:07.018Z"
   },
   {
    "duration": 12,
    "start_time": "2021-08-21T08:28:07.028Z"
   },
   {
    "duration": 167,
    "start_time": "2021-08-21T08:28:07.044Z"
   },
   {
    "duration": 26,
    "start_time": "2021-08-21T08:28:07.214Z"
   },
   {
    "duration": 50,
    "start_time": "2021-08-21T08:28:07.243Z"
   },
   {
    "duration": 32,
    "start_time": "2021-08-21T08:28:07.296Z"
   },
   {
    "duration": 11,
    "start_time": "2021-08-21T08:28:07.331Z"
   },
   {
    "duration": 263,
    "start_time": "2021-08-21T08:28:07.382Z"
   },
   {
    "duration": 7,
    "start_time": "2021-08-21T08:28:07.648Z"
   },
   {
    "duration": 37,
    "start_time": "2021-08-21T08:28:07.657Z"
   },
   {
    "duration": 5,
    "start_time": "2021-08-21T08:28:07.696Z"
   },
   {
    "duration": 11,
    "start_time": "2021-08-21T08:28:07.704Z"
   },
   {
    "duration": 64,
    "start_time": "2021-08-21T08:28:07.718Z"
   },
   {
    "duration": 8,
    "start_time": "2021-08-21T08:28:07.785Z"
   },
   {
    "duration": 16,
    "start_time": "2021-08-21T08:28:07.795Z"
   },
   {
    "duration": 3,
    "start_time": "2021-08-21T08:28:07.813Z"
   },
   {
    "duration": 153,
    "start_time": "2021-08-21T08:28:07.818Z"
   },
   {
    "duration": 15,
    "start_time": "2021-08-21T08:28:07.973Z"
   },
   {
    "duration": 11,
    "start_time": "2021-08-21T08:28:07.990Z"
   },
   {
    "duration": 80,
    "start_time": "2021-08-21T08:28:08.003Z"
   },
   {
    "duration": 114637,
    "start_time": "2021-08-21T08:28:08.086Z"
   },
   {
    "duration": 1583,
    "start_time": "2021-08-21T08:30:02.725Z"
   },
   {
    "duration": 861,
    "start_time": "2021-08-21T08:30:04.314Z"
   },
   {
    "duration": 874,
    "start_time": "2021-08-21T08:30:05.184Z"
   },
   {
    "duration": 6,
    "start_time": "2021-08-21T08:30:06.060Z"
   },
   {
    "duration": 32,
    "start_time": "2021-08-21T08:30:06.082Z"
   },
   {
    "duration": 5,
    "start_time": "2021-08-21T08:30:06.116Z"
   },
   {
    "duration": 21,
    "start_time": "2021-08-21T08:30:06.123Z"
   },
   {
    "duration": 916,
    "start_time": "2021-08-21T08:30:06.147Z"
   },
   {
    "duration": 3065,
    "start_time": "2021-08-21T08:30:07.066Z"
   },
   {
    "duration": 3248,
    "start_time": "2021-08-21T08:30:10.134Z"
   },
   {
    "duration": 787,
    "start_time": "2021-08-21T08:30:13.385Z"
   },
   {
    "duration": 19,
    "start_time": "2021-08-21T08:30:14.174Z"
   },
   {
    "duration": 92,
    "start_time": "2021-08-21T08:37:36.188Z"
   },
   {
    "duration": 7,
    "start_time": "2021-08-21T08:39:31.644Z"
   },
   {
    "duration": 21,
    "start_time": "2021-08-21T08:39:31.653Z"
   },
   {
    "duration": 146,
    "start_time": "2021-08-21T08:39:31.677Z"
   },
   {
    "duration": 19,
    "start_time": "2021-08-21T08:39:31.826Z"
   },
   {
    "duration": 47,
    "start_time": "2021-08-21T08:39:31.848Z"
   },
   {
    "duration": 42,
    "start_time": "2021-08-21T08:39:31.898Z"
   },
   {
    "duration": 8,
    "start_time": "2021-08-21T08:39:31.943Z"
   },
   {
    "duration": 311,
    "start_time": "2021-08-21T08:39:31.956Z"
   },
   {
    "duration": 15,
    "start_time": "2021-08-21T08:39:32.269Z"
   },
   {
    "duration": 22,
    "start_time": "2021-08-21T08:39:32.286Z"
   },
   {
    "duration": 10,
    "start_time": "2021-08-21T08:39:32.311Z"
   },
   {
    "duration": 7,
    "start_time": "2021-08-21T08:39:32.324Z"
   },
   {
    "duration": 10,
    "start_time": "2021-08-21T08:39:32.333Z"
   },
   {
    "duration": 70,
    "start_time": "2021-08-21T08:39:32.346Z"
   },
   {
    "duration": 7,
    "start_time": "2021-08-21T08:39:32.419Z"
   },
   {
    "duration": 15,
    "start_time": "2021-08-21T08:39:32.428Z"
   },
   {
    "duration": 3,
    "start_time": "2021-08-21T08:39:32.446Z"
   },
   {
    "duration": 56,
    "start_time": "2021-08-21T08:39:32.451Z"
   },
   {
    "duration": 129,
    "start_time": "2021-08-21T08:39:32.510Z"
   },
   {
    "duration": 11,
    "start_time": "2021-08-21T08:39:32.642Z"
   },
   {
    "duration": 104,
    "start_time": "2021-08-21T08:39:32.656Z"
   },
   {
    "duration": 123345,
    "start_time": "2021-08-21T08:39:32.763Z"
   },
   {
    "duration": 952,
    "start_time": "2021-08-21T08:41:36.114Z"
   },
   {
    "duration": 936,
    "start_time": "2021-08-21T08:41:37.082Z"
   },
   {
    "duration": 867,
    "start_time": "2021-08-21T08:41:38.020Z"
   },
   {
    "duration": 6,
    "start_time": "2021-08-21T08:41:38.889Z"
   },
   {
    "duration": 28,
    "start_time": "2021-08-21T08:41:38.897Z"
   },
   {
    "duration": 4,
    "start_time": "2021-08-21T08:41:38.928Z"
   },
   {
    "duration": 7,
    "start_time": "2021-08-21T08:41:38.935Z"
   },
   {
    "duration": 776,
    "start_time": "2021-08-21T08:41:38.984Z"
   },
   {
    "duration": 1561,
    "start_time": "2021-08-21T08:41:39.763Z"
   },
   {
    "duration": 1564,
    "start_time": "2021-08-21T08:41:41.327Z"
   },
   {
    "duration": 783,
    "start_time": "2021-08-21T08:41:42.894Z"
   },
   {
    "duration": 6,
    "start_time": "2021-08-21T08:43:55.151Z"
   },
   {
    "duration": 12,
    "start_time": "2021-08-21T08:43:55.160Z"
   },
   {
    "duration": 151,
    "start_time": "2021-08-21T08:43:55.176Z"
   },
   {
    "duration": 19,
    "start_time": "2021-08-21T08:43:55.331Z"
   },
   {
    "duration": 43,
    "start_time": "2021-08-21T08:43:55.353Z"
   },
   {
    "duration": 32,
    "start_time": "2021-08-21T08:43:55.399Z"
   },
   {
    "duration": 10,
    "start_time": "2021-08-21T08:43:55.434Z"
   },
   {
    "duration": 325,
    "start_time": "2021-08-21T08:43:55.447Z"
   },
   {
    "duration": 11,
    "start_time": "2021-08-21T08:43:55.776Z"
   },
   {
    "duration": 12,
    "start_time": "2021-08-21T08:43:55.790Z"
   },
   {
    "duration": 11,
    "start_time": "2021-08-21T08:43:55.804Z"
   },
   {
    "duration": 5,
    "start_time": "2021-08-21T08:43:55.818Z"
   },
   {
    "duration": 10,
    "start_time": "2021-08-21T08:43:55.825Z"
   },
   {
    "duration": 78,
    "start_time": "2021-08-21T08:43:55.838Z"
   },
   {
    "duration": 10,
    "start_time": "2021-08-21T08:43:55.919Z"
   },
   {
    "duration": 27,
    "start_time": "2021-08-21T08:43:55.931Z"
   },
   {
    "duration": 24,
    "start_time": "2021-08-21T08:43:55.960Z"
   },
   {
    "duration": 32,
    "start_time": "2021-08-21T08:43:55.987Z"
   },
   {
    "duration": 11,
    "start_time": "2021-08-21T08:43:56.022Z"
   },
   {
    "duration": 8,
    "start_time": "2021-08-21T08:43:56.035Z"
   },
   {
    "duration": 94,
    "start_time": "2021-08-21T08:43:56.046Z"
   },
   {
    "duration": 94382,
    "start_time": "2021-08-21T08:43:56.142Z"
   },
   {
    "duration": 1064,
    "start_time": "2021-08-21T08:45:30.529Z"
   },
   {
    "duration": 788,
    "start_time": "2021-08-21T08:45:31.596Z"
   },
   {
    "duration": 807,
    "start_time": "2021-08-21T08:45:32.387Z"
   },
   {
    "duration": 6,
    "start_time": "2021-08-21T08:45:33.197Z"
   },
   {
    "duration": 26,
    "start_time": "2021-08-21T08:45:33.205Z"
   },
   {
    "duration": 6,
    "start_time": "2021-08-21T08:45:33.233Z"
   },
   {
    "duration": 4,
    "start_time": "2021-08-21T08:45:33.283Z"
   },
   {
    "duration": 893,
    "start_time": "2021-08-21T08:45:33.290Z"
   },
   {
    "duration": 1785,
    "start_time": "2021-08-21T08:45:34.186Z"
   },
   {
    "duration": 1620,
    "start_time": "2021-08-21T08:45:35.981Z"
   },
   {
    "duration": 766,
    "start_time": "2021-08-21T08:45:37.603Z"
   },
   {
    "duration": 6,
    "start_time": "2021-08-21T08:47:17.762Z"
   },
   {
    "duration": 6,
    "start_time": "2021-08-21T08:47:17.777Z"
   },
   {
    "duration": 215,
    "start_time": "2021-08-21T08:47:17.787Z"
   },
   {
    "duration": 19,
    "start_time": "2021-08-21T08:47:18.006Z"
   },
   {
    "duration": 18,
    "start_time": "2021-08-21T08:47:18.028Z"
   },
   {
    "duration": 63,
    "start_time": "2021-08-21T08:47:18.049Z"
   },
   {
    "duration": 9,
    "start_time": "2021-08-21T08:47:18.114Z"
   },
   {
    "duration": 297,
    "start_time": "2021-08-21T08:47:18.125Z"
   },
   {
    "duration": 6,
    "start_time": "2021-08-21T08:47:18.424Z"
   },
   {
    "duration": 15,
    "start_time": "2021-08-21T08:47:18.435Z"
   },
   {
    "duration": 39,
    "start_time": "2021-08-21T08:47:18.453Z"
   },
   {
    "duration": 5,
    "start_time": "2021-08-21T08:47:18.495Z"
   },
   {
    "duration": 9,
    "start_time": "2021-08-21T08:47:18.502Z"
   },
   {
    "duration": 70,
    "start_time": "2021-08-21T08:47:18.514Z"
   },
   {
    "duration": 8,
    "start_time": "2021-08-21T08:47:18.587Z"
   },
   {
    "duration": 18,
    "start_time": "2021-08-21T08:47:18.598Z"
   },
   {
    "duration": 4,
    "start_time": "2021-08-21T08:47:18.618Z"
   },
   {
    "duration": 65,
    "start_time": "2021-08-21T08:47:18.625Z"
   },
   {
    "duration": 11,
    "start_time": "2021-08-21T08:47:18.693Z"
   },
   {
    "duration": 13,
    "start_time": "2021-08-21T08:47:18.707Z"
   },
   {
    "duration": 82,
    "start_time": "2021-08-21T08:47:18.723Z"
   },
   {
    "duration": 89252,
    "start_time": "2021-08-21T08:47:18.808Z"
   },
   {
    "duration": 751,
    "start_time": "2021-08-21T08:48:48.063Z"
   },
   {
    "duration": 843,
    "start_time": "2021-08-21T08:48:48.816Z"
   },
   {
    "duration": 921,
    "start_time": "2021-08-21T08:48:49.661Z"
   },
   {
    "duration": 5,
    "start_time": "2021-08-21T08:48:50.584Z"
   },
   {
    "duration": 25,
    "start_time": "2021-08-21T08:48:50.591Z"
   },
   {
    "duration": 4,
    "start_time": "2021-08-21T08:48:50.621Z"
   },
   {
    "duration": 12,
    "start_time": "2021-08-21T08:48:50.627Z"
   },
   {
    "duration": 926,
    "start_time": "2021-08-21T08:48:50.641Z"
   },
   {
    "duration": 770,
    "start_time": "2021-08-21T08:48:51.570Z"
   },
   {
    "duration": 780,
    "start_time": "2021-08-21T08:48:52.342Z"
   },
   {
    "duration": 773,
    "start_time": "2021-08-21T08:48:53.125Z"
   },
   {
    "duration": 6,
    "start_time": "2021-08-21T08:55:45.908Z"
   },
   {
    "duration": 10,
    "start_time": "2021-08-21T08:55:45.917Z"
   },
   {
    "duration": 163,
    "start_time": "2021-08-21T08:55:45.930Z"
   },
   {
    "duration": 19,
    "start_time": "2021-08-21T08:55:46.097Z"
   },
   {
    "duration": 27,
    "start_time": "2021-08-21T08:55:46.119Z"
   },
   {
    "duration": 67,
    "start_time": "2021-08-21T08:55:46.148Z"
   },
   {
    "duration": 9,
    "start_time": "2021-08-21T08:55:46.217Z"
   },
   {
    "duration": 320,
    "start_time": "2021-08-21T08:55:46.231Z"
   },
   {
    "duration": 6,
    "start_time": "2021-08-21T08:55:46.555Z"
   },
   {
    "duration": 38,
    "start_time": "2021-08-21T08:55:46.564Z"
   },
   {
    "duration": 12,
    "start_time": "2021-08-21T08:55:46.605Z"
   },
   {
    "duration": 6,
    "start_time": "2021-08-21T08:55:46.620Z"
   },
   {
    "duration": 53,
    "start_time": "2021-08-21T08:55:46.629Z"
   },
   {
    "duration": 38,
    "start_time": "2021-08-21T08:55:46.684Z"
   },
   {
    "duration": 9,
    "start_time": "2021-08-21T08:55:46.726Z"
   },
   {
    "duration": 46,
    "start_time": "2021-08-21T08:55:46.737Z"
   },
   {
    "duration": 3,
    "start_time": "2021-08-21T08:55:46.786Z"
   },
   {
    "duration": 35,
    "start_time": "2021-08-21T08:55:46.791Z"
   },
   {
    "duration": 11,
    "start_time": "2021-08-21T08:55:46.829Z"
   },
   {
    "duration": 14,
    "start_time": "2021-08-21T08:55:46.842Z"
   },
   {
    "duration": 80,
    "start_time": "2021-08-21T08:55:46.858Z"
   },
   {
    "duration": 108431,
    "start_time": "2021-08-21T08:55:46.941Z"
   },
   {
    "duration": 572,
    "start_time": "2021-08-21T08:57:35.377Z"
   },
   {
    "duration": 950,
    "start_time": "2021-08-21T08:57:35.951Z"
   },
   {
    "duration": 912,
    "start_time": "2021-08-21T08:57:36.903Z"
   },
   {
    "duration": 4,
    "start_time": "2021-08-21T08:57:37.817Z"
   },
   {
    "duration": 28,
    "start_time": "2021-08-21T08:57:37.823Z"
   },
   {
    "duration": 30,
    "start_time": "2021-08-21T08:57:37.853Z"
   },
   {
    "duration": 10,
    "start_time": "2021-08-21T08:57:37.885Z"
   },
   {
    "duration": 798,
    "start_time": "2021-08-21T08:57:37.897Z"
   },
   {
    "duration": 645,
    "start_time": "2021-08-21T08:57:38.698Z"
   },
   {
    "duration": 630,
    "start_time": "2021-08-21T08:57:39.346Z"
   },
   {
    "duration": 883,
    "start_time": "2021-08-21T08:57:39.982Z"
   },
   {
    "duration": 3,
    "start_time": "2021-08-21T09:30:56.390Z"
   },
   {
    "duration": 37,
    "start_time": "2021-08-21T09:53:12.470Z"
   },
   {
    "duration": 6,
    "start_time": "2021-08-21T09:53:13.745Z"
   },
   {
    "duration": 18,
    "start_time": "2021-08-21T09:53:31.681Z"
   },
   {
    "duration": 5,
    "start_time": "2021-08-21T09:53:41.649Z"
   },
   {
    "duration": 112,
    "start_time": "2021-08-21T09:55:33.053Z"
   },
   {
    "duration": 102,
    "start_time": "2021-08-21T09:56:03.694Z"
   },
   {
    "duration": 903,
    "start_time": "2021-08-21T09:56:10.232Z"
   },
   {
    "duration": 919,
    "start_time": "2021-08-21T09:56:24.681Z"
   },
   {
    "duration": 551,
    "start_time": "2021-08-21T09:57:51.312Z"
   },
   {
    "duration": 6,
    "start_time": "2021-08-21T10:00:46.303Z"
   },
   {
    "duration": 8,
    "start_time": "2021-08-21T10:00:46.312Z"
   },
   {
    "duration": 276,
    "start_time": "2021-08-21T10:00:46.323Z"
   },
   {
    "duration": 29,
    "start_time": "2021-08-21T10:00:46.603Z"
   },
   {
    "duration": 49,
    "start_time": "2021-08-21T10:00:46.635Z"
   },
   {
    "duration": 31,
    "start_time": "2021-08-21T10:00:46.686Z"
   },
   {
    "duration": 7,
    "start_time": "2021-08-21T10:00:46.721Z"
   },
   {
    "duration": 314,
    "start_time": "2021-08-21T10:00:46.731Z"
   },
   {
    "duration": 6,
    "start_time": "2021-08-21T10:00:47.047Z"
   },
   {
    "duration": 32,
    "start_time": "2021-08-21T10:00:47.056Z"
   },
   {
    "duration": 10,
    "start_time": "2021-08-21T10:00:47.091Z"
   },
   {
    "duration": 8,
    "start_time": "2021-08-21T10:00:47.103Z"
   },
   {
    "duration": 18,
    "start_time": "2021-08-21T10:00:47.113Z"
   },
   {
    "duration": 54,
    "start_time": "2021-08-21T10:00:47.134Z"
   },
   {
    "duration": 10,
    "start_time": "2021-08-21T10:00:47.191Z"
   },
   {
    "duration": 17,
    "start_time": "2021-08-21T10:00:47.204Z"
   },
   {
    "duration": 5,
    "start_time": "2021-08-21T10:00:47.223Z"
   },
   {
    "duration": 66,
    "start_time": "2021-08-21T10:00:47.233Z"
   },
   {
    "duration": 11,
    "start_time": "2021-08-21T10:00:47.302Z"
   },
   {
    "duration": 11,
    "start_time": "2021-08-21T10:00:47.316Z"
   },
   {
    "duration": 81,
    "start_time": "2021-08-21T10:00:47.329Z"
   },
   {
    "duration": 112056,
    "start_time": "2021-08-21T10:00:47.412Z"
   },
   {
    "duration": 1616,
    "start_time": "2021-08-21T10:02:39.470Z"
   },
   {
    "duration": 811,
    "start_time": "2021-08-21T10:02:41.088Z"
   },
   {
    "duration": 882,
    "start_time": "2021-08-21T10:02:41.902Z"
   },
   {
    "duration": 4,
    "start_time": "2021-08-21T10:02:42.786Z"
   },
   {
    "duration": 27,
    "start_time": "2021-08-21T10:02:42.792Z"
   },
   {
    "duration": 4,
    "start_time": "2021-08-21T10:02:42.821Z"
   },
   {
    "duration": 4,
    "start_time": "2021-08-21T10:02:42.828Z"
   },
   {
    "duration": 1035,
    "start_time": "2021-08-21T10:02:42.835Z"
   },
   {
    "duration": 2990,
    "start_time": "2021-08-21T10:02:43.872Z"
   },
   {
    "duration": 25,
    "start_time": "2021-08-21T10:02:46.864Z"
   },
   {
    "duration": 4,
    "start_time": "2021-08-21T10:02:46.891Z"
   },
   {
    "duration": 872,
    "start_time": "2021-08-21T10:02:46.898Z"
   },
   {
    "duration": 914,
    "start_time": "2021-08-21T10:02:47.772Z"
   },
   {
    "duration": 3048,
    "start_time": "2021-08-21T10:02:48.689Z"
   },
   {
    "duration": 847,
    "start_time": "2021-08-21T10:02:51.739Z"
   },
   {
    "duration": 1126,
    "start_time": "2021-08-22T07:52:45.273Z"
   },
   {
    "duration": 5,
    "start_time": "2021-08-22T07:52:46.518Z"
   },
   {
    "duration": 98,
    "start_time": "2021-08-22T07:52:47.946Z"
   },
   {
    "duration": 13,
    "start_time": "2021-08-22T07:52:49.699Z"
   },
   {
    "duration": 28,
    "start_time": "2021-08-22T07:52:50.060Z"
   },
   {
    "duration": 20,
    "start_time": "2021-08-22T07:52:52.497Z"
   },
   {
    "duration": 7,
    "start_time": "2021-08-22T07:53:01.595Z"
   },
   {
    "duration": 170,
    "start_time": "2021-08-22T07:54:07.349Z"
   },
   {
    "duration": 434,
    "start_time": "2021-08-22T07:54:29.078Z"
   },
   {
    "duration": 165,
    "start_time": "2021-08-22T07:54:34.978Z"
   },
   {
    "duration": 166,
    "start_time": "2021-08-22T07:54:38.505Z"
   },
   {
    "duration": 350,
    "start_time": "2021-08-22T07:54:42.722Z"
   },
   {
    "duration": 169,
    "start_time": "2021-08-22T07:54:47.918Z"
   },
   {
    "duration": 236,
    "start_time": "2021-08-22T07:54:50.986Z"
   },
   {
    "duration": 213,
    "start_time": "2021-08-22T07:57:25.447Z"
   },
   {
    "duration": 204,
    "start_time": "2021-08-22T07:57:57.602Z"
   },
   {
    "duration": 201,
    "start_time": "2021-08-22T07:58:05.067Z"
   },
   {
    "duration": 4,
    "start_time": "2021-08-22T07:58:08.598Z"
   },
   {
    "duration": 5,
    "start_time": "2021-08-22T07:58:08.613Z"
   },
   {
    "duration": 101,
    "start_time": "2021-08-22T07:58:08.620Z"
   },
   {
    "duration": 12,
    "start_time": "2021-08-22T07:58:08.724Z"
   },
   {
    "duration": 27,
    "start_time": "2021-08-22T07:58:08.738Z"
   },
   {
    "duration": 31,
    "start_time": "2021-08-22T07:58:08.767Z"
   },
   {
    "duration": 5,
    "start_time": "2021-08-22T07:58:08.800Z"
   },
   {
    "duration": 223,
    "start_time": "2021-08-22T07:58:08.807Z"
   },
   {
    "duration": 5,
    "start_time": "2021-08-22T07:58:09.031Z"
   },
   {
    "duration": 25,
    "start_time": "2021-08-22T07:58:09.038Z"
   },
   {
    "duration": 19,
    "start_time": "2021-08-22T07:58:09.065Z"
   },
   {
    "duration": 9,
    "start_time": "2021-08-22T07:58:09.086Z"
   },
   {
    "duration": 6,
    "start_time": "2021-08-22T07:58:09.097Z"
   },
   {
    "duration": 23,
    "start_time": "2021-08-22T07:58:09.105Z"
   },
   {
    "duration": 7,
    "start_time": "2021-08-22T07:58:09.130Z"
   },
   {
    "duration": 12,
    "start_time": "2021-08-22T07:58:09.138Z"
   },
   {
    "duration": 2,
    "start_time": "2021-08-22T07:58:09.152Z"
   },
   {
    "duration": 17,
    "start_time": "2021-08-22T07:58:09.185Z"
   },
   {
    "duration": 7,
    "start_time": "2021-08-22T07:58:09.204Z"
   },
   {
    "duration": 8,
    "start_time": "2021-08-22T07:58:09.213Z"
   },
   {
    "duration": 65,
    "start_time": "2021-08-22T07:58:09.223Z"
   },
   {
    "duration": 78484,
    "start_time": "2021-08-22T07:58:09.290Z"
   },
   {
    "duration": 1337,
    "start_time": "2021-08-22T07:59:27.776Z"
   },
   {
    "duration": -70,
    "start_time": "2021-08-22T07:59:29.186Z"
   },
   {
    "duration": -76,
    "start_time": "2021-08-22T07:59:29.193Z"
   },
   {
    "duration": -85,
    "start_time": "2021-08-22T07:59:29.203Z"
   },
   {
    "duration": -89,
    "start_time": "2021-08-22T07:59:29.209Z"
   },
   {
    "duration": -92,
    "start_time": "2021-08-22T07:59:29.213Z"
   },
   {
    "duration": -96,
    "start_time": "2021-08-22T07:59:29.219Z"
   },
   {
    "duration": -100,
    "start_time": "2021-08-22T07:59:29.224Z"
   },
   {
    "duration": -108,
    "start_time": "2021-08-22T07:59:29.234Z"
   },
   {
    "duration": -112,
    "start_time": "2021-08-22T07:59:29.239Z"
   },
   {
    "duration": -116,
    "start_time": "2021-08-22T07:59:29.244Z"
   },
   {
    "duration": -119,
    "start_time": "2021-08-22T07:59:29.249Z"
   },
   {
    "duration": -129,
    "start_time": "2021-08-22T07:59:29.260Z"
   },
   {
    "duration": -132,
    "start_time": "2021-08-22T07:59:29.265Z"
   },
   {
    "duration": -137,
    "start_time": "2021-08-22T07:59:29.271Z"
   },
   {
    "duration": -139,
    "start_time": "2021-08-22T07:59:29.275Z"
   },
   {
    "duration": 197,
    "start_time": "2021-08-22T08:07:56.398Z"
   },
   {
    "duration": 17,
    "start_time": "2021-08-22T08:54:42.140Z"
   },
   {
    "duration": 3,
    "start_time": "2021-08-22T08:54:51.509Z"
   },
   {
    "duration": 2,
    "start_time": "2021-08-22T08:56:16.039Z"
   },
   {
    "duration": 20,
    "start_time": "2021-08-22T08:56:16.246Z"
   },
   {
    "duration": 8,
    "start_time": "2021-08-22T08:56:17.024Z"
   },
   {
    "duration": 3,
    "start_time": "2021-08-22T08:56:24.520Z"
   },
   {
    "duration": 48,
    "start_time": "2021-08-22T08:56:28.808Z"
   },
   {
    "duration": 1345,
    "start_time": "2021-08-22T09:02:15.327Z"
   },
   {
    "duration": 643,
    "start_time": "2021-08-22T09:02:29.508Z"
   },
   {
    "duration": 8,
    "start_time": "2021-08-22T09:17:19.007Z"
   },
   {
    "duration": 663,
    "start_time": "2021-08-22T09:17:34.047Z"
   },
   {
    "duration": 186,
    "start_time": "2021-08-22T09:17:40.966Z"
   },
   {
    "duration": 1203,
    "start_time": "2021-08-22T09:17:42.907Z"
   },
   {
    "duration": 182,
    "start_time": "2021-08-22T09:17:49.807Z"
   },
   {
    "duration": 859,
    "start_time": "2021-08-22T09:17:55.549Z"
   },
   {
    "duration": 4,
    "start_time": "2021-08-22T09:18:12.207Z"
   },
   {
    "duration": 7,
    "start_time": "2021-08-22T09:18:12.213Z"
   },
   {
    "duration": 99,
    "start_time": "2021-08-22T09:18:12.222Z"
   },
   {
    "duration": 13,
    "start_time": "2021-08-22T09:18:12.323Z"
   },
   {
    "duration": 15,
    "start_time": "2021-08-22T09:18:12.337Z"
   },
   {
    "duration": 49,
    "start_time": "2021-08-22T09:18:12.353Z"
   },
   {
    "duration": 6,
    "start_time": "2021-08-22T09:18:12.404Z"
   },
   {
    "duration": 217,
    "start_time": "2021-08-22T09:18:12.412Z"
   },
   {
    "duration": 4,
    "start_time": "2021-08-22T09:18:12.631Z"
   },
   {
    "duration": 15,
    "start_time": "2021-08-22T09:18:12.637Z"
   },
   {
    "duration": 7,
    "start_time": "2021-08-22T09:18:12.653Z"
   },
   {
    "duration": 24,
    "start_time": "2021-08-22T09:18:12.662Z"
   },
   {
    "duration": 8,
    "start_time": "2021-08-22T09:18:12.688Z"
   },
   {
    "duration": 22,
    "start_time": "2021-08-22T09:18:12.697Z"
   },
   {
    "duration": 5,
    "start_time": "2021-08-22T09:18:12.721Z"
   },
   {
    "duration": 12,
    "start_time": "2021-08-22T09:18:12.727Z"
   },
   {
    "duration": 2,
    "start_time": "2021-08-22T09:18:12.741Z"
   },
   {
    "duration": 46,
    "start_time": "2021-08-22T09:18:12.745Z"
   },
   {
    "duration": 7,
    "start_time": "2021-08-22T09:18:12.794Z"
   },
   {
    "duration": 7,
    "start_time": "2021-08-22T09:18:12.803Z"
   },
   {
    "duration": 55,
    "start_time": "2021-08-22T09:18:12.812Z"
   },
   {
    "duration": 79749,
    "start_time": "2021-08-22T09:18:12.869Z"
   },
   {
    "duration": 1310,
    "start_time": "2021-08-22T09:19:32.620Z"
   },
   {
    "duration": 37,
    "start_time": "2021-08-22T09:19:33.896Z"
   },
   {
    "duration": 30,
    "start_time": "2021-08-22T09:19:33.904Z"
   },
   {
    "duration": 27,
    "start_time": "2021-08-22T09:19:33.909Z"
   },
   {
    "duration": 22,
    "start_time": "2021-08-22T09:19:33.915Z"
   },
   {
    "duration": 18,
    "start_time": "2021-08-22T09:19:33.921Z"
   },
   {
    "duration": 13,
    "start_time": "2021-08-22T09:19:33.927Z"
   },
   {
    "duration": 8,
    "start_time": "2021-08-22T09:19:33.934Z"
   },
   {
    "duration": 4,
    "start_time": "2021-08-22T09:19:33.939Z"
   },
   {
    "duration": -2,
    "start_time": "2021-08-22T09:19:33.946Z"
   },
   {
    "duration": -14,
    "start_time": "2021-08-22T09:19:33.960Z"
   },
   {
    "duration": -18,
    "start_time": "2021-08-22T09:19:33.965Z"
   },
   {
    "duration": -21,
    "start_time": "2021-08-22T09:19:33.970Z"
   },
   {
    "duration": -26,
    "start_time": "2021-08-22T09:19:33.976Z"
   },
   {
    "duration": -30,
    "start_time": "2021-08-22T09:19:33.982Z"
   },
   {
    "duration": 6,
    "start_time": "2021-08-22T09:27:29.249Z"
   },
   {
    "duration": 1323,
    "start_time": "2021-08-22T09:27:46.363Z"
   },
   {
    "duration": 7,
    "start_time": "2021-08-22T09:28:02.559Z"
   },
   {
    "duration": 208,
    "start_time": "2021-08-22T09:28:22.101Z"
   },
   {
    "duration": 1286,
    "start_time": "2021-08-22T09:28:36.568Z"
   },
   {
    "duration": 4,
    "start_time": "2021-08-22T09:29:52.228Z"
   },
   {
    "duration": 5,
    "start_time": "2021-08-22T09:29:52.244Z"
   },
   {
    "duration": 101,
    "start_time": "2021-08-22T09:29:52.251Z"
   },
   {
    "duration": 32,
    "start_time": "2021-08-22T09:29:52.354Z"
   },
   {
    "duration": 23,
    "start_time": "2021-08-22T09:29:52.388Z"
   },
   {
    "duration": 20,
    "start_time": "2021-08-22T09:29:52.413Z"
   },
   {
    "duration": 6,
    "start_time": "2021-08-22T09:29:52.434Z"
   },
   {
    "duration": 3,
    "start_time": "2021-08-22T09:29:52.441Z"
   },
   {
    "duration": 9,
    "start_time": "2021-08-22T09:29:52.445Z"
   },
   {
    "duration": 11,
    "start_time": "2021-08-22T09:29:52.484Z"
   },
   {
    "duration": 7,
    "start_time": "2021-08-22T09:29:52.497Z"
   },
   {
    "duration": 3,
    "start_time": "2021-08-22T09:29:52.506Z"
   },
   {
    "duration": 9,
    "start_time": "2021-08-22T09:29:52.510Z"
   },
   {
    "duration": 21,
    "start_time": "2021-08-22T09:29:52.521Z"
   },
   {
    "duration": 5,
    "start_time": "2021-08-22T09:29:52.544Z"
   },
   {
    "duration": 44,
    "start_time": "2021-08-22T09:29:52.550Z"
   },
   {
    "duration": 3,
    "start_time": "2021-08-22T09:29:52.596Z"
   },
   {
    "duration": 20,
    "start_time": "2021-08-22T09:29:52.600Z"
   },
   {
    "duration": 8,
    "start_time": "2021-08-22T09:29:52.621Z"
   },
   {
    "duration": 8,
    "start_time": "2021-08-22T09:29:52.630Z"
   },
   {
    "duration": 66,
    "start_time": "2021-08-22T09:29:52.640Z"
   },
   {
    "duration": 78869,
    "start_time": "2021-08-22T09:29:52.707Z"
   },
   {
    "duration": 1312,
    "start_time": "2021-08-22T09:31:11.577Z"
   },
   {
    "duration": 60,
    "start_time": "2021-08-22T09:31:12.831Z"
   },
   {
    "duration": 56,
    "start_time": "2021-08-22T09:31:12.836Z"
   },
   {
    "duration": 52,
    "start_time": "2021-08-22T09:31:12.841Z"
   },
   {
    "duration": 46,
    "start_time": "2021-08-22T09:31:12.848Z"
   },
   {
    "duration": 41,
    "start_time": "2021-08-22T09:31:12.854Z"
   },
   {
    "duration": 37,
    "start_time": "2021-08-22T09:31:12.859Z"
   },
   {
    "duration": 33,
    "start_time": "2021-08-22T09:31:12.864Z"
   },
   {
    "duration": 28,
    "start_time": "2021-08-22T09:31:12.870Z"
   },
   {
    "duration": 21,
    "start_time": "2021-08-22T09:31:12.877Z"
   },
   {
    "duration": 13,
    "start_time": "2021-08-22T09:31:12.886Z"
   },
   {
    "duration": 10,
    "start_time": "2021-08-22T09:31:12.890Z"
   },
   {
    "duration": 6,
    "start_time": "2021-08-22T09:31:12.895Z"
   },
   {
    "duration": 1,
    "start_time": "2021-08-22T09:31:12.901Z"
   },
   {
    "duration": -5,
    "start_time": "2021-08-22T09:31:12.908Z"
   },
   {
    "duration": 1130,
    "start_time": "2021-08-22T09:39:56.278Z"
   },
   {
    "duration": 4,
    "start_time": "2021-08-22T09:39:57.410Z"
   },
   {
    "duration": 106,
    "start_time": "2021-08-22T09:39:57.416Z"
   },
   {
    "duration": 13,
    "start_time": "2021-08-22T09:39:57.524Z"
   },
   {
    "duration": 16,
    "start_time": "2021-08-22T09:39:57.539Z"
   },
   {
    "duration": 43,
    "start_time": "2021-08-22T09:39:57.556Z"
   },
   {
    "duration": 7,
    "start_time": "2021-08-22T09:39:57.602Z"
   },
   {
    "duration": 2,
    "start_time": "2021-08-22T09:39:57.611Z"
   },
   {
    "duration": 6,
    "start_time": "2021-08-22T09:39:57.617Z"
   },
   {
    "duration": 12,
    "start_time": "2021-08-22T09:39:57.626Z"
   },
   {
    "duration": 45,
    "start_time": "2021-08-22T09:39:57.640Z"
   },
   {
    "duration": 5,
    "start_time": "2021-08-22T09:39:57.687Z"
   },
   {
    "duration": 9,
    "start_time": "2021-08-22T09:39:57.693Z"
   },
   {
    "duration": 23,
    "start_time": "2021-08-22T09:39:57.704Z"
   },
   {
    "duration": 6,
    "start_time": "2021-08-22T09:39:57.729Z"
   },
   {
    "duration": 49,
    "start_time": "2021-08-22T09:39:57.737Z"
   },
   {
    "duration": 3,
    "start_time": "2021-08-22T09:39:57.788Z"
   },
   {
    "duration": 20,
    "start_time": "2021-08-22T09:39:57.793Z"
   },
   {
    "duration": 10,
    "start_time": "2021-08-22T09:39:57.815Z"
   },
   {
    "duration": 9,
    "start_time": "2021-08-22T09:39:57.827Z"
   },
   {
    "duration": 75,
    "start_time": "2021-08-22T09:39:57.838Z"
   },
   {
    "duration": 80047,
    "start_time": "2021-08-22T09:39:57.914Z"
   },
   {
    "duration": 1156,
    "start_time": "2021-08-22T09:41:17.963Z"
   },
   {
    "duration": 601,
    "start_time": "2021-08-22T09:41:19.120Z"
   },
   {
    "duration": 723,
    "start_time": "2021-08-22T09:41:19.723Z"
   },
   {
    "duration": 4,
    "start_time": "2021-08-22T09:41:20.448Z"
   },
   {
    "duration": 39,
    "start_time": "2021-08-22T09:41:20.456Z"
   },
   {
    "duration": 3,
    "start_time": "2021-08-22T09:41:20.498Z"
   },
   {
    "duration": 3,
    "start_time": "2021-08-22T09:41:20.503Z"
   },
   {
    "duration": 614,
    "start_time": "2021-08-22T09:41:20.508Z"
   },
   {
    "duration": 1931,
    "start_time": "2021-08-22T09:41:21.124Z"
   },
   {
    "duration": 30,
    "start_time": "2021-08-22T09:41:23.057Z"
   },
   {
    "duration": 3,
    "start_time": "2021-08-22T09:41:23.089Z"
   },
   {
    "duration": 645,
    "start_time": "2021-08-22T09:41:23.094Z"
   },
   {
    "duration": 665,
    "start_time": "2021-08-22T09:41:23.741Z"
   },
   {
    "duration": 2190,
    "start_time": "2021-08-22T09:41:24.408Z"
   },
   {
    "duration": 707,
    "start_time": "2021-08-22T09:41:26.599Z"
   },
   {
    "duration": 67,
    "start_time": "2021-08-22T09:41:27.308Z"
   },
   {
    "duration": 637,
    "start_time": "2021-08-22T09:53:32.892Z"
   },
   {
    "duration": 641,
    "start_time": "2021-08-22T09:53:45.670Z"
   },
   {
    "duration": 1906,
    "start_time": "2021-08-22T09:54:20.673Z"
   },
   {
    "duration": 266,
    "start_time": "2021-08-22T09:55:10.227Z"
   },
   {
    "duration": 649,
    "start_time": "2021-08-22T09:55:33.769Z"
   },
   {
    "duration": 621,
    "start_time": "2021-08-22T09:55:45.384Z"
   },
   {
    "duration": 52,
    "start_time": "2021-08-22T09:55:59.741Z"
   },
   {
    "duration": 54,
    "start_time": "2021-08-22T09:56:04.435Z"
   },
   {
    "duration": 6,
    "start_time": "2021-08-22T09:56:27.749Z"
   },
   {
    "duration": 616,
    "start_time": "2021-08-22T09:57:09.399Z"
   },
   {
    "duration": 208,
    "start_time": "2021-08-22T10:08:58.841Z"
   },
   {
    "duration": 1159,
    "start_time": "2021-08-22T10:10:24.862Z"
   },
   {
    "duration": 4,
    "start_time": "2021-08-22T10:10:26.023Z"
   },
   {
    "duration": 126,
    "start_time": "2021-08-22T10:10:26.029Z"
   },
   {
    "duration": 30,
    "start_time": "2021-08-22T10:10:26.156Z"
   },
   {
    "duration": 12,
    "start_time": "2021-08-22T10:10:26.187Z"
   },
   {
    "duration": 21,
    "start_time": "2021-08-22T10:10:26.200Z"
   },
   {
    "duration": 7,
    "start_time": "2021-08-22T10:10:26.224Z"
   },
   {
    "duration": 246,
    "start_time": "2021-08-22T10:10:26.234Z"
   },
   {
    "duration": 6,
    "start_time": "2021-08-22T10:10:26.483Z"
   },
   {
    "duration": 35,
    "start_time": "2021-08-22T10:10:26.491Z"
   },
   {
    "duration": 7,
    "start_time": "2021-08-22T10:10:26.528Z"
   },
   {
    "duration": 284,
    "start_time": "2021-08-22T10:10:26.536Z"
   },
   {
    "duration": 143,
    "start_time": "2021-08-22T10:10:26.679Z"
   },
   {
    "duration": 130,
    "start_time": "2021-08-22T10:10:26.693Z"
   },
   {
    "duration": 124,
    "start_time": "2021-08-22T10:10:26.700Z"
   },
   {
    "duration": 119,
    "start_time": "2021-08-22T10:10:26.706Z"
   },
   {
    "duration": 117,
    "start_time": "2021-08-22T10:10:26.709Z"
   },
   {
    "duration": 114,
    "start_time": "2021-08-22T10:10:26.713Z"
   },
   {
    "duration": 111,
    "start_time": "2021-08-22T10:10:26.717Z"
   },
   {
    "duration": 108,
    "start_time": "2021-08-22T10:10:26.721Z"
   },
   {
    "duration": 105,
    "start_time": "2021-08-22T10:10:26.725Z"
   },
   {
    "duration": 101,
    "start_time": "2021-08-22T10:10:26.730Z"
   },
   {
    "duration": 98,
    "start_time": "2021-08-22T10:10:26.734Z"
   },
   {
    "duration": 96,
    "start_time": "2021-08-22T10:10:26.737Z"
   },
   {
    "duration": 94,
    "start_time": "2021-08-22T10:10:26.740Z"
   },
   {
    "duration": 89,
    "start_time": "2021-08-22T10:10:26.746Z"
   },
   {
    "duration": 85,
    "start_time": "2021-08-22T10:10:26.751Z"
   },
   {
    "duration": 74,
    "start_time": "2021-08-22T10:10:26.763Z"
   },
   {
    "duration": 66,
    "start_time": "2021-08-22T10:10:26.772Z"
   },
   {
    "duration": 55,
    "start_time": "2021-08-22T10:10:26.784Z"
   },
   {
    "duration": 35,
    "start_time": "2021-08-22T10:10:26.805Z"
   },
   {
    "duration": 30,
    "start_time": "2021-08-22T10:10:26.811Z"
   },
   {
    "duration": 25,
    "start_time": "2021-08-22T10:10:26.817Z"
   },
   {
    "duration": 20,
    "start_time": "2021-08-22T10:10:26.823Z"
   },
   {
    "duration": 18,
    "start_time": "2021-08-22T10:10:26.826Z"
   },
   {
    "duration": 15,
    "start_time": "2021-08-22T10:10:26.830Z"
   },
   {
    "duration": 11,
    "start_time": "2021-08-22T10:10:26.835Z"
   },
   {
    "duration": 1100,
    "start_time": "2021-08-22T10:13:39.220Z"
   },
   {
    "duration": 6,
    "start_time": "2021-08-22T10:13:40.322Z"
   },
   {
    "duration": 110,
    "start_time": "2021-08-22T10:13:40.330Z"
   },
   {
    "duration": 12,
    "start_time": "2021-08-22T10:13:40.442Z"
   },
   {
    "duration": 35,
    "start_time": "2021-08-22T10:13:40.456Z"
   },
   {
    "duration": 22,
    "start_time": "2021-08-22T10:13:40.492Z"
   },
   {
    "duration": 7,
    "start_time": "2021-08-22T10:13:40.516Z"
   },
   {
    "duration": 230,
    "start_time": "2021-08-22T10:13:40.526Z"
   },
   {
    "duration": 4,
    "start_time": "2021-08-22T10:13:40.759Z"
   },
   {
    "duration": 27,
    "start_time": "2021-08-22T10:13:40.766Z"
   },
   {
    "duration": 9,
    "start_time": "2021-08-22T10:13:40.795Z"
   },
   {
    "duration": 4,
    "start_time": "2021-08-22T10:13:40.806Z"
   },
   {
    "duration": 7,
    "start_time": "2021-08-22T10:13:40.812Z"
   },
   {
    "duration": 24,
    "start_time": "2021-08-22T10:13:40.821Z"
   },
   {
    "duration": 5,
    "start_time": "2021-08-22T10:13:40.846Z"
   },
   {
    "duration": 40,
    "start_time": "2021-08-22T10:13:40.853Z"
   },
   {
    "duration": 2,
    "start_time": "2021-08-22T10:13:40.894Z"
   },
   {
    "duration": 21,
    "start_time": "2021-08-22T10:13:40.898Z"
   },
   {
    "duration": 7,
    "start_time": "2021-08-22T10:13:40.921Z"
   },
   {
    "duration": 9,
    "start_time": "2021-08-22T10:13:40.930Z"
   },
   {
    "duration": 65,
    "start_time": "2021-08-22T10:13:40.941Z"
   },
   {
    "duration": 85740,
    "start_time": "2021-08-22T10:13:41.007Z"
   },
   {
    "duration": 477,
    "start_time": "2021-08-22T10:15:06.750Z"
   },
   {
    "duration": 730,
    "start_time": "2021-08-22T10:15:07.229Z"
   },
   {
    "duration": 659,
    "start_time": "2021-08-22T10:15:07.960Z"
   },
   {
    "duration": 3,
    "start_time": "2021-08-22T10:15:08.621Z"
   },
   {
    "duration": 19,
    "start_time": "2021-08-22T10:15:08.626Z"
   },
   {
    "duration": 3,
    "start_time": "2021-08-22T10:15:08.647Z"
   },
   {
    "duration": 6,
    "start_time": "2021-08-22T10:15:08.652Z"
   },
   {
    "duration": 647,
    "start_time": "2021-08-22T10:15:08.660Z"
   },
   {
    "duration": 524,
    "start_time": "2021-08-22T10:15:09.309Z"
   },
   {
    "duration": 12,
    "start_time": "2021-08-22T10:15:09.835Z"
   },
   {
    "duration": 5,
    "start_time": "2021-08-22T10:15:09.849Z"
   },
   {
    "duration": 656,
    "start_time": "2021-08-22T10:15:09.856Z"
   },
   {
    "duration": 383,
    "start_time": "2021-08-22T10:15:10.514Z"
   },
   {
    "duration": 504,
    "start_time": "2021-08-22T10:15:10.898Z"
   },
   {
    "duration": 685,
    "start_time": "2021-08-22T10:15:11.404Z"
   },
   {
    "duration": 1143,
    "start_time": "2021-08-22T10:22:47.310Z"
   },
   {
    "duration": 5,
    "start_time": "2021-08-22T10:22:48.456Z"
   },
   {
    "duration": 123,
    "start_time": "2021-08-22T10:22:48.463Z"
   },
   {
    "duration": 13,
    "start_time": "2021-08-22T10:22:48.587Z"
   },
   {
    "duration": 15,
    "start_time": "2021-08-22T10:22:48.601Z"
   },
   {
    "duration": 21,
    "start_time": "2021-08-22T10:22:48.618Z"
   },
   {
    "duration": 6,
    "start_time": "2021-08-22T10:22:48.641Z"
   },
   {
    "duration": 244,
    "start_time": "2021-08-22T10:22:48.649Z"
   },
   {
    "duration": 4,
    "start_time": "2021-08-22T10:22:48.896Z"
   },
   {
    "duration": 16,
    "start_time": "2021-08-22T10:22:48.902Z"
   },
   {
    "duration": 8,
    "start_time": "2021-08-22T10:22:48.920Z"
   },
   {
    "duration": 3,
    "start_time": "2021-08-22T10:22:48.930Z"
   },
   {
    "duration": 9,
    "start_time": "2021-08-22T10:22:48.935Z"
   },
   {
    "duration": 55,
    "start_time": "2021-08-22T10:22:48.946Z"
   },
   {
    "duration": 6,
    "start_time": "2021-08-22T10:22:49.002Z"
   },
   {
    "duration": 14,
    "start_time": "2021-08-22T10:22:49.009Z"
   },
   {
    "duration": 3,
    "start_time": "2021-08-22T10:22:49.024Z"
   },
   {
    "duration": 22,
    "start_time": "2021-08-22T10:22:49.028Z"
   },
   {
    "duration": 33,
    "start_time": "2021-08-22T10:22:49.052Z"
   },
   {
    "duration": 8,
    "start_time": "2021-08-22T10:22:49.086Z"
   },
   {
    "duration": 53,
    "start_time": "2021-08-22T10:22:49.096Z"
   },
   {
    "duration": 87044,
    "start_time": "2021-08-22T10:22:49.150Z"
   },
   {
    "duration": 690,
    "start_time": "2021-08-22T10:24:16.196Z"
   },
   {
    "duration": 694,
    "start_time": "2021-08-22T10:24:16.887Z"
   },
   {
    "duration": 637,
    "start_time": "2021-08-22T10:24:17.585Z"
   },
   {
    "duration": 4,
    "start_time": "2021-08-22T10:24:18.224Z"
   },
   {
    "duration": 34,
    "start_time": "2021-08-22T10:24:18.233Z"
   },
   {
    "duration": 17,
    "start_time": "2021-08-22T10:24:18.270Z"
   },
   {
    "duration": 12,
    "start_time": "2021-08-22T10:24:18.289Z"
   },
   {
    "duration": 633,
    "start_time": "2021-08-22T10:24:18.303Z"
   },
   {
    "duration": 1035,
    "start_time": "2021-08-22T10:24:18.938Z"
   },
   {
    "duration": 15,
    "start_time": "2021-08-22T10:24:19.985Z"
   },
   {
    "duration": 22,
    "start_time": "2021-08-22T10:24:20.002Z"
   },
   {
    "duration": 651,
    "start_time": "2021-08-22T10:24:20.026Z"
   },
   {
    "duration": 513,
    "start_time": "2021-08-22T10:24:20.679Z"
   },
   {
    "duration": 1045,
    "start_time": "2021-08-22T10:24:21.193Z"
   },
   {
    "duration": 688,
    "start_time": "2021-08-22T10:24:22.239Z"
   },
   {
    "duration": 614,
    "start_time": "2021-08-22T10:29:08.405Z"
   },
   {
    "duration": 645,
    "start_time": "2021-08-22T10:29:11.477Z"
   },
   {
    "duration": 596,
    "start_time": "2021-08-22T10:29:43.418Z"
   },
   {
    "duration": 573,
    "start_time": "2021-08-22T10:29:47.242Z"
   },
   {
    "duration": 1104,
    "start_time": "2021-08-22T10:33:24.720Z"
   },
   {
    "duration": 4,
    "start_time": "2021-08-22T10:33:25.826Z"
   },
   {
    "duration": 113,
    "start_time": "2021-08-22T10:33:25.832Z"
   },
   {
    "duration": 12,
    "start_time": "2021-08-22T10:33:25.947Z"
   },
   {
    "duration": 34,
    "start_time": "2021-08-22T10:33:25.961Z"
   },
   {
    "duration": 20,
    "start_time": "2021-08-22T10:33:25.997Z"
   },
   {
    "duration": 5,
    "start_time": "2021-08-22T10:33:26.019Z"
   },
   {
    "duration": 231,
    "start_time": "2021-08-22T10:33:26.026Z"
   },
   {
    "duration": 4,
    "start_time": "2021-08-22T10:33:26.259Z"
   },
   {
    "duration": 27,
    "start_time": "2021-08-22T10:33:26.265Z"
   },
   {
    "duration": 8,
    "start_time": "2021-08-22T10:33:26.293Z"
   },
   {
    "duration": 8,
    "start_time": "2021-08-22T10:33:26.303Z"
   },
   {
    "duration": 14,
    "start_time": "2021-08-22T10:33:26.312Z"
   },
   {
    "duration": 25,
    "start_time": "2021-08-22T10:33:26.327Z"
   },
   {
    "duration": 5,
    "start_time": "2021-08-22T10:33:26.353Z"
   },
   {
    "duration": 33,
    "start_time": "2021-08-22T10:33:26.360Z"
   },
   {
    "duration": 3,
    "start_time": "2021-08-22T10:33:26.395Z"
   },
   {
    "duration": 26,
    "start_time": "2021-08-22T10:33:26.399Z"
   },
   {
    "duration": 8,
    "start_time": "2021-08-22T10:33:26.427Z"
   },
   {
    "duration": 9,
    "start_time": "2021-08-22T10:33:26.436Z"
   },
   {
    "duration": 66,
    "start_time": "2021-08-22T10:33:26.447Z"
   },
   {
    "duration": 85835,
    "start_time": "2021-08-22T10:33:26.514Z"
   },
   {
    "duration": 435,
    "start_time": "2021-08-22T10:34:52.350Z"
   },
   {
    "duration": 698,
    "start_time": "2021-08-22T10:34:52.786Z"
   },
   {
    "duration": 642,
    "start_time": "2021-08-22T10:34:53.486Z"
   },
   {
    "duration": 4,
    "start_time": "2021-08-22T10:34:54.129Z"
   },
   {
    "duration": 19,
    "start_time": "2021-08-22T10:34:54.136Z"
   },
   {
    "duration": 3,
    "start_time": "2021-08-22T10:34:54.157Z"
   },
   {
    "duration": 5,
    "start_time": "2021-08-22T10:34:54.185Z"
   },
   {
    "duration": 736,
    "start_time": "2021-08-22T10:34:54.192Z"
   },
   {
    "duration": 466,
    "start_time": "2021-08-22T10:34:54.930Z"
   },
   {
    "duration": 13,
    "start_time": "2021-08-22T10:34:55.397Z"
   },
   {
    "duration": 3,
    "start_time": "2021-08-22T10:34:55.411Z"
   },
   {
    "duration": 708,
    "start_time": "2021-08-22T10:34:55.416Z"
   },
   {
    "duration": 389,
    "start_time": "2021-08-22T10:34:56.125Z"
   },
   {
    "duration": 471,
    "start_time": "2021-08-22T10:34:56.515Z"
   },
   {
    "duration": 697,
    "start_time": "2021-08-22T10:34:56.987Z"
   },
   {
    "duration": 1137,
    "start_time": "2021-08-22T10:38:56.785Z"
   },
   {
    "duration": 5,
    "start_time": "2021-08-22T10:38:57.923Z"
   },
   {
    "duration": 107,
    "start_time": "2021-08-22T10:38:57.930Z"
   },
   {
    "duration": 13,
    "start_time": "2021-08-22T10:38:58.039Z"
   },
   {
    "duration": 34,
    "start_time": "2021-08-22T10:38:58.054Z"
   },
   {
    "duration": 21,
    "start_time": "2021-08-22T10:38:58.090Z"
   },
   {
    "duration": 6,
    "start_time": "2021-08-22T10:38:58.112Z"
   },
   {
    "duration": 224,
    "start_time": "2021-08-22T10:38:58.119Z"
   },
   {
    "duration": 4,
    "start_time": "2021-08-22T10:38:58.346Z"
   },
   {
    "duration": 13,
    "start_time": "2021-08-22T10:38:58.353Z"
   },
   {
    "duration": 25,
    "start_time": "2021-08-22T10:38:58.368Z"
   },
   {
    "duration": 4,
    "start_time": "2021-08-22T10:38:58.395Z"
   },
   {
    "duration": 7,
    "start_time": "2021-08-22T10:38:58.400Z"
   },
   {
    "duration": 24,
    "start_time": "2021-08-22T10:38:58.408Z"
   },
   {
    "duration": 5,
    "start_time": "2021-08-22T10:38:58.434Z"
   },
   {
    "duration": 44,
    "start_time": "2021-08-22T10:38:58.441Z"
   },
   {
    "duration": 3,
    "start_time": "2021-08-22T10:38:58.486Z"
   },
   {
    "duration": 19,
    "start_time": "2021-08-22T10:38:58.491Z"
   },
   {
    "duration": 8,
    "start_time": "2021-08-22T10:38:58.511Z"
   },
   {
    "duration": 7,
    "start_time": "2021-08-22T10:38:58.520Z"
   },
   {
    "duration": 65,
    "start_time": "2021-08-22T10:38:58.528Z"
   },
   {
    "duration": 68041,
    "start_time": "2021-08-22T10:38:58.595Z"
   },
   {
    "duration": 960,
    "start_time": "2021-08-22T10:40:06.638Z"
   },
   {
    "duration": 670,
    "start_time": "2021-08-22T10:40:07.600Z"
   },
   {
    "duration": 638,
    "start_time": "2021-08-22T10:40:08.272Z"
   },
   {
    "duration": 3,
    "start_time": "2021-08-22T10:40:08.912Z"
   },
   {
    "duration": 19,
    "start_time": "2021-08-22T10:40:08.918Z"
   },
   {
    "duration": 4,
    "start_time": "2021-08-22T10:40:08.939Z"
   },
   {
    "duration": 6,
    "start_time": "2021-08-22T10:40:08.944Z"
   },
   {
    "duration": 747,
    "start_time": "2021-08-22T10:40:08.952Z"
   },
   {
    "duration": 1494,
    "start_time": "2021-08-22T10:40:09.701Z"
   },
   {
    "duration": 11,
    "start_time": "2021-08-22T10:40:11.197Z"
   },
   {
    "duration": 2,
    "start_time": "2021-08-22T10:40:11.210Z"
   },
   {
    "duration": 615,
    "start_time": "2021-08-22T10:40:11.214Z"
   },
   {
    "duration": 612,
    "start_time": "2021-08-22T10:40:11.831Z"
   },
   {
    "duration": 1497,
    "start_time": "2021-08-22T10:40:12.445Z"
   },
   {
    "duration": 769,
    "start_time": "2021-08-22T10:40:13.943Z"
   },
   {
    "duration": 26,
    "start_time": "2021-08-22T10:58:12.957Z"
   },
   {
    "duration": 23,
    "start_time": "2021-08-22T10:58:58.361Z"
   },
   {
    "duration": 24,
    "start_time": "2021-08-22T10:59:01.214Z"
   },
   {
    "duration": 27,
    "start_time": "2021-08-22T11:00:03.163Z"
   },
   {
    "duration": 23,
    "start_time": "2021-08-22T11:00:34.902Z"
   },
   {
    "duration": 23,
    "start_time": "2021-08-22T11:00:49.145Z"
   },
   {
    "duration": 23,
    "start_time": "2021-08-22T11:00:54.321Z"
   },
   {
    "duration": 21,
    "start_time": "2021-08-22T11:00:59.314Z"
   },
   {
    "duration": 23,
    "start_time": "2021-08-22T11:01:04.550Z"
   },
   {
    "duration": 3,
    "start_time": "2021-08-22T11:01:20.797Z"
   },
   {
    "duration": 3,
    "start_time": "2021-08-22T11:01:46.317Z"
   },
   {
    "duration": 24,
    "start_time": "2021-08-22T11:01:59.987Z"
   },
   {
    "duration": 21,
    "start_time": "2021-08-22T11:02:10.998Z"
   },
   {
    "duration": 22,
    "start_time": "2021-08-22T11:02:23.177Z"
   },
   {
    "duration": 21,
    "start_time": "2021-08-22T11:02:28.426Z"
   },
   {
    "duration": 24,
    "start_time": "2021-08-22T11:02:32.254Z"
   },
   {
    "duration": 21,
    "start_time": "2021-08-22T11:02:36.234Z"
   },
   {
    "duration": 22,
    "start_time": "2021-08-22T11:02:39.722Z"
   },
   {
    "duration": 24,
    "start_time": "2021-08-22T11:02:46.114Z"
   },
   {
    "duration": 4,
    "start_time": "2021-08-22T11:02:52.105Z"
   },
   {
    "duration": 730,
    "start_time": "2021-08-22T11:02:57.404Z"
   },
   {
    "duration": 684,
    "start_time": "2021-08-22T11:03:04.058Z"
   },
   {
    "duration": 1241,
    "start_time": "2021-08-22T11:03:15.833Z"
   },
   {
    "duration": 712,
    "start_time": "2021-08-22T11:03:30.118Z"
   },
   {
    "duration": 1128,
    "start_time": "2021-08-22T11:03:42.592Z"
   },
   {
    "duration": 5,
    "start_time": "2021-08-22T11:03:43.722Z"
   },
   {
    "duration": 105,
    "start_time": "2021-08-22T11:03:43.728Z"
   },
   {
    "duration": 12,
    "start_time": "2021-08-22T11:03:43.835Z"
   },
   {
    "duration": 37,
    "start_time": "2021-08-22T11:03:43.850Z"
   },
   {
    "duration": 23,
    "start_time": "2021-08-22T11:03:43.890Z"
   },
   {
    "duration": 5,
    "start_time": "2021-08-22T11:03:43.915Z"
   },
   {
    "duration": 237,
    "start_time": "2021-08-22T11:03:43.923Z"
   },
   {
    "duration": 5,
    "start_time": "2021-08-22T11:03:44.162Z"
   },
   {
    "duration": 24,
    "start_time": "2021-08-22T11:03:44.168Z"
   },
   {
    "duration": 8,
    "start_time": "2021-08-22T11:03:44.193Z"
   },
   {
    "duration": 4,
    "start_time": "2021-08-22T11:03:44.203Z"
   },
   {
    "duration": 9,
    "start_time": "2021-08-22T11:03:44.208Z"
   },
   {
    "duration": 24,
    "start_time": "2021-08-22T11:03:44.219Z"
   },
   {
    "duration": 6,
    "start_time": "2021-08-22T11:03:44.244Z"
   },
   {
    "duration": 44,
    "start_time": "2021-08-22T11:03:44.252Z"
   },
   {
    "duration": 2,
    "start_time": "2021-08-22T11:03:44.298Z"
   },
   {
    "duration": 20,
    "start_time": "2021-08-22T11:03:44.302Z"
   },
   {
    "duration": 8,
    "start_time": "2021-08-22T11:03:44.323Z"
   },
   {
    "duration": 10,
    "start_time": "2021-08-22T11:03:44.333Z"
   },
   {
    "duration": 62,
    "start_time": "2021-08-22T11:03:44.345Z"
   },
   {
    "duration": 69692,
    "start_time": "2021-08-22T11:03:44.409Z"
   },
   {
    "duration": 996,
    "start_time": "2021-08-22T11:04:54.104Z"
   },
   {
    "duration": 682,
    "start_time": "2021-08-22T11:04:55.103Z"
   },
   {
    "duration": 650,
    "start_time": "2021-08-22T11:04:55.787Z"
   },
   {
    "duration": 4,
    "start_time": "2021-08-22T11:04:56.438Z"
   },
   {
    "duration": 25,
    "start_time": "2021-08-22T11:04:56.444Z"
   },
   {
    "duration": 3,
    "start_time": "2021-08-22T11:04:56.485Z"
   },
   {
    "duration": 8,
    "start_time": "2021-08-22T11:04:56.490Z"
   },
   {
    "duration": 689,
    "start_time": "2021-08-22T11:04:56.499Z"
   },
   {
    "duration": 1218,
    "start_time": "2021-08-22T11:04:57.190Z"
   },
   {
    "duration": 4,
    "start_time": "2021-08-22T11:04:58.410Z"
   },
   {
    "duration": 23,
    "start_time": "2021-08-22T11:04:58.416Z"
   },
   {
    "duration": 4,
    "start_time": "2021-08-22T11:04:58.441Z"
   },
   {
    "duration": 681,
    "start_time": "2021-08-22T11:04:58.447Z"
   },
   {
    "duration": 694,
    "start_time": "2021-08-22T11:04:59.130Z"
   },
   {
    "duration": 1233,
    "start_time": "2021-08-22T11:04:59.825Z"
   },
   {
    "duration": 773,
    "start_time": "2021-08-22T11:05:01.060Z"
   },
   {
    "duration": 5,
    "start_time": "2021-08-22T11:08:55.759Z"
   },
   {
    "duration": 6,
    "start_time": "2021-08-22T11:08:55.766Z"
   },
   {
    "duration": 117,
    "start_time": "2021-08-22T11:08:55.774Z"
   },
   {
    "duration": 13,
    "start_time": "2021-08-22T11:08:55.893Z"
   },
   {
    "duration": 16,
    "start_time": "2021-08-22T11:08:55.908Z"
   },
   {
    "duration": 22,
    "start_time": "2021-08-22T11:08:55.926Z"
   },
   {
    "duration": 41,
    "start_time": "2021-08-22T11:08:55.950Z"
   },
   {
    "duration": 230,
    "start_time": "2021-08-22T11:08:55.993Z"
   },
   {
    "duration": 5,
    "start_time": "2021-08-22T11:08:56.226Z"
   },
   {
    "duration": 32,
    "start_time": "2021-08-22T11:08:56.233Z"
   },
   {
    "duration": 17,
    "start_time": "2021-08-22T11:08:56.266Z"
   },
   {
    "duration": 19,
    "start_time": "2021-08-22T11:08:56.285Z"
   },
   {
    "duration": 32,
    "start_time": "2021-08-22T11:08:56.306Z"
   },
   {
    "duration": 36,
    "start_time": "2021-08-22T11:08:56.340Z"
   },
   {
    "duration": 6,
    "start_time": "2021-08-22T11:08:56.377Z"
   },
   {
    "duration": 22,
    "start_time": "2021-08-22T11:08:56.384Z"
   },
   {
    "duration": 3,
    "start_time": "2021-08-22T11:08:56.408Z"
   },
   {
    "duration": 24,
    "start_time": "2021-08-22T11:08:56.412Z"
   },
   {
    "duration": 8,
    "start_time": "2021-08-22T11:08:56.438Z"
   },
   {
    "duration": 15,
    "start_time": "2021-08-22T11:08:56.448Z"
   },
   {
    "duration": 51,
    "start_time": "2021-08-22T11:08:56.465Z"
   },
   {
    "duration": 70713,
    "start_time": "2021-08-22T11:08:56.519Z"
   },
   {
    "duration": 470,
    "start_time": "2021-08-22T11:10:07.234Z"
   },
   {
    "duration": 722,
    "start_time": "2021-08-22T11:10:07.706Z"
   },
   {
    "duration": 715,
    "start_time": "2021-08-22T11:10:08.430Z"
   },
   {
    "duration": 3,
    "start_time": "2021-08-22T11:10:09.147Z"
   },
   {
    "duration": 42,
    "start_time": "2021-08-22T11:10:09.153Z"
   },
   {
    "duration": 4,
    "start_time": "2021-08-22T11:10:09.197Z"
   },
   {
    "duration": 13,
    "start_time": "2021-08-22T11:10:09.202Z"
   },
   {
    "duration": 623,
    "start_time": "2021-08-22T11:10:09.217Z"
   },
   {
    "duration": 488,
    "start_time": "2021-08-22T11:10:09.841Z"
   },
   {
    "duration": 3,
    "start_time": "2021-08-22T11:10:10.331Z"
   },
   {
    "duration": 23,
    "start_time": "2021-08-22T11:10:10.337Z"
   },
   {
    "duration": 25,
    "start_time": "2021-08-22T11:10:10.362Z"
   },
   {
    "duration": 738,
    "start_time": "2021-08-22T11:10:10.388Z"
   },
   {
    "duration": 429,
    "start_time": "2021-08-22T11:10:11.129Z"
   },
   {
    "duration": 526,
    "start_time": "2021-08-22T11:10:11.560Z"
   },
   {
    "duration": 662,
    "start_time": "2021-08-22T11:10:12.089Z"
   },
   {
    "duration": 1114,
    "start_time": "2021-08-22T11:13:12.810Z"
   },
   {
    "duration": 4,
    "start_time": "2021-08-22T11:13:13.926Z"
   },
   {
    "duration": 102,
    "start_time": "2021-08-22T11:13:13.932Z"
   },
   {
    "duration": 13,
    "start_time": "2021-08-22T11:13:14.037Z"
   },
   {
    "duration": 39,
    "start_time": "2021-08-22T11:13:14.052Z"
   },
   {
    "duration": 22,
    "start_time": "2021-08-22T11:13:14.093Z"
   },
   {
    "duration": 7,
    "start_time": "2021-08-22T11:13:14.117Z"
   },
   {
    "duration": 240,
    "start_time": "2021-08-22T11:13:14.125Z"
   },
   {
    "duration": 5,
    "start_time": "2021-08-22T11:13:14.367Z"
   },
   {
    "duration": 11,
    "start_time": "2021-08-22T11:13:14.385Z"
   },
   {
    "duration": 8,
    "start_time": "2021-08-22T11:13:14.398Z"
   },
   {
    "duration": 8,
    "start_time": "2021-08-22T11:13:14.408Z"
   },
   {
    "duration": 9,
    "start_time": "2021-08-22T11:13:14.418Z"
   },
   {
    "duration": 23,
    "start_time": "2021-08-22T11:13:14.429Z"
   },
   {
    "duration": 5,
    "start_time": "2021-08-22T11:13:14.454Z"
   },
   {
    "duration": 15,
    "start_time": "2021-08-22T11:13:14.486Z"
   },
   {
    "duration": 3,
    "start_time": "2021-08-22T11:13:14.503Z"
   },
   {
    "duration": 23,
    "start_time": "2021-08-22T11:13:14.508Z"
   },
   {
    "duration": 7,
    "start_time": "2021-08-22T11:13:14.533Z"
   },
   {
    "duration": 7,
    "start_time": "2021-08-22T11:13:14.542Z"
   },
   {
    "duration": 77,
    "start_time": "2021-08-22T11:13:14.551Z"
   },
   {
    "duration": 68338,
    "start_time": "2021-08-22T11:13:14.629Z"
   },
   {
    "duration": 767,
    "start_time": "2021-08-22T11:14:22.968Z"
   },
   {
    "duration": 751,
    "start_time": "2021-08-22T11:14:23.737Z"
   },
   {
    "duration": 649,
    "start_time": "2021-08-22T11:14:24.489Z"
   },
   {
    "duration": 3,
    "start_time": "2021-08-22T11:14:25.140Z"
   },
   {
    "duration": 39,
    "start_time": "2021-08-22T11:14:25.146Z"
   },
   {
    "duration": 3,
    "start_time": "2021-08-22T11:14:25.187Z"
   },
   {
    "duration": 5,
    "start_time": "2021-08-22T11:14:25.192Z"
   },
   {
    "duration": 632,
    "start_time": "2021-08-22T11:14:25.199Z"
   },
   {
    "duration": 912,
    "start_time": "2021-08-22T11:14:25.833Z"
   },
   {
    "duration": 3,
    "start_time": "2021-08-22T11:14:26.747Z"
   },
   {
    "duration": 39,
    "start_time": "2021-08-22T11:14:26.751Z"
   },
   {
    "duration": 3,
    "start_time": "2021-08-22T11:14:26.792Z"
   },
   {
    "duration": 729,
    "start_time": "2021-08-22T11:14:26.797Z"
   },
   {
    "duration": 564,
    "start_time": "2021-08-22T11:14:27.527Z"
   },
   {
    "duration": 855,
    "start_time": "2021-08-22T11:14:28.093Z"
   },
   {
    "duration": 746,
    "start_time": "2021-08-22T11:14:28.950Z"
   },
   {
    "duration": 1679,
    "start_time": "2021-08-22T12:54:08.490Z"
   },
   {
    "duration": 7,
    "start_time": "2021-08-22T12:54:10.171Z"
   },
   {
    "duration": 177,
    "start_time": "2021-08-22T12:54:10.182Z"
   },
   {
    "duration": 47,
    "start_time": "2021-08-22T12:54:10.363Z"
   },
   {
    "duration": 20,
    "start_time": "2021-08-22T12:54:10.420Z"
   },
   {
    "duration": 33,
    "start_time": "2021-08-22T12:54:10.442Z"
   },
   {
    "duration": 40,
    "start_time": "2021-08-22T12:54:10.477Z"
   },
   {
    "duration": 377,
    "start_time": "2021-08-22T12:54:10.523Z"
   },
   {
    "duration": 8,
    "start_time": "2021-08-22T12:54:10.904Z"
   },
   {
    "duration": 23,
    "start_time": "2021-08-22T12:54:10.915Z"
   },
   {
    "duration": 12,
    "start_time": "2021-08-22T12:54:10.941Z"
   },
   {
    "duration": 6,
    "start_time": "2021-08-22T12:54:10.956Z"
   },
   {
    "duration": 12,
    "start_time": "2021-08-22T12:54:11.002Z"
   },
   {
    "duration": 35,
    "start_time": "2021-08-22T12:54:11.017Z"
   },
   {
    "duration": 8,
    "start_time": "2021-08-22T12:54:11.055Z"
   },
   {
    "duration": 57,
    "start_time": "2021-08-22T12:54:11.066Z"
   },
   {
    "duration": 4,
    "start_time": "2021-08-22T12:54:11.126Z"
   },
   {
    "duration": 31,
    "start_time": "2021-08-22T12:54:11.132Z"
   },
   {
    "duration": 44,
    "start_time": "2021-08-22T12:54:11.165Z"
   },
   {
    "duration": 12,
    "start_time": "2021-08-22T12:54:11.213Z"
   },
   {
    "duration": 74,
    "start_time": "2021-08-22T12:54:11.228Z"
   },
   {
    "duration": 108901,
    "start_time": "2021-08-22T12:54:11.304Z"
   },
   {
    "duration": 1402,
    "start_time": "2021-08-22T12:56:00.209Z"
   },
   {
    "duration": 1130,
    "start_time": "2021-08-22T12:56:01.616Z"
   },
   {
    "duration": 1127,
    "start_time": "2021-08-22T12:56:02.749Z"
   },
   {
    "duration": 4,
    "start_time": "2021-08-22T12:56:03.879Z"
   },
   {
    "duration": 35,
    "start_time": "2021-08-22T12:56:03.902Z"
   },
   {
    "duration": 5,
    "start_time": "2021-08-22T12:56:03.940Z"
   },
   {
    "duration": 8,
    "start_time": "2021-08-22T12:56:03.948Z"
   },
   {
    "duration": 967,
    "start_time": "2021-08-22T12:56:03.958Z"
   },
   {
    "duration": 1391,
    "start_time": "2021-08-22T12:56:04.927Z"
   },
   {
    "duration": 5,
    "start_time": "2021-08-22T12:56:06.320Z"
   },
   {
    "duration": 41,
    "start_time": "2021-08-22T12:56:06.327Z"
   },
   {
    "duration": 4,
    "start_time": "2021-08-22T12:56:06.371Z"
   },
   {
    "duration": 1154,
    "start_time": "2021-08-22T12:56:06.401Z"
   },
   {
    "duration": 847,
    "start_time": "2021-08-22T12:56:07.558Z"
   },
   {
    "duration": 1344,
    "start_time": "2021-08-22T12:56:08.408Z"
   },
   {
    "duration": 936,
    "start_time": "2021-08-22T12:56:09.755Z"
   },
   {
    "duration": 6,
    "start_time": "2021-08-22T12:58:33.306Z"
   },
   {
    "duration": 15,
    "start_time": "2021-08-22T12:58:33.315Z"
   },
   {
    "duration": 182,
    "start_time": "2021-08-22T12:58:33.333Z"
   },
   {
    "duration": 19,
    "start_time": "2021-08-22T12:58:33.518Z"
   },
   {
    "duration": 19,
    "start_time": "2021-08-22T12:58:33.541Z"
   },
   {
    "duration": 70,
    "start_time": "2021-08-22T12:58:33.563Z"
   },
   {
    "duration": 10,
    "start_time": "2021-08-22T12:58:33.636Z"
   },
   {
    "duration": 348,
    "start_time": "2021-08-22T12:58:33.652Z"
   },
   {
    "duration": 7,
    "start_time": "2021-08-22T12:58:34.004Z"
   },
   {
    "duration": 21,
    "start_time": "2021-08-22T12:58:34.013Z"
   },
   {
    "duration": 12,
    "start_time": "2021-08-22T12:58:34.036Z"
   },
   {
    "duration": 4,
    "start_time": "2021-08-22T12:58:34.051Z"
   },
   {
    "duration": 51,
    "start_time": "2021-08-22T12:58:34.057Z"
   },
   {
    "duration": 34,
    "start_time": "2021-08-22T12:58:34.111Z"
   },
   {
    "duration": 10,
    "start_time": "2021-08-22T12:58:34.148Z"
   },
   {
    "duration": 58,
    "start_time": "2021-08-22T12:58:34.161Z"
   },
   {
    "duration": 5,
    "start_time": "2021-08-22T12:58:34.222Z"
   },
   {
    "duration": 28,
    "start_time": "2021-08-22T12:58:34.231Z"
   },
   {
    "duration": 47,
    "start_time": "2021-08-22T12:58:34.262Z"
   },
   {
    "duration": 14,
    "start_time": "2021-08-22T12:58:34.312Z"
   },
   {
    "duration": 64,
    "start_time": "2021-08-22T12:58:34.329Z"
   },
   {
    "duration": 113965,
    "start_time": "2021-08-22T12:58:34.401Z"
   },
   {
    "duration": 1013,
    "start_time": "2021-08-22T13:00:28.372Z"
   },
   {
    "duration": 994,
    "start_time": "2021-08-22T13:00:29.388Z"
   },
   {
    "duration": 933,
    "start_time": "2021-08-22T13:00:30.388Z"
   },
   {
    "duration": 6,
    "start_time": "2021-08-22T13:00:31.325Z"
   },
   {
    "duration": 72,
    "start_time": "2021-08-22T13:00:31.334Z"
   },
   {
    "duration": 10,
    "start_time": "2021-08-22T13:00:31.410Z"
   },
   {
    "duration": 17,
    "start_time": "2021-08-22T13:00:31.423Z"
   },
   {
    "duration": 983,
    "start_time": "2021-08-22T13:00:31.443Z"
   },
   {
    "duration": 852,
    "start_time": "2021-08-22T13:00:32.429Z"
   },
   {
    "duration": 4,
    "start_time": "2021-08-22T13:00:33.284Z"
   },
   {
    "duration": 146,
    "start_time": "2021-08-22T13:00:33.302Z"
   },
   {
    "duration": 5,
    "start_time": "2021-08-22T13:00:33.451Z"
   },
   {
    "duration": 959,
    "start_time": "2021-08-22T13:00:33.459Z"
   },
   {
    "duration": 669,
    "start_time": "2021-08-22T13:00:34.420Z"
   },
   {
    "duration": 813,
    "start_time": "2021-08-22T13:00:35.093Z"
   },
   {
    "duration": 1031,
    "start_time": "2021-08-22T13:00:35.909Z"
   },
   {
    "duration": 1566,
    "start_time": "2021-08-22T13:11:23.171Z"
   },
   {
    "duration": 7,
    "start_time": "2021-08-22T13:11:24.740Z"
   },
   {
    "duration": 173,
    "start_time": "2021-08-22T13:11:24.750Z"
   },
   {
    "duration": 20,
    "start_time": "2021-08-22T13:11:24.926Z"
   },
   {
    "duration": 21,
    "start_time": "2021-08-22T13:11:24.949Z"
   },
   {
    "duration": 45,
    "start_time": "2021-08-22T13:11:25.001Z"
   },
   {
    "duration": 14,
    "start_time": "2021-08-22T13:11:25.049Z"
   },
   {
    "duration": 333,
    "start_time": "2021-08-22T13:11:25.067Z"
   },
   {
    "duration": 8,
    "start_time": "2021-08-22T13:11:25.404Z"
   },
   {
    "duration": 28,
    "start_time": "2021-08-22T13:11:25.415Z"
   },
   {
    "duration": 12,
    "start_time": "2021-08-22T13:11:25.445Z"
   },
   {
    "duration": 6,
    "start_time": "2021-08-22T13:11:25.460Z"
   },
   {
    "duration": 9,
    "start_time": "2021-08-22T13:11:25.501Z"
   },
   {
    "duration": 47,
    "start_time": "2021-08-22T13:11:25.513Z"
   },
   {
    "duration": 11,
    "start_time": "2021-08-22T13:11:25.563Z"
   },
   {
    "duration": 37,
    "start_time": "2021-08-22T13:11:25.576Z"
   },
   {
    "duration": 4,
    "start_time": "2021-08-22T13:11:25.615Z"
   },
   {
    "duration": 30,
    "start_time": "2021-08-22T13:11:25.622Z"
   },
   {
    "duration": 11,
    "start_time": "2021-08-22T13:11:25.654Z"
   },
   {
    "duration": 34,
    "start_time": "2021-08-22T13:11:25.668Z"
   },
   {
    "duration": 70,
    "start_time": "2021-08-22T13:11:25.704Z"
   },
   {
    "duration": 123913,
    "start_time": "2021-08-22T13:11:25.802Z"
   },
   {
    "duration": 1801,
    "start_time": "2021-08-22T13:13:29.720Z"
   },
   {
    "duration": 1004,
    "start_time": "2021-08-22T13:13:31.524Z"
   },
   {
    "duration": 802,
    "start_time": "2021-08-22T13:13:32.530Z"
   },
   {
    "duration": 5,
    "start_time": "2021-08-22T13:13:33.334Z"
   },
   {
    "duration": 63,
    "start_time": "2021-08-22T13:13:33.342Z"
   },
   {
    "duration": 6,
    "start_time": "2021-08-22T13:13:33.408Z"
   },
   {
    "duration": 15,
    "start_time": "2021-08-22T13:13:33.417Z"
   },
   {
    "duration": 778,
    "start_time": "2021-08-22T13:13:33.434Z"
   },
   {
    "duration": 2233,
    "start_time": "2021-08-22T13:13:34.214Z"
   },
   {
    "duration": 5,
    "start_time": "2021-08-22T13:13:36.449Z"
   },
   {
    "duration": 60,
    "start_time": "2021-08-22T13:13:36.457Z"
   },
   {
    "duration": 5,
    "start_time": "2021-08-22T13:13:36.520Z"
   },
   {
    "duration": 896,
    "start_time": "2021-08-22T13:13:36.528Z"
   },
   {
    "duration": 1107,
    "start_time": "2021-08-22T13:13:37.427Z"
   },
   {
    "duration": 2435,
    "start_time": "2021-08-22T13:13:38.538Z"
   },
   {
    "duration": 954,
    "start_time": "2021-08-22T13:13:40.976Z"
   },
   {
    "duration": 1339,
    "start_time": "2021-08-22T13:21:49.663Z"
   },
   {
    "duration": 138,
    "start_time": "2021-08-22T13:23:03.559Z"
   },
   {
    "duration": 136,
    "start_time": "2021-08-22T13:27:37.919Z"
   },
   {
    "duration": 454,
    "start_time": "2021-08-22T13:27:45.880Z"
   },
   {
    "duration": 1601,
    "start_time": "2021-08-22T13:29:36.593Z"
   },
   {
    "duration": 10,
    "start_time": "2021-08-22T13:29:38.196Z"
   },
   {
    "duration": 169,
    "start_time": "2021-08-22T13:29:38.211Z"
   },
   {
    "duration": 42,
    "start_time": "2021-08-22T13:29:38.383Z"
   },
   {
    "duration": 20,
    "start_time": "2021-08-22T13:29:38.427Z"
   },
   {
    "duration": 66,
    "start_time": "2021-08-22T13:29:38.449Z"
   },
   {
    "duration": 9,
    "start_time": "2021-08-22T13:29:38.522Z"
   },
   {
    "duration": 370,
    "start_time": "2021-08-22T13:29:38.534Z"
   },
   {
    "duration": 8,
    "start_time": "2021-08-22T13:29:38.910Z"
   },
   {
    "duration": 24,
    "start_time": "2021-08-22T13:29:38.921Z"
   },
   {
    "duration": 11,
    "start_time": "2021-08-22T13:29:38.948Z"
   },
   {
    "duration": 43,
    "start_time": "2021-08-22T13:29:38.962Z"
   },
   {
    "duration": 20,
    "start_time": "2021-08-22T13:29:39.008Z"
   },
   {
    "duration": 41,
    "start_time": "2021-08-22T13:29:39.031Z"
   },
   {
    "duration": 35,
    "start_time": "2021-08-22T13:29:39.075Z"
   },
   {
    "duration": 19,
    "start_time": "2021-08-22T13:29:39.114Z"
   },
   {
    "duration": 15,
    "start_time": "2021-08-22T13:29:39.136Z"
   },
   {
    "duration": 26,
    "start_time": "2021-08-22T13:29:39.153Z"
   },
   {
    "duration": 35,
    "start_time": "2021-08-22T13:29:39.181Z"
   },
   {
    "duration": 19,
    "start_time": "2021-08-22T13:29:39.218Z"
   },
   {
    "duration": 79,
    "start_time": "2021-08-22T13:29:39.239Z"
   },
   {
    "duration": 72621,
    "start_time": "2021-08-22T13:29:39.321Z"
   },
   {
    "duration": 1834,
    "start_time": "2021-08-22T13:30:51.945Z"
   },
   {
    "duration": 891,
    "start_time": "2021-08-22T13:30:53.782Z"
   },
   {
    "duration": 961,
    "start_time": "2021-08-22T13:30:54.676Z"
   },
   {
    "duration": 4,
    "start_time": "2021-08-22T13:30:55.640Z"
   },
   {
    "duration": 75,
    "start_time": "2021-08-22T13:30:55.650Z"
   },
   {
    "duration": 5,
    "start_time": "2021-08-22T13:30:55.728Z"
   },
   {
    "duration": 5,
    "start_time": "2021-08-22T13:30:55.736Z"
   },
   {
    "duration": 1067,
    "start_time": "2021-08-22T13:30:55.745Z"
   },
   {
    "duration": 2649,
    "start_time": "2021-08-22T13:30:56.815Z"
   },
   {
    "duration": 6,
    "start_time": "2021-08-22T13:30:59.466Z"
   },
   {
    "duration": 66,
    "start_time": "2021-08-22T13:30:59.474Z"
   },
   {
    "duration": 5,
    "start_time": "2021-08-22T13:30:59.543Z"
   },
   {
    "duration": 992,
    "start_time": "2021-08-22T13:30:59.550Z"
   },
   {
    "duration": 1231,
    "start_time": "2021-08-22T13:31:00.544Z"
   },
   {
    "duration": 2429,
    "start_time": "2021-08-22T13:31:01.778Z"
   },
   {
    "duration": 1173,
    "start_time": "2021-08-22T13:31:04.210Z"
   },
   {
    "duration": 969,
    "start_time": "2021-08-22T13:31:05.386Z"
   },
   {
    "duration": 96351,
    "start_time": "2021-08-22T13:32:56.514Z"
   },
   {
    "duration": 1800,
    "start_time": "2021-08-22T13:34:43.802Z"
   },
   {
    "duration": 174,
    "start_time": "2021-08-22T13:35:30.487Z"
   },
   {
    "duration": 32436,
    "start_time": "2021-08-22T13:37:55.829Z"
   },
   {
    "duration": 976,
    "start_time": "2021-08-22T13:39:04.794Z"
   },
   {
    "duration": 1767,
    "start_time": "2021-08-22T13:40:32.983Z"
   },
   {
    "duration": 141,
    "start_time": "2021-08-22T13:42:47.668Z"
   },
   {
    "duration": 973,
    "start_time": "2021-08-22T13:43:10.218Z"
   },
   {
    "duration": 7,
    "start_time": "2021-08-22T13:45:16.264Z"
   },
   {
    "duration": 26,
    "start_time": "2021-08-22T13:45:16.279Z"
   },
   {
    "duration": 188,
    "start_time": "2021-08-22T13:45:16.315Z"
   },
   {
    "duration": 24,
    "start_time": "2021-08-22T13:45:16.507Z"
   },
   {
    "duration": 35,
    "start_time": "2021-08-22T13:45:16.534Z"
   },
   {
    "duration": 65,
    "start_time": "2021-08-22T13:45:16.572Z"
   },
   {
    "duration": 10,
    "start_time": "2021-08-22T13:45:16.640Z"
   },
   {
    "duration": 360,
    "start_time": "2021-08-22T13:45:16.652Z"
   },
   {
    "duration": 6,
    "start_time": "2021-08-22T13:45:17.015Z"
   },
   {
    "duration": 19,
    "start_time": "2021-08-22T13:45:17.026Z"
   },
   {
    "duration": 10,
    "start_time": "2021-08-22T13:45:17.048Z"
   },
   {
    "duration": 47,
    "start_time": "2021-08-22T13:45:17.063Z"
   },
   {
    "duration": 19,
    "start_time": "2021-08-22T13:45:17.113Z"
   },
   {
    "duration": 43,
    "start_time": "2021-08-22T13:45:17.135Z"
   },
   {
    "duration": 21,
    "start_time": "2021-08-22T13:45:17.181Z"
   },
   {
    "duration": 20,
    "start_time": "2021-08-22T13:45:17.204Z"
   },
   {
    "duration": 4,
    "start_time": "2021-08-22T13:45:17.227Z"
   },
   {
    "duration": 26,
    "start_time": "2021-08-22T13:45:17.233Z"
   },
   {
    "duration": 51,
    "start_time": "2021-08-22T13:45:17.262Z"
   },
   {
    "duration": 16,
    "start_time": "2021-08-22T13:45:17.317Z"
   },
   {
    "duration": 86,
    "start_time": "2021-08-22T13:45:17.335Z"
   },
   {
    "duration": 78001,
    "start_time": "2021-08-22T13:45:17.423Z"
   },
   {
    "duration": 1954,
    "start_time": "2021-08-22T13:46:35.427Z"
   },
   {
    "duration": 888,
    "start_time": "2021-08-22T13:46:37.384Z"
   },
   {
    "duration": 875,
    "start_time": "2021-08-22T13:46:38.274Z"
   },
   {
    "duration": 4,
    "start_time": "2021-08-22T13:46:39.152Z"
   },
   {
    "duration": 72,
    "start_time": "2021-08-22T13:46:39.158Z"
   },
   {
    "duration": 4,
    "start_time": "2021-08-22T13:46:39.235Z"
   },
   {
    "duration": 14,
    "start_time": "2021-08-22T13:46:39.242Z"
   },
   {
    "duration": 1079,
    "start_time": "2021-08-22T13:46:39.258Z"
   },
   {
    "duration": 101386,
    "start_time": "2021-08-22T13:46:40.340Z"
   },
   {
    "duration": 3232,
    "start_time": "2021-08-22T13:48:21.729Z"
   },
   {
    "duration": 4,
    "start_time": "2021-08-22T13:48:24.963Z"
   },
   {
    "duration": 62,
    "start_time": "2021-08-22T13:48:24.969Z"
   },
   {
    "duration": 6,
    "start_time": "2021-08-22T13:48:25.035Z"
   },
   {
    "duration": 914,
    "start_time": "2021-08-22T13:48:25.045Z"
   },
   {
    "duration": 33327,
    "start_time": "2021-08-22T13:48:25.961Z"
   },
   {
    "duration": 1265,
    "start_time": "2021-08-22T13:48:59.290Z"
   },
   {
    "duration": 2701,
    "start_time": "2021-08-22T13:49:00.558Z"
   },
   {
    "duration": 1010,
    "start_time": "2021-08-22T13:49:03.262Z"
   },
   {
    "duration": 861,
    "start_time": "2021-08-22T13:49:04.274Z"
   },
   {
    "duration": 2196,
    "start_time": "2021-08-22T13:49:42.775Z"
   },
   {
    "duration": 1841,
    "start_time": "2021-08-22T13:51:01.137Z"
   },
   {
    "duration": 1031,
    "start_time": "2021-08-22T13:51:41.075Z"
   },
   {
    "duration": 2035,
    "start_time": "2021-08-22T13:52:13.917Z"
   },
   {
    "duration": 1084,
    "start_time": "2021-08-22T13:52:20.384Z"
   },
   {
    "duration": 1553,
    "start_time": "2021-08-22T13:52:50.098Z"
   },
   {
    "duration": 7,
    "start_time": "2021-08-22T13:52:51.654Z"
   },
   {
    "duration": 172,
    "start_time": "2021-08-22T13:52:51.664Z"
   },
   {
    "duration": 19,
    "start_time": "2021-08-22T13:52:51.839Z"
   },
   {
    "duration": 46,
    "start_time": "2021-08-22T13:52:51.860Z"
   },
   {
    "duration": 36,
    "start_time": "2021-08-22T13:52:51.909Z"
   },
   {
    "duration": 9,
    "start_time": "2021-08-22T13:52:51.948Z"
   },
   {
    "duration": 389,
    "start_time": "2021-08-22T13:52:51.960Z"
   },
   {
    "duration": 6,
    "start_time": "2021-08-22T13:52:52.352Z"
   },
   {
    "duration": 19,
    "start_time": "2021-08-22T13:52:52.361Z"
   },
   {
    "duration": 33,
    "start_time": "2021-08-22T13:52:52.382Z"
   },
   {
    "duration": 7,
    "start_time": "2021-08-22T13:52:52.418Z"
   },
   {
    "duration": 11,
    "start_time": "2021-08-22T13:52:52.428Z"
   },
   {
    "duration": 95,
    "start_time": "2021-08-22T13:52:52.442Z"
   },
   {
    "duration": 10,
    "start_time": "2021-08-22T13:52:52.540Z"
   },
   {
    "duration": 47,
    "start_time": "2021-08-22T13:52:52.553Z"
   },
   {
    "duration": 6,
    "start_time": "2021-08-22T13:52:52.603Z"
   },
   {
    "duration": 46,
    "start_time": "2021-08-22T13:52:52.613Z"
   },
   {
    "duration": 16,
    "start_time": "2021-08-22T13:52:52.663Z"
   },
   {
    "duration": 5,
    "start_time": "2021-08-22T13:52:52.700Z"
   },
   {
    "duration": 94,
    "start_time": "2021-08-22T13:52:52.708Z"
   },
   {
    "duration": 56326,
    "start_time": "2021-08-22T13:52:52.805Z"
   },
   {
    "duration": 1035,
    "start_time": "2021-08-22T13:53:49.138Z"
   },
   {
    "duration": 1155,
    "start_time": "2021-08-22T13:53:50.177Z"
   },
   {
    "duration": 1224,
    "start_time": "2021-08-22T13:53:51.335Z"
   },
   {
    "duration": 6,
    "start_time": "2021-08-22T13:53:52.562Z"
   },
   {
    "duration": 58,
    "start_time": "2021-08-22T13:53:52.570Z"
   },
   {
    "duration": 5,
    "start_time": "2021-08-22T13:53:52.631Z"
   },
   {
    "duration": 12,
    "start_time": "2021-08-22T13:53:52.639Z"
   },
   {
    "duration": 1162,
    "start_time": "2021-08-22T13:53:52.654Z"
   },
   {
    "duration": 76232,
    "start_time": "2021-08-22T13:53:53.819Z"
   },
   {
    "duration": 1873,
    "start_time": "2021-08-22T13:55:10.053Z"
   },
   {
    "duration": 4,
    "start_time": "2021-08-22T13:55:11.928Z"
   },
   {
    "duration": 32,
    "start_time": "2021-08-22T13:55:11.934Z"
   },
   {
    "duration": 33,
    "start_time": "2021-08-22T13:55:11.969Z"
   },
   {
    "duration": 854,
    "start_time": "2021-08-22T13:55:12.009Z"
   },
   {
    "duration": 28450,
    "start_time": "2021-08-22T13:55:12.865Z"
   },
   {
    "duration": 674,
    "start_time": "2021-08-22T13:55:41.319Z"
   },
   {
    "duration": 2323,
    "start_time": "2021-08-22T13:55:42.000Z"
   },
   {
    "duration": 748,
    "start_time": "2021-08-22T13:55:44.325Z"
   },
   {
    "duration": 889,
    "start_time": "2021-08-22T13:55:45.076Z"
   },
   {
    "duration": 7,
    "start_time": "2021-08-22T14:04:19.372Z"
   },
   {
    "duration": 23,
    "start_time": "2021-08-22T14:04:19.385Z"
   },
   {
    "duration": 194,
    "start_time": "2021-08-22T14:04:19.413Z"
   },
   {
    "duration": 23,
    "start_time": "2021-08-22T14:04:19.612Z"
   },
   {
    "duration": 26,
    "start_time": "2021-08-22T14:04:19.638Z"
   },
   {
    "duration": 64,
    "start_time": "2021-08-22T14:04:19.666Z"
   },
   {
    "duration": 7,
    "start_time": "2021-08-22T14:04:19.733Z"
   },
   {
    "duration": 383,
    "start_time": "2021-08-22T14:04:19.743Z"
   },
   {
    "duration": 6,
    "start_time": "2021-08-22T14:04:20.129Z"
   },
   {
    "duration": 33,
    "start_time": "2021-08-22T14:04:20.138Z"
   },
   {
    "duration": 27,
    "start_time": "2021-08-22T14:04:20.175Z"
   },
   {
    "duration": 6,
    "start_time": "2021-08-22T14:04:20.207Z"
   },
   {
    "duration": 20,
    "start_time": "2021-08-22T14:04:20.216Z"
   },
   {
    "duration": 48,
    "start_time": "2021-08-22T14:04:20.238Z"
   },
   {
    "duration": 18,
    "start_time": "2021-08-22T14:04:20.289Z"
   },
   {
    "duration": 40,
    "start_time": "2021-08-22T14:04:20.310Z"
   },
   {
    "duration": 6,
    "start_time": "2021-08-22T14:04:20.352Z"
   },
   {
    "duration": 29,
    "start_time": "2021-08-22T14:04:20.360Z"
   },
   {
    "duration": 17,
    "start_time": "2021-08-22T14:04:20.399Z"
   },
   {
    "duration": 19,
    "start_time": "2021-08-22T14:04:20.419Z"
   },
   {
    "duration": 80,
    "start_time": "2021-08-22T14:04:20.441Z"
   },
   {
    "duration": 62749,
    "start_time": "2021-08-22T14:04:20.524Z"
   },
   {
    "duration": 1344,
    "start_time": "2021-08-22T14:05:23.276Z"
   },
   {
    "duration": 907,
    "start_time": "2021-08-22T14:05:24.623Z"
   },
   {
    "duration": 1046,
    "start_time": "2021-08-22T14:05:25.532Z"
   },
   {
    "duration": 5,
    "start_time": "2021-08-22T14:05:26.581Z"
   },
   {
    "duration": 53,
    "start_time": "2021-08-22T14:05:26.589Z"
   },
   {
    "duration": 4,
    "start_time": "2021-08-22T14:05:26.650Z"
   },
   {
    "duration": 51,
    "start_time": "2021-08-22T14:05:26.657Z"
   },
   {
    "duration": 975,
    "start_time": "2021-08-22T14:05:26.711Z"
   },
   {
    "duration": 87009,
    "start_time": "2021-08-22T14:05:27.689Z"
   },
   {
    "duration": 1921,
    "start_time": "2021-08-22T14:06:54.702Z"
   },
   {
    "duration": 5,
    "start_time": "2021-08-22T14:06:56.626Z"
   },
   {
    "duration": 68,
    "start_time": "2021-08-22T14:06:56.633Z"
   },
   {
    "duration": 6,
    "start_time": "2021-08-22T14:06:56.704Z"
   },
   {
    "duration": 997,
    "start_time": "2021-08-22T14:06:56.712Z"
   },
   {
    "duration": 36924,
    "start_time": "2021-08-22T14:06:57.712Z"
   },
   {
    "duration": 766,
    "start_time": "2021-08-22T14:07:34.638Z"
   },
   {
    "duration": 1935,
    "start_time": "2021-08-22T14:07:35.406Z"
   },
   {
    "duration": 759,
    "start_time": "2021-08-22T14:07:37.343Z"
   },
   {
    "duration": 964,
    "start_time": "2021-08-22T14:07:38.105Z"
   },
   {
    "duration": 6,
    "start_time": "2021-08-22T14:10:28.689Z"
   },
   {
    "duration": 44,
    "start_time": "2021-08-22T14:10:28.698Z"
   },
   {
    "duration": 206,
    "start_time": "2021-08-22T14:10:28.745Z"
   },
   {
    "duration": 48,
    "start_time": "2021-08-22T14:10:28.955Z"
   },
   {
    "duration": 27,
    "start_time": "2021-08-22T14:10:29.007Z"
   },
   {
    "duration": 37,
    "start_time": "2021-08-22T14:10:29.037Z"
   },
   {
    "duration": 32,
    "start_time": "2021-08-22T14:10:29.077Z"
   },
   {
    "duration": 377,
    "start_time": "2021-08-22T14:10:29.113Z"
   },
   {
    "duration": 12,
    "start_time": "2021-08-22T14:10:29.494Z"
   },
   {
    "duration": 26,
    "start_time": "2021-08-22T14:10:29.509Z"
   },
   {
    "duration": 27,
    "start_time": "2021-08-22T14:10:29.538Z"
   },
   {
    "duration": 7,
    "start_time": "2021-08-22T14:10:29.567Z"
   },
   {
    "duration": 32,
    "start_time": "2021-08-22T14:10:29.577Z"
   },
   {
    "duration": 45,
    "start_time": "2021-08-22T14:10:29.613Z"
   },
   {
    "duration": 8,
    "start_time": "2021-08-22T14:10:29.661Z"
   },
   {
    "duration": 134,
    "start_time": "2021-08-22T14:10:29.672Z"
   },
   {
    "duration": 4,
    "start_time": "2021-08-22T14:10:29.810Z"
   },
   {
    "duration": 31,
    "start_time": "2021-08-22T14:10:29.821Z"
   },
   {
    "duration": 11,
    "start_time": "2021-08-22T14:10:29.857Z"
   },
   {
    "duration": 30,
    "start_time": "2021-08-22T14:10:29.871Z"
   },
   {
    "duration": 119,
    "start_time": "2021-08-22T14:10:29.904Z"
   },
   {
    "duration": 63774,
    "start_time": "2021-08-22T14:10:30.026Z"
   },
   {
    "duration": 831,
    "start_time": "2021-08-22T14:11:33.804Z"
   },
   {
    "duration": 927,
    "start_time": "2021-08-22T14:11:34.637Z"
   },
   {
    "duration": 984,
    "start_time": "2021-08-22T14:11:35.566Z"
   },
   {
    "duration": 5,
    "start_time": "2021-08-22T14:11:36.553Z"
   },
   {
    "duration": 65,
    "start_time": "2021-08-22T14:11:36.560Z"
   },
   {
    "duration": 6,
    "start_time": "2021-08-22T14:11:36.628Z"
   },
   {
    "duration": 7,
    "start_time": "2021-08-22T14:11:36.636Z"
   },
   {
    "duration": 924,
    "start_time": "2021-08-22T14:11:36.645Z"
   },
   {
    "duration": 98158,
    "start_time": "2021-08-22T14:11:37.571Z"
   },
   {
    "duration": 2097,
    "start_time": "2021-08-22T14:13:15.732Z"
   },
   {
    "duration": 4,
    "start_time": "2021-08-22T14:13:17.832Z"
   },
   {
    "duration": 63,
    "start_time": "2021-08-22T14:13:17.838Z"
   },
   {
    "duration": 7,
    "start_time": "2021-08-22T14:13:17.903Z"
   },
   {
    "duration": 947,
    "start_time": "2021-08-22T14:13:17.913Z"
   },
   {
    "duration": 31864,
    "start_time": "2021-08-22T14:13:18.863Z"
   },
   {
    "duration": 973,
    "start_time": "2021-08-22T14:13:50.729Z"
   },
   {
    "duration": 2196,
    "start_time": "2021-08-22T14:13:51.706Z"
   },
   {
    "duration": 986,
    "start_time": "2021-08-22T14:13:53.905Z"
   },
   {
    "duration": 1126,
    "start_time": "2021-08-22T14:13:54.893Z"
   },
   {
    "duration": 5,
    "start_time": "2021-08-22T14:20:12.779Z"
   },
   {
    "duration": 16,
    "start_time": "2021-08-22T14:20:12.788Z"
   },
   {
    "duration": 171,
    "start_time": "2021-08-22T14:20:12.809Z"
   },
   {
    "duration": 36,
    "start_time": "2021-08-22T14:20:12.983Z"
   },
   {
    "duration": 20,
    "start_time": "2021-08-22T14:20:13.023Z"
   },
   {
    "duration": 75,
    "start_time": "2021-08-22T14:20:13.046Z"
   },
   {
    "duration": 9,
    "start_time": "2021-08-22T14:20:13.124Z"
   },
   {
    "duration": 379,
    "start_time": "2021-08-22T14:20:13.136Z"
   },
   {
    "duration": 8,
    "start_time": "2021-08-22T14:20:13.522Z"
   },
   {
    "duration": 17,
    "start_time": "2021-08-22T14:20:13.534Z"
   },
   {
    "duration": 49,
    "start_time": "2021-08-22T14:20:13.554Z"
   },
   {
    "duration": 7,
    "start_time": "2021-08-22T14:20:13.607Z"
   },
   {
    "duration": 17,
    "start_time": "2021-08-22T14:20:13.618Z"
   },
   {
    "duration": 77,
    "start_time": "2021-08-22T14:20:13.638Z"
   },
   {
    "duration": 14,
    "start_time": "2021-08-22T14:20:13.719Z"
   },
   {
    "duration": 19,
    "start_time": "2021-08-22T14:20:13.736Z"
   },
   {
    "duration": 4,
    "start_time": "2021-08-22T14:20:13.758Z"
   },
   {
    "duration": 71,
    "start_time": "2021-08-22T14:20:13.765Z"
   },
   {
    "duration": 13,
    "start_time": "2021-08-22T14:20:13.838Z"
   },
   {
    "duration": 13,
    "start_time": "2021-08-22T14:20:13.855Z"
   },
   {
    "duration": 104,
    "start_time": "2021-08-22T14:20:13.870Z"
   },
   {
    "duration": 72874,
    "start_time": "2021-08-22T14:20:13.977Z"
   },
   {
    "duration": 768,
    "start_time": "2021-08-22T14:21:26.854Z"
   },
   {
    "duration": 920,
    "start_time": "2021-08-22T14:21:27.624Z"
   },
   {
    "duration": 817,
    "start_time": "2021-08-22T14:21:28.546Z"
   },
   {
    "duration": 5,
    "start_time": "2021-08-22T14:21:29.365Z"
   },
   {
    "duration": 64,
    "start_time": "2021-08-22T14:21:29.375Z"
   },
   {
    "duration": 6,
    "start_time": "2021-08-22T14:21:29.443Z"
   },
   {
    "duration": 15,
    "start_time": "2021-08-22T14:21:29.452Z"
   },
   {
    "duration": 1122,
    "start_time": "2021-08-22T14:21:29.469Z"
   },
   {
    "duration": 109294,
    "start_time": "2021-08-22T14:21:30.602Z"
   },
   {
    "duration": 1428,
    "start_time": "2021-08-22T14:23:19.902Z"
   },
   {
    "duration": 5,
    "start_time": "2021-08-22T14:23:21.332Z"
   },
   {
    "duration": 74,
    "start_time": "2021-08-22T14:23:21.340Z"
   },
   {
    "duration": 6,
    "start_time": "2021-08-22T14:23:21.416Z"
   },
   {
    "duration": 1032,
    "start_time": "2021-08-22T14:23:21.425Z"
   },
   {
    "duration": 36046,
    "start_time": "2021-08-22T14:23:22.460Z"
   },
   {
    "duration": 1131,
    "start_time": "2021-08-22T14:23:58.510Z"
   },
   {
    "duration": 1527,
    "start_time": "2021-08-22T14:23:59.643Z"
   },
   {
    "duration": 1247,
    "start_time": "2021-08-22T14:24:01.172Z"
   },
   {
    "duration": 1085,
    "start_time": "2021-08-22T14:24:02.423Z"
   },
   {
    "duration": 5,
    "start_time": "2021-08-22T14:30:30.409Z"
   },
   {
    "duration": 698,
    "start_time": "2021-08-22T14:30:43.657Z"
   },
   {
    "duration": 4,
    "start_time": "2021-08-22T14:31:29.685Z"
   },
   {
    "duration": 74,
    "start_time": "2021-08-22T14:31:30.574Z"
   },
   {
    "duration": 97,
    "start_time": "2021-08-22T14:31:45.449Z"
   },
   {
    "duration": 3,
    "start_time": "2021-08-22T14:36:47.241Z"
   },
   {
    "duration": 39,
    "start_time": "2021-08-22T14:37:12.324Z"
   },
   {
    "duration": 209,
    "start_time": "2021-08-22T14:38:16.290Z"
   },
   {
    "duration": 23,
    "start_time": "2021-08-22T14:39:01.210Z"
   },
   {
    "duration": 5,
    "start_time": "2021-08-22T14:39:04.050Z"
   },
   {
    "duration": 22,
    "start_time": "2021-08-22T14:39:04.065Z"
   },
   {
    "duration": 176,
    "start_time": "2021-08-22T14:39:04.089Z"
   },
   {
    "duration": 54,
    "start_time": "2021-08-22T14:39:04.269Z"
   },
   {
    "duration": 46,
    "start_time": "2021-08-22T14:39:04.326Z"
   },
   {
    "duration": 47,
    "start_time": "2021-08-22T14:39:04.376Z"
   },
   {
    "duration": 11,
    "start_time": "2021-08-22T14:39:04.426Z"
   },
   {
    "duration": 509,
    "start_time": "2021-08-22T14:39:04.440Z"
   },
   {
    "duration": 7,
    "start_time": "2021-08-22T14:39:04.953Z"
   },
   {
    "duration": 38,
    "start_time": "2021-08-22T14:39:04.964Z"
   },
   {
    "duration": 15,
    "start_time": "2021-08-22T14:39:05.008Z"
   },
   {
    "duration": 7,
    "start_time": "2021-08-22T14:39:05.026Z"
   },
   {
    "duration": 23,
    "start_time": "2021-08-22T14:39:05.035Z"
   },
   {
    "duration": 66,
    "start_time": "2021-08-22T14:39:05.061Z"
   },
   {
    "duration": 11,
    "start_time": "2021-08-22T14:39:05.130Z"
   },
   {
    "duration": 40,
    "start_time": "2021-08-22T14:39:05.144Z"
   },
   {
    "duration": 28,
    "start_time": "2021-08-22T14:39:05.186Z"
   },
   {
    "duration": 49,
    "start_time": "2021-08-22T14:39:05.217Z"
   },
   {
    "duration": 12,
    "start_time": "2021-08-22T14:39:05.269Z"
   },
   {
    "duration": 29,
    "start_time": "2021-08-22T14:39:05.284Z"
   },
   {
    "duration": 84,
    "start_time": "2021-08-22T14:39:05.315Z"
   },
   {
    "duration": 72019,
    "start_time": "2021-08-22T14:39:05.402Z"
   },
   {
    "duration": 1804,
    "start_time": "2021-08-22T14:40:17.423Z"
   },
   {
    "duration": 840,
    "start_time": "2021-08-22T14:40:19.229Z"
   },
   {
    "duration": 874,
    "start_time": "2021-08-22T14:40:20.071Z"
   },
   {
    "duration": 5,
    "start_time": "2021-08-22T14:40:20.948Z"
   },
   {
    "duration": 153,
    "start_time": "2021-08-22T14:40:20.955Z"
   },
   {
    "duration": 6,
    "start_time": "2021-08-22T14:40:21.117Z"
   },
   {
    "duration": 135,
    "start_time": "2021-08-22T14:40:21.127Z"
   },
   {
    "duration": 103186,
    "start_time": "2021-08-22T14:40:21.265Z"
   },
   {
    "duration": 1848,
    "start_time": "2021-08-22T14:42:04.454Z"
   },
   {
    "duration": 6,
    "start_time": "2021-08-22T14:42:06.305Z"
   },
   {
    "duration": 861,
    "start_time": "2021-08-22T14:42:06.314Z"
   },
   {
    "duration": 4,
    "start_time": "2021-08-22T14:42:07.178Z"
   },
   {
    "duration": 39,
    "start_time": "2021-08-22T14:42:07.202Z"
   },
   {
    "duration": 5,
    "start_time": "2021-08-22T14:42:07.244Z"
   },
   {
    "duration": 81,
    "start_time": "2021-08-22T14:42:07.251Z"
   },
   {
    "duration": 32254,
    "start_time": "2021-08-22T14:42:07.335Z"
   },
   {
    "duration": 986,
    "start_time": "2021-08-22T14:42:39.591Z"
   },
   {
    "duration": 1074,
    "start_time": "2021-08-22T14:42:40.580Z"
   },
   {
    "duration": 2173,
    "start_time": "2021-08-22T14:42:41.657Z"
   },
   {
    "duration": 1032,
    "start_time": "2021-08-22T14:42:43.832Z"
   },
   {
    "duration": 1028,
    "start_time": "2021-08-22T14:42:44.867Z"
   },
   {
    "duration": 127,
    "start_time": "2021-08-22T14:52:21.488Z"
   },
   {
    "duration": 81,
    "start_time": "2021-08-22T21:06:16.929Z"
   },
   {
    "duration": 82,
    "start_time": "2021-08-22T21:06:49.365Z"
   },
   {
    "duration": 89,
    "start_time": "2021-08-22T21:06:54.336Z"
   },
   {
    "duration": 84,
    "start_time": "2021-08-22T21:08:06.373Z"
   },
   {
    "duration": 77,
    "start_time": "2021-08-22T21:18:20.203Z"
   },
   {
    "duration": 260,
    "start_time": "2021-08-22T21:23:15.097Z"
   },
   {
    "duration": 1072,
    "start_time": "2021-08-22T21:23:20.411Z"
   },
   {
    "duration": 6,
    "start_time": "2021-08-22T21:23:21.485Z"
   },
   {
    "duration": 99,
    "start_time": "2021-08-22T21:23:21.493Z"
   },
   {
    "duration": 11,
    "start_time": "2021-08-22T21:23:21.594Z"
   },
   {
    "duration": 13,
    "start_time": "2021-08-22T21:23:21.606Z"
   },
   {
    "duration": 16,
    "start_time": "2021-08-22T21:23:21.621Z"
   },
   {
    "duration": 6,
    "start_time": "2021-08-22T21:23:21.639Z"
   },
   {
    "duration": 203,
    "start_time": "2021-08-22T21:23:21.648Z"
   },
   {
    "duration": 5,
    "start_time": "2021-08-22T21:23:21.853Z"
   },
   {
    "duration": 13,
    "start_time": "2021-08-22T21:23:21.860Z"
   },
   {
    "duration": 21,
    "start_time": "2021-08-22T21:23:21.875Z"
   },
   {
    "duration": 5,
    "start_time": "2021-08-22T21:23:21.897Z"
   },
   {
    "duration": 6,
    "start_time": "2021-08-22T21:23:21.903Z"
   },
   {
    "duration": 20,
    "start_time": "2021-08-22T21:23:21.911Z"
   },
   {
    "duration": 6,
    "start_time": "2021-08-22T21:23:21.933Z"
   },
   {
    "duration": 10,
    "start_time": "2021-08-22T21:23:21.941Z"
   },
   {
    "duration": 41,
    "start_time": "2021-08-22T21:23:21.952Z"
   },
   {
    "duration": 18,
    "start_time": "2021-08-22T21:23:21.994Z"
   },
   {
    "duration": 7,
    "start_time": "2021-08-22T21:23:22.013Z"
   },
   {
    "duration": 11,
    "start_time": "2021-08-22T21:23:22.021Z"
   },
   {
    "duration": 48,
    "start_time": "2021-08-22T21:23:22.034Z"
   },
   {
    "duration": 36222,
    "start_time": "2021-08-22T21:23:22.083Z"
   },
   {
    "duration": 986,
    "start_time": "2021-08-22T21:23:58.308Z"
   },
   {
    "duration": 462,
    "start_time": "2021-08-22T21:23:59.295Z"
   },
   {
    "duration": 662,
    "start_time": "2021-08-22T21:23:59.759Z"
   },
   {
    "duration": 4,
    "start_time": "2021-08-22T21:24:00.422Z"
   },
   {
    "duration": 32,
    "start_time": "2021-08-22T21:24:00.427Z"
   },
   {
    "duration": 3,
    "start_time": "2021-08-22T21:24:00.460Z"
   },
   {
    "duration": 66,
    "start_time": "2021-08-22T21:24:00.465Z"
   },
   {
    "duration": 52281,
    "start_time": "2021-08-22T21:24:00.532Z"
   },
   {
    "duration": 958,
    "start_time": "2021-08-22T21:24:52.814Z"
   },
   {
    "duration": 3,
    "start_time": "2021-08-22T21:24:53.773Z"
   },
   {
    "duration": 593,
    "start_time": "2021-08-22T21:24:53.777Z"
   },
   {
    "duration": 3,
    "start_time": "2021-08-22T21:24:54.371Z"
   },
   {
    "duration": 33,
    "start_time": "2021-08-22T21:24:54.375Z"
   },
   {
    "duration": 3,
    "start_time": "2021-08-22T21:24:54.409Z"
   },
   {
    "duration": 24,
    "start_time": "2021-08-22T21:24:54.414Z"
   },
   {
    "duration": 17718,
    "start_time": "2021-08-22T21:24:54.439Z"
   },
   {
    "duration": 521,
    "start_time": "2021-08-22T21:25:12.158Z"
   },
   {
    "duration": 579,
    "start_time": "2021-08-22T21:25:12.681Z"
   },
   {
    "duration": 944,
    "start_time": "2021-08-22T21:25:13.262Z"
   },
   {
    "duration": 606,
    "start_time": "2021-08-22T21:25:14.207Z"
   },
   {
    "duration": 558,
    "start_time": "2021-08-22T21:25:14.814Z"
   },
   {
    "duration": 84,
    "start_time": "2021-08-22T21:25:15.374Z"
   },
   {
    "duration": 74,
    "start_time": "2021-08-22T21:25:30.761Z"
   },
   {
    "duration": 77,
    "start_time": "2021-08-22T21:25:36.616Z"
   },
   {
    "duration": 272,
    "start_time": "2021-08-22T21:25:45.321Z"
   },
   {
    "duration": 324,
    "start_time": "2021-08-23T06:56:18.217Z"
   },
   {
    "duration": 1637,
    "start_time": "2021-08-23T06:56:23.680Z"
   },
   {
    "duration": 7,
    "start_time": "2021-08-23T06:56:25.320Z"
   },
   {
    "duration": 168,
    "start_time": "2021-08-23T06:56:25.331Z"
   },
   {
    "duration": 20,
    "start_time": "2021-08-23T06:56:25.501Z"
   },
   {
    "duration": 46,
    "start_time": "2021-08-23T06:56:25.523Z"
   },
   {
    "duration": 37,
    "start_time": "2021-08-23T06:56:25.573Z"
   },
   {
    "duration": 7,
    "start_time": "2021-08-23T06:56:25.613Z"
   },
   {
    "duration": 395,
    "start_time": "2021-08-23T06:56:25.624Z"
   },
   {
    "duration": 7,
    "start_time": "2021-08-23T06:56:26.022Z"
   },
   {
    "duration": 38,
    "start_time": "2021-08-23T06:56:26.031Z"
   },
   {
    "duration": 20,
    "start_time": "2021-08-23T06:56:26.072Z"
   },
   {
    "duration": 5,
    "start_time": "2021-08-23T06:56:26.095Z"
   },
   {
    "duration": 8,
    "start_time": "2021-08-23T06:56:26.102Z"
   },
   {
    "duration": 80,
    "start_time": "2021-08-23T06:56:26.112Z"
   },
   {
    "duration": 8,
    "start_time": "2021-08-23T06:56:26.194Z"
   },
   {
    "duration": 15,
    "start_time": "2021-08-23T06:56:26.204Z"
   },
   {
    "duration": 4,
    "start_time": "2021-08-23T06:56:26.221Z"
   },
   {
    "duration": 65,
    "start_time": "2021-08-23T06:56:26.227Z"
   },
   {
    "duration": 11,
    "start_time": "2021-08-23T06:56:26.295Z"
   },
   {
    "duration": 9,
    "start_time": "2021-08-23T06:56:26.309Z"
   },
   {
    "duration": 87,
    "start_time": "2021-08-23T06:56:26.321Z"
   },
   {
    "duration": 5,
    "start_time": "2021-08-23T06:56:26.411Z"
   },
   {
    "duration": 66940,
    "start_time": "2021-08-23T06:56:26.421Z"
   },
   {
    "duration": 2018,
    "start_time": "2021-08-23T06:57:33.368Z"
   },
   {
    "duration": 932,
    "start_time": "2021-08-23T06:57:35.388Z"
   },
   {
    "duration": 983,
    "start_time": "2021-08-23T06:57:36.322Z"
   },
   {
    "duration": 4,
    "start_time": "2021-08-23T06:57:37.307Z"
   },
   {
    "duration": 67,
    "start_time": "2021-08-23T06:57:37.314Z"
   },
   {
    "duration": 4,
    "start_time": "2021-08-23T06:57:37.384Z"
   },
   {
    "duration": 106,
    "start_time": "2021-08-23T06:57:37.390Z"
   },
   {
    "duration": 98717,
    "start_time": "2021-08-23T06:57:37.499Z"
   },
   {
    "duration": 1893,
    "start_time": "2021-08-23T06:59:16.219Z"
   },
   {
    "duration": 3,
    "start_time": "2021-08-23T06:59:18.115Z"
   },
   {
    "duration": 917,
    "start_time": "2021-08-23T06:59:18.121Z"
   },
   {
    "duration": 4,
    "start_time": "2021-08-23T06:59:19.040Z"
   },
   {
    "duration": 55,
    "start_time": "2021-08-23T06:59:19.046Z"
   },
   {
    "duration": 5,
    "start_time": "2021-08-23T06:59:19.103Z"
   },
   {
    "duration": 77,
    "start_time": "2021-08-23T06:59:19.110Z"
   },
   {
    "duration": 31652,
    "start_time": "2021-08-23T06:59:19.189Z"
   },
   {
    "duration": 997,
    "start_time": "2021-08-23T06:59:50.844Z"
   },
   {
    "duration": 897,
    "start_time": "2021-08-23T06:59:51.843Z"
   },
   {
    "duration": 1844,
    "start_time": "2021-08-23T06:59:52.743Z"
   },
   {
    "duration": 1047,
    "start_time": "2021-08-23T06:59:54.589Z"
   },
   {
    "duration": 891,
    "start_time": "2021-08-23T06:59:55.638Z"
   },
   {
    "duration": 163,
    "start_time": "2021-08-23T07:43:24.108Z"
   },
   {
    "duration": 3,
    "start_time": "2021-08-23T07:43:25.819Z"
   },
   {
    "duration": 64,
    "start_time": "2021-08-23T07:43:27.360Z"
   },
   {
    "duration": 6,
    "start_time": "2021-08-23T07:43:29.956Z"
   },
   {
    "duration": 4,
    "start_time": "2021-08-23T07:44:23.048Z"
   },
   {
    "duration": 300,
    "start_time": "2021-08-23T07:44:41.880Z"
   },
   {
    "duration": 247,
    "start_time": "2021-08-23T07:45:19.596Z"
   },
   {
    "duration": 496,
    "start_time": "2021-08-23T07:49:30.194Z"
   },
   {
    "duration": 238,
    "start_time": "2021-08-23T07:50:37.156Z"
   },
   {
    "duration": 264,
    "start_time": "2021-08-23T07:50:51.835Z"
   },
   {
    "duration": 282,
    "start_time": "2021-08-23T07:51:03.314Z"
   },
   {
    "duration": 1731,
    "start_time": "2021-08-23T07:51:44.972Z"
   },
   {
    "duration": 508,
    "start_time": "2021-08-23T07:51:49.353Z"
   },
   {
    "duration": 5,
    "start_time": "2021-08-23T07:52:29.925Z"
   },
   {
    "duration": 516,
    "start_time": "2021-08-23T07:52:49.753Z"
   },
   {
    "duration": 92,
    "start_time": "2021-08-23T07:53:00.675Z"
   },
   {
    "duration": 486,
    "start_time": "2021-08-23T07:53:02.384Z"
   },
   {
    "duration": 463,
    "start_time": "2021-08-23T07:53:09.281Z"
   },
   {
    "duration": 80,
    "start_time": "2021-08-23T07:53:24.152Z"
   },
   {
    "duration": 520,
    "start_time": "2021-08-23T07:53:26.840Z"
   },
   {
    "duration": 95,
    "start_time": "2021-08-23T07:53:46.213Z"
   },
   {
    "duration": 456,
    "start_time": "2021-08-23T07:53:56.596Z"
   },
   {
    "duration": 567,
    "start_time": "2021-08-23T07:54:05.494Z"
   },
   {
    "duration": 1727,
    "start_time": "2021-08-23T07:56:55.134Z"
   },
   {
    "duration": 530,
    "start_time": "2021-08-23T07:56:59.018Z"
   },
   {
    "duration": 486,
    "start_time": "2021-08-23T07:57:50.930Z"
   },
   {
    "duration": 280,
    "start_time": "2021-08-23T08:08:04.772Z"
   },
   {
    "duration": 90,
    "start_time": "2021-08-23T08:12:43.093Z"
   },
   {
    "duration": 86,
    "start_time": "2021-08-23T08:13:08.343Z"
   },
   {
    "duration": 258,
    "start_time": "2021-08-23T08:13:13.192Z"
   },
   {
    "duration": 96,
    "start_time": "2021-08-23T08:13:20.211Z"
   },
   {
    "duration": 90,
    "start_time": "2021-08-23T08:14:01.121Z"
   },
   {
    "duration": 255,
    "start_time": "2021-08-23T08:14:21.392Z"
   },
   {
    "duration": 454,
    "start_time": "2021-08-23T08:15:01.016Z"
   },
   {
    "duration": 268,
    "start_time": "2021-08-23T08:15:27.473Z"
   },
   {
    "duration": 76,
    "start_time": "2021-08-23T08:15:37.260Z"
   },
   {
    "duration": 97,
    "start_time": "2021-08-23T08:15:42.240Z"
   },
   {
    "duration": 125,
    "start_time": "2021-08-23T08:15:51.260Z"
   },
   {
    "duration": 120,
    "start_time": "2021-08-23T08:15:56.383Z"
   },
   {
    "duration": 112,
    "start_time": "2021-08-23T08:16:13.620Z"
   },
   {
    "duration": 498,
    "start_time": "2021-08-23T08:16:22.869Z"
   },
   {
    "duration": 459,
    "start_time": "2021-08-23T08:16:43.523Z"
   },
   {
    "duration": 468,
    "start_time": "2021-08-23T08:17:55.083Z"
   },
   {
    "duration": 1805,
    "start_time": "2021-08-23T08:18:25.269Z"
   },
   {
    "duration": 555,
    "start_time": "2021-08-23T08:18:32.301Z"
   },
   {
    "duration": 316,
    "start_time": "2021-08-23T08:57:08.575Z"
   },
   {
    "duration": 431,
    "start_time": "2021-08-23T08:57:21.922Z"
   },
   {
    "duration": 228,
    "start_time": "2021-08-23T08:57:29.001Z"
   },
   {
    "duration": 5754,
    "start_time": "2021-08-23T08:57:58.408Z"
   },
   {
    "duration": 308,
    "start_time": "2021-08-23T08:58:08.234Z"
   },
   {
    "duration": 273,
    "start_time": "2021-08-23T08:58:17.682Z"
   },
   {
    "duration": 333,
    "start_time": "2021-08-23T08:58:22.363Z"
   },
   {
    "duration": 9,
    "start_time": "2021-08-23T08:58:50.262Z"
   },
   {
    "duration": 38,
    "start_time": "2021-08-23T09:00:40.748Z"
   },
   {
    "duration": 102,
    "start_time": "2021-08-23T09:01:03.952Z"
   },
   {
    "duration": 90,
    "start_time": "2021-08-23T09:01:19.291Z"
   },
   {
    "duration": 52333,
    "start_time": "2021-08-23T09:01:27.909Z"
   },
   {
    "duration": 54755,
    "start_time": "2021-08-23T09:03:20.160Z"
   },
   {
    "duration": 469,
    "start_time": "2021-08-23T09:12:29.505Z"
   },
   {
    "duration": 455,
    "start_time": "2021-08-23T09:12:41.109Z"
   },
   {
    "duration": 275,
    "start_time": "2021-08-23T09:13:37.800Z"
   },
   {
    "duration": 289,
    "start_time": "2021-08-23T09:13:51.324Z"
   },
   {
    "duration": 296,
    "start_time": "2021-08-23T09:14:12.600Z"
   },
   {
    "duration": 351,
    "start_time": "2021-08-23T09:41:29.061Z"
   },
   {
    "duration": 316,
    "start_time": "2021-08-23T09:41:48.681Z"
   },
   {
    "duration": 20611,
    "start_time": "2021-08-23T09:42:12.587Z"
   },
   {
    "duration": 8,
    "start_time": "2021-08-23T09:45:12.434Z"
   },
   {
    "duration": 3,
    "start_time": "2021-08-23T09:46:42.804Z"
   },
   {
    "duration": 7,
    "start_time": "2021-08-23T09:47:33.141Z"
   },
   {
    "duration": 14957,
    "start_time": "2021-08-23T09:47:54.812Z"
   },
   {
    "duration": 6,
    "start_time": "2021-08-23T09:48:15.604Z"
   },
   {
    "duration": 50076,
    "start_time": "2021-08-23T09:49:24.129Z"
   },
   {
    "duration": 7,
    "start_time": "2021-08-23T09:50:17.014Z"
   },
   {
    "duration": 167,
    "start_time": "2021-08-23T09:51:09.404Z"
   },
   {
    "duration": 153,
    "start_time": "2021-08-23T09:51:45.692Z"
   },
   {
    "duration": 183,
    "start_time": "2021-08-23T09:51:54.912Z"
   },
   {
    "duration": 234,
    "start_time": "2021-08-23T09:52:15.324Z"
   },
   {
    "duration": 156,
    "start_time": "2021-08-23T09:54:14.750Z"
   },
   {
    "duration": 50267,
    "start_time": "2021-08-23T09:54:20.314Z"
   },
   {
    "duration": 7,
    "start_time": "2021-08-23T09:55:24.382Z"
   },
   {
    "duration": 175,
    "start_time": "2021-08-23T09:56:19.961Z"
   },
   {
    "duration": 215,
    "start_time": "2021-08-23T09:56:36.468Z"
   },
   {
    "duration": 272,
    "start_time": "2021-08-23T09:57:20.821Z"
   },
   {
    "duration": 80,
    "start_time": "2021-08-23T09:57:34.643Z"
   },
   {
    "duration": 216,
    "start_time": "2021-08-23T09:57:46.462Z"
   },
   {
    "duration": 98,
    "start_time": "2021-08-23T09:58:04.860Z"
   },
   {
    "duration": 231,
    "start_time": "2021-08-23T09:58:12.933Z"
   },
   {
    "duration": 9995,
    "start_time": "2021-08-23T09:58:23.782Z"
   },
   {
    "duration": 8,
    "start_time": "2021-08-23T09:58:38.552Z"
   },
   {
    "duration": 42847,
    "start_time": "2021-08-23T09:58:44.249Z"
   },
   {
    "duration": 7,
    "start_time": "2021-08-23T09:59:33.498Z"
   },
   {
    "duration": 220645,
    "start_time": "2021-08-23T10:00:44.545Z"
   },
   {
    "duration": 8,
    "start_time": "2021-08-23T10:51:09.864Z"
   },
   {
    "duration": 6,
    "start_time": "2021-08-23T10:51:49.119Z"
   },
   {
    "duration": 7,
    "start_time": "2021-08-23T10:51:54.356Z"
   },
   {
    "duration": 217,
    "start_time": "2021-08-23T10:51:58.875Z"
   },
   {
    "duration": 216756,
    "start_time": "2021-08-23T10:52:03.785Z"
   },
   {
    "duration": 8,
    "start_time": "2021-08-23T10:55:52.743Z"
   },
   {
    "duration": 1444,
    "start_time": "2021-08-23T10:57:32.141Z"
   },
   {
    "duration": 1385,
    "start_time": "2021-08-23T10:58:00.972Z"
   },
   {
    "duration": 1360,
    "start_time": "2021-08-23T10:58:23.656Z"
   },
   {
    "duration": 1348,
    "start_time": "2021-08-23T10:58:40.049Z"
   },
   {
    "duration": 1338,
    "start_time": "2021-08-23T10:59:18.695Z"
   },
   {
    "duration": 25,
    "start_time": "2021-08-23T11:00:12.207Z"
   },
   {
    "duration": 247,
    "start_time": "2021-08-23T11:00:25.693Z"
   },
   {
    "duration": 8,
    "start_time": "2021-08-23T11:02:18.434Z"
   },
   {
    "duration": 186,
    "start_time": "2021-08-23T11:02:22.936Z"
   },
   {
    "duration": 103,
    "start_time": "2021-08-23T11:02:49.005Z"
   },
   {
    "duration": 226641,
    "start_time": "2021-08-23T11:03:59.733Z"
   },
   {
    "duration": 7,
    "start_time": "2021-08-23T11:08:28.957Z"
   },
   {
    "duration": 87,
    "start_time": "2021-08-23T11:09:12.077Z"
   },
   {
    "duration": 1350,
    "start_time": "2021-08-23T11:09:14.449Z"
   },
   {
    "duration": 82,
    "start_time": "2021-08-23T13:03:48.118Z"
   },
   {
    "duration": 68,
    "start_time": "2021-08-23T13:03:48.151Z"
   },
   {
    "duration": 110334,
    "start_time": "2021-08-23T13:04:00.082Z"
   },
   {
    "duration": 8,
    "start_time": "2021-08-23T13:11:19.912Z"
   },
   {
    "duration": 1059654,
    "start_time": "2021-08-23T13:11:26.236Z"
   },
   {
    "duration": 8,
    "start_time": "2021-08-23T13:31:41.125Z"
   },
   {
    "duration": 966,
    "start_time": "2021-08-23T13:32:43.494Z"
   },
   {
    "duration": 2496,
    "start_time": "2021-08-23T13:32:58.124Z"
   },
   {
    "duration": 7,
    "start_time": "2021-08-23T13:33:13.074Z"
   },
   {
    "duration": 5930,
    "start_time": "2021-08-23T13:33:19.800Z"
   },
   {
    "duration": 7,
    "start_time": "2021-08-23T13:33:27.790Z"
   },
   {
    "duration": 498775,
    "start_time": "2021-08-23T13:33:35.554Z"
   },
   {
    "duration": 8,
    "start_time": "2021-08-23T13:43:19.490Z"
   },
   {
    "duration": 111,
    "start_time": "2021-08-23T13:44:13.472Z"
   },
   {
    "duration": 139794,
    "start_time": "2021-08-23T13:44:21.758Z"
   },
   {
    "duration": 17,
    "start_time": "2021-08-23T13:46:41.555Z"
   },
   {
    "duration": 7,
    "start_time": "2021-08-23T14:02:20.293Z"
   },
   {
    "duration": 1368,
    "start_time": "2021-08-23T14:03:38.523Z"
   },
   {
    "duration": 188,
    "start_time": "2021-08-23T14:05:16.754Z"
   },
   {
    "duration": 454,
    "start_time": "2021-08-23T14:05:20.580Z"
   },
   {
    "duration": 7,
    "start_time": "2021-08-23T14:05:25.121Z"
   },
   {
    "duration": 655,
    "start_time": "2021-08-23T14:05:36.032Z"
   },
   {
    "duration": 8,
    "start_time": "2021-08-23T14:05:38.164Z"
   },
   {
    "duration": 5671,
    "start_time": "2021-08-23T14:05:55.924Z"
   },
   {
    "duration": 8,
    "start_time": "2021-08-23T14:06:03.398Z"
   },
   {
    "duration": 2899,
    "start_time": "2021-08-23T14:06:39.344Z"
   },
   {
    "duration": 7,
    "start_time": "2021-08-23T14:06:47.456Z"
   },
   {
    "duration": 21073,
    "start_time": "2021-08-23T14:07:00.160Z"
   },
   {
    "duration": 8,
    "start_time": "2021-08-23T14:07:24.124Z"
   },
   {
    "duration": 43631,
    "start_time": "2021-08-23T14:07:36.005Z"
   },
   {
    "duration": 7,
    "start_time": "2021-08-23T14:12:02.509Z"
   },
   {
    "duration": 123002,
    "start_time": "2021-08-23T14:12:17.117Z"
   },
   {
    "duration": 7,
    "start_time": "2021-08-23T14:16:22.041Z"
   },
   {
    "duration": 1467,
    "start_time": "2021-08-23T14:17:06.765Z"
   },
   {
    "duration": 240337,
    "start_time": "2021-08-23T14:18:18.501Z"
   },
   {
    "duration": 7,
    "start_time": "2021-08-23T14:35:19.709Z"
   },
   {
    "duration": 1017734,
    "start_time": "2021-08-23T14:35:44.186Z"
   },
   {
    "duration": 8,
    "start_time": "2021-08-23T14:56:18.151Z"
   },
   {
    "duration": 1352,
    "start_time": "2021-08-23T14:56:51.823Z"
   },
   {
    "duration": 1565,
    "start_time": "2021-08-23T18:43:25.316Z"
   },
   {
    "duration": 8,
    "start_time": "2021-08-23T18:43:26.885Z"
   },
   {
    "duration": 6,
    "start_time": "2021-08-23T18:43:26.898Z"
   },
   {
    "duration": 185,
    "start_time": "2021-08-23T18:43:26.907Z"
   },
   {
    "duration": 20,
    "start_time": "2021-08-23T18:43:27.095Z"
   },
   {
    "duration": 48,
    "start_time": "2021-08-23T18:43:27.118Z"
   },
   {
    "duration": 39,
    "start_time": "2021-08-23T18:43:27.170Z"
   },
   {
    "duration": 8,
    "start_time": "2021-08-23T18:43:27.211Z"
   },
   {
    "duration": 475,
    "start_time": "2021-08-23T18:43:27.223Z"
   },
   {
    "duration": 6,
    "start_time": "2021-08-23T18:43:27.700Z"
   },
   {
    "duration": 25,
    "start_time": "2021-08-23T18:43:27.708Z"
   },
   {
    "duration": 11,
    "start_time": "2021-08-23T18:43:27.735Z"
   },
   {
    "duration": 7,
    "start_time": "2021-08-23T18:43:27.773Z"
   },
   {
    "duration": 11,
    "start_time": "2021-08-23T18:43:27.784Z"
   },
   {
    "duration": 35,
    "start_time": "2021-08-23T18:43:27.798Z"
   },
   {
    "duration": 41,
    "start_time": "2021-08-23T18:43:27.835Z"
   },
   {
    "duration": 15,
    "start_time": "2021-08-23T18:43:29.689Z"
   },
   {
    "duration": 29,
    "start_time": "2021-08-23T18:43:33.284Z"
   },
   {
    "duration": 8,
    "start_time": "2021-08-23T18:43:37.080Z"
   },
   {
    "duration": 471,
    "start_time": "2021-08-23T18:43:50.927Z"
   },
   {
    "duration": 13,
    "start_time": "2021-08-23T18:44:00.299Z"
   },
   {
    "duration": 934,
    "start_time": "2021-08-23T18:44:03.906Z"
   },
   {
    "duration": 8,
    "start_time": "2021-08-23T18:44:12.563Z"
   },
   {
    "duration": 9,
    "start_time": "2021-08-23T18:44:12.574Z"
   },
   {
    "duration": 10,
    "start_time": "2021-08-23T18:44:12.587Z"
   },
   {
    "duration": 231,
    "start_time": "2021-08-23T18:44:12.601Z"
   },
   {
    "duration": 36,
    "start_time": "2021-08-23T18:44:12.834Z"
   },
   {
    "duration": 31,
    "start_time": "2021-08-23T18:44:12.874Z"
   },
   {
    "duration": 85,
    "start_time": "2021-08-23T18:44:12.908Z"
   },
   {
    "duration": 11,
    "start_time": "2021-08-23T18:44:12.999Z"
   },
   {
    "duration": 502,
    "start_time": "2021-08-23T18:44:13.014Z"
   },
   {
    "duration": 8,
    "start_time": "2021-08-23T18:44:13.519Z"
   },
   {
    "duration": 45,
    "start_time": "2021-08-23T18:44:13.530Z"
   },
   {
    "duration": 13,
    "start_time": "2021-08-23T18:44:13.578Z"
   },
   {
    "duration": 5,
    "start_time": "2021-08-23T18:44:13.594Z"
   },
   {
    "duration": 10,
    "start_time": "2021-08-23T18:44:13.602Z"
   },
   {
    "duration": 79,
    "start_time": "2021-08-23T18:44:13.615Z"
   },
   {
    "duration": 8,
    "start_time": "2021-08-23T18:44:13.696Z"
   },
   {
    "duration": 15,
    "start_time": "2021-08-23T18:44:13.707Z"
   },
   {
    "duration": 4,
    "start_time": "2021-08-23T18:44:13.724Z"
   },
   {
    "duration": 63,
    "start_time": "2021-08-23T18:44:13.730Z"
   },
   {
    "duration": 14,
    "start_time": "2021-08-23T18:44:13.796Z"
   },
   {
    "duration": 11,
    "start_time": "2021-08-23T18:44:13.813Z"
   },
   {
    "duration": 102,
    "start_time": "2021-08-23T18:44:13.830Z"
   },
   {
    "duration": 396,
    "start_time": "2021-08-23T18:44:13.935Z"
   },
   {
    "duration": 59,
    "start_time": "2021-08-23T18:44:14.275Z"
   },
   {
    "duration": 58,
    "start_time": "2021-08-23T18:44:14.278Z"
   },
   {
    "duration": 42,
    "start_time": "2021-08-23T18:44:14.295Z"
   },
   {
    "duration": 42,
    "start_time": "2021-08-23T18:44:14.297Z"
   },
   {
    "duration": 42,
    "start_time": "2021-08-23T18:44:14.299Z"
   },
   {
    "duration": 41,
    "start_time": "2021-08-23T18:44:14.301Z"
   },
   {
    "duration": 40,
    "start_time": "2021-08-23T18:44:14.303Z"
   },
   {
    "duration": 39,
    "start_time": "2021-08-23T18:44:14.305Z"
   },
   {
    "duration": 35,
    "start_time": "2021-08-23T18:44:14.310Z"
   },
   {
    "duration": 35,
    "start_time": "2021-08-23T18:44:14.312Z"
   },
   {
    "duration": 34,
    "start_time": "2021-08-23T18:44:14.314Z"
   },
   {
    "duration": 34,
    "start_time": "2021-08-23T18:44:14.315Z"
   },
   {
    "duration": 33,
    "start_time": "2021-08-23T18:44:14.317Z"
   },
   {
    "duration": 34,
    "start_time": "2021-08-23T18:44:14.318Z"
   },
   {
    "duration": 33,
    "start_time": "2021-08-23T18:44:14.320Z"
   },
   {
    "duration": 32,
    "start_time": "2021-08-23T18:44:14.322Z"
   },
   {
    "duration": 32,
    "start_time": "2021-08-23T18:44:14.324Z"
   },
   {
    "duration": 32,
    "start_time": "2021-08-23T18:44:14.325Z"
   },
   {
    "duration": 17,
    "start_time": "2021-08-23T18:44:14.341Z"
   },
   {
    "duration": 15,
    "start_time": "2021-08-23T18:44:14.345Z"
   },
   {
    "duration": 14,
    "start_time": "2021-08-23T18:44:14.347Z"
   },
   {
    "duration": 13,
    "start_time": "2021-08-23T18:44:14.349Z"
   },
   {
    "duration": 13,
    "start_time": "2021-08-23T18:44:14.350Z"
   },
   {
    "duration": 12,
    "start_time": "2021-08-23T18:44:14.352Z"
   },
   {
    "duration": 13,
    "start_time": "2021-08-23T18:44:14.353Z"
   },
   {
    "duration": 15,
    "start_time": "2021-08-23T18:44:14.355Z"
   },
   {
    "duration": 18,
    "start_time": "2021-08-23T18:44:14.356Z"
   },
   {
    "duration": 18,
    "start_time": "2021-08-23T18:44:14.358Z"
   },
   {
    "duration": 7,
    "start_time": "2021-08-23T18:44:36.944Z"
   },
   {
    "duration": 6,
    "start_time": "2021-08-23T18:44:36.954Z"
   },
   {
    "duration": 23,
    "start_time": "2021-08-23T18:44:36.962Z"
   },
   {
    "duration": 152,
    "start_time": "2021-08-23T18:44:36.988Z"
   },
   {
    "duration": 48,
    "start_time": "2021-08-23T18:44:37.143Z"
   },
   {
    "duration": 18,
    "start_time": "2021-08-23T18:44:37.194Z"
   },
   {
    "duration": 77,
    "start_time": "2021-08-23T18:44:37.214Z"
   },
   {
    "duration": 7,
    "start_time": "2021-08-23T18:44:37.294Z"
   },
   {
    "duration": 374,
    "start_time": "2021-08-23T18:44:37.304Z"
   },
   {
    "duration": 6,
    "start_time": "2021-08-23T18:44:37.683Z"
   },
   {
    "duration": 20,
    "start_time": "2021-08-23T18:44:37.693Z"
   },
   {
    "duration": 11,
    "start_time": "2021-08-23T18:44:37.715Z"
   },
   {
    "duration": 43,
    "start_time": "2021-08-23T18:44:37.729Z"
   },
   {
    "duration": 16,
    "start_time": "2021-08-23T18:44:37.774Z"
   },
   {
    "duration": 35,
    "start_time": "2021-08-23T18:44:37.792Z"
   },
   {
    "duration": 43,
    "start_time": "2021-08-23T18:44:37.830Z"
   },
   {
    "duration": 17,
    "start_time": "2021-08-23T18:44:37.877Z"
   },
   {
    "duration": 4,
    "start_time": "2021-08-23T18:44:37.897Z"
   },
   {
    "duration": 26,
    "start_time": "2021-08-23T18:44:37.904Z"
   },
   {
    "duration": 52,
    "start_time": "2021-08-23T18:44:37.932Z"
   },
   {
    "duration": 9,
    "start_time": "2021-08-23T18:44:37.987Z"
   },
   {
    "duration": 97,
    "start_time": "2021-08-23T18:44:37.999Z"
   },
   {
    "duration": 66419,
    "start_time": "2021-08-23T18:44:38.099Z"
   },
   {
    "duration": 1865,
    "start_time": "2021-08-23T18:45:44.520Z"
   },
   {
    "duration": 490,
    "start_time": "2021-08-23T18:45:46.390Z"
   },
   {
    "duration": 843,
    "start_time": "2021-08-23T18:45:46.883Z"
   },
   {
    "duration": 809,
    "start_time": "2021-08-23T18:45:47.728Z"
   },
   {
    "duration": 5,
    "start_time": "2021-08-23T18:45:48.539Z"
   },
   {
    "duration": 58,
    "start_time": "2021-08-23T18:45:48.546Z"
   },
   {
    "duration": 4,
    "start_time": "2021-08-23T18:45:48.607Z"
   },
   {
    "duration": 109,
    "start_time": "2021-08-23T18:45:48.613Z"
   },
   {
    "duration": 96704,
    "start_time": "2021-08-23T18:45:48.724Z"
   },
   {
    "duration": 1818,
    "start_time": "2021-08-23T18:47:25.431Z"
   },
   {
    "duration": 519,
    "start_time": "2021-08-23T18:47:27.252Z"
   },
   {
    "duration": 5,
    "start_time": "2021-08-23T18:47:27.774Z"
   },
   {
    "duration": 860,
    "start_time": "2021-08-23T18:47:27.782Z"
   },
   {
    "duration": 4,
    "start_time": "2021-08-23T18:47:28.644Z"
   },
   {
    "duration": 145,
    "start_time": "2021-08-23T18:47:28.651Z"
   },
   {
    "duration": 4,
    "start_time": "2021-08-23T18:47:28.799Z"
   },
   {
    "duration": 68,
    "start_time": "2021-08-23T18:47:28.805Z"
   },
   {
    "duration": 30784,
    "start_time": "2021-08-23T18:47:28.877Z"
   },
   {
    "duration": 1045,
    "start_time": "2021-08-23T18:47:59.668Z"
   },
   {
    "duration": 482,
    "start_time": "2021-08-23T18:48:00.715Z"
   },
   {
    "duration": 913,
    "start_time": "2021-08-23T18:48:01.200Z"
   },
   {
    "duration": 3389,
    "start_time": "2021-08-23T18:48:02.115Z"
   },
   {
    "duration": 7,
    "start_time": "2021-08-23T18:48:05.506Z"
   },
   {
    "duration": 880,
    "start_time": "2021-08-23T18:48:05.515Z"
   },
   {
    "duration": 1732,
    "start_time": "2021-08-23T18:48:06.397Z"
   },
   {
    "duration": 915,
    "start_time": "2021-08-23T18:48:08.132Z"
   },
   {
    "duration": 962,
    "start_time": "2021-08-23T18:48:09.049Z"
   },
   {
    "duration": 1110,
    "start_time": "2021-08-23T18:54:33.358Z"
   },
   {
    "duration": 14,
    "start_time": "2021-08-23T18:54:47.203Z"
   },
   {
    "duration": 1052,
    "start_time": "2021-08-23T18:54:53.700Z"
   },
   {
    "duration": 898,
    "start_time": "2021-08-23T18:55:03.139Z"
   },
   {
    "duration": 953,
    "start_time": "2021-08-23T18:55:04.718Z"
   },
   {
    "duration": 940,
    "start_time": "2021-08-23T18:55:06.012Z"
   },
   {
    "duration": 947,
    "start_time": "2021-08-23T18:55:32.093Z"
   },
   {
    "duration": 1802,
    "start_time": "2021-08-23T18:55:35.730Z"
   },
   {
    "duration": 1056,
    "start_time": "2021-08-23T18:55:40.091Z"
   },
   {
    "duration": 983,
    "start_time": "2021-08-23T18:55:41.149Z"
   },
   {
    "duration": 31,
    "start_time": "2021-08-23T18:55:53.027Z"
   },
   {
    "duration": 886,
    "start_time": "2021-08-23T18:56:02.564Z"
   },
   {
    "duration": 7,
    "start_time": "2021-08-23T18:57:23.399Z"
   },
   {
    "duration": 7,
    "start_time": "2021-08-23T18:57:23.408Z"
   },
   {
    "duration": 6,
    "start_time": "2021-08-23T18:57:23.418Z"
   },
   {
    "duration": 165,
    "start_time": "2021-08-23T18:57:23.427Z"
   },
   {
    "duration": 19,
    "start_time": "2021-08-23T18:57:23.595Z"
   },
   {
    "duration": 59,
    "start_time": "2021-08-23T18:57:23.616Z"
   },
   {
    "duration": 39,
    "start_time": "2021-08-23T18:57:23.677Z"
   },
   {
    "duration": 8,
    "start_time": "2021-08-23T18:57:23.720Z"
   },
   {
    "duration": 379,
    "start_time": "2021-08-23T18:57:23.731Z"
   },
   {
    "duration": 7,
    "start_time": "2021-08-23T18:57:24.113Z"
   },
   {
    "duration": 44,
    "start_time": "2021-08-23T18:57:24.123Z"
   },
   {
    "duration": 14,
    "start_time": "2021-08-23T18:57:24.171Z"
   },
   {
    "duration": 6,
    "start_time": "2021-08-23T18:57:24.188Z"
   },
   {
    "duration": 11,
    "start_time": "2021-08-23T18:57:24.196Z"
   },
   {
    "duration": 87,
    "start_time": "2021-08-23T18:57:24.210Z"
   },
   {
    "duration": 10,
    "start_time": "2021-08-23T18:57:24.300Z"
   },
   {
    "duration": 18,
    "start_time": "2021-08-23T18:57:24.313Z"
   },
   {
    "duration": 3,
    "start_time": "2021-08-23T18:57:24.333Z"
   },
   {
    "duration": 58,
    "start_time": "2021-08-23T18:57:24.339Z"
   },
   {
    "duration": 12,
    "start_time": "2021-08-23T18:57:24.400Z"
   },
   {
    "duration": 11,
    "start_time": "2021-08-23T18:57:24.415Z"
   },
   {
    "duration": 105,
    "start_time": "2021-08-23T18:57:24.433Z"
   },
   {
    "duration": 7,
    "start_time": "2021-08-23T19:02:15.430Z"
   },
   {
    "duration": 20,
    "start_time": "2021-08-23T19:02:15.439Z"
   },
   {
    "duration": 22,
    "start_time": "2021-08-23T19:02:15.461Z"
   },
   {
    "duration": 154,
    "start_time": "2021-08-23T19:02:15.486Z"
   },
   {
    "duration": 41,
    "start_time": "2021-08-23T19:02:15.642Z"
   },
   {
    "duration": 18,
    "start_time": "2021-08-23T19:02:15.685Z"
   },
   {
    "duration": 33,
    "start_time": "2021-08-23T19:02:15.705Z"
   },
   {
    "duration": 17,
    "start_time": "2021-08-23T19:02:15.768Z"
   },
   {
    "duration": 361,
    "start_time": "2021-08-23T19:02:15.787Z"
   },
   {
    "duration": 5,
    "start_time": "2021-08-23T19:02:16.151Z"
   },
   {
    "duration": 34,
    "start_time": "2021-08-23T19:02:16.168Z"
   },
   {
    "duration": 15,
    "start_time": "2021-08-23T19:02:16.204Z"
   },
   {
    "duration": 14,
    "start_time": "2021-08-23T19:02:16.221Z"
   },
   {
    "duration": 21,
    "start_time": "2021-08-23T19:02:16.237Z"
   },
   {
    "duration": 58,
    "start_time": "2021-08-23T19:02:16.260Z"
   },
   {
    "duration": 7,
    "start_time": "2021-08-23T19:02:16.321Z"
   },
   {
    "duration": 21,
    "start_time": "2021-08-23T19:02:16.331Z"
   },
   {
    "duration": 30,
    "start_time": "2021-08-23T19:02:16.354Z"
   },
   {
    "duration": 47,
    "start_time": "2021-08-23T19:02:16.386Z"
   },
   {
    "duration": 12,
    "start_time": "2021-08-23T19:02:16.436Z"
   },
   {
    "duration": 33,
    "start_time": "2021-08-23T19:02:16.450Z"
   },
   {
    "duration": 76,
    "start_time": "2021-08-23T19:02:16.486Z"
   },
   {
    "duration": 66720,
    "start_time": "2021-08-23T19:02:16.564Z"
   },
   {
    "duration": 1844,
    "start_time": "2021-08-23T19:03:23.286Z"
   },
   {
    "duration": 535,
    "start_time": "2021-08-23T19:03:25.133Z"
   },
   {
    "duration": 949,
    "start_time": "2021-08-23T19:03:25.672Z"
   },
   {
    "duration": 919,
    "start_time": "2021-08-23T19:03:26.624Z"
   },
   {
    "duration": 4,
    "start_time": "2021-08-23T19:03:27.545Z"
   },
   {
    "duration": 50,
    "start_time": "2021-08-23T19:03:27.552Z"
   },
   {
    "duration": 5,
    "start_time": "2021-08-23T19:03:27.605Z"
   },
   {
    "duration": 129,
    "start_time": "2021-08-23T19:03:27.619Z"
   },
   {
    "duration": 98001,
    "start_time": "2021-08-23T19:03:27.752Z"
   },
   {
    "duration": 1813,
    "start_time": "2021-08-23T19:05:05.756Z"
   },
   {
    "duration": 516,
    "start_time": "2021-08-23T19:05:07.572Z"
   },
   {
    "duration": 4,
    "start_time": "2021-08-23T19:05:08.090Z"
   },
   {
    "duration": 932,
    "start_time": "2021-08-23T19:05:08.098Z"
   },
   {
    "duration": 4,
    "start_time": "2021-08-23T19:05:09.032Z"
   },
   {
    "duration": 60,
    "start_time": "2021-08-23T19:05:09.039Z"
   },
   {
    "duration": 5,
    "start_time": "2021-08-23T19:05:09.101Z"
   },
   {
    "duration": 61,
    "start_time": "2021-08-23T19:05:09.108Z"
   },
   {
    "duration": 31683,
    "start_time": "2021-08-23T19:05:09.172Z"
   },
   {
    "duration": 973,
    "start_time": "2021-08-23T19:05:40.857Z"
   },
   {
    "duration": 536,
    "start_time": "2021-08-23T19:05:41.832Z"
   },
   {
    "duration": 954,
    "start_time": "2021-08-23T19:05:42.372Z"
   },
   {
    "duration": 4041,
    "start_time": "2021-08-23T19:05:43.328Z"
   },
   {
    "duration": 7,
    "start_time": "2021-08-23T19:05:47.372Z"
   },
   {
    "duration": 871,
    "start_time": "2021-08-23T19:05:47.382Z"
   },
   {
    "duration": 1872,
    "start_time": "2021-08-23T19:05:48.256Z"
   },
   {
    "duration": 1014,
    "start_time": "2021-08-23T19:05:50.130Z"
   },
   {
    "duration": 896,
    "start_time": "2021-08-23T19:05:51.146Z"
   },
   {
    "duration": 509,
    "start_time": "2021-08-23T19:16:08.318Z"
   },
   {
    "duration": 1237,
    "start_time": "2021-08-23T19:16:25.653Z"
   },
   {
    "duration": 6,
    "start_time": "2021-08-23T19:17:08.429Z"
   },
   {
    "duration": 6,
    "start_time": "2021-08-23T19:17:10.622Z"
   },
   {
    "duration": 1126,
    "start_time": "2021-08-23T19:17:16.507Z"
   },
   {
    "duration": 1231,
    "start_time": "2021-08-23T19:17:24.714Z"
   },
   {
    "duration": 1211,
    "start_time": "2021-08-23T19:17:30.807Z"
   },
   {
    "duration": 1421,
    "start_time": "2021-08-23T19:17:54.402Z"
   },
   {
    "duration": 114,
    "start_time": "2021-08-23T19:18:36.850Z"
   },
   {
    "duration": 1345,
    "start_time": "2021-08-23T19:18:42.052Z"
   },
   {
    "duration": 532,
    "start_time": "2021-08-23T19:19:29.878Z"
   },
   {
    "duration": 106,
    "start_time": "2021-08-23T20:01:07.841Z"
   },
   {
    "duration": 339,
    "start_time": "2021-08-23T20:02:01.725Z"
   },
   {
    "duration": 1514,
    "start_time": "2021-08-24T13:04:25.132Z"
   },
   {
    "duration": 3,
    "start_time": "2021-08-24T13:04:26.649Z"
   },
   {
    "duration": 9,
    "start_time": "2021-08-24T13:04:26.655Z"
   },
   {
    "duration": 259,
    "start_time": "2021-08-24T13:04:26.666Z"
   },
   {
    "duration": 19,
    "start_time": "2021-08-24T13:04:26.928Z"
   },
   {
    "duration": 46,
    "start_time": "2021-08-24T13:04:26.949Z"
   },
   {
    "duration": 34,
    "start_time": "2021-08-24T13:04:26.997Z"
   },
   {
    "duration": 9,
    "start_time": "2021-08-24T13:04:27.035Z"
   },
   {
    "duration": 346,
    "start_time": "2021-08-24T13:04:27.047Z"
   },
   {
    "duration": 6,
    "start_time": "2021-08-24T13:04:27.396Z"
   },
   {
    "duration": 20,
    "start_time": "2021-08-24T13:04:27.405Z"
   },
   {
    "duration": 12,
    "start_time": "2021-08-24T13:04:27.427Z"
   },
   {
    "duration": 5,
    "start_time": "2021-08-24T13:04:27.442Z"
   },
   {
    "duration": 44,
    "start_time": "2021-08-24T13:04:27.449Z"
   },
   {
    "duration": 38,
    "start_time": "2021-08-24T13:04:27.495Z"
   },
   {
    "duration": 8,
    "start_time": "2021-08-24T13:04:27.535Z"
   },
   {
    "duration": 49,
    "start_time": "2021-08-24T13:04:27.546Z"
   },
   {
    "duration": 3,
    "start_time": "2021-08-24T13:04:27.598Z"
   },
   {
    "duration": 31,
    "start_time": "2021-08-24T13:04:27.603Z"
   },
   {
    "duration": 11,
    "start_time": "2021-08-24T13:04:27.636Z"
   },
   {
    "duration": 35,
    "start_time": "2021-08-24T13:04:27.650Z"
   },
   {
    "duration": 69,
    "start_time": "2021-08-24T13:04:27.688Z"
   },
   {
    "duration": 65544,
    "start_time": "2021-08-24T13:04:27.762Z"
   },
   {
    "duration": 1782,
    "start_time": "2021-08-24T13:05:33.310Z"
   },
   {
    "duration": 482,
    "start_time": "2021-08-24T13:05:35.094Z"
   },
   {
    "duration": 896,
    "start_time": "2021-08-24T13:05:35.579Z"
   },
   {
    "duration": 922,
    "start_time": "2021-08-24T13:05:36.477Z"
   },
   {
    "duration": 5,
    "start_time": "2021-08-24T13:05:37.401Z"
   },
   {
    "duration": 33,
    "start_time": "2021-08-24T13:05:37.408Z"
   },
   {
    "duration": 4,
    "start_time": "2021-08-24T13:05:37.443Z"
   },
   {
    "duration": 114,
    "start_time": "2021-08-24T13:05:37.450Z"
   },
   {
    "duration": 93223,
    "start_time": "2021-08-24T13:05:37.566Z"
   },
   {
    "duration": 1810,
    "start_time": "2021-08-24T13:07:10.791Z"
   },
   {
    "duration": 472,
    "start_time": "2021-08-24T13:07:12.603Z"
   },
   {
    "duration": 8,
    "start_time": "2021-08-24T13:07:13.078Z"
   },
   {
    "duration": 922,
    "start_time": "2021-08-24T13:07:13.088Z"
   },
   {
    "duration": 6,
    "start_time": "2021-08-24T13:07:14.014Z"
   },
   {
    "duration": 55,
    "start_time": "2021-08-24T13:07:14.023Z"
   },
   {
    "duration": 4,
    "start_time": "2021-08-24T13:07:14.086Z"
   },
   {
    "duration": 50,
    "start_time": "2021-08-24T13:07:14.093Z"
   },
   {
    "duration": 30419,
    "start_time": "2021-08-24T13:07:14.145Z"
   },
   {
    "duration": 865,
    "start_time": "2021-08-24T13:07:44.567Z"
   },
   {
    "duration": 480,
    "start_time": "2021-08-24T13:07:45.434Z"
   },
   {
    "duration": 964,
    "start_time": "2021-08-24T13:07:45.916Z"
   },
   {
    "duration": 3369,
    "start_time": "2021-08-24T13:07:46.886Z"
   },
   {
    "duration": 8,
    "start_time": "2021-08-24T13:07:50.257Z"
   },
   {
    "duration": 940,
    "start_time": "2021-08-24T13:07:50.268Z"
   },
   {
    "duration": 1675,
    "start_time": "2021-08-24T13:07:51.210Z"
   },
   {
    "duration": 818,
    "start_time": "2021-08-24T13:07:52.887Z"
   },
   {
    "duration": 805,
    "start_time": "2021-08-24T13:07:53.708Z"
   },
   {
    "duration": 658,
    "start_time": "2021-08-24T13:07:54.516Z"
   },
   {
    "duration": 479,
    "start_time": "2021-08-24T14:53:12.940Z"
   },
   {
    "duration": 1578,
    "start_time": "2021-08-24T14:53:23.851Z"
   },
   {
    "duration": 3,
    "start_time": "2021-08-24T14:53:25.432Z"
   },
   {
    "duration": 21,
    "start_time": "2021-08-24T14:53:25.439Z"
   },
   {
    "duration": 155,
    "start_time": "2021-08-24T14:53:25.463Z"
   },
   {
    "duration": 37,
    "start_time": "2021-08-24T14:53:25.620Z"
   },
   {
    "duration": 37,
    "start_time": "2021-08-24T14:53:25.660Z"
   },
   {
    "duration": 48,
    "start_time": "2021-08-24T14:53:25.700Z"
   },
   {
    "duration": 11,
    "start_time": "2021-08-24T14:53:25.752Z"
   },
   {
    "duration": 385,
    "start_time": "2021-08-24T14:53:25.766Z"
   },
   {
    "duration": 7,
    "start_time": "2021-08-24T14:53:26.156Z"
   },
   {
    "duration": 17,
    "start_time": "2021-08-24T14:53:26.165Z"
   },
   {
    "duration": 10,
    "start_time": "2021-08-24T14:53:26.185Z"
   },
   {
    "duration": 6,
    "start_time": "2021-08-24T14:53:26.198Z"
   },
   {
    "duration": 50,
    "start_time": "2021-08-24T14:53:26.207Z"
   },
   {
    "duration": 36,
    "start_time": "2021-08-24T14:53:26.259Z"
   },
   {
    "duration": 9,
    "start_time": "2021-08-24T14:53:26.298Z"
   },
   {
    "duration": 52,
    "start_time": "2021-08-24T14:53:26.310Z"
   },
   {
    "duration": 4,
    "start_time": "2021-08-24T14:53:26.364Z"
   },
   {
    "duration": 37,
    "start_time": "2021-08-24T14:53:26.370Z"
   },
   {
    "duration": 47,
    "start_time": "2021-08-24T14:53:26.409Z"
   },
   {
    "duration": 12,
    "start_time": "2021-08-24T14:53:26.458Z"
   },
   {
    "duration": 18,
    "start_time": "2021-08-24T14:53:26.473Z"
   },
   {
    "duration": 83,
    "start_time": "2021-08-24T14:53:26.498Z"
   },
   {
    "duration": 65009,
    "start_time": "2021-08-24T14:53:26.584Z"
   },
   {
    "duration": 1840,
    "start_time": "2021-08-24T14:54:31.595Z"
   },
   {
    "duration": 532,
    "start_time": "2021-08-24T14:54:33.437Z"
   },
   {
    "duration": 895,
    "start_time": "2021-08-24T14:54:33.972Z"
   },
   {
    "duration": 934,
    "start_time": "2021-08-24T14:54:34.869Z"
   },
   {
    "duration": 4,
    "start_time": "2021-08-24T14:54:35.805Z"
   },
   {
    "duration": 55,
    "start_time": "2021-08-24T14:54:35.812Z"
   },
   {
    "duration": 5,
    "start_time": "2021-08-24T14:54:35.869Z"
   },
   {
    "duration": 103,
    "start_time": "2021-08-24T14:54:35.876Z"
   },
   {
    "duration": 94979,
    "start_time": "2021-08-24T14:54:35.983Z"
   },
   {
    "duration": 1911,
    "start_time": "2021-08-24T14:56:10.965Z"
   },
   {
    "duration": 484,
    "start_time": "2021-08-24T14:56:12.878Z"
   },
   {
    "duration": 4,
    "start_time": "2021-08-24T14:56:13.364Z"
   },
   {
    "duration": 832,
    "start_time": "2021-08-24T14:56:13.371Z"
   },
   {
    "duration": 6,
    "start_time": "2021-08-24T14:56:14.205Z"
   },
   {
    "duration": 60,
    "start_time": "2021-08-24T14:56:14.214Z"
   },
   {
    "duration": 5,
    "start_time": "2021-08-24T14:56:14.277Z"
   },
   {
    "duration": 41,
    "start_time": "2021-08-24T14:56:14.286Z"
   },
   {
    "duration": 31544,
    "start_time": "2021-08-24T14:56:14.330Z"
   },
   {
    "duration": 884,
    "start_time": "2021-08-24T14:56:45.876Z"
   },
   {
    "duration": 604,
    "start_time": "2021-08-24T14:56:46.763Z"
   },
   {
    "duration": 997,
    "start_time": "2021-08-24T14:56:47.370Z"
   },
   {
    "duration": 3389,
    "start_time": "2021-08-24T14:56:48.369Z"
   },
   {
    "duration": 9,
    "start_time": "2021-08-24T14:56:51.760Z"
   },
   {
    "duration": 826,
    "start_time": "2021-08-24T14:56:51.772Z"
   },
   {
    "duration": 1716,
    "start_time": "2021-08-24T14:56:52.601Z"
   },
   {
    "duration": 841,
    "start_time": "2021-08-24T14:56:54.319Z"
   },
   {
    "duration": 800,
    "start_time": "2021-08-24T14:56:55.162Z"
   },
   {
    "duration": 609,
    "start_time": "2021-08-24T14:56:55.964Z"
   },
   {
    "duration": 35,
    "start_time": "2021-08-24T15:08:39.160Z"
   },
   {
    "duration": 26,
    "start_time": "2021-08-24T15:08:40.269Z"
   },
   {
    "duration": 7,
    "start_time": "2021-08-24T15:08:45.153Z"
   },
   {
    "duration": 23,
    "start_time": "2021-08-24T15:08:45.164Z"
   },
   {
    "duration": 18,
    "start_time": "2021-08-24T15:08:45.191Z"
   },
   {
    "duration": 164,
    "start_time": "2021-08-24T15:08:45.212Z"
   },
   {
    "duration": 20,
    "start_time": "2021-08-24T15:08:45.379Z"
   },
   {
    "duration": 43,
    "start_time": "2021-08-24T15:08:45.402Z"
   },
   {
    "duration": 40,
    "start_time": "2021-08-24T15:08:45.447Z"
   },
   {
    "duration": 23,
    "start_time": "2021-08-24T15:08:45.489Z"
   },
   {
    "duration": 359,
    "start_time": "2021-08-24T15:08:45.516Z"
   },
   {
    "duration": 8,
    "start_time": "2021-08-24T15:08:45.878Z"
   },
   {
    "duration": 36,
    "start_time": "2021-08-24T15:08:45.888Z"
   },
   {
    "duration": 23,
    "start_time": "2021-08-24T15:08:45.926Z"
   },
   {
    "duration": 9,
    "start_time": "2021-08-24T15:08:45.951Z"
   },
   {
    "duration": 28,
    "start_time": "2021-08-24T15:08:45.962Z"
   },
   {
    "duration": 34,
    "start_time": "2021-08-24T15:08:45.992Z"
   },
   {
    "duration": 9,
    "start_time": "2021-08-24T15:08:46.029Z"
   },
   {
    "duration": 18,
    "start_time": "2021-08-24T15:08:46.056Z"
   },
   {
    "duration": 4,
    "start_time": "2021-08-24T15:08:46.077Z"
   },
   {
    "duration": 145,
    "start_time": "2021-08-24T15:08:46.083Z"
   },
   {
    "duration": 38,
    "start_time": "2021-08-24T15:08:46.230Z"
   },
   {
    "duration": 12,
    "start_time": "2021-08-24T15:08:46.270Z"
   },
   {
    "duration": 19,
    "start_time": "2021-08-24T15:08:46.285Z"
   },
   {
    "duration": 82,
    "start_time": "2021-08-24T15:08:46.307Z"
   },
   {
    "duration": 65095,
    "start_time": "2021-08-24T15:08:46.391Z"
   },
   {
    "duration": 1936,
    "start_time": "2021-08-24T15:09:51.488Z"
   },
   {
    "duration": 549,
    "start_time": "2021-08-24T15:09:53.426Z"
   },
   {
    "duration": 881,
    "start_time": "2021-08-24T15:09:53.980Z"
   },
   {
    "duration": 1043,
    "start_time": "2021-08-24T15:09:54.865Z"
   },
   {
    "duration": 5,
    "start_time": "2021-08-24T15:09:55.910Z"
   },
   {
    "duration": 66,
    "start_time": "2021-08-24T15:09:55.917Z"
   },
   {
    "duration": 5,
    "start_time": "2021-08-24T15:09:55.985Z"
   },
   {
    "duration": 105,
    "start_time": "2021-08-24T15:09:55.993Z"
   },
   {
    "duration": 96958,
    "start_time": "2021-08-24T15:09:56.101Z"
   },
   {
    "duration": 1781,
    "start_time": "2021-08-24T15:11:33.061Z"
   },
   {
    "duration": 502,
    "start_time": "2021-08-24T15:11:34.845Z"
   },
   {
    "duration": 4,
    "start_time": "2021-08-24T15:11:35.356Z"
   },
   {
    "duration": 869,
    "start_time": "2021-08-24T15:11:35.362Z"
   },
   {
    "duration": 6,
    "start_time": "2021-08-24T15:11:36.233Z"
   },
   {
    "duration": 59,
    "start_time": "2021-08-24T15:11:36.241Z"
   },
   {
    "duration": 4,
    "start_time": "2021-08-24T15:11:36.303Z"
   },
   {
    "duration": 59,
    "start_time": "2021-08-24T15:11:36.309Z"
   },
   {
    "duration": 31823,
    "start_time": "2021-08-24T15:11:36.371Z"
   },
   {
    "duration": 884,
    "start_time": "2021-08-24T15:12:08.196Z"
   },
   {
    "duration": 473,
    "start_time": "2021-08-24T15:12:09.084Z"
   },
   {
    "duration": 873,
    "start_time": "2021-08-24T15:12:09.559Z"
   },
   {
    "duration": 3683,
    "start_time": "2021-08-24T15:12:10.435Z"
   },
   {
    "duration": 8,
    "start_time": "2021-08-24T15:12:14.121Z"
   },
   {
    "duration": 969,
    "start_time": "2021-08-24T15:12:14.132Z"
   },
   {
    "duration": 1815,
    "start_time": "2021-08-24T15:12:15.103Z"
   },
   {
    "duration": 878,
    "start_time": "2021-08-24T15:12:16.921Z"
   },
   {
    "duration": 876,
    "start_time": "2021-08-24T15:12:17.801Z"
   },
   {
    "duration": 578,
    "start_time": "2021-08-24T15:12:18.679Z"
   },
   {
    "duration": 20,
    "start_time": "2021-08-24T15:13:56.077Z"
   },
   {
    "duration": 922,
    "start_time": "2021-08-24T15:25:19.219Z"
   },
   {
    "duration": 164,
    "start_time": "2021-08-24T15:27:52.750Z"
   }
  ],
  "kernelspec": {
   "display_name": "Python 3",
   "language": "python",
   "name": "python3"
  },
  "language_info": {
   "codemirror_mode": {
    "name": "ipython",
    "version": 3
   },
   "file_extension": ".py",
   "mimetype": "text/x-python",
   "name": "python",
   "nbconvert_exporter": "python",
   "pygments_lexer": "ipython3",
   "version": "3.8.5"
  },
  "toc": {
   "base_numbering": 1,
   "nav_menu": {},
   "number_sections": true,
   "sideBar": true,
   "skip_h1_title": true,
   "title_cell": "Содержание",
   "title_sidebar": "Contents",
   "toc_cell": true,
   "toc_position": {
    "height": "calc(100% - 180px)",
    "left": "10px",
    "top": "150px",
    "width": "280px"
   },
   "toc_section_display": true,
   "toc_window_display": true
  }
 },
 "nbformat": 4,
 "nbformat_minor": 2
}
