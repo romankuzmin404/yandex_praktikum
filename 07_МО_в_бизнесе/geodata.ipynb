{
 "cells": [
  {
   "cell_type": "markdown",
   "metadata": {
    "toc": true
   },
   "source": [
    "<h1>Table of Contents<span class=\"tocSkip\"></span></h1>\n",
    "<div class=\"toc\"><ul class=\"toc-item\"><li><span><a href=\"#Загрузка-и-подготовка-данных\" data-toc-modified-id=\"Загрузка-и-подготовка-данных-1\"><span class=\"toc-item-num\">1&nbsp;&nbsp;</span>Загрузка и подготовка данных</a></span></li><li><span><a href=\"#Обучение-и-проверка-модели\" data-toc-modified-id=\"Обучение-и-проверка-модели-2\"><span class=\"toc-item-num\">2&nbsp;&nbsp;</span>Обучение и проверка модели</a></span></li><li><span><a href=\"#Подготовка-к-расчёту-прибыли\" data-toc-modified-id=\"Подготовка-к-расчёту-прибыли-3\"><span class=\"toc-item-num\">3&nbsp;&nbsp;</span>Подготовка к расчёту прибыли</a></span></li><li><span><a href=\"#Расчёт-прибыли\" data-toc-modified-id=\"Расчёт-прибыли-4\"><span class=\"toc-item-num\">4&nbsp;&nbsp;</span>Расчёт прибыли</a></span><ul class=\"toc-item\"><li><span><a href=\"#Выберем-скважины-с-максимальными-значениями-предсказаний\" data-toc-modified-id=\"Выберем-скважины-с-максимальными-значениями-предсказаний-4.1\"><span class=\"toc-item-num\">4.1&nbsp;&nbsp;</span>Выберем скважины с максимальными значениями предсказаний</a></span></li><li><span><a href=\"#Просуммируем-целевое-значение-объёма-сырья,-соответствующее-этим-предсказаниям\" data-toc-modified-id=\"Просуммируем-целевое-значение-объёма-сырья,-соответствующее-этим-предсказаниям-4.2\"><span class=\"toc-item-num\">4.2&nbsp;&nbsp;</span>Просуммируем целевое значение объёма сырья, соответствующее этим предсказаниям</a></span></li><li><span><a href=\"#Рассчитаем-прибыль-для-полученного-объёма-сырья\" data-toc-modified-id=\"Рассчитаем-прибыль-для-полученного-объёма-сырья-4.3\"><span class=\"toc-item-num\">4.3&nbsp;&nbsp;</span>Рассчитаем прибыль для полученного объёма сырья</a></span></li></ul></li><li><span><a href=\"#Риски-и-прибыль-для-каждого-региона\" data-toc-modified-id=\"Риски-и-прибыль-для-каждого-региона-5\"><span class=\"toc-item-num\">5&nbsp;&nbsp;</span>Риски и прибыль для каждого региона</a></span><ul class=\"toc-item\"><li><span><a href=\"#Применим-технику-Bootstrap-с-1000-выборок,-чтобы-найти-распределение-прибыли\" data-toc-modified-id=\"Применим-технику-Bootstrap-с-1000-выборок,-чтобы-найти-распределение-прибыли-5.1\"><span class=\"toc-item-num\">5.1&nbsp;&nbsp;</span>Применим технику Bootstrap с 1000 выборок, чтобы найти распределение прибыли</a></span></li><li><span><a href=\"#Найдем-среднюю-прибыль,-95%-й-доверительный-интервал-и-риск-убытков\" data-toc-modified-id=\"Найдем-среднюю-прибыль,-95%-й-доверительный-интервал-и-риск-убытков-5.2\"><span class=\"toc-item-num\">5.2&nbsp;&nbsp;</span>Найдем среднюю прибыль, 95%-й доверительный интервал и риск убытков</a></span></li><li><span><a href=\"#Вывод\" data-toc-modified-id=\"Вывод-5.3\"><span class=\"toc-item-num\">5.3&nbsp;&nbsp;</span>Вывод</a></span></li></ul></li></ul></div>"
   ]
  },
  {
   "cell_type": "markdown",
   "metadata": {},
   "source": [
    "# Выбор локации для скважины"
   ]
  },
  {
   "cell_type": "markdown",
   "metadata": {},
   "source": [
    "Допустим, вы работаете в добывающей компании «ГлавРосГосНефть». Нужно решить, где бурить новую скважину.\n",
    "\n",
    "Вам предоставлены пробы нефти в трёх регионах: в каждом 10 000 месторождений, где измерили качество нефти и объём её запасов. Постройте модель машинного обучения, которая поможет определить регион, где добыча принесёт наибольшую прибыль. Проанализируйте возможную прибыль и риски техникой *Bootstrap.*\n",
    "\n",
    "Шаги для выбора локации:\n",
    "\n",
    "- В избранном регионе ищут месторождения, для каждого определяют значения признаков;\n",
    "- Строят модель и оценивают объём запасов;\n",
    "- Выбирают месторождения с самым высокими оценками значений. Количество месторождений зависит от бюджета компании и стоимости разработки одной скважины;\n",
    "- Прибыль равна суммарной прибыли отобранных месторождений."
   ]
  },
  {
   "cell_type": "markdown",
   "metadata": {},
   "source": [
    "Импортируем необходимые библиотеки"
   ]
  },
  {
   "cell_type": "code",
   "execution_count": 289,
   "metadata": {},
   "outputs": [],
   "source": [
    "import pandas as pd\n",
    "import numpy as np\n",
    "import matplotlib.pyplot as plt\n",
    "import seaborn as sns\n",
    "\n",
    "from sklearn.linear_model import LinearRegression\n",
    "from sklearn.metrics import mean_squared_error\n",
    "from sklearn.model_selection import train_test_split\n",
    "\n",
    "import warnings\n",
    "warnings.filterwarnings('ignore')"
   ]
  },
  {
   "cell_type": "markdown",
   "metadata": {},
   "source": [
    "Все ключевые значения для расчётов сохраним в отдельных переменных"
   ]
  },
  {
   "cell_type": "code",
   "execution_count": 290,
   "metadata": {},
   "outputs": [],
   "source": [
    "#При разведке региона исследуют 500 точек\n",
    "TOTAL_POINTS = 500\n",
    "#Выбирают 200 лучших для разработки\n",
    "TOP_POINTS = 200\n",
    "#Бюджет на разработку скважин в регионе — 10 млрд рублей\n",
    "REGION_BUDGET = 10000000000\n",
    "#Тысяча баррелей сырья приносит 450 000 рублей дохода\n",
    "BARREL_PRICE = 450\n",
    "BARREL_1000_PRICE = 450000\n",
    "#Вероятность убытков меньше 2.5%"
   ]
  },
  {
   "cell_type": "markdown",
   "metadata": {},
   "source": [
    "## Загрузка и подготовка данных"
   ]
  },
  {
   "cell_type": "markdown",
   "metadata": {},
   "source": [
    "Напишем функцию для получения данных из файла и анализа содержания"
   ]
  },
  {
   "cell_type": "code",
   "execution_count": 291,
   "metadata": {},
   "outputs": [],
   "source": [
    "def get_data(path):\n",
    "    df = pd.read_csv(path)\n",
    "    display(df.info())\n",
    "    display(df.head())\n",
    "    display(df.describe().T)\n",
    "    try: \n",
    "        del df['Unnamed: 0'] #удаление лишнего столбца при наличии\n",
    "    except KeyError:\n",
    "        print('Unnamed: 0 не обнаружено лишних столбцов')\n",
    "        print('')\n",
    "        \n",
    "    print('столбцов: ', len(df.columns), df.columns) \n",
    "        \n",
    "    for i in range(0, len(df.columns)):\n",
    "        print('')\n",
    "        print('уникальные значения столбца ' + str(i) + ' ' + df.columns[i])\n",
    "        print(df.iloc[:,i].unique())\n",
    "        print('')\n",
    "    return df"
   ]
  },
  {
   "cell_type": "markdown",
   "metadata": {},
   "source": [
    "Применим функцию и посмотрим на уникальность значений файлов, типы данных, пропущенные значения"
   ]
  },
  {
   "cell_type": "code",
   "execution_count": 292,
   "metadata": {},
   "outputs": [
    {
     "name": "stdout",
     "output_type": "stream",
     "text": [
      "<class 'pandas.core.frame.DataFrame'>\n",
      "RangeIndex: 100000 entries, 0 to 99999\n",
      "Data columns (total 5 columns):\n",
      "id         100000 non-null object\n",
      "f0         100000 non-null float64\n",
      "f1         100000 non-null float64\n",
      "f2         100000 non-null float64\n",
      "product    100000 non-null float64\n",
      "dtypes: float64(4), object(1)\n",
      "memory usage: 3.8+ MB\n"
     ]
    },
    {
     "data": {
      "text/plain": [
       "None"
      ]
     },
     "metadata": {},
     "output_type": "display_data"
    },
    {
     "data": {
      "text/html": [
       "<div>\n",
       "<style scoped>\n",
       "    .dataframe tbody tr th:only-of-type {\n",
       "        vertical-align: middle;\n",
       "    }\n",
       "\n",
       "    .dataframe tbody tr th {\n",
       "        vertical-align: top;\n",
       "    }\n",
       "\n",
       "    .dataframe thead th {\n",
       "        text-align: right;\n",
       "    }\n",
       "</style>\n",
       "<table border=\"1\" class=\"dataframe\">\n",
       "  <thead>\n",
       "    <tr style=\"text-align: right;\">\n",
       "      <th></th>\n",
       "      <th>id</th>\n",
       "      <th>f0</th>\n",
       "      <th>f1</th>\n",
       "      <th>f2</th>\n",
       "      <th>product</th>\n",
       "    </tr>\n",
       "  </thead>\n",
       "  <tbody>\n",
       "    <tr>\n",
       "      <td>0</td>\n",
       "      <td>txEyH</td>\n",
       "      <td>0.705745</td>\n",
       "      <td>-0.497823</td>\n",
       "      <td>1.221170</td>\n",
       "      <td>105.280062</td>\n",
       "    </tr>\n",
       "    <tr>\n",
       "      <td>1</td>\n",
       "      <td>2acmU</td>\n",
       "      <td>1.334711</td>\n",
       "      <td>-0.340164</td>\n",
       "      <td>4.365080</td>\n",
       "      <td>73.037750</td>\n",
       "    </tr>\n",
       "    <tr>\n",
       "      <td>2</td>\n",
       "      <td>409Wp</td>\n",
       "      <td>1.022732</td>\n",
       "      <td>0.151990</td>\n",
       "      <td>1.419926</td>\n",
       "      <td>85.265647</td>\n",
       "    </tr>\n",
       "    <tr>\n",
       "      <td>3</td>\n",
       "      <td>iJLyR</td>\n",
       "      <td>-0.032172</td>\n",
       "      <td>0.139033</td>\n",
       "      <td>2.978566</td>\n",
       "      <td>168.620776</td>\n",
       "    </tr>\n",
       "    <tr>\n",
       "      <td>4</td>\n",
       "      <td>Xdl7t</td>\n",
       "      <td>1.988431</td>\n",
       "      <td>0.155413</td>\n",
       "      <td>4.751769</td>\n",
       "      <td>154.036647</td>\n",
       "    </tr>\n",
       "  </tbody>\n",
       "</table>\n",
       "</div>"
      ],
      "text/plain": [
       "      id        f0        f1        f2     product\n",
       "0  txEyH  0.705745 -0.497823  1.221170  105.280062\n",
       "1  2acmU  1.334711 -0.340164  4.365080   73.037750\n",
       "2  409Wp  1.022732  0.151990  1.419926   85.265647\n",
       "3  iJLyR -0.032172  0.139033  2.978566  168.620776\n",
       "4  Xdl7t  1.988431  0.155413  4.751769  154.036647"
      ]
     },
     "metadata": {},
     "output_type": "display_data"
    },
    {
     "data": {
      "text/html": [
       "<div>\n",
       "<style scoped>\n",
       "    .dataframe tbody tr th:only-of-type {\n",
       "        vertical-align: middle;\n",
       "    }\n",
       "\n",
       "    .dataframe tbody tr th {\n",
       "        vertical-align: top;\n",
       "    }\n",
       "\n",
       "    .dataframe thead th {\n",
       "        text-align: right;\n",
       "    }\n",
       "</style>\n",
       "<table border=\"1\" class=\"dataframe\">\n",
       "  <thead>\n",
       "    <tr style=\"text-align: right;\">\n",
       "      <th></th>\n",
       "      <th>count</th>\n",
       "      <th>mean</th>\n",
       "      <th>std</th>\n",
       "      <th>min</th>\n",
       "      <th>25%</th>\n",
       "      <th>50%</th>\n",
       "      <th>75%</th>\n",
       "      <th>max</th>\n",
       "    </tr>\n",
       "  </thead>\n",
       "  <tbody>\n",
       "    <tr>\n",
       "      <td>f0</td>\n",
       "      <td>100000.0</td>\n",
       "      <td>0.500419</td>\n",
       "      <td>0.871832</td>\n",
       "      <td>-1.408605</td>\n",
       "      <td>-0.072580</td>\n",
       "      <td>0.502360</td>\n",
       "      <td>1.073581</td>\n",
       "      <td>2.362331</td>\n",
       "    </tr>\n",
       "    <tr>\n",
       "      <td>f1</td>\n",
       "      <td>100000.0</td>\n",
       "      <td>0.250143</td>\n",
       "      <td>0.504433</td>\n",
       "      <td>-0.848218</td>\n",
       "      <td>-0.200881</td>\n",
       "      <td>0.250252</td>\n",
       "      <td>0.700646</td>\n",
       "      <td>1.343769</td>\n",
       "    </tr>\n",
       "    <tr>\n",
       "      <td>f2</td>\n",
       "      <td>100000.0</td>\n",
       "      <td>2.502647</td>\n",
       "      <td>3.248248</td>\n",
       "      <td>-12.088328</td>\n",
       "      <td>0.287748</td>\n",
       "      <td>2.515969</td>\n",
       "      <td>4.715088</td>\n",
       "      <td>16.003790</td>\n",
       "    </tr>\n",
       "    <tr>\n",
       "      <td>product</td>\n",
       "      <td>100000.0</td>\n",
       "      <td>92.500000</td>\n",
       "      <td>44.288691</td>\n",
       "      <td>0.000000</td>\n",
       "      <td>56.497507</td>\n",
       "      <td>91.849972</td>\n",
       "      <td>128.564089</td>\n",
       "      <td>185.364347</td>\n",
       "    </tr>\n",
       "  </tbody>\n",
       "</table>\n",
       "</div>"
      ],
      "text/plain": [
       "            count       mean        std        min        25%        50%  \\\n",
       "f0       100000.0   0.500419   0.871832  -1.408605  -0.072580   0.502360   \n",
       "f1       100000.0   0.250143   0.504433  -0.848218  -0.200881   0.250252   \n",
       "f2       100000.0   2.502647   3.248248 -12.088328   0.287748   2.515969   \n",
       "product  100000.0  92.500000  44.288691   0.000000  56.497507  91.849972   \n",
       "\n",
       "                75%         max  \n",
       "f0         1.073581    2.362331  \n",
       "f1         0.700646    1.343769  \n",
       "f2         4.715088   16.003790  \n",
       "product  128.564089  185.364347  "
      ]
     },
     "metadata": {},
     "output_type": "display_data"
    },
    {
     "name": "stdout",
     "output_type": "stream",
     "text": [
      "Unnamed: 0 не обнаружено лишних столбцов\n",
      "\n",
      "столбцов:  5 Index(['id', 'f0', 'f1', 'f2', 'product'], dtype='object')\n",
      "\n",
      "уникальные значения столбца 0 id\n",
      "['txEyH' '2acmU' '409Wp' ... '3rnvd' '7kl59' '1CWhH']\n",
      "\n",
      "\n",
      "уникальные значения столбца 1 f0\n",
      "[0.70574498 1.33471129 1.02273226 ... 1.02958465 0.99816289 1.76475393]\n",
      "\n",
      "\n",
      "уникальные значения столбца 2 f1\n",
      "[-0.4978225  -0.34016425  0.15199044 ...  0.01878693 -0.52858167\n",
      " -0.26641676]\n",
      "\n",
      "\n",
      "уникальные значения столбца 3 f2\n",
      "[ 1.22116995  4.36508033  1.41992624 ... -1.34830814  1.58386866\n",
      "  5.72284937]\n",
      "\n",
      "\n",
      "уникальные значения столбца 4 product\n",
      "[105.28006184  73.03775027  85.26564713 ...  64.37544259  74.04076435\n",
      " 149.63324561]\n",
      "\n"
     ]
    }
   ],
   "source": [
    "df1 = get_data('datasets/geo_data_0.csv')"
   ]
  },
  {
   "cell_type": "code",
   "execution_count": 293,
   "metadata": {},
   "outputs": [
    {
     "name": "stdout",
     "output_type": "stream",
     "text": [
      "<class 'pandas.core.frame.DataFrame'>\n",
      "RangeIndex: 100000 entries, 0 to 99999\n",
      "Data columns (total 5 columns):\n",
      "id         100000 non-null object\n",
      "f0         100000 non-null float64\n",
      "f1         100000 non-null float64\n",
      "f2         100000 non-null float64\n",
      "product    100000 non-null float64\n",
      "dtypes: float64(4), object(1)\n",
      "memory usage: 3.8+ MB\n"
     ]
    },
    {
     "data": {
      "text/plain": [
       "None"
      ]
     },
     "metadata": {},
     "output_type": "display_data"
    },
    {
     "data": {
      "text/html": [
       "<div>\n",
       "<style scoped>\n",
       "    .dataframe tbody tr th:only-of-type {\n",
       "        vertical-align: middle;\n",
       "    }\n",
       "\n",
       "    .dataframe tbody tr th {\n",
       "        vertical-align: top;\n",
       "    }\n",
       "\n",
       "    .dataframe thead th {\n",
       "        text-align: right;\n",
       "    }\n",
       "</style>\n",
       "<table border=\"1\" class=\"dataframe\">\n",
       "  <thead>\n",
       "    <tr style=\"text-align: right;\">\n",
       "      <th></th>\n",
       "      <th>id</th>\n",
       "      <th>f0</th>\n",
       "      <th>f1</th>\n",
       "      <th>f2</th>\n",
       "      <th>product</th>\n",
       "    </tr>\n",
       "  </thead>\n",
       "  <tbody>\n",
       "    <tr>\n",
       "      <td>0</td>\n",
       "      <td>kBEdx</td>\n",
       "      <td>-15.001348</td>\n",
       "      <td>-8.276000</td>\n",
       "      <td>-0.005876</td>\n",
       "      <td>3.179103</td>\n",
       "    </tr>\n",
       "    <tr>\n",
       "      <td>1</td>\n",
       "      <td>62mP7</td>\n",
       "      <td>14.272088</td>\n",
       "      <td>-3.475083</td>\n",
       "      <td>0.999183</td>\n",
       "      <td>26.953261</td>\n",
       "    </tr>\n",
       "    <tr>\n",
       "      <td>2</td>\n",
       "      <td>vyE1P</td>\n",
       "      <td>6.263187</td>\n",
       "      <td>-5.948386</td>\n",
       "      <td>5.001160</td>\n",
       "      <td>134.766305</td>\n",
       "    </tr>\n",
       "    <tr>\n",
       "      <td>3</td>\n",
       "      <td>KcrkZ</td>\n",
       "      <td>-13.081196</td>\n",
       "      <td>-11.506057</td>\n",
       "      <td>4.999415</td>\n",
       "      <td>137.945408</td>\n",
       "    </tr>\n",
       "    <tr>\n",
       "      <td>4</td>\n",
       "      <td>AHL4O</td>\n",
       "      <td>12.702195</td>\n",
       "      <td>-8.147433</td>\n",
       "      <td>5.004363</td>\n",
       "      <td>134.766305</td>\n",
       "    </tr>\n",
       "  </tbody>\n",
       "</table>\n",
       "</div>"
      ],
      "text/plain": [
       "      id         f0         f1        f2     product\n",
       "0  kBEdx -15.001348  -8.276000 -0.005876    3.179103\n",
       "1  62mP7  14.272088  -3.475083  0.999183   26.953261\n",
       "2  vyE1P   6.263187  -5.948386  5.001160  134.766305\n",
       "3  KcrkZ -13.081196 -11.506057  4.999415  137.945408\n",
       "4  AHL4O  12.702195  -8.147433  5.004363  134.766305"
      ]
     },
     "metadata": {},
     "output_type": "display_data"
    },
    {
     "data": {
      "text/html": [
       "<div>\n",
       "<style scoped>\n",
       "    .dataframe tbody tr th:only-of-type {\n",
       "        vertical-align: middle;\n",
       "    }\n",
       "\n",
       "    .dataframe tbody tr th {\n",
       "        vertical-align: top;\n",
       "    }\n",
       "\n",
       "    .dataframe thead th {\n",
       "        text-align: right;\n",
       "    }\n",
       "</style>\n",
       "<table border=\"1\" class=\"dataframe\">\n",
       "  <thead>\n",
       "    <tr style=\"text-align: right;\">\n",
       "      <th></th>\n",
       "      <th>count</th>\n",
       "      <th>mean</th>\n",
       "      <th>std</th>\n",
       "      <th>min</th>\n",
       "      <th>25%</th>\n",
       "      <th>50%</th>\n",
       "      <th>75%</th>\n",
       "      <th>max</th>\n",
       "    </tr>\n",
       "  </thead>\n",
       "  <tbody>\n",
       "    <tr>\n",
       "      <td>f0</td>\n",
       "      <td>100000.0</td>\n",
       "      <td>1.141296</td>\n",
       "      <td>8.965932</td>\n",
       "      <td>-31.609576</td>\n",
       "      <td>-6.298551</td>\n",
       "      <td>1.153055</td>\n",
       "      <td>8.621015</td>\n",
       "      <td>29.421755</td>\n",
       "    </tr>\n",
       "    <tr>\n",
       "      <td>f1</td>\n",
       "      <td>100000.0</td>\n",
       "      <td>-4.796579</td>\n",
       "      <td>5.119872</td>\n",
       "      <td>-26.358598</td>\n",
       "      <td>-8.267985</td>\n",
       "      <td>-4.813172</td>\n",
       "      <td>-1.332816</td>\n",
       "      <td>18.734063</td>\n",
       "    </tr>\n",
       "    <tr>\n",
       "      <td>f2</td>\n",
       "      <td>100000.0</td>\n",
       "      <td>2.494541</td>\n",
       "      <td>1.703572</td>\n",
       "      <td>-0.018144</td>\n",
       "      <td>1.000021</td>\n",
       "      <td>2.011479</td>\n",
       "      <td>3.999904</td>\n",
       "      <td>5.019721</td>\n",
       "    </tr>\n",
       "    <tr>\n",
       "      <td>product</td>\n",
       "      <td>100000.0</td>\n",
       "      <td>68.825000</td>\n",
       "      <td>45.944423</td>\n",
       "      <td>0.000000</td>\n",
       "      <td>26.953261</td>\n",
       "      <td>57.085625</td>\n",
       "      <td>107.813044</td>\n",
       "      <td>137.945408</td>\n",
       "    </tr>\n",
       "  </tbody>\n",
       "</table>\n",
       "</div>"
      ],
      "text/plain": [
       "            count       mean        std        min        25%        50%  \\\n",
       "f0       100000.0   1.141296   8.965932 -31.609576  -6.298551   1.153055   \n",
       "f1       100000.0  -4.796579   5.119872 -26.358598  -8.267985  -4.813172   \n",
       "f2       100000.0   2.494541   1.703572  -0.018144   1.000021   2.011479   \n",
       "product  100000.0  68.825000  45.944423   0.000000  26.953261  57.085625   \n",
       "\n",
       "                75%         max  \n",
       "f0         8.621015   29.421755  \n",
       "f1        -1.332816   18.734063  \n",
       "f2         3.999904    5.019721  \n",
       "product  107.813044  137.945408  "
      ]
     },
     "metadata": {},
     "output_type": "display_data"
    },
    {
     "name": "stdout",
     "output_type": "stream",
     "text": [
      "Unnamed: 0 не обнаружено лишних столбцов\n",
      "\n",
      "столбцов:  5 Index(['id', 'f0', 'f1', 'f2', 'product'], dtype='object')\n",
      "\n",
      "уникальные значения столбца 0 id\n",
      "['kBEdx' '62mP7' 'vyE1P' ... '09gWa' 'rqwUm' 'relB0']\n",
      "\n",
      "\n",
      "уникальные значения столбца 1 f0\n",
      "[-15.00134818  14.27208781   6.26318735 ...  -7.37889139   0.66571381\n",
      "  -3.42613898]\n",
      "\n",
      "\n",
      "уникальные значения столбца 2 f1\n",
      "[-8.27599995 -3.47508322 -5.94838579 ... -3.08410387 -6.15259286\n",
      " -7.7942742 ]\n",
      "\n",
      "\n",
      "уникальные значения столбца 3 f2\n",
      "[-5.87601369e-03  9.99182737e-01  5.00116016e+00 ...  4.99865060e+00\n",
      "  1.00014635e+00 -3.29851829e-03]\n",
      "\n",
      "\n",
      "уникальные значения столбца 4 product\n",
      "[  3.17910258  26.95326103 134.76630516 137.94540774  84.03888568\n",
      " 110.99214671  53.90652206   0.         107.81304413  57.08562465\n",
      "  30.13236361  80.85978309]\n",
      "\n"
     ]
    }
   ],
   "source": [
    "df2 = get_data('datasets/geo_data_1.csv')"
   ]
  },
  {
   "cell_type": "code",
   "execution_count": 294,
   "metadata": {},
   "outputs": [
    {
     "name": "stdout",
     "output_type": "stream",
     "text": [
      "<class 'pandas.core.frame.DataFrame'>\n",
      "RangeIndex: 100000 entries, 0 to 99999\n",
      "Data columns (total 5 columns):\n",
      "id         100000 non-null object\n",
      "f0         100000 non-null float64\n",
      "f1         100000 non-null float64\n",
      "f2         100000 non-null float64\n",
      "product    100000 non-null float64\n",
      "dtypes: float64(4), object(1)\n",
      "memory usage: 3.8+ MB\n"
     ]
    },
    {
     "data": {
      "text/plain": [
       "None"
      ]
     },
     "metadata": {},
     "output_type": "display_data"
    },
    {
     "data": {
      "text/html": [
       "<div>\n",
       "<style scoped>\n",
       "    .dataframe tbody tr th:only-of-type {\n",
       "        vertical-align: middle;\n",
       "    }\n",
       "\n",
       "    .dataframe tbody tr th {\n",
       "        vertical-align: top;\n",
       "    }\n",
       "\n",
       "    .dataframe thead th {\n",
       "        text-align: right;\n",
       "    }\n",
       "</style>\n",
       "<table border=\"1\" class=\"dataframe\">\n",
       "  <thead>\n",
       "    <tr style=\"text-align: right;\">\n",
       "      <th></th>\n",
       "      <th>id</th>\n",
       "      <th>f0</th>\n",
       "      <th>f1</th>\n",
       "      <th>f2</th>\n",
       "      <th>product</th>\n",
       "    </tr>\n",
       "  </thead>\n",
       "  <tbody>\n",
       "    <tr>\n",
       "      <td>0</td>\n",
       "      <td>fwXo0</td>\n",
       "      <td>-1.146987</td>\n",
       "      <td>0.963328</td>\n",
       "      <td>-0.828965</td>\n",
       "      <td>27.758673</td>\n",
       "    </tr>\n",
       "    <tr>\n",
       "      <td>1</td>\n",
       "      <td>WJtFt</td>\n",
       "      <td>0.262778</td>\n",
       "      <td>0.269839</td>\n",
       "      <td>-2.530187</td>\n",
       "      <td>56.069697</td>\n",
       "    </tr>\n",
       "    <tr>\n",
       "      <td>2</td>\n",
       "      <td>ovLUW</td>\n",
       "      <td>0.194587</td>\n",
       "      <td>0.289035</td>\n",
       "      <td>-5.586433</td>\n",
       "      <td>62.871910</td>\n",
       "    </tr>\n",
       "    <tr>\n",
       "      <td>3</td>\n",
       "      <td>q6cA6</td>\n",
       "      <td>2.236060</td>\n",
       "      <td>-0.553760</td>\n",
       "      <td>0.930038</td>\n",
       "      <td>114.572842</td>\n",
       "    </tr>\n",
       "    <tr>\n",
       "      <td>4</td>\n",
       "      <td>WPMUX</td>\n",
       "      <td>-0.515993</td>\n",
       "      <td>1.716266</td>\n",
       "      <td>5.899011</td>\n",
       "      <td>149.600746</td>\n",
       "    </tr>\n",
       "  </tbody>\n",
       "</table>\n",
       "</div>"
      ],
      "text/plain": [
       "      id        f0        f1        f2     product\n",
       "0  fwXo0 -1.146987  0.963328 -0.828965   27.758673\n",
       "1  WJtFt  0.262778  0.269839 -2.530187   56.069697\n",
       "2  ovLUW  0.194587  0.289035 -5.586433   62.871910\n",
       "3  q6cA6  2.236060 -0.553760  0.930038  114.572842\n",
       "4  WPMUX -0.515993  1.716266  5.899011  149.600746"
      ]
     },
     "metadata": {},
     "output_type": "display_data"
    },
    {
     "data": {
      "text/html": [
       "<div>\n",
       "<style scoped>\n",
       "    .dataframe tbody tr th:only-of-type {\n",
       "        vertical-align: middle;\n",
       "    }\n",
       "\n",
       "    .dataframe tbody tr th {\n",
       "        vertical-align: top;\n",
       "    }\n",
       "\n",
       "    .dataframe thead th {\n",
       "        text-align: right;\n",
       "    }\n",
       "</style>\n",
       "<table border=\"1\" class=\"dataframe\">\n",
       "  <thead>\n",
       "    <tr style=\"text-align: right;\">\n",
       "      <th></th>\n",
       "      <th>count</th>\n",
       "      <th>mean</th>\n",
       "      <th>std</th>\n",
       "      <th>min</th>\n",
       "      <th>25%</th>\n",
       "      <th>50%</th>\n",
       "      <th>75%</th>\n",
       "      <th>max</th>\n",
       "    </tr>\n",
       "  </thead>\n",
       "  <tbody>\n",
       "    <tr>\n",
       "      <td>f0</td>\n",
       "      <td>100000.0</td>\n",
       "      <td>0.002023</td>\n",
       "      <td>1.732045</td>\n",
       "      <td>-8.760004</td>\n",
       "      <td>-1.162288</td>\n",
       "      <td>0.009424</td>\n",
       "      <td>1.158535</td>\n",
       "      <td>7.238262</td>\n",
       "    </tr>\n",
       "    <tr>\n",
       "      <td>f1</td>\n",
       "      <td>100000.0</td>\n",
       "      <td>-0.002081</td>\n",
       "      <td>1.730417</td>\n",
       "      <td>-7.084020</td>\n",
       "      <td>-1.174820</td>\n",
       "      <td>-0.009482</td>\n",
       "      <td>1.163678</td>\n",
       "      <td>7.844801</td>\n",
       "    </tr>\n",
       "    <tr>\n",
       "      <td>f2</td>\n",
       "      <td>100000.0</td>\n",
       "      <td>2.495128</td>\n",
       "      <td>3.473445</td>\n",
       "      <td>-11.970335</td>\n",
       "      <td>0.130359</td>\n",
       "      <td>2.484236</td>\n",
       "      <td>4.858794</td>\n",
       "      <td>16.739402</td>\n",
       "    </tr>\n",
       "    <tr>\n",
       "      <td>product</td>\n",
       "      <td>100000.0</td>\n",
       "      <td>95.000000</td>\n",
       "      <td>44.749921</td>\n",
       "      <td>0.000000</td>\n",
       "      <td>59.450441</td>\n",
       "      <td>94.925613</td>\n",
       "      <td>130.595027</td>\n",
       "      <td>190.029838</td>\n",
       "    </tr>\n",
       "  </tbody>\n",
       "</table>\n",
       "</div>"
      ],
      "text/plain": [
       "            count       mean        std        min        25%        50%  \\\n",
       "f0       100000.0   0.002023   1.732045  -8.760004  -1.162288   0.009424   \n",
       "f1       100000.0  -0.002081   1.730417  -7.084020  -1.174820  -0.009482   \n",
       "f2       100000.0   2.495128   3.473445 -11.970335   0.130359   2.484236   \n",
       "product  100000.0  95.000000  44.749921   0.000000  59.450441  94.925613   \n",
       "\n",
       "                75%         max  \n",
       "f0         1.158535    7.238262  \n",
       "f1         1.163678    7.844801  \n",
       "f2         4.858794   16.739402  \n",
       "product  130.595027  190.029838  "
      ]
     },
     "metadata": {},
     "output_type": "display_data"
    },
    {
     "name": "stdout",
     "output_type": "stream",
     "text": [
      "Unnamed: 0 не обнаружено лишних столбцов\n",
      "\n",
      "столбцов:  5 Index(['id', 'f0', 'f1', 'f2', 'product'], dtype='object')\n",
      "\n",
      "уникальные значения столбца 0 id\n",
      "['fwXo0' 'WJtFt' 'ovLUW' ... 'tKPY3' 'nmxp2' 'V9kWn']\n",
      "\n",
      "\n",
      "уникальные значения столбца 1 f0\n",
      "[-1.1469871   0.2627779   0.19458728 ... -1.19993432 -2.41989641\n",
      " -2.55142066]\n",
      "\n",
      "\n",
      "уникальные значения столбца 2 f1\n",
      "[ 0.96332792  0.26983896  0.289035   ... -2.95763723  2.41722066\n",
      " -2.02562514]\n",
      "\n",
      "\n",
      "уникальные значения столбца 3 f2\n",
      "[-0.82896492 -2.53018652 -5.58643277 ...  5.219411   -5.54844392\n",
      "  6.09089066]\n",
      "\n",
      "\n",
      "уникальные значения столбца 4 product\n",
      "[ 27.75867323  56.06969663  62.87191005 ... 157.08007975  51.79525299\n",
      " 102.77576749]\n",
      "\n"
     ]
    }
   ],
   "source": [
    "df3 = get_data('datasets/geo_data_2.csv')"
   ]
  },
  {
   "cell_type": "markdown",
   "metadata": {},
   "source": [
    "Оценим корреляцию данных в таблицах каждого региона"
   ]
  },
  {
   "cell_type": "code",
   "execution_count": 295,
   "metadata": {},
   "outputs": [
    {
     "data": {
      "image/png": "[encoded data removed]",
      "text/plain": [
       "<Figure size 432x288 with 2 Axes>"
      ]
     },
     "metadata": {
      "needs_background": "light"
     },
     "output_type": "display_data"
    },
    {
     "data": {
      "text/plain": [
       "<Figure size 1152x432 with 0 Axes>"
      ]
     },
     "metadata": {},
     "output_type": "display_data"
    }
   ],
   "source": [
    "heatmap = sns.heatmap(df1.corr(), vmin=-1, vmax=1, annot=True);\n",
    "plt.figure(figsize=(16, 6))\n",
    "heatmap.set_title('Correlation Heatmap region 1', fontdict={'fontsize':12}, pad=12);"
   ]
  },
  {
   "cell_type": "code",
   "execution_count": 296,
   "metadata": {},
   "outputs": [
    {
     "data": {
      "image/png": "[encoded data removed]",
      "text/plain": [
       "<Figure size 432x288 with 2 Axes>"
      ]
     },
     "metadata": {
      "needs_background": "light"
     },
     "output_type": "display_data"
    },
    {
     "data": {
      "text/plain": [
       "<Figure size 1152x432 with 0 Axes>"
      ]
     },
     "metadata": {},
     "output_type": "display_data"
    }
   ],
   "source": [
    "heatmap = sns.heatmap(df2.corr(), vmin=-1, vmax=1, annot=True);\n",
    "plt.figure(figsize=(16, 6))\n",
    "heatmap.set_title('Correlation Heatmap region 2', fontdict={'fontsize':12}, pad=12);"
   ]
  },
  {
   "cell_type": "markdown",
   "metadata": {},
   "source": [
    "f2 признак коррелирует с product, необходимо убедиться в достоверности полученных данных"
   ]
  },
  {
   "cell_type": "code",
   "execution_count": 297,
   "metadata": {
    "scrolled": true
   },
   "outputs": [
    {
     "data": {
      "image/png": "[encoded data removed]",
      "text/plain": [
       "<Figure size 432x288 with 2 Axes>"
      ]
     },
     "metadata": {
      "needs_background": "light"
     },
     "output_type": "display_data"
    },
    {
     "data": {
      "text/plain": [
       "<Figure size 1152x432 with 0 Axes>"
      ]
     },
     "metadata": {},
     "output_type": "display_data"
    }
   ],
   "source": [
    "heatmap = sns.heatmap(df3.corr(), vmin=-1, vmax=1, annot=True);\n",
    "plt.figure(figsize=(16, 6))\n",
    "heatmap.set_title('Correlation Heatmap region 3', fontdict={'fontsize':12}, pad=12);"
   ]
  },
  {
   "cell_type": "markdown",
   "metadata": {},
   "source": [
    "## Обучение и проверка модели"
   ]
  },
  {
   "cell_type": "markdown",
   "metadata": {},
   "source": [
    "Напишем функцию для обучения моделей"
   ]
  },
  {
   "cell_type": "code",
   "execution_count": 298,
   "metadata": {},
   "outputs": [],
   "source": [
    "def split_data(data):  \n",
    "    model = None\n",
    "    # 2.1. Разобьем данные на обучающую и валидационную выборки в соотношении 75:25.\n",
    "    target = data['product']\n",
    "    features = data.drop(['product', 'id'], axis=1)\n",
    "    features_train, features_valid, target_train, target_valid = train_test_split(\n",
    "                                              features, target, test_size=0.25, random_state=12345)\n",
    "    features_train = features_train.copy()\n",
    "    features_valid = features_valid.copy()\n",
    "    print(features_train.shape)\n",
    "    print(features_valid.shape)\n",
    "    #2.2. Обучим модель и сделаем предсказания на валидационной выборке.\n",
    "    model = LinearRegression()\n",
    "    model.fit(features_train, target_train)\n",
    "    #2.3. Сохраним предсказания и правильные ответы на валидационной выборке.\n",
    "    predicted_valid = model.predict(features_valid)\n",
    "    predicted_valid = pd.Series(predicted_valid)\n",
    "    #2.4. Напечатаем на экране средний запас предсказанного сырья и RMSE модели.\n",
    "    mse = mean_squared_error(predicted_valid, target_valid)\n",
    "    mean_pred = round(predicted_valid.mean(), 3)\n",
    "    print(\"средний запас предсказанного сырья\", mean_pred, \"тысяч баррелей\")\n",
    "    print(\"RMSE =\", round(mse ** 0.5, 5))\n",
    "    return predicted_valid, mean_pred, target_valid"
   ]
  },
  {
   "cell_type": "markdown",
   "metadata": {},
   "source": [
    "Получим результаты по каждому из регионов"
   ]
  },
  {
   "cell_type": "code",
   "execution_count": 299,
   "metadata": {},
   "outputs": [
    {
     "name": "stdout",
     "output_type": "stream",
     "text": [
      "(75000, 3)\n",
      "(25000, 3)\n",
      "средний запас предсказанного сырья 92.593 тысяч баррелей\n",
      "RMSE = 37.57942\n"
     ]
    }
   ],
   "source": [
    "predicted_valid_1, mean_pred_1, target_valid_1 = split_data(df1)"
   ]
  },
  {
   "cell_type": "code",
   "execution_count": 300,
   "metadata": {},
   "outputs": [
    {
     "name": "stdout",
     "output_type": "stream",
     "text": [
      "(75000, 3)\n",
      "(25000, 3)\n",
      "средний запас предсказанного сырья 68.729 тысяч баррелей\n",
      "RMSE = 0.8931\n"
     ]
    }
   ],
   "source": [
    "predicted_valid_2, mean_pred_2, target_valid_2 = split_data(df2)"
   ]
  },
  {
   "cell_type": "code",
   "execution_count": 301,
   "metadata": {},
   "outputs": [
    {
     "name": "stdout",
     "output_type": "stream",
     "text": [
      "(75000, 3)\n",
      "(25000, 3)\n",
      "средний запас предсказанного сырья 94.965 тысяч баррелей\n",
      "RMSE = 40.02971\n"
     ]
    }
   ],
   "source": [
    "predicted_valid_3, mean_pred_3, target_valid_3 = split_data(df3)"
   ]
  },
  {
   "cell_type": "markdown",
   "metadata": {},
   "source": [
    "Вывод\n",
    "\n",
    "Средний запас сырья 1 и 3 регионов приблизительно одинаков, запас предсказанного сырья 2 региона меньше. При этом ошибка предсказаний существенно меньше у 2 региона."
   ]
  },
  {
   "cell_type": "markdown",
   "metadata": {},
   "source": [
    "## Подготовка к расчёту прибыли"
   ]
  },
  {
   "cell_type": "markdown",
   "metadata": {},
   "source": [
    "\n",
    "Подготовимся к расчёту прибыли:\n",
    "\n",
    "Рассчитаем достаточный объём сырья для безубыточной разработки новой скважины.\n",
    "\n",
    "Рассчитаем бюджет на разработку одной скважины, он равен общему бюджету на регион поделенному на количество исследуемых скважин."
   ]
  },
  {
   "cell_type": "code",
   "execution_count": 302,
   "metadata": {
    "scrolled": true
   },
   "outputs": [
    {
     "data": {
      "text/plain": [
       "50000000.0"
      ]
     },
     "execution_count": 302,
     "metadata": {},
     "output_type": "execute_result"
    }
   ],
   "source": [
    "BUDGET_POINT = REGION_BUDGET/TOP_POINTS\n",
    "BUDGET_POINT"
   ]
  },
  {
   "cell_type": "markdown",
   "metadata": {},
   "source": [
    "Стоимость разработки 1 скважины составляет 20 млн. руб."
   ]
  },
  {
   "cell_type": "code",
   "execution_count": 303,
   "metadata": {},
   "outputs": [
    {
     "data": {
      "text/plain": [
       "111.111"
      ]
     },
     "execution_count": 303,
     "metadata": {},
     "output_type": "execute_result"
    }
   ],
   "source": [
    "ZERO_POINT = round(BUDGET_POINT / BARREL_1000_PRICE, 3)\n",
    "ZERO_POINT"
   ]
  },
  {
   "cell_type": "markdown",
   "metadata": {},
   "source": [
    "Объем сырья для безубыточной разработки новой скважины составляет 111,111 тыс. баррелей\n",
    "\n",
    "Сравним полученный объём сырья со средним запасом в каждом регионе."
   ]
  },
  {
   "cell_type": "code",
   "execution_count": 304,
   "metadata": {},
   "outputs": [
    {
     "name": "stdout",
     "output_type": "stream",
     "text": [
      "средний запас предсказанного сырья региона 1: 92.593\n",
      "средний запас предсказанного сырья региона 2: 68.729\n",
      "средний запас предсказанного сырья региона 3: 94.965\n",
      "достаточный объём сырья для безубыточной разработки новой скважины: 111.111\n"
     ]
    }
   ],
   "source": [
    "print(\"средний запас предсказанного сырья региона 1:\", mean_pred_1)\n",
    "print(\"средний запас предсказанного сырья региона 2:\", mean_pred_2)\n",
    "print(\"средний запас предсказанного сырья региона 3:\", mean_pred_3)\n",
    "print(\"достаточный объём сырья для безубыточной разработки новой скважины:\", ZERO_POINT)"
   ]
  },
  {
   "cell_type": "markdown",
   "metadata": {},
   "source": [
    "**Выводы**\n",
    "\n",
    "Средние значения запаса предсказанного сырья региона не соответствуют достаточному объему сырья для безубыточной разработки новой скважины"
   ]
  },
  {
   "cell_type": "code",
   "execution_count": 305,
   "metadata": {},
   "outputs": [
    {
     "name": "stdout",
     "output_type": "stream",
     "text": [
      "(75000, 3)\n",
      "(25000, 3)\n"
     ]
    },
    {
     "data": {
      "text/plain": [
       "array([ 95.89495185,  77.57258261,  77.89263965, ...,  61.50983303,\n",
       "       118.18039721, 118.16939229])"
      ]
     },
     "execution_count": 305,
     "metadata": {},
     "output_type": "execute_result"
    }
   ],
   "source": [
    "target = df1['product']\n",
    "features = df1.drop(['product', 'id'], axis=1)\n",
    "features_train, features_valid, target_train, target_valid = train_test_split(\n",
    "                                          features, target, test_size=0.25, random_state=12345)\n",
    "features_train = features_train.copy()\n",
    "features_valid = features_valid.copy()\n",
    "print(features_train.shape)\n",
    "print(features_valid.shape)\n",
    "#2.2. Обучим модель и сделаем предсказания на валидационной выборке.\n",
    "model = LinearRegression()\n",
    "model.fit(features_train, target_train)\n",
    "#2.3. Сохраним предсказания и правильные ответы на валидационной выборке.\n",
    "predicted_valid = model.predict(features_valid) \n",
    "predicted_valid"
   ]
  },
  {
   "cell_type": "code",
   "execution_count": 306,
   "metadata": {},
   "outputs": [
    {
     "data": {
      "text/plain": [
       "array([ 95.89495185,  77.57258261,  77.89263965, ...,  61.50983303,\n",
       "       118.18039721, 118.16939229])"
      ]
     },
     "execution_count": 306,
     "metadata": {},
     "output_type": "execute_result"
    }
   ],
   "source": [
    "predicted_valid"
   ]
  },
  {
   "cell_type": "markdown",
   "metadata": {},
   "source": [
    "## Расчёт прибыли "
   ]
  },
  {
   "cell_type": "markdown",
   "metadata": {},
   "source": [
    "### Выберем скважины с максимальными значениями предсказаний"
   ]
  },
  {
   "cell_type": "code",
   "execution_count": 307,
   "metadata": {},
   "outputs": [],
   "source": [
    "def calc_top(predicted_valid):\n",
    "    predicted_valid = pd.Series(predicted_valid)\n",
    "    predicted_valid = predicted_valid.reset_index()\n",
    "    predicted_valid.columns = ['index', 'pred_product']\n",
    "    predicted_valid_top200 = predicted_valid.query('pred_product > @ZERO_POINT').sort_values(by='pred_product', ascending=False).head(200)\n",
    "    return predicted_valid_top200"
   ]
  },
  {
   "cell_type": "code",
   "execution_count": 308,
   "metadata": {},
   "outputs": [],
   "source": [
    "predicted_valid_1_top200 = calc_top(predicted_valid_1)\n",
    "predicted_valid_2_top200 = calc_top(predicted_valid_2)\n",
    "predicted_valid_3_top200 = calc_top(predicted_valid_3)"
   ]
  },
  {
   "cell_type": "code",
   "execution_count": 309,
   "metadata": {},
   "outputs": [
    {
     "data": {
      "text/html": [
       "<div>\n",
       "<style scoped>\n",
       "    .dataframe tbody tr th:only-of-type {\n",
       "        vertical-align: middle;\n",
       "    }\n",
       "\n",
       "    .dataframe tbody tr th {\n",
       "        vertical-align: top;\n",
       "    }\n",
       "\n",
       "    .dataframe thead th {\n",
       "        text-align: right;\n",
       "    }\n",
       "</style>\n",
       "<table border=\"1\" class=\"dataframe\">\n",
       "  <thead>\n",
       "    <tr style=\"text-align: right;\">\n",
       "      <th></th>\n",
       "      <th>index</th>\n",
       "      <th>pred_product</th>\n",
       "    </tr>\n",
       "  </thead>\n",
       "  <tbody>\n",
       "    <tr>\n",
       "      <td>9317</td>\n",
       "      <td>9317</td>\n",
       "      <td>180.180713</td>\n",
       "    </tr>\n",
       "    <tr>\n",
       "      <td>219</td>\n",
       "      <td>219</td>\n",
       "      <td>176.252213</td>\n",
       "    </tr>\n",
       "    <tr>\n",
       "      <td>10015</td>\n",
       "      <td>10015</td>\n",
       "      <td>175.850623</td>\n",
       "    </tr>\n",
       "    <tr>\n",
       "      <td>11584</td>\n",
       "      <td>11584</td>\n",
       "      <td>175.658429</td>\n",
       "    </tr>\n",
       "    <tr>\n",
       "      <td>23388</td>\n",
       "      <td>23388</td>\n",
       "      <td>173.299686</td>\n",
       "    </tr>\n",
       "  </tbody>\n",
       "</table>\n",
       "</div>"
      ],
      "text/plain": [
       "       index  pred_product\n",
       "9317    9317    180.180713\n",
       "219      219    176.252213\n",
       "10015  10015    175.850623\n",
       "11584  11584    175.658429\n",
       "23388  23388    173.299686"
      ]
     },
     "metadata": {},
     "output_type": "display_data"
    },
    {
     "data": {
      "text/html": [
       "<div>\n",
       "<style scoped>\n",
       "    .dataframe tbody tr th:only-of-type {\n",
       "        vertical-align: middle;\n",
       "    }\n",
       "\n",
       "    .dataframe tbody tr th {\n",
       "        vertical-align: top;\n",
       "    }\n",
       "\n",
       "    .dataframe thead th {\n",
       "        text-align: right;\n",
       "    }\n",
       "</style>\n",
       "<table border=\"1\" class=\"dataframe\">\n",
       "  <thead>\n",
       "    <tr style=\"text-align: right;\">\n",
       "      <th></th>\n",
       "      <th>index</th>\n",
       "      <th>pred_product</th>\n",
       "    </tr>\n",
       "  </thead>\n",
       "  <tbody>\n",
       "    <tr>\n",
       "      <td>20430</td>\n",
       "      <td>20430</td>\n",
       "      <td>139.818970</td>\n",
       "    </tr>\n",
       "    <tr>\n",
       "      <td>7777</td>\n",
       "      <td>7777</td>\n",
       "      <td>139.773423</td>\n",
       "    </tr>\n",
       "    <tr>\n",
       "      <td>8755</td>\n",
       "      <td>8755</td>\n",
       "      <td>139.703330</td>\n",
       "    </tr>\n",
       "    <tr>\n",
       "      <td>1178</td>\n",
       "      <td>1178</td>\n",
       "      <td>139.560938</td>\n",
       "    </tr>\n",
       "    <tr>\n",
       "      <td>4285</td>\n",
       "      <td>4285</td>\n",
       "      <td>139.516754</td>\n",
       "    </tr>\n",
       "  </tbody>\n",
       "</table>\n",
       "</div>"
      ],
      "text/plain": [
       "       index  pred_product\n",
       "20430  20430    139.818970\n",
       "7777    7777    139.773423\n",
       "8755    8755    139.703330\n",
       "1178    1178    139.560938\n",
       "4285    4285    139.516754"
      ]
     },
     "metadata": {},
     "output_type": "display_data"
    },
    {
     "data": {
      "text/html": [
       "<div>\n",
       "<style scoped>\n",
       "    .dataframe tbody tr th:only-of-type {\n",
       "        vertical-align: middle;\n",
       "    }\n",
       "\n",
       "    .dataframe tbody tr th {\n",
       "        vertical-align: top;\n",
       "    }\n",
       "\n",
       "    .dataframe thead th {\n",
       "        text-align: right;\n",
       "    }\n",
       "</style>\n",
       "<table border=\"1\" class=\"dataframe\">\n",
       "  <thead>\n",
       "    <tr style=\"text-align: right;\">\n",
       "      <th></th>\n",
       "      <th>index</th>\n",
       "      <th>pred_product</th>\n",
       "    </tr>\n",
       "  </thead>\n",
       "  <tbody>\n",
       "    <tr>\n",
       "      <td>22636</td>\n",
       "      <td>22636</td>\n",
       "      <td>165.856833</td>\n",
       "    </tr>\n",
       "    <tr>\n",
       "      <td>24690</td>\n",
       "      <td>24690</td>\n",
       "      <td>165.679685</td>\n",
       "    </tr>\n",
       "    <tr>\n",
       "      <td>7811</td>\n",
       "      <td>7811</td>\n",
       "      <td>163.439962</td>\n",
       "    </tr>\n",
       "    <tr>\n",
       "      <td>1581</td>\n",
       "      <td>1581</td>\n",
       "      <td>162.062589</td>\n",
       "    </tr>\n",
       "    <tr>\n",
       "      <td>6751</td>\n",
       "      <td>6751</td>\n",
       "      <td>161.797476</td>\n",
       "    </tr>\n",
       "  </tbody>\n",
       "</table>\n",
       "</div>"
      ],
      "text/plain": [
       "       index  pred_product\n",
       "22636  22636    165.856833\n",
       "24690  24690    165.679685\n",
       "7811    7811    163.439962\n",
       "1581    1581    162.062589\n",
       "6751    6751    161.797476"
      ]
     },
     "metadata": {},
     "output_type": "display_data"
    }
   ],
   "source": [
    "display(predicted_valid_1_top200.head())\n",
    "display(predicted_valid_2_top200.head())\n",
    "display(predicted_valid_3_top200.head())"
   ]
  },
  {
   "cell_type": "markdown",
   "metadata": {},
   "source": [
    "### Просуммируем целевое значение объёма сырья, соответствующее этим предсказаниям"
   ]
  },
  {
   "cell_type": "markdown",
   "metadata": {},
   "source": [
    "Просуммируем объем запасов скважин с максимальным значением предсказаний:"
   ]
  },
  {
   "cell_type": "code",
   "execution_count": 310,
   "metadata": {},
   "outputs": [
    {
     "data": {
      "text/plain": [
       "31102.330838811395"
      ]
     },
     "execution_count": 310,
     "metadata": {},
     "output_type": "execute_result"
    }
   ],
   "source": [
    "TOTAL_VOL_1 = predicted_valid_1_top200.pred_product.sum()\n",
    "TOTAL_VOL_1"
   ]
  },
  {
   "cell_type": "code",
   "execution_count": 311,
   "metadata": {},
   "outputs": [
    {
     "data": {
      "text/plain": [
       "27746.026782163426"
      ]
     },
     "execution_count": 311,
     "metadata": {},
     "output_type": "execute_result"
    }
   ],
   "source": [
    "TOTAL_VOL_2 = predicted_valid_2_top200.pred_product.sum()\n",
    "TOTAL_VOL_2"
   ]
  },
  {
   "cell_type": "code",
   "execution_count": 312,
   "metadata": {},
   "outputs": [
    {
     "data": {
      "text/plain": [
       "29603.89865831835"
      ]
     },
     "execution_count": 312,
     "metadata": {},
     "output_type": "execute_result"
    }
   ],
   "source": [
    "TOTAL_VOL_3 = predicted_valid_3_top200.pred_product.sum()\n",
    "TOTAL_VOL_3"
   ]
  },
  {
   "cell_type": "markdown",
   "metadata": {},
   "source": [
    "### Рассчитаем прибыль для полученного объёма сырья"
   ]
  },
  {
   "cell_type": "markdown",
   "metadata": {},
   "source": [
    "Рассчитаем прибыль для полученного объёма сырья для каждого из регионов"
   ]
  },
  {
   "cell_type": "code",
   "execution_count": 313,
   "metadata": {
    "scrolled": true
   },
   "outputs": [
    {
     "name": "stdout",
     "output_type": "stream",
     "text": [
      "регион 1: 3996048877.47 руб.\n",
      "регион 2: 2485712051.97 руб.\n",
      "регион 3: 3321754396.24 руб.\n"
     ]
    }
   ],
   "source": [
    "INCOME_1 = round(TOTAL_VOL_1*BARREL_1000_PRICE - REGION_BUDGET, 2)\n",
    "INCOME_2 = round(TOTAL_VOL_2*BARREL_1000_PRICE - REGION_BUDGET, 2)\n",
    "INCOME_3 = round(TOTAL_VOL_3*BARREL_1000_PRICE - REGION_BUDGET, 2)\n",
    "print('регион 1:', INCOME_1, 'руб.')\n",
    "print('регион 2:', INCOME_2, 'руб.')\n",
    "print('регион 3:', INCOME_3, 'руб.')"
   ]
  },
  {
   "cell_type": "markdown",
   "metadata": {},
   "source": [
    "## Риски и прибыль для каждого региона"
   ]
  },
  {
   "cell_type": "markdown",
   "metadata": {},
   "source": [
    "### Применим технику Bootstrap с 1000 выборок, чтобы найти распределение прибыли"
   ]
  },
  {
   "cell_type": "markdown",
   "metadata": {},
   "source": [
    "Напишем функцию для подсчета прибыли 200 скважин с наибольшим запасом сырья в регионе:"
   ]
  },
  {
   "cell_type": "code",
   "execution_count": 314,
   "metadata": {},
   "outputs": [],
   "source": [
    "def revenue(target_valid, predicted_valid):\n",
    "    point_sorted = predicted_valid.sort_values(ascending=False)\n",
    "    selected = target_valid[point_sorted.index][:200]\n",
    "    return BARREL_1000_PRICE * selected.sum() - REGION_BUDGET"
   ]
  },
  {
   "cell_type": "markdown",
   "metadata": {},
   "source": [
    "Создадим объект RandomState() из модуля numpy.random. Этот объект передадим аргументу random_state чтобы в каждом новом вызове его состояние менялось на случайное. Так получим разные подвыборки:"
   ]
  },
  {
   "cell_type": "code",
   "execution_count": 315,
   "metadata": {},
   "outputs": [],
   "source": [
    "state = np.random.RandomState(12345)"
   ]
  },
  {
   "cell_type": "code",
   "execution_count": 316,
   "metadata": {},
   "outputs": [],
   "source": [
    "target_valid_1 = target_valid_1.reset_index(drop=True)\n",
    "target_valid_2 = target_valid_2.reset_index(drop=True)\n",
    "target_valid_3 = target_valid_3.reset_index(drop=True)"
   ]
  },
  {
   "cell_type": "markdown",
   "metadata": {},
   "source": [
    "Процедурой бутстреп создадим 1000 подвыборок, в каждой из подвыборок отберем 500 скважин и функцией revenue выполним подсчет прибыли 200 скважин с наибольшим запасом сырья "
   ]
  },
  {
   "cell_type": "code",
   "execution_count": 317,
   "metadata": {},
   "outputs": [],
   "source": [
    "values_1 = []\n",
    "values_2 = []\n",
    "values_3 = []\n",
    "for i in range(1000):    \n",
    "    target_subsample = target_valid_1.sample(n=500, replace=True, random_state=state)\n",
    "    predict_subsample = predicted_valid_1[target_subsample.index]\n",
    "    values_1.append(revenue(target_subsample, predict_subsample))\n",
    "\n",
    "    target_subsample = target_valid_2.sample(n=500, replace=True, random_state=state)\n",
    "    predict_subsample = predicted_valid_2[target_subsample.index]\n",
    "    values_2.append(revenue(target_subsample, predict_subsample))\n",
    "    \n",
    "    target_subsample = target_valid_3.sample(n=500, replace=True, random_state=state)\n",
    "    predict_subsample = predicted_valid_3[target_subsample.index]\n",
    "    values_3.append(revenue(target_subsample, predict_subsample))"
   ]
  },
  {
   "cell_type": "markdown",
   "metadata": {},
   "source": [
    "### Найдем среднюю прибыль, 95%-й доверительный интервал и риск убытков"
   ]
  },
  {
   "cell_type": "markdown",
   "metadata": {},
   "source": [
    "Напишем функцию для поиска необходимых значений"
   ]
  },
  {
   "cell_type": "code",
   "execution_count": 318,
   "metadata": {},
   "outputs": [],
   "source": [
    "def calc_mean_quant(values):\n",
    "    values = pd.Series(values)\n",
    "    values = values.reset_index()\n",
    "    values.columns = ['index', 'revenue']\n",
    "    mean = round(values.revenue.mean(), 2)\n",
    "    lower = round(values.revenue.quantile(0.025), 2)\n",
    "    upper = round(values.revenue.quantile(0.975), 2)\n",
    "    #risk = 100 * values.query('revenue < 0').count() / values.count() \n",
    "    risk = 100 * (values < 0).mean()\n",
    "    print(\"Средняя прибыль:\", mean)\n",
    "    print(\"Нижняя граница интервала:\", lower)\n",
    "    print(\"Верхняя граница интервала:\", upper)\n",
    "    print(\"Риск убытков:\", risk.revenue, \"%\")\n",
    "    \n",
    "    return values"
   ]
  },
  {
   "cell_type": "markdown",
   "metadata": {},
   "source": [
    "Регион 1"
   ]
  },
  {
   "cell_type": "code",
   "execution_count": 319,
   "metadata": {},
   "outputs": [
    {
     "name": "stdout",
     "output_type": "stream",
     "text": [
      "Средняя прибыль: 414736268.61\n",
      "Нижняя граница интервала: -123528116.45\n",
      "Верхняя граница интервала: 968562865.5\n",
      "Риск убытков: 7.000000000000001 %\n"
     ]
    }
   ],
   "source": [
    "values_1 = calc_mean_quant(values_1)"
   ]
  },
  {
   "cell_type": "markdown",
   "metadata": {},
   "source": [
    "Посмотрим на распределение прибыли в регионе"
   ]
  },
  {
   "cell_type": "code",
   "execution_count": 320,
   "metadata": {},
   "outputs": [
    {
     "data": {
      "image/png": "[encoded data removed]",
      "text/plain": [
       "<Figure size 648x432 with 1 Axes>"
      ]
     },
     "metadata": {
      "needs_background": "light"
     },
     "output_type": "display_data"
    }
   ],
   "source": [
    "ax = values_1.plot(\n",
    "    kind='hist',\n",
    "    y='revenue',\n",
    "    bins=50,\n",
    "    label='Гистограмма прибыли',\n",
    "    grid=True,\n",
    "    legend=True,\n",
    "    figsize=(9,6)\n",
    ")\n",
    "\n",
    "#Добавляем подписи к осям:\n",
    "ax.set_xlabel('Прибыль, руб')\n",
    "ax.set_ylabel('Частота, объектов')\n",
    "plt.show()"
   ]
  },
  {
   "cell_type": "markdown",
   "metadata": {},
   "source": [
    "Регион 2"
   ]
  },
  {
   "cell_type": "code",
   "execution_count": 321,
   "metadata": {},
   "outputs": [
    {
     "name": "stdout",
     "output_type": "stream",
     "text": [
      "Средняя прибыль: 513172169.34\n",
      "Нижняя граница интервала: 85329746.23\n",
      "Верхняя граница интервала: 940106288.3\n",
      "Риск убытков: 0.8999999999999999 %\n"
     ]
    }
   ],
   "source": [
    "values_2 = calc_mean_quant(values_2)"
   ]
  },
  {
   "cell_type": "markdown",
   "metadata": {},
   "source": [
    "Посмотрим на распределение прибыли в регионе"
   ]
  },
  {
   "cell_type": "code",
   "execution_count": 322,
   "metadata": {},
   "outputs": [
    {
     "data": {
      "image/png": "[encoded data removed]",
      "text/plain": [
       "<Figure size 648x432 with 1 Axes>"
      ]
     },
     "metadata": {
      "needs_background": "light"
     },
     "output_type": "display_data"
    }
   ],
   "source": [
    "ax = values_2.plot(\n",
    "    kind='hist',\n",
    "    y='revenue',\n",
    "    bins=50,\n",
    "    label='Гистограмма прибыли',\n",
    "    grid=True,\n",
    "    legend=True,\n",
    "    figsize=(9,6)\n",
    ")\n",
    "\n",
    "#Добавляем подписи к осям:\n",
    "ax.set_xlabel('Прибыль, руб')\n",
    "ax.set_ylabel('Частота, объектов')\n",
    "plt.show()"
   ]
  },
  {
   "cell_type": "markdown",
   "metadata": {},
   "source": [
    "Регион 3"
   ]
  },
  {
   "cell_type": "code",
   "execution_count": 323,
   "metadata": {},
   "outputs": [
    {
     "name": "stdout",
     "output_type": "stream",
     "text": [
      "Средняя прибыль: 410198401.27\n",
      "Нижняя граница интервала: -140423727.25\n",
      "Верхняя граница интервала: 967716156.98\n",
      "Риск убытков: 8.5 %\n"
     ]
    }
   ],
   "source": [
    "values_3 = calc_mean_quant(values_3)"
   ]
  },
  {
   "cell_type": "markdown",
   "metadata": {},
   "source": [
    "Посмотрим на распределение прибыли в регионе"
   ]
  },
  {
   "cell_type": "code",
   "execution_count": 324,
   "metadata": {
    "scrolled": false
   },
   "outputs": [
    {
     "data": {
      "image/png": "[encoded data removed]",
      "text/plain": [
       "<Figure size 648x432 with 1 Axes>"
      ]
     },
     "metadata": {
      "needs_background": "light"
     },
     "output_type": "display_data"
    }
   ],
   "source": [
    "ax = values_3.plot(\n",
    "    kind='hist',\n",
    "    y='revenue',\n",
    "    bins=50,\n",
    "    label='Гистограмма прибыли',\n",
    "    grid=True,\n",
    "    legend=True,\n",
    "    figsize=(9,6)\n",
    ")\n",
    "\n",
    "#Добавляем подписи к осям:\n",
    "ax.set_xlabel('Прибыль, руб')\n",
    "ax.set_ylabel('Частота, объектов')\n",
    "plt.show()"
   ]
  },
  {
   "cell_type": "markdown",
   "metadata": {},
   "source": [
    "### Вывод"
   ]
  },
  {
   "cell_type": "markdown",
   "metadata": {},
   "source": [
    "На основании предоставленных проб нефти в трёх регионах построили модель для определения региона, с наибольшей прибылью. Наиболее подходящий регион для разработки под номером 2. Оценили среднюю прибыль. Нашли 95%-й доверительный интервал. Вероятность убытков 0,9%. По требованию отбора региона с риском менее 2.5% регион подходит."
   ]
  }
 ],
 "metadata": {
  "ExecuteTimeLog": [
   {
    "duration": 1729,
    "start_time": "2021-08-25T08:22:38.977Z"
   },
   {
    "duration": 4,
    "start_time": "2021-08-25T08:23:12.644Z"
   },
   {
    "duration": 4,
    "start_time": "2021-08-25T08:23:16.960Z"
   },
   {
    "duration": 6,
    "start_time": "2021-08-25T08:23:32.916Z"
   },
   {
    "duration": 145,
    "start_time": "2021-08-25T08:26:41.967Z"
   },
   {
    "duration": 815,
    "start_time": "2021-08-25T08:27:05.748Z"
   },
   {
    "duration": 582,
    "start_time": "2021-08-25T08:27:20.555Z"
   },
   {
    "duration": 627,
    "start_time": "2021-08-25T08:27:42.111Z"
   },
   {
    "duration": 1235,
    "start_time": "2021-08-25T08:27:50.687Z"
   },
   {
    "duration": 517,
    "start_time": "2021-08-25T08:27:58.287Z"
   },
   {
    "duration": 431,
    "start_time": "2021-08-25T08:28:33.026Z"
   },
   {
    "duration": 396,
    "start_time": "2021-08-25T08:28:42.956Z"
   },
   {
    "duration": 413,
    "start_time": "2021-08-25T08:29:12.135Z"
   },
   {
    "duration": 7,
    "start_time": "2021-08-25T08:33:18.055Z"
   },
   {
    "duration": 7,
    "start_time": "2021-08-25T08:35:32.458Z"
   },
   {
    "duration": 7,
    "start_time": "2021-08-25T08:39:19.269Z"
   },
   {
    "duration": 7,
    "start_time": "2021-08-25T08:39:39.774Z"
   },
   {
    "duration": 33,
    "start_time": "2021-08-25T08:40:15.795Z"
   },
   {
    "duration": 30,
    "start_time": "2021-08-25T08:40:24.714Z"
   },
   {
    "duration": 32,
    "start_time": "2021-08-25T08:40:34.078Z"
   },
   {
    "duration": 5,
    "start_time": "2021-08-25T10:02:26.692Z"
   },
   {
    "duration": 6,
    "start_time": "2021-08-25T10:02:47.980Z"
   },
   {
    "duration": 5,
    "start_time": "2021-08-25T10:03:27.603Z"
   },
   {
    "duration": 6,
    "start_time": "2021-08-25T10:05:22.780Z"
   },
   {
    "duration": 7,
    "start_time": "2021-08-25T10:07:59.924Z"
   },
   {
    "duration": 4641,
    "start_time": "2021-08-25T10:08:28.872Z"
   },
   {
    "duration": 535,
    "start_time": "2021-08-25T10:09:42.416Z"
   },
   {
    "duration": 7,
    "start_time": "2021-08-25T10:10:20.601Z"
   },
   {
    "duration": 3,
    "start_time": "2021-08-25T10:12:27.668Z"
   },
   {
    "duration": 14,
    "start_time": "2021-08-25T10:12:54.524Z"
   },
   {
    "duration": 7,
    "start_time": "2021-08-25T10:13:06.935Z"
   },
   {
    "duration": 8,
    "start_time": "2021-08-25T10:13:09.620Z"
   },
   {
    "duration": 13,
    "start_time": "2021-08-25T10:13:14.029Z"
   },
   {
    "duration": 8,
    "start_time": "2021-08-25T10:13:24.478Z"
   },
   {
    "duration": 395,
    "start_time": "2021-08-25T10:13:26.511Z"
   },
   {
    "duration": 375,
    "start_time": "2021-08-25T10:13:31.117Z"
   },
   {
    "duration": 37,
    "start_time": "2021-08-25T10:13:35.142Z"
   },
   {
    "duration": 14,
    "start_time": "2021-08-25T10:13:39.600Z"
   },
   {
    "duration": 11090,
    "start_time": "2021-08-25T10:13:48.892Z"
   },
   {
    "duration": 14567,
    "start_time": "2021-08-25T10:14:08.028Z"
   },
   {
    "duration": 13,
    "start_time": "2021-08-25T10:15:38.314Z"
   },
   {
    "duration": 475,
    "start_time": "2021-08-25T10:15:57.120Z"
   },
   {
    "duration": 385,
    "start_time": "2021-08-25T10:16:01.595Z"
   },
   {
    "duration": 4,
    "start_time": "2021-08-25T10:16:07.204Z"
   },
   {
    "duration": 14,
    "start_time": "2021-08-25T10:16:12.120Z"
   },
   {
    "duration": 7,
    "start_time": "2021-08-25T10:16:18.734Z"
   },
   {
    "duration": 19,
    "start_time": "2021-08-25T10:17:16.116Z"
   },
   {
    "duration": 21,
    "start_time": "2021-08-25T10:17:51.502Z"
   },
   {
    "duration": 22,
    "start_time": "2021-08-25T10:17:57.332Z"
   },
   {
    "duration": 20,
    "start_time": "2021-08-25T10:19:08.335Z"
   },
   {
    "duration": 13,
    "start_time": "2021-08-25T10:19:20.775Z"
   },
   {
    "duration": 12,
    "start_time": "2021-08-25T10:19:23.709Z"
   },
   {
    "duration": 7,
    "start_time": "2021-08-25T10:20:50.381Z"
   },
   {
    "duration": 1891,
    "start_time": "2021-08-25T10:20:53.256Z"
   },
   {
    "duration": 6,
    "start_time": "2021-08-25T10:21:04.083Z"
   },
   {
    "duration": 40,
    "start_time": "2021-08-25T10:21:06.073Z"
   },
   {
    "duration": 32,
    "start_time": "2021-08-25T10:21:07.720Z"
   },
   {
    "duration": 31,
    "start_time": "2021-08-25T10:21:07.957Z"
   },
   {
    "duration": 1266,
    "start_time": "2021-08-25T10:21:30.194Z"
   },
   {
    "duration": 6,
    "start_time": "2021-08-25T10:21:37.114Z"
   },
   {
    "duration": 13,
    "start_time": "2021-08-25T10:21:40.654Z"
   },
   {
    "duration": 20,
    "start_time": "2021-08-25T10:21:41.613Z"
   },
   {
    "duration": 6,
    "start_time": "2021-08-25T10:44:45.288Z"
   },
   {
    "duration": 30,
    "start_time": "2021-08-25T10:44:46.305Z"
   },
   {
    "duration": 32,
    "start_time": "2021-08-25T10:44:48.451Z"
   },
   {
    "duration": 32,
    "start_time": "2021-08-25T10:44:48.670Z"
   },
   {
    "duration": 6,
    "start_time": "2021-08-25T10:48:08.939Z"
   },
   {
    "duration": 4,
    "start_time": "2021-08-25T10:49:24.679Z"
   },
   {
    "duration": 6,
    "start_time": "2021-08-25T10:49:29.986Z"
   },
   {
    "duration": 357,
    "start_time": "2021-08-25T10:50:59.180Z"
   },
   {
    "duration": 151,
    "start_time": "2021-08-25T10:51:02.131Z"
   },
   {
    "duration": 517,
    "start_time": "2021-08-25T10:51:03.105Z"
   },
   {
    "duration": 4,
    "start_time": "2021-08-25T10:51:08.379Z"
   },
   {
    "duration": 954,
    "start_time": "2021-08-25T10:51:08.680Z"
   },
   {
    "duration": 4,
    "start_time": "2021-08-25T10:51:49.140Z"
   },
   {
    "duration": 24,
    "start_time": "2021-08-25T10:51:49.811Z"
   },
   {
    "duration": 13,
    "start_time": "2021-08-25T10:52:14.171Z"
   },
   {
    "duration": 22,
    "start_time": "2021-08-25T10:52:18.263Z"
   },
   {
    "duration": 32,
    "start_time": "2021-08-25T10:52:30.559Z"
   },
   {
    "duration": 11,
    "start_time": "2021-08-25T10:52:54.051Z"
   },
   {
    "duration": 20,
    "start_time": "2021-08-25T10:53:12.303Z"
   },
   {
    "duration": 7,
    "start_time": "2021-08-25T10:54:12.569Z"
   },
   {
    "duration": 6,
    "start_time": "2021-08-25T10:54:23.699Z"
   },
   {
    "duration": 8,
    "start_time": "2021-08-25T10:54:29.249Z"
   },
   {
    "duration": 3,
    "start_time": "2021-08-25T10:56:09.950Z"
   },
   {
    "duration": 3,
    "start_time": "2021-08-25T10:56:19.379Z"
   },
   {
    "duration": 6,
    "start_time": "2021-08-25T10:56:24.672Z"
   },
   {
    "duration": 5,
    "start_time": "2021-08-25T10:57:08.331Z"
   },
   {
    "duration": 5,
    "start_time": "2021-08-25T10:57:25.268Z"
   },
   {
    "duration": 5,
    "start_time": "2021-08-25T10:57:35.149Z"
   },
   {
    "duration": 5,
    "start_time": "2021-08-25T10:58:00.303Z"
   },
   {
    "duration": 5,
    "start_time": "2021-08-25T10:58:00.668Z"
   },
   {
    "duration": 6,
    "start_time": "2021-08-25T10:58:34.340Z"
   },
   {
    "duration": 6,
    "start_time": "2021-08-25T10:58:34.568Z"
   },
   {
    "duration": 5,
    "start_time": "2021-08-25T10:58:34.889Z"
   },
   {
    "duration": 5,
    "start_time": "2021-08-25T10:58:42.928Z"
   },
   {
    "duration": 6,
    "start_time": "2021-08-25T10:58:43.287Z"
   },
   {
    "duration": 5,
    "start_time": "2021-08-25T10:58:43.570Z"
   },
   {
    "duration": 7,
    "start_time": "2021-08-25T11:00:22.040Z"
   },
   {
    "duration": 215,
    "start_time": "2021-08-28T11:17:29.503Z"
   },
   {
    "duration": 1081,
    "start_time": "2021-08-28T11:17:34.217Z"
   },
   {
    "duration": 3,
    "start_time": "2021-08-28T11:17:35.300Z"
   },
   {
    "duration": 6,
    "start_time": "2021-08-28T11:17:35.305Z"
   },
   {
    "duration": 514,
    "start_time": "2021-08-28T11:17:35.314Z"
   },
   {
    "duration": 457,
    "start_time": "2021-08-28T11:17:35.830Z"
   },
   {
    "duration": 371,
    "start_time": "2021-08-28T11:17:36.289Z"
   },
   {
    "duration": 328,
    "start_time": "2021-08-28T11:17:36.662Z"
   },
   {
    "duration": 293,
    "start_time": "2021-08-28T11:17:36.992Z"
   },
   {
    "duration": 301,
    "start_time": "2021-08-28T11:17:37.287Z"
   },
   {
    "duration": 5,
    "start_time": "2021-08-28T11:17:37.590Z"
   },
   {
    "duration": 29,
    "start_time": "2021-08-28T11:17:37.597Z"
   },
   {
    "duration": 112,
    "start_time": "2021-08-28T11:17:37.687Z"
   },
   {
    "duration": 197,
    "start_time": "2021-08-28T11:17:37.801Z"
   },
   {
    "duration": 86,
    "start_time": "2021-08-28T11:17:38.000Z"
   },
   {
    "duration": 6,
    "start_time": "2021-08-28T11:17:38.088Z"
   },
   {
    "duration": 5,
    "start_time": "2021-08-28T11:17:38.185Z"
   },
   {
    "duration": 5,
    "start_time": "2021-08-28T11:17:38.192Z"
   },
   {
    "duration": 22,
    "start_time": "2021-08-28T11:17:38.198Z"
   },
   {
    "duration": 14,
    "start_time": "2021-08-28T11:17:38.222Z"
   },
   {
    "duration": 4,
    "start_time": "2021-08-28T11:17:38.237Z"
   },
   {
    "duration": 5,
    "start_time": "2021-08-28T11:17:38.242Z"
   },
   {
    "duration": 38,
    "start_time": "2021-08-28T11:17:38.249Z"
   },
   {
    "duration": 7,
    "start_time": "2021-08-28T11:17:38.289Z"
   },
   {
    "duration": 3,
    "start_time": "2021-08-28T11:17:46.855Z"
   },
   {
    "duration": 322,
    "start_time": "2021-08-28T11:25:06.632Z"
   },
   {
    "duration": 6,
    "start_time": "2021-08-28T11:25:14.591Z"
   },
   {
    "duration": 23,
    "start_time": "2021-08-28T11:25:15.389Z"
   },
   {
    "duration": 23,
    "start_time": "2021-08-28T11:25:17.733Z"
   },
   {
    "duration": 38,
    "start_time": "2021-08-28T11:25:18.269Z"
   },
   {
    "duration": 3,
    "start_time": "2021-08-28T11:29:01.166Z"
   },
   {
    "duration": 4,
    "start_time": "2021-08-28T11:29:01.950Z"
   },
   {
    "duration": 202,
    "start_time": "2021-08-28T11:29:02.613Z"
   },
   {
    "duration": 349,
    "start_time": "2021-08-28T11:30:42.977Z"
   },
   {
    "duration": 3,
    "start_time": "2021-08-28T11:31:04.233Z"
   },
   {
    "duration": 4093,
    "start_time": "2021-08-28T11:31:04.948Z"
   },
   {
    "duration": 14,
    "start_time": "2021-08-28T11:31:12.850Z"
   },
   {
    "duration": 5,
    "start_time": "2021-08-28T11:31:35.926Z"
   },
   {
    "duration": 9,
    "start_time": "2021-08-28T11:31:49.700Z"
   },
   {
    "duration": 9,
    "start_time": "2021-08-28T11:31:59.165Z"
   },
   {
    "duration": 187,
    "start_time": "2021-08-28T11:32:11.323Z"
   },
   {
    "duration": 9,
    "start_time": "2021-08-28T11:32:14.933Z"
   },
   {
    "duration": 8,
    "start_time": "2021-08-28T11:32:23.518Z"
   },
   {
    "duration": 8,
    "start_time": "2021-08-28T11:32:28.236Z"
   },
   {
    "duration": 9,
    "start_time": "2021-08-28T11:32:36.621Z"
   },
   {
    "duration": 10,
    "start_time": "2021-08-28T11:32:51.417Z"
   },
   {
    "duration": 3,
    "start_time": "2021-08-28T11:33:57.343Z"
   },
   {
    "duration": 4127,
    "start_time": "2021-08-28T11:34:01.372Z"
   },
   {
    "duration": 15,
    "start_time": "2021-08-28T11:34:05.501Z"
   },
   {
    "duration": 9,
    "start_time": "2021-08-28T11:34:54.581Z"
   },
   {
    "duration": 9,
    "start_time": "2021-08-28T11:35:00.818Z"
   },
   {
    "duration": 187,
    "start_time": "2021-08-28T11:35:06.364Z"
   },
   {
    "duration": 8,
    "start_time": "2021-08-28T11:35:15.998Z"
   },
   {
    "duration": 7,
    "start_time": "2021-08-28T11:35:18.634Z"
   },
   {
    "duration": 8,
    "start_time": "2021-08-28T11:35:41.776Z"
   },
   {
    "duration": 3,
    "start_time": "2021-08-28T11:39:10.625Z"
   },
   {
    "duration": 9,
    "start_time": "2021-08-28T11:39:18.611Z"
   },
   {
    "duration": 4123,
    "start_time": "2021-08-28T11:39:33.269Z"
   },
   {
    "duration": 14,
    "start_time": "2021-08-28T11:39:37.393Z"
   },
   {
    "duration": 3,
    "start_time": "2021-08-28T11:44:35.570Z"
   },
   {
    "duration": 4355,
    "start_time": "2021-08-28T11:45:38.362Z"
   },
   {
    "duration": 941,
    "start_time": "2021-08-28T11:45:42.719Z"
   },
   {
    "duration": 1565,
    "start_time": "2021-08-28T11:46:25.218Z"
   },
   {
    "duration": 5,
    "start_time": "2021-08-28T11:46:34.725Z"
   },
   {
    "duration": 5,
    "start_time": "2021-08-28T11:46:53.384Z"
   },
   {
    "duration": 5,
    "start_time": "2021-08-28T11:52:38.115Z"
   },
   {
    "duration": 1442,
    "start_time": "2021-08-28T11:53:21.428Z"
   },
   {
    "duration": 4,
    "start_time": "2021-08-28T11:53:24.250Z"
   },
   {
    "duration": 2421,
    "start_time": "2021-08-28T11:53:50.480Z"
   },
   {
    "duration": 1412,
    "start_time": "2021-08-28T11:54:05.211Z"
   },
   {
    "duration": 3,
    "start_time": "2021-08-28T11:58:40.225Z"
   },
   {
    "duration": 10,
    "start_time": "2021-08-28T11:58:40.888Z"
   },
   {
    "duration": 4052,
    "start_time": "2021-08-28T11:58:41.773Z"
   },
   {
    "duration": 16,
    "start_time": "2021-08-28T11:58:45.827Z"
   },
   {
    "duration": 4,
    "start_time": "2021-08-28T11:59:07.761Z"
   },
   {
    "duration": 9,
    "start_time": "2021-08-28T11:59:08.656Z"
   },
   {
    "duration": 1016,
    "start_time": "2021-08-28T11:59:10.208Z"
   },
   {
    "duration": 16,
    "start_time": "2021-08-28T11:59:12.250Z"
   },
   {
    "duration": 17,
    "start_time": "2021-08-28T11:59:51.580Z"
   },
   {
    "duration": 3,
    "start_time": "2021-08-28T11:59:52.156Z"
   },
   {
    "duration": 19,
    "start_time": "2021-08-28T12:00:09.022Z"
   },
   {
    "duration": 3,
    "start_time": "2021-08-28T12:00:10.088Z"
   },
   {
    "duration": 1359,
    "start_time": "2021-08-28T12:00:16.026Z"
   },
   {
    "duration": 16,
    "start_time": "2021-08-28T12:00:18.108Z"
   },
   {
    "duration": 3,
    "start_time": "2021-08-28T12:01:49.442Z"
   },
   {
    "duration": 3,
    "start_time": "2021-08-28T12:01:49.855Z"
   },
   {
    "duration": 9,
    "start_time": "2021-08-28T12:01:50.968Z"
   },
   {
    "duration": 1364,
    "start_time": "2021-08-28T12:01:52.588Z"
   },
   {
    "duration": 15,
    "start_time": "2021-08-28T12:01:53.953Z"
   },
   {
    "duration": 7002,
    "start_time": "2021-08-28T12:02:05.628Z"
   },
   {
    "duration": 14,
    "start_time": "2021-08-28T12:02:12.632Z"
   },
   {
    "duration": 6,
    "start_time": "2021-08-28T12:02:29.193Z"
   },
   {
    "duration": 2076,
    "start_time": "2021-08-28T12:05:09.445Z"
   },
   {
    "duration": 14,
    "start_time": "2021-08-28T12:05:11.523Z"
   },
   {
    "duration": 2042,
    "start_time": "2021-08-28T12:05:25.043Z"
   },
   {
    "duration": 15,
    "start_time": "2021-08-28T12:05:29.733Z"
   },
   {
    "duration": 6,
    "start_time": "2021-08-28T12:05:33.823Z"
   },
   {
    "duration": 1438,
    "start_time": "2021-08-28T20:29:02.093Z"
   },
   {
    "duration": 3,
    "start_time": "2021-08-28T20:29:03.534Z"
   },
   {
    "duration": 7,
    "start_time": "2021-08-28T20:29:03.540Z"
   },
   {
    "duration": 457,
    "start_time": "2021-08-28T20:29:03.549Z"
   },
   {
    "duration": 454,
    "start_time": "2021-08-28T20:29:04.008Z"
   },
   {
    "duration": 475,
    "start_time": "2021-08-28T20:29:04.464Z"
   },
   {
    "duration": 427,
    "start_time": "2021-08-28T20:29:04.941Z"
   },
   {
    "duration": 414,
    "start_time": "2021-08-28T20:29:05.371Z"
   },
   {
    "duration": 389,
    "start_time": "2021-08-28T20:29:05.788Z"
   },
   {
    "duration": 7,
    "start_time": "2021-08-28T20:29:06.179Z"
   },
   {
    "duration": 96,
    "start_time": "2021-08-28T20:29:06.189Z"
   },
   {
    "duration": 122,
    "start_time": "2021-08-28T20:29:06.288Z"
   },
   {
    "duration": 120,
    "start_time": "2021-08-28T20:29:06.488Z"
   },
   {
    "duration": 10,
    "start_time": "2021-08-28T20:29:06.684Z"
   },
   {
    "duration": 8,
    "start_time": "2021-08-28T20:29:06.784Z"
   },
   {
    "duration": 13,
    "start_time": "2021-08-28T20:29:06.794Z"
   },
   {
    "duration": 6,
    "start_time": "2021-08-28T20:29:06.809Z"
   },
   {
    "duration": 64,
    "start_time": "2021-08-28T20:29:06.818Z"
   },
   {
    "duration": 21,
    "start_time": "2021-08-28T20:29:06.884Z"
   },
   {
    "duration": 5,
    "start_time": "2021-08-28T20:29:06.908Z"
   },
   {
    "duration": 6,
    "start_time": "2021-08-28T20:29:06.916Z"
   },
   {
    "duration": 13,
    "start_time": "2021-08-28T20:29:06.925Z"
   },
   {
    "duration": 43,
    "start_time": "2021-08-28T20:29:06.943Z"
   },
   {
    "duration": 13,
    "start_time": "2021-08-28T20:29:06.989Z"
   },
   {
    "duration": 3,
    "start_time": "2021-08-28T20:29:07.005Z"
   },
   {
    "duration": 6,
    "start_time": "2021-08-28T20:29:07.010Z"
   },
   {
    "duration": 18,
    "start_time": "2021-08-28T20:29:07.019Z"
   },
   {
    "duration": 3346,
    "start_time": "2021-08-28T20:29:07.039Z"
   },
   {
    "duration": 24,
    "start_time": "2021-08-28T20:29:10.387Z"
   },
   {
    "duration": 20,
    "start_time": "2021-08-28T20:29:10.413Z"
   },
   {
    "duration": 365,
    "start_time": "2021-08-28T20:29:10.435Z"
   },
   {
    "duration": -85,
    "start_time": "2021-08-28T20:29:10.887Z"
   },
   {
    "duration": -87,
    "start_time": "2021-08-28T20:29:10.890Z"
   },
   {
    "duration": 251,
    "start_time": "2021-08-28T20:44:14.586Z"
   },
   {
    "duration": 4972,
    "start_time": "2021-08-28T20:44:23.637Z"
   },
   {
    "duration": 5004,
    "start_time": "2021-08-28T20:44:44.937Z"
   },
   {
    "duration": 4992,
    "start_time": "2021-08-28T20:45:16.571Z"
   },
   {
    "duration": 3340,
    "start_time": "2021-08-28T20:46:08.637Z"
   },
   {
    "duration": 3472,
    "start_time": "2021-08-28T20:53:25.098Z"
   },
   {
    "duration": 8,
    "start_time": "2021-08-28T21:23:15.930Z"
   },
   {
    "duration": 291,
    "start_time": "2021-08-28T21:23:51.988Z"
   },
   {
    "duration": 267,
    "start_time": "2021-08-28T21:23:55.921Z"
   },
   {
    "duration": 387,
    "start_time": "2021-08-28T21:26:06.728Z"
   },
   {
    "duration": 324,
    "start_time": "2021-08-28T21:26:18.799Z"
   },
   {
    "duration": 341,
    "start_time": "2021-08-28T21:26:49.423Z"
   },
   {
    "duration": 490,
    "start_time": "2021-08-28T21:27:11.210Z"
   },
   {
    "duration": 506,
    "start_time": "2021-08-28T21:27:24.155Z"
   },
   {
    "duration": 690,
    "start_time": "2021-08-28T21:27:29.434Z"
   },
   {
    "duration": 4196,
    "start_time": "2021-08-28T21:27:36.731Z"
   },
   {
    "duration": 1314,
    "start_time": "2021-08-28T21:27:45.401Z"
   },
   {
    "duration": 712,
    "start_time": "2021-08-28T21:27:50.674Z"
   },
   {
    "duration": 502,
    "start_time": "2021-08-28T21:27:56.355Z"
   },
   {
    "duration": 4063,
    "start_time": "2021-08-28T21:29:24.782Z"
   },
   {
    "duration": 285,
    "start_time": "2021-08-28T21:29:30.821Z"
   },
   {
    "duration": 9,
    "start_time": "2021-08-28T21:29:34.881Z"
   },
   {
    "duration": 857,
    "start_time": "2021-08-28T21:29:35.455Z"
   },
   {
    "duration": 94,
    "start_time": "2021-08-28T21:30:59.566Z"
   },
   {
    "duration": 4,
    "start_time": "2021-08-28T21:32:52.077Z"
   },
   {
    "duration": 7,
    "start_time": "2021-08-28T21:33:04.157Z"
   },
   {
    "duration": 4,
    "start_time": "2021-08-28T21:33:17.233Z"
   },
   {
    "duration": 10,
    "start_time": "2021-08-28T21:33:18.286Z"
   },
   {
    "duration": 5,
    "start_time": "2021-08-28T21:37:28.310Z"
   },
   {
    "duration": 8,
    "start_time": "2021-08-28T21:37:29.239Z"
   },
   {
    "duration": 5,
    "start_time": "2021-08-28T21:37:56.936Z"
   },
   {
    "duration": 8,
    "start_time": "2021-08-28T21:37:57.495Z"
   },
   {
    "duration": 6,
    "start_time": "2021-08-28T21:38:11.689Z"
   },
   {
    "duration": 9,
    "start_time": "2021-08-28T21:38:12.121Z"
   },
   {
    "duration": 83,
    "start_time": "2021-08-28T21:39:45.235Z"
   },
   {
    "duration": 11104,
    "start_time": "2021-08-28T21:42:04.809Z"
   },
   {
    "duration": 10904,
    "start_time": "2021-08-28T21:43:46.007Z"
   },
   {
    "duration": 10,
    "start_time": "2021-08-28T21:44:02.689Z"
   },
   {
    "duration": 341,
    "start_time": "2021-08-28T21:44:05.301Z"
   },
   {
    "duration": 5,
    "start_time": "2021-08-28T21:44:11.519Z"
   },
   {
    "duration": 10,
    "start_time": "2021-08-28T21:44:13.431Z"
   },
   {
    "duration": 267,
    "start_time": "2021-08-28T21:44:14.522Z"
   },
   {
    "duration": 9,
    "start_time": "2021-08-28T21:44:49.784Z"
   },
   {
    "duration": 6,
    "start_time": "2021-08-28T21:44:51.329Z"
   },
   {
    "duration": 8,
    "start_time": "2021-08-28T21:44:52.106Z"
   },
   {
    "duration": 508,
    "start_time": "2021-08-28T21:44:53.409Z"
   },
   {
    "duration": 9,
    "start_time": "2021-08-28T21:45:03.034Z"
   },
   {
    "duration": 478,
    "start_time": "2021-08-28T21:45:04.236Z"
   },
   {
    "duration": 9,
    "start_time": "2021-08-28T21:45:22.965Z"
   },
   {
    "duration": 506,
    "start_time": "2021-08-28T21:45:31.304Z"
   },
   {
    "duration": 482,
    "start_time": "2021-08-28T21:45:35.222Z"
   },
   {
    "duration": 10,
    "start_time": "2021-08-28T21:46:19.953Z"
   },
   {
    "duration": 581,
    "start_time": "2021-08-28T21:46:20.711Z"
   },
   {
    "duration": 8,
    "start_time": "2021-08-28T21:57:36.568Z"
   },
   {
    "duration": 10,
    "start_time": "2021-08-28T21:57:59.938Z"
   },
   {
    "duration": 11,
    "start_time": "2021-08-28T21:58:19.779Z"
   },
   {
    "duration": 10,
    "start_time": "2021-08-28T21:58:30.623Z"
   },
   {
    "duration": 8,
    "start_time": "2021-08-28T21:58:33.510Z"
   },
   {
    "duration": 8,
    "start_time": "2021-08-28T21:58:37.424Z"
   },
   {
    "duration": 7,
    "start_time": "2021-08-28T21:59:21.434Z"
   },
   {
    "duration": 5,
    "start_time": "2021-08-28T22:00:07.262Z"
   },
   {
    "duration": 259,
    "start_time": "2021-08-28T22:00:30.496Z"
   },
   {
    "duration": 5,
    "start_time": "2021-08-28T22:00:48.521Z"
   },
   {
    "duration": 280,
    "start_time": "2021-08-28T22:00:49.437Z"
   },
   {
    "duration": 6,
    "start_time": "2021-08-28T22:00:51.358Z"
   },
   {
    "duration": 13,
    "start_time": "2021-08-28T22:00:54.328Z"
   },
   {
    "duration": 8,
    "start_time": "2021-08-28T22:01:14.281Z"
   },
   {
    "duration": 6,
    "start_time": "2021-08-28T22:01:28.475Z"
   },
   {
    "duration": 495,
    "start_time": "2021-08-28T22:01:31.467Z"
   },
   {
    "duration": 5,
    "start_time": "2021-08-28T22:01:40.836Z"
   },
   {
    "duration": 519,
    "start_time": "2021-08-28T22:01:43.220Z"
   },
   {
    "duration": 6,
    "start_time": "2021-08-28T22:02:02.830Z"
   },
   {
    "duration": 570,
    "start_time": "2021-08-28T22:02:04.732Z"
   },
   {
    "duration": 4,
    "start_time": "2021-08-28T22:04:00.975Z"
   },
   {
    "duration": 541,
    "start_time": "2021-08-28T22:04:03.489Z"
   },
   {
    "duration": 5,
    "start_time": "2021-08-28T22:04:21.007Z"
   },
   {
    "duration": 561,
    "start_time": "2021-08-28T22:04:23.450Z"
   },
   {
    "duration": 11295,
    "start_time": "2021-08-28T22:04:40.409Z"
   },
   {
    "duration": 11,
    "start_time": "2021-08-28T22:04:54.886Z"
   },
   {
    "duration": 10,
    "start_time": "2021-08-28T22:04:56.690Z"
   },
   {
    "duration": 6,
    "start_time": "2021-08-28T22:05:07.130Z"
   },
   {
    "duration": 11,
    "start_time": "2021-08-28T22:05:08.697Z"
   },
   {
    "duration": 6,
    "start_time": "2021-08-28T22:05:22.523Z"
   },
   {
    "duration": 6,
    "start_time": "2021-08-28T22:05:26.077Z"
   },
   {
    "duration": 18,
    "start_time": "2021-08-28T22:05:27.102Z"
   },
   {
    "duration": 6,
    "start_time": "2021-08-28T22:06:05.978Z"
   },
   {
    "duration": 594,
    "start_time": "2021-08-28T22:06:12.310Z"
   },
   {
    "duration": 10986,
    "start_time": "2021-08-28T22:06:19.672Z"
   },
   {
    "duration": 8,
    "start_time": "2021-08-28T22:06:32.780Z"
   },
   {
    "duration": 23,
    "start_time": "2021-08-28T22:06:34.691Z"
   },
   {
    "duration": 6,
    "start_time": "2021-08-28T22:07:04.891Z"
   },
   {
    "duration": 510,
    "start_time": "2021-08-28T22:07:06.213Z"
   },
   {
    "duration": 11171,
    "start_time": "2021-08-28T22:07:11.270Z"
   },
   {
    "duration": 6,
    "start_time": "2021-08-28T22:07:23.312Z"
   },
   {
    "duration": 16,
    "start_time": "2021-08-28T22:07:26.546Z"
   },
   {
    "duration": 6,
    "start_time": "2021-08-28T22:10:48.761Z"
   },
   {
    "duration": 562,
    "start_time": "2021-08-28T22:10:50.961Z"
   },
   {
    "duration": 11206,
    "start_time": "2021-08-28T22:10:53.854Z"
   },
   {
    "duration": 18,
    "start_time": "2021-08-28T22:11:07.941Z"
   },
   {
    "duration": 1084,
    "start_time": "2021-08-28T22:11:35.941Z"
   },
   {
    "duration": 518,
    "start_time": "2021-08-28T22:11:52.781Z"
   },
   {
    "duration": 21,
    "start_time": "2021-08-28T22:12:09.487Z"
   },
   {
    "duration": 298,
    "start_time": "2021-08-28T22:12:21.132Z"
   },
   {
    "duration": 290,
    "start_time": "2021-08-28T22:12:27.110Z"
   },
   {
    "duration": 17,
    "start_time": "2021-08-28T22:12:36.107Z"
   },
   {
    "duration": 533,
    "start_time": "2021-08-28T22:12:37.328Z"
   },
   {
    "duration": 10,
    "start_time": "2021-08-28T22:12:58.683Z"
   },
   {
    "duration": 538,
    "start_time": "2021-08-28T22:13:00.949Z"
   },
   {
    "duration": 11478,
    "start_time": "2021-08-28T22:13:04.369Z"
   },
   {
    "duration": 10,
    "start_time": "2021-08-28T22:13:16.596Z"
   },
   {
    "duration": 16,
    "start_time": "2021-08-28T22:13:19.326Z"
   },
   {
    "duration": 646,
    "start_time": "2021-08-28T22:13:24.416Z"
   },
   {
    "duration": 11495,
    "start_time": "2021-08-28T22:13:36.308Z"
   },
   {
    "duration": 7,
    "start_time": "2021-08-28T22:13:47.806Z"
   },
   {
    "duration": 25,
    "start_time": "2021-08-28T22:13:47.816Z"
   },
   {
    "duration": 528,
    "start_time": "2021-08-28T22:13:55.024Z"
   },
   {
    "duration": 21,
    "start_time": "2021-08-28T22:13:55.977Z"
   },
   {
    "duration": 626,
    "start_time": "2021-08-28T22:13:58.766Z"
   },
   {
    "duration": 21,
    "start_time": "2021-08-28T22:14:01.367Z"
   },
   {
    "duration": 814,
    "start_time": "2021-08-28T22:14:03.999Z"
   },
   {
    "duration": 1462,
    "start_time": "2021-08-28T22:23:50.823Z"
   },
   {
    "duration": 6,
    "start_time": "2021-08-28T22:23:52.288Z"
   },
   {
    "duration": 14,
    "start_time": "2021-08-28T22:23:52.298Z"
   },
   {
    "duration": 600,
    "start_time": "2021-08-28T22:23:52.315Z"
   },
   {
    "duration": 495,
    "start_time": "2021-08-28T22:23:52.917Z"
   },
   {
    "duration": 449,
    "start_time": "2021-08-28T22:23:53.415Z"
   },
   {
    "duration": 637,
    "start_time": "2021-08-28T22:23:53.867Z"
   },
   {
    "duration": 595,
    "start_time": "2021-08-28T22:23:54.508Z"
   },
   {
    "duration": 402,
    "start_time": "2021-08-28T22:23:55.106Z"
   },
   {
    "duration": 7,
    "start_time": "2021-08-28T22:23:55.510Z"
   },
   {
    "duration": 626,
    "start_time": "2021-08-28T22:23:55.519Z"
   },
   {
    "duration": -104,
    "start_time": "2021-08-28T22:23:56.252Z"
   },
   {
    "duration": -105,
    "start_time": "2021-08-28T22:23:56.255Z"
   },
   {
    "duration": -107,
    "start_time": "2021-08-28T22:23:56.258Z"
   },
   {
    "duration": -113,
    "start_time": "2021-08-28T22:23:56.266Z"
   },
   {
    "duration": -116,
    "start_time": "2021-08-28T22:23:56.271Z"
   },
   {
    "duration": -118,
    "start_time": "2021-08-28T22:23:56.274Z"
   },
   {
    "duration": -120,
    "start_time": "2021-08-28T22:23:56.277Z"
   },
   {
    "duration": -120,
    "start_time": "2021-08-28T22:23:56.279Z"
   },
   {
    "duration": -122,
    "start_time": "2021-08-28T22:23:56.283Z"
   },
   {
    "duration": -124,
    "start_time": "2021-08-28T22:23:56.286Z"
   },
   {
    "duration": -124,
    "start_time": "2021-08-28T22:23:56.288Z"
   },
   {
    "duration": -125,
    "start_time": "2021-08-28T22:23:56.290Z"
   },
   {
    "duration": -126,
    "start_time": "2021-08-28T22:23:56.292Z"
   },
   {
    "duration": -127,
    "start_time": "2021-08-28T22:23:56.295Z"
   },
   {
    "duration": -127,
    "start_time": "2021-08-28T22:23:56.297Z"
   },
   {
    "duration": -134,
    "start_time": "2021-08-28T22:23:56.305Z"
   },
   {
    "duration": -136,
    "start_time": "2021-08-28T22:23:56.308Z"
   },
   {
    "duration": -138,
    "start_time": "2021-08-28T22:23:56.311Z"
   },
   {
    "duration": -138,
    "start_time": "2021-08-28T22:23:56.313Z"
   },
   {
    "duration": -140,
    "start_time": "2021-08-28T22:23:56.316Z"
   },
   {
    "duration": -140,
    "start_time": "2021-08-28T22:23:56.318Z"
   },
   {
    "duration": -142,
    "start_time": "2021-08-28T22:23:56.321Z"
   },
   {
    "duration": 1494,
    "start_time": "2021-08-28T22:24:33.407Z"
   },
   {
    "duration": 3,
    "start_time": "2021-08-28T22:24:34.904Z"
   },
   {
    "duration": 10,
    "start_time": "2021-08-28T22:24:34.910Z"
   },
   {
    "duration": 416,
    "start_time": "2021-08-28T22:24:34.923Z"
   },
   {
    "duration": 430,
    "start_time": "2021-08-28T22:24:35.341Z"
   },
   {
    "duration": 375,
    "start_time": "2021-08-28T22:24:35.784Z"
   },
   {
    "duration": 417,
    "start_time": "2021-08-28T22:24:36.161Z"
   },
   {
    "duration": 393,
    "start_time": "2021-08-28T22:24:36.583Z"
   },
   {
    "duration": 391,
    "start_time": "2021-08-28T22:24:36.986Z"
   },
   {
    "duration": 14,
    "start_time": "2021-08-28T22:24:37.384Z"
   },
   {
    "duration": 91,
    "start_time": "2021-08-28T22:24:37.402Z"
   },
   {
    "duration": 116,
    "start_time": "2021-08-28T22:24:37.498Z"
   },
   {
    "duration": 127,
    "start_time": "2021-08-28T22:24:37.697Z"
   },
   {
    "duration": 9,
    "start_time": "2021-08-28T22:24:37.885Z"
   },
   {
    "duration": 8,
    "start_time": "2021-08-28T22:24:37.899Z"
   },
   {
    "duration": 9,
    "start_time": "2021-08-28T22:24:37.984Z"
   },
   {
    "duration": 5,
    "start_time": "2021-08-28T22:24:37.998Z"
   },
   {
    "duration": 32,
    "start_time": "2021-08-28T22:24:38.005Z"
   },
   {
    "duration": 63,
    "start_time": "2021-08-28T22:24:38.039Z"
   },
   {
    "duration": 6,
    "start_time": "2021-08-28T22:24:38.104Z"
   },
   {
    "duration": 13,
    "start_time": "2021-08-28T22:24:38.112Z"
   },
   {
    "duration": 14,
    "start_time": "2021-08-28T22:24:38.127Z"
   },
   {
    "duration": 41,
    "start_time": "2021-08-28T22:24:38.143Z"
   },
   {
    "duration": 5,
    "start_time": "2021-08-28T22:24:38.189Z"
   },
   {
    "duration": 5,
    "start_time": "2021-08-28T22:24:38.199Z"
   },
   {
    "duration": 11560,
    "start_time": "2021-08-28T22:24:38.206Z"
   },
   {
    "duration": 14,
    "start_time": "2021-08-28T22:24:49.770Z"
   },
   {
    "duration": 21,
    "start_time": "2021-08-28T22:24:49.788Z"
   },
   {
    "duration": 562,
    "start_time": "2021-08-28T22:24:49.812Z"
   },
   {
    "duration": 28,
    "start_time": "2021-08-28T22:24:50.376Z"
   },
   {
    "duration": 615,
    "start_time": "2021-08-28T22:24:50.407Z"
   },
   {
    "duration": 19,
    "start_time": "2021-08-28T22:24:51.026Z"
   },
   {
    "duration": 541,
    "start_time": "2021-08-28T22:24:51.047Z"
   },
   {
    "duration": 1510,
    "start_time": "2021-08-29T20:44:20.073Z"
   },
   {
    "duration": 5,
    "start_time": "2021-08-29T20:44:21.586Z"
   },
   {
    "duration": 8,
    "start_time": "2021-08-29T20:44:21.595Z"
   },
   {
    "duration": 474,
    "start_time": "2021-08-29T20:44:21.607Z"
   },
   {
    "duration": 657,
    "start_time": "2021-08-29T20:44:22.083Z"
   },
   {
    "duration": 462,
    "start_time": "2021-08-29T20:44:22.742Z"
   },
   {
    "duration": 440,
    "start_time": "2021-08-29T20:44:23.206Z"
   },
   {
    "duration": 394,
    "start_time": "2021-08-29T20:44:23.649Z"
   },
   {
    "duration": 401,
    "start_time": "2021-08-29T20:44:24.047Z"
   },
   {
    "duration": 14,
    "start_time": "2021-08-29T20:44:24.451Z"
   },
   {
    "duration": 93,
    "start_time": "2021-08-29T20:44:24.468Z"
   },
   {
    "duration": 125,
    "start_time": "2021-08-29T20:44:24.565Z"
   },
   {
    "duration": 197,
    "start_time": "2021-08-29T20:44:24.764Z"
   },
   {
    "duration": 93,
    "start_time": "2021-08-29T20:44:24.971Z"
   },
   {
    "duration": 14,
    "start_time": "2021-08-29T20:44:25.067Z"
   },
   {
    "duration": 9,
    "start_time": "2021-08-29T20:44:25.084Z"
   },
   {
    "duration": 10,
    "start_time": "2021-08-29T20:44:25.095Z"
   },
   {
    "duration": 58,
    "start_time": "2021-08-29T20:44:25.107Z"
   },
   {
    "duration": 22,
    "start_time": "2021-08-29T20:44:25.167Z"
   },
   {
    "duration": 6,
    "start_time": "2021-08-29T20:44:25.191Z"
   },
   {
    "duration": 9,
    "start_time": "2021-08-29T20:44:25.199Z"
   },
   {
    "duration": 9,
    "start_time": "2021-08-29T20:44:25.211Z"
   },
   {
    "duration": 44,
    "start_time": "2021-08-29T20:44:25.222Z"
   },
   {
    "duration": 4,
    "start_time": "2021-08-29T20:44:33.304Z"
   },
   {
    "duration": 5,
    "start_time": "2021-08-29T20:44:34.852Z"
   },
   {
    "duration": 10235,
    "start_time": "2021-08-29T20:44:35.288Z"
   },
   {
    "duration": 26,
    "start_time": "2021-08-29T20:44:47.981Z"
   },
   {
    "duration": 417,
    "start_time": "2021-08-29T20:44:55.049Z"
   },
   {
    "duration": 24,
    "start_time": "2021-08-29T20:44:59.838Z"
   },
   {
    "duration": 307,
    "start_time": "2021-08-29T20:45:09.976Z"
   },
   {
    "duration": 338,
    "start_time": "2021-08-29T20:45:13.142Z"
   },
   {
    "duration": 307,
    "start_time": "2021-08-29T20:45:16.485Z"
   },
   {
    "duration": 6,
    "start_time": "2021-08-29T20:45:23.025Z"
   },
   {
    "duration": 6,
    "start_time": "2021-08-29T20:45:43.179Z"
   },
   {
    "duration": 6,
    "start_time": "2021-08-29T20:45:45.082Z"
   },
   {
    "duration": 8,
    "start_time": "2021-08-29T20:45:51.991Z"
   },
   {
    "duration": 99,
    "start_time": "2021-08-29T20:54:13.574Z"
   },
   {
    "duration": 299,
    "start_time": "2021-08-29T20:55:49.672Z"
   },
   {
    "duration": 1161,
    "start_time": "2021-08-29T20:55:56.770Z"
   },
   {
    "duration": 3,
    "start_time": "2021-08-29T20:55:57.933Z"
   },
   {
    "duration": 7,
    "start_time": "2021-08-29T20:55:57.941Z"
   },
   {
    "duration": 736,
    "start_time": "2021-08-29T20:55:57.950Z"
   },
   {
    "duration": 762,
    "start_time": "2021-08-29T20:55:58.688Z"
   },
   {
    "duration": 607,
    "start_time": "2021-08-29T20:55:59.452Z"
   },
   {
    "duration": 290,
    "start_time": "2021-08-29T20:56:00.061Z"
   },
   {
    "duration": 392,
    "start_time": "2021-08-29T20:56:00.354Z"
   },
   {
    "duration": 427,
    "start_time": "2021-08-29T20:56:00.749Z"
   },
   {
    "duration": 5,
    "start_time": "2021-08-29T20:56:01.178Z"
   },
   {
    "duration": 58,
    "start_time": "2021-08-29T20:56:01.185Z"
   },
   {
    "duration": 119,
    "start_time": "2021-08-29T20:56:01.245Z"
   },
   {
    "duration": 118,
    "start_time": "2021-08-29T20:56:01.442Z"
   },
   {
    "duration": 5,
    "start_time": "2021-08-29T20:56:01.562Z"
   },
   {
    "duration": 74,
    "start_time": "2021-08-29T20:56:01.569Z"
   },
   {
    "duration": 96,
    "start_time": "2021-08-29T20:56:01.646Z"
   },
   {
    "duration": 6,
    "start_time": "2021-08-29T20:56:01.745Z"
   },
   {
    "duration": 31,
    "start_time": "2021-08-29T20:56:01.753Z"
   },
   {
    "duration": 57,
    "start_time": "2021-08-29T20:56:01.786Z"
   },
   {
    "duration": 6,
    "start_time": "2021-08-29T20:56:01.845Z"
   },
   {
    "duration": 7,
    "start_time": "2021-08-29T20:56:01.853Z"
   },
   {
    "duration": 9,
    "start_time": "2021-08-29T20:56:01.862Z"
   },
   {
    "duration": 5,
    "start_time": "2021-08-29T20:56:01.874Z"
   },
   {
    "duration": 6,
    "start_time": "2021-08-29T20:56:01.881Z"
   },
   {
    "duration": 54,
    "start_time": "2021-08-29T20:56:01.889Z"
   },
   {
    "duration": 6736,
    "start_time": "2021-08-29T20:56:01.946Z"
   },
   {
    "duration": 4,
    "start_time": "2021-08-29T20:56:08.684Z"
   },
   {
    "duration": 13,
    "start_time": "2021-08-29T20:56:08.690Z"
   },
   {
    "duration": 332,
    "start_time": "2021-08-29T20:56:08.705Z"
   },
   {
    "duration": 17,
    "start_time": "2021-08-29T20:56:09.041Z"
   },
   {
    "duration": 375,
    "start_time": "2021-08-29T20:56:09.060Z"
   },
   {
    "duration": 15,
    "start_time": "2021-08-29T20:56:09.436Z"
   },
   {
    "duration": 305,
    "start_time": "2021-08-29T20:56:09.454Z"
   },
   {
    "duration": 4,
    "start_time": "2021-08-29T20:57:08.547Z"
   },
   {
    "duration": 5,
    "start_time": "2021-08-29T21:03:09.664Z"
   },
   {
    "duration": 11,
    "start_time": "2021-08-29T21:03:09.670Z"
   },
   {
    "duration": 10,
    "start_time": "2021-08-29T21:03:09.683Z"
   },
   {
    "duration": 12,
    "start_time": "2021-08-29T21:03:09.695Z"
   },
   {
    "duration": 56,
    "start_time": "2021-08-29T21:03:09.708Z"
   },
   {
    "duration": 14,
    "start_time": "2021-08-29T21:03:09.765Z"
   },
   {
    "duration": 6,
    "start_time": "2021-08-29T21:03:09.780Z"
   },
   {
    "duration": 25,
    "start_time": "2021-08-29T21:03:09.787Z"
   },
   {
    "duration": 18,
    "start_time": "2021-08-29T21:03:09.815Z"
   },
   {
    "duration": 20,
    "start_time": "2021-08-29T21:03:09.835Z"
   },
   {
    "duration": 17,
    "start_time": "2021-08-29T21:03:09.857Z"
   },
   {
    "duration": 21,
    "start_time": "2021-08-29T21:03:09.875Z"
   },
   {
    "duration": 7053,
    "start_time": "2021-08-29T21:03:09.897Z"
   },
   {
    "duration": 4,
    "start_time": "2021-08-29T21:03:16.952Z"
   },
   {
    "duration": 26,
    "start_time": "2021-08-29T21:03:16.958Z"
   },
   {
    "duration": 307,
    "start_time": "2021-08-29T21:03:16.985Z"
   },
   {
    "duration": 11,
    "start_time": "2021-08-29T21:03:17.294Z"
   },
   {
    "duration": 316,
    "start_time": "2021-08-29T21:03:17.307Z"
   },
   {
    "duration": 21,
    "start_time": "2021-08-29T21:03:17.625Z"
   },
   {
    "duration": 293,
    "start_time": "2021-08-29T21:03:17.647Z"
   },
   {
    "duration": 4,
    "start_time": "2021-08-29T21:10:05.030Z"
   },
   {
    "duration": 4,
    "start_time": "2021-08-29T21:10:09.350Z"
   },
   {
    "duration": 4,
    "start_time": "2021-08-29T21:10:18.002Z"
   },
   {
    "duration": 3,
    "start_time": "2021-08-29T21:10:19.714Z"
   },
   {
    "duration": 4,
    "start_time": "2021-08-29T21:10:21.210Z"
   },
   {
    "duration": 4,
    "start_time": "2021-08-29T21:10:26.321Z"
   },
   {
    "duration": 3,
    "start_time": "2021-08-29T21:11:05.506Z"
   },
   {
    "duration": 4,
    "start_time": "2021-08-29T21:11:15.179Z"
   },
   {
    "duration": 3,
    "start_time": "2021-08-29T21:12:46.162Z"
   },
   {
    "duration": 4,
    "start_time": "2021-08-29T21:13:03.554Z"
   },
   {
    "duration": 4,
    "start_time": "2021-08-29T21:13:05.592Z"
   },
   {
    "duration": 4,
    "start_time": "2021-08-29T21:13:06.449Z"
   },
   {
    "duration": 4,
    "start_time": "2021-08-29T21:14:13.746Z"
   },
   {
    "duration": 3,
    "start_time": "2021-08-29T21:14:22.846Z"
   },
   {
    "duration": 4,
    "start_time": "2021-08-29T21:14:28.941Z"
   },
   {
    "duration": 4,
    "start_time": "2021-08-29T21:14:30.172Z"
   },
   {
    "duration": 4,
    "start_time": "2021-08-29T21:15:12.121Z"
   },
   {
    "duration": 4,
    "start_time": "2021-08-29T21:15:13.546Z"
   },
   {
    "duration": 4,
    "start_time": "2021-08-29T21:15:38.486Z"
   },
   {
    "duration": 5,
    "start_time": "2021-08-29T21:20:39.473Z"
   },
   {
    "duration": 447,
    "start_time": "2021-08-29T21:20:48.847Z"
   },
   {
    "duration": 4,
    "start_time": "2021-08-29T21:20:54.153Z"
   },
   {
    "duration": 5,
    "start_time": "2021-08-29T21:21:06.698Z"
   },
   {
    "duration": 257,
    "start_time": "2021-08-29T21:22:37.945Z"
   },
   {
    "duration": 257,
    "start_time": "2021-08-29T21:22:42.728Z"
   },
   {
    "duration": 457,
    "start_time": "2021-08-29T21:24:59.434Z"
   },
   {
    "duration": 254,
    "start_time": "2021-08-29T21:25:02.023Z"
   },
   {
    "duration": 11,
    "start_time": "2021-08-29T21:25:12.538Z"
   },
   {
    "duration": 12,
    "start_time": "2021-08-29T21:26:06.631Z"
   },
   {
    "duration": 8,
    "start_time": "2021-08-29T21:28:47.625Z"
   },
   {
    "duration": 9,
    "start_time": "2021-08-29T21:28:57.318Z"
   },
   {
    "duration": 265,
    "start_time": "2021-08-29T21:29:19.266Z"
   },
   {
    "duration": 9,
    "start_time": "2021-08-29T21:29:25.536Z"
   },
   {
    "duration": 1041,
    "start_time": "2021-08-29T21:30:05.388Z"
   },
   {
    "duration": 3,
    "start_time": "2021-08-29T21:30:06.430Z"
   },
   {
    "duration": 5,
    "start_time": "2021-08-29T21:30:06.569Z"
   },
   {
    "duration": 500,
    "start_time": "2021-08-29T21:30:06.862Z"
   },
   {
    "duration": 544,
    "start_time": "2021-08-29T21:30:07.364Z"
   },
   {
    "duration": 393,
    "start_time": "2021-08-29T21:30:07.910Z"
   },
   {
    "duration": 315,
    "start_time": "2021-08-29T21:30:08.305Z"
   },
   {
    "duration": 291,
    "start_time": "2021-08-29T21:30:08.622Z"
   },
   {
    "duration": 295,
    "start_time": "2021-08-29T21:30:08.915Z"
   },
   {
    "duration": 4,
    "start_time": "2021-08-29T21:30:09.212Z"
   },
   {
    "duration": 53,
    "start_time": "2021-08-29T21:30:09.218Z"
   },
   {
    "duration": 370,
    "start_time": "2021-08-29T21:30:09.273Z"
   },
   {
    "duration": -167,
    "start_time": "2021-08-29T21:30:09.812Z"
   },
   {
    "duration": 23,
    "start_time": "2021-08-29T21:30:09.830Z"
   },
   {
    "duration": 26,
    "start_time": "2021-08-29T21:30:10.041Z"
   },
   {
    "duration": 3,
    "start_time": "2021-08-29T21:30:25.215Z"
   },
   {
    "duration": 4,
    "start_time": "2021-08-29T21:30:25.716Z"
   },
   {
    "duration": 5,
    "start_time": "2021-08-29T21:30:26.248Z"
   },
   {
    "duration": 359,
    "start_time": "2021-08-29T21:30:26.541Z"
   },
   {
    "duration": 315,
    "start_time": "2021-08-29T21:30:27.498Z"
   },
   {
    "duration": 298,
    "start_time": "2021-08-29T21:30:31.695Z"
   },
   {
    "duration": 297,
    "start_time": "2021-08-29T21:30:33.809Z"
   },
   {
    "duration": 243,
    "start_time": "2021-08-29T21:30:35.074Z"
   },
   {
    "duration": 333,
    "start_time": "2021-08-29T21:30:35.788Z"
   },
   {
    "duration": 4,
    "start_time": "2021-08-29T21:30:38.648Z"
   },
   {
    "duration": 10,
    "start_time": "2021-08-29T21:30:39.767Z"
   },
   {
    "duration": 9,
    "start_time": "2021-08-29T21:30:43.846Z"
   },
   {
    "duration": 9,
    "start_time": "2021-08-29T21:30:48.481Z"
   },
   {
    "duration": 5,
    "start_time": "2021-08-29T21:30:57.891Z"
   },
   {
    "duration": 8,
    "start_time": "2021-08-29T21:31:03.031Z"
   },
   {
    "duration": 261,
    "start_time": "2021-08-29T21:31:49.382Z"
   },
   {
    "duration": 271,
    "start_time": "2021-08-29T21:31:56.357Z"
   },
   {
    "duration": 9,
    "start_time": "2021-08-29T21:32:08.882Z"
   },
   {
    "duration": 9,
    "start_time": "2021-08-29T21:32:27.873Z"
   },
   {
    "duration": 9,
    "start_time": "2021-08-29T21:32:34.453Z"
   },
   {
    "duration": 10,
    "start_time": "2021-08-29T21:32:39.092Z"
   },
   {
    "duration": 3,
    "start_time": "2021-08-29T21:35:38.178Z"
   },
   {
    "duration": 3,
    "start_time": "2021-08-29T21:35:42.515Z"
   },
   {
    "duration": 285,
    "start_time": "2021-08-29T21:35:44.944Z"
   },
   {
    "duration": 254,
    "start_time": "2021-08-29T21:37:15.069Z"
   },
   {
    "duration": 3,
    "start_time": "2021-08-29T21:37:44.837Z"
   },
   {
    "duration": 4,
    "start_time": "2021-08-29T21:37:54.100Z"
   },
   {
    "duration": 6,
    "start_time": "2021-08-29T21:38:03.964Z"
   },
   {
    "duration": 3,
    "start_time": "2021-08-29T21:42:15.101Z"
   },
   {
    "duration": 264,
    "start_time": "2021-08-29T21:42:18.205Z"
   },
   {
    "duration": 256,
    "start_time": "2021-08-29T21:42:55.694Z"
   },
   {
    "duration": 333,
    "start_time": "2021-08-30T11:10:27.480Z"
   },
   {
    "duration": 295,
    "start_time": "2021-08-30T11:10:43.921Z"
   },
   {
    "duration": 1764,
    "start_time": "2021-08-30T11:10:53.897Z"
   },
   {
    "duration": 5,
    "start_time": "2021-08-30T11:10:55.664Z"
   },
   {
    "duration": 7,
    "start_time": "2021-08-30T11:10:55.684Z"
   },
   {
    "duration": 424,
    "start_time": "2021-08-30T11:10:55.695Z"
   },
   {
    "duration": 466,
    "start_time": "2021-08-30T11:10:56.122Z"
   },
   {
    "duration": 343,
    "start_time": "2021-08-30T11:10:56.590Z"
   },
   {
    "duration": 416,
    "start_time": "2021-08-30T11:10:56.935Z"
   },
   {
    "duration": 447,
    "start_time": "2021-08-30T11:10:57.357Z"
   },
   {
    "duration": 384,
    "start_time": "2021-08-30T11:10:57.807Z"
   },
   {
    "duration": 6,
    "start_time": "2021-08-30T11:10:58.193Z"
   },
   {
    "duration": 21,
    "start_time": "2021-08-30T11:10:58.201Z"
   },
   {
    "duration": 330,
    "start_time": "2021-08-30T11:10:58.224Z"
   },
   {
    "duration": -6,
    "start_time": "2021-08-30T11:10:58.563Z"
   },
   {
    "duration": -23,
    "start_time": "2021-08-30T11:10:58.581Z"
   },
   {
    "duration": -33,
    "start_time": "2021-08-30T11:10:58.592Z"
   },
   {
    "duration": -37,
    "start_time": "2021-08-30T11:10:58.598Z"
   },
   {
    "duration": -47,
    "start_time": "2021-08-30T11:10:58.609Z"
   },
   {
    "duration": -60,
    "start_time": "2021-08-30T11:10:58.623Z"
   },
   {
    "duration": -62,
    "start_time": "2021-08-30T11:10:58.626Z"
   },
   {
    "duration": -74,
    "start_time": "2021-08-30T11:10:58.639Z"
   },
   {
    "duration": -75,
    "start_time": "2021-08-30T11:10:58.642Z"
   },
   {
    "duration": -80,
    "start_time": "2021-08-30T11:10:58.648Z"
   },
   {
    "duration": -87,
    "start_time": "2021-08-30T11:10:58.657Z"
   },
   {
    "duration": -91,
    "start_time": "2021-08-30T11:10:58.662Z"
   },
   {
    "duration": -101,
    "start_time": "2021-08-30T11:10:58.673Z"
   },
   {
    "duration": -102,
    "start_time": "2021-08-30T11:10:58.676Z"
   },
   {
    "duration": -113,
    "start_time": "2021-08-30T11:10:58.688Z"
   },
   {
    "duration": -117,
    "start_time": "2021-08-30T11:10:58.693Z"
   },
   {
    "duration": -121,
    "start_time": "2021-08-30T11:10:58.699Z"
   },
   {
    "duration": -145,
    "start_time": "2021-08-30T11:10:58.724Z"
   },
   {
    "duration": -146,
    "start_time": "2021-08-30T11:10:58.726Z"
   },
   {
    "duration": -157,
    "start_time": "2021-08-30T11:10:58.739Z"
   },
   {
    "duration": -173,
    "start_time": "2021-08-30T11:10:58.756Z"
   },
   {
    "duration": -175,
    "start_time": "2021-08-30T11:10:58.759Z"
   },
   {
    "duration": -179,
    "start_time": "2021-08-30T11:10:58.764Z"
   },
   {
    "duration": -188,
    "start_time": "2021-08-30T11:10:58.774Z"
   },
   {
    "duration": -192,
    "start_time": "2021-08-30T11:10:58.780Z"
   },
   {
    "duration": -201,
    "start_time": "2021-08-30T11:10:58.790Z"
   },
   {
    "duration": 6,
    "start_time": "2021-08-30T11:12:35.691Z"
   },
   {
    "duration": 12,
    "start_time": "2021-08-30T11:12:35.700Z"
   },
   {
    "duration": 11,
    "start_time": "2021-08-30T11:12:35.716Z"
   },
   {
    "duration": 383,
    "start_time": "2021-08-30T11:12:35.729Z"
   },
   {
    "duration": 652,
    "start_time": "2021-08-30T11:12:36.115Z"
   },
   {
    "duration": 436,
    "start_time": "2021-08-30T11:12:36.770Z"
   },
   {
    "duration": 772,
    "start_time": "2021-08-30T11:12:37.210Z"
   },
   {
    "duration": 416,
    "start_time": "2021-08-30T11:12:37.986Z"
   },
   {
    "duration": 653,
    "start_time": "2021-08-30T11:12:38.405Z"
   },
   {
    "duration": 8,
    "start_time": "2021-08-30T11:12:39.060Z"
   },
   {
    "duration": 114,
    "start_time": "2021-08-30T11:12:39.070Z"
   },
   {
    "duration": 114,
    "start_time": "2021-08-30T11:12:39.193Z"
   },
   {
    "duration": 201,
    "start_time": "2021-08-30T11:12:39.310Z"
   },
   {
    "duration": 96,
    "start_time": "2021-08-30T11:12:39.585Z"
   },
   {
    "duration": 743,
    "start_time": "2021-08-30T11:12:39.685Z"
   },
   {
    "duration": 12,
    "start_time": "2021-08-30T11:12:40.431Z"
   },
   {
    "duration": 47,
    "start_time": "2021-08-30T11:12:40.446Z"
   },
   {
    "duration": 91,
    "start_time": "2021-08-30T11:12:40.497Z"
   },
   {
    "duration": 104,
    "start_time": "2021-08-30T11:12:40.591Z"
   },
   {
    "duration": 32,
    "start_time": "2021-08-30T11:12:40.702Z"
   },
   {
    "duration": 25,
    "start_time": "2021-08-30T11:12:40.736Z"
   },
   {
    "duration": 22,
    "start_time": "2021-08-30T11:12:40.763Z"
   },
   {
    "duration": 31,
    "start_time": "2021-08-30T11:12:40.791Z"
   },
   {
    "duration": 8,
    "start_time": "2021-08-30T11:12:40.825Z"
   },
   {
    "duration": 8,
    "start_time": "2021-08-30T11:12:40.836Z"
   },
   {
    "duration": 6,
    "start_time": "2021-08-30T11:12:40.847Z"
   },
   {
    "duration": 32,
    "start_time": "2021-08-30T11:12:40.855Z"
   },
   {
    "duration": 548,
    "start_time": "2021-08-30T11:12:40.890Z"
   },
   {
    "duration": -21,
    "start_time": "2021-08-30T11:12:41.461Z"
   },
   {
    "duration": -24,
    "start_time": "2021-08-30T11:12:41.465Z"
   },
   {
    "duration": -66,
    "start_time": "2021-08-30T11:12:41.509Z"
   },
   {
    "duration": -68,
    "start_time": "2021-08-30T11:12:41.512Z"
   },
   {
    "duration": -69,
    "start_time": "2021-08-30T11:12:41.515Z"
   },
   {
    "duration": -70,
    "start_time": "2021-08-30T11:12:41.517Z"
   },
   {
    "duration": -72,
    "start_time": "2021-08-30T11:12:41.520Z"
   },
   {
    "duration": 7,
    "start_time": "2021-08-30T11:14:19.589Z"
   },
   {
    "duration": 15,
    "start_time": "2021-08-30T11:14:34.395Z"
   },
   {
    "duration": 10,
    "start_time": "2021-08-30T11:14:41.343Z"
   },
   {
    "duration": 8,
    "start_time": "2021-08-30T11:14:48.660Z"
   },
   {
    "duration": 4,
    "start_time": "2021-08-30T11:14:52.016Z"
   },
   {
    "duration": 7,
    "start_time": "2021-08-30T11:14:53.197Z"
   },
   {
    "duration": 4,
    "start_time": "2021-08-30T11:23:32.205Z"
   },
   {
    "duration": 243,
    "start_time": "2021-08-30T11:23:35.606Z"
   },
   {
    "duration": 270,
    "start_time": "2021-08-30T11:23:39.658Z"
   },
   {
    "duration": 4,
    "start_time": "2021-08-30T11:32:07.634Z"
   },
   {
    "duration": 4,
    "start_time": "2021-08-30T11:32:09.022Z"
   },
   {
    "duration": 288,
    "start_time": "2021-08-30T11:32:10.630Z"
   },
   {
    "duration": 6,
    "start_time": "2021-08-30T11:32:34.660Z"
   },
   {
    "duration": 5,
    "start_time": "2021-08-30T11:32:37.884Z"
   },
   {
    "duration": 385,
    "start_time": "2021-08-30T11:32:38.343Z"
   },
   {
    "duration": 280,
    "start_time": "2021-08-30T12:06:55.538Z"
   },
   {
    "duration": 5,
    "start_time": "2021-08-30T12:08:23.323Z"
   },
   {
    "duration": 471,
    "start_time": "2021-08-30T12:08:26.535Z"
   },
   {
    "duration": 519,
    "start_time": "2021-08-30T12:08:39.536Z"
   },
   {
    "duration": 5,
    "start_time": "2021-08-30T12:09:13.125Z"
   },
   {
    "duration": 447,
    "start_time": "2021-08-30T12:09:13.899Z"
   },
   {
    "duration": 4,
    "start_time": "2021-08-30T12:09:31.477Z"
   },
   {
    "duration": 646,
    "start_time": "2021-08-30T12:09:34.180Z"
   },
   {
    "duration": 4,
    "start_time": "2021-08-30T12:09:40.909Z"
   },
   {
    "duration": 16,
    "start_time": "2021-08-30T12:09:40.916Z"
   },
   {
    "duration": 25,
    "start_time": "2021-08-30T12:09:40.935Z"
   },
   {
    "duration": 442,
    "start_time": "2021-08-30T12:09:40.962Z"
   },
   {
    "duration": 414,
    "start_time": "2021-08-30T12:09:41.406Z"
   },
   {
    "duration": 461,
    "start_time": "2021-08-30T12:09:41.822Z"
   },
   {
    "duration": 426,
    "start_time": "2021-08-30T12:09:42.288Z"
   },
   {
    "duration": 489,
    "start_time": "2021-08-30T12:09:42.718Z"
   },
   {
    "duration": 499,
    "start_time": "2021-08-30T12:09:43.211Z"
   },
   {
    "duration": 7,
    "start_time": "2021-08-30T12:09:43.713Z"
   },
   {
    "duration": 82,
    "start_time": "2021-08-30T12:09:43.723Z"
   },
   {
    "duration": 178,
    "start_time": "2021-08-30T12:09:43.808Z"
   },
   {
    "duration": 129,
    "start_time": "2021-08-30T12:09:43.990Z"
   },
   {
    "duration": 7,
    "start_time": "2021-08-30T12:09:44.184Z"
   },
   {
    "duration": 94,
    "start_time": "2021-08-30T12:09:44.194Z"
   },
   {
    "duration": 22,
    "start_time": "2021-08-30T12:09:44.291Z"
   },
   {
    "duration": 97,
    "start_time": "2021-08-30T12:09:44.316Z"
   },
   {
    "duration": 13,
    "start_time": "2021-08-30T12:09:44.482Z"
   },
   {
    "duration": 11,
    "start_time": "2021-08-30T12:09:44.505Z"
   },
   {
    "duration": 75,
    "start_time": "2021-08-30T12:09:44.520Z"
   },
   {
    "duration": 27,
    "start_time": "2021-08-30T12:09:44.598Z"
   },
   {
    "duration": 13,
    "start_time": "2021-08-30T12:09:44.627Z"
   },
   {
    "duration": 23,
    "start_time": "2021-08-30T12:09:44.642Z"
   },
   {
    "duration": 23,
    "start_time": "2021-08-30T12:09:44.667Z"
   },
   {
    "duration": 24,
    "start_time": "2021-08-30T12:09:44.693Z"
   },
   {
    "duration": 9,
    "start_time": "2021-08-30T12:09:44.719Z"
   },
   {
    "duration": 10,
    "start_time": "2021-08-30T12:09:44.730Z"
   },
   {
    "duration": 10,
    "start_time": "2021-08-30T12:09:44.742Z"
   },
   {
    "duration": 778,
    "start_time": "2021-08-30T12:09:44.754Z"
   },
   {
    "duration": -73,
    "start_time": "2021-08-30T12:09:45.608Z"
   },
   {
    "duration": -81,
    "start_time": "2021-08-30T12:09:45.617Z"
   },
   {
    "duration": -82,
    "start_time": "2021-08-30T12:09:45.620Z"
   },
   {
    "duration": -83,
    "start_time": "2021-08-30T12:09:45.622Z"
   },
   {
    "duration": -86,
    "start_time": "2021-08-30T12:09:45.627Z"
   },
   {
    "duration": -88,
    "start_time": "2021-08-30T12:09:45.630Z"
   },
   {
    "duration": -90,
    "start_time": "2021-08-30T12:09:45.634Z"
   },
   {
    "duration": 4,
    "start_time": "2021-08-30T12:10:11.841Z"
   },
   {
    "duration": 560,
    "start_time": "2021-08-30T12:10:13.720Z"
   },
   {
    "duration": 4,
    "start_time": "2021-08-30T12:10:24.055Z"
   },
   {
    "duration": 12709,
    "start_time": "2021-08-30T12:10:25.437Z"
   },
   {
    "duration": 9,
    "start_time": "2021-08-30T12:10:42.291Z"
   },
   {
    "duration": 17,
    "start_time": "2021-08-30T12:10:43.022Z"
   },
   {
    "duration": 580,
    "start_time": "2021-08-30T12:10:51.777Z"
   },
   {
    "duration": 26,
    "start_time": "2021-08-30T12:10:56.278Z"
   },
   {
    "duration": 590,
    "start_time": "2021-08-30T12:10:57.918Z"
   },
   {
    "duration": 23,
    "start_time": "2021-08-30T12:11:01.768Z"
   },
   {
    "duration": 576,
    "start_time": "2021-08-30T12:11:02.891Z"
   },
   {
    "duration": 659,
    "start_time": "2021-08-30T12:11:26.563Z"
   },
   {
    "duration": 5,
    "start_time": "2021-08-30T12:11:36.120Z"
   },
   {
    "duration": 7,
    "start_time": "2021-08-30T12:11:36.128Z"
   },
   {
    "duration": 8,
    "start_time": "2021-08-30T12:11:36.138Z"
   },
   {
    "duration": 398,
    "start_time": "2021-08-30T12:11:36.148Z"
   },
   {
    "duration": 415,
    "start_time": "2021-08-30T12:11:36.549Z"
   },
   {
    "duration": 434,
    "start_time": "2021-08-30T12:11:36.966Z"
   },
   {
    "duration": 396,
    "start_time": "2021-08-30T12:11:37.403Z"
   },
   {
    "duration": 508,
    "start_time": "2021-08-30T12:11:37.804Z"
   },
   {
    "duration": 429,
    "start_time": "2021-08-30T12:11:38.315Z"
   },
   {
    "duration": 9,
    "start_time": "2021-08-30T12:11:38.746Z"
   },
   {
    "duration": 60,
    "start_time": "2021-08-30T12:11:38.758Z"
   },
   {
    "duration": 127,
    "start_time": "2021-08-30T12:11:38.885Z"
   },
   {
    "duration": 195,
    "start_time": "2021-08-30T12:11:39.015Z"
   },
   {
    "duration": 73,
    "start_time": "2021-08-30T12:11:39.214Z"
   },
   {
    "duration": 11,
    "start_time": "2021-08-30T12:11:39.292Z"
   },
   {
    "duration": 16,
    "start_time": "2021-08-30T12:11:39.383Z"
   },
   {
    "duration": 87,
    "start_time": "2021-08-30T12:11:39.401Z"
   },
   {
    "duration": 11,
    "start_time": "2021-08-30T12:11:39.492Z"
   },
   {
    "duration": 81,
    "start_time": "2021-08-30T12:11:39.507Z"
   },
   {
    "duration": 32,
    "start_time": "2021-08-30T12:11:39.594Z"
   },
   {
    "duration": 65,
    "start_time": "2021-08-30T12:11:39.630Z"
   },
   {
    "duration": 6,
    "start_time": "2021-08-30T12:11:39.697Z"
   },
   {
    "duration": 7,
    "start_time": "2021-08-30T12:11:39.707Z"
   },
   {
    "duration": 14,
    "start_time": "2021-08-30T12:11:39.717Z"
   },
   {
    "duration": 9,
    "start_time": "2021-08-30T12:11:39.734Z"
   },
   {
    "duration": 37,
    "start_time": "2021-08-30T12:11:39.746Z"
   },
   {
    "duration": 8,
    "start_time": "2021-08-30T12:11:39.785Z"
   },
   {
    "duration": 6,
    "start_time": "2021-08-30T12:11:39.796Z"
   },
   {
    "duration": 613,
    "start_time": "2021-08-30T12:11:39.805Z"
   },
   {
    "duration": -62,
    "start_time": "2021-08-30T12:11:40.483Z"
   },
   {
    "duration": -64,
    "start_time": "2021-08-30T12:11:40.486Z"
   },
   {
    "duration": -65,
    "start_time": "2021-08-30T12:11:40.489Z"
   },
   {
    "duration": -67,
    "start_time": "2021-08-30T12:11:40.492Z"
   },
   {
    "duration": -69,
    "start_time": "2021-08-30T12:11:40.495Z"
   },
   {
    "duration": -69,
    "start_time": "2021-08-30T12:11:40.497Z"
   },
   {
    "duration": -72,
    "start_time": "2021-08-30T12:11:40.501Z"
   },
   {
    "duration": 7,
    "start_time": "2021-08-30T12:19:45.281Z"
   },
   {
    "duration": 15,
    "start_time": "2021-08-30T12:19:45.291Z"
   },
   {
    "duration": 12,
    "start_time": "2021-08-30T12:19:45.310Z"
   },
   {
    "duration": 694,
    "start_time": "2021-08-30T12:19:45.325Z"
   },
   {
    "duration": 528,
    "start_time": "2021-08-30T12:19:46.021Z"
   },
   {
    "duration": 418,
    "start_time": "2021-08-30T12:19:46.552Z"
   },
   {
    "duration": 406,
    "start_time": "2021-08-30T12:19:46.982Z"
   },
   {
    "duration": 385,
    "start_time": "2021-08-30T12:19:47.390Z"
   },
   {
    "duration": 421,
    "start_time": "2021-08-30T12:19:47.779Z"
   },
   {
    "duration": 7,
    "start_time": "2021-08-30T12:19:48.203Z"
   },
   {
    "duration": 83,
    "start_time": "2021-08-30T12:19:48.212Z"
   },
   {
    "duration": 212,
    "start_time": "2021-08-30T12:19:48.298Z"
   },
   {
    "duration": 128,
    "start_time": "2021-08-30T12:19:48.583Z"
   },
   {
    "duration": 73,
    "start_time": "2021-08-30T12:19:48.714Z"
   },
   {
    "duration": 12,
    "start_time": "2021-08-30T12:19:48.790Z"
   },
   {
    "duration": 11,
    "start_time": "2021-08-30T12:19:48.886Z"
   },
   {
    "duration": 182,
    "start_time": "2021-08-30T12:19:48.900Z"
   },
   {
    "duration": 9,
    "start_time": "2021-08-30T12:19:49.088Z"
   },
   {
    "duration": 6,
    "start_time": "2021-08-30T12:19:49.100Z"
   },
   {
    "duration": 27,
    "start_time": "2021-08-30T12:19:49.108Z"
   },
   {
    "duration": 61,
    "start_time": "2021-08-30T12:19:49.137Z"
   },
   {
    "duration": 6,
    "start_time": "2021-08-30T12:19:49.200Z"
   },
   {
    "duration": 13,
    "start_time": "2021-08-30T12:19:49.208Z"
   },
   {
    "duration": 9,
    "start_time": "2021-08-30T12:19:49.223Z"
   },
   {
    "duration": 16,
    "start_time": "2021-08-30T12:19:49.234Z"
   },
   {
    "duration": 4,
    "start_time": "2021-08-30T12:19:49.253Z"
   },
   {
    "duration": 7,
    "start_time": "2021-08-30T12:19:49.290Z"
   },
   {
    "duration": 7,
    "start_time": "2021-08-30T12:19:49.300Z"
   },
   {
    "duration": 574,
    "start_time": "2021-08-30T12:19:49.309Z"
   },
   {
    "duration": -65,
    "start_time": "2021-08-30T12:19:49.950Z"
   },
   {
    "duration": -70,
    "start_time": "2021-08-30T12:19:49.957Z"
   },
   {
    "duration": -73,
    "start_time": "2021-08-30T12:19:49.961Z"
   },
   {
    "duration": -73,
    "start_time": "2021-08-30T12:19:49.963Z"
   },
   {
    "duration": -75,
    "start_time": "2021-08-30T12:19:49.967Z"
   },
   {
    "duration": -76,
    "start_time": "2021-08-30T12:19:49.969Z"
   },
   {
    "duration": -77,
    "start_time": "2021-08-30T12:19:49.972Z"
   },
   {
    "duration": 5,
    "start_time": "2021-08-30T12:21:04.713Z"
   },
   {
    "duration": 25,
    "start_time": "2021-08-30T12:21:04.722Z"
   },
   {
    "duration": 17,
    "start_time": "2021-08-30T12:21:04.750Z"
   },
   {
    "duration": 564,
    "start_time": "2021-08-30T12:21:04.770Z"
   },
   {
    "duration": 500,
    "start_time": "2021-08-30T12:21:05.336Z"
   },
   {
    "duration": 443,
    "start_time": "2021-08-30T12:21:05.839Z"
   },
   {
    "duration": 439,
    "start_time": "2021-08-30T12:21:06.288Z"
   },
   {
    "duration": 493,
    "start_time": "2021-08-30T12:21:06.730Z"
   },
   {
    "duration": 477,
    "start_time": "2021-08-30T12:21:07.226Z"
   },
   {
    "duration": 11,
    "start_time": "2021-08-30T12:21:07.707Z"
   },
   {
    "duration": 73,
    "start_time": "2021-08-30T12:21:07.721Z"
   },
   {
    "duration": 189,
    "start_time": "2021-08-30T12:21:07.799Z"
   },
   {
    "duration": 115,
    "start_time": "2021-08-30T12:21:07.991Z"
   },
   {
    "duration": 77,
    "start_time": "2021-08-30T12:21:08.110Z"
   },
   {
    "duration": 9,
    "start_time": "2021-08-30T12:21:08.190Z"
   },
   {
    "duration": 98,
    "start_time": "2021-08-30T12:21:08.201Z"
   },
   {
    "duration": 86,
    "start_time": "2021-08-30T12:21:08.303Z"
   },
   {
    "duration": 9,
    "start_time": "2021-08-30T12:21:08.394Z"
   },
   {
    "duration": 10,
    "start_time": "2021-08-30T12:21:08.485Z"
   },
   {
    "duration": 87,
    "start_time": "2021-08-30T12:21:08.499Z"
   },
   {
    "duration": 28,
    "start_time": "2021-08-30T12:21:08.590Z"
   },
   {
    "duration": 6,
    "start_time": "2021-08-30T12:21:08.620Z"
   },
   {
    "duration": 8,
    "start_time": "2021-08-30T12:21:08.628Z"
   },
   {
    "duration": 17,
    "start_time": "2021-08-30T12:21:08.638Z"
   },
   {
    "duration": 11,
    "start_time": "2021-08-30T12:21:08.658Z"
   },
   {
    "duration": 10,
    "start_time": "2021-08-30T12:21:08.671Z"
   },
   {
    "duration": 15,
    "start_time": "2021-08-30T12:21:08.688Z"
   },
   {
    "duration": 14,
    "start_time": "2021-08-30T12:21:08.706Z"
   },
   {
    "duration": 897,
    "start_time": "2021-08-30T12:21:08.722Z"
   },
   {
    "duration": -409,
    "start_time": "2021-08-30T12:21:10.031Z"
   },
   {
    "duration": -411,
    "start_time": "2021-08-30T12:21:10.034Z"
   },
   {
    "duration": -450,
    "start_time": "2021-08-30T12:21:10.074Z"
   },
   {
    "duration": -453,
    "start_time": "2021-08-30T12:21:10.079Z"
   },
   {
    "duration": -456,
    "start_time": "2021-08-30T12:21:10.083Z"
   },
   {
    "duration": -458,
    "start_time": "2021-08-30T12:21:10.087Z"
   },
   {
    "duration": -461,
    "start_time": "2021-08-30T12:21:10.091Z"
   },
   {
    "duration": 5,
    "start_time": "2021-08-30T12:22:02.009Z"
   },
   {
    "duration": 986,
    "start_time": "2021-08-30T12:22:03.141Z"
   },
   {
    "duration": 7,
    "start_time": "2021-08-30T12:22:32.117Z"
   },
   {
    "duration": 6,
    "start_time": "2021-08-30T12:22:39.913Z"
   },
   {
    "duration": 5,
    "start_time": "2021-08-30T12:23:42.983Z"
   },
   {
    "duration": 4,
    "start_time": "2021-08-30T12:25:04.109Z"
   },
   {
    "duration": 12,
    "start_time": "2021-08-30T12:25:04.116Z"
   },
   {
    "duration": 14,
    "start_time": "2021-08-30T12:25:04.131Z"
   },
   {
    "duration": 418,
    "start_time": "2021-08-30T12:25:04.148Z"
   },
   {
    "duration": 391,
    "start_time": "2021-08-30T12:25:04.569Z"
   },
   {
    "duration": 441,
    "start_time": "2021-08-30T12:25:04.963Z"
   },
   {
    "duration": 388,
    "start_time": "2021-08-30T12:25:05.406Z"
   },
   {
    "duration": 399,
    "start_time": "2021-08-30T12:25:05.797Z"
   },
   {
    "duration": 381,
    "start_time": "2021-08-30T12:25:06.202Z"
   },
   {
    "duration": 11,
    "start_time": "2021-08-30T12:25:06.588Z"
   },
   {
    "duration": 83,
    "start_time": "2021-08-30T12:25:06.602Z"
   },
   {
    "duration": 123,
    "start_time": "2021-08-30T12:25:06.690Z"
   },
   {
    "duration": 205,
    "start_time": "2021-08-30T12:25:06.886Z"
   },
   {
    "duration": 95,
    "start_time": "2021-08-30T12:25:07.096Z"
   },
   {
    "duration": 6,
    "start_time": "2021-08-30T12:25:07.195Z"
   },
   {
    "duration": 146,
    "start_time": "2021-08-30T12:25:07.205Z"
   },
   {
    "duration": 131,
    "start_time": "2021-08-30T12:25:07.354Z"
   },
   {
    "duration": 13,
    "start_time": "2021-08-30T12:25:07.490Z"
   },
   {
    "duration": 7,
    "start_time": "2021-08-30T12:25:07.585Z"
   },
   {
    "duration": 31,
    "start_time": "2021-08-30T12:25:07.596Z"
   },
   {
    "duration": 23,
    "start_time": "2021-08-30T12:25:07.630Z"
   },
   {
    "duration": 8,
    "start_time": "2021-08-30T12:25:07.684Z"
   },
   {
    "duration": 8,
    "start_time": "2021-08-30T12:25:07.695Z"
   },
   {
    "duration": 9,
    "start_time": "2021-08-30T12:25:07.706Z"
   },
   {
    "duration": 8,
    "start_time": "2021-08-30T12:25:07.718Z"
   },
   {
    "duration": 54,
    "start_time": "2021-08-30T12:25:07.729Z"
   },
   {
    "duration": 5,
    "start_time": "2021-08-30T12:25:07.790Z"
   },
   {
    "duration": 19,
    "start_time": "2021-08-30T12:25:07.798Z"
   },
   {
    "duration": 13402,
    "start_time": "2021-08-30T12:25:07.819Z"
   },
   {
    "duration": 6,
    "start_time": "2021-08-30T12:25:21.223Z"
   },
   {
    "duration": 24,
    "start_time": "2021-08-30T12:25:21.231Z"
   },
   {
    "duration": 943,
    "start_time": "2021-08-30T12:25:21.258Z"
   },
   {
    "duration": 19,
    "start_time": "2021-08-30T12:25:22.203Z"
   },
   {
    "duration": 565,
    "start_time": "2021-08-30T12:25:22.225Z"
   },
   {
    "duration": 22,
    "start_time": "2021-08-30T12:25:22.793Z"
   },
   {
    "duration": 544,
    "start_time": "2021-08-30T12:25:22.818Z"
   },
   {
    "duration": 15889,
    "start_time": "2021-08-30T12:26:05.429Z"
   },
   {
    "duration": 6,
    "start_time": "2021-08-30T12:26:21.321Z"
   },
   {
    "duration": 20,
    "start_time": "2021-08-30T12:26:21.330Z"
   },
   {
    "duration": 548,
    "start_time": "2021-08-30T12:26:21.352Z"
   },
   {
    "duration": 18,
    "start_time": "2021-08-30T12:27:05.908Z"
   },
   {
    "duration": 613,
    "start_time": "2021-08-30T12:27:09.755Z"
   },
   {
    "duration": 5,
    "start_time": "2021-08-30T12:27:14.066Z"
   },
   {
    "duration": 12,
    "start_time": "2021-08-30T12:27:14.073Z"
   },
   {
    "duration": 15,
    "start_time": "2021-08-30T12:27:14.089Z"
   },
   {
    "duration": 444,
    "start_time": "2021-08-30T12:27:14.106Z"
   },
   {
    "duration": 369,
    "start_time": "2021-08-30T12:27:14.554Z"
   },
   {
    "duration": 387,
    "start_time": "2021-08-30T12:27:14.925Z"
   },
   {
    "duration": 407,
    "start_time": "2021-08-30T12:27:15.314Z"
   },
   {
    "duration": 445,
    "start_time": "2021-08-30T12:27:15.726Z"
   },
   {
    "duration": 415,
    "start_time": "2021-08-30T12:27:16.175Z"
   },
   {
    "duration": 10,
    "start_time": "2021-08-30T12:27:16.598Z"
   },
   {
    "duration": 88,
    "start_time": "2021-08-30T12:27:16.611Z"
   },
   {
    "duration": 185,
    "start_time": "2021-08-30T12:27:16.702Z"
   },
   {
    "duration": 192,
    "start_time": "2021-08-30T12:27:16.890Z"
   },
   {
    "duration": 9,
    "start_time": "2021-08-30T12:27:17.088Z"
   },
   {
    "duration": 90,
    "start_time": "2021-08-30T12:27:17.102Z"
   },
   {
    "duration": 23,
    "start_time": "2021-08-30T12:27:17.195Z"
   },
   {
    "duration": 166,
    "start_time": "2021-08-30T12:27:17.220Z"
   },
   {
    "duration": 11,
    "start_time": "2021-08-30T12:27:17.389Z"
   },
   {
    "duration": 81,
    "start_time": "2021-08-30T12:27:17.403Z"
   },
   {
    "duration": 28,
    "start_time": "2021-08-30T12:27:17.489Z"
   },
   {
    "duration": 77,
    "start_time": "2021-08-30T12:27:17.520Z"
   },
   {
    "duration": 7,
    "start_time": "2021-08-30T12:27:17.599Z"
   },
   {
    "duration": 6,
    "start_time": "2021-08-30T12:27:17.614Z"
   },
   {
    "duration": 16,
    "start_time": "2021-08-30T12:27:17.622Z"
   },
   {
    "duration": 45,
    "start_time": "2021-08-30T12:27:17.640Z"
   },
   {
    "duration": 17,
    "start_time": "2021-08-30T12:27:17.688Z"
   },
   {
    "duration": 8,
    "start_time": "2021-08-30T12:27:17.708Z"
   },
   {
    "duration": 8,
    "start_time": "2021-08-30T12:27:17.719Z"
   },
   {
    "duration": 17120,
    "start_time": "2021-08-30T12:27:17.730Z"
   },
   {
    "duration": 6,
    "start_time": "2021-08-30T12:27:34.852Z"
   },
   {
    "duration": 44,
    "start_time": "2021-08-30T12:27:34.860Z"
   },
   {
    "duration": 563,
    "start_time": "2021-08-30T12:27:34.907Z"
   },
   {
    "duration": 22,
    "start_time": "2021-08-30T12:27:35.473Z"
   },
   {
    "duration": 563,
    "start_time": "2021-08-30T12:27:35.498Z"
   },
   {
    "duration": 30,
    "start_time": "2021-08-30T12:27:36.063Z"
   },
   {
    "duration": 547,
    "start_time": "2021-08-30T12:27:36.096Z"
   },
   {
    "duration": 93,
    "start_time": "2021-08-30T13:18:02.718Z"
   },
   {
    "duration": 6,
    "start_time": "2021-08-30T13:20:41.126Z"
   },
   {
    "duration": 533,
    "start_time": "2021-08-30T13:20:44.248Z"
   },
   {
    "duration": 7,
    "start_time": "2021-08-30T13:34:23.172Z"
   },
   {
    "duration": 558,
    "start_time": "2021-08-30T13:34:25.813Z"
   },
   {
    "duration": 91,
    "start_time": "2021-08-30T13:35:37.379Z"
   },
   {
    "duration": 21,
    "start_time": "2021-08-30T13:36:15.544Z"
   },
   {
    "duration": 10,
    "start_time": "2021-08-30T13:36:30.511Z"
   },
   {
    "duration": 6,
    "start_time": "2021-08-30T13:36:49.858Z"
   },
   {
    "duration": 499,
    "start_time": "2021-08-30T13:36:52.310Z"
   },
   {
    "duration": 6,
    "start_time": "2021-08-30T13:37:12.945Z"
   },
   {
    "duration": 486,
    "start_time": "2021-08-30T13:37:15.352Z"
   },
   {
    "duration": 4,
    "start_time": "2021-08-30T13:37:26.190Z"
   },
   {
    "duration": 11,
    "start_time": "2021-08-30T13:37:26.197Z"
   },
   {
    "duration": 8,
    "start_time": "2021-08-30T13:37:26.211Z"
   },
   {
    "duration": 461,
    "start_time": "2021-08-30T13:37:26.222Z"
   },
   {
    "duration": 474,
    "start_time": "2021-08-30T13:37:26.685Z"
   },
   {
    "duration": 503,
    "start_time": "2021-08-30T13:37:27.162Z"
   },
   {
    "duration": 409,
    "start_time": "2021-08-30T13:37:27.668Z"
   },
   {
    "duration": 373,
    "start_time": "2021-08-30T13:37:28.083Z"
   },
   {
    "duration": 398,
    "start_time": "2021-08-30T13:37:28.460Z"
   },
   {
    "duration": 6,
    "start_time": "2021-08-30T13:37:28.861Z"
   },
   {
    "duration": 45,
    "start_time": "2021-08-30T13:37:28.869Z"
   },
   {
    "duration": 198,
    "start_time": "2021-08-30T13:37:28.985Z"
   },
   {
    "duration": 120,
    "start_time": "2021-08-30T13:37:29.186Z"
   },
   {
    "duration": 8,
    "start_time": "2021-08-30T13:37:29.384Z"
   },
   {
    "duration": 8,
    "start_time": "2021-08-30T13:37:29.483Z"
   },
   {
    "duration": 10,
    "start_time": "2021-08-30T13:37:29.493Z"
   },
   {
    "duration": 87,
    "start_time": "2021-08-30T13:37:29.506Z"
   },
   {
    "duration": 91,
    "start_time": "2021-08-30T13:37:29.596Z"
   },
   {
    "duration": 22,
    "start_time": "2021-08-30T13:37:29.690Z"
   },
   {
    "duration": 75,
    "start_time": "2021-08-30T13:37:29.716Z"
   },
   {
    "duration": 19,
    "start_time": "2021-08-30T13:37:29.794Z"
   },
   {
    "duration": 10,
    "start_time": "2021-08-30T13:37:29.816Z"
   },
   {
    "duration": 10,
    "start_time": "2021-08-30T13:37:29.828Z"
   },
   {
    "duration": 24,
    "start_time": "2021-08-30T13:37:29.840Z"
   },
   {
    "duration": 8,
    "start_time": "2021-08-30T13:37:29.883Z"
   },
   {
    "duration": 25,
    "start_time": "2021-08-30T13:37:29.894Z"
   },
   {
    "duration": 13,
    "start_time": "2021-08-30T13:37:29.924Z"
   },
   {
    "duration": 16,
    "start_time": "2021-08-30T13:37:29.939Z"
   },
   {
    "duration": 15682,
    "start_time": "2021-08-30T13:37:29.957Z"
   },
   {
    "duration": 7,
    "start_time": "2021-08-30T13:37:45.642Z"
   },
   {
    "duration": 36,
    "start_time": "2021-08-30T13:37:45.651Z"
   },
   {
    "duration": 501,
    "start_time": "2021-08-30T13:37:45.689Z"
   },
   {
    "duration": 16,
    "start_time": "2021-08-30T13:37:46.192Z"
   },
   {
    "duration": 529,
    "start_time": "2021-08-30T13:37:46.210Z"
   },
   {
    "duration": 14,
    "start_time": "2021-08-30T13:37:46.742Z"
   },
   {
    "duration": 608,
    "start_time": "2021-08-30T13:37:46.758Z"
   }
  ],
  "kernelspec": {
   "display_name": "Python 3",
   "language": "python",
   "name": "python3"
  },
  "language_info": {
   "codemirror_mode": {
    "name": "ipython",
    "version": 3
   },
   "file_extension": ".py",
   "mimetype": "text/x-python",
   "name": "python",
   "nbconvert_exporter": "python",
   "pygments_lexer": "ipython3",
   "version": "3.8.5"
  },
  "toc": {
   "base_numbering": 1,
   "nav_menu": {},
   "number_sections": true,
   "sideBar": true,
   "skip_h1_title": true,
   "title_cell": "Table of Contents",
   "title_sidebar": "Contents",
   "toc_cell": true,
   "toc_position": {
    "height": "calc(100% - 180px)",
    "left": "10px",
    "top": "150px",
    "width": "280px"
   },
   "toc_section_display": true,
   "toc_window_display": true
  }
 },
 "nbformat": 4,
 "nbformat_minor": 2
}
