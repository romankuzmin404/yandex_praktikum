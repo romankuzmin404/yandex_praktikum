{
 "cells": [
  {
   "cell_type": "markdown",
   "metadata": {},
   "source": [
    "<div style=\"background: #cceeaa; padding: 5px; border: 1px solid green; border-radius: 5px;\">\n",
    "<font color='green'> \n",
    "    <b><u>КОММЕНТАРИЙ РЕВЬЮЕРА</u></b>\n",
    "<font color='green'><br>\n",
    "<br />\n",
    "Роман, доброго дня! рад приветствовать тебя в финале) <br />\n",
    "Вот и он подобрался, поздравляю. Остался последний рывок в этом марафоне)<br>\n",
    "<br />\n",
    "Меня зовут Николай. <br />И на этом этапе Вашего движения к новой профессии от меня будут комментарии по написанному коду. <br />Чтобы меньше \"мусорить эфир\" и чтобы максимально наглядно отделяться от основного кода, есть предложение условиться в некоторых обозначениях:<br /> <br />\n",
    "<u><b>ТАКОЙ ШРИФТ</b></u> - всегда начало комментария <br />\n",
    "<font color='green'>такой шрифт</font> - комментарии о том, что всё ОК <br/>\n",
    "<font color='purple'>такой шрифт</font> - комментарии о том, что всё ОК по результату,<br> однако что есть ещё что-то или в коде или есть способы сделать более короткий или быстрый код <br/>\n",
    "<font color='red'>такой шрифт</font> - комментарии о том, что есть критичный момент, влияющий на бизнес-результат проекта.<br/>\n",
    "</font><br /><br />\n",
    "<font color='green'>Как и всегда в спринтах - ставлю своей целью максимально помочь. Поэтому, все мои комментарии - это только способ передать свой опыт для помощи в твоих достижениях."
   ]
  },
  {
   "cell_type": "markdown",
   "metadata": {},
   "source": [
    "\n",
    "<div style=\"background: #cceeaa; padding: 5px; border: 1px solid green; border-radius: 5px;\">\n",
    "    <font color='blue'> <b><u>КОММЕНТАРИЙ СТУДЕНТА</u></b>\n",
    "</font>\n",
    "<font color='green'><br>\n",
    "Привет Николай, спасибо за ревью, я удалил столбец total_charge (пункт 4.1) он коррелировал с lifecycle, AUC ROC упал сразу.  \n",
    "Признаки старта работы.\n",
    "\n",
    "<br>\n"
   ]
  },
  {
   "cell_type": "markdown",
   "metadata": {},
   "source": [
    "<div style=\"background: #cceeaa; padding: 5px; border: 1px solid green; border-radius: 5px;\">\n",
    "    <font color='green'> <b><u>КОММЕНТАРИЙ РЕВЬЮЕРА 2</u></b>\n",
    "</font>\n",
    "<font color='green'><br>Привет, Роман.<br>\n",
    "ОК, увидел твои доработки. Всё в точку и по делу.<br>\n",
    "Удаление мультиколлинеарности - не жёское правило на самом деле.<br>\n",
    "Тут два аспекта можно рассматривать:<br>\n",
    "1) математический: когда два фактора имеют сильную корреляцию, то при матричных вычислениях внутри некоторых методов наступаю сложности. И самим методам внутри прихрдится их решать. Это может давать некторые сложности в расчётах. Плюс - скорость самих расчётов снижается.<br>\n",
    "2) бизнесово-логичесвкая: если два фактора очень сильно связаны друг с другом, то значит они имеют примерно одинаковое влияние на целевую переменную. А значит какой смысл оба их держать в модели. Напрмиер, каким-то образом попадутся факторы скорости, измеренные в км/ч и м/с - тут всем ясно (и бизнесу в том числе), что один фактор - излишний. При этом, как писал выше, есть понятие ложной корреляции. Если факторы имеют высокую корреляцию, НО логически НИКАК не связы друг с другом, то надо поисследолвать ещё, прежде чем удалять)<br>\n",
    "    \n",
    "Если метрика упала критично - можно вернуть назад. Тут уже на усмотрение аналитика - смотим по обстоятельствам, на бизнес-ситуацию)<br>\n",
    "    \n",
    "В общем-то всё на этом.<br>\n",
    "Спасибо за этот труд и за совместную работу на других проектах)<br>\n",
    "Искренне желаю покорить ещё не один аналитический Эверест)<br>"
   ]
  },
  {
   "cell_type": "code",
   "execution_count": null,
   "metadata": {},
   "outputs": [],
   "source": []
  },
  {
   "cell_type": "code",
   "execution_count": null,
   "metadata": {},
   "outputs": [],
   "source": []
  },
  {
   "cell_type": "markdown",
   "metadata": {
    "id": "gsPgYmA9XshT"
   },
   "source": [
    "## Телеком — задача проекта\n",
    "\n",
    "Оператор связи «Ниединогоразрыва.ком» хочет научиться прогнозировать отток клиентов. Если выяснится, что пользователь планирует уйти, ему будут предложены промокоды и специальные условия. Команда оператора собрала персональные данные о некоторых клиентах, информацию об их тарифах и договорах.\n",
    "\n",
    "### Описание услуг\n",
    "\n",
    "Оператор предоставляет два основных типа услуг: \n",
    "\n",
    "1. Стационарную телефонную связь. Возможно подключение телефонного аппарата к нескольким линиям одновременно.\n",
    "2. Интернет. Подключение может быть двух типов: через телефонную линию (DSL*,* от англ. *digital subscriber line*, «цифровая абонентская линия») или оптоволоконный кабель (*Fiber optic*).  \n",
    "\n",
    "Также доступны такие услуги:\n",
    "\n",
    "- Интернет-безопасность: антивирус (*DeviceProtection*) и блокировка небезопасных сайтов (*OnlineSecurity*);\n",
    "- Выделенная линия технической поддержки (*TechSupport*);\n",
    "- Облачное хранилище файлов для резервного копирования данных (*OnlineBackup*);\n",
    "- Стриминговое телевидение (*StreamingTV*) и каталог фильмов (*StreamingMovies*).\n",
    "\n",
    "За услуги клиенты могут платить каждый месяц или заключить договор на 1–2 года. Доступны различные способы расчёта и возможность получения электронного чека.\n",
    "\n",
    "### Описание данных\n",
    "\n",
    "Данные состоят из файлов, полученных из разных источников:\n",
    "\n",
    "- `contract.csv` — информация о договоре;\n",
    "- `personal.csv` — персональные данные клиента;\n",
    "- `internet.csv` — информация об интернет-услугах;\n",
    "- `phone.csv` — информация об услугах телефонии.\n",
    "\n",
    "Во всех файлах столбец `customerID` содержит код клиента.\n",
    "\n",
    "Описание полей данных:\n",
    "- BeginDate – дата начала пользования услугами,\n",
    "- EndDate – дата окончания пользования услугами,\n",
    "- Type – тип оплаты: ежемесячный, годовой и тд,\n",
    "- PaperlessBilling – безналичный расчет,\n",
    "- PaymentMethod – способ оплаты,\n",
    "- MonthlyCharges – ежемесячные траты на услуги,\n",
    "- TotalCharges – всего потрачено денег на услуги\n",
    "- Dependents – наличие иждивенцев\n",
    "- Senior Citizen – наличие пенсионного статуса по возрасту\n",
    "- Partner – наличие супруга(и)\n",
    "- MultipleLines – наличие возможности ведения параллельных линий во время звонка\n",
    "\n",
    "### Данные\n",
    "\n",
    "[final_provider.zip](https://s3-us-west-2.amazonaws.com/secure.notion-static.com/ac39c23b-718e-4cd6-bdaa-85b3a127a457/final_provider.zip)\n",
    "\n",
    "Данные также находятся в тренажёре, в папке `/datasets/final_provider/`.\n",
    "\n",
    "\n",
    "### План работы\n",
    " 1. Подготовка данных. Загрузить и изучить данные. Определить и обработать пропущенные значения. Изменить тип данных при необходимости\n",
    " 2. Исследовательский анализ. Проанализировать датасет.\n",
    " 3. Исследовать баланс классов: изучить модели без учёта дисбаланса. Учесть дисбаланс. Привести несколько способов борьбы с дисбалансом. Подготовить признаки техникой OHE\n",
    " 4. Обучение модели. Разбить данные на 2 выборки и построить не менее 3-х моделей (decision tree, logistic regression, catboost)\n",
    " 5. Тестирование. Подбор гиперпараметров для достижения максимального значения AUC-ROC (не менее 0.75)\n",
    "\n",
    " \n",
    "\n",
    "**Распределение баллов**\n",
    "- 0 sp\t                  AUC-ROC < 0.75\n",
    "- 4 sp\t      0.75 ≤ AUC-ROC < 0.81\n",
    "- 4.5 sp    0.81 ≤ AUC-ROC < 0.85\n",
    "- 5 sp       0.85 ≤ AUC-ROC < 0.87\n",
    "- 5.5 sp    0.87 ≤ AUC-ROC < 0.88\n",
    "- 6 sp\t                  AUC-ROC ≥ 0.88"
   ]
  },
  {
   "cell_type": "code",
   "execution_count": 171,
   "metadata": {
    "colab": {
     "base_uri": "https://localhost:8080/"
    },
    "id": "A-Dy5mcYX8lH",
    "outputId": "5f07d431-88ca-4da6-e695-5a17d7dbb9b5"
   },
   "outputs": [],
   "source": [
    "#from google.colab import drive\n",
    "#drive.mount('/content/drive')"
   ]
  },
  {
   "cell_type": "code",
   "execution_count": 172,
   "metadata": {
    "colab": {
     "base_uri": "https://localhost:8080/"
    },
    "id": "Oe4_Opvun_nr",
    "outputId": "21c78b93-b223-4ada-e29f-61c51144866d"
   },
   "outputs": [
    {
     "name": "stdout",
     "output_type": "stream",
     "text": [
      "Defaulting to user installation because normal site-packages is not writeable\n",
      "Requirement already satisfied: catboost==1.0.4 in /home/jovyan/.local/lib/python3.7/site-packages (1.0.4)\n",
      "Requirement already satisfied: pandas>=0.24.0 in /opt/conda/lib/python3.7/site-packages (from catboost==1.0.4) (0.25.1)\n",
      "Requirement already satisfied: scipy in /opt/conda/lib/python3.7/site-packages (from catboost==1.0.4) (1.4.1)\n",
      "Requirement already satisfied: graphviz in /opt/conda/lib/python3.7/site-packages (from catboost==1.0.4) (0.16)\n",
      "Requirement already satisfied: six in /opt/conda/lib/python3.7/site-packages (from catboost==1.0.4) (1.15.0)\n",
      "Requirement already satisfied: numpy>=1.16.0 in /opt/conda/lib/python3.7/site-packages (from catboost==1.0.4) (1.19.5)\n",
      "Requirement already satisfied: plotly in /opt/conda/lib/python3.7/site-packages (from catboost==1.0.4) (4.1.0)\n",
      "Requirement already satisfied: matplotlib in /opt/conda/lib/python3.7/site-packages (from catboost==1.0.4) (3.1.0)\n",
      "Requirement already satisfied: python-dateutil>=2.6.1 in /opt/conda/lib/python3.7/site-packages (from pandas>=0.24.0->catboost==1.0.4) (2.8.1)\n",
      "Requirement already satisfied: pytz>=2017.2 in /opt/conda/lib/python3.7/site-packages (from pandas>=0.24.0->catboost==1.0.4) (2021.1)\n",
      "Requirement already satisfied: retrying>=1.3.3 in /opt/conda/lib/python3.7/site-packages (from plotly->catboost==1.0.4) (1.3.3)\n",
      "Requirement already satisfied: cycler>=0.10 in /opt/conda/lib/python3.7/site-packages (from matplotlib->catboost==1.0.4) (0.10.0)\n",
      "Requirement already satisfied: kiwisolver>=1.0.1 in /opt/conda/lib/python3.7/site-packages (from matplotlib->catboost==1.0.4) (1.3.1)\n",
      "Requirement already satisfied: pyparsing!=2.0.4,!=2.1.2,!=2.1.6,>=2.0.1 in /opt/conda/lib/python3.7/site-packages (from matplotlib->catboost==1.0.4) (2.4.7)\n",
      "Note: you may need to restart the kernel to use updated packages.\n"
     ]
    }
   ],
   "source": [
    "pip install catboost==1.0.4"
   ]
  },
  {
   "cell_type": "markdown",
   "metadata": {
    "id": "7r2SFs7cXshY"
   },
   "source": [
    "Импортируем необходимые библиотеки"
   ]
  },
  {
   "cell_type": "code",
   "execution_count": 173,
   "metadata": {
    "id": "_S0A4jazXsha"
   },
   "outputs": [],
   "source": [
    "import pandas as pd\n",
    "import numpy as np\n",
    "import matplotlib.pyplot as plt\n",
    "import seaborn as sns\n",
    "from sklearn.preprocessing import StandardScaler\n",
    "from sklearn.tree import DecisionTreeClassifier\n",
    "from sklearn.model_selection import train_test_split\n",
    "from sklearn.metrics import confusion_matrix\n",
    "from sklearn.metrics import recall_score\n",
    "from sklearn.metrics import make_scorer\n",
    "from sklearn.metrics import precision_score\n",
    "from sklearn.metrics import accuracy_score\n",
    "from sklearn.metrics import f1_score\n",
    "from sklearn.metrics import roc_auc_score\n",
    "from sklearn.ensemble import RandomForestClassifier\n",
    "from sklearn.linear_model import LogisticRegression\n",
    "from sklearn.utils import shuffle\n",
    "from sklearn.metrics import precision_recall_curve\n",
    "from sklearn.metrics import roc_curve\n",
    "from sklearn.datasets import make_classification\n",
    "from catboost import CatBoostClassifier\n",
    "from sklearn.model_selection import GridSearchCV, RandomizedSearchCV, cross_val_score\n",
    "from sklearn import metrics\n",
    "from sklearn.metrics import classification_report\n",
    "from sklearn.pipeline import Pipeline\n",
    "import warnings\n",
    "warnings.filterwarnings('ignore')"
   ]
  },
  {
   "cell_type": "markdown",
   "metadata": {
    "id": "3njbV1cHXshd"
   },
   "source": [
    "## Подготовка данных"
   ]
  },
  {
   "cell_type": "code",
   "execution_count": 174,
   "metadata": {
    "id": "uWQj2m4IXshe"
   },
   "outputs": [],
   "source": [
    "def get_data(path):\n",
    "    df = pd.read_csv(path)\n",
    "    print('Проверим типы данных и пропущенные значения')\n",
    "    display(df.info())\n",
    "    print('Посмотрим содержимое первых 5 строк')\n",
    "    display(df.head())\n",
    "    print('Посмотрим на описательную статистику')\n",
    "    display(df.describe().T)\n",
    "    try: \n",
    "        del df['Unnamed: 0'] #удаление лишнего столбца при наличии\n",
    "    except KeyError:\n",
    "        print('Unnamed: 0 не обнаружено лишних столбцов')\n",
    "        print('')\n",
    "        \n",
    "    print('столбцов: ', len(df.columns), df.columns) \n",
    "    print('')\n",
    "    print('Частично выведем уникальные значения столбцов')    \n",
    "    for i in range(0, len(df.columns)):\n",
    "        print('')\n",
    "        print('уникальные значения столбца ' + str(i) + ' ' + df.columns[i])\n",
    "        print(df.iloc[:,i].unique())\n",
    "        print('')\n",
    "    return df"
   ]
  },
  {
   "cell_type": "code",
   "execution_count": null,
   "metadata": {},
   "outputs": [],
   "source": []
  },
  {
   "cell_type": "raw",
   "metadata": {},
   "source": [
    "df_contract = pd.read_csv('/datasets/final_provider/contract.csv')\n",
    "df_internet = pd.read_csv('/datasets/final_provider/internet.csv')\n",
    "df_personal = pd.read_csv('/datasets/final_provider/personal.csv')\n",
    "df_phone = pd.read_csv('/datasets/final_provider/phone.csv')"
   ]
  },
  {
   "cell_type": "markdown",
   "metadata": {
    "id": "MiXBeu2VXshf"
   },
   "source": [
    "### Таблица contract"
   ]
  },
  {
   "cell_type": "code",
   "execution_count": 175,
   "metadata": {
    "colab": {
     "base_uri": "https://localhost:8080/",
     "height": 1000
    },
    "id": "EDdsAdSsXshf",
    "outputId": "7c2ffed7-b7b5-48eb-8a2f-8ae432cd387b",
    "scrolled": false
   },
   "outputs": [
    {
     "name": "stdout",
     "output_type": "stream",
     "text": [
      "Проверим типы данных и пропущенные значения\n",
      "<class 'pandas.core.frame.DataFrame'>\n",
      "RangeIndex: 7043 entries, 0 to 7042\n",
      "Data columns (total 8 columns):\n",
      "customerID          7043 non-null object\n",
      "BeginDate           7043 non-null object\n",
      "EndDate             7043 non-null object\n",
      "Type                7043 non-null object\n",
      "PaperlessBilling    7043 non-null object\n",
      "PaymentMethod       7043 non-null object\n",
      "MonthlyCharges      7043 non-null float64\n",
      "TotalCharges        7043 non-null object\n",
      "dtypes: float64(1), object(7)\n",
      "memory usage: 440.3+ KB\n"
     ]
    },
    {
     "data": {
      "text/plain": [
       "None"
      ]
     },
     "metadata": {},
     "output_type": "display_data"
    },
    {
     "name": "stdout",
     "output_type": "stream",
     "text": [
      "Посмотрим содержимое первых 5 строк\n"
     ]
    },
    {
     "data": {
      "text/html": [
       "<div>\n",
       "<style scoped>\n",
       "    .dataframe tbody tr th:only-of-type {\n",
       "        vertical-align: middle;\n",
       "    }\n",
       "\n",
       "    .dataframe tbody tr th {\n",
       "        vertical-align: top;\n",
       "    }\n",
       "\n",
       "    .dataframe thead th {\n",
       "        text-align: right;\n",
       "    }\n",
       "</style>\n",
       "<table border=\"1\" class=\"dataframe\">\n",
       "  <thead>\n",
       "    <tr style=\"text-align: right;\">\n",
       "      <th></th>\n",
       "      <th>customerID</th>\n",
       "      <th>BeginDate</th>\n",
       "      <th>EndDate</th>\n",
       "      <th>Type</th>\n",
       "      <th>PaperlessBilling</th>\n",
       "      <th>PaymentMethod</th>\n",
       "      <th>MonthlyCharges</th>\n",
       "      <th>TotalCharges</th>\n",
       "    </tr>\n",
       "  </thead>\n",
       "  <tbody>\n",
       "    <tr>\n",
       "      <td>0</td>\n",
       "      <td>7590-VHVEG</td>\n",
       "      <td>2020-01-01</td>\n",
       "      <td>No</td>\n",
       "      <td>Month-to-month</td>\n",
       "      <td>Yes</td>\n",
       "      <td>Electronic check</td>\n",
       "      <td>29.85</td>\n",
       "      <td>29.85</td>\n",
       "    </tr>\n",
       "    <tr>\n",
       "      <td>1</td>\n",
       "      <td>5575-GNVDE</td>\n",
       "      <td>2017-04-01</td>\n",
       "      <td>No</td>\n",
       "      <td>One year</td>\n",
       "      <td>No</td>\n",
       "      <td>Mailed check</td>\n",
       "      <td>56.95</td>\n",
       "      <td>1889.5</td>\n",
       "    </tr>\n",
       "    <tr>\n",
       "      <td>2</td>\n",
       "      <td>3668-QPYBK</td>\n",
       "      <td>2019-10-01</td>\n",
       "      <td>2019-12-01 00:00:00</td>\n",
       "      <td>Month-to-month</td>\n",
       "      <td>Yes</td>\n",
       "      <td>Mailed check</td>\n",
       "      <td>53.85</td>\n",
       "      <td>108.15</td>\n",
       "    </tr>\n",
       "    <tr>\n",
       "      <td>3</td>\n",
       "      <td>7795-CFOCW</td>\n",
       "      <td>2016-05-01</td>\n",
       "      <td>No</td>\n",
       "      <td>One year</td>\n",
       "      <td>No</td>\n",
       "      <td>Bank transfer (automatic)</td>\n",
       "      <td>42.30</td>\n",
       "      <td>1840.75</td>\n",
       "    </tr>\n",
       "    <tr>\n",
       "      <td>4</td>\n",
       "      <td>9237-HQITU</td>\n",
       "      <td>2019-09-01</td>\n",
       "      <td>2019-11-01 00:00:00</td>\n",
       "      <td>Month-to-month</td>\n",
       "      <td>Yes</td>\n",
       "      <td>Electronic check</td>\n",
       "      <td>70.70</td>\n",
       "      <td>151.65</td>\n",
       "    </tr>\n",
       "  </tbody>\n",
       "</table>\n",
       "</div>"
      ],
      "text/plain": [
       "   customerID   BeginDate              EndDate            Type  \\\n",
       "0  7590-VHVEG  2020-01-01                   No  Month-to-month   \n",
       "1  5575-GNVDE  2017-04-01                   No        One year   \n",
       "2  3668-QPYBK  2019-10-01  2019-12-01 00:00:00  Month-to-month   \n",
       "3  7795-CFOCW  2016-05-01                   No        One year   \n",
       "4  9237-HQITU  2019-09-01  2019-11-01 00:00:00  Month-to-month   \n",
       "\n",
       "  PaperlessBilling              PaymentMethod  MonthlyCharges TotalCharges  \n",
       "0              Yes           Electronic check           29.85        29.85  \n",
       "1               No               Mailed check           56.95       1889.5  \n",
       "2              Yes               Mailed check           53.85       108.15  \n",
       "3               No  Bank transfer (automatic)           42.30      1840.75  \n",
       "4              Yes           Electronic check           70.70       151.65  "
      ]
     },
     "metadata": {},
     "output_type": "display_data"
    },
    {
     "name": "stdout",
     "output_type": "stream",
     "text": [
      "Посмотрим на описательную статистику\n"
     ]
    },
    {
     "data": {
      "text/html": [
       "<div>\n",
       "<style scoped>\n",
       "    .dataframe tbody tr th:only-of-type {\n",
       "        vertical-align: middle;\n",
       "    }\n",
       "\n",
       "    .dataframe tbody tr th {\n",
       "        vertical-align: top;\n",
       "    }\n",
       "\n",
       "    .dataframe thead th {\n",
       "        text-align: right;\n",
       "    }\n",
       "</style>\n",
       "<table border=\"1\" class=\"dataframe\">\n",
       "  <thead>\n",
       "    <tr style=\"text-align: right;\">\n",
       "      <th></th>\n",
       "      <th>count</th>\n",
       "      <th>mean</th>\n",
       "      <th>std</th>\n",
       "      <th>min</th>\n",
       "      <th>25%</th>\n",
       "      <th>50%</th>\n",
       "      <th>75%</th>\n",
       "      <th>max</th>\n",
       "    </tr>\n",
       "  </thead>\n",
       "  <tbody>\n",
       "    <tr>\n",
       "      <td>MonthlyCharges</td>\n",
       "      <td>7043.0</td>\n",
       "      <td>64.761692</td>\n",
       "      <td>30.090047</td>\n",
       "      <td>18.25</td>\n",
       "      <td>35.5</td>\n",
       "      <td>70.35</td>\n",
       "      <td>89.85</td>\n",
       "      <td>118.75</td>\n",
       "    </tr>\n",
       "  </tbody>\n",
       "</table>\n",
       "</div>"
      ],
      "text/plain": [
       "                 count       mean        std    min   25%    50%    75%  \\\n",
       "MonthlyCharges  7043.0  64.761692  30.090047  18.25  35.5  70.35  89.85   \n",
       "\n",
       "                   max  \n",
       "MonthlyCharges  118.75  "
      ]
     },
     "metadata": {},
     "output_type": "display_data"
    },
    {
     "name": "stdout",
     "output_type": "stream",
     "text": [
      "Unnamed: 0 не обнаружено лишних столбцов\n",
      "\n",
      "столбцов:  8 Index(['customerID', 'BeginDate', 'EndDate', 'Type', 'PaperlessBilling',\n",
      "       'PaymentMethod', 'MonthlyCharges', 'TotalCharges'],\n",
      "      dtype='object')\n",
      "\n",
      "Частично выведем уникальные значения столбцов\n",
      "\n",
      "уникальные значения столбца 0 customerID\n",
      "['7590-VHVEG' '5575-GNVDE' '3668-QPYBK' ... '4801-JZAZL' '8361-LTMKD'\n",
      " '3186-AJIEK']\n",
      "\n",
      "\n",
      "уникальные значения столбца 1 BeginDate\n",
      "['2020-01-01' '2017-04-01' '2019-10-01' '2016-05-01' '2019-09-01'\n",
      " '2019-03-01' '2018-04-01' '2019-04-01' '2017-07-01' '2014-12-01'\n",
      " '2019-01-01' '2018-10-01' '2015-04-01' '2015-09-01' '2018-01-01'\n",
      " '2014-05-01' '2015-10-01' '2014-03-01' '2018-05-01' '2019-11-01'\n",
      " '2019-02-01' '2016-01-01' '2017-08-01' '2015-12-01' '2014-02-01'\n",
      " '2018-06-01' '2019-12-01' '2017-11-01' '2019-06-01' '2016-04-01'\n",
      " '2017-02-01' '2018-12-01' '2014-04-01' '2018-09-01' '2014-11-01'\n",
      " '2016-07-01' '2015-02-01' '2018-07-01' '2014-08-01' '2016-03-01'\n",
      " '2018-08-01' '2014-10-01' '2015-06-01' '2016-08-01' '2019-05-01'\n",
      " '2017-03-01' '2016-02-01' '2017-09-01' '2014-09-01' '2017-12-01'\n",
      " '2016-12-01' '2017-06-01' '2015-05-01' '2016-10-01' '2016-09-01'\n",
      " '2019-08-01' '2019-07-01' '2017-05-01' '2017-10-01' '2014-07-01'\n",
      " '2018-03-01' '2015-01-01' '2018-11-01' '2015-03-01' '2018-02-01'\n",
      " '2016-06-01' '2015-08-01' '2015-11-01' '2014-06-01' '2017-01-01'\n",
      " '2015-07-01' '2020-02-01' '2016-11-01' '2013-11-01' '2014-01-01'\n",
      " '2013-10-01' '2013-12-01']\n",
      "\n",
      "\n",
      "уникальные значения столбца 2 EndDate\n",
      "['No' '2019-12-01 00:00:00' '2019-11-01 00:00:00' '2019-10-01 00:00:00'\n",
      " '2020-01-01 00:00:00']\n",
      "\n",
      "\n",
      "уникальные значения столбца 3 Type\n",
      "['Month-to-month' 'One year' 'Two year']\n",
      "\n",
      "\n",
      "уникальные значения столбца 4 PaperlessBilling\n",
      "['Yes' 'No']\n",
      "\n",
      "\n",
      "уникальные значения столбца 5 PaymentMethod\n",
      "['Electronic check' 'Mailed check' 'Bank transfer (automatic)'\n",
      " 'Credit card (automatic)']\n",
      "\n",
      "\n",
      "уникальные значения столбца 6 MonthlyCharges\n",
      "[29.85 56.95 53.85 ... 63.1  44.2  78.7 ]\n",
      "\n",
      "\n",
      "уникальные значения столбца 7 TotalCharges\n",
      "['29.85' '1889.5' '108.15' ... '346.45' '306.6' '6844.5']\n",
      "\n"
     ]
    }
   ],
   "source": [
    "df_contract = get_data('/datasets/final_provider/contract.csv')#('/Users/romankuzmin/env/contract.csv')\n",
    "#\n",
    "#/datasets/final_provider/contract.csv"
   ]
  },
  {
   "cell_type": "markdown",
   "metadata": {
    "id": "nGR83fS5Xshh"
   },
   "source": [
    "В столбце total_charges присутствуют пустые строки"
   ]
  },
  {
   "cell_type": "code",
   "execution_count": 176,
   "metadata": {
    "colab": {
     "base_uri": "https://localhost:8080/",
     "height": 35
    },
    "id": "igPWBOl7Xshi",
    "outputId": "ced259b4-8a12-41c6-9a9c-016ff76e727d"
   },
   "outputs": [
    {
     "data": {
      "text/plain": [
       "' '"
      ]
     },
     "execution_count": 176,
     "metadata": {},
     "output_type": "execute_result"
    }
   ],
   "source": [
    "df_contract.TotalCharges.iloc[488]"
   ]
  },
  {
   "cell_type": "code",
   "execution_count": 177,
   "metadata": {
    "id": "PXB-5vfKXshi"
   },
   "outputs": [],
   "source": [
    "#приведем названия столбцов к стандарту\n",
    "df_contract.columns = ['customer_id', 'begin_date', 'end_date', 'type', 'paperless_billing', 'payment_method', 'monthly_charges', 'total_charges']\n",
    "#обработаем пропущенные значения строкового формата, заменим на 0\n",
    "df_contract.total_charges = df_contract.total_charges.str.replace(' ','0')\n",
    "#изменим типы данных\n",
    "df_contract.begin_date = pd.to_datetime(df_contract['begin_date'], format='%Y-%m-%d')\n",
    "#df_contract.end_date = pd.to_datetime(df_contract['end_date'], format='%Y-%m-%d')\n",
    "df_contract.total_charges = pd.to_numeric(df_contract.total_charges)"
   ]
  },
  {
   "cell_type": "code",
   "execution_count": 178,
   "metadata": {
    "colab": {
     "base_uri": "https://localhost:8080/",
     "height": 112
    },
    "id": "iW-s7mX1Xshj",
    "outputId": "6b06255a-674d-4322-c604-d627a3a3a7d4",
    "scrolled": true
   },
   "outputs": [
    {
     "data": {
      "text/html": [
       "<div>\n",
       "<style scoped>\n",
       "    .dataframe tbody tr th:only-of-type {\n",
       "        vertical-align: middle;\n",
       "    }\n",
       "\n",
       "    .dataframe tbody tr th {\n",
       "        vertical-align: top;\n",
       "    }\n",
       "\n",
       "    .dataframe thead th {\n",
       "        text-align: right;\n",
       "    }\n",
       "</style>\n",
       "<table border=\"1\" class=\"dataframe\">\n",
       "  <thead>\n",
       "    <tr style=\"text-align: right;\">\n",
       "      <th></th>\n",
       "      <th>count</th>\n",
       "      <th>mean</th>\n",
       "      <th>std</th>\n",
       "      <th>min</th>\n",
       "      <th>25%</th>\n",
       "      <th>50%</th>\n",
       "      <th>75%</th>\n",
       "      <th>max</th>\n",
       "    </tr>\n",
       "  </thead>\n",
       "  <tbody>\n",
       "    <tr>\n",
       "      <td>monthly_charges</td>\n",
       "      <td>7043.0</td>\n",
       "      <td>64.761692</td>\n",
       "      <td>30.090047</td>\n",
       "      <td>18.25</td>\n",
       "      <td>35.50</td>\n",
       "      <td>70.35</td>\n",
       "      <td>89.85</td>\n",
       "      <td>118.75</td>\n",
       "    </tr>\n",
       "    <tr>\n",
       "      <td>total_charges</td>\n",
       "      <td>7043.0</td>\n",
       "      <td>2279.734304</td>\n",
       "      <td>2266.794470</td>\n",
       "      <td>0.00</td>\n",
       "      <td>398.55</td>\n",
       "      <td>1394.55</td>\n",
       "      <td>3786.60</td>\n",
       "      <td>8684.80</td>\n",
       "    </tr>\n",
       "  </tbody>\n",
       "</table>\n",
       "</div>"
      ],
      "text/plain": [
       "                  count         mean          std    min     25%      50%  \\\n",
       "monthly_charges  7043.0    64.761692    30.090047  18.25   35.50    70.35   \n",
       "total_charges    7043.0  2279.734304  2266.794470   0.00  398.55  1394.55   \n",
       "\n",
       "                     75%      max  \n",
       "monthly_charges    89.85   118.75  \n",
       "total_charges    3786.60  8684.80  "
      ]
     },
     "execution_count": 178,
     "metadata": {},
     "output_type": "execute_result"
    }
   ],
   "source": [
    "df_contract.describe().T"
   ]
  },
  {
   "cell_type": "markdown",
   "metadata": {
    "id": "fKMWdFfXXshk"
   },
   "source": [
    "Проверим даты окончания пользования услугами"
   ]
  },
  {
   "cell_type": "code",
   "execution_count": 179,
   "metadata": {
    "colab": {
     "base_uri": "https://localhost:8080/"
    },
    "id": "o4WJmWKxXshk",
    "outputId": "b1c7018d-b39f-442c-f4be-485a1f7cbc29"
   },
   "outputs": [
    {
     "data": {
      "text/plain": [
       "No                     5174\n",
       "2019-11-01 00:00:00     485\n",
       "2019-12-01 00:00:00     466\n",
       "2020-01-01 00:00:00     460\n",
       "2019-10-01 00:00:00     458\n",
       "Name: end_date, dtype: int64"
      ]
     },
     "execution_count": 179,
     "metadata": {},
     "output_type": "execute_result"
    }
   ],
   "source": [
    "df_contract['end_date'].value_counts()"
   ]
  },
  {
   "cell_type": "markdown",
   "metadata": {},
   "source": [
    "<div style=\"background: #cceeaa; padding: 5px; border: 1px solid green; border-radius: 5px;\">\n",
    "    <font color='green'> <b><u>КОММЕНТАРИЙ РЕВЬЮЕРА</u></b>\n",
    "</font>\n",
    "<font color='green'><br>ОТЛИЧНОЕ аналитическое начало!!!"
   ]
  },
  {
   "cell_type": "markdown",
   "metadata": {
    "id": "cDxFhtuhXshk"
   },
   "source": [
    "### Таблица personal"
   ]
  },
  {
   "cell_type": "code",
   "execution_count": 180,
   "metadata": {
    "colab": {
     "base_uri": "https://localhost:8080/",
     "height": 998
    },
    "id": "NRTVAK1RXshl",
    "outputId": "6279ee5f-8167-4fd2-9167-bb4b151ffc86",
    "scrolled": false
   },
   "outputs": [
    {
     "name": "stdout",
     "output_type": "stream",
     "text": [
      "Проверим типы данных и пропущенные значения\n",
      "<class 'pandas.core.frame.DataFrame'>\n",
      "RangeIndex: 7043 entries, 0 to 7042\n",
      "Data columns (total 5 columns):\n",
      "customerID       7043 non-null object\n",
      "gender           7043 non-null object\n",
      "SeniorCitizen    7043 non-null int64\n",
      "Partner          7043 non-null object\n",
      "Dependents       7043 non-null object\n",
      "dtypes: int64(1), object(4)\n",
      "memory usage: 275.2+ KB\n"
     ]
    },
    {
     "data": {
      "text/plain": [
       "None"
      ]
     },
     "metadata": {},
     "output_type": "display_data"
    },
    {
     "name": "stdout",
     "output_type": "stream",
     "text": [
      "Посмотрим содержимое первых 5 строк\n"
     ]
    },
    {
     "data": {
      "text/html": [
       "<div>\n",
       "<style scoped>\n",
       "    .dataframe tbody tr th:only-of-type {\n",
       "        vertical-align: middle;\n",
       "    }\n",
       "\n",
       "    .dataframe tbody tr th {\n",
       "        vertical-align: top;\n",
       "    }\n",
       "\n",
       "    .dataframe thead th {\n",
       "        text-align: right;\n",
       "    }\n",
       "</style>\n",
       "<table border=\"1\" class=\"dataframe\">\n",
       "  <thead>\n",
       "    <tr style=\"text-align: right;\">\n",
       "      <th></th>\n",
       "      <th>customerID</th>\n",
       "      <th>gender</th>\n",
       "      <th>SeniorCitizen</th>\n",
       "      <th>Partner</th>\n",
       "      <th>Dependents</th>\n",
       "    </tr>\n",
       "  </thead>\n",
       "  <tbody>\n",
       "    <tr>\n",
       "      <td>0</td>\n",
       "      <td>7590-VHVEG</td>\n",
       "      <td>Female</td>\n",
       "      <td>0</td>\n",
       "      <td>Yes</td>\n",
       "      <td>No</td>\n",
       "    </tr>\n",
       "    <tr>\n",
       "      <td>1</td>\n",
       "      <td>5575-GNVDE</td>\n",
       "      <td>Male</td>\n",
       "      <td>0</td>\n",
       "      <td>No</td>\n",
       "      <td>No</td>\n",
       "    </tr>\n",
       "    <tr>\n",
       "      <td>2</td>\n",
       "      <td>3668-QPYBK</td>\n",
       "      <td>Male</td>\n",
       "      <td>0</td>\n",
       "      <td>No</td>\n",
       "      <td>No</td>\n",
       "    </tr>\n",
       "    <tr>\n",
       "      <td>3</td>\n",
       "      <td>7795-CFOCW</td>\n",
       "      <td>Male</td>\n",
       "      <td>0</td>\n",
       "      <td>No</td>\n",
       "      <td>No</td>\n",
       "    </tr>\n",
       "    <tr>\n",
       "      <td>4</td>\n",
       "      <td>9237-HQITU</td>\n",
       "      <td>Female</td>\n",
       "      <td>0</td>\n",
       "      <td>No</td>\n",
       "      <td>No</td>\n",
       "    </tr>\n",
       "  </tbody>\n",
       "</table>\n",
       "</div>"
      ],
      "text/plain": [
       "   customerID  gender  SeniorCitizen Partner Dependents\n",
       "0  7590-VHVEG  Female              0     Yes         No\n",
       "1  5575-GNVDE    Male              0      No         No\n",
       "2  3668-QPYBK    Male              0      No         No\n",
       "3  7795-CFOCW    Male              0      No         No\n",
       "4  9237-HQITU  Female              0      No         No"
      ]
     },
     "metadata": {},
     "output_type": "display_data"
    },
    {
     "name": "stdout",
     "output_type": "stream",
     "text": [
      "Посмотрим на описательную статистику\n"
     ]
    },
    {
     "data": {
      "text/html": [
       "<div>\n",
       "<style scoped>\n",
       "    .dataframe tbody tr th:only-of-type {\n",
       "        vertical-align: middle;\n",
       "    }\n",
       "\n",
       "    .dataframe tbody tr th {\n",
       "        vertical-align: top;\n",
       "    }\n",
       "\n",
       "    .dataframe thead th {\n",
       "        text-align: right;\n",
       "    }\n",
       "</style>\n",
       "<table border=\"1\" class=\"dataframe\">\n",
       "  <thead>\n",
       "    <tr style=\"text-align: right;\">\n",
       "      <th></th>\n",
       "      <th>count</th>\n",
       "      <th>mean</th>\n",
       "      <th>std</th>\n",
       "      <th>min</th>\n",
       "      <th>25%</th>\n",
       "      <th>50%</th>\n",
       "      <th>75%</th>\n",
       "      <th>max</th>\n",
       "    </tr>\n",
       "  </thead>\n",
       "  <tbody>\n",
       "    <tr>\n",
       "      <td>SeniorCitizen</td>\n",
       "      <td>7043.0</td>\n",
       "      <td>0.162147</td>\n",
       "      <td>0.368612</td>\n",
       "      <td>0.0</td>\n",
       "      <td>0.0</td>\n",
       "      <td>0.0</td>\n",
       "      <td>0.0</td>\n",
       "      <td>1.0</td>\n",
       "    </tr>\n",
       "  </tbody>\n",
       "</table>\n",
       "</div>"
      ],
      "text/plain": [
       "                count      mean       std  min  25%  50%  75%  max\n",
       "SeniorCitizen  7043.0  0.162147  0.368612  0.0  0.0  0.0  0.0  1.0"
      ]
     },
     "metadata": {},
     "output_type": "display_data"
    },
    {
     "name": "stdout",
     "output_type": "stream",
     "text": [
      "Unnamed: 0 не обнаружено лишних столбцов\n",
      "\n",
      "столбцов:  5 Index(['customerID', 'gender', 'SeniorCitizen', 'Partner', 'Dependents'], dtype='object')\n",
      "\n",
      "Частично выведем уникальные значения столбцов\n",
      "\n",
      "уникальные значения столбца 0 customerID\n",
      "['7590-VHVEG' '5575-GNVDE' '3668-QPYBK' ... '4801-JZAZL' '8361-LTMKD'\n",
      " '3186-AJIEK']\n",
      "\n",
      "\n",
      "уникальные значения столбца 1 gender\n",
      "['Female' 'Male']\n",
      "\n",
      "\n",
      "уникальные значения столбца 2 SeniorCitizen\n",
      "[0 1]\n",
      "\n",
      "\n",
      "уникальные значения столбца 3 Partner\n",
      "['Yes' 'No']\n",
      "\n",
      "\n",
      "уникальные значения столбца 4 Dependents\n",
      "['No' 'Yes']\n",
      "\n"
     ]
    }
   ],
   "source": [
    "df_personal = get_data('/datasets/final_provider/personal.csv') #('/Users/romankuzmin/env/personal.csv')\n",
    "#/datasets/final_provider/personal.csv"
   ]
  },
  {
   "cell_type": "code",
   "execution_count": 181,
   "metadata": {
    "id": "LOK_7G-nXshl"
   },
   "outputs": [],
   "source": [
    "df_personal.columns = ['customer_id','gender', 'senior_citizen', 'partner', 'dependents']"
   ]
  },
  {
   "cell_type": "markdown",
   "metadata": {
    "id": "mtHCbwx_Xshm"
   },
   "source": [
    "### Таблица internet"
   ]
  },
  {
   "cell_type": "code",
   "execution_count": 182,
   "metadata": {
    "colab": {
     "base_uri": "https://localhost:8080/",
     "height": 1000
    },
    "id": "ds2-opLQXshm",
    "outputId": "0f21fce7-ca84-4ec7-f8b3-9e8df2e48683",
    "scrolled": false
   },
   "outputs": [
    {
     "name": "stdout",
     "output_type": "stream",
     "text": [
      "Проверим типы данных и пропущенные значения\n",
      "<class 'pandas.core.frame.DataFrame'>\n",
      "RangeIndex: 5517 entries, 0 to 5516\n",
      "Data columns (total 8 columns):\n",
      "customerID          5517 non-null object\n",
      "InternetService     5517 non-null object\n",
      "OnlineSecurity      5517 non-null object\n",
      "OnlineBackup        5517 non-null object\n",
      "DeviceProtection    5517 non-null object\n",
      "TechSupport         5517 non-null object\n",
      "StreamingTV         5517 non-null object\n",
      "StreamingMovies     5517 non-null object\n",
      "dtypes: object(8)\n",
      "memory usage: 344.9+ KB\n"
     ]
    },
    {
     "data": {
      "text/plain": [
       "None"
      ]
     },
     "metadata": {},
     "output_type": "display_data"
    },
    {
     "name": "stdout",
     "output_type": "stream",
     "text": [
      "Посмотрим содержимое первых 5 строк\n"
     ]
    },
    {
     "data": {
      "text/html": [
       "<div>\n",
       "<style scoped>\n",
       "    .dataframe tbody tr th:only-of-type {\n",
       "        vertical-align: middle;\n",
       "    }\n",
       "\n",
       "    .dataframe tbody tr th {\n",
       "        vertical-align: top;\n",
       "    }\n",
       "\n",
       "    .dataframe thead th {\n",
       "        text-align: right;\n",
       "    }\n",
       "</style>\n",
       "<table border=\"1\" class=\"dataframe\">\n",
       "  <thead>\n",
       "    <tr style=\"text-align: right;\">\n",
       "      <th></th>\n",
       "      <th>customerID</th>\n",
       "      <th>InternetService</th>\n",
       "      <th>OnlineSecurity</th>\n",
       "      <th>OnlineBackup</th>\n",
       "      <th>DeviceProtection</th>\n",
       "      <th>TechSupport</th>\n",
       "      <th>StreamingTV</th>\n",
       "      <th>StreamingMovies</th>\n",
       "    </tr>\n",
       "  </thead>\n",
       "  <tbody>\n",
       "    <tr>\n",
       "      <td>0</td>\n",
       "      <td>7590-VHVEG</td>\n",
       "      <td>DSL</td>\n",
       "      <td>No</td>\n",
       "      <td>Yes</td>\n",
       "      <td>No</td>\n",
       "      <td>No</td>\n",
       "      <td>No</td>\n",
       "      <td>No</td>\n",
       "    </tr>\n",
       "    <tr>\n",
       "      <td>1</td>\n",
       "      <td>5575-GNVDE</td>\n",
       "      <td>DSL</td>\n",
       "      <td>Yes</td>\n",
       "      <td>No</td>\n",
       "      <td>Yes</td>\n",
       "      <td>No</td>\n",
       "      <td>No</td>\n",
       "      <td>No</td>\n",
       "    </tr>\n",
       "    <tr>\n",
       "      <td>2</td>\n",
       "      <td>3668-QPYBK</td>\n",
       "      <td>DSL</td>\n",
       "      <td>Yes</td>\n",
       "      <td>Yes</td>\n",
       "      <td>No</td>\n",
       "      <td>No</td>\n",
       "      <td>No</td>\n",
       "      <td>No</td>\n",
       "    </tr>\n",
       "    <tr>\n",
       "      <td>3</td>\n",
       "      <td>7795-CFOCW</td>\n",
       "      <td>DSL</td>\n",
       "      <td>Yes</td>\n",
       "      <td>No</td>\n",
       "      <td>Yes</td>\n",
       "      <td>Yes</td>\n",
       "      <td>No</td>\n",
       "      <td>No</td>\n",
       "    </tr>\n",
       "    <tr>\n",
       "      <td>4</td>\n",
       "      <td>9237-HQITU</td>\n",
       "      <td>Fiber optic</td>\n",
       "      <td>No</td>\n",
       "      <td>No</td>\n",
       "      <td>No</td>\n",
       "      <td>No</td>\n",
       "      <td>No</td>\n",
       "      <td>No</td>\n",
       "    </tr>\n",
       "  </tbody>\n",
       "</table>\n",
       "</div>"
      ],
      "text/plain": [
       "   customerID InternetService OnlineSecurity OnlineBackup DeviceProtection  \\\n",
       "0  7590-VHVEG             DSL             No          Yes               No   \n",
       "1  5575-GNVDE             DSL            Yes           No              Yes   \n",
       "2  3668-QPYBK             DSL            Yes          Yes               No   \n",
       "3  7795-CFOCW             DSL            Yes           No              Yes   \n",
       "4  9237-HQITU     Fiber optic             No           No               No   \n",
       "\n",
       "  TechSupport StreamingTV StreamingMovies  \n",
       "0          No          No              No  \n",
       "1          No          No              No  \n",
       "2          No          No              No  \n",
       "3         Yes          No              No  \n",
       "4          No          No              No  "
      ]
     },
     "metadata": {},
     "output_type": "display_data"
    },
    {
     "name": "stdout",
     "output_type": "stream",
     "text": [
      "Посмотрим на описательную статистику\n"
     ]
    },
    {
     "data": {
      "text/html": [
       "<div>\n",
       "<style scoped>\n",
       "    .dataframe tbody tr th:only-of-type {\n",
       "        vertical-align: middle;\n",
       "    }\n",
       "\n",
       "    .dataframe tbody tr th {\n",
       "        vertical-align: top;\n",
       "    }\n",
       "\n",
       "    .dataframe thead th {\n",
       "        text-align: right;\n",
       "    }\n",
       "</style>\n",
       "<table border=\"1\" class=\"dataframe\">\n",
       "  <thead>\n",
       "    <tr style=\"text-align: right;\">\n",
       "      <th></th>\n",
       "      <th>count</th>\n",
       "      <th>unique</th>\n",
       "      <th>top</th>\n",
       "      <th>freq</th>\n",
       "    </tr>\n",
       "  </thead>\n",
       "  <tbody>\n",
       "    <tr>\n",
       "      <td>customerID</td>\n",
       "      <td>5517</td>\n",
       "      <td>5517</td>\n",
       "      <td>3400-ESFUW</td>\n",
       "      <td>1</td>\n",
       "    </tr>\n",
       "    <tr>\n",
       "      <td>InternetService</td>\n",
       "      <td>5517</td>\n",
       "      <td>2</td>\n",
       "      <td>Fiber optic</td>\n",
       "      <td>3096</td>\n",
       "    </tr>\n",
       "    <tr>\n",
       "      <td>OnlineSecurity</td>\n",
       "      <td>5517</td>\n",
       "      <td>2</td>\n",
       "      <td>No</td>\n",
       "      <td>3498</td>\n",
       "    </tr>\n",
       "    <tr>\n",
       "      <td>OnlineBackup</td>\n",
       "      <td>5517</td>\n",
       "      <td>2</td>\n",
       "      <td>No</td>\n",
       "      <td>3088</td>\n",
       "    </tr>\n",
       "    <tr>\n",
       "      <td>DeviceProtection</td>\n",
       "      <td>5517</td>\n",
       "      <td>2</td>\n",
       "      <td>No</td>\n",
       "      <td>3095</td>\n",
       "    </tr>\n",
       "    <tr>\n",
       "      <td>TechSupport</td>\n",
       "      <td>5517</td>\n",
       "      <td>2</td>\n",
       "      <td>No</td>\n",
       "      <td>3473</td>\n",
       "    </tr>\n",
       "    <tr>\n",
       "      <td>StreamingTV</td>\n",
       "      <td>5517</td>\n",
       "      <td>2</td>\n",
       "      <td>No</td>\n",
       "      <td>2810</td>\n",
       "    </tr>\n",
       "    <tr>\n",
       "      <td>StreamingMovies</td>\n",
       "      <td>5517</td>\n",
       "      <td>2</td>\n",
       "      <td>No</td>\n",
       "      <td>2785</td>\n",
       "    </tr>\n",
       "  </tbody>\n",
       "</table>\n",
       "</div>"
      ],
      "text/plain": [
       "                 count unique          top  freq\n",
       "customerID        5517   5517   3400-ESFUW     1\n",
       "InternetService   5517      2  Fiber optic  3096\n",
       "OnlineSecurity    5517      2           No  3498\n",
       "OnlineBackup      5517      2           No  3088\n",
       "DeviceProtection  5517      2           No  3095\n",
       "TechSupport       5517      2           No  3473\n",
       "StreamingTV       5517      2           No  2810\n",
       "StreamingMovies   5517      2           No  2785"
      ]
     },
     "metadata": {},
     "output_type": "display_data"
    },
    {
     "name": "stdout",
     "output_type": "stream",
     "text": [
      "Unnamed: 0 не обнаружено лишних столбцов\n",
      "\n",
      "столбцов:  8 Index(['customerID', 'InternetService', 'OnlineSecurity', 'OnlineBackup',\n",
      "       'DeviceProtection', 'TechSupport', 'StreamingTV', 'StreamingMovies'],\n",
      "      dtype='object')\n",
      "\n",
      "Частично выведем уникальные значения столбцов\n",
      "\n",
      "уникальные значения столбца 0 customerID\n",
      "['7590-VHVEG' '5575-GNVDE' '3668-QPYBK' ... '4801-JZAZL' '8361-LTMKD'\n",
      " '3186-AJIEK']\n",
      "\n",
      "\n",
      "уникальные значения столбца 1 InternetService\n",
      "['DSL' 'Fiber optic']\n",
      "\n",
      "\n",
      "уникальные значения столбца 2 OnlineSecurity\n",
      "['No' 'Yes']\n",
      "\n",
      "\n",
      "уникальные значения столбца 3 OnlineBackup\n",
      "['Yes' 'No']\n",
      "\n",
      "\n",
      "уникальные значения столбца 4 DeviceProtection\n",
      "['No' 'Yes']\n",
      "\n",
      "\n",
      "уникальные значения столбца 5 TechSupport\n",
      "['No' 'Yes']\n",
      "\n",
      "\n",
      "уникальные значения столбца 6 StreamingTV\n",
      "['No' 'Yes']\n",
      "\n",
      "\n",
      "уникальные значения столбца 7 StreamingMovies\n",
      "['No' 'Yes']\n",
      "\n"
     ]
    }
   ],
   "source": [
    "df_internet = get_data('/datasets/final_provider/internet.csv') #('/Users/romankuzmin/env/internet.csv')\n",
    "#/datasets/final_provider/internet.csv"
   ]
  },
  {
   "cell_type": "code",
   "execution_count": 183,
   "metadata": {
    "id": "QXpPtnvkXshm"
   },
   "outputs": [],
   "source": [
    "df_internet.columns = \\\n",
    "['customer_id', 'internet_service', \\\n",
    " 'online_security', 'online_backup', \n",
    " 'device_protection', 'tech_support', \n",
    " 'streaming_TV', 'streaming_movies']"
   ]
  },
  {
   "cell_type": "markdown",
   "metadata": {
    "id": "IRy0vIpiXshn"
   },
   "source": [
    "### Таблица phone"
   ]
  },
  {
   "cell_type": "code",
   "execution_count": 184,
   "metadata": {
    "colab": {
     "base_uri": "https://localhost:8080/",
     "height": 770
    },
    "id": "BNOPruCgXshn",
    "outputId": "1997c31b-1669-47e8-daa8-0d7bb4bd3bf6"
   },
   "outputs": [
    {
     "name": "stdout",
     "output_type": "stream",
     "text": [
      "Проверим типы данных и пропущенные значения\n",
      "<class 'pandas.core.frame.DataFrame'>\n",
      "RangeIndex: 6361 entries, 0 to 6360\n",
      "Data columns (total 2 columns):\n",
      "customerID       6361 non-null object\n",
      "MultipleLines    6361 non-null object\n",
      "dtypes: object(2)\n",
      "memory usage: 99.5+ KB\n"
     ]
    },
    {
     "data": {
      "text/plain": [
       "None"
      ]
     },
     "metadata": {},
     "output_type": "display_data"
    },
    {
     "name": "stdout",
     "output_type": "stream",
     "text": [
      "Посмотрим содержимое первых 5 строк\n"
     ]
    },
    {
     "data": {
      "text/html": [
       "<div>\n",
       "<style scoped>\n",
       "    .dataframe tbody tr th:only-of-type {\n",
       "        vertical-align: middle;\n",
       "    }\n",
       "\n",
       "    .dataframe tbody tr th {\n",
       "        vertical-align: top;\n",
       "    }\n",
       "\n",
       "    .dataframe thead th {\n",
       "        text-align: right;\n",
       "    }\n",
       "</style>\n",
       "<table border=\"1\" class=\"dataframe\">\n",
       "  <thead>\n",
       "    <tr style=\"text-align: right;\">\n",
       "      <th></th>\n",
       "      <th>customerID</th>\n",
       "      <th>MultipleLines</th>\n",
       "    </tr>\n",
       "  </thead>\n",
       "  <tbody>\n",
       "    <tr>\n",
       "      <td>0</td>\n",
       "      <td>5575-GNVDE</td>\n",
       "      <td>No</td>\n",
       "    </tr>\n",
       "    <tr>\n",
       "      <td>1</td>\n",
       "      <td>3668-QPYBK</td>\n",
       "      <td>No</td>\n",
       "    </tr>\n",
       "    <tr>\n",
       "      <td>2</td>\n",
       "      <td>9237-HQITU</td>\n",
       "      <td>No</td>\n",
       "    </tr>\n",
       "    <tr>\n",
       "      <td>3</td>\n",
       "      <td>9305-CDSKC</td>\n",
       "      <td>Yes</td>\n",
       "    </tr>\n",
       "    <tr>\n",
       "      <td>4</td>\n",
       "      <td>1452-KIOVK</td>\n",
       "      <td>Yes</td>\n",
       "    </tr>\n",
       "  </tbody>\n",
       "</table>\n",
       "</div>"
      ],
      "text/plain": [
       "   customerID MultipleLines\n",
       "0  5575-GNVDE            No\n",
       "1  3668-QPYBK            No\n",
       "2  9237-HQITU            No\n",
       "3  9305-CDSKC           Yes\n",
       "4  1452-KIOVK           Yes"
      ]
     },
     "metadata": {},
     "output_type": "display_data"
    },
    {
     "name": "stdout",
     "output_type": "stream",
     "text": [
      "Посмотрим на описательную статистику\n"
     ]
    },
    {
     "data": {
      "text/html": [
       "<div>\n",
       "<style scoped>\n",
       "    .dataframe tbody tr th:only-of-type {\n",
       "        vertical-align: middle;\n",
       "    }\n",
       "\n",
       "    .dataframe tbody tr th {\n",
       "        vertical-align: top;\n",
       "    }\n",
       "\n",
       "    .dataframe thead th {\n",
       "        text-align: right;\n",
       "    }\n",
       "</style>\n",
       "<table border=\"1\" class=\"dataframe\">\n",
       "  <thead>\n",
       "    <tr style=\"text-align: right;\">\n",
       "      <th></th>\n",
       "      <th>count</th>\n",
       "      <th>unique</th>\n",
       "      <th>top</th>\n",
       "      <th>freq</th>\n",
       "    </tr>\n",
       "  </thead>\n",
       "  <tbody>\n",
       "    <tr>\n",
       "      <td>customerID</td>\n",
       "      <td>6361</td>\n",
       "      <td>6361</td>\n",
       "      <td>8902-ZEOVF</td>\n",
       "      <td>1</td>\n",
       "    </tr>\n",
       "    <tr>\n",
       "      <td>MultipleLines</td>\n",
       "      <td>6361</td>\n",
       "      <td>2</td>\n",
       "      <td>No</td>\n",
       "      <td>3390</td>\n",
       "    </tr>\n",
       "  </tbody>\n",
       "</table>\n",
       "</div>"
      ],
      "text/plain": [
       "              count unique         top  freq\n",
       "customerID     6361   6361  8902-ZEOVF     1\n",
       "MultipleLines  6361      2          No  3390"
      ]
     },
     "metadata": {},
     "output_type": "display_data"
    },
    {
     "name": "stdout",
     "output_type": "stream",
     "text": [
      "Unnamed: 0 не обнаружено лишних столбцов\n",
      "\n",
      "столбцов:  2 Index(['customerID', 'MultipleLines'], dtype='object')\n",
      "\n",
      "Частично выведем уникальные значения столбцов\n",
      "\n",
      "уникальные значения столбца 0 customerID\n",
      "['5575-GNVDE' '3668-QPYBK' '9237-HQITU' ... '2234-XADUH' '8361-LTMKD'\n",
      " '3186-AJIEK']\n",
      "\n",
      "\n",
      "уникальные значения столбца 1 MultipleLines\n",
      "['No' 'Yes']\n",
      "\n"
     ]
    }
   ],
   "source": [
    "df_phone = get_data('/datasets/final_provider/phone.csv')#('/Users/romankuzmin/env/phone.csv')\n",
    "#/datasets/final_provider/phone.csv"
   ]
  },
  {
   "cell_type": "code",
   "execution_count": 185,
   "metadata": {
    "id": "lUiLKHGRXshn"
   },
   "outputs": [],
   "source": [
    "df_phone.columns = ['customer_id', 'multiple_lines']"
   ]
  },
  {
   "cell_type": "markdown",
   "metadata": {},
   "source": [
    "<div style=\"background: #cceeaa; padding: 5px; border: 1px solid green; border-radius: 5px;\">\n",
    "    <font color='green'> <b><u>КОММЕНТАРИЙ РЕВЬЮЕРА</u></b>\n",
    "</font>\n",
    "<font color='green'><br>ОК, данные на базе и есть внимательный первичный аналитический осмотр)"
   ]
  },
  {
   "cell_type": "markdown",
   "metadata": {
    "id": "BpJF9jrBXsho"
   },
   "source": [
    "## Исследовательский анализ"
   ]
  },
  {
   "cell_type": "markdown",
   "metadata": {
    "id": "dWJbJILzXsho"
   },
   "source": [
    "### Базовая проверка данных"
   ]
  },
  {
   "cell_type": "markdown",
   "metadata": {
    "id": "kLz9pjC3Xsho"
   },
   "source": [
    "- Сколько всего пользователей?\n",
    "- За какой период времени есть данные?\n",
    "- Анализ пропусков после объединения таблиц\n"
   ]
  },
  {
   "cell_type": "code",
   "execution_count": 186,
   "metadata": {
    "colab": {
     "base_uri": "https://localhost:8080/"
    },
    "id": "751SRsEOXshp",
    "outputId": "1881cb1c-3937-4522-bd21-8b5a6cc8ce2a"
   },
   "outputs": [
    {
     "name": "stdout",
     "output_type": "stream",
     "text": [
      "Количетво уникальных пользователей: 7043\n"
     ]
    }
   ],
   "source": [
    "print('Количетво уникальных пользователей:', df_contract.customer_id.nunique())"
   ]
  },
  {
   "cell_type": "code",
   "execution_count": 187,
   "metadata": {
    "colab": {
     "base_uri": "https://localhost:8080/"
    },
    "id": "VBagCrIYXshp",
    "outputId": "b6429072-0e25-4454-bc18-bd57b974ad50"
   },
   "outputs": [
    {
     "name": "stdout",
     "output_type": "stream",
     "text": [
      "Данные предоставлены за: 2314 days 00:00:00\n"
     ]
    }
   ],
   "source": [
    "print('Данные предоставлены за:', df_contract.begin_date.max() - df_contract.begin_date.min())"
   ]
  },
  {
   "cell_type": "markdown",
   "metadata": {
    "id": "_4CWN-XIXshq"
   },
   "source": [
    "Объединим таблицы"
   ]
  },
  {
   "cell_type": "code",
   "execution_count": 188,
   "metadata": {
    "id": "ykCbfGriXshq"
   },
   "outputs": [],
   "source": [
    "contr_pers = df_contract.merge(df_personal, on='customer_id')"
   ]
  },
  {
   "cell_type": "code",
   "execution_count": 189,
   "metadata": {
    "id": "bHp4e2I_Xshq"
   },
   "outputs": [],
   "source": [
    "contr_pers_int = contr_pers.merge(df_internet, on='customer_id', how='outer')"
   ]
  },
  {
   "cell_type": "code",
   "execution_count": 190,
   "metadata": {
    "colab": {
     "base_uri": "https://localhost:8080/"
    },
    "id": "zTmafcntXshq",
    "outputId": "3d6bab42-a6dd-4b6b-989e-a6786d950f03"
   },
   "outputs": [
    {
     "name": "stdout",
     "output_type": "stream",
     "text": [
      "<class 'pandas.core.frame.DataFrame'>\n",
      "Int64Index: 7043 entries, 0 to 7042\n",
      "Data columns (total 19 columns):\n",
      "customer_id          7043 non-null object\n",
      "begin_date           7043 non-null datetime64[ns]\n",
      "end_date             7043 non-null object\n",
      "type                 7043 non-null object\n",
      "paperless_billing    7043 non-null object\n",
      "payment_method       7043 non-null object\n",
      "monthly_charges      7043 non-null float64\n",
      "total_charges        7043 non-null float64\n",
      "gender               7043 non-null object\n",
      "senior_citizen       7043 non-null int64\n",
      "partner              7043 non-null object\n",
      "dependents           7043 non-null object\n",
      "internet_service     5517 non-null object\n",
      "online_security      5517 non-null object\n",
      "online_backup        5517 non-null object\n",
      "device_protection    5517 non-null object\n",
      "tech_support         5517 non-null object\n",
      "streaming_TV         5517 non-null object\n",
      "streaming_movies     5517 non-null object\n",
      "dtypes: datetime64[ns](1), float64(2), int64(1), object(15)\n",
      "memory usage: 1.1+ MB\n"
     ]
    }
   ],
   "source": [
    "contr_pers_int.info()"
   ]
  },
  {
   "cell_type": "markdown",
   "metadata": {},
   "source": [
    "<div style=\"background: #cceeaa; padding: 5px; border: 1px solid green; border-radius: 5px;\">\n",
    "    <font color='green'> <b><u>КОММЕНТАРИЙ РЕВЬЮЕРА</u></b>\n",
    "</font>\n",
    "<font color='green'><br>ок, согласен."
   ]
  },
  {
   "cell_type": "code",
   "execution_count": 191,
   "metadata": {
    "colab": {
     "base_uri": "https://localhost:8080/"
    },
    "id": "Dn4f5dM_Xshr",
    "outputId": "32448f64-a041-4444-92c1-1e470af9c4e8"
   },
   "outputs": [
    {
     "name": "stdout",
     "output_type": "stream",
     "text": [
      "<class 'pandas.core.frame.DataFrame'>\n",
      "Int64Index: 7043 entries, 0 to 7042\n",
      "Data columns (total 20 columns):\n",
      "customer_id          7043 non-null object\n",
      "begin_date           7043 non-null datetime64[ns]\n",
      "end_date             7043 non-null object\n",
      "type                 7043 non-null object\n",
      "paperless_billing    7043 non-null object\n",
      "payment_method       7043 non-null object\n",
      "monthly_charges      7043 non-null float64\n",
      "total_charges        7043 non-null float64\n",
      "gender               7043 non-null object\n",
      "senior_citizen       7043 non-null int64\n",
      "partner              7043 non-null object\n",
      "dependents           7043 non-null object\n",
      "internet_service     5517 non-null object\n",
      "online_security      5517 non-null object\n",
      "online_backup        5517 non-null object\n",
      "device_protection    5517 non-null object\n",
      "tech_support         5517 non-null object\n",
      "streaming_TV         5517 non-null object\n",
      "streaming_movies     5517 non-null object\n",
      "multiple_lines       6361 non-null object\n",
      "dtypes: datetime64[ns](1), float64(2), int64(1), object(16)\n",
      "memory usage: 1.1+ MB\n"
     ]
    }
   ],
   "source": [
    "df_merged = contr_pers_int.merge(df_phone, on='customer_id', how='outer')\n",
    "df_merged.info()"
   ]
  },
  {
   "cell_type": "markdown",
   "metadata": {
    "id": "LJhRrVtGXshr"
   },
   "source": [
    "Проанализируем пропуски после объединения таблиц"
   ]
  },
  {
   "cell_type": "code",
   "execution_count": 192,
   "metadata": {
    "colab": {
     "base_uri": "https://localhost:8080/",
     "height": 335
    },
    "id": "W99afFutXshr",
    "outputId": "ea5568ff-fa2a-41c1-8447-87f63be9597d",
    "scrolled": true
   },
   "outputs": [
    {
     "name": "stdout",
     "output_type": "stream",
     "text": [
      "Your selected dataframe has 20 columns and 7043 Rows.\n",
      "There are 8 columns that have missing values.\n"
     ]
    },
    {
     "data": {
      "text/html": [
       "<div>\n",
       "<style scoped>\n",
       "    .dataframe tbody tr th:only-of-type {\n",
       "        vertical-align: middle;\n",
       "    }\n",
       "\n",
       "    .dataframe tbody tr th {\n",
       "        vertical-align: top;\n",
       "    }\n",
       "\n",
       "    .dataframe thead th {\n",
       "        text-align: right;\n",
       "    }\n",
       "</style>\n",
       "<table border=\"1\" class=\"dataframe\">\n",
       "  <thead>\n",
       "    <tr style=\"text-align: right;\">\n",
       "      <th></th>\n",
       "      <th>Zero Values</th>\n",
       "      <th>Missing Values</th>\n",
       "      <th>% of Total Values</th>\n",
       "      <th>Total Zero Missing Values</th>\n",
       "      <th>% Total Zero Missing Values</th>\n",
       "      <th>Data Type</th>\n",
       "    </tr>\n",
       "  </thead>\n",
       "  <tbody>\n",
       "    <tr>\n",
       "      <td>internet_service</td>\n",
       "      <td>0</td>\n",
       "      <td>1526</td>\n",
       "      <td>21.7</td>\n",
       "      <td>1526</td>\n",
       "      <td>21.7</td>\n",
       "      <td>object</td>\n",
       "    </tr>\n",
       "    <tr>\n",
       "      <td>online_security</td>\n",
       "      <td>0</td>\n",
       "      <td>1526</td>\n",
       "      <td>21.7</td>\n",
       "      <td>1526</td>\n",
       "      <td>21.7</td>\n",
       "      <td>object</td>\n",
       "    </tr>\n",
       "    <tr>\n",
       "      <td>online_backup</td>\n",
       "      <td>0</td>\n",
       "      <td>1526</td>\n",
       "      <td>21.7</td>\n",
       "      <td>1526</td>\n",
       "      <td>21.7</td>\n",
       "      <td>object</td>\n",
       "    </tr>\n",
       "    <tr>\n",
       "      <td>device_protection</td>\n",
       "      <td>0</td>\n",
       "      <td>1526</td>\n",
       "      <td>21.7</td>\n",
       "      <td>1526</td>\n",
       "      <td>21.7</td>\n",
       "      <td>object</td>\n",
       "    </tr>\n",
       "    <tr>\n",
       "      <td>tech_support</td>\n",
       "      <td>0</td>\n",
       "      <td>1526</td>\n",
       "      <td>21.7</td>\n",
       "      <td>1526</td>\n",
       "      <td>21.7</td>\n",
       "      <td>object</td>\n",
       "    </tr>\n",
       "    <tr>\n",
       "      <td>streaming_TV</td>\n",
       "      <td>0</td>\n",
       "      <td>1526</td>\n",
       "      <td>21.7</td>\n",
       "      <td>1526</td>\n",
       "      <td>21.7</td>\n",
       "      <td>object</td>\n",
       "    </tr>\n",
       "    <tr>\n",
       "      <td>streaming_movies</td>\n",
       "      <td>0</td>\n",
       "      <td>1526</td>\n",
       "      <td>21.7</td>\n",
       "      <td>1526</td>\n",
       "      <td>21.7</td>\n",
       "      <td>object</td>\n",
       "    </tr>\n",
       "    <tr>\n",
       "      <td>multiple_lines</td>\n",
       "      <td>0</td>\n",
       "      <td>682</td>\n",
       "      <td>9.7</td>\n",
       "      <td>682</td>\n",
       "      <td>9.7</td>\n",
       "      <td>object</td>\n",
       "    </tr>\n",
       "  </tbody>\n",
       "</table>\n",
       "</div>"
      ],
      "text/plain": [
       "                   Zero Values  Missing Values  % of Total Values  \\\n",
       "internet_service             0            1526               21.7   \n",
       "online_security              0            1526               21.7   \n",
       "online_backup                0            1526               21.7   \n",
       "device_protection            0            1526               21.7   \n",
       "tech_support                 0            1526               21.7   \n",
       "streaming_TV                 0            1526               21.7   \n",
       "streaming_movies             0            1526               21.7   \n",
       "multiple_lines               0             682                9.7   \n",
       "\n",
       "                   Total Zero Missing Values  % Total Zero Missing Values  \\\n",
       "internet_service                        1526                         21.7   \n",
       "online_security                         1526                         21.7   \n",
       "online_backup                           1526                         21.7   \n",
       "device_protection                       1526                         21.7   \n",
       "tech_support                            1526                         21.7   \n",
       "streaming_TV                            1526                         21.7   \n",
       "streaming_movies                        1526                         21.7   \n",
       "multiple_lines                           682                          9.7   \n",
       "\n",
       "                  Data Type  \n",
       "internet_service     object  \n",
       "online_security      object  \n",
       "online_backup        object  \n",
       "device_protection    object  \n",
       "tech_support         object  \n",
       "streaming_TV         object  \n",
       "streaming_movies     object  \n",
       "multiple_lines       object  "
      ]
     },
     "execution_count": 192,
     "metadata": {},
     "output_type": "execute_result"
    }
   ],
   "source": [
    "def missing_zero_values_table(df):\n",
    "        zero_val = (df == 0.00).astype(int).sum(axis=0)\n",
    "        mis_val = df.isnull().sum()\n",
    "        mis_val_percent = 100 * df.isnull().sum() / len(df)\n",
    "        mz_table = pd.concat([zero_val, mis_val, mis_val_percent], axis=1)\n",
    "        mz_table = mz_table.rename(\n",
    "        columns = {0 : 'Zero Values', 1 : 'Missing Values', 2 : '% of Total Values'})\n",
    "        mz_table['Total Zero Missing Values'] = mz_table['Zero Values'] + mz_table['Missing Values']\n",
    "        mz_table['% Total Zero Missing Values'] = 100 * mz_table['Total Zero Missing Values'] / len(df)\n",
    "        mz_table['Data Type'] = df.dtypes\n",
    "        mz_table = mz_table[\n",
    "            mz_table.iloc[:,1] != 0].sort_values(\n",
    "        '% of Total Values', ascending=False).round(1)\n",
    "        print (\"Your selected dataframe has \" + str(df.shape[1]) + \" columns and \" + str(df.shape[0]) + \" Rows.\\n\"      \n",
    "            \"There are \" + str(mz_table.shape[0]) +\n",
    "              \" columns that have missing values.\")\n",
    "        return mz_table\n",
    "\n",
    "missing_zero_values_table(df_merged)"
   ]
  },
  {
   "cell_type": "markdown",
   "metadata": {
    "id": "n2tpW1mgXshr"
   },
   "source": [
    "У 1526 пользователей отсутствуют данные по интернет услугам"
   ]
  },
  {
   "cell_type": "markdown",
   "metadata": {
    "id": "fm2gmpt0Xshr"
   },
   "source": [
    "Заполним предварительно пропуски значением 'No'."
   ]
  },
  {
   "cell_type": "code",
   "execution_count": 193,
   "metadata": {
    "id": "yI7yY6P3Xshs"
   },
   "outputs": [],
   "source": [
    "df_clear = df_merged.fillna('No')"
   ]
  },
  {
   "cell_type": "code",
   "execution_count": 194,
   "metadata": {
    "colab": {
     "base_uri": "https://localhost:8080/",
     "height": 84
    },
    "id": "Y9nPCYfNXshs",
    "outputId": "1b3ded5f-073f-430c-a16f-e632a5ecd1be"
   },
   "outputs": [
    {
     "name": "stdout",
     "output_type": "stream",
     "text": [
      "Your selected dataframe has 20 columns and 7043 Rows.\n",
      "There are 0 columns that have missing values.\n"
     ]
    },
    {
     "data": {
      "text/html": [
       "<div>\n",
       "<style scoped>\n",
       "    .dataframe tbody tr th:only-of-type {\n",
       "        vertical-align: middle;\n",
       "    }\n",
       "\n",
       "    .dataframe tbody tr th {\n",
       "        vertical-align: top;\n",
       "    }\n",
       "\n",
       "    .dataframe thead th {\n",
       "        text-align: right;\n",
       "    }\n",
       "</style>\n",
       "<table border=\"1\" class=\"dataframe\">\n",
       "  <thead>\n",
       "    <tr style=\"text-align: right;\">\n",
       "      <th></th>\n",
       "      <th>Zero Values</th>\n",
       "      <th>Missing Values</th>\n",
       "      <th>% of Total Values</th>\n",
       "      <th>Total Zero Missing Values</th>\n",
       "      <th>% Total Zero Missing Values</th>\n",
       "      <th>Data Type</th>\n",
       "    </tr>\n",
       "  </thead>\n",
       "  <tbody>\n",
       "  </tbody>\n",
       "</table>\n",
       "</div>"
      ],
      "text/plain": [
       "Empty DataFrame\n",
       "Columns: [Zero Values, Missing Values, % of Total Values, Total Zero Missing Values, % Total Zero Missing Values, Data Type]\n",
       "Index: []"
      ]
     },
     "execution_count": 194,
     "metadata": {},
     "output_type": "execute_result"
    }
   ],
   "source": [
    "missing_zero_values_table(df_clear)"
   ]
  },
  {
   "cell_type": "code",
   "execution_count": 195,
   "metadata": {
    "colab": {
     "base_uri": "https://localhost:8080/"
    },
    "id": "mqebAyHmvLbF",
    "outputId": "5682442e-55ca-4a77-db9a-2aa611301c66"
   },
   "outputs": [
    {
     "name": "stdout",
     "output_type": "stream",
     "text": [
      "<class 'pandas.core.frame.DataFrame'>\n",
      "Int64Index: 7043 entries, 0 to 7042\n",
      "Data columns (total 20 columns):\n",
      "customer_id          7043 non-null object\n",
      "begin_date           7043 non-null datetime64[ns]\n",
      "end_date             7043 non-null object\n",
      "type                 7043 non-null object\n",
      "paperless_billing    7043 non-null object\n",
      "payment_method       7043 non-null object\n",
      "monthly_charges      7043 non-null float64\n",
      "total_charges        7043 non-null float64\n",
      "gender               7043 non-null object\n",
      "senior_citizen       7043 non-null int64\n",
      "partner              7043 non-null object\n",
      "dependents           7043 non-null object\n",
      "internet_service     7043 non-null object\n",
      "online_security      7043 non-null object\n",
      "online_backup        7043 non-null object\n",
      "device_protection    7043 non-null object\n",
      "tech_support         7043 non-null object\n",
      "streaming_TV         7043 non-null object\n",
      "streaming_movies     7043 non-null object\n",
      "multiple_lines       7043 non-null object\n",
      "dtypes: datetime64[ns](1), float64(2), int64(1), object(16)\n",
      "memory usage: 1.1+ MB\n"
     ]
    }
   ],
   "source": [
    "df_clear.info()"
   ]
  },
  {
   "cell_type": "code",
   "execution_count": 196,
   "metadata": {
    "colab": {
     "base_uri": "https://localhost:8080/"
    },
    "id": "VmEl391CXshs",
    "outputId": "c2447d06-9285-4e01-e757-736b6cea3b0a"
   },
   "outputs": [
    {
     "name": "stdout",
     "output_type": "stream",
     "text": [
      "Количество пользователей у которых закончился договор: 1869\n"
     ]
    }
   ],
   "source": [
    "print('Количество пользователей у которых закончился договор:', df_merged[df_merged['end_date'] != 'No'].shape[0])"
   ]
  },
  {
   "cell_type": "markdown",
   "metadata": {
    "id": "wkLlzSl5Xsht"
   },
   "source": [
    "**Вывод:** Предварительно были объединены таблицы и обработаны пропуски образовавшиеся в результате. Обнаружен дисбаланс классов требующий обработки."
   ]
  },
  {
   "cell_type": "markdown",
   "metadata": {},
   "source": [
    "<div style=\"background: #cceeaa; padding: 5px; border: 1px solid green; border-radius: 5px;\">\n",
    "    <font color='green'> <b><u>КОММЕНТАРИЙ РЕВЬЮЕРА</u></b>\n",
    "</font>\n",
    "<font color='green'><br>ОК, это важно, что не потеряны клиенты для анализа, молодец."
   ]
  },
  {
   "cell_type": "markdown",
   "metadata": {
    "id": "z619DuwM8wEw"
   },
   "source": [
    "## Подготовка признаков"
   ]
  },
  {
   "cell_type": "markdown",
   "metadata": {},
   "source": []
  },
  {
   "cell_type": "markdown",
   "metadata": {
    "id": "iMcJVZQTal5Z"
   },
   "source": [
    "Разметим целевой признак"
   ]
  },
  {
   "cell_type": "code",
   "execution_count": 197,
   "metadata": {
    "id": "L28pTK3BZIun"
   },
   "outputs": [],
   "source": [
    "df_clear['exited'] = df_clear['end_date'].apply(lambda x: 0 if x == 'No' else 1)"
   ]
  },
  {
   "cell_type": "markdown",
   "metadata": {},
   "source": [
    "Добавим дополнительные признаки:"
   ]
  },
  {
   "cell_type": "code",
   "execution_count": 198,
   "metadata": {},
   "outputs": [],
   "source": [
    "# Информация актуальна на 1 февраля 2020, поэтому заполним недостающие данные по длительнсоти жизни\n",
    "df_clear['end_date'] = df_clear['end_date'].replace('No', '2020-02-01 00:00:00')\n",
    "# Изменим тип данных\n",
    "df_clear['end_date'] = pd.to_datetime(df_clear['end_date'], format='%Y-%m-%d')\n",
    "# Добавим новый признак\n",
    "df_clear['lifecycle'] = df_clear['end_date'] - df_clear['begin_date']\n",
    "# Изменим тип данных\n",
    "df_clear['lifecycle'] = df_clear['lifecycle'].dt.days"
   ]
  },
  {
   "cell_type": "code",
   "execution_count": 199,
   "metadata": {
    "colab": {
     "base_uri": "https://localhost:8080/",
     "height": 409
    },
    "id": "G4wccsuUc5v3",
    "outputId": "226b7e74-786f-4fa8-f430-5d43cbd6ae7f"
   },
   "outputs": [
    {
     "data": {
      "text/html": [
       "<div>\n",
       "<style scoped>\n",
       "    .dataframe tbody tr th:only-of-type {\n",
       "        vertical-align: middle;\n",
       "    }\n",
       "\n",
       "    .dataframe tbody tr th {\n",
       "        vertical-align: top;\n",
       "    }\n",
       "\n",
       "    .dataframe thead th {\n",
       "        text-align: right;\n",
       "    }\n",
       "</style>\n",
       "<table border=\"1\" class=\"dataframe\">\n",
       "  <thead>\n",
       "    <tr style=\"text-align: right;\">\n",
       "      <th></th>\n",
       "      <th>customer_id</th>\n",
       "      <th>begin_date</th>\n",
       "      <th>end_date</th>\n",
       "      <th>type</th>\n",
       "      <th>paperless_billing</th>\n",
       "      <th>payment_method</th>\n",
       "      <th>monthly_charges</th>\n",
       "      <th>total_charges</th>\n",
       "      <th>gender</th>\n",
       "      <th>senior_citizen</th>\n",
       "      <th>...</th>\n",
       "      <th>internet_service</th>\n",
       "      <th>online_security</th>\n",
       "      <th>online_backup</th>\n",
       "      <th>device_protection</th>\n",
       "      <th>tech_support</th>\n",
       "      <th>streaming_TV</th>\n",
       "      <th>streaming_movies</th>\n",
       "      <th>multiple_lines</th>\n",
       "      <th>exited</th>\n",
       "      <th>lifecycle</th>\n",
       "    </tr>\n",
       "  </thead>\n",
       "  <tbody>\n",
       "    <tr>\n",
       "      <td>0</td>\n",
       "      <td>7590-VHVEG</td>\n",
       "      <td>2020-01-01</td>\n",
       "      <td>2020-02-01</td>\n",
       "      <td>Month-to-month</td>\n",
       "      <td>Yes</td>\n",
       "      <td>Electronic check</td>\n",
       "      <td>29.85</td>\n",
       "      <td>29.85</td>\n",
       "      <td>Female</td>\n",
       "      <td>0</td>\n",
       "      <td>...</td>\n",
       "      <td>DSL</td>\n",
       "      <td>No</td>\n",
       "      <td>Yes</td>\n",
       "      <td>No</td>\n",
       "      <td>No</td>\n",
       "      <td>No</td>\n",
       "      <td>No</td>\n",
       "      <td>No</td>\n",
       "      <td>0</td>\n",
       "      <td>31</td>\n",
       "    </tr>\n",
       "    <tr>\n",
       "      <td>1</td>\n",
       "      <td>5575-GNVDE</td>\n",
       "      <td>2017-04-01</td>\n",
       "      <td>2020-02-01</td>\n",
       "      <td>One year</td>\n",
       "      <td>No</td>\n",
       "      <td>Mailed check</td>\n",
       "      <td>56.95</td>\n",
       "      <td>1889.50</td>\n",
       "      <td>Male</td>\n",
       "      <td>0</td>\n",
       "      <td>...</td>\n",
       "      <td>DSL</td>\n",
       "      <td>Yes</td>\n",
       "      <td>No</td>\n",
       "      <td>Yes</td>\n",
       "      <td>No</td>\n",
       "      <td>No</td>\n",
       "      <td>No</td>\n",
       "      <td>No</td>\n",
       "      <td>0</td>\n",
       "      <td>1036</td>\n",
       "    </tr>\n",
       "    <tr>\n",
       "      <td>2</td>\n",
       "      <td>3668-QPYBK</td>\n",
       "      <td>2019-10-01</td>\n",
       "      <td>2019-12-01</td>\n",
       "      <td>Month-to-month</td>\n",
       "      <td>Yes</td>\n",
       "      <td>Mailed check</td>\n",
       "      <td>53.85</td>\n",
       "      <td>108.15</td>\n",
       "      <td>Male</td>\n",
       "      <td>0</td>\n",
       "      <td>...</td>\n",
       "      <td>DSL</td>\n",
       "      <td>Yes</td>\n",
       "      <td>Yes</td>\n",
       "      <td>No</td>\n",
       "      <td>No</td>\n",
       "      <td>No</td>\n",
       "      <td>No</td>\n",
       "      <td>No</td>\n",
       "      <td>1</td>\n",
       "      <td>61</td>\n",
       "    </tr>\n",
       "    <tr>\n",
       "      <td>3</td>\n",
       "      <td>7795-CFOCW</td>\n",
       "      <td>2016-05-01</td>\n",
       "      <td>2020-02-01</td>\n",
       "      <td>One year</td>\n",
       "      <td>No</td>\n",
       "      <td>Bank transfer (automatic)</td>\n",
       "      <td>42.30</td>\n",
       "      <td>1840.75</td>\n",
       "      <td>Male</td>\n",
       "      <td>0</td>\n",
       "      <td>...</td>\n",
       "      <td>DSL</td>\n",
       "      <td>Yes</td>\n",
       "      <td>No</td>\n",
       "      <td>Yes</td>\n",
       "      <td>Yes</td>\n",
       "      <td>No</td>\n",
       "      <td>No</td>\n",
       "      <td>No</td>\n",
       "      <td>0</td>\n",
       "      <td>1371</td>\n",
       "    </tr>\n",
       "    <tr>\n",
       "      <td>4</td>\n",
       "      <td>9237-HQITU</td>\n",
       "      <td>2019-09-01</td>\n",
       "      <td>2019-11-01</td>\n",
       "      <td>Month-to-month</td>\n",
       "      <td>Yes</td>\n",
       "      <td>Electronic check</td>\n",
       "      <td>70.70</td>\n",
       "      <td>151.65</td>\n",
       "      <td>Female</td>\n",
       "      <td>0</td>\n",
       "      <td>...</td>\n",
       "      <td>Fiber optic</td>\n",
       "      <td>No</td>\n",
       "      <td>No</td>\n",
       "      <td>No</td>\n",
       "      <td>No</td>\n",
       "      <td>No</td>\n",
       "      <td>No</td>\n",
       "      <td>No</td>\n",
       "      <td>1</td>\n",
       "      <td>61</td>\n",
       "    </tr>\n",
       "  </tbody>\n",
       "</table>\n",
       "<p>5 rows × 22 columns</p>\n",
       "</div>"
      ],
      "text/plain": [
       "  customer_id begin_date   end_date            type paperless_billing  \\\n",
       "0  7590-VHVEG 2020-01-01 2020-02-01  Month-to-month               Yes   \n",
       "1  5575-GNVDE 2017-04-01 2020-02-01        One year                No   \n",
       "2  3668-QPYBK 2019-10-01 2019-12-01  Month-to-month               Yes   \n",
       "3  7795-CFOCW 2016-05-01 2020-02-01        One year                No   \n",
       "4  9237-HQITU 2019-09-01 2019-11-01  Month-to-month               Yes   \n",
       "\n",
       "              payment_method  monthly_charges  total_charges  gender  \\\n",
       "0           Electronic check            29.85          29.85  Female   \n",
       "1               Mailed check            56.95        1889.50    Male   \n",
       "2               Mailed check            53.85         108.15    Male   \n",
       "3  Bank transfer (automatic)            42.30        1840.75    Male   \n",
       "4           Electronic check            70.70         151.65  Female   \n",
       "\n",
       "   senior_citizen  ... internet_service online_security online_backup  \\\n",
       "0               0  ...              DSL              No           Yes   \n",
       "1               0  ...              DSL             Yes            No   \n",
       "2               0  ...              DSL             Yes           Yes   \n",
       "3               0  ...              DSL             Yes            No   \n",
       "4               0  ...      Fiber optic              No            No   \n",
       "\n",
       "  device_protection tech_support streaming_TV streaming_movies multiple_lines  \\\n",
       "0                No           No           No               No             No   \n",
       "1               Yes           No           No               No             No   \n",
       "2                No           No           No               No             No   \n",
       "3               Yes          Yes           No               No             No   \n",
       "4                No           No           No               No             No   \n",
       "\n",
       "  exited lifecycle  \n",
       "0      0        31  \n",
       "1      0      1036  \n",
       "2      1        61  \n",
       "3      0      1371  \n",
       "4      1        61  \n",
       "\n",
       "[5 rows x 22 columns]"
      ]
     },
     "execution_count": 199,
     "metadata": {},
     "output_type": "execute_result"
    }
   ],
   "source": [
    "df_clear.head()"
   ]
  },
  {
   "cell_type": "markdown",
   "metadata": {},
   "source": [
    "### Проверка на мультиколлинеарность"
   ]
  },
  {
   "cell_type": "code",
   "execution_count": 200,
   "metadata": {},
   "outputs": [
    {
     "data": {
      "text/html": [
       "<div>\n",
       "<style scoped>\n",
       "    .dataframe tbody tr th:only-of-type {\n",
       "        vertical-align: middle;\n",
       "    }\n",
       "\n",
       "    .dataframe tbody tr th {\n",
       "        vertical-align: top;\n",
       "    }\n",
       "\n",
       "    .dataframe thead th {\n",
       "        text-align: right;\n",
       "    }\n",
       "</style>\n",
       "<table border=\"1\" class=\"dataframe\">\n",
       "  <thead>\n",
       "    <tr style=\"text-align: right;\">\n",
       "      <th></th>\n",
       "      <th>monthly_charges</th>\n",
       "      <th>total_charges</th>\n",
       "      <th>senior_citizen</th>\n",
       "      <th>exited</th>\n",
       "      <th>lifecycle</th>\n",
       "    </tr>\n",
       "  </thead>\n",
       "  <tbody>\n",
       "    <tr>\n",
       "      <td>monthly_charges</td>\n",
       "      <td>1.000000</td>\n",
       "      <td>0.651174</td>\n",
       "      <td>0.220173</td>\n",
       "      <td>0.193356</td>\n",
       "      <td>0.247754</td>\n",
       "    </tr>\n",
       "    <tr>\n",
       "      <td>total_charges</td>\n",
       "      <td>0.651174</td>\n",
       "      <td>1.000000</td>\n",
       "      <td>0.103006</td>\n",
       "      <td>-0.198324</td>\n",
       "      <td>0.826109</td>\n",
       "    </tr>\n",
       "    <tr>\n",
       "      <td>senior_citizen</td>\n",
       "      <td>0.220173</td>\n",
       "      <td>0.103006</td>\n",
       "      <td>1.000000</td>\n",
       "      <td>0.150889</td>\n",
       "      <td>0.016514</td>\n",
       "    </tr>\n",
       "    <tr>\n",
       "      <td>exited</td>\n",
       "      <td>0.193356</td>\n",
       "      <td>-0.198324</td>\n",
       "      <td>0.150889</td>\n",
       "      <td>1.000000</td>\n",
       "      <td>-0.352673</td>\n",
       "    </tr>\n",
       "    <tr>\n",
       "      <td>lifecycle</td>\n",
       "      <td>0.247754</td>\n",
       "      <td>0.826109</td>\n",
       "      <td>0.016514</td>\n",
       "      <td>-0.352673</td>\n",
       "      <td>1.000000</td>\n",
       "    </tr>\n",
       "  </tbody>\n",
       "</table>\n",
       "</div>"
      ],
      "text/plain": [
       "                 monthly_charges  total_charges  senior_citizen    exited  \\\n",
       "monthly_charges         1.000000       0.651174        0.220173  0.193356   \n",
       "total_charges           0.651174       1.000000        0.103006 -0.198324   \n",
       "senior_citizen          0.220173       0.103006        1.000000  0.150889   \n",
       "exited                  0.193356      -0.198324        0.150889  1.000000   \n",
       "lifecycle               0.247754       0.826109        0.016514 -0.352673   \n",
       "\n",
       "                 lifecycle  \n",
       "monthly_charges   0.247754  \n",
       "total_charges     0.826109  \n",
       "senior_citizen    0.016514  \n",
       "exited           -0.352673  \n",
       "lifecycle         1.000000  "
      ]
     },
     "execution_count": 200,
     "metadata": {},
     "output_type": "execute_result"
    }
   ],
   "source": [
    "df_corr = df_clear.corr()\n",
    "df_corr"
   ]
  },
  {
   "cell_type": "code",
   "execution_count": 201,
   "metadata": {},
   "outputs": [
    {
     "data": {
      "text/html": [
       "<div>\n",
       "<style scoped>\n",
       "    .dataframe tbody tr th:only-of-type {\n",
       "        vertical-align: middle;\n",
       "    }\n",
       "\n",
       "    .dataframe tbody tr th {\n",
       "        vertical-align: top;\n",
       "    }\n",
       "\n",
       "    .dataframe thead th {\n",
       "        text-align: right;\n",
       "    }\n",
       "</style>\n",
       "<table border=\"1\" class=\"dataframe\">\n",
       "  <thead>\n",
       "    <tr style=\"text-align: right;\">\n",
       "      <th></th>\n",
       "      <th>monthly_charges</th>\n",
       "      <th>total_charges</th>\n",
       "      <th>senior_citizen</th>\n",
       "      <th>exited</th>\n",
       "      <th>lifecycle</th>\n",
       "    </tr>\n",
       "  </thead>\n",
       "  <tbody>\n",
       "    <tr>\n",
       "      <td>monthly_charges</td>\n",
       "      <td>True</td>\n",
       "      <td>False</td>\n",
       "      <td>False</td>\n",
       "      <td>False</td>\n",
       "      <td>False</td>\n",
       "    </tr>\n",
       "    <tr>\n",
       "      <td>total_charges</td>\n",
       "      <td>False</td>\n",
       "      <td>True</td>\n",
       "      <td>False</td>\n",
       "      <td>False</td>\n",
       "      <td>True</td>\n",
       "    </tr>\n",
       "    <tr>\n",
       "      <td>senior_citizen</td>\n",
       "      <td>False</td>\n",
       "      <td>False</td>\n",
       "      <td>True</td>\n",
       "      <td>False</td>\n",
       "      <td>False</td>\n",
       "    </tr>\n",
       "    <tr>\n",
       "      <td>exited</td>\n",
       "      <td>False</td>\n",
       "      <td>False</td>\n",
       "      <td>False</td>\n",
       "      <td>True</td>\n",
       "      <td>False</td>\n",
       "    </tr>\n",
       "    <tr>\n",
       "      <td>lifecycle</td>\n",
       "      <td>False</td>\n",
       "      <td>True</td>\n",
       "      <td>False</td>\n",
       "      <td>False</td>\n",
       "      <td>True</td>\n",
       "    </tr>\n",
       "  </tbody>\n",
       "</table>\n",
       "</div>"
      ],
      "text/plain": [
       "                 monthly_charges  total_charges  senior_citizen  exited  \\\n",
       "monthly_charges             True          False           False   False   \n",
       "total_charges              False           True           False   False   \n",
       "senior_citizen             False          False            True   False   \n",
       "exited                     False          False           False    True   \n",
       "lifecycle                  False           True           False   False   \n",
       "\n",
       "                 lifecycle  \n",
       "monthly_charges      False  \n",
       "total_charges         True  \n",
       "senior_citizen       False  \n",
       "exited               False  \n",
       "lifecycle             True  "
      ]
     },
     "execution_count": 201,
     "metadata": {},
     "output_type": "execute_result"
    }
   ],
   "source": [
    "df_corr.apply(lambda x: x > 0.8)"
   ]
  },
  {
   "cell_type": "code",
   "execution_count": 202,
   "metadata": {},
   "outputs": [],
   "source": [
    "#удалим столбец total_charges"
   ]
  },
  {
   "cell_type": "code",
   "execution_count": 203,
   "metadata": {},
   "outputs": [
    {
     "data": {
      "text/html": [
       "<div>\n",
       "<style scoped>\n",
       "    .dataframe tbody tr th:only-of-type {\n",
       "        vertical-align: middle;\n",
       "    }\n",
       "\n",
       "    .dataframe tbody tr th {\n",
       "        vertical-align: top;\n",
       "    }\n",
       "\n",
       "    .dataframe thead th {\n",
       "        text-align: right;\n",
       "    }\n",
       "</style>\n",
       "<table border=\"1\" class=\"dataframe\">\n",
       "  <thead>\n",
       "    <tr style=\"text-align: right;\">\n",
       "      <th></th>\n",
       "      <th>customer_id</th>\n",
       "      <th>begin_date</th>\n",
       "      <th>end_date</th>\n",
       "      <th>type</th>\n",
       "      <th>paperless_billing</th>\n",
       "      <th>payment_method</th>\n",
       "      <th>monthly_charges</th>\n",
       "      <th>gender</th>\n",
       "      <th>senior_citizen</th>\n",
       "      <th>partner</th>\n",
       "      <th>...</th>\n",
       "      <th>internet_service</th>\n",
       "      <th>online_security</th>\n",
       "      <th>online_backup</th>\n",
       "      <th>device_protection</th>\n",
       "      <th>tech_support</th>\n",
       "      <th>streaming_TV</th>\n",
       "      <th>streaming_movies</th>\n",
       "      <th>multiple_lines</th>\n",
       "      <th>exited</th>\n",
       "      <th>lifecycle</th>\n",
       "    </tr>\n",
       "  </thead>\n",
       "  <tbody>\n",
       "    <tr>\n",
       "      <td>0</td>\n",
       "      <td>7590-VHVEG</td>\n",
       "      <td>2020-01-01</td>\n",
       "      <td>2020-02-01</td>\n",
       "      <td>Month-to-month</td>\n",
       "      <td>Yes</td>\n",
       "      <td>Electronic check</td>\n",
       "      <td>29.85</td>\n",
       "      <td>Female</td>\n",
       "      <td>0</td>\n",
       "      <td>Yes</td>\n",
       "      <td>...</td>\n",
       "      <td>DSL</td>\n",
       "      <td>No</td>\n",
       "      <td>Yes</td>\n",
       "      <td>No</td>\n",
       "      <td>No</td>\n",
       "      <td>No</td>\n",
       "      <td>No</td>\n",
       "      <td>No</td>\n",
       "      <td>0</td>\n",
       "      <td>31</td>\n",
       "    </tr>\n",
       "    <tr>\n",
       "      <td>1</td>\n",
       "      <td>5575-GNVDE</td>\n",
       "      <td>2017-04-01</td>\n",
       "      <td>2020-02-01</td>\n",
       "      <td>One year</td>\n",
       "      <td>No</td>\n",
       "      <td>Mailed check</td>\n",
       "      <td>56.95</td>\n",
       "      <td>Male</td>\n",
       "      <td>0</td>\n",
       "      <td>No</td>\n",
       "      <td>...</td>\n",
       "      <td>DSL</td>\n",
       "      <td>Yes</td>\n",
       "      <td>No</td>\n",
       "      <td>Yes</td>\n",
       "      <td>No</td>\n",
       "      <td>No</td>\n",
       "      <td>No</td>\n",
       "      <td>No</td>\n",
       "      <td>0</td>\n",
       "      <td>1036</td>\n",
       "    </tr>\n",
       "    <tr>\n",
       "      <td>2</td>\n",
       "      <td>3668-QPYBK</td>\n",
       "      <td>2019-10-01</td>\n",
       "      <td>2019-12-01</td>\n",
       "      <td>Month-to-month</td>\n",
       "      <td>Yes</td>\n",
       "      <td>Mailed check</td>\n",
       "      <td>53.85</td>\n",
       "      <td>Male</td>\n",
       "      <td>0</td>\n",
       "      <td>No</td>\n",
       "      <td>...</td>\n",
       "      <td>DSL</td>\n",
       "      <td>Yes</td>\n",
       "      <td>Yes</td>\n",
       "      <td>No</td>\n",
       "      <td>No</td>\n",
       "      <td>No</td>\n",
       "      <td>No</td>\n",
       "      <td>No</td>\n",
       "      <td>1</td>\n",
       "      <td>61</td>\n",
       "    </tr>\n",
       "    <tr>\n",
       "      <td>3</td>\n",
       "      <td>7795-CFOCW</td>\n",
       "      <td>2016-05-01</td>\n",
       "      <td>2020-02-01</td>\n",
       "      <td>One year</td>\n",
       "      <td>No</td>\n",
       "      <td>Bank transfer (automatic)</td>\n",
       "      <td>42.30</td>\n",
       "      <td>Male</td>\n",
       "      <td>0</td>\n",
       "      <td>No</td>\n",
       "      <td>...</td>\n",
       "      <td>DSL</td>\n",
       "      <td>Yes</td>\n",
       "      <td>No</td>\n",
       "      <td>Yes</td>\n",
       "      <td>Yes</td>\n",
       "      <td>No</td>\n",
       "      <td>No</td>\n",
       "      <td>No</td>\n",
       "      <td>0</td>\n",
       "      <td>1371</td>\n",
       "    </tr>\n",
       "    <tr>\n",
       "      <td>4</td>\n",
       "      <td>9237-HQITU</td>\n",
       "      <td>2019-09-01</td>\n",
       "      <td>2019-11-01</td>\n",
       "      <td>Month-to-month</td>\n",
       "      <td>Yes</td>\n",
       "      <td>Electronic check</td>\n",
       "      <td>70.70</td>\n",
       "      <td>Female</td>\n",
       "      <td>0</td>\n",
       "      <td>No</td>\n",
       "      <td>...</td>\n",
       "      <td>Fiber optic</td>\n",
       "      <td>No</td>\n",
       "      <td>No</td>\n",
       "      <td>No</td>\n",
       "      <td>No</td>\n",
       "      <td>No</td>\n",
       "      <td>No</td>\n",
       "      <td>No</td>\n",
       "      <td>1</td>\n",
       "      <td>61</td>\n",
       "    </tr>\n",
       "  </tbody>\n",
       "</table>\n",
       "<p>5 rows × 21 columns</p>\n",
       "</div>"
      ],
      "text/plain": [
       "  customer_id begin_date   end_date            type paperless_billing  \\\n",
       "0  7590-VHVEG 2020-01-01 2020-02-01  Month-to-month               Yes   \n",
       "1  5575-GNVDE 2017-04-01 2020-02-01        One year                No   \n",
       "2  3668-QPYBK 2019-10-01 2019-12-01  Month-to-month               Yes   \n",
       "3  7795-CFOCW 2016-05-01 2020-02-01        One year                No   \n",
       "4  9237-HQITU 2019-09-01 2019-11-01  Month-to-month               Yes   \n",
       "\n",
       "              payment_method  monthly_charges  gender  senior_citizen partner  \\\n",
       "0           Electronic check            29.85  Female               0     Yes   \n",
       "1               Mailed check            56.95    Male               0      No   \n",
       "2               Mailed check            53.85    Male               0      No   \n",
       "3  Bank transfer (automatic)            42.30    Male               0      No   \n",
       "4           Electronic check            70.70  Female               0      No   \n",
       "\n",
       "   ... internet_service online_security online_backup device_protection  \\\n",
       "0  ...              DSL              No           Yes                No   \n",
       "1  ...              DSL             Yes            No               Yes   \n",
       "2  ...              DSL             Yes           Yes                No   \n",
       "3  ...              DSL             Yes            No               Yes   \n",
       "4  ...      Fiber optic              No            No                No   \n",
       "\n",
       "  tech_support streaming_TV streaming_movies multiple_lines exited  lifecycle  \n",
       "0           No           No               No             No      0         31  \n",
       "1           No           No               No             No      0       1036  \n",
       "2           No           No               No             No      1         61  \n",
       "3          Yes           No               No             No      0       1371  \n",
       "4           No           No               No             No      1         61  \n",
       "\n",
       "[5 rows x 21 columns]"
      ]
     },
     "execution_count": 203,
     "metadata": {},
     "output_type": "execute_result"
    }
   ],
   "source": [
    "df_clear = df_clear.drop('total_charges', axis = 1)\n",
    "df_clear.head()"
   ]
  },
  {
   "cell_type": "markdown",
   "metadata": {
    "id": "bPIlnXbje1mu"
   },
   "source": [
    "Подготовим категориальные признаки"
   ]
  },
  {
   "cell_type": "code",
   "execution_count": 204,
   "metadata": {
    "colab": {
     "base_uri": "https://localhost:8080/",
     "height": 287
    },
    "id": "b88chPzodZzO",
    "outputId": "b83eb975-ae73-4805-ba2f-afb8ff91bd87"
   },
   "outputs": [
    {
     "data": {
      "text/html": [
       "<div>\n",
       "<style scoped>\n",
       "    .dataframe tbody tr th:only-of-type {\n",
       "        vertical-align: middle;\n",
       "    }\n",
       "\n",
       "    .dataframe tbody tr th {\n",
       "        vertical-align: top;\n",
       "    }\n",
       "\n",
       "    .dataframe thead th {\n",
       "        text-align: right;\n",
       "    }\n",
       "</style>\n",
       "<table border=\"1\" class=\"dataframe\">\n",
       "  <thead>\n",
       "    <tr style=\"text-align: right;\">\n",
       "      <th></th>\n",
       "      <th>monthly_charges</th>\n",
       "      <th>senior_citizen</th>\n",
       "      <th>exited</th>\n",
       "      <th>lifecycle</th>\n",
       "      <th>type_One year</th>\n",
       "      <th>type_Two year</th>\n",
       "      <th>paperless_billing_Yes</th>\n",
       "      <th>payment_method_Credit card (automatic)</th>\n",
       "      <th>payment_method_Electronic check</th>\n",
       "      <th>payment_method_Mailed check</th>\n",
       "      <th>...</th>\n",
       "      <th>dependents_Yes</th>\n",
       "      <th>internet_service_Fiber optic</th>\n",
       "      <th>internet_service_No</th>\n",
       "      <th>online_security_Yes</th>\n",
       "      <th>online_backup_Yes</th>\n",
       "      <th>device_protection_Yes</th>\n",
       "      <th>tech_support_Yes</th>\n",
       "      <th>streaming_TV_Yes</th>\n",
       "      <th>streaming_movies_Yes</th>\n",
       "      <th>multiple_lines_Yes</th>\n",
       "    </tr>\n",
       "  </thead>\n",
       "  <tbody>\n",
       "    <tr>\n",
       "      <td>0</td>\n",
       "      <td>29.85</td>\n",
       "      <td>0</td>\n",
       "      <td>0</td>\n",
       "      <td>31</td>\n",
       "      <td>0</td>\n",
       "      <td>0</td>\n",
       "      <td>1</td>\n",
       "      <td>0</td>\n",
       "      <td>1</td>\n",
       "      <td>0</td>\n",
       "      <td>...</td>\n",
       "      <td>0</td>\n",
       "      <td>0</td>\n",
       "      <td>0</td>\n",
       "      <td>0</td>\n",
       "      <td>1</td>\n",
       "      <td>0</td>\n",
       "      <td>0</td>\n",
       "      <td>0</td>\n",
       "      <td>0</td>\n",
       "      <td>0</td>\n",
       "    </tr>\n",
       "    <tr>\n",
       "      <td>1</td>\n",
       "      <td>56.95</td>\n",
       "      <td>0</td>\n",
       "      <td>0</td>\n",
       "      <td>1036</td>\n",
       "      <td>1</td>\n",
       "      <td>0</td>\n",
       "      <td>0</td>\n",
       "      <td>0</td>\n",
       "      <td>0</td>\n",
       "      <td>1</td>\n",
       "      <td>...</td>\n",
       "      <td>0</td>\n",
       "      <td>0</td>\n",
       "      <td>0</td>\n",
       "      <td>1</td>\n",
       "      <td>0</td>\n",
       "      <td>1</td>\n",
       "      <td>0</td>\n",
       "      <td>0</td>\n",
       "      <td>0</td>\n",
       "      <td>0</td>\n",
       "    </tr>\n",
       "    <tr>\n",
       "      <td>2</td>\n",
       "      <td>53.85</td>\n",
       "      <td>0</td>\n",
       "      <td>1</td>\n",
       "      <td>61</td>\n",
       "      <td>0</td>\n",
       "      <td>0</td>\n",
       "      <td>1</td>\n",
       "      <td>0</td>\n",
       "      <td>0</td>\n",
       "      <td>1</td>\n",
       "      <td>...</td>\n",
       "      <td>0</td>\n",
       "      <td>0</td>\n",
       "      <td>0</td>\n",
       "      <td>1</td>\n",
       "      <td>1</td>\n",
       "      <td>0</td>\n",
       "      <td>0</td>\n",
       "      <td>0</td>\n",
       "      <td>0</td>\n",
       "      <td>0</td>\n",
       "    </tr>\n",
       "    <tr>\n",
       "      <td>3</td>\n",
       "      <td>42.30</td>\n",
       "      <td>0</td>\n",
       "      <td>0</td>\n",
       "      <td>1371</td>\n",
       "      <td>1</td>\n",
       "      <td>0</td>\n",
       "      <td>0</td>\n",
       "      <td>0</td>\n",
       "      <td>0</td>\n",
       "      <td>0</td>\n",
       "      <td>...</td>\n",
       "      <td>0</td>\n",
       "      <td>0</td>\n",
       "      <td>0</td>\n",
       "      <td>1</td>\n",
       "      <td>0</td>\n",
       "      <td>1</td>\n",
       "      <td>1</td>\n",
       "      <td>0</td>\n",
       "      <td>0</td>\n",
       "      <td>0</td>\n",
       "    </tr>\n",
       "    <tr>\n",
       "      <td>4</td>\n",
       "      <td>70.70</td>\n",
       "      <td>0</td>\n",
       "      <td>1</td>\n",
       "      <td>61</td>\n",
       "      <td>0</td>\n",
       "      <td>0</td>\n",
       "      <td>1</td>\n",
       "      <td>0</td>\n",
       "      <td>1</td>\n",
       "      <td>0</td>\n",
       "      <td>...</td>\n",
       "      <td>0</td>\n",
       "      <td>1</td>\n",
       "      <td>0</td>\n",
       "      <td>0</td>\n",
       "      <td>0</td>\n",
       "      <td>0</td>\n",
       "      <td>0</td>\n",
       "      <td>0</td>\n",
       "      <td>0</td>\n",
       "      <td>0</td>\n",
       "    </tr>\n",
       "  </tbody>\n",
       "</table>\n",
       "<p>5 rows × 22 columns</p>\n",
       "</div>"
      ],
      "text/plain": [
       "   monthly_charges  senior_citizen  exited  lifecycle  type_One year  \\\n",
       "0            29.85               0       0         31              0   \n",
       "1            56.95               0       0       1036              1   \n",
       "2            53.85               0       1         61              0   \n",
       "3            42.30               0       0       1371              1   \n",
       "4            70.70               0       1         61              0   \n",
       "\n",
       "   type_Two year  paperless_billing_Yes  \\\n",
       "0              0                      1   \n",
       "1              0                      0   \n",
       "2              0                      1   \n",
       "3              0                      0   \n",
       "4              0                      1   \n",
       "\n",
       "   payment_method_Credit card (automatic)  payment_method_Electronic check  \\\n",
       "0                                       0                                1   \n",
       "1                                       0                                0   \n",
       "2                                       0                                0   \n",
       "3                                       0                                0   \n",
       "4                                       0                                1   \n",
       "\n",
       "   payment_method_Mailed check  ...  dependents_Yes  \\\n",
       "0                            0  ...               0   \n",
       "1                            1  ...               0   \n",
       "2                            1  ...               0   \n",
       "3                            0  ...               0   \n",
       "4                            0  ...               0   \n",
       "\n",
       "   internet_service_Fiber optic  internet_service_No  online_security_Yes  \\\n",
       "0                             0                    0                    0   \n",
       "1                             0                    0                    1   \n",
       "2                             0                    0                    1   \n",
       "3                             0                    0                    1   \n",
       "4                             1                    0                    0   \n",
       "\n",
       "   online_backup_Yes  device_protection_Yes  tech_support_Yes  \\\n",
       "0                  1                      0                 0   \n",
       "1                  0                      1                 0   \n",
       "2                  1                      0                 0   \n",
       "3                  0                      1                 1   \n",
       "4                  0                      0                 0   \n",
       "\n",
       "   streaming_TV_Yes  streaming_movies_Yes  multiple_lines_Yes  \n",
       "0                 0                     0                   0  \n",
       "1                 0                     0                   0  \n",
       "2                 0                     0                   0  \n",
       "3                 0                     0                   0  \n",
       "4                 0                     0                   0  \n",
       "\n",
       "[5 rows x 22 columns]"
      ]
     },
     "execution_count": 204,
     "metadata": {},
     "output_type": "execute_result"
    }
   ],
   "source": [
    "df_ohe = pd.get_dummies(df_clear.drop(['customer_id', 'begin_date', 'end_date'], axis=1), drop_first=True)\n",
    "df_ohe.head()"
   ]
  },
  {
   "cell_type": "markdown",
   "metadata": {},
   "source": [
    "<div style=\"background: #cceeaa; padding: 5px; border: 1px solid green; border-radius: 5px;\">\n",
    "    <font color='green'> <b><u>КОММЕНТАРИЙ РЕВЬЮЕРА</u></b>\n",
    "</font>\n",
    "<font color='red'><br>Тут такой момент:<br>\n",
    "Факторы - 'BeginDate', 'EndDate' - да и вообще, завязанные на даты  (года, месяца....) лучше в моделировании не использовать (если это не временной ряд). Попробую пояснить:<br>\n",
    "По сути, смотри: предположим, я бизнес. И мне говорят: фактором, который влияет на отток клиентая вляется год (месяц) начала договора. Т.е. то, когда он заключил договор, влияет на то, что он склонен к оттоку? я скажу - \"не понимаю. Мне нужет портрет клинета, который склонен уйти в данный момент времени (ведь модель предполагается периодечиски запускать, чтобы отбирать клиентов). Если есть вывод что те, кто заключил договор в сентябре 2019 чаще уходят, чем те кто заключил договор в августе 2018, то модель и не нужна. Давайте сразу фильтром... \" Это я моделировал размышления заказчика.<br>\n",
    "Вряд ли дата начала договора (пусть даже выделенная в года и месяца) есть фактор, описывающий именно портрет клиента, его поведенческую характеристику. (хотя можно, конечно провести мистическо-психологичесий анализ...). НО, скорее всего, если провести анализ по месяцам (ящики с усами например и проверка гипотез), если естьтакая зависимость, то она связана будет с тем как проводился маркетинг, после каких акций набрали новых клиентов. Если так, то можно ввести фактор: тип акции, после которой клиент подключился. (из текущих данных такой инфо не достать) <br>\n",
    "    \n",
    "Ну или на себе попробуй: <br>\n",
    "Ты год пользуешься уже, условно, оператором мтс. И вот настал какой то момент, и решил перейти на стм (условно). дата заключения договора с мтс будет влиять на твоё решение?<br>\n",
    "<font color='red'>\n",
    "'BeginDate', 'EndDate' - бизнес не воспримет. Их надо \"убить\" <br>\n",
    " \n",
    "Длительность контракта (времени жизни) - хоть из дат считается, но это другая физика фактора. В ней заложена идея длительности взаимодействия клиента и банка. И её - правильно использовать!"
   ]
  },
  {
   "cell_type": "markdown",
   "metadata": {
    "id": "MYlWx7mmhEjM"
   },
   "source": [
    "### Разделение выборки\n",
    "\n",
    "Поделим выборку на обучающую, валидационную и тестовую в соотношении 80% / 10% / 10%\n",
    "\n"
   ]
  },
  {
   "cell_type": "code",
   "execution_count": 205,
   "metadata": {
    "colab": {
     "base_uri": "https://localhost:8080/"
    },
    "id": "-1eWKHlIhJ16",
    "outputId": "f6d6c96f-ed28-44ba-814f-5d1c3b5a9339"
   },
   "outputs": [
    {
     "name": "stdout",
     "output_type": "stream",
     "text": [
      "проверим размеры выборок:\n",
      "features_test (704, 21)\n",
      "target_test (704,)\n",
      "target_valid (705,)\n",
      "features_train (5634, 21)\n",
      "target_train (5634,)\n",
      "features_valid (705, 21)\n",
      "target_valid (705,)\n"
     ]
    }
   ],
   "source": [
    "target = df_ohe['exited']\n",
    "features = df_ohe.drop('exited', axis=1)\n",
    "features_train, features_valid, target_train, target_valid = train_test_split(\n",
    "                                            features, target, test_size=0.2, random_state=12345)\n",
    "\n",
    "features_test, features_valid, target_test, target_valid = train_test_split(\n",
    "                                            features_valid, target_valid, test_size=0.5, random_state=12345)\n",
    "features_train = features_train.copy()\n",
    "features_valid = features_valid.copy()\n",
    "\n",
    "print('проверим размеры выборок:')\n",
    "print('features_test', features_test.shape)\n",
    "print('target_test', target_test.shape)\n",
    "print('target_valid', target_valid.shape)\n",
    "print('features_train', features_train.shape)\n",
    "print('target_train', target_train.shape)\n",
    "print('features_valid', features_valid.shape)\n",
    "print('target_valid', target_valid.shape)"
   ]
  },
  {
   "cell_type": "markdown",
   "metadata": {
    "id": "AH2IxKw5goaR"
   },
   "source": [
    "### Масштабирование\n",
    "\n",
    "Масштабируем данные методом стандартизации, создадим объект этой структуры StandardScaler и настроим его на обучающих данных:"
   ]
  },
  {
   "cell_type": "code",
   "execution_count": 208,
   "metadata": {
    "id": "vlm0wNtMgnjH"
   },
   "outputs": [],
   "source": [
    "numeric = ['monthly_charges', 'lifecycle']\n",
    "scaler = StandardScaler()\n",
    "scaler.fit(features_train[numeric])\n",
    "#scaler.fit(features_test[numeric])\n",
    "features_train[numeric] = scaler.transform(features_train[numeric])\n",
    "features_valid[numeric] = scaler.transform(features_valid[numeric])\n",
    "#features_test[numeric] = scaler.transform(features_test[numeric])\n",
    "\n",
    "pd.options.mode.chained_assignment = None\n"
   ]
  },
  {
   "cell_type": "code",
   "execution_count": 209,
   "metadata": {
    "colab": {
     "base_uri": "https://localhost:8080/",
     "height": 287
    },
    "id": "aB__LxHcGFJa",
    "outputId": "7141bea1-5d73-4e4b-a39e-c5486a2034e5"
   },
   "outputs": [
    {
     "data": {
      "text/html": [
       "<div>\n",
       "<style scoped>\n",
       "    .dataframe tbody tr th:only-of-type {\n",
       "        vertical-align: middle;\n",
       "    }\n",
       "\n",
       "    .dataframe tbody tr th {\n",
       "        vertical-align: top;\n",
       "    }\n",
       "\n",
       "    .dataframe thead th {\n",
       "        text-align: right;\n",
       "    }\n",
       "</style>\n",
       "<table border=\"1\" class=\"dataframe\">\n",
       "  <thead>\n",
       "    <tr style=\"text-align: right;\">\n",
       "      <th></th>\n",
       "      <th>monthly_charges</th>\n",
       "      <th>senior_citizen</th>\n",
       "      <th>lifecycle</th>\n",
       "      <th>type_One year</th>\n",
       "      <th>type_Two year</th>\n",
       "      <th>paperless_billing_Yes</th>\n",
       "      <th>payment_method_Credit card (automatic)</th>\n",
       "      <th>payment_method_Electronic check</th>\n",
       "      <th>payment_method_Mailed check</th>\n",
       "      <th>gender_Male</th>\n",
       "      <th>...</th>\n",
       "      <th>dependents_Yes</th>\n",
       "      <th>internet_service_Fiber optic</th>\n",
       "      <th>internet_service_No</th>\n",
       "      <th>online_security_Yes</th>\n",
       "      <th>online_backup_Yes</th>\n",
       "      <th>device_protection_Yes</th>\n",
       "      <th>tech_support_Yes</th>\n",
       "      <th>streaming_TV_Yes</th>\n",
       "      <th>streaming_movies_Yes</th>\n",
       "      <th>multiple_lines_Yes</th>\n",
       "    </tr>\n",
       "  </thead>\n",
       "  <tbody>\n",
       "    <tr>\n",
       "      <td>1580</td>\n",
       "      <td>0.227892</td>\n",
       "      <td>1</td>\n",
       "      <td>-0.467212</td>\n",
       "      <td>1</td>\n",
       "      <td>0</td>\n",
       "      <td>0</td>\n",
       "      <td>0</td>\n",
       "      <td>0</td>\n",
       "      <td>0</td>\n",
       "      <td>0</td>\n",
       "      <td>...</td>\n",
       "      <td>0</td>\n",
       "      <td>0</td>\n",
       "      <td>0</td>\n",
       "      <td>0</td>\n",
       "      <td>1</td>\n",
       "      <td>1</td>\n",
       "      <td>0</td>\n",
       "      <td>0</td>\n",
       "      <td>1</td>\n",
       "      <td>1</td>\n",
       "    </tr>\n",
       "    <tr>\n",
       "      <td>2902</td>\n",
       "      <td>0.307749</td>\n",
       "      <td>1</td>\n",
       "      <td>-1.081316</td>\n",
       "      <td>0</td>\n",
       "      <td>0</td>\n",
       "      <td>1</td>\n",
       "      <td>0</td>\n",
       "      <td>1</td>\n",
       "      <td>0</td>\n",
       "      <td>0</td>\n",
       "      <td>...</td>\n",
       "      <td>0</td>\n",
       "      <td>1</td>\n",
       "      <td>0</td>\n",
       "      <td>1</td>\n",
       "      <td>0</td>\n",
       "      <td>0</td>\n",
       "      <td>0</td>\n",
       "      <td>0</td>\n",
       "      <td>0</td>\n",
       "      <td>0</td>\n",
       "    </tr>\n",
       "    <tr>\n",
       "      <td>410</td>\n",
       "      <td>0.548983</td>\n",
       "      <td>1</td>\n",
       "      <td>-1.204943</td>\n",
       "      <td>0</td>\n",
       "      <td>0</td>\n",
       "      <td>1</td>\n",
       "      <td>0</td>\n",
       "      <td>1</td>\n",
       "      <td>0</td>\n",
       "      <td>1</td>\n",
       "      <td>...</td>\n",
       "      <td>0</td>\n",
       "      <td>1</td>\n",
       "      <td>0</td>\n",
       "      <td>0</td>\n",
       "      <td>1</td>\n",
       "      <td>0</td>\n",
       "      <td>0</td>\n",
       "      <td>0</td>\n",
       "      <td>0</td>\n",
       "      <td>1</td>\n",
       "    </tr>\n",
       "    <tr>\n",
       "      <td>6098</td>\n",
       "      <td>0.367642</td>\n",
       "      <td>0</td>\n",
       "      <td>-0.467212</td>\n",
       "      <td>1</td>\n",
       "      <td>0</td>\n",
       "      <td>1</td>\n",
       "      <td>0</td>\n",
       "      <td>0</td>\n",
       "      <td>0</td>\n",
       "      <td>1</td>\n",
       "      <td>...</td>\n",
       "      <td>1</td>\n",
       "      <td>0</td>\n",
       "      <td>0</td>\n",
       "      <td>1</td>\n",
       "      <td>0</td>\n",
       "      <td>0</td>\n",
       "      <td>0</td>\n",
       "      <td>1</td>\n",
       "      <td>1</td>\n",
       "      <td>1</td>\n",
       "    </tr>\n",
       "    <tr>\n",
       "      <td>2930</td>\n",
       "      <td>-1.301034</td>\n",
       "      <td>0</td>\n",
       "      <td>-0.058705</td>\n",
       "      <td>0</td>\n",
       "      <td>1</td>\n",
       "      <td>0</td>\n",
       "      <td>0</td>\n",
       "      <td>0</td>\n",
       "      <td>1</td>\n",
       "      <td>1</td>\n",
       "      <td>...</td>\n",
       "      <td>1</td>\n",
       "      <td>0</td>\n",
       "      <td>1</td>\n",
       "      <td>0</td>\n",
       "      <td>0</td>\n",
       "      <td>0</td>\n",
       "      <td>0</td>\n",
       "      <td>0</td>\n",
       "      <td>0</td>\n",
       "      <td>1</td>\n",
       "    </tr>\n",
       "  </tbody>\n",
       "</table>\n",
       "<p>5 rows × 21 columns</p>\n",
       "</div>"
      ],
      "text/plain": [
       "      monthly_charges  senior_citizen  lifecycle  type_One year  \\\n",
       "1580         0.227892               1  -0.467212              1   \n",
       "2902         0.307749               1  -1.081316              0   \n",
       "410          0.548983               1  -1.204943              0   \n",
       "6098         0.367642               0  -0.467212              1   \n",
       "2930        -1.301034               0  -0.058705              0   \n",
       "\n",
       "      type_Two year  paperless_billing_Yes  \\\n",
       "1580              0                      0   \n",
       "2902              0                      1   \n",
       "410               0                      1   \n",
       "6098              0                      1   \n",
       "2930              1                      0   \n",
       "\n",
       "      payment_method_Credit card (automatic)  payment_method_Electronic check  \\\n",
       "1580                                       0                                0   \n",
       "2902                                       0                                1   \n",
       "410                                        0                                1   \n",
       "6098                                       0                                0   \n",
       "2930                                       0                                0   \n",
       "\n",
       "      payment_method_Mailed check  gender_Male  ...  dependents_Yes  \\\n",
       "1580                            0            0  ...               0   \n",
       "2902                            0            0  ...               0   \n",
       "410                             0            1  ...               0   \n",
       "6098                            0            1  ...               1   \n",
       "2930                            1            1  ...               1   \n",
       "\n",
       "      internet_service_Fiber optic  internet_service_No  online_security_Yes  \\\n",
       "1580                             0                    0                    0   \n",
       "2902                             1                    0                    1   \n",
       "410                              1                    0                    0   \n",
       "6098                             0                    0                    1   \n",
       "2930                             0                    1                    0   \n",
       "\n",
       "      online_backup_Yes  device_protection_Yes  tech_support_Yes  \\\n",
       "1580                  1                      1                 0   \n",
       "2902                  0                      0                 0   \n",
       "410                   1                      0                 0   \n",
       "6098                  0                      0                 0   \n",
       "2930                  0                      0                 0   \n",
       "\n",
       "      streaming_TV_Yes  streaming_movies_Yes  multiple_lines_Yes  \n",
       "1580                 0                     1                   1  \n",
       "2902                 0                     0                   0  \n",
       "410                  0                     0                   1  \n",
       "6098                 1                     1                   1  \n",
       "2930                 0                     0                   1  \n",
       "\n",
       "[5 rows x 21 columns]"
      ]
     },
     "execution_count": 209,
     "metadata": {},
     "output_type": "execute_result"
    }
   ],
   "source": [
    "features_train.head()"
   ]
  },
  {
   "cell_type": "markdown",
   "metadata": {},
   "source": [
    "<div style=\"background: #cceeaa; padding: 5px; border: 1px solid green; border-radius: 5px;\">\n",
    "    <font color='green'> <b><u>КОММЕНТАРИЙ РЕВЬЮЕРА</u></b>\n",
    "</font>\n",
    "<font color='green'><br>ОК, масштабирование - раздельное."
   ]
  },
  {
   "cell_type": "markdown",
   "metadata": {
    "id": "o9lVpUkWl2LI"
   },
   "source": [
    "## Обучение модели"
   ]
  },
  {
   "cell_type": "markdown",
   "metadata": {
    "id": "RjvuRTOE9ZaM"
   },
   "source": [
    "### Функция для обучения модели"
   ]
  },
  {
   "cell_type": "code",
   "execution_count": 210,
   "metadata": {
    "id": "hvRbkBzbl05A"
   },
   "outputs": [],
   "source": [
    "def model_fit_scoring(features_valid, features_train, target_valid, target_train, plot):\n",
    "    model.fit(features_train, target_train)\n",
    "    predicted_valid = model.predict(features_valid)\n",
    "    print('матрица ошибок:')\n",
    "    print(confusion_matrix(target_valid, predicted_valid))\n",
    "    #PR plot\n",
    "    if plot == True:      \n",
    "        probabilities_valid = model.predict_proba(features_valid)\n",
    "        probabilities_one_valid = probabilities_valid[:, 1]\n",
    "        auc_roc = roc_auc_score(target_valid, probabilities_one_valid)\n",
    "        print('auc_roc на валидационной выборке:', auc_roc)\n",
    "        \n",
    "        precision, recall, thresholds = precision_recall_curve(target_valid, probabilities_valid[:, 1])\n",
    "        plt.figure(figsize=(6, 6))\n",
    "        plt.step(recall, precision, where='post')\n",
    "        plt.xlabel('Recall')\n",
    "        plt.ylabel('Precision')\n",
    "        plt.ylim([0.0, 1.05])\n",
    "        plt.xlim([0.0, 1.0])\n",
    "        plt.title('Кривая Precision-Recall')\n",
    "        plt.show()\n",
    "    \n",
    "        \n",
    "        fpr, tpr, thresholds = roc_curve(target_valid, probabilities_one_valid)\n",
    "\n",
    "        plt.figure()\n",
    "        plt.plot(fpr, tpr)\n",
    "        # ROC-кривая случайной модели \n",
    "        plt.plot([0, 1], [0, 1], linestyle='--')\n",
    "\n",
    "        #   установим границы осей от 0 до 1 >\n",
    "        plt.ylim([0.0, 1.0])\n",
    "        plt.xlim([0.0, 1.0])\n",
    "\n",
    "        plt.xlabel(\"False Positive Rate\")\n",
    "        plt.ylabel(\"True Positive Rate\")\n",
    "\n",
    "        plt.title(\"ROC-кривая\")\n",
    "        plt.show()\n",
    "        \n",
    "        \n",
    "    return model"
   ]
  },
  {
   "cell_type": "markdown",
   "metadata": {
    "id": "bGSdL4cwy8xu"
   },
   "source": [
    "### RandomForestClassifier"
   ]
  },
  {
   "cell_type": "markdown",
   "metadata": {
    "id": "UgUAln_17OW2"
   },
   "source": [
    "Учтем дисбаланс классов"
   ]
  },
  {
   "cell_type": "code",
   "execution_count": 211,
   "metadata": {
    "colab": {
     "base_uri": "https://localhost:8080/"
    },
    "id": "Kjws1dId7IIq",
    "outputId": "a9ea699c-59a8-43d2-e856-0b469272142d"
   },
   "outputs": [
    {
     "name": "stdout",
     "output_type": "stream",
     "text": [
      "(5634, 21)\n",
      "(5634,)\n"
     ]
    }
   ],
   "source": [
    "print(features_train.shape)\n",
    "print(target_train.shape)"
   ]
  },
  {
   "cell_type": "markdown",
   "metadata": {
    "id": "rYMN_PqZZLEO"
   },
   "source": [
    "#### Дисбаланс классов"
   ]
  },
  {
   "cell_type": "code",
   "execution_count": 212,
   "metadata": {
    "colab": {
     "base_uri": "https://localhost:8080/"
    },
    "id": "5gPMHXLh7RXT",
    "outputId": "f8ff9f10-33f1-4c94-d515-59845562d193"
   },
   "outputs": [
    {
     "name": "stdout",
     "output_type": "stream",
     "text": [
      "features_zeros (4144, 21)\n",
      "features_ones (1490, 21)\n",
      "target_zeros (4144,)\n",
      "target_ones (1490,)\n",
      "upsampling...\n",
      "features_zeros (4144, 21)\n",
      "features_ones (4470, 21)\n",
      "target_zeros (4144,)\n",
      "target_ones (4470,)\n"
     ]
    }
   ],
   "source": [
    "def upsample(features, target, repeat):\n",
    "    \n",
    "    features_zeros = features[target == 0]\n",
    "    print('features_zeros', features_zeros.shape)\n",
    "    features_ones = features[target == 1]\n",
    "    print('features_ones', features_ones.shape)\n",
    "    target_zeros = target[target == 0]\n",
    "    print('target_zeros', target_zeros.shape)\n",
    "    target_ones = target[target == 1]\n",
    "    print('target_ones', target_ones.shape)\n",
    "\n",
    "    features_upsampled = pd.concat([features_zeros] + [features_ones] * repeat)\n",
    "    target_upsampled = pd.concat([target_zeros] + [target_ones] * repeat)\n",
    "    \n",
    "    out1 = shuffle(features_upsampled, random_state=12345)\n",
    "    out2 = shuffle(target_upsampled, random_state=12345)\n",
    "    \n",
    "    print('upsampling...')\n",
    "    features_zeros = features_upsampled[target == 0]\n",
    "    print('features_zeros', features_zeros.shape)\n",
    "    features_ones = features_upsampled[target == 1]\n",
    "    print('features_ones', features_ones.shape)\n",
    "    target_zeros = target_upsampled[target == 0]\n",
    "    print('target_zeros', target_zeros.shape)\n",
    "    target_ones = target_upsampled[target == 1]\n",
    "    print('target_ones', target_ones.shape)\n",
    "\n",
    "    return out1, out2\n",
    "\n",
    "features_upsampled, target_upsampled = upsample(features_train, target_train, 3)"
   ]
  },
  {
   "cell_type": "markdown",
   "metadata": {},
   "source": [
    "<div style=\"background: #cceeaa; padding: 5px; border: 1px solid green; border-radius: 5px;\">\n",
    "    <font color='green'> <b><u>КОММЕНТАРИЙ РЕВЬЮЕРА</u></b>\n",
    "</font>\n",
    "<font color='green'><br>да, балансируем только трайн, ОК."
   ]
  },
  {
   "cell_type": "code",
   "execution_count": 213,
   "metadata": {
    "colab": {
     "base_uri": "https://localhost:8080/"
    },
    "id": "0MJojCKg7kGT",
    "outputId": "7965d7f6-633b-404c-fd8f-cd9486c64237"
   },
   "outputs": [
    {
     "name": "stdout",
     "output_type": "stream",
     "text": [
      "(8614, 21)\n",
      "(8614,)\n"
     ]
    }
   ],
   "source": [
    "print(features_upsampled.shape)\n",
    "print(target_upsampled.shape)"
   ]
  },
  {
   "cell_type": "code",
   "execution_count": 214,
   "metadata": {
    "id": "I9ccr-BZ2RUd"
   },
   "outputs": [],
   "source": [
    "roc_auc_scorer = make_scorer(roc_auc_score, greater_is_better=True,\n",
    "                             needs_threshold=True)"
   ]
  },
  {
   "cell_type": "markdown",
   "metadata": {
    "id": "1hqnPaam8MGz"
   },
   "source": [
    "#### Подбор параметров"
   ]
  },
  {
   "cell_type": "code",
   "execution_count": 215,
   "metadata": {
    "colab": {
     "base_uri": "https://localhost:8080/",
     "height": 1000
    },
    "id": "Lnr1JlCY1yCv",
    "outputId": "1263b61f-c91b-43e4-f7e1-4a07b4d8cd88"
   },
   "outputs": [
    {
     "name": "stdout",
     "output_type": "stream",
     "text": [
      "лучший AUC-ROC: 0.9419073570337854\n",
      "лучшие параметры модели: {'n_estimators': 202, 'min_samples_split': 10, 'min_samples_leaf': 4, 'max_features': None, 'max_depth': 179, 'criterion': 'gini'}\n",
      "матрица ошибок:\n",
      "[[412 100]\n",
      " [ 68 125]]\n",
      "auc_roc на валидационной выборке: 0.8291167422279794\n"
     ]
    },
    {
     "data": {
      "image/png": "[encoded data removed]",
      "text/plain": [
       "<Figure size 432x288 with 2 Axes>"
      ]
     },
     "metadata": {
      "needs_background": "light"
     },
     "output_type": "display_data"
    },
    {
     "data": {
      "image/png": "[encoded data removed]",
      "text/plain": [
       "<Figure size 432x432 with 1 Axes>"
      ]
     },
     "metadata": {
      "needs_background": "light"
     },
     "output_type": "display_data"
    },
    {
     "data": {
      "image/png": "[encoded data removed]",
      "text/plain": [
       "<Figure size 432x288 with 1 Axes>"
      ]
     },
     "metadata": {
      "needs_background": "light"
     },
     "output_type": "display_data"
    },
    {
     "name": "stdout",
     "output_type": "stream",
     "text": [
      "CPU times: user 47.3 s, sys: 723 ms, total: 48 s\n",
      "Wall time: 49.7 s\n"
     ]
    }
   ],
   "source": [
    "%%time\n",
    "\n",
    "rf_clf = RandomForestClassifier()\n",
    "\n",
    "params_rscv = {'criterion': ['entropy', 'gini'],\n",
    "               'max_depth': range(1, 200, 1),            #list(np.linspace(10, 1200, 10, dtype = int)) + [None],\n",
    "               'max_features': ['auto', 'sqrt','log2', None],\n",
    "               'min_samples_leaf': [4, 6, 8, 12],\n",
    "               'min_samples_split': [5, 7, 10, 14],\n",
    "               'n_estimators': range(1, 300, 1)     #list(np.linspace(151, 1200, 10, dtype = int))\n",
    "          }\n",
    "# Random Search Execute\n",
    "rf_rand = RandomizedSearchCV(estimator=rf_clf , param_distributions = params_rscv, cv = 5,  \\\n",
    "                             scoring=roc_auc_scorer, random_state= 101, n_jobs = -1) \n",
    "\n",
    "rf_detector = rf_rand.fit(features_upsampled, target_upsampled)\n",
    "\n",
    "table = pd.pivot_table(pd.DataFrame(rf_rand.cv_results_),\n",
    "                       values='mean_test_score', index='param_n_estimators', \n",
    "                       columns='param_criterion')\n",
    "     \n",
    "sns.heatmap(table)\n",
    "\n",
    "print('лучший AUC-ROC:', rf_rand.best_score_)\n",
    "print('лучшие параметры модели:', rf_rand.best_params_)\n",
    "\n",
    "model = rf_rand.best_estimator_\n",
    "\n",
    "rf_clf_best = model_fit_scoring(features_valid, features_upsampled, target_valid, target_upsampled, True)"
   ]
  },
  {
   "cell_type": "code",
   "execution_count": 216,
   "metadata": {
    "colab": {
     "base_uri": "https://localhost:8080/"
    },
    "id": "ZL3-qg9tQU8g",
    "outputId": "14f6c64c-5286-4e58-d621-735d7dd86af9",
    "scrolled": true
   },
   "outputs": [
    {
     "name": "stdout",
     "output_type": "stream",
     "text": [
      "Fitting 4 folds for each of 45 candidates, totalling 180 fits\n",
      "[CV] criterion=gini, max_depth=179, max_features=None, min_samples_leaf=2, min_samples_split=7, n_estimators=52 \n"
     ]
    },
    {
     "name": "stderr",
     "output_type": "stream",
     "text": [
      "[Parallel(n_jobs=-1)]: Using backend SequentialBackend with 1 concurrent workers.\n"
     ]
    },
    {
     "name": "stdout",
     "output_type": "stream",
     "text": [
      "[CV]  criterion=gini, max_depth=179, max_features=None, min_samples_leaf=2, min_samples_split=7, n_estimators=52, score=0.962, total=   0.7s\n",
      "[CV] criterion=gini, max_depth=179, max_features=None, min_samples_leaf=2, min_samples_split=7, n_estimators=52 \n"
     ]
    },
    {
     "name": "stderr",
     "output_type": "stream",
     "text": [
      "[Parallel(n_jobs=-1)]: Done   1 out of   1 | elapsed:    0.7s remaining:    0.0s\n"
     ]
    },
    {
     "name": "stdout",
     "output_type": "stream",
     "text": [
      "[CV]  criterion=gini, max_depth=179, max_features=None, min_samples_leaf=2, min_samples_split=7, n_estimators=52, score=0.950, total=   0.7s\n",
      "[CV] criterion=gini, max_depth=179, max_features=None, min_samples_leaf=2, min_samples_split=7, n_estimators=52 \n"
     ]
    },
    {
     "name": "stderr",
     "output_type": "stream",
     "text": [
      "[Parallel(n_jobs=-1)]: Done   2 out of   2 | elapsed:    1.5s remaining:    0.0s\n"
     ]
    },
    {
     "name": "stdout",
     "output_type": "stream",
     "text": [
      "[CV]  criterion=gini, max_depth=179, max_features=None, min_samples_leaf=2, min_samples_split=7, n_estimators=52, score=0.951, total=   0.7s\n",
      "[CV] criterion=gini, max_depth=179, max_features=None, min_samples_leaf=2, min_samples_split=7, n_estimators=52 \n"
     ]
    },
    {
     "name": "stderr",
     "output_type": "stream",
     "text": [
      "[Parallel(n_jobs=-1)]: Done   3 out of   3 | elapsed:    2.2s remaining:    0.0s\n"
     ]
    },
    {
     "name": "stdout",
     "output_type": "stream",
     "text": [
      "[CV]  criterion=gini, max_depth=179, max_features=None, min_samples_leaf=2, min_samples_split=7, n_estimators=52, score=0.953, total=   0.7s\n",
      "[CV] criterion=gini, max_depth=179, max_features=None, min_samples_leaf=2, min_samples_split=7, n_estimators=102 \n"
     ]
    },
    {
     "name": "stderr",
     "output_type": "stream",
     "text": [
      "[Parallel(n_jobs=-1)]: Done   4 out of   4 | elapsed:    2.9s remaining:    0.0s\n"
     ]
    },
    {
     "name": "stdout",
     "output_type": "stream",
     "text": [
      "[CV]  criterion=gini, max_depth=179, max_features=None, min_samples_leaf=2, min_samples_split=7, n_estimators=102, score=0.963, total=   1.4s\n",
      "[CV] criterion=gini, max_depth=179, max_features=None, min_samples_leaf=2, min_samples_split=7, n_estimators=102 \n",
      "[CV]  criterion=gini, max_depth=179, max_features=None, min_samples_leaf=2, min_samples_split=7, n_estimators=102, score=0.953, total=   1.4s\n",
      "[CV] criterion=gini, max_depth=179, max_features=None, min_samples_leaf=2, min_samples_split=7, n_estimators=102 \n",
      "[CV]  criterion=gini, max_depth=179, max_features=None, min_samples_leaf=2, min_samples_split=7, n_estimators=102, score=0.953, total=   1.4s\n",
      "[CV] criterion=gini, max_depth=179, max_features=None, min_samples_leaf=2, min_samples_split=7, n_estimators=102 \n",
      "[CV]  criterion=gini, max_depth=179, max_features=None, min_samples_leaf=2, min_samples_split=7, n_estimators=102, score=0.950, total=   1.4s\n",
      "[CV] criterion=gini, max_depth=179, max_features=None, min_samples_leaf=2, min_samples_split=7, n_estimators=202 \n",
      "[CV]  criterion=gini, max_depth=179, max_features=None, min_samples_leaf=2, min_samples_split=7, n_estimators=202, score=0.964, total=   2.8s\n",
      "[CV] criterion=gini, max_depth=179, max_features=None, min_samples_leaf=2, min_samples_split=7, n_estimators=202 \n",
      "[CV]  criterion=gini, max_depth=179, max_features=None, min_samples_leaf=2, min_samples_split=7, n_estimators=202, score=0.954, total=   2.7s\n",
      "[CV] criterion=gini, max_depth=179, max_features=None, min_samples_leaf=2, min_samples_split=7, n_estimators=202 \n",
      "[CV]  criterion=gini, max_depth=179, max_features=None, min_samples_leaf=2, min_samples_split=7, n_estimators=202, score=0.953, total=   2.7s\n",
      "[CV] criterion=gini, max_depth=179, max_features=None, min_samples_leaf=2, min_samples_split=7, n_estimators=202 \n",
      "[CV]  criterion=gini, max_depth=179, max_features=None, min_samples_leaf=2, min_samples_split=7, n_estimators=202, score=0.951, total=   2.7s\n",
      "[CV] criterion=gini, max_depth=179, max_features=None, min_samples_leaf=2, min_samples_split=7, n_estimators=302 \n",
      "[CV]  criterion=gini, max_depth=179, max_features=None, min_samples_leaf=2, min_samples_split=7, n_estimators=302, score=0.964, total=   4.1s\n",
      "[CV] criterion=gini, max_depth=179, max_features=None, min_samples_leaf=2, min_samples_split=7, n_estimators=302 \n",
      "[CV]  criterion=gini, max_depth=179, max_features=None, min_samples_leaf=2, min_samples_split=7, n_estimators=302, score=0.954, total=   4.0s\n",
      "[CV] criterion=gini, max_depth=179, max_features=None, min_samples_leaf=2, min_samples_split=7, n_estimators=302 \n",
      "[CV]  criterion=gini, max_depth=179, max_features=None, min_samples_leaf=2, min_samples_split=7, n_estimators=302, score=0.954, total=   4.0s\n",
      "[CV] criterion=gini, max_depth=179, max_features=None, min_samples_leaf=2, min_samples_split=7, n_estimators=302 \n",
      "[CV]  criterion=gini, max_depth=179, max_features=None, min_samples_leaf=2, min_samples_split=7, n_estimators=302, score=0.952, total=   4.0s\n",
      "[CV] criterion=gini, max_depth=179, max_features=None, min_samples_leaf=2, min_samples_split=7, n_estimators=352 \n",
      "[CV]  criterion=gini, max_depth=179, max_features=None, min_samples_leaf=2, min_samples_split=7, n_estimators=352, score=0.964, total=   4.8s\n",
      "[CV] criterion=gini, max_depth=179, max_features=None, min_samples_leaf=2, min_samples_split=7, n_estimators=352 \n",
      "[CV]  criterion=gini, max_depth=179, max_features=None, min_samples_leaf=2, min_samples_split=7, n_estimators=352, score=0.955, total=   4.7s\n",
      "[CV] criterion=gini, max_depth=179, max_features=None, min_samples_leaf=2, min_samples_split=7, n_estimators=352 \n",
      "[CV]  criterion=gini, max_depth=179, max_features=None, min_samples_leaf=2, min_samples_split=7, n_estimators=352, score=0.954, total=   4.8s\n",
      "[CV] criterion=gini, max_depth=179, max_features=None, min_samples_leaf=2, min_samples_split=7, n_estimators=352 \n",
      "[CV]  criterion=gini, max_depth=179, max_features=None, min_samples_leaf=2, min_samples_split=7, n_estimators=352, score=0.952, total=   4.7s\n",
      "[CV] criterion=gini, max_depth=179, max_features=None, min_samples_leaf=2, min_samples_split=10, n_estimators=52 \n",
      "[CV]  criterion=gini, max_depth=179, max_features=None, min_samples_leaf=2, min_samples_split=10, n_estimators=52, score=0.955, total=   0.7s\n",
      "[CV] criterion=gini, max_depth=179, max_features=None, min_samples_leaf=2, min_samples_split=10, n_estimators=52 \n",
      "[CV]  criterion=gini, max_depth=179, max_features=None, min_samples_leaf=2, min_samples_split=10, n_estimators=52, score=0.946, total=   0.7s\n",
      "[CV] criterion=gini, max_depth=179, max_features=None, min_samples_leaf=2, min_samples_split=10, n_estimators=52 \n",
      "[CV]  criterion=gini, max_depth=179, max_features=None, min_samples_leaf=2, min_samples_split=10, n_estimators=52, score=0.943, total=   0.7s\n",
      "[CV] criterion=gini, max_depth=179, max_features=None, min_samples_leaf=2, min_samples_split=10, n_estimators=52 \n",
      "[CV]  criterion=gini, max_depth=179, max_features=None, min_samples_leaf=2, min_samples_split=10, n_estimators=52, score=0.941, total=   0.7s\n",
      "[CV] criterion=gini, max_depth=179, max_features=None, min_samples_leaf=2, min_samples_split=10, n_estimators=102 \n",
      "[CV]  criterion=gini, max_depth=179, max_features=None, min_samples_leaf=2, min_samples_split=10, n_estimators=102, score=0.956, total=   1.4s\n",
      "[CV] criterion=gini, max_depth=179, max_features=None, min_samples_leaf=2, min_samples_split=10, n_estimators=102 \n",
      "[CV]  criterion=gini, max_depth=179, max_features=None, min_samples_leaf=2, min_samples_split=10, n_estimators=102, score=0.945, total=   1.4s\n",
      "[CV] criterion=gini, max_depth=179, max_features=None, min_samples_leaf=2, min_samples_split=10, n_estimators=102 \n",
      "[CV]  criterion=gini, max_depth=179, max_features=None, min_samples_leaf=2, min_samples_split=10, n_estimators=102, score=0.944, total=   1.4s\n",
      "[CV] criterion=gini, max_depth=179, max_features=None, min_samples_leaf=2, min_samples_split=10, n_estimators=102 \n",
      "[CV]  criterion=gini, max_depth=179, max_features=None, min_samples_leaf=2, min_samples_split=10, n_estimators=102, score=0.944, total=   1.4s\n",
      "[CV] criterion=gini, max_depth=179, max_features=None, min_samples_leaf=2, min_samples_split=10, n_estimators=202 \n",
      "[CV]  criterion=gini, max_depth=179, max_features=None, min_samples_leaf=2, min_samples_split=10, n_estimators=202, score=0.955, total=   2.7s\n",
      "[CV] criterion=gini, max_depth=179, max_features=None, min_samples_leaf=2, min_samples_split=10, n_estimators=202 \n",
      "[CV]  criterion=gini, max_depth=179, max_features=None, min_samples_leaf=2, min_samples_split=10, n_estimators=202, score=0.946, total=   2.7s\n",
      "[CV] criterion=gini, max_depth=179, max_features=None, min_samples_leaf=2, min_samples_split=10, n_estimators=202 \n",
      "[CV]  criterion=gini, max_depth=179, max_features=None, min_samples_leaf=2, min_samples_split=10, n_estimators=202, score=0.945, total=   2.7s\n",
      "[CV] criterion=gini, max_depth=179, max_features=None, min_samples_leaf=2, min_samples_split=10, n_estimators=202 \n",
      "[CV]  criterion=gini, max_depth=179, max_features=None, min_samples_leaf=2, min_samples_split=10, n_estimators=202, score=0.943, total=   2.6s\n",
      "[CV] criterion=gini, max_depth=179, max_features=None, min_samples_leaf=2, min_samples_split=10, n_estimators=302 \n",
      "[CV]  criterion=gini, max_depth=179, max_features=None, min_samples_leaf=2, min_samples_split=10, n_estimators=302, score=0.957, total=   4.0s\n",
      "[CV] criterion=gini, max_depth=179, max_features=None, min_samples_leaf=2, min_samples_split=10, n_estimators=302 \n",
      "[CV]  criterion=gini, max_depth=179, max_features=None, min_samples_leaf=2, min_samples_split=10, n_estimators=302, score=0.946, total=   4.0s\n",
      "[CV] criterion=gini, max_depth=179, max_features=None, min_samples_leaf=2, min_samples_split=10, n_estimators=302 \n",
      "[CV]  criterion=gini, max_depth=179, max_features=None, min_samples_leaf=2, min_samples_split=10, n_estimators=302, score=0.944, total=   4.0s\n",
      "[CV] criterion=gini, max_depth=179, max_features=None, min_samples_leaf=2, min_samples_split=10, n_estimators=302 \n",
      "[CV]  criterion=gini, max_depth=179, max_features=None, min_samples_leaf=2, min_samples_split=10, n_estimators=302, score=0.943, total=   3.9s\n",
      "[CV] criterion=gini, max_depth=179, max_features=None, min_samples_leaf=2, min_samples_split=10, n_estimators=352 \n",
      "[CV]  criterion=gini, max_depth=179, max_features=None, min_samples_leaf=2, min_samples_split=10, n_estimators=352, score=0.957, total=   4.6s\n",
      "[CV] criterion=gini, max_depth=179, max_features=None, min_samples_leaf=2, min_samples_split=10, n_estimators=352 \n",
      "[CV]  criterion=gini, max_depth=179, max_features=None, min_samples_leaf=2, min_samples_split=10, n_estimators=352, score=0.947, total=   4.6s\n",
      "[CV] criterion=gini, max_depth=179, max_features=None, min_samples_leaf=2, min_samples_split=10, n_estimators=352 \n",
      "[CV]  criterion=gini, max_depth=179, max_features=None, min_samples_leaf=2, min_samples_split=10, n_estimators=352, score=0.945, total=   4.6s\n",
      "[CV] criterion=gini, max_depth=179, max_features=None, min_samples_leaf=2, min_samples_split=10, n_estimators=352 \n",
      "[CV]  criterion=gini, max_depth=179, max_features=None, min_samples_leaf=2, min_samples_split=10, n_estimators=352, score=0.943, total=   4.7s\n",
      "[CV] criterion=gini, max_depth=179, max_features=None, min_samples_leaf=2, min_samples_split=13, n_estimators=52 \n",
      "[CV]  criterion=gini, max_depth=179, max_features=None, min_samples_leaf=2, min_samples_split=13, n_estimators=52, score=0.947, total=   0.7s\n",
      "[CV] criterion=gini, max_depth=179, max_features=None, min_samples_leaf=2, min_samples_split=13, n_estimators=52 \n",
      "[CV]  criterion=gini, max_depth=179, max_features=None, min_samples_leaf=2, min_samples_split=13, n_estimators=52, score=0.936, total=   0.7s\n",
      "[CV] criterion=gini, max_depth=179, max_features=None, min_samples_leaf=2, min_samples_split=13, n_estimators=52 \n",
      "[CV]  criterion=gini, max_depth=179, max_features=None, min_samples_leaf=2, min_samples_split=13, n_estimators=52, score=0.936, total=   0.7s\n",
      "[CV] criterion=gini, max_depth=179, max_features=None, min_samples_leaf=2, min_samples_split=13, n_estimators=52 \n",
      "[CV]  criterion=gini, max_depth=179, max_features=None, min_samples_leaf=2, min_samples_split=13, n_estimators=52, score=0.936, total=   0.7s\n",
      "[CV] criterion=gini, max_depth=179, max_features=None, min_samples_leaf=2, min_samples_split=13, n_estimators=102 \n",
      "[CV]  criterion=gini, max_depth=179, max_features=None, min_samples_leaf=2, min_samples_split=13, n_estimators=102, score=0.950, total=   1.4s\n",
      "[CV] criterion=gini, max_depth=179, max_features=None, min_samples_leaf=2, min_samples_split=13, n_estimators=102 \n",
      "[CV]  criterion=gini, max_depth=179, max_features=None, min_samples_leaf=2, min_samples_split=13, n_estimators=102, score=0.938, total=   1.3s\n",
      "[CV] criterion=gini, max_depth=179, max_features=None, min_samples_leaf=2, min_samples_split=13, n_estimators=102 \n",
      "[CV]  criterion=gini, max_depth=179, max_features=None, min_samples_leaf=2, min_samples_split=13, n_estimators=102, score=0.937, total=   1.3s\n",
      "[CV] criterion=gini, max_depth=179, max_features=None, min_samples_leaf=2, min_samples_split=13, n_estimators=102 \n",
      "[CV]  criterion=gini, max_depth=179, max_features=None, min_samples_leaf=2, min_samples_split=13, n_estimators=102, score=0.936, total=   1.3s\n",
      "[CV] criterion=gini, max_depth=179, max_features=None, min_samples_leaf=2, min_samples_split=13, n_estimators=202 \n",
      "[CV]  criterion=gini, max_depth=179, max_features=None, min_samples_leaf=2, min_samples_split=13, n_estimators=202, score=0.951, total=   2.7s\n",
      "[CV] criterion=gini, max_depth=179, max_features=None, min_samples_leaf=2, min_samples_split=13, n_estimators=202 \n",
      "[CV]  criterion=gini, max_depth=179, max_features=None, min_samples_leaf=2, min_samples_split=13, n_estimators=202, score=0.939, total=   2.6s\n",
      "[CV] criterion=gini, max_depth=179, max_features=None, min_samples_leaf=2, min_samples_split=13, n_estimators=202 \n",
      "[CV]  criterion=gini, max_depth=179, max_features=None, min_samples_leaf=2, min_samples_split=13, n_estimators=202, score=0.938, total=   2.7s\n",
      "[CV] criterion=gini, max_depth=179, max_features=None, min_samples_leaf=2, min_samples_split=13, n_estimators=202 \n",
      "[CV]  criterion=gini, max_depth=179, max_features=None, min_samples_leaf=2, min_samples_split=13, n_estimators=202, score=0.938, total=   2.6s\n",
      "[CV] criterion=gini, max_depth=179, max_features=None, min_samples_leaf=2, min_samples_split=13, n_estimators=302 \n",
      "[CV]  criterion=gini, max_depth=179, max_features=None, min_samples_leaf=2, min_samples_split=13, n_estimators=302, score=0.951, total=   3.9s\n",
      "[CV] criterion=gini, max_depth=179, max_features=None, min_samples_leaf=2, min_samples_split=13, n_estimators=302 \n",
      "[CV]  criterion=gini, max_depth=179, max_features=None, min_samples_leaf=2, min_samples_split=13, n_estimators=302, score=0.940, total=   3.9s\n",
      "[CV] criterion=gini, max_depth=179, max_features=None, min_samples_leaf=2, min_samples_split=13, n_estimators=302 \n",
      "[CV]  criterion=gini, max_depth=179, max_features=None, min_samples_leaf=2, min_samples_split=13, n_estimators=302, score=0.938, total=   3.9s\n",
      "[CV] criterion=gini, max_depth=179, max_features=None, min_samples_leaf=2, min_samples_split=13, n_estimators=302 \n",
      "[CV]  criterion=gini, max_depth=179, max_features=None, min_samples_leaf=2, min_samples_split=13, n_estimators=302, score=0.937, total=   3.9s\n",
      "[CV] criterion=gini, max_depth=179, max_features=None, min_samples_leaf=2, min_samples_split=13, n_estimators=352 \n",
      "[CV]  criterion=gini, max_depth=179, max_features=None, min_samples_leaf=2, min_samples_split=13, n_estimators=352, score=0.951, total=   4.6s\n",
      "[CV] criterion=gini, max_depth=179, max_features=None, min_samples_leaf=2, min_samples_split=13, n_estimators=352 \n",
      "[CV]  criterion=gini, max_depth=179, max_features=None, min_samples_leaf=2, min_samples_split=13, n_estimators=352, score=0.939, total=   4.5s\n",
      "[CV] criterion=gini, max_depth=179, max_features=None, min_samples_leaf=2, min_samples_split=13, n_estimators=352 \n",
      "[CV]  criterion=gini, max_depth=179, max_features=None, min_samples_leaf=2, min_samples_split=13, n_estimators=352, score=0.937, total=   4.5s\n",
      "[CV] criterion=gini, max_depth=179, max_features=None, min_samples_leaf=2, min_samples_split=13, n_estimators=352 \n",
      "[CV]  criterion=gini, max_depth=179, max_features=None, min_samples_leaf=2, min_samples_split=13, n_estimators=352, score=0.936, total=   4.6s\n",
      "[CV] criterion=gini, max_depth=179, max_features=None, min_samples_leaf=4, min_samples_split=7, n_estimators=52 \n",
      "[CV]  criterion=gini, max_depth=179, max_features=None, min_samples_leaf=4, min_samples_split=7, n_estimators=52, score=0.952, total=   0.7s\n",
      "[CV] criterion=gini, max_depth=179, max_features=None, min_samples_leaf=4, min_samples_split=7, n_estimators=52 \n",
      "[CV]  criterion=gini, max_depth=179, max_features=None, min_samples_leaf=4, min_samples_split=7, n_estimators=52, score=0.938, total=   0.7s\n",
      "[CV] criterion=gini, max_depth=179, max_features=None, min_samples_leaf=4, min_samples_split=7, n_estimators=52 \n",
      "[CV]  criterion=gini, max_depth=179, max_features=None, min_samples_leaf=4, min_samples_split=7, n_estimators=52, score=0.937, total=   0.7s\n",
      "[CV] criterion=gini, max_depth=179, max_features=None, min_samples_leaf=4, min_samples_split=7, n_estimators=52 \n",
      "[CV]  criterion=gini, max_depth=179, max_features=None, min_samples_leaf=4, min_samples_split=7, n_estimators=52, score=0.937, total=   0.7s\n",
      "[CV] criterion=gini, max_depth=179, max_features=None, min_samples_leaf=4, min_samples_split=7, n_estimators=102 \n",
      "[CV]  criterion=gini, max_depth=179, max_features=None, min_samples_leaf=4, min_samples_split=7, n_estimators=102, score=0.953, total=   1.4s\n",
      "[CV] criterion=gini, max_depth=179, max_features=None, min_samples_leaf=4, min_samples_split=7, n_estimators=102 \n",
      "[CV]  criterion=gini, max_depth=179, max_features=None, min_samples_leaf=4, min_samples_split=7, n_estimators=102, score=0.939, total=   1.3s\n",
      "[CV] criterion=gini, max_depth=179, max_features=None, min_samples_leaf=4, min_samples_split=7, n_estimators=102 \n",
      "[CV]  criterion=gini, max_depth=179, max_features=None, min_samples_leaf=4, min_samples_split=7, n_estimators=102, score=0.939, total=   1.3s\n",
      "[CV] criterion=gini, max_depth=179, max_features=None, min_samples_leaf=4, min_samples_split=7, n_estimators=102 \n",
      "[CV]  criterion=gini, max_depth=179, max_features=None, min_samples_leaf=4, min_samples_split=7, n_estimators=102, score=0.936, total=   1.3s\n",
      "[CV] criterion=gini, max_depth=179, max_features=None, min_samples_leaf=4, min_samples_split=7, n_estimators=202 \n",
      "[CV]  criterion=gini, max_depth=179, max_features=None, min_samples_leaf=4, min_samples_split=7, n_estimators=202, score=0.952, total=   2.7s\n",
      "[CV] criterion=gini, max_depth=179, max_features=None, min_samples_leaf=4, min_samples_split=7, n_estimators=202 \n",
      "[CV]  criterion=gini, max_depth=179, max_features=None, min_samples_leaf=4, min_samples_split=7, n_estimators=202, score=0.940, total=   2.6s\n",
      "[CV] criterion=gini, max_depth=179, max_features=None, min_samples_leaf=4, min_samples_split=7, n_estimators=202 \n",
      "[CV]  criterion=gini, max_depth=179, max_features=None, min_samples_leaf=4, min_samples_split=7, n_estimators=202, score=0.940, total=   2.7s\n",
      "[CV] criterion=gini, max_depth=179, max_features=None, min_samples_leaf=4, min_samples_split=7, n_estimators=202 \n",
      "[CV]  criterion=gini, max_depth=179, max_features=None, min_samples_leaf=4, min_samples_split=7, n_estimators=202, score=0.939, total=   2.6s\n",
      "[CV] criterion=gini, max_depth=179, max_features=None, min_samples_leaf=4, min_samples_split=7, n_estimators=302 \n",
      "[CV]  criterion=gini, max_depth=179, max_features=None, min_samples_leaf=4, min_samples_split=7, n_estimators=302, score=0.954, total=   4.1s\n",
      "[CV] criterion=gini, max_depth=179, max_features=None, min_samples_leaf=4, min_samples_split=7, n_estimators=302 \n",
      "[CV]  criterion=gini, max_depth=179, max_features=None, min_samples_leaf=4, min_samples_split=7, n_estimators=302, score=0.941, total=   4.0s\n",
      "[CV] criterion=gini, max_depth=179, max_features=None, min_samples_leaf=4, min_samples_split=7, n_estimators=302 \n",
      "[CV]  criterion=gini, max_depth=179, max_features=None, min_samples_leaf=4, min_samples_split=7, n_estimators=302, score=0.941, total=   3.9s\n",
      "[CV] criterion=gini, max_depth=179, max_features=None, min_samples_leaf=4, min_samples_split=7, n_estimators=302 \n",
      "[CV]  criterion=gini, max_depth=179, max_features=None, min_samples_leaf=4, min_samples_split=7, n_estimators=302, score=0.938, total=   3.8s\n",
      "[CV] criterion=gini, max_depth=179, max_features=None, min_samples_leaf=4, min_samples_split=7, n_estimators=352 \n",
      "[CV]  criterion=gini, max_depth=179, max_features=None, min_samples_leaf=4, min_samples_split=7, n_estimators=352, score=0.953, total=   4.6s\n",
      "[CV] criterion=gini, max_depth=179, max_features=None, min_samples_leaf=4, min_samples_split=7, n_estimators=352 \n",
      "[CV]  criterion=gini, max_depth=179, max_features=None, min_samples_leaf=4, min_samples_split=7, n_estimators=352, score=0.940, total=   4.6s\n",
      "[CV] criterion=gini, max_depth=179, max_features=None, min_samples_leaf=4, min_samples_split=7, n_estimators=352 \n",
      "[CV]  criterion=gini, max_depth=179, max_features=None, min_samples_leaf=4, min_samples_split=7, n_estimators=352, score=0.941, total=   4.5s\n",
      "[CV] criterion=gini, max_depth=179, max_features=None, min_samples_leaf=4, min_samples_split=7, n_estimators=352 \n",
      "[CV]  criterion=gini, max_depth=179, max_features=None, min_samples_leaf=4, min_samples_split=7, n_estimators=352, score=0.938, total=   4.4s\n",
      "[CV] criterion=gini, max_depth=179, max_features=None, min_samples_leaf=4, min_samples_split=10, n_estimators=52 \n",
      "[CV]  criterion=gini, max_depth=179, max_features=None, min_samples_leaf=4, min_samples_split=10, n_estimators=52, score=0.950, total=   0.7s\n",
      "[CV] criterion=gini, max_depth=179, max_features=None, min_samples_leaf=4, min_samples_split=10, n_estimators=52 \n",
      "[CV]  criterion=gini, max_depth=179, max_features=None, min_samples_leaf=4, min_samples_split=10, n_estimators=52, score=0.935, total=   0.7s\n",
      "[CV] criterion=gini, max_depth=179, max_features=None, min_samples_leaf=4, min_samples_split=10, n_estimators=52 \n",
      "[CV]  criterion=gini, max_depth=179, max_features=None, min_samples_leaf=4, min_samples_split=10, n_estimators=52, score=0.935, total=   0.6s\n",
      "[CV] criterion=gini, max_depth=179, max_features=None, min_samples_leaf=4, min_samples_split=10, n_estimators=52 \n",
      "[CV]  criterion=gini, max_depth=179, max_features=None, min_samples_leaf=4, min_samples_split=10, n_estimators=52, score=0.932, total=   0.7s\n",
      "[CV] criterion=gini, max_depth=179, max_features=None, min_samples_leaf=4, min_samples_split=10, n_estimators=102 \n",
      "[CV]  criterion=gini, max_depth=179, max_features=None, min_samples_leaf=4, min_samples_split=10, n_estimators=102, score=0.950, total=   1.3s\n",
      "[CV] criterion=gini, max_depth=179, max_features=None, min_samples_leaf=4, min_samples_split=10, n_estimators=102 \n",
      "[CV]  criterion=gini, max_depth=179, max_features=None, min_samples_leaf=4, min_samples_split=10, n_estimators=102, score=0.938, total=   1.3s\n",
      "[CV] criterion=gini, max_depth=179, max_features=None, min_samples_leaf=4, min_samples_split=10, n_estimators=102 \n",
      "[CV]  criterion=gini, max_depth=179, max_features=None, min_samples_leaf=4, min_samples_split=10, n_estimators=102, score=0.936, total=   1.3s\n",
      "[CV] criterion=gini, max_depth=179, max_features=None, min_samples_leaf=4, min_samples_split=10, n_estimators=102 \n",
      "[CV]  criterion=gini, max_depth=179, max_features=None, min_samples_leaf=4, min_samples_split=10, n_estimators=102, score=0.933, total=   1.3s\n",
      "[CV] criterion=gini, max_depth=179, max_features=None, min_samples_leaf=4, min_samples_split=10, n_estimators=202 \n",
      "[CV]  criterion=gini, max_depth=179, max_features=None, min_samples_leaf=4, min_samples_split=10, n_estimators=202, score=0.950, total=   2.7s\n",
      "[CV] criterion=gini, max_depth=179, max_features=None, min_samples_leaf=4, min_samples_split=10, n_estimators=202 \n",
      "[CV]  criterion=gini, max_depth=179, max_features=None, min_samples_leaf=4, min_samples_split=10, n_estimators=202, score=0.937, total=   2.6s\n",
      "[CV] criterion=gini, max_depth=179, max_features=None, min_samples_leaf=4, min_samples_split=10, n_estimators=202 \n",
      "[CV]  criterion=gini, max_depth=179, max_features=None, min_samples_leaf=4, min_samples_split=10, n_estimators=202, score=0.936, total=   2.6s\n",
      "[CV] criterion=gini, max_depth=179, max_features=None, min_samples_leaf=4, min_samples_split=10, n_estimators=202 \n",
      "[CV]  criterion=gini, max_depth=179, max_features=None, min_samples_leaf=4, min_samples_split=10, n_estimators=202, score=0.935, total=   2.6s\n",
      "[CV] criterion=gini, max_depth=179, max_features=None, min_samples_leaf=4, min_samples_split=10, n_estimators=302 \n",
      "[CV]  criterion=gini, max_depth=179, max_features=None, min_samples_leaf=4, min_samples_split=10, n_estimators=302, score=0.950, total=   3.9s\n",
      "[CV] criterion=gini, max_depth=179, max_features=None, min_samples_leaf=4, min_samples_split=10, n_estimators=302 \n",
      "[CV]  criterion=gini, max_depth=179, max_features=None, min_samples_leaf=4, min_samples_split=10, n_estimators=302, score=0.937, total=   3.9s\n",
      "[CV] criterion=gini, max_depth=179, max_features=None, min_samples_leaf=4, min_samples_split=10, n_estimators=302 \n",
      "[CV]  criterion=gini, max_depth=179, max_features=None, min_samples_leaf=4, min_samples_split=10, n_estimators=302, score=0.936, total=   4.0s\n",
      "[CV] criterion=gini, max_depth=179, max_features=None, min_samples_leaf=4, min_samples_split=10, n_estimators=302 \n",
      "[CV]  criterion=gini, max_depth=179, max_features=None, min_samples_leaf=4, min_samples_split=10, n_estimators=302, score=0.935, total=   4.0s\n",
      "[CV] criterion=gini, max_depth=179, max_features=None, min_samples_leaf=4, min_samples_split=10, n_estimators=352 \n",
      "[CV]  criterion=gini, max_depth=179, max_features=None, min_samples_leaf=4, min_samples_split=10, n_estimators=352, score=0.950, total=   4.6s\n",
      "[CV] criterion=gini, max_depth=179, max_features=None, min_samples_leaf=4, min_samples_split=10, n_estimators=352 \n",
      "[CV]  criterion=gini, max_depth=179, max_features=None, min_samples_leaf=4, min_samples_split=10, n_estimators=352, score=0.937, total=   4.4s\n",
      "[CV] criterion=gini, max_depth=179, max_features=None, min_samples_leaf=4, min_samples_split=10, n_estimators=352 \n",
      "[CV]  criterion=gini, max_depth=179, max_features=None, min_samples_leaf=4, min_samples_split=10, n_estimators=352, score=0.936, total=   4.4s\n",
      "[CV] criterion=gini, max_depth=179, max_features=None, min_samples_leaf=4, min_samples_split=10, n_estimators=352 \n",
      "[CV]  criterion=gini, max_depth=179, max_features=None, min_samples_leaf=4, min_samples_split=10, n_estimators=352, score=0.934, total=   4.5s\n",
      "[CV] criterion=gini, max_depth=179, max_features=None, min_samples_leaf=4, min_samples_split=13, n_estimators=52 \n",
      "[CV]  criterion=gini, max_depth=179, max_features=None, min_samples_leaf=4, min_samples_split=13, n_estimators=52, score=0.944, total=   0.7s\n",
      "[CV] criterion=gini, max_depth=179, max_features=None, min_samples_leaf=4, min_samples_split=13, n_estimators=52 \n",
      "[CV]  criterion=gini, max_depth=179, max_features=None, min_samples_leaf=4, min_samples_split=13, n_estimators=52, score=0.929, total=   0.6s\n",
      "[CV] criterion=gini, max_depth=179, max_features=None, min_samples_leaf=4, min_samples_split=13, n_estimators=52 \n",
      "[CV]  criterion=gini, max_depth=179, max_features=None, min_samples_leaf=4, min_samples_split=13, n_estimators=52, score=0.931, total=   0.7s\n",
      "[CV] criterion=gini, max_depth=179, max_features=None, min_samples_leaf=4, min_samples_split=13, n_estimators=52 \n",
      "[CV]  criterion=gini, max_depth=179, max_features=None, min_samples_leaf=4, min_samples_split=13, n_estimators=52, score=0.929, total=   0.6s\n",
      "[CV] criterion=gini, max_depth=179, max_features=None, min_samples_leaf=4, min_samples_split=13, n_estimators=102 \n",
      "[CV]  criterion=gini, max_depth=179, max_features=None, min_samples_leaf=4, min_samples_split=13, n_estimators=102, score=0.944, total=   1.3s\n",
      "[CV] criterion=gini, max_depth=179, max_features=None, min_samples_leaf=4, min_samples_split=13, n_estimators=102 \n",
      "[CV]  criterion=gini, max_depth=179, max_features=None, min_samples_leaf=4, min_samples_split=13, n_estimators=102, score=0.933, total=   1.3s\n",
      "[CV] criterion=gini, max_depth=179, max_features=None, min_samples_leaf=4, min_samples_split=13, n_estimators=102 \n",
      "[CV]  criterion=gini, max_depth=179, max_features=None, min_samples_leaf=4, min_samples_split=13, n_estimators=102, score=0.929, total=   1.3s\n",
      "[CV] criterion=gini, max_depth=179, max_features=None, min_samples_leaf=4, min_samples_split=13, n_estimators=102 \n",
      "[CV]  criterion=gini, max_depth=179, max_features=None, min_samples_leaf=4, min_samples_split=13, n_estimators=102, score=0.929, total=   1.3s\n",
      "[CV] criterion=gini, max_depth=179, max_features=None, min_samples_leaf=4, min_samples_split=13, n_estimators=202 \n",
      "[CV]  criterion=gini, max_depth=179, max_features=None, min_samples_leaf=4, min_samples_split=13, n_estimators=202, score=0.943, total=   2.5s\n",
      "[CV] criterion=gini, max_depth=179, max_features=None, min_samples_leaf=4, min_samples_split=13, n_estimators=202 \n",
      "[CV]  criterion=gini, max_depth=179, max_features=None, min_samples_leaf=4, min_samples_split=13, n_estimators=202, score=0.931, total=   2.5s\n",
      "[CV] criterion=gini, max_depth=179, max_features=None, min_samples_leaf=4, min_samples_split=13, n_estimators=202 \n",
      "[CV]  criterion=gini, max_depth=179, max_features=None, min_samples_leaf=4, min_samples_split=13, n_estimators=202, score=0.931, total=   2.5s\n",
      "[CV] criterion=gini, max_depth=179, max_features=None, min_samples_leaf=4, min_samples_split=13, n_estimators=202 \n",
      "[CV]  criterion=gini, max_depth=179, max_features=None, min_samples_leaf=4, min_samples_split=13, n_estimators=202, score=0.930, total=   2.5s\n",
      "[CV] criterion=gini, max_depth=179, max_features=None, min_samples_leaf=4, min_samples_split=13, n_estimators=302 \n",
      "[CV]  criterion=gini, max_depth=179, max_features=None, min_samples_leaf=4, min_samples_split=13, n_estimators=302, score=0.945, total=   3.8s\n",
      "[CV] criterion=gini, max_depth=179, max_features=None, min_samples_leaf=4, min_samples_split=13, n_estimators=302 \n",
      "[CV]  criterion=gini, max_depth=179, max_features=None, min_samples_leaf=4, min_samples_split=13, n_estimators=302, score=0.931, total=   3.9s\n",
      "[CV] criterion=gini, max_depth=179, max_features=None, min_samples_leaf=4, min_samples_split=13, n_estimators=302 \n",
      "[CV]  criterion=gini, max_depth=179, max_features=None, min_samples_leaf=4, min_samples_split=13, n_estimators=302, score=0.931, total=   4.0s\n",
      "[CV] criterion=gini, max_depth=179, max_features=None, min_samples_leaf=4, min_samples_split=13, n_estimators=302 \n",
      "[CV]  criterion=gini, max_depth=179, max_features=None, min_samples_leaf=4, min_samples_split=13, n_estimators=302, score=0.929, total=   3.8s\n",
      "[CV] criterion=gini, max_depth=179, max_features=None, min_samples_leaf=4, min_samples_split=13, n_estimators=352 \n",
      "[CV]  criterion=gini, max_depth=179, max_features=None, min_samples_leaf=4, min_samples_split=13, n_estimators=352, score=0.945, total=   4.6s\n",
      "[CV] criterion=gini, max_depth=179, max_features=None, min_samples_leaf=4, min_samples_split=13, n_estimators=352 \n",
      "[CV]  criterion=gini, max_depth=179, max_features=None, min_samples_leaf=4, min_samples_split=13, n_estimators=352, score=0.931, total=   4.4s\n",
      "[CV] criterion=gini, max_depth=179, max_features=None, min_samples_leaf=4, min_samples_split=13, n_estimators=352 \n",
      "[CV]  criterion=gini, max_depth=179, max_features=None, min_samples_leaf=4, min_samples_split=13, n_estimators=352, score=0.931, total=   4.5s\n",
      "[CV] criterion=gini, max_depth=179, max_features=None, min_samples_leaf=4, min_samples_split=13, n_estimators=352 \n",
      "[CV]  criterion=gini, max_depth=179, max_features=None, min_samples_leaf=4, min_samples_split=13, n_estimators=352, score=0.930, total=   4.4s\n",
      "[CV] criterion=gini, max_depth=179, max_features=None, min_samples_leaf=6, min_samples_split=7, n_estimators=52 \n",
      "[CV]  criterion=gini, max_depth=179, max_features=None, min_samples_leaf=6, min_samples_split=7, n_estimators=52, score=0.939, total=   0.7s\n",
      "[CV] criterion=gini, max_depth=179, max_features=None, min_samples_leaf=6, min_samples_split=7, n_estimators=52 \n",
      "[CV]  criterion=gini, max_depth=179, max_features=None, min_samples_leaf=6, min_samples_split=7, n_estimators=52, score=0.925, total=   0.7s\n",
      "[CV] criterion=gini, max_depth=179, max_features=None, min_samples_leaf=6, min_samples_split=7, n_estimators=52 \n",
      "[CV]  criterion=gini, max_depth=179, max_features=None, min_samples_leaf=6, min_samples_split=7, n_estimators=52, score=0.923, total=   0.7s\n",
      "[CV] criterion=gini, max_depth=179, max_features=None, min_samples_leaf=6, min_samples_split=7, n_estimators=52 \n",
      "[CV]  criterion=gini, max_depth=179, max_features=None, min_samples_leaf=6, min_samples_split=7, n_estimators=52, score=0.921, total=   0.7s\n",
      "[CV] criterion=gini, max_depth=179, max_features=None, min_samples_leaf=6, min_samples_split=7, n_estimators=102 \n",
      "[CV]  criterion=gini, max_depth=179, max_features=None, min_samples_leaf=6, min_samples_split=7, n_estimators=102, score=0.940, total=   1.4s\n",
      "[CV] criterion=gini, max_depth=179, max_features=None, min_samples_leaf=6, min_samples_split=7, n_estimators=102 \n",
      "[CV]  criterion=gini, max_depth=179, max_features=None, min_samples_leaf=6, min_samples_split=7, n_estimators=102, score=0.924, total=   1.3s\n",
      "[CV] criterion=gini, max_depth=179, max_features=None, min_samples_leaf=6, min_samples_split=7, n_estimators=102 \n",
      "[CV]  criterion=gini, max_depth=179, max_features=None, min_samples_leaf=6, min_samples_split=7, n_estimators=102, score=0.926, total=   1.3s\n",
      "[CV] criterion=gini, max_depth=179, max_features=None, min_samples_leaf=6, min_samples_split=7, n_estimators=102 \n",
      "[CV]  criterion=gini, max_depth=179, max_features=None, min_samples_leaf=6, min_samples_split=7, n_estimators=102, score=0.922, total=   1.3s\n",
      "[CV] criterion=gini, max_depth=179, max_features=None, min_samples_leaf=6, min_samples_split=7, n_estimators=202 \n",
      "[CV]  criterion=gini, max_depth=179, max_features=None, min_samples_leaf=6, min_samples_split=7, n_estimators=202, score=0.940, total=   2.5s\n",
      "[CV] criterion=gini, max_depth=179, max_features=None, min_samples_leaf=6, min_samples_split=7, n_estimators=202 \n",
      "[CV]  criterion=gini, max_depth=179, max_features=None, min_samples_leaf=6, min_samples_split=7, n_estimators=202, score=0.924, total=   2.5s\n",
      "[CV] criterion=gini, max_depth=179, max_features=None, min_samples_leaf=6, min_samples_split=7, n_estimators=202 \n",
      "[CV]  criterion=gini, max_depth=179, max_features=None, min_samples_leaf=6, min_samples_split=7, n_estimators=202, score=0.925, total=   2.5s\n",
      "[CV] criterion=gini, max_depth=179, max_features=None, min_samples_leaf=6, min_samples_split=7, n_estimators=202 \n",
      "[CV]  criterion=gini, max_depth=179, max_features=None, min_samples_leaf=6, min_samples_split=7, n_estimators=202, score=0.923, total=   2.5s\n",
      "[CV] criterion=gini, max_depth=179, max_features=None, min_samples_leaf=6, min_samples_split=7, n_estimators=302 \n",
      "[CV]  criterion=gini, max_depth=179, max_features=None, min_samples_leaf=6, min_samples_split=7, n_estimators=302, score=0.940, total=   3.8s\n",
      "[CV] criterion=gini, max_depth=179, max_features=None, min_samples_leaf=6, min_samples_split=7, n_estimators=302 \n",
      "[CV]  criterion=gini, max_depth=179, max_features=None, min_samples_leaf=6, min_samples_split=7, n_estimators=302, score=0.925, total=   3.8s\n",
      "[CV] criterion=gini, max_depth=179, max_features=None, min_samples_leaf=6, min_samples_split=7, n_estimators=302 \n",
      "[CV]  criterion=gini, max_depth=179, max_features=None, min_samples_leaf=6, min_samples_split=7, n_estimators=302, score=0.926, total=   3.7s\n",
      "[CV] criterion=gini, max_depth=179, max_features=None, min_samples_leaf=6, min_samples_split=7, n_estimators=302 \n",
      "[CV]  criterion=gini, max_depth=179, max_features=None, min_samples_leaf=6, min_samples_split=7, n_estimators=302, score=0.924, total=   3.7s\n",
      "[CV] criterion=gini, max_depth=179, max_features=None, min_samples_leaf=6, min_samples_split=7, n_estimators=352 \n",
      "[CV]  criterion=gini, max_depth=179, max_features=None, min_samples_leaf=6, min_samples_split=7, n_estimators=352, score=0.940, total=   4.5s\n",
      "[CV] criterion=gini, max_depth=179, max_features=None, min_samples_leaf=6, min_samples_split=7, n_estimators=352 \n",
      "[CV]  criterion=gini, max_depth=179, max_features=None, min_samples_leaf=6, min_samples_split=7, n_estimators=352, score=0.925, total=   4.4s\n",
      "[CV] criterion=gini, max_depth=179, max_features=None, min_samples_leaf=6, min_samples_split=7, n_estimators=352 \n",
      "[CV]  criterion=gini, max_depth=179, max_features=None, min_samples_leaf=6, min_samples_split=7, n_estimators=352, score=0.926, total=   4.4s\n",
      "[CV] criterion=gini, max_depth=179, max_features=None, min_samples_leaf=6, min_samples_split=7, n_estimators=352 \n",
      "[CV]  criterion=gini, max_depth=179, max_features=None, min_samples_leaf=6, min_samples_split=7, n_estimators=352, score=0.923, total=   4.3s\n",
      "[CV] criterion=gini, max_depth=179, max_features=None, min_samples_leaf=6, min_samples_split=10, n_estimators=52 \n",
      "[CV]  criterion=gini, max_depth=179, max_features=None, min_samples_leaf=6, min_samples_split=10, n_estimators=52, score=0.937, total=   0.7s\n",
      "[CV] criterion=gini, max_depth=179, max_features=None, min_samples_leaf=6, min_samples_split=10, n_estimators=52 \n",
      "[CV]  criterion=gini, max_depth=179, max_features=None, min_samples_leaf=6, min_samples_split=10, n_estimators=52, score=0.923, total=   0.6s\n",
      "[CV] criterion=gini, max_depth=179, max_features=None, min_samples_leaf=6, min_samples_split=10, n_estimators=52 \n",
      "[CV]  criterion=gini, max_depth=179, max_features=None, min_samples_leaf=6, min_samples_split=10, n_estimators=52, score=0.925, total=   0.6s\n",
      "[CV] criterion=gini, max_depth=179, max_features=None, min_samples_leaf=6, min_samples_split=10, n_estimators=52 \n",
      "[CV]  criterion=gini, max_depth=179, max_features=None, min_samples_leaf=6, min_samples_split=10, n_estimators=52, score=0.923, total=   0.6s\n",
      "[CV] criterion=gini, max_depth=179, max_features=None, min_samples_leaf=6, min_samples_split=10, n_estimators=102 \n",
      "[CV]  criterion=gini, max_depth=179, max_features=None, min_samples_leaf=6, min_samples_split=10, n_estimators=102, score=0.938, total=   1.3s\n",
      "[CV] criterion=gini, max_depth=179, max_features=None, min_samples_leaf=6, min_samples_split=10, n_estimators=102 \n",
      "[CV]  criterion=gini, max_depth=179, max_features=None, min_samples_leaf=6, min_samples_split=10, n_estimators=102, score=0.925, total=   1.3s\n",
      "[CV] criterion=gini, max_depth=179, max_features=None, min_samples_leaf=6, min_samples_split=10, n_estimators=102 \n",
      "[CV]  criterion=gini, max_depth=179, max_features=None, min_samples_leaf=6, min_samples_split=10, n_estimators=102, score=0.925, total=   1.3s\n",
      "[CV] criterion=gini, max_depth=179, max_features=None, min_samples_leaf=6, min_samples_split=10, n_estimators=102 \n",
      "[CV]  criterion=gini, max_depth=179, max_features=None, min_samples_leaf=6, min_samples_split=10, n_estimators=102, score=0.923, total=   1.2s\n",
      "[CV] criterion=gini, max_depth=179, max_features=None, min_samples_leaf=6, min_samples_split=10, n_estimators=202 \n",
      "[CV]  criterion=gini, max_depth=179, max_features=None, min_samples_leaf=6, min_samples_split=10, n_estimators=202, score=0.940, total=   2.5s\n",
      "[CV] criterion=gini, max_depth=179, max_features=None, min_samples_leaf=6, min_samples_split=10, n_estimators=202 \n",
      "[CV]  criterion=gini, max_depth=179, max_features=None, min_samples_leaf=6, min_samples_split=10, n_estimators=202, score=0.925, total=   2.5s\n",
      "[CV] criterion=gini, max_depth=179, max_features=None, min_samples_leaf=6, min_samples_split=10, n_estimators=202 \n",
      "[CV]  criterion=gini, max_depth=179, max_features=None, min_samples_leaf=6, min_samples_split=10, n_estimators=202, score=0.925, total=   2.5s\n",
      "[CV] criterion=gini, max_depth=179, max_features=None, min_samples_leaf=6, min_samples_split=10, n_estimators=202 \n",
      "[CV]  criterion=gini, max_depth=179, max_features=None, min_samples_leaf=6, min_samples_split=10, n_estimators=202, score=0.923, total=   2.5s\n",
      "[CV] criterion=gini, max_depth=179, max_features=None, min_samples_leaf=6, min_samples_split=10, n_estimators=302 \n",
      "[CV]  criterion=gini, max_depth=179, max_features=None, min_samples_leaf=6, min_samples_split=10, n_estimators=302, score=0.940, total=   3.8s\n",
      "[CV] criterion=gini, max_depth=179, max_features=None, min_samples_leaf=6, min_samples_split=10, n_estimators=302 \n",
      "[CV]  criterion=gini, max_depth=179, max_features=None, min_samples_leaf=6, min_samples_split=10, n_estimators=302, score=0.925, total=   3.7s\n",
      "[CV] criterion=gini, max_depth=179, max_features=None, min_samples_leaf=6, min_samples_split=10, n_estimators=302 \n",
      "[CV]  criterion=gini, max_depth=179, max_features=None, min_samples_leaf=6, min_samples_split=10, n_estimators=302, score=0.926, total=   3.7s\n",
      "[CV] criterion=gini, max_depth=179, max_features=None, min_samples_leaf=6, min_samples_split=10, n_estimators=302 \n",
      "[CV]  criterion=gini, max_depth=179, max_features=None, min_samples_leaf=6, min_samples_split=10, n_estimators=302, score=0.922, total=   3.7s\n",
      "[CV] criterion=gini, max_depth=179, max_features=None, min_samples_leaf=6, min_samples_split=10, n_estimators=352 \n",
      "[CV]  criterion=gini, max_depth=179, max_features=None, min_samples_leaf=6, min_samples_split=10, n_estimators=352, score=0.940, total=   4.5s\n",
      "[CV] criterion=gini, max_depth=179, max_features=None, min_samples_leaf=6, min_samples_split=10, n_estimators=352 \n",
      "[CV]  criterion=gini, max_depth=179, max_features=None, min_samples_leaf=6, min_samples_split=10, n_estimators=352, score=0.925, total=   4.3s\n",
      "[CV] criterion=gini, max_depth=179, max_features=None, min_samples_leaf=6, min_samples_split=10, n_estimators=352 \n",
      "[CV]  criterion=gini, max_depth=179, max_features=None, min_samples_leaf=6, min_samples_split=10, n_estimators=352, score=0.926, total=   4.4s\n",
      "[CV] criterion=gini, max_depth=179, max_features=None, min_samples_leaf=6, min_samples_split=10, n_estimators=352 \n",
      "[CV]  criterion=gini, max_depth=179, max_features=None, min_samples_leaf=6, min_samples_split=10, n_estimators=352, score=0.923, total=   4.5s\n",
      "[CV] criterion=gini, max_depth=179, max_features=None, min_samples_leaf=6, min_samples_split=13, n_estimators=52 \n",
      "[CV]  criterion=gini, max_depth=179, max_features=None, min_samples_leaf=6, min_samples_split=13, n_estimators=52, score=0.938, total=   0.7s\n",
      "[CV] criterion=gini, max_depth=179, max_features=None, min_samples_leaf=6, min_samples_split=13, n_estimators=52 \n",
      "[CV]  criterion=gini, max_depth=179, max_features=None, min_samples_leaf=6, min_samples_split=13, n_estimators=52, score=0.924, total=   0.7s\n",
      "[CV] criterion=gini, max_depth=179, max_features=None, min_samples_leaf=6, min_samples_split=13, n_estimators=52 \n",
      "[CV]  criterion=gini, max_depth=179, max_features=None, min_samples_leaf=6, min_samples_split=13, n_estimators=52, score=0.924, total=   0.7s\n",
      "[CV] criterion=gini, max_depth=179, max_features=None, min_samples_leaf=6, min_samples_split=13, n_estimators=52 \n",
      "[CV]  criterion=gini, max_depth=179, max_features=None, min_samples_leaf=6, min_samples_split=13, n_estimators=52, score=0.921, total=   0.6s\n",
      "[CV] criterion=gini, max_depth=179, max_features=None, min_samples_leaf=6, min_samples_split=13, n_estimators=102 \n",
      "[CV]  criterion=gini, max_depth=179, max_features=None, min_samples_leaf=6, min_samples_split=13, n_estimators=102, score=0.937, total=   1.3s\n",
      "[CV] criterion=gini, max_depth=179, max_features=None, min_samples_leaf=6, min_samples_split=13, n_estimators=102 \n",
      "[CV]  criterion=gini, max_depth=179, max_features=None, min_samples_leaf=6, min_samples_split=13, n_estimators=102, score=0.923, total=   1.3s\n",
      "[CV] criterion=gini, max_depth=179, max_features=None, min_samples_leaf=6, min_samples_split=13, n_estimators=102 \n",
      "[CV]  criterion=gini, max_depth=179, max_features=None, min_samples_leaf=6, min_samples_split=13, n_estimators=102, score=0.923, total=   1.3s\n",
      "[CV] criterion=gini, max_depth=179, max_features=None, min_samples_leaf=6, min_samples_split=13, n_estimators=102 \n",
      "[CV]  criterion=gini, max_depth=179, max_features=None, min_samples_leaf=6, min_samples_split=13, n_estimators=102, score=0.922, total=   1.3s\n",
      "[CV] criterion=gini, max_depth=179, max_features=None, min_samples_leaf=6, min_samples_split=13, n_estimators=202 \n",
      "[CV]  criterion=gini, max_depth=179, max_features=None, min_samples_leaf=6, min_samples_split=13, n_estimators=202, score=0.939, total=   2.6s\n",
      "[CV] criterion=gini, max_depth=179, max_features=None, min_samples_leaf=6, min_samples_split=13, n_estimators=202 \n",
      "[CV]  criterion=gini, max_depth=179, max_features=None, min_samples_leaf=6, min_samples_split=13, n_estimators=202, score=0.925, total=   2.5s\n",
      "[CV] criterion=gini, max_depth=179, max_features=None, min_samples_leaf=6, min_samples_split=13, n_estimators=202 \n",
      "[CV]  criterion=gini, max_depth=179, max_features=None, min_samples_leaf=6, min_samples_split=13, n_estimators=202, score=0.925, total=   2.5s\n",
      "[CV] criterion=gini, max_depth=179, max_features=None, min_samples_leaf=6, min_samples_split=13, n_estimators=202 \n",
      "[CV]  criterion=gini, max_depth=179, max_features=None, min_samples_leaf=6, min_samples_split=13, n_estimators=202, score=0.921, total=   2.5s\n",
      "[CV] criterion=gini, max_depth=179, max_features=None, min_samples_leaf=6, min_samples_split=13, n_estimators=302 \n",
      "[CV]  criterion=gini, max_depth=179, max_features=None, min_samples_leaf=6, min_samples_split=13, n_estimators=302, score=0.940, total=   3.8s\n",
      "[CV] criterion=gini, max_depth=179, max_features=None, min_samples_leaf=6, min_samples_split=13, n_estimators=302 \n",
      "[CV]  criterion=gini, max_depth=179, max_features=None, min_samples_leaf=6, min_samples_split=13, n_estimators=302, score=0.924, total=   3.8s\n",
      "[CV] criterion=gini, max_depth=179, max_features=None, min_samples_leaf=6, min_samples_split=13, n_estimators=302 \n",
      "[CV]  criterion=gini, max_depth=179, max_features=None, min_samples_leaf=6, min_samples_split=13, n_estimators=302, score=0.925, total=   3.7s\n",
      "[CV] criterion=gini, max_depth=179, max_features=None, min_samples_leaf=6, min_samples_split=13, n_estimators=302 \n",
      "[CV]  criterion=gini, max_depth=179, max_features=None, min_samples_leaf=6, min_samples_split=13, n_estimators=302, score=0.922, total=   3.7s\n",
      "[CV] criterion=gini, max_depth=179, max_features=None, min_samples_leaf=6, min_samples_split=13, n_estimators=352 \n",
      "[CV]  criterion=gini, max_depth=179, max_features=None, min_samples_leaf=6, min_samples_split=13, n_estimators=352, score=0.939, total=   4.4s\n",
      "[CV] criterion=gini, max_depth=179, max_features=None, min_samples_leaf=6, min_samples_split=13, n_estimators=352 \n",
      "[CV]  criterion=gini, max_depth=179, max_features=None, min_samples_leaf=6, min_samples_split=13, n_estimators=352, score=0.924, total=   4.3s\n",
      "[CV] criterion=gini, max_depth=179, max_features=None, min_samples_leaf=6, min_samples_split=13, n_estimators=352 \n",
      "[CV]  criterion=gini, max_depth=179, max_features=None, min_samples_leaf=6, min_samples_split=13, n_estimators=352, score=0.926, total=   4.4s\n",
      "[CV] criterion=gini, max_depth=179, max_features=None, min_samples_leaf=6, min_samples_split=13, n_estimators=352 \n",
      "[CV]  criterion=gini, max_depth=179, max_features=None, min_samples_leaf=6, min_samples_split=13, n_estimators=352, score=0.923, total=   4.3s\n"
     ]
    },
    {
     "name": "stderr",
     "output_type": "stream",
     "text": [
      "[Parallel(n_jobs=-1)]: Done 180 out of 180 | elapsed:  7.8min finished\n"
     ]
    }
   ],
   "source": [
    "#подбор параметров с помощью grid_search\n",
    "grid_search = {\n",
    "    'criterion': [rf_rand.best_params_['criterion']],\n",
    "    'max_depth': [rf_rand.best_params_['max_depth']],\n",
    "    'max_features': [rf_rand.best_params_['max_features']],\n",
    "    'min_samples_leaf': [rf_rand.best_params_['min_samples_leaf'] - 2, \n",
    "                         rf_rand.best_params_['min_samples_leaf'], \n",
    "                         rf_rand.best_params_['min_samples_leaf'] + 2],\n",
    "    'min_samples_split': [rf_rand.best_params_['min_samples_split'] - 3, \n",
    "                          rf_rand.best_params_['min_samples_split'], \n",
    "                          rf_rand.best_params_['min_samples_split'] + 3],\n",
    "    'n_estimators': [rf_rand.best_params_['n_estimators'] - 150, \n",
    "                     rf_rand.best_params_['n_estimators'] - 100, \n",
    "                     rf_rand.best_params_['n_estimators'], \n",
    "                     rf_rand.best_params_['n_estimators'] + 100, \n",
    "                     rf_rand.best_params_['n_estimators'] + 150]\n",
    "}\n",
    "\n",
    "\n",
    "#clf = RandomForestClassifier()\n",
    "rf_grid = GridSearchCV(estimator = rf_clf, param_grid = grid_search, scoring=roc_auc_scorer, \n",
    "                               cv = 4, verbose= 5, n_jobs = -1)\n",
    "rf_grid.fit(features_upsampled, target_upsampled)\n",
    "\n",
    "predictionforest = rf_grid.best_estimator_.predict(features_upsampled)"
   ]
  },
  {
   "cell_type": "code",
   "execution_count": 217,
   "metadata": {
    "colab": {
     "base_uri": "https://localhost:8080/"
    },
    "id": "BRBD9V9XRyY0",
    "outputId": "ece19d44-2d60-4c3b-e8dc-e824fe338268"
   },
   "outputs": [
    {
     "name": "stdout",
     "output_type": "stream",
     "text": [
      "лучший AUC-ROC: 0.9560560437677469\n",
      "лучшие параметры модели: {'criterion': 'gini', 'max_depth': 179, 'max_features': None, 'min_samples_leaf': 2, 'min_samples_split': 7, 'n_estimators': 352}\n"
     ]
    }
   ],
   "source": [
    "print('лучший AUC-ROC:', rf_grid.best_score_)\n",
    "print('лучшие параметры модели:', rf_grid.best_params_)"
   ]
  },
  {
   "cell_type": "code",
   "execution_count": 218,
   "metadata": {
    "id": "Yw9uiJ1F4YjL"
   },
   "outputs": [],
   "source": [
    "model = rf_grid.best_estimator_"
   ]
  },
  {
   "cell_type": "code",
   "execution_count": 219,
   "metadata": {
    "colab": {
     "base_uri": "https://localhost:8080/",
     "height": 769
    },
    "id": "3-N5nXRoLruW",
    "outputId": "9fc92c72-8f12-4076-daa0-5162ddd53df0"
   },
   "outputs": [
    {
     "name": "stdout",
     "output_type": "stream",
     "text": [
      "матрица ошибок:\n",
      "[[423  89]\n",
      " [ 81 112]]\n",
      "auc_roc на валидационной выборке: 0.8217798737046632\n"
     ]
    },
    {
     "data": {
      "image/png": "[encoded data removed]",
      "text/plain": [
       "<Figure size 432x432 with 1 Axes>"
      ]
     },
     "metadata": {
      "needs_background": "light"
     },
     "output_type": "display_data"
    },
    {
     "data": {
      "image/png": "[encoded data removed]",
      "text/plain": [
       "<Figure size 432x288 with 1 Axes>"
      ]
     },
     "metadata": {
      "needs_background": "light"
     },
     "output_type": "display_data"
    }
   ],
   "source": [
    "best_rf = model_fit_scoring(features_valid, features_upsampled, target_valid, target_upsampled, True)"
   ]
  },
  {
   "cell_type": "code",
   "execution_count": 220,
   "metadata": {
    "colab": {
     "base_uri": "https://localhost:8080/",
     "height": 441
    },
    "id": "IM85sD9xmsYZ",
    "outputId": "22b80bcb-2d81-4433-c48d-0594158e76a4"
   },
   "outputs": [
    {
     "data": {
      "image/png": "[encoded data removed]",
      "text/plain": [
       "<Figure size 864x432 with 1 Axes>"
      ]
     },
     "metadata": {
      "needs_background": "light"
     },
     "output_type": "display_data"
    }
   ],
   "source": [
    "#степень влияния признаков\n",
    "feature_names = [name for name in features.columns] \n",
    "\n",
    "importances = model.feature_importances_\n",
    "forest_importances = pd.Series(importances, index=feature_names)\n",
    "std = np.std([\n",
    "    tree.feature_importances_ for tree in model.estimators_], axis=0)\n",
    "fig, ax = plt.subplots(figsize=(12,6))\n",
    "forest_importances.plot.bar(yerr=std, ax=ax)\n",
    "ax.set_title(\"Feature importances using MDI\")\n",
    "ax.set_ylabel(\"Mean decrease in impurity\")\n",
    "fig.tight_layout()"
   ]
  },
  {
   "cell_type": "markdown",
   "metadata": {},
   "source": [
    "<div style=\"background: #cceeaa; padding: 5px; border: 1px solid green; border-radius: 5px;\">\n",
    "    <font color='green'> <b><u>КОММЕНТАРИЙ РЕВЬЮЕРА</u></b>\n",
    "</font>\n",
    "<font color='green'><br>хорошо, что используешь этот инструмент. На начальном этапе мы можем нагенерить множество разных фич, в том чтисле и лишних. И вот этот инструмент, вкупе с анализом мультиколлинеарности позволяет избавляться от \"балласта\")"
   ]
  },
  {
   "cell_type": "markdown",
   "metadata": {
    "id": "GgpGlx1DmnJ8"
   },
   "source": [
    "### LogisticRegression"
   ]
  },
  {
   "cell_type": "code",
   "execution_count": 221,
   "metadata": {
    "colab": {
     "base_uri": "https://localhost:8080/"
    },
    "id": "C8RB1scxU7PB",
    "outputId": "496663a7-08e8-4ccf-db87-2d1fbba5cc89"
   },
   "outputs": [
    {
     "name": "stdout",
     "output_type": "stream",
     "text": [
      "tuned hpyerparameters :(best parameters)  {'C': 0.9, 'penalty': 'l2', 'solver': 'lbfgs'}\n",
      "roc_auc : 0.8434094075192651\n",
      "LogisticRegression(C=0.9, class_weight=None, dual=False, fit_intercept=True,\n",
      "                   intercept_scaling=1, l1_ratio=None, max_iter=100,\n",
      "                   multi_class='warn', n_jobs=None, penalty='l2',\n",
      "                   random_state=None, solver='lbfgs', tol=0.0001, verbose=0,\n",
      "                   warm_start=False)\n"
     ]
    }
   ],
   "source": [
    "grid={'C': [0.1, 0.2, 0.3, 0.4, 0.5, 0.6, 0.7, 0.8, 0.9, 1.0], \n",
    "                 'penalty':['l2'], \n",
    "                 'solver':['newton-cg', 'lbfgs', 'liblinear', 'sag', 'saga']}\n",
    "logreg=LogisticRegression()\n",
    "logreg_cv=GridSearchCV(logreg, grid, cv=10, scoring=roc_auc_scorer)\n",
    "logreg_cv.fit(features_train, target_train)\n",
    "\n",
    "print(\"tuned hpyerparameters :(best parameters) \", logreg_cv.best_params_)\n",
    "print(\"roc_auc :\", logreg_cv.best_score_)\n",
    "print(logreg_cv.best_estimator_)"
   ]
  },
  {
   "cell_type": "code",
   "execution_count": 222,
   "metadata": {
    "colab": {
     "base_uri": "https://localhost:8080/",
     "height": 769
    },
    "id": "Erwc8wuTnEKy",
    "outputId": "9991bd29-43ad-4d41-c9d2-a3ff60392d35"
   },
   "outputs": [
    {
     "name": "stdout",
     "output_type": "stream",
     "text": [
      "матрица ошибок:\n",
      "[[456  56]\n",
      " [ 94  99]]\n",
      "auc_roc на валидационной выборке: 0.8265969073834196\n"
     ]
    },
    {
     "data": {
      "image/png": "[encoded data removed]",
      "text/plain": [
       "<Figure size 432x432 with 1 Axes>"
      ]
     },
     "metadata": {
      "needs_background": "light"
     },
     "output_type": "display_data"
    },
    {
     "data": {
      "image/png": "[encoded data removed]",
      "text/plain": [
       "<Figure size 432x288 with 1 Axes>"
      ]
     },
     "metadata": {
      "needs_background": "light"
     },
     "output_type": "display_data"
    }
   ],
   "source": [
    "model = logreg_cv.best_estimator_\n",
    "best_lr = model_fit_scoring(features_valid, features_train, target_valid, target_train, True)"
   ]
  },
  {
   "cell_type": "markdown",
   "metadata": {
    "id": "NVgsG0ccrGZy"
   },
   "source": [
    "### Catboost"
   ]
  },
  {
   "cell_type": "code",
   "execution_count": 223,
   "metadata": {
    "colab": {
     "base_uri": "https://localhost:8080/"
    },
    "id": "bMnROT3euIlt",
    "outputId": "6b0bfad2-9c8e-4caa-b745-576574f22205"
   },
   "outputs": [
    {
     "name": "stdout",
     "output_type": "stream",
     "text": [
      "CPU times: user 1.95 ms, sys: 506 µs, total: 2.46 ms\n",
      "Wall time: 1.84 ms\n"
     ]
    }
   ],
   "source": [
    "%%time\n",
    "1 + 1\n",
    "\n",
    "df_cbc = df_clear.drop(['customer_id', 'begin_date', 'end_date'], axis=1)"
   ]
  },
  {
   "cell_type": "code",
   "execution_count": 224,
   "metadata": {
    "colab": {
     "base_uri": "https://localhost:8080/",
     "height": 409
    },
    "id": "R9Cp78YdYQ7D",
    "outputId": "2070f7be-9b7e-403d-b0f3-b9ca9f790adb"
   },
   "outputs": [
    {
     "data": {
      "text/html": [
       "<div>\n",
       "<style scoped>\n",
       "    .dataframe tbody tr th:only-of-type {\n",
       "        vertical-align: middle;\n",
       "    }\n",
       "\n",
       "    .dataframe tbody tr th {\n",
       "        vertical-align: top;\n",
       "    }\n",
       "\n",
       "    .dataframe thead th {\n",
       "        text-align: right;\n",
       "    }\n",
       "</style>\n",
       "<table border=\"1\" class=\"dataframe\">\n",
       "  <thead>\n",
       "    <tr style=\"text-align: right;\">\n",
       "      <th></th>\n",
       "      <th>type</th>\n",
       "      <th>paperless_billing</th>\n",
       "      <th>payment_method</th>\n",
       "      <th>monthly_charges</th>\n",
       "      <th>gender</th>\n",
       "      <th>senior_citizen</th>\n",
       "      <th>partner</th>\n",
       "      <th>dependents</th>\n",
       "      <th>internet_service</th>\n",
       "      <th>online_security</th>\n",
       "      <th>online_backup</th>\n",
       "      <th>device_protection</th>\n",
       "      <th>tech_support</th>\n",
       "      <th>streaming_TV</th>\n",
       "      <th>streaming_movies</th>\n",
       "      <th>multiple_lines</th>\n",
       "      <th>exited</th>\n",
       "      <th>lifecycle</th>\n",
       "    </tr>\n",
       "  </thead>\n",
       "  <tbody>\n",
       "    <tr>\n",
       "      <td>0</td>\n",
       "      <td>Month-to-month</td>\n",
       "      <td>Yes</td>\n",
       "      <td>Electronic check</td>\n",
       "      <td>29.85</td>\n",
       "      <td>Female</td>\n",
       "      <td>0</td>\n",
       "      <td>Yes</td>\n",
       "      <td>No</td>\n",
       "      <td>DSL</td>\n",
       "      <td>No</td>\n",
       "      <td>Yes</td>\n",
       "      <td>No</td>\n",
       "      <td>No</td>\n",
       "      <td>No</td>\n",
       "      <td>No</td>\n",
       "      <td>No</td>\n",
       "      <td>0</td>\n",
       "      <td>31</td>\n",
       "    </tr>\n",
       "    <tr>\n",
       "      <td>1</td>\n",
       "      <td>One year</td>\n",
       "      <td>No</td>\n",
       "      <td>Mailed check</td>\n",
       "      <td>56.95</td>\n",
       "      <td>Male</td>\n",
       "      <td>0</td>\n",
       "      <td>No</td>\n",
       "      <td>No</td>\n",
       "      <td>DSL</td>\n",
       "      <td>Yes</td>\n",
       "      <td>No</td>\n",
       "      <td>Yes</td>\n",
       "      <td>No</td>\n",
       "      <td>No</td>\n",
       "      <td>No</td>\n",
       "      <td>No</td>\n",
       "      <td>0</td>\n",
       "      <td>1036</td>\n",
       "    </tr>\n",
       "    <tr>\n",
       "      <td>2</td>\n",
       "      <td>Month-to-month</td>\n",
       "      <td>Yes</td>\n",
       "      <td>Mailed check</td>\n",
       "      <td>53.85</td>\n",
       "      <td>Male</td>\n",
       "      <td>0</td>\n",
       "      <td>No</td>\n",
       "      <td>No</td>\n",
       "      <td>DSL</td>\n",
       "      <td>Yes</td>\n",
       "      <td>Yes</td>\n",
       "      <td>No</td>\n",
       "      <td>No</td>\n",
       "      <td>No</td>\n",
       "      <td>No</td>\n",
       "      <td>No</td>\n",
       "      <td>1</td>\n",
       "      <td>61</td>\n",
       "    </tr>\n",
       "    <tr>\n",
       "      <td>3</td>\n",
       "      <td>One year</td>\n",
       "      <td>No</td>\n",
       "      <td>Bank transfer (automatic)</td>\n",
       "      <td>42.30</td>\n",
       "      <td>Male</td>\n",
       "      <td>0</td>\n",
       "      <td>No</td>\n",
       "      <td>No</td>\n",
       "      <td>DSL</td>\n",
       "      <td>Yes</td>\n",
       "      <td>No</td>\n",
       "      <td>Yes</td>\n",
       "      <td>Yes</td>\n",
       "      <td>No</td>\n",
       "      <td>No</td>\n",
       "      <td>No</td>\n",
       "      <td>0</td>\n",
       "      <td>1371</td>\n",
       "    </tr>\n",
       "    <tr>\n",
       "      <td>4</td>\n",
       "      <td>Month-to-month</td>\n",
       "      <td>Yes</td>\n",
       "      <td>Electronic check</td>\n",
       "      <td>70.70</td>\n",
       "      <td>Female</td>\n",
       "      <td>0</td>\n",
       "      <td>No</td>\n",
       "      <td>No</td>\n",
       "      <td>Fiber optic</td>\n",
       "      <td>No</td>\n",
       "      <td>No</td>\n",
       "      <td>No</td>\n",
       "      <td>No</td>\n",
       "      <td>No</td>\n",
       "      <td>No</td>\n",
       "      <td>No</td>\n",
       "      <td>1</td>\n",
       "      <td>61</td>\n",
       "    </tr>\n",
       "  </tbody>\n",
       "</table>\n",
       "</div>"
      ],
      "text/plain": [
       "             type paperless_billing             payment_method  \\\n",
       "0  Month-to-month               Yes           Electronic check   \n",
       "1        One year                No               Mailed check   \n",
       "2  Month-to-month               Yes               Mailed check   \n",
       "3        One year                No  Bank transfer (automatic)   \n",
       "4  Month-to-month               Yes           Electronic check   \n",
       "\n",
       "   monthly_charges  gender  senior_citizen partner dependents  \\\n",
       "0            29.85  Female               0     Yes         No   \n",
       "1            56.95    Male               0      No         No   \n",
       "2            53.85    Male               0      No         No   \n",
       "3            42.30    Male               0      No         No   \n",
       "4            70.70  Female               0      No         No   \n",
       "\n",
       "  internet_service online_security online_backup device_protection  \\\n",
       "0              DSL              No           Yes                No   \n",
       "1              DSL             Yes            No               Yes   \n",
       "2              DSL             Yes           Yes                No   \n",
       "3              DSL             Yes            No               Yes   \n",
       "4      Fiber optic              No            No                No   \n",
       "\n",
       "  tech_support streaming_TV streaming_movies multiple_lines  exited  lifecycle  \n",
       "0           No           No               No             No       0         31  \n",
       "1           No           No               No             No       0       1036  \n",
       "2           No           No               No             No       1         61  \n",
       "3          Yes           No               No             No       0       1371  \n",
       "4           No           No               No             No       1         61  "
      ]
     },
     "execution_count": 224,
     "metadata": {},
     "output_type": "execute_result"
    }
   ],
   "source": [
    "df_cbc.head()"
   ]
  },
  {
   "cell_type": "code",
   "execution_count": 225,
   "metadata": {
    "colab": {
     "base_uri": "https://localhost:8080/"
    },
    "id": "PJCDV7aqZyXV",
    "outputId": "a5918564-8feb-4466-a40e-fc4acf92fef1"
   },
   "outputs": [
    {
     "name": "stdout",
     "output_type": "stream",
     "text": [
      "проверим размеры выборок:\n",
      "features_test (704, 17)\n",
      "target_test (704,)\n",
      "target_valid (705,)\n",
      "features_train (5634, 17)\n",
      "target_train (5634,)\n",
      "features_valid (705, 17)\n",
      "target_valid (705,)\n"
     ]
    }
   ],
   "source": [
    "target = df_cbc['exited']\n",
    "features = df_cbc.drop('exited', axis=1)\n",
    "features_train, features_valid, target_train, target_valid = train_test_split(\n",
    "                                            features, target, test_size=0.2, random_state=12345)\n",
    "\n",
    "features_test_cb, features_valid, target_test_cb, target_valid = train_test_split(\n",
    "                                            features_valid, target_valid, test_size=0.5, random_state=12345)\n",
    "features_train = features_train.copy()\n",
    "features_valid = features_valid.copy()\n",
    "\n",
    "print('проверим размеры выборок:')\n",
    "print('features_test', features_test_cb.shape)\n",
    "print('target_test', target_test_cb.shape)\n",
    "print('target_valid', target_valid.shape)\n",
    "print('features_train', features_train.shape)\n",
    "print('target_train', target_train.shape)\n",
    "print('features_valid', features_valid.shape)\n",
    "print('target_valid', target_valid.shape)"
   ]
  },
  {
   "cell_type": "code",
   "execution_count": 226,
   "metadata": {
    "colab": {
     "base_uri": "https://localhost:8080/"
    },
    "id": "MED1jhpdXRlN",
    "outputId": "277b65af-0f1b-4334-c033-045e8a158297"
   },
   "outputs": [
    {
     "name": "stdout",
     "output_type": "stream",
     "text": [
      "features_zeros (4144, 17)\n",
      "features_ones (1490, 17)\n",
      "target_zeros (4144,)\n",
      "target_ones (1490,)\n",
      "upsampling...\n",
      "features_zeros (4144, 17)\n",
      "features_ones (4470, 17)\n",
      "target_zeros (4144,)\n",
      "target_ones (4470,)\n"
     ]
    }
   ],
   "source": [
    "#дисбаланс классов\n",
    "features_upsampled, target_upsampled = upsample(features_train, target_train, 3)"
   ]
  },
  {
   "cell_type": "markdown",
   "metadata": {
    "id": "hWzEOwXqlqgz"
   },
   "source": [
    "#### Подбор параметров"
   ]
  },
  {
   "cell_type": "code",
   "execution_count": 227,
   "metadata": {
    "id": "FofbiGDgaYqH"
   },
   "outputs": [],
   "source": [
    "cat_features=['type',\t'paperless_billing', 'payment_method', \\\n",
    "              'gender',\t\\\n",
    "              'partner',\t'dependents',\t'internet_service', \\\n",
    "              'online_security',\t'online_backup',\t'device_protection', \\\n",
    "              'tech_support',\t'streaming_TV',\t'streaming_movies',\t'multiple_lines']"
   ]
  },
  {
   "cell_type": "code",
   "execution_count": 228,
   "metadata": {
    "colab": {
     "base_uri": "https://localhost:8080/"
    },
    "id": "xAMLYuCeltcm",
    "outputId": "1cbf19d5-55db-487f-c327-9e071f535018"
   },
   "outputs": [
    {
     "data": {
      "text/plain": [
       "GridSearchCV(cv=5, error_score='raise-deprecating',\n",
       "             estimator=<catboost.core.CatBoostClassifier object at 0x7ff4d7472550>,\n",
       "             iid='warn', n_jobs=None,\n",
       "             param_grid={'max_depth': [3, 4, 5],\n",
       "                         'n_estimators': [100, 200, 300]},\n",
       "             pre_dispatch='2*n_jobs', refit=True, return_train_score=False,\n",
       "             scoring=make_scorer(roc_auc_score, needs_threshold=True),\n",
       "             verbose=0)"
      ]
     },
     "execution_count": 228,
     "metadata": {},
     "output_type": "execute_result"
    }
   ],
   "source": [
    "#Instantiate CatBoostClassifier\n",
    "cbc = CatBoostClassifier(cat_features=cat_features, verbose = 0)\n",
    "#create the grid\n",
    "grid = {'max_depth': [3,4,5],\n",
    "        'n_estimators':[100, 200, 300]\n",
    "        }\n",
    "#Instantiate GridSearchCV\n",
    "gscv = GridSearchCV (estimator = cbc, param_grid = grid, scoring = roc_auc_scorer, cv = 5, verbose = 0)\n",
    "#fit the model\n",
    "gscv.fit(features_upsampled, target_upsampled)"
   ]
  },
  {
   "cell_type": "code",
   "execution_count": 229,
   "metadata": {
    "colab": {
     "base_uri": "https://localhost:8080/"
    },
    "id": "peiKtrmomxjE",
    "outputId": "4fc8b5ca-2c59-4b72-dd08-407289a678a4"
   },
   "outputs": [
    {
     "name": "stdout",
     "output_type": "stream",
     "text": [
      "{'max_depth': 5, 'n_estimators': 300}\n"
     ]
    }
   ],
   "source": [
    "print(gscv.best_params_)"
   ]
  },
  {
   "cell_type": "code",
   "execution_count": 230,
   "metadata": {
    "id": "ACK7fHY6ZqeK"
   },
   "outputs": [],
   "source": [
    "model = gscv.best_estimator_ #CatBoostClassifier(loss_function=\"CrossEntropy\", cat_features=cat_features, iterations=50, random_seed = 12345, verbose=0)"
   ]
  },
  {
   "cell_type": "code",
   "execution_count": 231,
   "metadata": {
    "colab": {
     "base_uri": "https://localhost:8080/",
     "height": 1000
    },
    "id": "Ds_uIPjLuTMp",
    "outputId": "f941285c-ea41-4b30-edb3-97f711528988"
   },
   "outputs": [
    {
     "name": "stdout",
     "output_type": "stream",
     "text": [
      "матрица ошибок:\n",
      "[[409 103]\n",
      " [ 35 158]]\n",
      "auc_roc на валидационной выборке: 0.8994849012305699\n"
     ]
    },
    {
     "data": {
      "image/png": "[encoded data removed]",
      "text/plain": [
       "<Figure size 432x432 with 1 Axes>"
      ]
     },
     "metadata": {
      "needs_background": "light"
     },
     "output_type": "display_data"
    },
    {
     "data": {
      "image/png": "[encoded data removed]",
      "text/plain": [
       "<Figure size 432x288 with 1 Axes>"
      ]
     },
     "metadata": {
      "needs_background": "light"
     },
     "output_type": "display_data"
    }
   ],
   "source": [
    "best_cb = model_fit_scoring(features_valid, features_upsampled, target_valid, target_upsampled, True)"
   ]
  },
  {
   "cell_type": "markdown",
   "metadata": {
    "id": "Bk4lhzP_wrjW"
   },
   "source": [
    "## Тестирование"
   ]
  },
  {
   "cell_type": "code",
   "execution_count": 232,
   "metadata": {
    "id": "VtRzYV2vvMKw"
   },
   "outputs": [
    {
     "data": {
      "text/html": [
       "<div>\n",
       "<style scoped>\n",
       "    .dataframe tbody tr th:only-of-type {\n",
       "        vertical-align: middle;\n",
       "    }\n",
       "\n",
       "    .dataframe tbody tr th {\n",
       "        vertical-align: top;\n",
       "    }\n",
       "\n",
       "    .dataframe thead th {\n",
       "        text-align: right;\n",
       "    }\n",
       "</style>\n",
       "<table border=\"1\" class=\"dataframe\">\n",
       "  <thead>\n",
       "    <tr style=\"text-align: right;\">\n",
       "      <th></th>\n",
       "      <th>model</th>\n",
       "      <th>mean_roc_auc</th>\n",
       "      <th>accuracy</th>\n",
       "    </tr>\n",
       "  </thead>\n",
       "  <tbody>\n",
       "    <tr>\n",
       "      <td>0</td>\n",
       "      <td>logistic-regression</td>\n",
       "      <td>0.840679</td>\n",
       "      <td>0.735795</td>\n",
       "    </tr>\n",
       "    <tr>\n",
       "      <td>1</td>\n",
       "      <td>random_forest</td>\n",
       "      <td>0.855781</td>\n",
       "      <td>0.660511</td>\n",
       "    </tr>\n",
       "    <tr>\n",
       "      <td>2</td>\n",
       "      <td>cat boost</td>\n",
       "      <td>0.876828</td>\n",
       "      <td>0.836648</td>\n",
       "    </tr>\n",
       "  </tbody>\n",
       "</table>\n",
       "</div>"
      ],
      "text/plain": [
       "                 model  mean_roc_auc  accuracy\n",
       "0  logistic-regression      0.840679  0.735795\n",
       "1        random_forest      0.855781  0.660511\n",
       "2            cat boost      0.876828  0.836648"
      ]
     },
     "execution_count": 232,
     "metadata": {},
     "output_type": "execute_result"
    }
   ],
   "source": [
    "# Рассчитаем для всех моделей среднее AUC-ROC\n",
    "auc_roc_lr_test = cross_val_score(best_lr, features_test, target_test, scoring = 'roc_auc', cv = 20, n_jobs = -1)\n",
    "mean_auc_roc_lr_test = sum(auc_roc_lr_test)/len(auc_roc_lr_test)\n",
    "auc_roc_rf_test = cross_val_score(best_rf, features_test, target_test, scoring = 'roc_auc', cv = 10, n_jobs = -1)\n",
    "mean_auc_roc_rf_test = sum(auc_roc_rf_test)/len(auc_roc_rf_test)\n",
    "auc_roc_cb_test = cross_val_score(best_cb, features_test_cb, target_test_cb, scoring = 'roc_auc', cv = 10, n_jobs = -1)\n",
    "mean_auc_roc_cb_test = sum(auc_roc_cb_test)/len(auc_roc_cb_test)\n",
    "\n",
    "data_for_score = [['logistic-regression', mean_auc_roc_lr_test, accuracy_score(target_test, best_lr.predict(features_test))], \n",
    "                  ['random_forest', mean_auc_roc_rf_test, accuracy_score(target_test, best_rf.predict(features_test))], \n",
    "                  ['cat boost', mean_auc_roc_cb_test, accuracy_score(target_test_cb, best_cb.predict(features_test_cb))]]\n",
    "columns_for_score = ['model', 'mean_roc_auc', 'accuracy']\n",
    "table_for_score = pd.DataFrame(data = data_for_score, columns = columns_for_score)\n",
    "table_for_score"
   ]
  },
  {
   "cell_type": "markdown",
   "metadata": {},
   "source": [
    "<div style=\"background: #cceeaa; padding: 5px; border: 1px solid green; border-radius: 5px;\">\n",
    "    <font color='green'> <b><u>КОММЕНТАРИЙ РЕВЬЮЕРА</u></b>\n",
    "</font>\n",
    "<font color='green'><br>\n",
    "ОК, Роман, скажу, что уверенная работа, на мой взгляд)<br>\n",
    "Обработка данных, размышления над факторами, многогранная модельная работа, конечные результаты - многое удалось как надо<br> \n",
    "\n",
    "Прежде, чем идти дальше, напомню из прошлых наших общений основные моменты, которые бы мне хотелось зафиксировать, как важные для момделирования (что-то ты и так хорошо используешь):<br>   \n",
    "1) F1, Акураси и AUC - отличные метрики, но нужно держать в голове, что это лишь бобщённые характеристики. А в реальной практике бизнесу часто важно знать детали самой ошибки - из каких ошибок/успехов она складывается. И в этом случае очень кстати будут меры полноты и точности. Рассмотри возможность их использования для своих проектов. Только через них можно выйти на финансовые возможности модели. Ведь перед запуском её в бой, будет сравнение стоимости создания и поддержки модели со стомостью \"оставить как есть\" \n",
    "    \n",
    "2) При анализе факторов влияния (их зависиомть между собой и на целевую) происходит по одному из трёх алгоритмов, исходя из типа шкалы. Могут применять следующие графический и аналитический анализы:<br>\n",
    "- колличественная-колличественная: аналитически методод - корреляции, графический - скатерплот.<br>\n",
    "- колличественная-номинальная: аналитически методод - проверка гипотез (стьюдент, маннауитни), графический - боксплот.<br>\n",
    "- номинальная-номинальная: аналитически методод - Хи-квадрат, графический - круговая диаграмма<br>\n",
    "Это я к тому разделу, который посвящён анализу данных. Там ты сделал интересные предположения и чтобы их доказать, стои проверить аналитически. Вот как раз те методы проверки гипотез, что выше написал.<br>\n",
    "    \n",
    "3) Алгоритм нахождения модели может быть таким:<br>\n",
    "- изучаем проблематику бизнеса и самой темы (в данном случае отток). Пытаемся понять суть явления.<br>\n",
    "- генерируем разные факторы влияния - любые.<br>\n",
    "- дизайнируем (прикидываем модели) какие методы решения есть, чтобы решить проблему.<br>\n",
    "- Смотрим, какие данные и в какой шкале есть. Что нужно ещё, что применить выбранный метод.<br>\n",
    "- Оцениваем мультиколлинеарность.<br>\n",
    "- строим модели и анализируем те фактры, какие сгенерировали ранее.<br>\n",
    "- Думаем над тем, какие причины (факторы) могут ещё влиять на отток.<br>\n",
    "- если после нескольких итераций точность \"замирает\" - значит достигли потолка)<br>\n",
    " \n",
    "4) Проведение анализа важности факторов с помощью команды feature_importances_ (+графический анализ). Отличная вещь намечается: высока я метрика + график рейтинаг факторов по силе влияния на целевой признак). Важнейшая часть любого модельного финала. Если видно, что часть факторов - слабозначимые для модели. Т.е. не значительно влияют на целевую переменную, то их смело можно убирать из модели. Ну и для бизнеса доносить: так мол и так - на эти факторы надо обращать внимание, а эти не влияют на уход клиента.\n",
    "\n",
    "<font color='red'>\n",
    "Есть пару-тройку вопросов для дополнений:<br>\n",
    "1) При моделировании существует проблематика мультиколлинеарности.(когда количественные факторы имеют сильную корреляцию друг с другом - больше 0.8).Есть ли она у нас?  Если есть - надо  решать по понятиям:) (удалить лишнее)<br><br>\n",
    "\n",
    "2) Ну и есть комментарий про факторы времени - посмотри, пожалуйста.<br>\n",
    "<font color='green'>\n",
    "Однозначно видно, что ты технически сделал хорошую работу.<br>\n",
    "Просто эти два пункта - важный момент в алгоритме моделирования. И хотелось, чтобы они у тебя остались в финале.<br>\n",
    "\n",
    "Спасибо)<br>\n",
    "БУДУ ЖДАТЬ КОММЕНТАРИЕВ."
   ]
  },
  {
   "cell_type": "code",
   "execution_count": null,
   "metadata": {},
   "outputs": [],
   "source": []
  }
 ],
 "metadata": {
  "ExecuteTimeLog": [
   {
    "duration": 750,
    "start_time": "2022-01-27T11:51:37.074Z"
   },
   {
    "duration": 3633,
    "start_time": "2022-01-27T11:51:50.208Z"
   },
   {
    "duration": 1861,
    "start_time": "2022-01-27T11:52:10.160Z"
   },
   {
    "duration": 97,
    "start_time": "2022-01-27T11:52:15.618Z"
   },
   {
    "duration": 32,
    "start_time": "2022-01-27T11:52:20.770Z"
   },
   {
    "duration": 7,
    "start_time": "2022-01-27T12:19:12.924Z"
   },
   {
    "duration": 117,
    "start_time": "2022-01-27T12:19:30.981Z"
   },
   {
    "duration": 7,
    "start_time": "2022-01-27T12:21:20.215Z"
   },
   {
    "duration": 126,
    "start_time": "2022-01-27T12:21:21.161Z"
   },
   {
    "duration": 8,
    "start_time": "2022-01-27T12:22:40.156Z"
   },
   {
    "duration": 114,
    "start_time": "2022-01-27T12:22:40.466Z"
   },
   {
    "duration": 8,
    "start_time": "2022-01-27T12:23:05.142Z"
   },
   {
    "duration": 114,
    "start_time": "2022-01-27T12:23:05.359Z"
   },
   {
    "duration": 643,
    "start_time": "2022-01-28T06:49:19.706Z"
   },
   {
    "duration": 7,
    "start_time": "2022-01-28T06:49:22.514Z"
   },
   {
    "duration": 104,
    "start_time": "2022-01-28T06:49:23.236Z"
   },
   {
    "duration": 86,
    "start_time": "2022-01-28T06:49:34.034Z"
   },
   {
    "duration": 15,
    "start_time": "2022-01-28T06:49:41.832Z"
   },
   {
    "duration": 70,
    "start_time": "2022-01-28T06:50:11.188Z"
   },
   {
    "duration": 97,
    "start_time": "2022-01-28T06:51:24.470Z"
   },
   {
    "duration": 86,
    "start_time": "2022-01-28T06:53:57.789Z"
   },
   {
    "duration": 3,
    "start_time": "2022-01-28T06:55:15.585Z"
   },
   {
    "duration": 5,
    "start_time": "2022-01-28T06:55:15.590Z"
   },
   {
    "duration": 96,
    "start_time": "2022-01-28T06:55:15.598Z"
   },
   {
    "duration": 67,
    "start_time": "2022-01-28T06:55:15.696Z"
   },
   {
    "duration": 376,
    "start_time": "2022-01-28T06:55:15.765Z"
   },
   {
    "duration": 96,
    "start_time": "2022-01-28T07:28:07.553Z"
   },
   {
    "duration": 67,
    "start_time": "2022-01-28T07:28:08.613Z"
   },
   {
    "duration": 295,
    "start_time": "2022-01-28T10:47:17.418Z"
   },
   {
    "duration": 475,
    "start_time": "2022-01-28T10:47:25.020Z"
   },
   {
    "duration": 577,
    "start_time": "2022-01-28T10:47:33.245Z"
   },
   {
    "duration": 6,
    "start_time": "2022-01-28T10:47:33.823Z"
   },
   {
    "duration": 88,
    "start_time": "2022-01-28T10:47:33.832Z"
   },
   {
    "duration": 3,
    "start_time": "2022-01-28T10:47:33.923Z"
   },
   {
    "duration": 74,
    "start_time": "2022-01-28T10:47:33.928Z"
   },
   {
    "duration": 74,
    "start_time": "2022-01-28T10:47:34.004Z"
   },
   {
    "duration": 45,
    "start_time": "2022-01-28T10:47:34.099Z"
   },
   {
    "duration": 15,
    "start_time": "2022-01-28T10:48:03.962Z"
   },
   {
    "duration": 295,
    "start_time": "2022-01-28T10:49:05.996Z"
   },
   {
    "duration": 273,
    "start_time": "2022-01-28T10:49:10.049Z"
   },
   {
    "duration": 267,
    "start_time": "2022-01-28T10:49:17.957Z"
   },
   {
    "duration": 260,
    "start_time": "2022-01-28T10:49:23.196Z"
   },
   {
    "duration": 1779,
    "start_time": "2022-01-28T11:08:50.591Z"
   },
   {
    "duration": 2049,
    "start_time": "2022-01-28T11:09:18.630Z"
   },
   {
    "duration": 6,
    "start_time": "2022-01-28T11:11:04.053Z"
   },
   {
    "duration": 7,
    "start_time": "2022-01-28T11:11:15.957Z"
   },
   {
    "duration": 2593,
    "start_time": "2022-01-28T11:11:53.584Z"
   },
   {
    "duration": 5,
    "start_time": "2022-01-28T11:12:54.366Z"
   },
   {
    "duration": 7,
    "start_time": "2022-01-28T11:13:00.991Z"
   },
   {
    "duration": 545,
    "start_time": "2022-01-28T14:36:57.513Z"
   },
   {
    "duration": 5,
    "start_time": "2022-01-28T14:36:58.059Z"
   },
   {
    "duration": 74,
    "start_time": "2022-01-28T14:36:58.066Z"
   },
   {
    "duration": 2143,
    "start_time": "2022-01-28T14:36:58.142Z"
   },
   {
    "duration": -696,
    "start_time": "2022-01-28T14:37:00.983Z"
   },
   {
    "duration": -699,
    "start_time": "2022-01-28T14:37:00.987Z"
   },
   {
    "duration": -702,
    "start_time": "2022-01-28T14:37:00.991Z"
   },
   {
    "duration": -705,
    "start_time": "2022-01-28T14:37:00.995Z"
   },
   {
    "duration": -707,
    "start_time": "2022-01-28T14:37:00.998Z"
   },
   {
    "duration": 557,
    "start_time": "2022-01-29T05:48:11.881Z"
   },
   {
    "duration": 5,
    "start_time": "2022-01-29T05:48:12.440Z"
   },
   {
    "duration": 75,
    "start_time": "2022-01-29T05:48:12.446Z"
   },
   {
    "duration": 5,
    "start_time": "2022-01-29T05:48:12.523Z"
   },
   {
    "duration": 6,
    "start_time": "2022-01-29T05:48:12.529Z"
   },
   {
    "duration": 13,
    "start_time": "2022-01-29T05:48:12.537Z"
   },
   {
    "duration": 43,
    "start_time": "2022-01-29T05:48:12.571Z"
   },
   {
    "duration": 64,
    "start_time": "2022-01-29T05:48:12.616Z"
   },
   {
    "duration": 39,
    "start_time": "2022-01-29T05:48:12.681Z"
   },
   {
    "duration": 2,
    "start_time": "2022-01-29T07:24:19.000Z"
   },
   {
    "duration": 4,
    "start_time": "2022-01-29T07:24:19.007Z"
   },
   {
    "duration": 70,
    "start_time": "2022-01-29T07:24:19.013Z"
   },
   {
    "duration": 5,
    "start_time": "2022-01-29T07:24:19.084Z"
   },
   {
    "duration": 5,
    "start_time": "2022-01-29T07:24:19.091Z"
   },
   {
    "duration": 13,
    "start_time": "2022-01-29T07:24:19.098Z"
   },
   {
    "duration": 63,
    "start_time": "2022-01-29T07:24:19.112Z"
   },
   {
    "duration": 63,
    "start_time": "2022-01-29T07:24:19.176Z"
   },
   {
    "duration": 44,
    "start_time": "2022-01-29T07:24:19.241Z"
   },
   {
    "duration": 364,
    "start_time": "2022-01-29T07:33:53.660Z"
   },
   {
    "duration": 302,
    "start_time": "2022-01-29T07:33:58.481Z"
   },
   {
    "duration": 320,
    "start_time": "2022-01-29T07:34:07.441Z"
   },
   {
    "duration": 369,
    "start_time": "2022-01-29T07:34:42.697Z"
   },
   {
    "duration": 492,
    "start_time": "2022-01-29T07:34:50.812Z"
   },
   {
    "duration": 317,
    "start_time": "2022-01-29T07:34:55.090Z"
   },
   {
    "duration": 380,
    "start_time": "2022-01-29T07:35:58.243Z"
   },
   {
    "duration": 886,
    "start_time": "2022-01-29T07:36:15.495Z"
   },
   {
    "duration": 313,
    "start_time": "2022-01-29T07:37:45.388Z"
   },
   {
    "duration": 3,
    "start_time": "2022-01-29T07:37:59.744Z"
   },
   {
    "duration": 785,
    "start_time": "2022-01-29T07:38:09.453Z"
   },
   {
    "duration": 2156,
    "start_time": "2022-01-29T07:39:36.656Z"
   },
   {
    "duration": 11,
    "start_time": "2022-01-29T07:40:15.504Z"
   },
   {
    "duration": 5,
    "start_time": "2022-01-29T07:40:31.105Z"
   },
   {
    "duration": 10,
    "start_time": "2022-01-29T07:40:44.262Z"
   },
   {
    "duration": 3,
    "start_time": "2022-01-29T07:41:43.347Z"
   },
   {
    "duration": 4,
    "start_time": "2022-01-29T07:42:55.005Z"
   },
   {
    "duration": 4,
    "start_time": "2022-01-29T07:43:05.224Z"
   },
   {
    "duration": 4,
    "start_time": "2022-01-29T07:43:12.469Z"
   },
   {
    "duration": 5,
    "start_time": "2022-01-29T07:43:20.473Z"
   },
   {
    "duration": 2160,
    "start_time": "2022-01-29T07:43:27.245Z"
   },
   {
    "duration": 4,
    "start_time": "2022-01-29T07:43:43.871Z"
   },
   {
    "duration": 6,
    "start_time": "2022-01-29T07:44:11.817Z"
   },
   {
    "duration": 6,
    "start_time": "2022-01-29T07:44:20.818Z"
   },
   {
    "duration": 4,
    "start_time": "2022-01-29T07:44:40.853Z"
   },
   {
    "duration": 6,
    "start_time": "2022-01-29T07:44:43.725Z"
   },
   {
    "duration": 4,
    "start_time": "2022-01-29T07:46:15.220Z"
   },
   {
    "duration": 12,
    "start_time": "2022-01-29T07:46:33.631Z"
   },
   {
    "duration": 296,
    "start_time": "2022-01-29T07:46:53.145Z"
   },
   {
    "duration": 9,
    "start_time": "2022-01-29T07:46:58.918Z"
   },
   {
    "duration": 14,
    "start_time": "2022-01-29T07:47:01.164Z"
   },
   {
    "duration": 15,
    "start_time": "2022-01-29T07:47:06.366Z"
   },
   {
    "duration": 8,
    "start_time": "2022-01-29T08:40:59.112Z"
   },
   {
    "duration": 80,
    "start_time": "2022-01-29T08:44:39.015Z"
   },
   {
    "duration": 82,
    "start_time": "2022-01-29T08:44:42.633Z"
   },
   {
    "duration": 435,
    "start_time": "2022-01-30T08:49:56.081Z"
   },
   {
    "duration": 738,
    "start_time": "2022-01-30T08:50:09.692Z"
   },
   {
    "duration": 7,
    "start_time": "2022-01-30T08:50:10.433Z"
   },
   {
    "duration": 119,
    "start_time": "2022-01-30T08:50:10.443Z"
   },
   {
    "duration": 393,
    "start_time": "2022-01-30T08:50:10.565Z"
   },
   {
    "duration": -110,
    "start_time": "2022-01-30T08:50:11.070Z"
   },
   {
    "duration": -109,
    "start_time": "2022-01-30T08:50:11.071Z"
   },
   {
    "duration": -109,
    "start_time": "2022-01-30T08:50:11.072Z"
   },
   {
    "duration": -113,
    "start_time": "2022-01-30T08:50:11.077Z"
   },
   {
    "duration": -122,
    "start_time": "2022-01-30T08:50:11.087Z"
   },
   {
    "duration": -123,
    "start_time": "2022-01-30T08:50:11.090Z"
   },
   {
    "duration": -124,
    "start_time": "2022-01-30T08:50:11.092Z"
   },
   {
    "duration": 3,
    "start_time": "2022-01-30T08:50:38.365Z"
   },
   {
    "duration": 7,
    "start_time": "2022-01-30T08:50:38.371Z"
   },
   {
    "duration": 105,
    "start_time": "2022-01-30T08:50:38.381Z"
   },
   {
    "duration": 431,
    "start_time": "2022-01-30T08:50:38.489Z"
   },
   {
    "duration": -102,
    "start_time": "2022-01-30T08:50:39.024Z"
   },
   {
    "duration": -101,
    "start_time": "2022-01-30T08:50:39.025Z"
   },
   {
    "duration": -104,
    "start_time": "2022-01-30T08:50:39.029Z"
   },
   {
    "duration": -103,
    "start_time": "2022-01-30T08:50:39.030Z"
   },
   {
    "duration": -117,
    "start_time": "2022-01-30T08:50:39.046Z"
   },
   {
    "duration": -118,
    "start_time": "2022-01-30T08:50:39.048Z"
   },
   {
    "duration": -120,
    "start_time": "2022-01-30T08:50:39.051Z"
   },
   {
    "duration": 5,
    "start_time": "2022-01-30T08:51:11.092Z"
   },
   {
    "duration": 3,
    "start_time": "2022-01-30T08:51:19.430Z"
   },
   {
    "duration": 8,
    "start_time": "2022-01-30T08:51:19.436Z"
   },
   {
    "duration": 112,
    "start_time": "2022-01-30T08:51:19.448Z"
   },
   {
    "duration": 6,
    "start_time": "2022-01-30T08:51:19.563Z"
   },
   {
    "duration": 18,
    "start_time": "2022-01-30T08:51:19.571Z"
   },
   {
    "duration": 27,
    "start_time": "2022-01-30T08:51:19.592Z"
   },
   {
    "duration": 43,
    "start_time": "2022-01-30T08:51:19.621Z"
   },
   {
    "duration": 96,
    "start_time": "2022-01-30T08:51:19.667Z"
   },
   {
    "duration": 356,
    "start_time": "2022-01-30T08:51:19.765Z"
   },
   {
    "duration": -63,
    "start_time": "2022-01-30T08:51:20.187Z"
   },
   {
    "duration": -63,
    "start_time": "2022-01-30T08:51:20.188Z"
   },
   {
    "duration": 4,
    "start_time": "2022-01-30T08:51:52.433Z"
   },
   {
    "duration": 147,
    "start_time": "2022-01-30T08:52:01.230Z"
   },
   {
    "duration": 24,
    "start_time": "2022-01-30T08:52:10.804Z"
   },
   {
    "duration": 130,
    "start_time": "2022-01-30T08:54:36.908Z"
   },
   {
    "duration": 4,
    "start_time": "2022-01-30T08:54:42.931Z"
   },
   {
    "duration": 4,
    "start_time": "2022-01-30T08:55:37.191Z"
   },
   {
    "duration": 75,
    "start_time": "2022-01-30T08:55:38.300Z"
   },
   {
    "duration": 3,
    "start_time": "2022-01-30T08:56:57.176Z"
   },
   {
    "duration": 388,
    "start_time": "2022-01-30T08:57:21.405Z"
   },
   {
    "duration": 414,
    "start_time": "2022-01-30T08:57:26.253Z"
   },
   {
    "duration": 376,
    "start_time": "2022-01-30T08:57:35.644Z"
   },
   {
    "duration": 111,
    "start_time": "2022-01-30T08:58:10.927Z"
   },
   {
    "duration": 5,
    "start_time": "2022-01-30T08:58:13.032Z"
   },
   {
    "duration": 18,
    "start_time": "2022-01-30T08:58:14.196Z"
   },
   {
    "duration": 27,
    "start_time": "2022-01-30T08:58:16.448Z"
   },
   {
    "duration": 618,
    "start_time": "2022-01-30T08:58:17.039Z"
   },
   {
    "duration": 461,
    "start_time": "2022-01-30T08:59:21.311Z"
   },
   {
    "duration": 624,
    "start_time": "2022-01-30T08:59:36.924Z"
   },
   {
    "duration": 6,
    "start_time": "2022-01-30T08:59:45.642Z"
   },
   {
    "duration": 7,
    "start_time": "2022-01-30T08:59:49.074Z"
   },
   {
    "duration": 121,
    "start_time": "2022-01-30T09:00:26.793Z"
   },
   {
    "duration": 7,
    "start_time": "2022-01-30T09:00:29.752Z"
   },
   {
    "duration": 7,
    "start_time": "2022-01-30T09:00:36.374Z"
   },
   {
    "duration": 8,
    "start_time": "2022-01-30T09:09:47.421Z"
   },
   {
    "duration": 6,
    "start_time": "2022-01-30T09:10:17.380Z"
   },
   {
    "duration": 7,
    "start_time": "2022-01-30T09:10:20.616Z"
   },
   {
    "duration": 7,
    "start_time": "2022-01-30T09:10:25.923Z"
   },
   {
    "duration": 391,
    "start_time": "2022-01-30T09:12:03.460Z"
   },
   {
    "duration": 43,
    "start_time": "2022-01-30T09:20:54.407Z"
   },
   {
    "duration": 16,
    "start_time": "2022-01-30T09:21:41.347Z"
   },
   {
    "duration": 33,
    "start_time": "2022-01-30T09:21:53.987Z"
   },
   {
    "duration": 14,
    "start_time": "2022-01-30T09:21:58.320Z"
   },
   {
    "duration": 20,
    "start_time": "2022-01-30T09:26:40.473Z"
   },
   {
    "duration": 18,
    "start_time": "2022-01-30T09:26:48.510Z"
   },
   {
    "duration": 17,
    "start_time": "2022-01-30T09:27:00.663Z"
   },
   {
    "duration": 18,
    "start_time": "2022-01-30T09:27:01.046Z"
   },
   {
    "duration": 17,
    "start_time": "2022-01-30T09:28:02.978Z"
   },
   {
    "duration": 19,
    "start_time": "2022-01-30T09:28:03.968Z"
   },
   {
    "duration": 21,
    "start_time": "2022-01-30T10:20:45.489Z"
   },
   {
    "duration": 38,
    "start_time": "2022-01-30T10:20:53.610Z"
   },
   {
    "duration": 569,
    "start_time": "2022-01-30T10:24:16.861Z"
   },
   {
    "duration": 435,
    "start_time": "2022-01-30T10:24:30.694Z"
   },
   {
    "duration": 67,
    "start_time": "2022-01-30T10:24:49.885Z"
   },
   {
    "duration": 48,
    "start_time": "2022-01-30T10:32:28.711Z"
   },
   {
    "duration": 418,
    "start_time": "2022-01-30T10:33:19.499Z"
   },
   {
    "duration": 382,
    "start_time": "2022-01-30T10:33:24.092Z"
   },
   {
    "duration": 349,
    "start_time": "2022-01-30T10:33:27.122Z"
   },
   {
    "duration": 41,
    "start_time": "2022-01-30T10:33:37.729Z"
   },
   {
    "duration": 18,
    "start_time": "2022-01-30T10:34:06.244Z"
   },
   {
    "duration": 42,
    "start_time": "2022-01-30T10:34:11.959Z"
   },
   {
    "duration": 42,
    "start_time": "2022-01-30T10:34:41.571Z"
   },
   {
    "duration": 173,
    "start_time": "2022-01-30T10:35:44.899Z"
   },
   {
    "duration": 49,
    "start_time": "2022-01-30T10:35:51.816Z"
   },
   {
    "duration": 56,
    "start_time": "2022-01-30T10:36:05.758Z"
   },
   {
    "duration": 374,
    "start_time": "2022-01-30T10:36:09.611Z"
   },
   {
    "duration": 51,
    "start_time": "2022-01-30T10:36:14.478Z"
   },
   {
    "duration": 203,
    "start_time": "2022-01-30T10:36:18.821Z"
   },
   {
    "duration": 46,
    "start_time": "2022-01-30T10:36:22.924Z"
   },
   {
    "duration": 41,
    "start_time": "2022-01-30T10:36:34.723Z"
   },
   {
    "duration": 12,
    "start_time": "2022-01-30T10:37:55.281Z"
   },
   {
    "duration": 9,
    "start_time": "2022-01-30T10:45:23.954Z"
   },
   {
    "duration": 4,
    "start_time": "2022-01-30T14:04:58.300Z"
   },
   {
    "duration": 11,
    "start_time": "2022-01-30T14:04:58.307Z"
   },
   {
    "duration": 149,
    "start_time": "2022-01-30T14:04:58.321Z"
   },
   {
    "duration": 6,
    "start_time": "2022-01-30T14:04:58.473Z"
   },
   {
    "duration": 27,
    "start_time": "2022-01-30T14:04:58.482Z"
   },
   {
    "duration": 56,
    "start_time": "2022-01-30T14:04:58.512Z"
   },
   {
    "duration": 8,
    "start_time": "2022-01-30T14:04:58.573Z"
   },
   {
    "duration": 97,
    "start_time": "2022-01-30T14:04:58.585Z"
   },
   {
    "duration": 4,
    "start_time": "2022-01-30T14:04:58.685Z"
   },
   {
    "duration": 134,
    "start_time": "2022-01-30T14:04:58.692Z"
   },
   {
    "duration": 4,
    "start_time": "2022-01-30T14:04:58.828Z"
   },
   {
    "duration": 84,
    "start_time": "2022-01-30T14:04:58.834Z"
   },
   {
    "duration": 4,
    "start_time": "2022-01-30T14:04:58.920Z"
   },
   {
    "duration": 38,
    "start_time": "2022-01-30T14:04:58.926Z"
   },
   {
    "duration": 5,
    "start_time": "2022-01-30T14:04:58.966Z"
   },
   {
    "duration": 26,
    "start_time": "2022-01-30T14:04:58.973Z"
   },
   {
    "duration": 18,
    "start_time": "2022-01-30T14:04:59.002Z"
   },
   {
    "duration": 44,
    "start_time": "2022-01-30T14:04:59.023Z"
   },
   {
    "duration": 37,
    "start_time": "2022-01-30T14:04:59.073Z"
   },
   {
    "duration": 91,
    "start_time": "2022-01-30T14:04:59.112Z"
   },
   {
    "duration": 10,
    "start_time": "2022-01-30T14:04:59.206Z"
   },
   {
    "duration": 119,
    "start_time": "2022-01-30T14:53:21.411Z"
   },
   {
    "duration": 49,
    "start_time": "2022-01-30T14:53:48.146Z"
   },
   {
    "duration": 58,
    "start_time": "2022-01-30T14:54:00.642Z"
   },
   {
    "duration": 15,
    "start_time": "2022-01-30T14:54:16.142Z"
   },
   {
    "duration": 50,
    "start_time": "2022-01-30T14:54:19.335Z"
   },
   {
    "duration": 8,
    "start_time": "2022-01-30T14:54:30.292Z"
   },
   {
    "duration": 17,
    "start_time": "2022-01-30T14:58:43.563Z"
   },
   {
    "duration": 53,
    "start_time": "2022-01-30T14:58:44.681Z"
   },
   {
    "duration": 8,
    "start_time": "2022-01-30T14:58:47.332Z"
   },
   {
    "duration": 24492,
    "start_time": "2022-02-06T10:57:00.534Z"
   },
   {
    "duration": 7,
    "start_time": "2022-02-06T10:57:33.577Z"
   },
   {
    "duration": 406,
    "start_time": "2022-02-06T10:58:30.320Z"
   },
   {
    "duration": 120,
    "start_time": "2022-02-06T10:58:36.839Z"
   },
   {
    "duration": 6,
    "start_time": "2022-02-06T10:58:42.909Z"
   },
   {
    "duration": 19,
    "start_time": "2022-02-06T10:58:43.674Z"
   },
   {
    "duration": 29,
    "start_time": "2022-02-06T10:58:44.280Z"
   },
   {
    "duration": 9,
    "start_time": "2022-02-06T10:58:54.244Z"
   },
   {
    "duration": 80,
    "start_time": "2022-02-06T10:59:49.964Z"
   },
   {
    "duration": 5,
    "start_time": "2022-02-06T10:59:55.197Z"
   },
   {
    "duration": 2516,
    "start_time": "2022-02-06T10:59:56.454Z"
   },
   {
    "duration": 111,
    "start_time": "2022-02-06T11:00:14.459Z"
   },
   {
    "duration": 4,
    "start_time": "2022-02-06T11:00:19.508Z"
   },
   {
    "duration": 84,
    "start_time": "2022-02-06T11:00:34.625Z"
   },
   {
    "duration": 4,
    "start_time": "2022-02-06T11:00:38.701Z"
   },
   {
    "duration": 7,
    "start_time": "2022-02-06T11:01:28.805Z"
   },
   {
    "duration": 6,
    "start_time": "2022-02-06T11:01:29.357Z"
   },
   {
    "duration": 18,
    "start_time": "2022-02-06T11:01:31.214Z"
   },
   {
    "duration": 16,
    "start_time": "2022-02-06T11:01:31.664Z"
   },
   {
    "duration": 18,
    "start_time": "2022-02-06T11:01:31.826Z"
   },
   {
    "duration": 38,
    "start_time": "2022-02-06T11:01:49.062Z"
   },
   {
    "duration": 61,
    "start_time": "2022-02-06T11:01:53.535Z"
   },
   {
    "duration": 16,
    "start_time": "2022-02-06T11:02:02.185Z"
   },
   {
    "duration": 15,
    "start_time": "2022-02-06T11:02:16.554Z"
   },
   {
    "duration": 9,
    "start_time": "2022-02-06T11:02:20.312Z"
   },
   {
    "duration": 8,
    "start_time": "2022-02-06T11:02:53.969Z"
   },
   {
    "duration": 10,
    "start_time": "2022-02-06T11:02:55.072Z"
   },
   {
    "duration": 33,
    "start_time": "2022-02-06T11:03:02.336Z"
   },
   {
    "duration": 63,
    "start_time": "2022-02-06T11:03:04.883Z"
   },
   {
    "duration": 20,
    "start_time": "2022-02-06T11:03:59.097Z"
   },
   {
    "duration": 18,
    "start_time": "2022-02-06T11:04:05.920Z"
   },
   {
    "duration": 25,
    "start_time": "2022-02-06T11:04:06.414Z"
   },
   {
    "duration": 9,
    "start_time": "2022-02-06T11:05:03.866Z"
   },
   {
    "duration": 230,
    "start_time": "2022-02-06T11:18:38.816Z"
   },
   {
    "duration": 195,
    "start_time": "2022-02-06T11:19:16.994Z"
   },
   {
    "duration": 174,
    "start_time": "2022-02-06T11:19:22.260Z"
   },
   {
    "duration": 2,
    "start_time": "2022-02-06T11:23:34.885Z"
   },
   {
    "duration": 104336,
    "start_time": "2022-02-06T11:23:34.889Z"
   },
   {
    "duration": 1217,
    "start_time": "2022-02-06T11:25:19.228Z"
   },
   {
    "duration": 5,
    "start_time": "2022-02-06T11:25:20.447Z"
   },
   {
    "duration": 82,
    "start_time": "2022-02-06T11:25:20.453Z"
   },
   {
    "duration": 4,
    "start_time": "2022-02-06T11:25:20.536Z"
   },
   {
    "duration": 13,
    "start_time": "2022-02-06T11:25:20.542Z"
   },
   {
    "duration": 17,
    "start_time": "2022-02-06T11:25:20.557Z"
   },
   {
    "duration": 6,
    "start_time": "2022-02-06T11:25:20.575Z"
   },
   {
    "duration": 47,
    "start_time": "2022-02-06T11:25:20.613Z"
   },
   {
    "duration": 2,
    "start_time": "2022-02-06T11:25:20.662Z"
   },
   {
    "duration": 83,
    "start_time": "2022-02-06T11:25:20.666Z"
   },
   {
    "duration": 3,
    "start_time": "2022-02-06T11:25:20.750Z"
   },
   {
    "duration": 62,
    "start_time": "2022-02-06T11:25:20.755Z"
   },
   {
    "duration": 3,
    "start_time": "2022-02-06T11:25:20.818Z"
   },
   {
    "duration": 7,
    "start_time": "2022-02-06T11:25:20.823Z"
   },
   {
    "duration": 5,
    "start_time": "2022-02-06T11:25:20.831Z"
   },
   {
    "duration": 12,
    "start_time": "2022-02-06T11:25:20.838Z"
   },
   {
    "duration": 10,
    "start_time": "2022-02-06T11:25:20.853Z"
   },
   {
    "duration": 47,
    "start_time": "2022-02-06T11:25:20.865Z"
   },
   {
    "duration": 25,
    "start_time": "2022-02-06T11:25:20.914Z"
   },
   {
    "duration": 43,
    "start_time": "2022-02-06T11:25:20.941Z"
   },
   {
    "duration": 37,
    "start_time": "2022-02-06T11:25:20.985Z"
   },
   {
    "duration": 35,
    "start_time": "2022-02-06T11:25:21.023Z"
   },
   {
    "duration": 10,
    "start_time": "2022-02-06T11:25:21.060Z"
   },
   {
    "duration": 5,
    "start_time": "2022-02-06T11:25:21.072Z"
   },
   {
    "duration": 35,
    "start_time": "2022-02-06T11:25:21.079Z"
   },
   {
    "duration": 10,
    "start_time": "2022-02-06T11:25:21.115Z"
   },
   {
    "duration": 23,
    "start_time": "2022-02-06T11:25:21.127Z"
   },
   {
    "duration": 62,
    "start_time": "2022-02-06T11:25:21.151Z"
   },
   {
    "duration": 17,
    "start_time": "2022-02-06T11:25:21.216Z"
   },
   {
    "duration": 13,
    "start_time": "2022-02-06T11:25:21.234Z"
   },
   {
    "duration": 17,
    "start_time": "2022-02-06T11:25:21.249Z"
   },
   {
    "duration": 49,
    "start_time": "2022-02-06T11:25:21.268Z"
   },
   {
    "duration": 11,
    "start_time": "2022-02-06T11:25:21.319Z"
   },
   {
    "duration": 24,
    "start_time": "2022-02-06T11:25:21.332Z"
   },
   {
    "duration": 4,
    "start_time": "2022-02-06T11:25:21.358Z"
   },
   {
    "duration": 4,
    "start_time": "2022-02-06T11:25:21.364Z"
   },
   {
    "duration": 289,
    "start_time": "2022-02-06T11:25:21.369Z"
   },
   {
    "duration": 216,
    "start_time": "2022-02-06T11:25:21.660Z"
   },
   {
    "duration": -69,
    "start_time": "2022-02-06T11:25:21.947Z"
   },
   {
    "duration": -72,
    "start_time": "2022-02-06T11:25:21.951Z"
   },
   {
    "duration": -75,
    "start_time": "2022-02-06T11:25:21.955Z"
   },
   {
    "duration": -78,
    "start_time": "2022-02-06T11:25:21.959Z"
   },
   {
    "duration": -81,
    "start_time": "2022-02-06T11:25:21.963Z"
   },
   {
    "duration": -83,
    "start_time": "2022-02-06T11:25:21.966Z"
   },
   {
    "duration": -87,
    "start_time": "2022-02-06T11:25:21.971Z"
   },
   {
    "duration": -89,
    "start_time": "2022-02-06T11:25:21.974Z"
   },
   {
    "duration": -92,
    "start_time": "2022-02-06T11:25:21.978Z"
   },
   {
    "duration": -94,
    "start_time": "2022-02-06T11:25:21.981Z"
   },
   {
    "duration": -96,
    "start_time": "2022-02-06T11:25:21.984Z"
   },
   {
    "duration": -99,
    "start_time": "2022-02-06T11:25:21.988Z"
   },
   {
    "duration": -111,
    "start_time": "2022-02-06T11:25:22.001Z"
   },
   {
    "duration": -113,
    "start_time": "2022-02-06T11:25:22.004Z"
   },
   {
    "duration": -117,
    "start_time": "2022-02-06T11:25:22.009Z"
   },
   {
    "duration": -119,
    "start_time": "2022-02-06T11:25:22.012Z"
   },
   {
    "duration": 34,
    "start_time": "2022-02-06T11:27:08.920Z"
   },
   {
    "duration": 23,
    "start_time": "2022-02-06T11:27:11.029Z"
   },
   {
    "duration": 35,
    "start_time": "2022-02-06T11:27:28.863Z"
   },
   {
    "duration": 23,
    "start_time": "2022-02-06T11:27:29.067Z"
   },
   {
    "duration": 236,
    "start_time": "2022-02-06T11:27:55.321Z"
   },
   {
    "duration": 273,
    "start_time": "2022-02-06T11:27:58.526Z"
   },
   {
    "duration": 34,
    "start_time": "2022-02-06T11:28:57.788Z"
   },
   {
    "duration": 21,
    "start_time": "2022-02-06T11:28:58.988Z"
   },
   {
    "duration": 2,
    "start_time": "2022-02-06T11:29:06.157Z"
   },
   {
    "duration": 21483,
    "start_time": "2022-02-06T11:29:06.161Z"
   },
   {
    "duration": 6,
    "start_time": "2022-02-06T11:29:27.646Z"
   },
   {
    "duration": 5,
    "start_time": "2022-02-06T11:29:27.654Z"
   },
   {
    "duration": 86,
    "start_time": "2022-02-06T11:29:27.661Z"
   },
   {
    "duration": 4,
    "start_time": "2022-02-06T11:29:27.748Z"
   },
   {
    "duration": 12,
    "start_time": "2022-02-06T11:29:27.754Z"
   },
   {
    "duration": 46,
    "start_time": "2022-02-06T11:29:27.768Z"
   },
   {
    "duration": 6,
    "start_time": "2022-02-06T11:29:27.816Z"
   },
   {
    "duration": 53,
    "start_time": "2022-02-06T11:29:27.823Z"
   },
   {
    "duration": 3,
    "start_time": "2022-02-06T11:29:27.878Z"
   },
   {
    "duration": 88,
    "start_time": "2022-02-06T11:29:27.883Z"
   },
   {
    "duration": 2,
    "start_time": "2022-02-06T11:29:27.973Z"
   },
   {
    "duration": 66,
    "start_time": "2022-02-06T11:29:27.977Z"
   },
   {
    "duration": 2,
    "start_time": "2022-02-06T11:29:28.045Z"
   },
   {
    "duration": 7,
    "start_time": "2022-02-06T11:29:28.049Z"
   },
   {
    "duration": 5,
    "start_time": "2022-02-06T11:29:28.058Z"
   },
   {
    "duration": 48,
    "start_time": "2022-02-06T11:29:28.064Z"
   },
   {
    "duration": 12,
    "start_time": "2022-02-06T11:29:28.116Z"
   },
   {
    "duration": 12,
    "start_time": "2022-02-06T11:29:28.130Z"
   },
   {
    "duration": 24,
    "start_time": "2022-02-06T11:29:28.144Z"
   },
   {
    "duration": 67,
    "start_time": "2022-02-06T11:29:28.170Z"
   },
   {
    "duration": 11,
    "start_time": "2022-02-06T11:29:28.239Z"
   },
   {
    "duration": 34,
    "start_time": "2022-02-06T11:29:28.252Z"
   },
   {
    "duration": 32,
    "start_time": "2022-02-06T11:29:28.288Z"
   },
   {
    "duration": 5,
    "start_time": "2022-02-06T11:29:28.322Z"
   },
   {
    "duration": 6,
    "start_time": "2022-02-06T11:29:28.329Z"
   },
   {
    "duration": 12,
    "start_time": "2022-02-06T11:29:28.336Z"
   },
   {
    "duration": 21,
    "start_time": "2022-02-06T11:29:28.350Z"
   },
   {
    "duration": 74,
    "start_time": "2022-02-06T11:29:28.373Z"
   },
   {
    "duration": 15,
    "start_time": "2022-02-06T11:29:28.449Z"
   },
   {
    "duration": 11,
    "start_time": "2022-02-06T11:29:28.465Z"
   },
   {
    "duration": 42,
    "start_time": "2022-02-06T11:29:28.478Z"
   },
   {
    "duration": 8,
    "start_time": "2022-02-06T11:29:28.521Z"
   },
   {
    "duration": 8,
    "start_time": "2022-02-06T11:29:28.530Z"
   },
   {
    "duration": 23,
    "start_time": "2022-02-06T11:29:28.539Z"
   },
   {
    "duration": 3,
    "start_time": "2022-02-06T11:29:28.563Z"
   },
   {
    "duration": 6,
    "start_time": "2022-02-06T11:29:28.568Z"
   },
   {
    "duration": 59191,
    "start_time": "2022-02-06T11:29:28.575Z"
   },
   {
    "duration": 300645,
    "start_time": "2022-02-06T11:30:27.768Z"
   },
   {
    "duration": -186,
    "start_time": "2022-02-06T11:35:28.601Z"
   },
   {
    "duration": -189,
    "start_time": "2022-02-06T11:35:28.605Z"
   },
   {
    "duration": -191,
    "start_time": "2022-02-06T11:35:28.608Z"
   },
   {
    "duration": -192,
    "start_time": "2022-02-06T11:35:28.611Z"
   },
   {
    "duration": -195,
    "start_time": "2022-02-06T11:35:28.615Z"
   },
   {
    "duration": -198,
    "start_time": "2022-02-06T11:35:28.619Z"
   },
   {
    "duration": -201,
    "start_time": "2022-02-06T11:35:28.623Z"
   },
   {
    "duration": -203,
    "start_time": "2022-02-06T11:35:28.626Z"
   },
   {
    "duration": -206,
    "start_time": "2022-02-06T11:35:28.630Z"
   },
   {
    "duration": -209,
    "start_time": "2022-02-06T11:35:28.634Z"
   },
   {
    "duration": -212,
    "start_time": "2022-02-06T11:35:28.638Z"
   },
   {
    "duration": -214,
    "start_time": "2022-02-06T11:35:28.641Z"
   },
   {
    "duration": -217,
    "start_time": "2022-02-06T11:35:28.645Z"
   },
   {
    "duration": -220,
    "start_time": "2022-02-06T11:35:28.649Z"
   },
   {
    "duration": -224,
    "start_time": "2022-02-06T11:35:28.653Z"
   },
   {
    "duration": -226,
    "start_time": "2022-02-06T11:35:28.656Z"
   },
   {
    "duration": -233,
    "start_time": "2022-02-06T11:35:28.664Z"
   },
   {
    "duration": 1710,
    "start_time": "2022-02-06T11:35:46.230Z"
   },
   {
    "duration": 84350,
    "start_time": "2022-02-06T11:36:49.169Z"
   },
   {
    "duration": 189,
    "start_time": "2022-02-06T11:39:15.647Z"
   },
   {
    "duration": 38,
    "start_time": "2022-02-06T11:39:22.599Z"
   },
   {
    "duration": 12,
    "start_time": "2022-02-06T11:40:06.294Z"
   },
   {
    "duration": 186,
    "start_time": "2022-02-06T11:40:43.026Z"
   },
   {
    "duration": 10,
    "start_time": "2022-02-06T11:40:50.122Z"
   },
   {
    "duration": 33,
    "start_time": "2022-02-06T11:41:43.266Z"
   },
   {
    "duration": 34,
    "start_time": "2022-02-06T11:42:04.385Z"
   },
   {
    "duration": 33,
    "start_time": "2022-02-06T11:42:39.006Z"
   },
   {
    "duration": 186,
    "start_time": "2022-02-06T11:43:17.925Z"
   },
   {
    "duration": 2,
    "start_time": "2022-02-06T11:45:24.957Z"
   },
   {
    "duration": 7184,
    "start_time": "2022-02-06T11:45:24.961Z"
   },
   {
    "duration": 6,
    "start_time": "2022-02-06T11:45:32.148Z"
   },
   {
    "duration": 8,
    "start_time": "2022-02-06T11:45:32.156Z"
   },
   {
    "duration": 81,
    "start_time": "2022-02-06T11:45:32.165Z"
   },
   {
    "duration": 4,
    "start_time": "2022-02-06T11:45:32.247Z"
   },
   {
    "duration": 13,
    "start_time": "2022-02-06T11:45:32.253Z"
   },
   {
    "duration": 46,
    "start_time": "2022-02-06T11:45:32.267Z"
   },
   {
    "duration": 6,
    "start_time": "2022-02-06T11:45:32.315Z"
   },
   {
    "duration": 50,
    "start_time": "2022-02-06T11:45:32.322Z"
   },
   {
    "duration": 3,
    "start_time": "2022-02-06T11:45:32.373Z"
   },
   {
    "duration": 85,
    "start_time": "2022-02-06T11:45:32.377Z"
   },
   {
    "duration": 3,
    "start_time": "2022-02-06T11:45:32.464Z"
   },
   {
    "duration": 63,
    "start_time": "2022-02-06T11:45:32.469Z"
   },
   {
    "duration": 2,
    "start_time": "2022-02-06T11:45:32.534Z"
   },
   {
    "duration": 7,
    "start_time": "2022-02-06T11:45:32.538Z"
   },
   {
    "duration": 5,
    "start_time": "2022-02-06T11:45:32.546Z"
   },
   {
    "duration": 12,
    "start_time": "2022-02-06T11:45:32.552Z"
   },
   {
    "duration": 45,
    "start_time": "2022-02-06T11:45:32.567Z"
   },
   {
    "duration": 17,
    "start_time": "2022-02-06T11:45:32.614Z"
   },
   {
    "duration": 23,
    "start_time": "2022-02-06T11:45:32.633Z"
   },
   {
    "duration": 62,
    "start_time": "2022-02-06T11:45:32.657Z"
   },
   {
    "duration": 10,
    "start_time": "2022-02-06T11:45:32.721Z"
   },
   {
    "duration": 34,
    "start_time": "2022-02-06T11:45:32.733Z"
   },
   {
    "duration": 11,
    "start_time": "2022-02-06T11:45:32.769Z"
   },
   {
    "duration": 32,
    "start_time": "2022-02-06T11:45:32.781Z"
   },
   {
    "duration": 7,
    "start_time": "2022-02-06T11:45:32.814Z"
   },
   {
    "duration": 11,
    "start_time": "2022-02-06T11:45:32.822Z"
   },
   {
    "duration": 20,
    "start_time": "2022-02-06T11:45:32.835Z"
   },
   {
    "duration": 64,
    "start_time": "2022-02-06T11:45:32.856Z"
   },
   {
    "duration": 36,
    "start_time": "2022-02-06T11:45:32.922Z"
   },
   {
    "duration": 33,
    "start_time": "2022-02-06T11:45:32.959Z"
   },
   {
    "duration": 30,
    "start_time": "2022-02-06T11:45:32.993Z"
   },
   {
    "duration": 11,
    "start_time": "2022-02-06T11:45:33.025Z"
   },
   {
    "duration": 15,
    "start_time": "2022-02-06T11:45:33.038Z"
   },
   {
    "duration": 6,
    "start_time": "2022-02-06T11:45:33.054Z"
   },
   {
    "duration": 6,
    "start_time": "2022-02-06T11:45:33.062Z"
   },
   {
    "duration": 56,
    "start_time": "2022-02-06T11:45:33.070Z"
   },
   {
    "duration": 3,
    "start_time": "2022-02-06T11:45:33.127Z"
   },
   {
    "duration": 5,
    "start_time": "2022-02-06T11:45:33.132Z"
   },
   {
    "duration": 59836,
    "start_time": "2022-02-06T11:45:33.139Z"
   },
   {
    "duration": 616856,
    "start_time": "2022-02-06T11:46:32.978Z"
   },
   {
    "duration": 3,
    "start_time": "2022-02-06T11:56:49.836Z"
   },
   {
    "duration": 4,
    "start_time": "2022-02-06T11:56:49.841Z"
   },
   {
    "duration": 4804,
    "start_time": "2022-02-06T11:56:49.847Z"
   },
   {
    "duration": 529,
    "start_time": "2022-02-06T11:56:54.653Z"
   },
   {
    "duration": 234,
    "start_time": "2022-02-06T11:56:55.184Z"
   },
   {
    "duration": -172,
    "start_time": "2022-02-06T11:56:55.592Z"
   },
   {
    "duration": -181,
    "start_time": "2022-02-06T11:56:55.602Z"
   },
   {
    "duration": -212,
    "start_time": "2022-02-06T11:56:55.634Z"
   },
   {
    "duration": -228,
    "start_time": "2022-02-06T11:56:55.651Z"
   },
   {
    "duration": -233,
    "start_time": "2022-02-06T11:56:55.657Z"
   },
   {
    "duration": -242,
    "start_time": "2022-02-06T11:56:55.667Z"
   },
   {
    "duration": -245,
    "start_time": "2022-02-06T11:56:55.671Z"
   },
   {
    "duration": -255,
    "start_time": "2022-02-06T11:56:55.682Z"
   },
   {
    "duration": -275,
    "start_time": "2022-02-06T11:56:55.703Z"
   },
   {
    "duration": -278,
    "start_time": "2022-02-06T11:56:55.707Z"
   },
   {
    "duration": -285,
    "start_time": "2022-02-06T11:56:55.715Z"
   },
   {
    "duration": 49899,
    "start_time": "2022-02-06T12:01:58.251Z"
   },
   {
    "duration": 94887,
    "start_time": "2022-02-06T12:10:55.776Z"
   },
   {
    "duration": 579367,
    "start_time": "2022-02-06T12:12:53.352Z"
   },
   {
    "duration": 98,
    "start_time": "2022-02-06T12:22:32.721Z"
   },
   {
    "duration": 12,
    "start_time": "2022-02-06T12:23:14.339Z"
   },
   {
    "duration": 3,
    "start_time": "2022-02-06T12:24:04.737Z"
   },
   {
    "duration": 6730,
    "start_time": "2022-02-06T12:24:11.236Z"
   },
   {
    "duration": 6,
    "start_time": "2022-02-06T12:24:17.969Z"
   },
   {
    "duration": 37,
    "start_time": "2022-02-06T12:24:17.978Z"
   },
   {
    "duration": 18,
    "start_time": "2022-02-06T12:24:18.018Z"
   },
   {
    "duration": 28,
    "start_time": "2022-02-06T12:24:18.038Z"
   },
   {
    "duration": 4,
    "start_time": "2022-02-06T12:24:18.068Z"
   },
   {
    "duration": 293948,
    "start_time": "2022-02-06T12:24:18.073Z"
   },
   {
    "duration": 4,
    "start_time": "2022-02-06T12:29:12.024Z"
   },
   {
    "duration": 5,
    "start_time": "2022-02-06T12:29:12.030Z"
   },
   {
    "duration": 12575,
    "start_time": "2022-02-06T12:29:12.037Z"
   },
   {
    "duration": 112222,
    "start_time": "2022-02-06T12:29:24.614Z"
   },
   {
    "duration": 541,
    "start_time": "2022-02-06T12:34:02.779Z"
   },
   {
    "duration": 35,
    "start_time": "2022-02-06T12:34:49.919Z"
   },
   {
    "duration": 5,
    "start_time": "2022-02-06T12:35:00.065Z"
   },
   {
    "duration": 211,
    "start_time": "2022-02-06T12:35:14.043Z"
   },
   {
    "duration": 2,
    "start_time": "2022-02-06T12:35:42.910Z"
   },
   {
    "duration": 7572,
    "start_time": "2022-02-06T12:35:42.914Z"
   },
   {
    "duration": 6,
    "start_time": "2022-02-06T12:35:50.489Z"
   },
   {
    "duration": 8,
    "start_time": "2022-02-06T12:35:50.497Z"
   },
   {
    "duration": 80,
    "start_time": "2022-02-06T12:35:50.507Z"
   },
   {
    "duration": 5,
    "start_time": "2022-02-06T12:35:50.588Z"
   },
   {
    "duration": 23,
    "start_time": "2022-02-06T12:35:50.595Z"
   },
   {
    "duration": 18,
    "start_time": "2022-02-06T12:35:50.620Z"
   },
   {
    "duration": 6,
    "start_time": "2022-02-06T12:35:50.639Z"
   },
   {
    "duration": 70,
    "start_time": "2022-02-06T12:35:50.646Z"
   },
   {
    "duration": 2,
    "start_time": "2022-02-06T12:35:50.718Z"
   },
   {
    "duration": 79,
    "start_time": "2022-02-06T12:35:50.721Z"
   },
   {
    "duration": 11,
    "start_time": "2022-02-06T12:35:50.801Z"
   },
   {
    "duration": 56,
    "start_time": "2022-02-06T12:35:50.814Z"
   },
   {
    "duration": 4,
    "start_time": "2022-02-06T12:35:50.872Z"
   },
   {
    "duration": 8,
    "start_time": "2022-02-06T12:35:50.877Z"
   },
   {
    "duration": 13,
    "start_time": "2022-02-06T12:35:50.887Z"
   },
   {
    "duration": 23,
    "start_time": "2022-02-06T12:35:50.901Z"
   },
   {
    "duration": 12,
    "start_time": "2022-02-06T12:35:50.929Z"
   },
   {
    "duration": 12,
    "start_time": "2022-02-06T12:35:50.944Z"
   },
   {
    "duration": 23,
    "start_time": "2022-02-06T12:35:50.957Z"
   },
   {
    "duration": 63,
    "start_time": "2022-02-06T12:35:50.982Z"
   },
   {
    "duration": 11,
    "start_time": "2022-02-06T12:35:51.046Z"
   },
   {
    "duration": 36,
    "start_time": "2022-02-06T12:35:51.059Z"
   },
   {
    "duration": 12,
    "start_time": "2022-02-06T12:35:51.112Z"
   },
   {
    "duration": 6,
    "start_time": "2022-02-06T12:35:51.125Z"
   },
   {
    "duration": 6,
    "start_time": "2022-02-06T12:35:51.132Z"
   },
   {
    "duration": 13,
    "start_time": "2022-02-06T12:35:51.139Z"
   },
   {
    "duration": 22,
    "start_time": "2022-02-06T12:35:51.153Z"
   },
   {
    "duration": 41,
    "start_time": "2022-02-06T12:35:51.177Z"
   },
   {
    "duration": 9,
    "start_time": "2022-02-06T12:35:51.220Z"
   },
   {
    "duration": 4,
    "start_time": "2022-02-06T12:35:51.231Z"
   },
   {
    "duration": 26,
    "start_time": "2022-02-06T12:35:51.236Z"
   },
   {
    "duration": 66,
    "start_time": "2022-02-06T12:35:51.263Z"
   },
   {
    "duration": 14,
    "start_time": "2022-02-06T12:35:51.331Z"
   },
   {
    "duration": 205,
    "start_time": "2022-02-06T12:35:51.347Z"
   },
   {
    "duration": -134,
    "start_time": "2022-02-06T12:35:51.688Z"
   },
   {
    "duration": -144,
    "start_time": "2022-02-06T12:35:51.699Z"
   },
   {
    "duration": -146,
    "start_time": "2022-02-06T12:35:51.702Z"
   },
   {
    "duration": -148,
    "start_time": "2022-02-06T12:35:51.706Z"
   },
   {
    "duration": -152,
    "start_time": "2022-02-06T12:35:51.710Z"
   },
   {
    "duration": -154,
    "start_time": "2022-02-06T12:35:51.714Z"
   },
   {
    "duration": -157,
    "start_time": "2022-02-06T12:35:51.717Z"
   },
   {
    "duration": -159,
    "start_time": "2022-02-06T12:35:51.720Z"
   },
   {
    "duration": -161,
    "start_time": "2022-02-06T12:35:51.723Z"
   },
   {
    "duration": -163,
    "start_time": "2022-02-06T12:35:51.726Z"
   },
   {
    "duration": -165,
    "start_time": "2022-02-06T12:35:51.729Z"
   },
   {
    "duration": -167,
    "start_time": "2022-02-06T12:35:51.732Z"
   },
   {
    "duration": -168,
    "start_time": "2022-02-06T12:35:51.734Z"
   },
   {
    "duration": -170,
    "start_time": "2022-02-06T12:35:51.737Z"
   },
   {
    "duration": -174,
    "start_time": "2022-02-06T12:35:51.741Z"
   },
   {
    "duration": -175,
    "start_time": "2022-02-06T12:35:51.743Z"
   },
   {
    "duration": -177,
    "start_time": "2022-02-06T12:35:51.746Z"
   },
   {
    "duration": -179,
    "start_time": "2022-02-06T12:35:51.749Z"
   },
   {
    "duration": -181,
    "start_time": "2022-02-06T12:35:51.752Z"
   },
   {
    "duration": -182,
    "start_time": "2022-02-06T12:35:51.754Z"
   },
   {
    "duration": -185,
    "start_time": "2022-02-06T12:35:51.757Z"
   },
   {
    "duration": -187,
    "start_time": "2022-02-06T12:35:51.760Z"
   },
   {
    "duration": -189,
    "start_time": "2022-02-06T12:35:51.763Z"
   },
   {
    "duration": -191,
    "start_time": "2022-02-06T12:35:51.766Z"
   },
   {
    "duration": 211,
    "start_time": "2022-02-06T12:43:00.045Z"
   },
   {
    "duration": -51,
    "start_time": "2022-02-06T12:43:00.310Z"
   },
   {
    "duration": -56,
    "start_time": "2022-02-06T12:43:00.316Z"
   },
   {
    "duration": -62,
    "start_time": "2022-02-06T12:43:00.323Z"
   },
   {
    "duration": -65,
    "start_time": "2022-02-06T12:43:00.327Z"
   },
   {
    "duration": -69,
    "start_time": "2022-02-06T12:43:00.332Z"
   },
   {
    "duration": -72,
    "start_time": "2022-02-06T12:43:00.336Z"
   },
   {
    "duration": -75,
    "start_time": "2022-02-06T12:43:00.340Z"
   },
   {
    "duration": -76,
    "start_time": "2022-02-06T12:43:00.343Z"
   },
   {
    "duration": -79,
    "start_time": "2022-02-06T12:43:00.347Z"
   },
   {
    "duration": -82,
    "start_time": "2022-02-06T12:43:00.351Z"
   },
   {
    "duration": -84,
    "start_time": "2022-02-06T12:43:00.354Z"
   },
   {
    "duration": -87,
    "start_time": "2022-02-06T12:43:00.358Z"
   },
   {
    "duration": -90,
    "start_time": "2022-02-06T12:43:00.362Z"
   },
   {
    "duration": -93,
    "start_time": "2022-02-06T12:43:00.366Z"
   },
   {
    "duration": -96,
    "start_time": "2022-02-06T12:43:00.370Z"
   },
   {
    "duration": -105,
    "start_time": "2022-02-06T12:43:00.380Z"
   },
   {
    "duration": -109,
    "start_time": "2022-02-06T12:43:00.385Z"
   },
   {
    "duration": -112,
    "start_time": "2022-02-06T12:43:00.389Z"
   },
   {
    "duration": -117,
    "start_time": "2022-02-06T12:43:00.394Z"
   },
   {
    "duration": -122,
    "start_time": "2022-02-06T12:43:00.401Z"
   },
   {
    "duration": -137,
    "start_time": "2022-02-06T12:43:00.417Z"
   },
   {
    "duration": -139,
    "start_time": "2022-02-06T12:43:00.420Z"
   },
   {
    "duration": -142,
    "start_time": "2022-02-06T12:43:00.424Z"
   },
   {
    "duration": -144,
    "start_time": "2022-02-06T12:43:00.427Z"
   },
   {
    "duration": 12,
    "start_time": "2022-02-06T12:43:30.761Z"
   },
   {
    "duration": 16,
    "start_time": "2022-02-06T12:43:34.329Z"
   },
   {
    "duration": 6,
    "start_time": "2022-02-06T12:43:34.347Z"
   },
   {
    "duration": 5,
    "start_time": "2022-02-06T12:43:34.355Z"
   },
   {
    "duration": 24,
    "start_time": "2022-02-06T12:43:34.362Z"
   },
   {
    "duration": 3,
    "start_time": "2022-02-06T12:43:34.388Z"
   },
   {
    "duration": 2,
    "start_time": "2022-02-06T12:43:34.412Z"
   },
   {
    "duration": 49701,
    "start_time": "2022-02-06T12:43:34.416Z"
   },
   {
    "duration": 474074,
    "start_time": "2022-02-06T12:44:24.120Z"
   },
   {
    "duration": 4,
    "start_time": "2022-02-06T12:52:18.196Z"
   },
   {
    "duration": 2,
    "start_time": "2022-02-06T12:52:18.212Z"
   },
   {
    "duration": 6742,
    "start_time": "2022-02-06T12:52:18.216Z"
   },
   {
    "duration": 558,
    "start_time": "2022-02-06T12:52:24.960Z"
   },
   {
    "duration": 188399,
    "start_time": "2022-02-06T12:52:25.520Z"
   },
   {
    "duration": 1039,
    "start_time": "2022-02-06T12:55:33.922Z"
   },
   {
    "duration": 5,
    "start_time": "2022-02-06T12:55:34.963Z"
   },
   {
    "duration": 16,
    "start_time": "2022-02-06T12:55:34.970Z"
   },
   {
    "duration": 29,
    "start_time": "2022-02-06T12:55:34.988Z"
   },
   {
    "duration": 25,
    "start_time": "2022-02-06T12:55:35.019Z"
   },
   {
    "duration": 3,
    "start_time": "2022-02-06T12:55:35.046Z"
   },
   {
    "duration": 284100,
    "start_time": "2022-02-06T12:55:35.050Z"
   },
   {
    "duration": 3,
    "start_time": "2022-02-06T13:00:19.151Z"
   },
   {
    "duration": 3,
    "start_time": "2022-02-06T13:00:19.156Z"
   },
   {
    "duration": 11436,
    "start_time": "2022-02-06T13:00:19.162Z"
   },
   {
    "duration": 57750,
    "start_time": "2022-02-06T13:00:30.600Z"
   },
   {
    "duration": 75,
    "start_time": "2022-02-06T13:05:20.960Z"
   },
   {
    "duration": 80,
    "start_time": "2022-02-06T13:05:32.839Z"
   }
  ],
  "colab": {
   "collapsed_sections": [],
   "name": "final_sprint.ipynb",
   "provenance": [],
   "toc_visible": true
  },
  "kernelspec": {
   "display_name": "Python 3 (ipykernel)",
   "language": "python",
   "name": "python3"
  },
  "language_info": {
   "codemirror_mode": {
    "name": "ipython",
    "version": 3
   },
   "file_extension": ".py",
   "mimetype": "text/x-python",
   "name": "python",
   "nbconvert_exporter": "python",
   "pygments_lexer": "ipython3",
   "version": "3.9.5"
  },
  "toc": {
   "base_numbering": 1,
   "nav_menu": {},
   "number_sections": true,
   "sideBar": true,
   "skip_h1_title": true,
   "title_cell": "Table of Contents",
   "title_sidebar": "Contents",
   "toc_cell": false,
   "toc_position": {
    "height": "calc(100% - 180px)",
    "left": "10px",
    "top": "150px",
    "width": "227.188px"
   },
   "toc_section_display": true,
   "toc_window_display": true
  }
 },
 "nbformat": 4,
 "nbformat_minor": 1
}
