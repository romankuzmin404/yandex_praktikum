{
 "cells": [
  {
   "cell_type": "markdown",
   "metadata": {},
   "source": [
    "Привет, меня зовут Артем Хуршудов. Сегодня я проверю твой проект.\n",
    "<br> Дальнейшее общение будет происходить на \"ты\" если это не вызывает никаких проблем.\n",
    "<br> Желательно реагировать на каждый мой комментарий ('исправил', 'не понятно как исправить ошибку', ...)\n",
    "<br> Пожалуйста, не удаляй комментарии ревьюера, так как они повышают качество повторного ревью.\n",
    "\n",
    "Комментарии будут в <font color='green'>зеленой</font>, <font color='blue'>синей</font> или <font color='red'>красной</font> рамках:\n",
    "\n",
    "<div class=\"alert alert-block alert-success\">\n",
    "<b>Успех:</b> Если все сделано отлично\n",
    "</div>\n",
    "\n",
    "<div class=\"alert alert-block alert-info\">\n",
    "<b>Совет: </b> Если можно немного улучшить\n",
    "</div>\n",
    "\n",
    "<div class=\"alert alert-block alert-danger\">\n",
    "<b>Ошибка:</b> Если требуются исправления. Работа не может быть принята с красными комментариями.\n",
    "</div>\n",
    "\n",
    "-------------------\n",
    "\n",
    "Будет очень хорошо, если ты будешь помечать свои действия следующим образом:\n",
    "<div class=\"alert alert-block alert-warning\">\n",
    "<b>Комментарий студента:</b> ...\n",
    "</div>\n",
    "\n",
    "<div class=\"alert alert-block alert-warning\">\n",
    "<b>Изменения:</b> Были внесены следующие изменения ...\n",
    "</div>\n",
    "\n",
    "<font color='green'><b>Полезные (и просто интересные) материалы:</b></font> \\\n",
    "Для работы с текстами используют и другие подходы. Например, сейчас активно используются RNN (LSTM) и трансформеры (BERT и другие с улицы Сезам, например, ELMO). НО! Они не являются панацеей, не всегда они нужны, так как и TF-IDF или Word2Vec + модели из классического ML тоже могут справляться. \\\n",
    "BERT тяжелый, существует много его вариаций для разных задач, есть готовые модели, есть надстройки над библиотекой transformers. Если, обучать BERT на GPU (можно в Google Colab или Kaggle), то должно быть побыстрее.\\\n",
    "https://huggingface.co/transformers/model_doc/bert.html \\\n",
    "https://t.me/renat_alimbekov \\\n",
    "https://colah.github.io/posts/2015-08-Understanding-LSTMs/ - Про LSTM \\\n",
    "https://web.stanford.edu/~jurafsky/slp3/10.pdf - про энкодер-декодер модели, этеншены\\\n",
    "https://pytorch.org/tutorials/beginner/transformer_tutorial.html - официальный гайд\n",
    "по трансформеру от создателей pytorch\\\n",
    "https://transformer.huggingface.co/ - поболтать с трансформером \\\n",
    "Библиотеки: allennlp, fairseq, transformers, tensorflow-text — множествореализованных\n",
    "методов для трансформеров методов NLP \\\n",
    "Word2Vec https://radimrehurek.com/gensim/models/word2vec.html \n",
    "\n",
    "<font color='green'>Пример BERT с GPU:\n",
    "```python\n",
    "%%time\n",
    "from tqdm import notebook\n",
    "batch_size = 2 # для примера возьмем такой батч, где будет всего две строки датасета\n",
    "embeddings = [] \n",
    "for i in notebook.tqdm(range(input_ids.shape[0] // batch_size)):\n",
    "        batch = torch.LongTensor(input_ids[batch_size*i:batch_size*(i+1)]).cuda() # закидываем тензор на GPU\n",
    "        attention_mask_batch = torch.LongTensor(attention_mask[batch_size*i:batch_size*(i+1)]).cuda()\n",
    "        \n",
    "        with torch.no_grad():\n",
    "            model.cuda()\n",
    "            batch_embeddings = model(batch, attention_mask=attention_mask_batch)\n",
    "        \n",
    "        embeddings.append(batch_embeddings[0][:,0,:].cpu().numpy()) # перевод обратно на проц, чтобы в нумпай кинуть\n",
    "        del batch\n",
    "        del attention_mask_batch\n",
    "        del batch_embeddings\n",
    "        \n",
    "features = np.concatenate(embeddings) \n",
    "```\n",
    "Можно сделать предварительную проверку на наличие GPU.\\\n",
    "Например, так: ```device = torch.device(\"cuda:0\") if torch.cuda.is_available() else torch.device(\"cpu\")```\\\n",
    "Тогда вместо .cuda() нужно писать .to(device)\n",
    "\n",
    "Если понравилась работа с текстами, то можешь посмотреть очень интересный (но очень-очень сложный) курс лекций: https://github.com/yandexdataschool/nlp_course .\n",
    "</font>\n",
    "\n",
    "### <font color='orange'>Общее впечатление</font>\n",
    "* Большое спасибо за проделанную работу. Видно, что приложено много усилий.\n",
    "* Радует, что ноутбук хорошо структурирован. Приятно проверять такие работы.\n",
    "* Отлично, что стоп-слова были исключены при векторизации!\n",
    "* Над этим проектом нужно будет еще немного поработать. Однако, изменения не должны занять много времени.\n",
    "* В работе я оставил несколько советов. Буду рад, если ты учтешь их.\n",
    "* С радостью отвечу на твои вопросы, если они есть. Лучше всего их собрать в следующей ячейке. Жду новую версию проекта."
   ]
  },
  {
   "cell_type": "markdown",
   "metadata": {},
   "source": [
    "### <font color='orange'>Общее впечатление (ревью 2)</font>\n",
    "* После исправлений проект улучшился и теперь он может быть зачтен.\n",
    "* Удачи в дальнейшем обучении и следующих работах!"
   ]
  },
  {
   "cell_type": "markdown",
   "metadata": {
    "toc": true
   },
   "source": [
    "<h1>Содержание<span class=\"tocSkip\"></span></h1>\n",
    "<div class=\"toc\"><ul class=\"toc-item\"><li><ul class=\"toc-item\"><li><span><a href=\"#Общее-впечатление\" data-toc-modified-id=\"Общее-впечатление-0.1\"><span class=\"toc-item-num\">0.1&nbsp;&nbsp;</span><font color=\"orange\">Общее впечатление</font></a></span></li><li><span><a href=\"#Общее-впечатление-(ревью-2)\" data-toc-modified-id=\"Общее-впечатление-(ревью-2)-0.2\"><span class=\"toc-item-num\">0.2&nbsp;&nbsp;</span><font color=\"orange\">Общее впечатление (ревью 2)</font></a></span></li></ul></li><li><span><a href=\"#Подготовка\" data-toc-modified-id=\"Подготовка-1\"><span class=\"toc-item-num\">1&nbsp;&nbsp;</span>Подготовка</a></span></li><li><span><a href=\"#Обучение\" data-toc-modified-id=\"Обучение-2\"><span class=\"toc-item-num\">2&nbsp;&nbsp;</span>Обучение</a></span><ul class=\"toc-item\"><li><span><a href=\"#LogisticRegression\" data-toc-modified-id=\"LogisticRegression-2.1\"><span class=\"toc-item-num\">2.1&nbsp;&nbsp;</span>LogisticRegression</a></span></li><li><span><a href=\"#DecisionTreeRegression\" data-toc-modified-id=\"DecisionTreeRegression-2.2\"><span class=\"toc-item-num\">2.2&nbsp;&nbsp;</span>DecisionTreeRegression</a></span></li><li><span><a href=\"#RandomForestClassifier\" data-toc-modified-id=\"RandomForestClassifier-2.3\"><span class=\"toc-item-num\">2.3&nbsp;&nbsp;</span>RandomForestClassifier</a></span></li></ul></li><li><span><a href=\"#Выводы\" data-toc-modified-id=\"Выводы-3\"><span class=\"toc-item-num\">3&nbsp;&nbsp;</span>Выводы</a></span></li><li><span><a href=\"#Чек-лист-проверки\" data-toc-modified-id=\"Чек-лист-проверки-4\"><span class=\"toc-item-num\">4&nbsp;&nbsp;</span>Чек-лист проверки</a></span></li></ul></div>"
   ]
  },
  {
   "cell_type": "markdown",
   "metadata": {},
   "source": [
    "# Проект для «Викишоп»"
   ]
  },
  {
   "cell_type": "markdown",
   "metadata": {},
   "source": [
    "Интернет-магазин «Викишоп» запускает новый сервис. Теперь пользователи могут редактировать и дополнять описания товаров, как в вики-сообществах. То есть клиенты предлагают свои правки и комментируют изменения других. Магазину нужен инструмент, который будет искать токсичные комментарии и отправлять их на модерацию. \n",
    "\n",
    "Обучите модель классифицировать комментарии на позитивные и негативные. В вашем распоряжении набор данных с разметкой о токсичности правок.\n",
    "\n",
    "Постройте модель со значением метрики качества *F1* не меньше 0.75. \n",
    "\n",
    "**Инструкция по выполнению проекта**\n",
    "\n",
    "1. Загрузите и подготовьте данные.\n",
    "2. Обучите разные модели. \n",
    "3. Сделайте выводы.\n",
    "\n",
    "Для выполнения проекта применять *BERT* необязательно, но вы можете попробовать.\n",
    "\n",
    "**Описание данных**\n",
    "\n",
    "Данные находятся в файле `toxic_comments.csv`. Столбец *text* в нём содержит текст комментария, а *toxic* — целевой признак."
   ]
  },
  {
   "cell_type": "markdown",
   "metadata": {},
   "source": [
    "## Подготовка"
   ]
  },
  {
   "cell_type": "code",
   "execution_count": 1,
   "metadata": {},
   "outputs": [
    {
     "name": "stdout",
     "output_type": "stream",
     "text": [
      "Defaulting to user installation because normal site-packages is not writeable\n",
      "Requirement already satisfied: spacy in /opt/conda/lib/python3.7/site-packages (2.3.4)\n",
      "Requirement already satisfied: tqdm<5.0.0,>=4.38.0 in /opt/conda/lib/python3.7/site-packages (from spacy) (4.51.0)\n",
      "Requirement already satisfied: preshed<3.1.0,>=3.0.2 in /opt/conda/lib/python3.7/site-packages (from spacy) (3.0.5)\n",
      "Requirement already satisfied: requests<3.0.0,>=2.13.0 in /opt/conda/lib/python3.7/site-packages (from spacy) (2.22.0)\n",
      "Requirement already satisfied: srsly<1.1.0,>=1.0.2 in /opt/conda/lib/python3.7/site-packages (from spacy) (1.0.5)\n",
      "Requirement already satisfied: catalogue<1.1.0,>=0.0.7 in /opt/conda/lib/python3.7/site-packages (from spacy) (1.0.0)\n",
      "Requirement already satisfied: blis<0.8.0,>=0.4.0; python_version >= \"3.6\" in /opt/conda/lib/python3.7/site-packages (from spacy) (0.7.4)\n",
      "Requirement already satisfied: setuptools in /opt/conda/lib/python3.7/site-packages (from spacy) (49.6.0.post20210108)\n",
      "Requirement already satisfied: murmurhash<1.1.0,>=0.28.0 in /opt/conda/lib/python3.7/site-packages (from spacy) (1.0.5)\n",
      "Requirement already satisfied: plac<1.2.0,>=0.9.6 in /opt/conda/lib/python3.7/site-packages (from spacy) (1.1.3)\n",
      "Requirement already satisfied: thinc<7.5.0,>=7.4.1 in /opt/conda/lib/python3.7/site-packages (from spacy) (7.4.5)\n",
      "Requirement already satisfied: cymem<2.1.0,>=2.0.2 in /opt/conda/lib/python3.7/site-packages (from spacy) (2.0.5)\n",
      "Requirement already satisfied: wasabi<1.1.0,>=0.4.0 in /opt/conda/lib/python3.7/site-packages (from spacy) (0.8.2)\n",
      "Requirement already satisfied: numpy>=1.15.0 in /opt/conda/lib/python3.7/site-packages (from spacy) (1.19.5)\n",
      "Requirement already satisfied: certifi>=2017.4.17 in /opt/conda/lib/python3.7/site-packages (from requests<3.0.0,>=2.13.0->spacy) (2021.5.30)\n",
      "Requirement already satisfied: idna<2.9,>=2.5 in /opt/conda/lib/python3.7/site-packages (from requests<3.0.0,>=2.13.0->spacy) (2.8)\n",
      "Requirement already satisfied: urllib3!=1.25.0,!=1.25.1,<1.26,>=1.21.1 in /opt/conda/lib/python3.7/site-packages (from requests<3.0.0,>=2.13.0->spacy) (1.25.11)\n",
      "Requirement already satisfied: chardet<3.1.0,>=3.0.2 in /opt/conda/lib/python3.7/site-packages (from requests<3.0.0,>=2.13.0->spacy) (3.0.4)\n",
      "Requirement already satisfied: importlib-metadata>=0.20; python_version < \"3.8\" in /opt/conda/lib/python3.7/site-packages (from catalogue<1.1.0,>=0.0.7->spacy) (2.0.0)\n",
      "Requirement already satisfied: zipp>=0.5 in /opt/conda/lib/python3.7/site-packages (from importlib-metadata>=0.20; python_version < \"3.8\"->catalogue<1.1.0,>=0.0.7->spacy) (3.4.0)\n"
     ]
    }
   ],
   "source": [
    "import pandas as pd\n",
    "import numpy as np\n",
    "#import shap\n",
    "\n",
    "from sklearn.model_selection import train_test_split\n",
    "from sklearn.metrics import mean_squared_error\n",
    "\n",
    "#import lightgbm as lgb\n",
    "#from lightgbm import LGBMRegressor\n",
    "#from catboost import CatBoostRegressor\n",
    "from sklearn.linear_model import LogisticRegression\n",
    "from sklearn.tree import DecisionTreeClassifier\n",
    "from sklearn.ensemble import RandomForestClassifier\n",
    "\n",
    "\n",
    "import matplotlib.pyplot as plt\n",
    "import seaborn as sns\n",
    "import plotly.express as px\n",
    "\n",
    "import warnings\n",
    "warnings.simplefilter(action='ignore', category=FutureWarning)\n",
    "\n",
    "import torch\n",
    "#import transformers\n",
    "from tqdm import notebook\n",
    "\n",
    "from sklearn.model_selection import cross_val_score\n",
    "from sklearn.model_selection import GridSearchCV\n",
    "from sklearn.metrics import accuracy_score, f1_score\n",
    "\n",
    "import nltk\n",
    "from nltk.corpus import stopwords as nltk_stopwords\n",
    "from sklearn.feature_extraction.text import TfidfVectorizer\n",
    "import scipy.sparse\n",
    "\n",
    "from nltk.stem import WordNetLemmatizer \n",
    "lemmatizer = WordNetLemmatizer()\n",
    "\n",
    "import re \n",
    "\n",
    "# Install spaCy (run in terminal/prompt)\n",
    "import sys\n",
    "!{sys.executable} -m pip install spacy"
   ]
  },
  {
   "cell_type": "code",
   "execution_count": 2,
   "metadata": {},
   "outputs": [
    {
     "name": "stdout",
     "output_type": "stream",
     "text": [
      "Defaulting to user installation because normal site-packages is not writeable\n",
      "Requirement already satisfied: spacy in /opt/conda/lib/python3.7/site-packages (2.3.4)\n",
      "Requirement already satisfied: catalogue<1.1.0,>=0.0.7 in /opt/conda/lib/python3.7/site-packages (from spacy) (1.0.0)\n",
      "Requirement already satisfied: srsly<1.1.0,>=1.0.2 in /opt/conda/lib/python3.7/site-packages (from spacy) (1.0.5)\n",
      "Requirement already satisfied: thinc<7.5.0,>=7.4.1 in /opt/conda/lib/python3.7/site-packages (from spacy) (7.4.5)\n",
      "Requirement already satisfied: tqdm<5.0.0,>=4.38.0 in /opt/conda/lib/python3.7/site-packages (from spacy) (4.51.0)\n",
      "Requirement already satisfied: plac<1.2.0,>=0.9.6 in /opt/conda/lib/python3.7/site-packages (from spacy) (1.1.3)\n",
      "Requirement already satisfied: blis<0.8.0,>=0.4.0; python_version >= \"3.6\" in /opt/conda/lib/python3.7/site-packages (from spacy) (0.7.4)\n",
      "Requirement already satisfied: murmurhash<1.1.0,>=0.28.0 in /opt/conda/lib/python3.7/site-packages (from spacy) (1.0.5)\n",
      "Requirement already satisfied: requests<3.0.0,>=2.13.0 in /opt/conda/lib/python3.7/site-packages (from spacy) (2.22.0)\n",
      "Requirement already satisfied: preshed<3.1.0,>=3.0.2 in /opt/conda/lib/python3.7/site-packages (from spacy) (3.0.5)\n",
      "Requirement already satisfied: numpy>=1.15.0 in /opt/conda/lib/python3.7/site-packages (from spacy) (1.19.5)\n",
      "Requirement already satisfied: wasabi<1.1.0,>=0.4.0 in /opt/conda/lib/python3.7/site-packages (from spacy) (0.8.2)\n",
      "Requirement already satisfied: setuptools in /opt/conda/lib/python3.7/site-packages (from spacy) (49.6.0.post20210108)\n",
      "Requirement already satisfied: cymem<2.1.0,>=2.0.2 in /opt/conda/lib/python3.7/site-packages (from spacy) (2.0.5)\n",
      "Requirement already satisfied: importlib-metadata>=0.20; python_version < \"3.8\" in /opt/conda/lib/python3.7/site-packages (from catalogue<1.1.0,>=0.0.7->spacy) (2.0.0)\n",
      "Requirement already satisfied: certifi>=2017.4.17 in /opt/conda/lib/python3.7/site-packages (from requests<3.0.0,>=2.13.0->spacy) (2021.5.30)\n",
      "Requirement already satisfied: urllib3!=1.25.0,!=1.25.1,<1.26,>=1.21.1 in /opt/conda/lib/python3.7/site-packages (from requests<3.0.0,>=2.13.0->spacy) (1.25.11)\n",
      "Requirement already satisfied: idna<2.9,>=2.5 in /opt/conda/lib/python3.7/site-packages (from requests<3.0.0,>=2.13.0->spacy) (2.8)\n",
      "Requirement already satisfied: chardet<3.1.0,>=3.0.2 in /opt/conda/lib/python3.7/site-packages (from requests<3.0.0,>=2.13.0->spacy) (3.0.4)\n",
      "Requirement already satisfied: zipp>=0.5 in /opt/conda/lib/python3.7/site-packages (from importlib-metadata>=0.20; python_version < \"3.8\"->catalogue<1.1.0,>=0.0.7->spacy) (3.4.0)\n",
      "Note: you may need to restart the kernel to use updated packages.\n"
     ]
    }
   ],
   "source": [
    "pip install spacy"
   ]
  },
  {
   "cell_type": "code",
   "execution_count": 3,
   "metadata": {},
   "outputs": [
    {
     "name": "stdout",
     "output_type": "stream",
     "text": [
      "Defaulting to user installation because normal site-packages is not writeable\n",
      "Collecting https://github.com/explosion/spacy-models/releases/download/en_core_web_sm-2.3.1/en_core_web_sm-2.3.1.tar.gz\n",
      "  Downloading https://github.com/explosion/spacy-models/releases/download/en_core_web_sm-2.3.1/en_core_web_sm-2.3.1.tar.gz (12.0 MB)\n",
      "\u001b[K     |████████████████████████████████| 12.0 MB 37 kB/s  eta 0:00:01\n",
      "\u001b[?25hRequirement already satisfied (use --upgrade to upgrade): en-core-web-sm==2.3.1 from https://github.com/explosion/spacy-models/releases/download/en_core_web_sm-2.3.1/en_core_web_sm-2.3.1.tar.gz in /home/jovyan/.local/lib/python3.7/site-packages\n",
      "Building wheels for collected packages: en-core-web-sm\n",
      "  Building wheel for en-core-web-sm (setup.py) ... \u001b[?25ldone\n",
      "\u001b[?25h  Created wheel for en-core-web-sm: filename=en_core_web_sm-2.3.1-py3-none-any.whl size=12047106 sha256=cfe87decc323855cf06de57e07b656624a47400b3e0015e2016e2e2e49768b19\n",
      "  Stored in directory: /home/jovyan/.cache/pip/wheels/b7/0d/f0/7ecae8427c515065d75410989e15e5785dd3975fe06e795cd9\n",
      "Successfully built en-core-web-sm\n",
      "Note: you may need to restart the kernel to use updated packages.\n"
     ]
    }
   ],
   "source": [
    "pip install https://github.com/explosion/spacy-models/releases/download/en_core_web_sm-2.3.1/en_core_web_sm-2.3.1.tar.gz --no-deps"
   ]
  },
  {
   "cell_type": "code",
   "execution_count": 4,
   "metadata": {},
   "outputs": [],
   "source": [
    "import spacy"
   ]
  },
  {
   "cell_type": "code",
   "execution_count": 5,
   "metadata": {},
   "outputs": [
    {
     "name": "stdout",
     "output_type": "stream",
     "text": [
      "\u001b[38;5;2m✔ Download and installation successful\u001b[0m\n",
      "You can now load the model via spacy.load('en_core_web_md')\n"
     ]
    }
   ],
   "source": [
    "import spacy.cli\n",
    "spacy.cli.download(\"en_core_web_md\")"
   ]
  },
  {
   "cell_type": "markdown",
   "metadata": {},
   "source": [
    "<div class=\"alert alert-block alert-success\">\n",
    "<b>Успех:</b> Отлично, что все импорты собраны в первой ячейке ноутбука! Если у того, кто будет запускать твой ноутбук будут отсутствовать некоторые библиотеки, то он это увидит сразу, а не в процессе!\n",
    "</div>"
   ]
  },
  {
   "cell_type": "code",
   "execution_count": 6,
   "metadata": {},
   "outputs": [],
   "source": [
    "pd.set_option('display.max_rows', 500)\n",
    "pd.set_option('display.max_columns', 500)\n",
    "pd.set_option('display.width', 1000)"
   ]
  },
  {
   "cell_type": "code",
   "execution_count": 7,
   "metadata": {},
   "outputs": [],
   "source": [
    "data = pd.read_csv('https://code.s3.yandex.net/datasets/toxic_comments.csv')"
   ]
  },
  {
   "cell_type": "code",
   "execution_count": 8,
   "metadata": {},
   "outputs": [
    {
     "name": "stdout",
     "output_type": "stream",
     "text": [
      "<class 'pandas.core.frame.DataFrame'>\n",
      "RangeIndex: 159571 entries, 0 to 159570\n",
      "Data columns (total 2 columns):\n",
      "text     159571 non-null object\n",
      "toxic    159571 non-null int64\n",
      "dtypes: int64(1), object(1)\n",
      "memory usage: 2.4+ MB\n"
     ]
    }
   ],
   "source": [
    "data.info()"
   ]
  },
  {
   "cell_type": "code",
   "execution_count": 9,
   "metadata": {},
   "outputs": [
    {
     "data": {
      "text/html": [
       "<div>\n",
       "<style scoped>\n",
       "    .dataframe tbody tr th:only-of-type {\n",
       "        vertical-align: middle;\n",
       "    }\n",
       "\n",
       "    .dataframe tbody tr th {\n",
       "        vertical-align: top;\n",
       "    }\n",
       "\n",
       "    .dataframe thead th {\n",
       "        text-align: right;\n",
       "    }\n",
       "</style>\n",
       "<table border=\"1\" class=\"dataframe\">\n",
       "  <thead>\n",
       "    <tr style=\"text-align: right;\">\n",
       "      <th></th>\n",
       "      <th>text</th>\n",
       "      <th>toxic</th>\n",
       "    </tr>\n",
       "  </thead>\n",
       "  <tbody>\n",
       "    <tr>\n",
       "      <td>0</td>\n",
       "      <td>Explanation\\nWhy the edits made under my usern...</td>\n",
       "      <td>0</td>\n",
       "    </tr>\n",
       "    <tr>\n",
       "      <td>1</td>\n",
       "      <td>D'aww! He matches this background colour I'm s...</td>\n",
       "      <td>0</td>\n",
       "    </tr>\n",
       "    <tr>\n",
       "      <td>2</td>\n",
       "      <td>Hey man, I'm really not trying to edit war. It...</td>\n",
       "      <td>0</td>\n",
       "    </tr>\n",
       "    <tr>\n",
       "      <td>3</td>\n",
       "      <td>\"\\nMore\\nI can't make any real suggestions on ...</td>\n",
       "      <td>0</td>\n",
       "    </tr>\n",
       "    <tr>\n",
       "      <td>4</td>\n",
       "      <td>You, sir, are my hero. Any chance you remember...</td>\n",
       "      <td>0</td>\n",
       "    </tr>\n",
       "  </tbody>\n",
       "</table>\n",
       "</div>"
      ],
      "text/plain": [
       "                                                text  toxic\n",
       "0  Explanation\\nWhy the edits made under my usern...      0\n",
       "1  D'aww! He matches this background colour I'm s...      0\n",
       "2  Hey man, I'm really not trying to edit war. It...      0\n",
       "3  \"\\nMore\\nI can't make any real suggestions on ...      0\n",
       "4  You, sir, are my hero. Any chance you remember...      0"
      ]
     },
     "execution_count": 9,
     "metadata": {},
     "output_type": "execute_result"
    }
   ],
   "source": [
    "data.head()"
   ]
  },
  {
   "cell_type": "markdown",
   "metadata": {},
   "source": [
    "<div class=\"alert alert-block alert-success\">\n",
    "<b>Успех:</b> Данные загружены корректно.\n",
    "</div>"
   ]
  },
  {
   "cell_type": "markdown",
   "metadata": {},
   "source": [
    "<div class=\"alert alert-block alert-danger\">\n",
    "<b>Ошибка:</b> Пожалуйста, проведи очистку и/или лемматизацию.\n",
    "</div>"
   ]
  },
  {
   "cell_type": "markdown",
   "metadata": {},
   "source": [
    "<div class=\"alert alert-block alert-warning\">\n",
    "<b>Изменения:</b> провел очистку и лемматизацию ниже, кстати на результат вроде не повлияло\n",
    "</div>"
   ]
  },
  {
   "cell_type": "code",
   "execution_count": 10,
   "metadata": {},
   "outputs": [
    {
     "name": "stderr",
     "output_type": "stream",
     "text": [
      "[nltk_data] Downloading package averaged_perceptron_tagger to\n",
      "[nltk_data]     /home/jovyan/nltk_data...\n",
      "[nltk_data]   Unzipping taggers/averaged_perceptron_tagger.zip.\n"
     ]
    },
    {
     "data": {
      "text/plain": [
       "True"
      ]
     },
     "execution_count": 10,
     "metadata": {},
     "output_type": "execute_result"
    }
   ],
   "source": [
    "nltk.download('averaged_perceptron_tagger')"
   ]
  },
  {
   "cell_type": "code",
   "execution_count": 13,
   "metadata": {},
   "outputs": [],
   "source": [
    "# Initialize spacy 'en' model, keeping only tagger component needed for lemmatization\n",
    "nlp = spacy.load('en_core_web_sm', disable=['parser', 'ner'])\n",
    "#nlp= spacy.load('en_core_web_sm')\n",
    "sentence = \"The striped bats are hanging on theifor best\"\n",
    "\n",
    "#> 'the strip bat be hang on -PRON- foot for good'"
   ]
  },
  {
   "cell_type": "code",
   "execution_count": 14,
   "metadata": {},
   "outputs": [],
   "source": [
    "def lemmatize(text):\n",
    "    # Parse the sentence using the loaded 'en' model object `nlp`\n",
    "    doc = nlp(text)\n",
    "    # Extract the lemma for each token and join \n",
    "    return \" \".join([token.lemma_ for token in doc])\n",
    "\n",
    "\n",
    "def clear_text(text):\n",
    "    text = re.sub(r'[^a-zA-z ]', ' ', text) \n",
    "    \n",
    "    return \" \".join(text.split())"
   ]
  },
  {
   "cell_type": "code",
   "execution_count": 47,
   "metadata": {},
   "outputs": [
    {
     "data": {
      "text/html": [
       "<div>\n",
       "<style scoped>\n",
       "    .dataframe tbody tr th:only-of-type {\n",
       "        vertical-align: middle;\n",
       "    }\n",
       "\n",
       "    .dataframe tbody tr th {\n",
       "        vertical-align: top;\n",
       "    }\n",
       "\n",
       "    .dataframe thead th {\n",
       "        text-align: right;\n",
       "    }\n",
       "</style>\n",
       "<table border=\"1\" class=\"dataframe\">\n",
       "  <thead>\n",
       "    <tr style=\"text-align: right;\">\n",
       "      <th></th>\n",
       "      <th>text</th>\n",
       "      <th>toxic</th>\n",
       "      <th>lemm_text</th>\n",
       "    </tr>\n",
       "  </thead>\n",
       "  <tbody>\n",
       "    <tr>\n",
       "      <td>0</td>\n",
       "      <td>Explanation\\nWhy the edits made under my usern...</td>\n",
       "      <td>0</td>\n",
       "      <td>explanation why the edit make under -PRON- use...</td>\n",
       "    </tr>\n",
       "    <tr>\n",
       "      <td>1</td>\n",
       "      <td>D'aww! He matches this background colour I'm s...</td>\n",
       "      <td>0</td>\n",
       "      <td>D aww -PRON- match this background colour -PRO...</td>\n",
       "    </tr>\n",
       "    <tr>\n",
       "      <td>2</td>\n",
       "      <td>Hey man, I'm really not trying to edit war. It...</td>\n",
       "      <td>0</td>\n",
       "      <td>hey man -PRON- m really not try to edit war -P...</td>\n",
       "    </tr>\n",
       "    <tr>\n",
       "      <td>3</td>\n",
       "      <td>\"\\nMore\\nI can't make any real suggestions on ...</td>\n",
       "      <td>0</td>\n",
       "      <td>More -PRON- can t make any real suggestion on ...</td>\n",
       "    </tr>\n",
       "    <tr>\n",
       "      <td>4</td>\n",
       "      <td>You, sir, are my hero. Any chance you remember...</td>\n",
       "      <td>0</td>\n",
       "      <td>-PRON- sir be -PRON- hero any chance -PRON- re...</td>\n",
       "    </tr>\n",
       "    <tr>\n",
       "      <td>...</td>\n",
       "      <td>...</td>\n",
       "      <td>...</td>\n",
       "      <td>...</td>\n",
       "    </tr>\n",
       "    <tr>\n",
       "      <td>159566</td>\n",
       "      <td>\":::::And for the second time of asking, when ...</td>\n",
       "      <td>0</td>\n",
       "      <td>and for the second time of ask when -PRON- vie...</td>\n",
       "    </tr>\n",
       "    <tr>\n",
       "      <td>159567</td>\n",
       "      <td>You should be ashamed of yourself \\n\\nThat is ...</td>\n",
       "      <td>0</td>\n",
       "      <td>-PRON- should be ashamed of -PRON- that be a h...</td>\n",
       "    </tr>\n",
       "    <tr>\n",
       "      <td>159568</td>\n",
       "      <td>Spitzer \\n\\nUmm, theres no actual article for ...</td>\n",
       "      <td>0</td>\n",
       "      <td>Spitzer Umm there s no actual article for pros...</td>\n",
       "    </tr>\n",
       "    <tr>\n",
       "      <td>159569</td>\n",
       "      <td>And it looks like it was actually you who put ...</td>\n",
       "      <td>0</td>\n",
       "      <td>and -PRON- look like -PRON- be actually -PRON-...</td>\n",
       "    </tr>\n",
       "    <tr>\n",
       "      <td>159570</td>\n",
       "      <td>\"\\nAnd ... I really don't think you understand...</td>\n",
       "      <td>0</td>\n",
       "      <td>and -PRON- really don t think -PRON- understan...</td>\n",
       "    </tr>\n",
       "  </tbody>\n",
       "</table>\n",
       "<p>159571 rows × 3 columns</p>\n",
       "</div>"
      ],
      "text/plain": [
       "                                                     text  toxic                                          lemm_text\n",
       "0       Explanation\\nWhy the edits made under my usern...      0  explanation why the edit make under -PRON- use...\n",
       "1       D'aww! He matches this background colour I'm s...      0  D aww -PRON- match this background colour -PRO...\n",
       "2       Hey man, I'm really not trying to edit war. It...      0  hey man -PRON- m really not try to edit war -P...\n",
       "3       \"\\nMore\\nI can't make any real suggestions on ...      0  More -PRON- can t make any real suggestion on ...\n",
       "4       You, sir, are my hero. Any chance you remember...      0  -PRON- sir be -PRON- hero any chance -PRON- re...\n",
       "...                                                   ...    ...                                                ...\n",
       "159566  \":::::And for the second time of asking, when ...      0  and for the second time of ask when -PRON- vie...\n",
       "159567  You should be ashamed of yourself \\n\\nThat is ...      0  -PRON- should be ashamed of -PRON- that be a h...\n",
       "159568  Spitzer \\n\\nUmm, theres no actual article for ...      0  Spitzer Umm there s no actual article for pros...\n",
       "159569  And it looks like it was actually you who put ...      0  and -PRON- look like -PRON- be actually -PRON-...\n",
       "159570  \"\\nAnd ... I really don't think you understand...      0  and -PRON- really don t think -PRON- understan...\n",
       "\n",
       "[159571 rows x 3 columns]"
      ]
     },
     "execution_count": 47,
     "metadata": {},
     "output_type": "execute_result"
    }
   ],
   "source": [
    "data['lemm_text'] = data['text'].apply(lambda x : lemmatize(clear_text(x)))\n",
    "data"
   ]
  },
  {
   "cell_type": "markdown",
   "metadata": {},
   "source": [
    "## Обучение"
   ]
  },
  {
   "cell_type": "code",
   "execution_count": 48,
   "metadata": {},
   "outputs": [
    {
     "name": "stderr",
     "output_type": "stream",
     "text": [
      "[nltk_data] Downloading package stopwords to /home/jovyan/nltk_data...\n",
      "[nltk_data]   Unzipping corpora/stopwords.zip.\n"
     ]
    },
    {
     "name": "stdout",
     "output_type": "stream",
     "text": [
      "(119678, 135966)\n",
      "(39893, 135966)\n",
      "(119678, 3)\n",
      "(39893, 3)\n"
     ]
    }
   ],
   "source": [
    "data_train, data_test = train_test_split(data, test_size=0.25, random_state=12345)\n",
    "\n",
    "corpus_train = data_train['lemm_text'].values\n",
    "corpus_test = data_test['lemm_text'].values\n",
    "\n",
    "nltk.download('stopwords')\n",
    "stopwords = set(nltk_stopwords.words('english'))\n",
    "count_tf_idf = TfidfVectorizer(stop_words=stopwords)\n",
    "tf_idf_train = count_tf_idf.fit_transform(corpus_train) \n",
    "tf_idf_test = count_tf_idf.transform(corpus_test) \n",
    "\n",
    "print(tf_idf_train.shape)\n",
    "print(tf_idf_test.shape)\n",
    "print(data_train.shape)\n",
    "print(data_test.shape)"
   ]
  },
  {
   "cell_type": "markdown",
   "metadata": {},
   "source": [
    "<div class=\"alert alert-block alert-warning\">\n",
    "<b>Изменения:</b> юникод удалил\n",
    "</div>"
   ]
  },
  {
   "cell_type": "markdown",
   "metadata": {},
   "source": [
    "<div class=\"alert alert-block alert-info\">\n",
    "<b>Совет: </b> Приводить тексты к юникоду не имеет смысла, так как они все на англйском.\n",
    "</div>"
   ]
  },
  {
   "cell_type": "markdown",
   "metadata": {},
   "source": [
    "<div class=\"alert alert-block alert-success\">\n",
    "<b>Успех:</b> Разбиение было сделано верно. Отлично, что векторизатор был обучен только на тренировочной части данных.\n",
    "</div>"
   ]
  },
  {
   "cell_type": "code",
   "execution_count": 49,
   "metadata": {},
   "outputs": [],
   "source": [
    "target_train = data_train['toxic']\n",
    "target_test = data_test['toxic']\n",
    "features_train = tf_idf_train"
   ]
  },
  {
   "cell_type": "markdown",
   "metadata": {},
   "source": [
    "### LogisticRegression"
   ]
  },
  {
   "cell_type": "markdown",
   "metadata": {},
   "source": [
    "Выполним подбор гиперпараметров"
   ]
  },
  {
   "cell_type": "code",
   "execution_count": null,
   "metadata": {},
   "outputs": [],
   "source": [
    "%%time\n",
    "1 + 1\n",
    "tuned_parameters = {'C': [0.1, 0.5, 1, 5, 10, 50, 100]}\n",
    "clf = GridSearchCV(LogisticRegression(solver='liblinear'), tuned_parameters, cv=3, scoring=\"accuracy\")\n",
    "clf.fit(features_train, target_train)"
   ]
  },
  {
   "cell_type": "markdown",
   "metadata": {},
   "source": [
    "<div class=\"alert alert-block alert-info\">\n",
    "<b>Совет: </b> Напомню, что внутри кросс-валидации происходит разбиение выборки на треин и валидацию. Однако, в таком случае векторизатор обучен на всей выборке, а это не совсем корректно. Для избежания такого эффекта можно использовать <a href=\"https://scikit-learn.org/stable/modules/generated/sklearn.pipeline.Pipeline.html\">пайплайн</a>. <a href=\"https://medium.com/analytics-vidhya/ml-pipelines-using-scikit-learn-and-gridsearchcv-fe605a7f9e05\">Тут</a> есть пример.\n",
    "</div>"
   ]
  },
  {
   "cell_type": "code",
   "execution_count": null,
   "metadata": {},
   "outputs": [],
   "source": [
    "clf.best_params_"
   ]
  },
  {
   "cell_type": "code",
   "execution_count": 50,
   "metadata": {},
   "outputs": [
    {
     "name": "stdout",
     "output_type": "stream",
     "text": [
      "f1_score на обучающей выборке: 0.9096681598747445\n",
      "f1_score на тестовой выборке: 0.7825968728755949\n",
      "CPU times: user 9.76 s, sys: 6.45 s, total: 16.2 s\n",
      "Wall time: 16.2 s\n"
     ]
    }
   ],
   "source": [
    "%%time\n",
    "1 + 1\n",
    "model = LogisticRegression(penalty='l2', C=10)\n",
    "model.fit(features_train, target_train)\n",
    "\n",
    "predict_train = model.predict(features_train)\n",
    "print('f1_score на обучающей выборке:', f1_score(predict_train, target_train))\n",
    "\n",
    "predict_test = model.predict(tf_idf_test)\n",
    "print('f1_score на тестовой выборке:', f1_score(predict_test, target_test))"
   ]
  },
  {
   "cell_type": "markdown",
   "metadata": {},
   "source": [
    "Получили заданную метрику > 0.75, посмотрим также другие модели"
   ]
  },
  {
   "cell_type": "markdown",
   "metadata": {},
   "source": [
    "### DecisionTreeRegression"
   ]
  },
  {
   "cell_type": "code",
   "execution_count": 51,
   "metadata": {},
   "outputs": [
    {
     "name": "stdout",
     "output_type": "stream",
     "text": [
      "CPU times: user 7.76 s, sys: 15.6 ms, total: 7.78 s\n",
      "Wall time: 7.98 s\n"
     ]
    },
    {
     "data": {
      "text/plain": [
       "DecisionTreeClassifier(class_weight=None, criterion='entropy', max_depth=7,\n",
       "                       max_features=None, max_leaf_nodes=None,\n",
       "                       min_impurity_decrease=0.0, min_impurity_split=None,\n",
       "                       min_samples_leaf=1, min_samples_split=2,\n",
       "                       min_weight_fraction_leaf=0.0, presort=False,\n",
       "                       random_state=1, splitter='best')"
      ]
     },
     "execution_count": 51,
     "metadata": {},
     "output_type": "execute_result"
    }
   ],
   "source": [
    "%%time\n",
    "1 + 1\n",
    "\n",
    "model = DecisionTreeClassifier(criterion='entropy', \n",
    "                              max_depth=7, \n",
    "                              random_state=1)\n",
    "model.fit(features_train, target_train)"
   ]
  },
  {
   "cell_type": "code",
   "execution_count": 52,
   "metadata": {},
   "outputs": [
    {
     "name": "stdout",
     "output_type": "stream",
     "text": [
      "f1_score на обучающей выборке: 0.5714929323647013\n",
      "f1_score на тестовой выборке: 0.568019884009942\n"
     ]
    }
   ],
   "source": [
    "predict_train = model.predict(features_train)\n",
    "print('f1_score на обучающей выборке:', f1_score(predict_train, target_train))\n",
    "\n",
    "predict_test = model.predict(tf_idf_test)\n",
    "print('f1_score на тестовой выборке:', f1_score(predict_test, target_test))"
   ]
  },
  {
   "cell_type": "markdown",
   "metadata": {},
   "source": [
    "### RandomForestClassifier"
   ]
  },
  {
   "cell_type": "code",
   "execution_count": 53,
   "metadata": {},
   "outputs": [
    {
     "name": "stdout",
     "output_type": "stream",
     "text": [
      "CPU times: user 34.3 s, sys: 2.31 ms, total: 34.3 s\n",
      "Wall time: 34.5 s\n"
     ]
    },
    {
     "data": {
      "text/plain": [
       "RandomForestClassifier(bootstrap=True, class_weight=None, criterion='gini',\n",
       "                       max_depth=None, max_features='auto', max_leaf_nodes=None,\n",
       "                       min_impurity_decrease=0.0, min_impurity_split=None,\n",
       "                       min_samples_leaf=1, min_samples_split=2,\n",
       "                       min_weight_fraction_leaf=0.0, n_estimators=5,\n",
       "                       n_jobs=None, oob_score=False, random_state=12345,\n",
       "                       verbose=0, warm_start=False)"
      ]
     },
     "execution_count": 53,
     "metadata": {},
     "output_type": "execute_result"
    }
   ],
   "source": [
    "%%time\n",
    "1 + 1\n",
    "\n",
    "model = RandomForestClassifier(random_state=12345, n_estimators=5) \n",
    "model.fit(features_train, target_train)"
   ]
  },
  {
   "cell_type": "code",
   "execution_count": 54,
   "metadata": {},
   "outputs": [
    {
     "name": "stdout",
     "output_type": "stream",
     "text": [
      "f1_score на обучающей выборке: 0.9586664398707264\n",
      "f1_score на тестовой выборке: 0.6695190321628799\n"
     ]
    }
   ],
   "source": [
    "predict_train = model.predict(features_train)\n",
    "print('f1_score на обучающей выборке:', f1_score(predict_train, target_train))\n",
    "\n",
    "predict_test = model.predict(tf_idf_test)\n",
    "print('f1_score на тестовой выборке:', f1_score(predict_test, target_test))"
   ]
  },
  {
   "cell_type": "markdown",
   "metadata": {},
   "source": [
    "<div class=\"alert alert-block alert-success\">\n",
    "<b>Успех:</b> Хорошо, что ты попробовал разные модели!\n",
    "</div>"
   ]
  },
  {
   "cell_type": "markdown",
   "metadata": {},
   "source": [
    "## Выводы"
   ]
  },
  {
   "cell_type": "markdown",
   "metadata": {},
   "source": [
    " Данные загружены и подготовлен, обучены модели, выбрана модель с наилучшей метрикой F1 - LogisticRegression. Значение метрики F1 не меньше 0.75."
   ]
  },
  {
   "cell_type": "markdown",
   "metadata": {},
   "source": [
    "<div class=\"alert alert-block alert-success\">\n",
    "<b>Успех:</b> Приятно видеть вывод в конце проекта!\n",
    "</div>"
   ]
  },
  {
   "cell_type": "markdown",
   "metadata": {},
   "source": [
    "## Чек-лист проверки"
   ]
  },
  {
   "cell_type": "markdown",
   "metadata": {},
   "source": [
    "- [x]  Jupyter Notebook открыт\n",
    "- [ ]  Весь код выполняется без ошибок\n",
    "- [ ]  Ячейки с кодом расположены в порядке исполнения\n",
    "- [ ]  Данные загружены и подготовлены\n",
    "- [ ]  Модели обучены\n",
    "- [ ]  Значение метрики *F1* не меньше 0.75\n",
    "- [ ]  Выводы написаны"
   ]
  }
 ],
 "metadata": {
  "ExecuteTimeLog": [
   {
    "duration": 1934,
    "start_time": "2021-12-09T05:46:22.846Z"
   },
   {
    "duration": 3,
    "start_time": "2021-12-09T05:46:37.577Z"
   },
   {
    "duration": 3,
    "start_time": "2021-12-09T05:48:09.774Z"
   },
   {
    "duration": 5,
    "start_time": "2021-12-09T05:49:20.793Z"
   },
   {
    "duration": 6,
    "start_time": "2021-12-09T05:49:20.800Z"
   },
   {
    "duration": 3603,
    "start_time": "2021-12-09T05:49:20.808Z"
   },
   {
    "duration": 23,
    "start_time": "2021-12-09T05:49:24.414Z"
   },
   {
    "duration": 2912,
    "start_time": "2021-12-09T09:04:33.863Z"
   },
   {
    "duration": 4,
    "start_time": "2021-12-09T09:04:36.777Z"
   },
   {
    "duration": 2727,
    "start_time": "2021-12-09T09:04:36.784Z"
   },
   {
    "duration": 36,
    "start_time": "2021-12-09T09:04:39.517Z"
   },
   {
    "duration": 18632,
    "start_time": "2021-12-09T09:04:39.556Z"
   },
   {
    "duration": 3,
    "start_time": "2021-12-09T09:04:58.190Z"
   },
   {
    "duration": 9425,
    "start_time": "2021-12-09T09:04:58.196Z"
   },
   {
    "duration": 677543,
    "start_time": "2021-12-09T09:05:07.624Z"
   },
   {
    "duration": 26870,
    "start_time": "2021-12-09T09:16:25.170Z"
   },
   {
    "duration": 11252,
    "start_time": "2021-12-09T11:35:25.935Z"
   },
   {
    "duration": 10011,
    "start_time": "2021-12-09T11:35:56.494Z"
   },
   {
    "duration": 711849,
    "start_time": "2021-12-09T11:36:15.644Z"
   },
   {
    "duration": 2920,
    "start_time": "2021-12-09T18:09:24.819Z"
   },
   {
    "duration": 4,
    "start_time": "2021-12-09T18:09:27.742Z"
   },
   {
    "duration": 4696,
    "start_time": "2021-12-09T18:09:27.750Z"
   },
   {
    "duration": 34,
    "start_time": "2021-12-09T18:09:32.449Z"
   },
   {
    "duration": 18714,
    "start_time": "2021-12-09T18:09:32.486Z"
   },
   {
    "duration": 4,
    "start_time": "2021-12-09T18:09:51.202Z"
   },
   {
    "duration": 9516,
    "start_time": "2021-12-09T18:09:51.209Z"
   },
   {
    "duration": -199,
    "start_time": "2021-12-09T18:21:18.113Z"
   },
   {
    "duration": -200,
    "start_time": "2021-12-09T18:21:18.115Z"
   },
   {
    "duration": -200,
    "start_time": "2021-12-09T18:21:18.117Z"
   },
   {
    "duration": -201,
    "start_time": "2021-12-09T18:21:18.119Z"
   },
   {
    "duration": -201,
    "start_time": "2021-12-09T18:21:18.120Z"
   },
   {
    "duration": -201,
    "start_time": "2021-12-09T18:21:18.122Z"
   },
   {
    "duration": -201,
    "start_time": "2021-12-09T18:21:18.124Z"
   },
   {
    "duration": -202,
    "start_time": "2021-12-09T18:21:18.126Z"
   },
   {
    "duration": -253,
    "start_time": "2021-12-09T18:21:18.179Z"
   },
   {
    "duration": -254,
    "start_time": "2021-12-09T18:21:18.181Z"
   },
   {
    "duration": -254,
    "start_time": "2021-12-09T18:21:18.183Z"
   },
   {
    "duration": 6,
    "start_time": "2021-12-09T18:21:28.189Z"
   },
   {
    "duration": 4,
    "start_time": "2021-12-09T18:21:28.660Z"
   },
   {
    "duration": 1770,
    "start_time": "2021-12-09T18:21:29.043Z"
   },
   {
    "duration": 31,
    "start_time": "2021-12-09T18:21:30.815Z"
   },
   {
    "duration": 2872,
    "start_time": "2021-12-09T18:22:20.202Z"
   },
   {
    "duration": 5,
    "start_time": "2021-12-09T18:22:23.076Z"
   },
   {
    "duration": 14100,
    "start_time": "2021-12-09T18:22:23.084Z"
   },
   {
    "duration": 34,
    "start_time": "2021-12-09T18:22:37.187Z"
   },
   {
    "duration": 18460,
    "start_time": "2021-12-09T18:22:37.224Z"
   },
   {
    "duration": 4,
    "start_time": "2021-12-09T18:22:55.686Z"
   },
   {
    "duration": 9512,
    "start_time": "2021-12-09T18:22:55.693Z"
   },
   {
    "duration": 3336,
    "start_time": "2021-12-09T18:27:33.726Z"
   },
   {
    "duration": 5,
    "start_time": "2021-12-09T18:27:37.066Z"
   },
   {
    "duration": 3338,
    "start_time": "2021-12-09T18:27:37.074Z"
   },
   {
    "duration": 32,
    "start_time": "2021-12-09T18:27:40.415Z"
   },
   {
    "duration": 18179,
    "start_time": "2021-12-09T18:27:40.466Z"
   },
   {
    "duration": 5,
    "start_time": "2021-12-09T18:27:58.649Z"
   },
   {
    "duration": 9945,
    "start_time": "2021-12-09T18:27:58.668Z"
   },
   {
    "duration": 448,
    "start_time": "2021-12-09T18:28:08.616Z"
   },
   {
    "duration": 89,
    "start_time": "2021-12-09T18:28:09.067Z"
   },
   {
    "duration": 26006,
    "start_time": "2021-12-09T18:28:09.168Z"
   },
   {
    "duration": 1535,
    "start_time": "2021-12-09T18:28:35.176Z"
   },
   {
    "duration": 584,
    "start_time": "2021-12-09T18:28:36.714Z"
   },
   {
    "duration": -174,
    "start_time": "2021-12-09T18:28:37.474Z"
   },
   {
    "duration": 1364,
    "start_time": "2021-12-09T18:28:44.911Z"
   },
   {
    "duration": 6,
    "start_time": "2021-12-09T18:28:56.048Z"
   },
   {
    "duration": 300,
    "start_time": "2021-12-09T18:29:33.995Z"
   },
   {
    "duration": 280,
    "start_time": "2021-12-09T18:29:53.849Z"
   },
   {
    "duration": 286,
    "start_time": "2021-12-09T18:30:02.808Z"
   },
   {
    "duration": 338,
    "start_time": "2021-12-09T18:30:10.462Z"
   },
   {
    "duration": 6,
    "start_time": "2021-12-09T18:30:17.725Z"
   },
   {
    "duration": 1882,
    "start_time": "2021-12-09T18:35:49.458Z"
   },
   {
    "duration": -81,
    "start_time": "2021-12-09T18:35:51.426Z"
   },
   {
    "duration": -83,
    "start_time": "2021-12-09T18:35:51.429Z"
   },
   {
    "duration": -82,
    "start_time": "2021-12-09T18:35:51.430Z"
   },
   {
    "duration": -81,
    "start_time": "2021-12-09T18:35:51.431Z"
   },
   {
    "duration": -81,
    "start_time": "2021-12-09T18:35:51.433Z"
   },
   {
    "duration": -80,
    "start_time": "2021-12-09T18:35:51.435Z"
   },
   {
    "duration": -148,
    "start_time": "2021-12-09T18:35:51.505Z"
   },
   {
    "duration": -150,
    "start_time": "2021-12-09T18:35:51.509Z"
   },
   {
    "duration": -150,
    "start_time": "2021-12-09T18:35:51.511Z"
   },
   {
    "duration": -149,
    "start_time": "2021-12-09T18:35:51.512Z"
   },
   {
    "duration": 1447,
    "start_time": "2021-12-09T18:36:12.059Z"
   },
   {
    "duration": 4,
    "start_time": "2021-12-09T18:36:17.767Z"
   },
   {
    "duration": 5032,
    "start_time": "2021-12-09T18:36:17.773Z"
   },
   {
    "duration": 35,
    "start_time": "2021-12-09T18:36:22.808Z"
   },
   {
    "duration": 18322,
    "start_time": "2021-12-09T18:36:22.846Z"
   },
   {
    "duration": 3,
    "start_time": "2021-12-09T18:36:41.171Z"
   },
   {
    "duration": 9731,
    "start_time": "2021-12-09T18:36:41.178Z"
   },
   {
    "duration": 449,
    "start_time": "2021-12-09T18:47:17.285Z"
   },
   {
    "duration": 587077,
    "start_time": "2021-12-09T18:56:54.267Z"
   },
   {
    "duration": 1063,
    "start_time": "2021-12-09T19:06:41.347Z"
   },
   {
    "duration": -36,
    "start_time": "2021-12-09T19:06:42.463Z"
   },
   {
    "duration": 5,
    "start_time": "2021-12-09T19:06:49.352Z"
   },
   {
    "duration": 4994,
    "start_time": "2021-12-09T19:06:49.560Z"
   },
   {
    "duration": 41,
    "start_time": "2021-12-09T19:06:54.556Z"
   },
   {
    "duration": 3058,
    "start_time": "2021-12-09T19:07:20.145Z"
   },
   {
    "duration": 4,
    "start_time": "2021-12-09T19:07:23.206Z"
   },
   {
    "duration": 3415,
    "start_time": "2021-12-09T19:07:23.213Z"
   },
   {
    "duration": 44,
    "start_time": "2021-12-09T19:07:26.631Z"
   },
   {
    "duration": 19965,
    "start_time": "2021-12-09T19:07:26.678Z"
   },
   {
    "duration": 4,
    "start_time": "2021-12-09T19:07:46.645Z"
   },
   {
    "duration": 9561,
    "start_time": "2021-12-09T19:07:46.652Z"
   },
   {
    "duration": 2965,
    "start_time": "2021-12-09T19:19:34.111Z"
   },
   {
    "duration": 4,
    "start_time": "2021-12-09T19:19:37.080Z"
   },
   {
    "duration": 3660,
    "start_time": "2021-12-09T19:19:37.087Z"
   },
   {
    "duration": 44,
    "start_time": "2021-12-09T19:19:40.750Z"
   },
   {
    "duration": 19706,
    "start_time": "2021-12-09T19:19:40.796Z"
   },
   {
    "duration": 4,
    "start_time": "2021-12-09T19:20:00.505Z"
   },
   {
    "duration": 9508,
    "start_time": "2021-12-09T19:20:00.512Z"
   },
   {
    "duration": 4233,
    "start_time": "2021-12-09T19:20:10.024Z"
   },
   {
    "duration": 288,
    "start_time": "2021-12-09T19:20:14.260Z"
   },
   {
    "duration": 497,
    "start_time": "2021-12-09T19:20:14.550Z"
   },
   {
    "duration": 127,
    "start_time": "2021-12-09T19:20:15.050Z"
   },
   {
    "duration": 207,
    "start_time": "2021-12-09T19:35:01.838Z"
   },
   {
    "duration": 10,
    "start_time": "2021-12-09T19:35:13.873Z"
   },
   {
    "duration": 29204,
    "start_time": "2021-12-09T19:35:20.905Z"
   },
   {
    "duration": 1480,
    "start_time": "2021-12-09T19:36:00.358Z"
   },
   {
    "duration": 4,
    "start_time": "2021-12-09T19:40:09.750Z"
   },
   {
    "duration": 4,
    "start_time": "2021-12-09T19:40:10.427Z"
   },
   {
    "duration": 413,
    "start_time": "2021-12-09T19:40:11.268Z"
   },
   {
    "duration": 7,
    "start_time": "2021-12-09T19:40:40.632Z"
   },
   {
    "duration": 4,
    "start_time": "2021-12-09T19:40:52.439Z"
   },
   {
    "duration": 29530,
    "start_time": "2021-12-09T19:40:52.677Z"
   },
   {
    "duration": 4,
    "start_time": "2021-12-09T19:41:49.797Z"
   },
   {
    "duration": 5504,
    "start_time": "2021-12-09T19:41:57.848Z"
   },
   {
    "duration": 65171,
    "start_time": "2021-12-09T19:42:12.769Z"
   },
   {
    "duration": 5,
    "start_time": "2021-12-09T19:43:32.723Z"
   },
   {
    "duration": 217,
    "start_time": "2021-12-09T19:44:33.545Z"
   },
   {
    "duration": 517,
    "start_time": "2021-12-09T19:46:02.889Z"
   },
   {
    "duration": 328,
    "start_time": "2021-12-09T19:46:07.102Z"
   },
   {
    "duration": 487,
    "start_time": "2021-12-09T19:46:26.979Z"
   },
   {
    "duration": 336,
    "start_time": "2021-12-09T19:46:30.960Z"
   },
   {
    "duration": 567,
    "start_time": "2021-12-09T19:46:41.072Z"
   },
   {
    "duration": 392,
    "start_time": "2021-12-09T19:46:43.810Z"
   },
   {
    "duration": 98,
    "start_time": "2021-12-09T19:46:49.649Z"
   },
   {
    "duration": 707,
    "start_time": "2021-12-09T19:46:52.466Z"
   },
   {
    "duration": 544,
    "start_time": "2021-12-09T19:46:55.327Z"
   },
   {
    "duration": 26749,
    "start_time": "2021-12-09T19:47:22.863Z"
   },
   {
    "duration": 1660,
    "start_time": "2021-12-09T19:47:51.869Z"
   },
   {
    "duration": 42468,
    "start_time": "2021-12-09T19:48:02.277Z"
   },
   {
    "duration": 2295,
    "start_time": "2021-12-09T19:48:56.267Z"
   },
   {
    "duration": 4,
    "start_time": "2021-12-09T19:49:28.666Z"
   },
   {
    "duration": 4,
    "start_time": "2021-12-09T19:49:38.868Z"
   },
   {
    "duration": 1120422,
    "start_time": "2021-12-09T19:49:39.744Z"
   },
   {
    "duration": 363,
    "start_time": "2021-12-09T20:08:20.170Z"
   },
   {
    "duration": 8,
    "start_time": "2021-12-09T20:08:44.000Z"
   },
   {
    "duration": 9,
    "start_time": "2021-12-09T20:08:44.010Z"
   },
   {
    "duration": 3832,
    "start_time": "2021-12-09T20:08:44.022Z"
   },
   {
    "duration": 36,
    "start_time": "2021-12-09T20:08:47.856Z"
   },
   {
    "duration": 2970,
    "start_time": "2021-12-09T20:09:05.530Z"
   },
   {
    "duration": 4,
    "start_time": "2021-12-09T20:09:15.452Z"
   },
   {
    "duration": 5213,
    "start_time": "2021-12-09T20:09:15.733Z"
   },
   {
    "duration": 44,
    "start_time": "2021-12-09T20:09:20.949Z"
   },
   {
    "duration": 19643,
    "start_time": "2021-12-09T20:09:20.996Z"
   },
   {
    "duration": 4,
    "start_time": "2021-12-09T20:09:40.641Z"
   },
   {
    "duration": 5199,
    "start_time": "2021-12-09T20:10:00.830Z"
   },
   {
    "duration": 5044,
    "start_time": "2021-12-09T20:10:12.260Z"
   },
   {
    "duration": 818,
    "start_time": "2021-12-09T20:10:22.972Z"
   },
   {
    "duration": 575,
    "start_time": "2021-12-09T20:10:25.771Z"
   },
   {
    "duration": 527,
    "start_time": "2021-12-09T20:10:32.177Z"
   },
   {
    "duration": 597,
    "start_time": "2021-12-09T20:10:34.048Z"
   },
   {
    "duration": 410,
    "start_time": "2021-12-09T20:10:41.889Z"
   },
   {
    "duration": 332,
    "start_time": "2021-12-09T20:10:44.055Z"
   },
   {
    "duration": 43047,
    "start_time": "2021-12-09T20:10:48.148Z"
   },
   {
    "duration": 2305,
    "start_time": "2021-12-09T20:11:31.197Z"
   },
   {
    "duration": 216242,
    "start_time": "2021-12-09T20:11:42.363Z"
   },
   {
    "duration": 11215,
    "start_time": "2021-12-09T20:15:18.608Z"
   },
   {
    "duration": 2948,
    "start_time": "2021-12-09T20:21:55.498Z"
   },
   {
    "duration": 4,
    "start_time": "2021-12-09T20:22:01.736Z"
   },
   {
    "duration": 5432,
    "start_time": "2021-12-09T20:22:02.416Z"
   },
   {
    "duration": 44,
    "start_time": "2021-12-09T20:22:07.851Z"
   },
   {
    "duration": 19333,
    "start_time": "2021-12-09T20:22:07.899Z"
   },
   {
    "duration": 4,
    "start_time": "2021-12-09T20:22:27.235Z"
   },
   {
    "duration": 829,
    "start_time": "2021-12-09T20:26:19.747Z"
   },
   {
    "duration": 207,
    "start_time": "2021-12-09T20:26:39.809Z"
   },
   {
    "duration": 103,
    "start_time": "2021-12-09T20:26:46.499Z"
   },
   {
    "duration": 205,
    "start_time": "2021-12-09T20:26:49.237Z"
   },
   {
    "duration": 39049,
    "start_time": "2021-12-09T20:26:55.791Z"
   },
   {
    "duration": 273310,
    "start_time": "2021-12-09T20:30:27.332Z"
   },
   {
    "duration": 6,
    "start_time": "2021-12-09T20:36:31.409Z"
   },
   {
    "duration": 16825,
    "start_time": "2021-12-09T20:37:29.011Z"
   },
   {
    "duration": 100,
    "start_time": "2021-12-09T20:38:15.331Z"
   },
   {
    "duration": 7,
    "start_time": "2021-12-09T20:39:54.624Z"
   },
   {
    "duration": 11,
    "start_time": "2021-12-09T20:39:54.633Z"
   },
   {
    "duration": 4569,
    "start_time": "2021-12-09T20:39:54.647Z"
   },
   {
    "duration": 32,
    "start_time": "2021-12-09T20:39:59.220Z"
   },
   {
    "duration": 3074,
    "start_time": "2021-12-09T20:40:15.129Z"
   },
   {
    "duration": 4,
    "start_time": "2021-12-09T20:40:18.205Z"
   },
   {
    "duration": 7428,
    "start_time": "2021-12-09T20:40:18.211Z"
   },
   {
    "duration": 45,
    "start_time": "2021-12-09T20:40:25.642Z"
   },
   {
    "duration": 19741,
    "start_time": "2021-12-09T20:40:25.690Z"
   },
   {
    "duration": 4,
    "start_time": "2021-12-09T20:40:45.433Z"
   },
   {
    "duration": 8908,
    "start_time": "2021-12-09T20:40:51.174Z"
   },
   {
    "duration": 295,
    "start_time": "2021-12-09T20:41:00.085Z"
   },
   {
    "duration": 41826,
    "start_time": "2021-12-09T20:41:00.384Z"
   },
   {
    "duration": 2362,
    "start_time": "2021-12-09T20:41:42.212Z"
   },
   {
    "duration": 15532,
    "start_time": "2021-12-09T20:41:44.577Z"
   },
   {
    "duration": 1920,
    "start_time": "2021-12-10T05:37:34.088Z"
   },
   {
    "duration": 4,
    "start_time": "2021-12-10T05:37:44.043Z"
   },
   {
    "duration": 2573,
    "start_time": "2021-12-10T05:37:44.417Z"
   },
   {
    "duration": 25,
    "start_time": "2021-12-10T05:37:51.689Z"
   },
   {
    "duration": 9,
    "start_time": "2021-12-10T05:38:05.627Z"
   },
   {
    "duration": 3,
    "start_time": "2021-12-10T05:38:11.128Z"
   },
   {
    "duration": 8,
    "start_time": "2021-12-10T05:38:14.204Z"
   },
   {
    "duration": 7,
    "start_time": "2021-12-10T05:38:21.209Z"
   },
   {
    "duration": 7,
    "start_time": "2021-12-10T05:38:27.170Z"
   },
   {
    "duration": 418,
    "start_time": "2021-12-10T05:39:21.541Z"
   },
   {
    "duration": 10963,
    "start_time": "2021-12-10T05:39:29.083Z"
   },
   {
    "duration": 5,
    "start_time": "2021-12-10T05:39:40.049Z"
   },
   {
    "duration": 3,
    "start_time": "2021-12-10T05:39:47.410Z"
   },
   {
    "duration": 3,
    "start_time": "2021-12-10T05:39:53.910Z"
   },
   {
    "duration": 741,
    "start_time": "2021-12-10T05:40:30.160Z"
   },
   {
    "duration": 5,
    "start_time": "2021-12-10T05:40:51.577Z"
   },
   {
    "duration": 19,
    "start_time": "2021-12-10T05:45:45.617Z"
   },
   {
    "duration": 5,
    "start_time": "2021-12-10T05:45:56.963Z"
   },
   {
    "duration": 3,
    "start_time": "2021-12-10T05:46:04.599Z"
   },
   {
    "duration": 1874,
    "start_time": "2021-12-10T05:46:06.151Z"
   },
   {
    "duration": 16,
    "start_time": "2021-12-10T05:46:08.027Z"
   },
   {
    "duration": 12,
    "start_time": "2021-12-10T05:46:08.045Z"
   },
   {
    "duration": 1979,
    "start_time": "2021-12-10T05:46:37.587Z"
   },
   {
    "duration": 3,
    "start_time": "2021-12-10T05:46:39.567Z"
   },
   {
    "duration": 1692,
    "start_time": "2021-12-10T05:46:39.572Z"
   },
   {
    "duration": 40,
    "start_time": "2021-12-10T05:46:50.290Z"
   },
   {
    "duration": 10,
    "start_time": "2021-12-10T05:46:50.332Z"
   },
   {
    "duration": 16513,
    "start_time": "2021-12-10T05:46:50.351Z"
   },
   {
    "duration": 767,
    "start_time": "2021-12-10T05:47:06.866Z"
   },
   {
    "duration": 5,
    "start_time": "2021-12-10T05:47:07.636Z"
   },
   {
    "duration": 5,
    "start_time": "2021-12-10T05:49:05.772Z"
   },
   {
    "duration": 19,
    "start_time": "2021-12-10T07:00:15.666Z"
   },
   {
    "duration": 3,
    "start_time": "2021-12-10T07:00:16.428Z"
   },
   {
    "duration": 2135,
    "start_time": "2021-12-10T07:00:16.820Z"
   },
   {
    "duration": 36,
    "start_time": "2021-12-10T07:00:18.957Z"
   },
   {
    "duration": 8,
    "start_time": "2021-12-10T07:00:18.996Z"
   },
   {
    "duration": 7,
    "start_time": "2021-12-10T07:00:32.596Z"
   },
   {
    "duration": 2198,
    "start_time": "2021-12-10T07:01:40.256Z"
   },
   {
    "duration": 3,
    "start_time": "2021-12-10T07:01:42.455Z"
   },
   {
    "duration": 1688,
    "start_time": "2021-12-10T07:01:42.460Z"
   },
   {
    "duration": 17,
    "start_time": "2021-12-10T07:01:44.150Z"
   },
   {
    "duration": 9,
    "start_time": "2021-12-10T07:01:46.253Z"
   },
   {
    "duration": 13025,
    "start_time": "2021-12-10T07:01:48.302Z"
   },
   {
    "duration": 3,
    "start_time": "2021-12-10T07:02:01.329Z"
   },
   {
    "duration": 29,
    "start_time": "2021-12-10T07:02:21.912Z"
   },
   {
    "duration": 6,
    "start_time": "2021-12-10T07:02:24.949Z"
   },
   {
    "duration": 5,
    "start_time": "2021-12-10T07:02:46.088Z"
   },
   {
    "duration": 4,
    "start_time": "2021-12-10T07:05:37.481Z"
   },
   {
    "duration": 39,
    "start_time": "2021-12-10T07:05:38.692Z"
   },
   {
    "duration": 821,
    "start_time": "2021-12-10T07:05:41.253Z"
   },
   {
    "duration": 4,
    "start_time": "2021-12-10T07:05:52.012Z"
   },
   {
    "duration": 802,
    "start_time": "2021-12-10T07:06:11.779Z"
   },
   {
    "duration": 83,
    "start_time": "2021-12-10T07:06:25.181Z"
   },
   {
    "duration": 1048,
    "start_time": "2021-12-10T07:06:29.232Z"
   },
   {
    "duration": 4,
    "start_time": "2021-12-10T07:06:32.153Z"
   },
   {
    "duration": 6,
    "start_time": "2021-12-10T07:07:00.894Z"
   },
   {
    "duration": 5,
    "start_time": "2021-12-10T07:15:54.044Z"
   },
   {
    "duration": 1360,
    "start_time": "2021-12-10T07:16:13.902Z"
   },
   {
    "duration": 3,
    "start_time": "2021-12-10T07:16:21.171Z"
   },
   {
    "duration": 3,
    "start_time": "2021-12-10T07:16:23.721Z"
   },
   {
    "duration": 3,
    "start_time": "2021-12-10T07:16:32.072Z"
   },
   {
    "duration": 3,
    "start_time": "2021-12-10T07:16:34.573Z"
   },
   {
    "duration": 3,
    "start_time": "2021-12-10T07:16:39.584Z"
   },
   {
    "duration": 3,
    "start_time": "2021-12-10T07:16:41.964Z"
   },
   {
    "duration": 3,
    "start_time": "2021-12-10T07:16:45.943Z"
   },
   {
    "duration": 4,
    "start_time": "2021-12-10T07:16:56.011Z"
   },
   {
    "duration": 3,
    "start_time": "2021-12-10T07:16:57.932Z"
   },
   {
    "duration": 4,
    "start_time": "2021-12-10T07:17:03.061Z"
   },
   {
    "duration": 3,
    "start_time": "2021-12-10T07:17:07.009Z"
   },
   {
    "duration": 8,
    "start_time": "2021-12-10T07:17:13.192Z"
   },
   {
    "duration": 3,
    "start_time": "2021-12-10T07:17:16.202Z"
   },
   {
    "duration": 3,
    "start_time": "2021-12-10T07:17:24.471Z"
   },
   {
    "duration": 4,
    "start_time": "2021-12-10T07:17:27.398Z"
   },
   {
    "duration": 5,
    "start_time": "2021-12-10T07:17:56.412Z"
   },
   {
    "duration": 55,
    "start_time": "2021-12-10T07:17:57.594Z"
   },
   {
    "duration": 4,
    "start_time": "2021-12-10T07:17:57.771Z"
   },
   {
    "duration": 470,
    "start_time": "2021-12-10T07:19:52.395Z"
   },
   {
    "duration": 259,
    "start_time": "2021-12-10T07:21:14.218Z"
   },
   {
    "duration": 261,
    "start_time": "2021-12-10T07:21:39.154Z"
   },
   {
    "duration": 250,
    "start_time": "2021-12-10T07:21:57.910Z"
   },
   {
    "duration": 97,
    "start_time": "2021-12-10T07:22:01.271Z"
   },
   {
    "duration": 5,
    "start_time": "2021-12-10T07:22:17.493Z"
   },
   {
    "duration": 6654,
    "start_time": "2021-12-10T07:23:39.856Z"
   },
   {
    "duration": 320,
    "start_time": "2021-12-10T07:23:58.680Z"
   },
   {
    "duration": 797,
    "start_time": "2021-12-10T07:24:14.761Z"
   },
   {
    "duration": 5081,
    "start_time": "2021-12-10T07:24:47.688Z"
   },
   {
    "duration": 105,
    "start_time": "2021-12-10T07:25:31.610Z"
   },
   {
    "duration": 87,
    "start_time": "2021-12-10T07:25:36.620Z"
   },
   {
    "duration": 83,
    "start_time": "2021-12-10T07:25:42.453Z"
   },
   {
    "duration": 89,
    "start_time": "2021-12-10T07:25:46.792Z"
   },
   {
    "duration": 2362,
    "start_time": "2021-12-10T07:26:14.416Z"
   },
   {
    "duration": 336,
    "start_time": "2021-12-10T07:26:27.280Z"
   },
   {
    "duration": 81,
    "start_time": "2021-12-10T07:26:48.860Z"
   },
   {
    "duration": 82,
    "start_time": "2021-12-10T07:26:54.398Z"
   },
   {
    "duration": 79,
    "start_time": "2021-12-10T07:27:16.682Z"
   },
   {
    "duration": 5321,
    "start_time": "2021-12-10T07:27:34.122Z"
   },
   {
    "duration": 466,
    "start_time": "2021-12-10T07:27:48.580Z"
   },
   {
    "duration": 4355,
    "start_time": "2021-12-10T07:28:00.365Z"
   },
   {
    "duration": 119,
    "start_time": "2021-12-10T07:28:04.723Z"
   },
   {
    "duration": 13,
    "start_time": "2021-12-10T07:28:04.831Z"
   },
   {
    "duration": -3,
    "start_time": "2021-12-10T07:28:04.848Z"
   },
   {
    "duration": -28,
    "start_time": "2021-12-10T07:28:04.874Z"
   },
   {
    "duration": -44,
    "start_time": "2021-12-10T07:28:04.891Z"
   },
   {
    "duration": -55,
    "start_time": "2021-12-10T07:28:04.903Z"
   },
   {
    "duration": -71,
    "start_time": "2021-12-10T07:28:04.919Z"
   },
   {
    "duration": -77,
    "start_time": "2021-12-10T07:28:04.926Z"
   },
   {
    "duration": -82,
    "start_time": "2021-12-10T07:28:04.932Z"
   },
   {
    "duration": -86,
    "start_time": "2021-12-10T07:28:04.937Z"
   },
   {
    "duration": -90,
    "start_time": "2021-12-10T07:28:04.942Z"
   },
   {
    "duration": -95,
    "start_time": "2021-12-10T07:28:04.948Z"
   },
   {
    "duration": -99,
    "start_time": "2021-12-10T07:28:04.952Z"
   },
   {
    "duration": -105,
    "start_time": "2021-12-10T07:28:04.959Z"
   },
   {
    "duration": -112,
    "start_time": "2021-12-10T07:28:04.967Z"
   },
   {
    "duration": -119,
    "start_time": "2021-12-10T07:28:04.975Z"
   },
   {
    "duration": -125,
    "start_time": "2021-12-10T07:28:04.982Z"
   },
   {
    "duration": -131,
    "start_time": "2021-12-10T07:28:04.989Z"
   },
   {
    "duration": -134,
    "start_time": "2021-12-10T07:28:04.993Z"
   },
   {
    "duration": -138,
    "start_time": "2021-12-10T07:28:04.998Z"
   },
   {
    "duration": -141,
    "start_time": "2021-12-10T07:28:05.001Z"
   },
   {
    "duration": -144,
    "start_time": "2021-12-10T07:28:05.005Z"
   },
   {
    "duration": -146,
    "start_time": "2021-12-10T07:28:05.008Z"
   },
   {
    "duration": -150,
    "start_time": "2021-12-10T07:28:05.013Z"
   },
   {
    "duration": -153,
    "start_time": "2021-12-10T07:28:05.017Z"
   },
   {
    "duration": -157,
    "start_time": "2021-12-10T07:28:05.022Z"
   },
   {
    "duration": -163,
    "start_time": "2021-12-10T07:28:05.029Z"
   },
   {
    "duration": -166,
    "start_time": "2021-12-10T07:28:05.033Z"
   },
   {
    "duration": 94,
    "start_time": "2021-12-10T07:28:40.799Z"
   },
   {
    "duration": 2745,
    "start_time": "2021-12-10T07:28:44.407Z"
   },
   {
    "duration": 4398,
    "start_time": "2021-12-10T07:28:47.154Z"
   },
   {
    "duration": 311,
    "start_time": "2021-12-10T07:28:51.554Z"
   },
   {
    "duration": 431,
    "start_time": "2021-12-10T07:28:58.751Z"
   },
   {
    "duration": 84,
    "start_time": "2021-12-10T07:29:06.981Z"
   },
   {
    "duration": 1288,
    "start_time": "2021-12-10T07:29:09.648Z"
   },
   {
    "duration": 833,
    "start_time": "2021-12-10T07:29:30.628Z"
   },
   {
    "duration": 385,
    "start_time": "2021-12-10T07:29:44.381Z"
   },
   {
    "duration": 256,
    "start_time": "2021-12-10T07:29:59.361Z"
   },
   {
    "duration": 3,
    "start_time": "2021-12-10T07:29:59.866Z"
   },
   {
    "duration": 271,
    "start_time": "2021-12-10T07:30:00.241Z"
   },
   {
    "duration": 253,
    "start_time": "2021-12-10T07:30:00.522Z"
   },
   {
    "duration": -13,
    "start_time": "2021-12-10T07:30:00.790Z"
   },
   {
    "duration": 253,
    "start_time": "2021-12-10T07:30:00.816Z"
   },
   {
    "duration": -30,
    "start_time": "2021-12-10T07:30:01.100Z"
   },
   {
    "duration": 1483,
    "start_time": "2021-12-10T07:30:01.132Z"
   },
   {
    "duration": 164,
    "start_time": "2021-12-10T07:30:02.617Z"
   },
   {
    "duration": 167,
    "start_time": "2021-12-10T07:30:02.783Z"
   },
   {
    "duration": 10,
    "start_time": "2021-12-10T07:30:07.555Z"
   },
   {
    "duration": 345,
    "start_time": "2021-12-10T07:30:07.567Z"
   },
   {
    "duration": 79,
    "start_time": "2021-12-10T07:30:53.801Z"
   },
   {
    "duration": 95,
    "start_time": "2021-12-10T07:30:56.576Z"
   },
   {
    "duration": 10934,
    "start_time": "2021-12-10T07:31:08.111Z"
   },
   {
    "duration": 344,
    "start_time": "2021-12-10T07:31:22.280Z"
   },
   {
    "duration": 4174,
    "start_time": "2021-12-10T07:31:34.676Z"
   },
   {
    "duration": 333,
    "start_time": "2021-12-10T07:31:42.741Z"
   },
   {
    "duration": 324,
    "start_time": "2021-12-10T07:31:49.021Z"
   },
   {
    "duration": 639,
    "start_time": "2021-12-10T07:32:38.231Z"
   },
   {
    "duration": 4124,
    "start_time": "2021-12-10T10:49:22.053Z"
   },
   {
    "duration": 3679,
    "start_time": "2021-12-10T10:49:26.180Z"
   },
   {
    "duration": 6927,
    "start_time": "2021-12-10T10:49:29.863Z"
   },
   {
    "duration": 5,
    "start_time": "2021-12-10T10:49:36.795Z"
   },
   {
    "duration": 1141,
    "start_time": "2021-12-10T10:49:36.803Z"
   },
   {
    "duration": 540,
    "start_time": "2021-12-10T10:49:37.946Z"
   },
   {
    "duration": -29,
    "start_time": "2021-12-10T10:49:38.518Z"
   },
   {
    "duration": -32,
    "start_time": "2021-12-10T10:49:38.523Z"
   },
   {
    "duration": -34,
    "start_time": "2021-12-10T10:49:38.526Z"
   },
   {
    "duration": -36,
    "start_time": "2021-12-10T10:49:38.529Z"
   },
   {
    "duration": -39,
    "start_time": "2021-12-10T10:49:38.533Z"
   },
   {
    "duration": -42,
    "start_time": "2021-12-10T10:49:38.537Z"
   },
   {
    "duration": -45,
    "start_time": "2021-12-10T10:49:38.541Z"
   },
   {
    "duration": -49,
    "start_time": "2021-12-10T10:49:38.545Z"
   },
   {
    "duration": -51,
    "start_time": "2021-12-10T10:49:38.548Z"
   },
   {
    "duration": -53,
    "start_time": "2021-12-10T10:49:38.551Z"
   },
   {
    "duration": -55,
    "start_time": "2021-12-10T10:49:38.554Z"
   },
   {
    "duration": -57,
    "start_time": "2021-12-10T10:49:38.557Z"
   },
   {
    "duration": -59,
    "start_time": "2021-12-10T10:49:38.560Z"
   },
   {
    "duration": -62,
    "start_time": "2021-12-10T10:49:38.564Z"
   },
   {
    "duration": -64,
    "start_time": "2021-12-10T10:49:38.567Z"
   },
   {
    "duration": -67,
    "start_time": "2021-12-10T10:49:38.571Z"
   },
   {
    "duration": -70,
    "start_time": "2021-12-10T10:49:38.575Z"
   },
   {
    "duration": -73,
    "start_time": "2021-12-10T10:49:38.579Z"
   },
   {
    "duration": -74,
    "start_time": "2021-12-10T10:49:38.582Z"
   },
   {
    "duration": -79,
    "start_time": "2021-12-10T10:49:38.588Z"
   },
   {
    "duration": -81,
    "start_time": "2021-12-10T10:49:38.592Z"
   },
   {
    "duration": -85,
    "start_time": "2021-12-10T10:49:38.597Z"
   },
   {
    "duration": -88,
    "start_time": "2021-12-10T10:49:38.601Z"
   },
   {
    "duration": -92,
    "start_time": "2021-12-10T10:49:38.606Z"
   },
   {
    "duration": -94,
    "start_time": "2021-12-10T10:49:38.610Z"
   },
   {
    "duration": -97,
    "start_time": "2021-12-10T10:49:38.614Z"
   },
   {
    "duration": 18189,
    "start_time": "2021-12-10T10:49:54.641Z"
   },
   {
    "duration": 5796,
    "start_time": "2021-12-10T10:50:12.834Z"
   },
   {
    "duration": 5,
    "start_time": "2021-12-10T10:50:18.634Z"
   },
   {
    "duration": 4,
    "start_time": "2021-12-10T10:50:20.452Z"
   },
   {
    "duration": 6336,
    "start_time": "2021-12-10T10:55:53.377Z"
   },
   {
    "duration": 5119,
    "start_time": "2021-12-10T10:55:59.717Z"
   },
   {
    "duration": 7482,
    "start_time": "2021-12-10T10:56:04.839Z"
   },
   {
    "duration": 602,
    "start_time": "2021-12-10T10:56:12.325Z"
   },
   {
    "duration": 3,
    "start_time": "2021-12-10T10:56:12.930Z"
   },
   {
    "duration": 8,
    "start_time": "2021-12-10T10:56:12.936Z"
   },
   {
    "duration": 4428,
    "start_time": "2021-12-10T10:56:12.960Z"
   },
   {
    "duration": 4,
    "start_time": "2021-12-10T10:56:17.394Z"
   },
   {
    "duration": 5,
    "start_time": "2021-12-10T10:56:17.401Z"
   },
   {
    "duration": 5421,
    "start_time": "2021-12-10T10:56:17.408Z"
   },
   {
    "duration": 39,
    "start_time": "2021-12-10T10:56:22.831Z"
   },
   {
    "duration": 15,
    "start_time": "2021-12-10T10:56:22.873Z"
   },
   {
    "duration": 18222,
    "start_time": "2021-12-10T10:56:22.891Z"
   },
   {
    "duration": 4,
    "start_time": "2021-12-10T10:56:41.116Z"
   },
   {
    "duration": 53,
    "start_time": "2021-12-10T10:56:41.123Z"
   },
   {
    "duration": 2379,
    "start_time": "2021-12-10T10:56:41.180Z"
   },
   {
    "duration": 5,
    "start_time": "2021-12-10T10:56:43.562Z"
   },
   {
    "duration": 957,
    "start_time": "2021-12-10T10:56:43.570Z"
   },
   {
    "duration": 31,
    "start_time": "2021-12-10T10:56:44.499Z"
   },
   {
    "duration": 27,
    "start_time": "2021-12-10T10:56:44.504Z"
   },
   {
    "duration": 20,
    "start_time": "2021-12-10T10:56:44.513Z"
   },
   {
    "duration": 8,
    "start_time": "2021-12-10T10:56:44.527Z"
   },
   {
    "duration": 5,
    "start_time": "2021-12-10T10:56:44.531Z"
   },
   {
    "duration": 1,
    "start_time": "2021-12-10T10:56:44.536Z"
   },
   {
    "duration": -4,
    "start_time": "2021-12-10T10:56:44.543Z"
   },
   {
    "duration": -9,
    "start_time": "2021-12-10T10:56:44.549Z"
   },
   {
    "duration": -13,
    "start_time": "2021-12-10T10:56:44.555Z"
   },
   {
    "duration": -18,
    "start_time": "2021-12-10T10:56:44.562Z"
   },
   {
    "duration": -23,
    "start_time": "2021-12-10T10:56:44.568Z"
   },
   {
    "duration": -26,
    "start_time": "2021-12-10T10:56:44.573Z"
   },
   {
    "duration": -29,
    "start_time": "2021-12-10T10:56:44.577Z"
   },
   {
    "duration": -32,
    "start_time": "2021-12-10T10:56:44.581Z"
   },
   {
    "duration": 4,
    "start_time": "2021-12-10T10:57:43.303Z"
   },
   {
    "duration": 421,
    "start_time": "2021-12-10T10:57:44.602Z"
   },
   {
    "duration": 518,
    "start_time": "2021-12-10T10:58:04.134Z"
   },
   {
    "duration": 175,
    "start_time": "2021-12-10T10:58:08.197Z"
   },
   {
    "duration": 19,
    "start_time": "2021-12-10T10:58:16.401Z"
   },
   {
    "duration": 968,
    "start_time": "2021-12-10T10:58:20.892Z"
   },
   {
    "duration": 6,
    "start_time": "2021-12-10T10:59:42.363Z"
   },
   {
    "duration": 23,
    "start_time": "2021-12-10T10:59:47.232Z"
   },
   {
    "duration": 153,
    "start_time": "2021-12-10T11:00:21.008Z"
   },
   {
    "duration": 35,
    "start_time": "2021-12-10T11:00:56.296Z"
   },
   {
    "duration": 138,
    "start_time": "2021-12-10T11:01:11.161Z"
   },
   {
    "duration": 136,
    "start_time": "2021-12-10T11:01:24.130Z"
   },
   {
    "duration": 14,
    "start_time": "2021-12-10T11:01:26.185Z"
   },
   {
    "duration": 1355,
    "start_time": "2021-12-10T11:01:29.412Z"
   },
   {
    "duration": 6766,
    "start_time": "2021-12-10T14:37:56.464Z"
   },
   {
    "duration": 3831,
    "start_time": "2021-12-10T14:38:03.233Z"
   },
   {
    "duration": 7014,
    "start_time": "2021-12-10T14:38:07.067Z"
   },
   {
    "duration": 1450,
    "start_time": "2021-12-10T14:38:14.084Z"
   },
   {
    "duration": 3,
    "start_time": "2021-12-10T14:38:15.536Z"
   },
   {
    "duration": 6,
    "start_time": "2021-12-10T14:38:15.542Z"
   },
   {
    "duration": 24910,
    "start_time": "2021-12-10T14:38:15.551Z"
   },
   {
    "duration": 6,
    "start_time": "2021-12-10T14:38:40.467Z"
   },
   {
    "duration": 13,
    "start_time": "2021-12-10T14:38:40.478Z"
   },
   {
    "duration": 9211,
    "start_time": "2021-12-10T14:38:40.494Z"
   },
   {
    "duration": 33,
    "start_time": "2021-12-10T14:38:49.707Z"
   },
   {
    "duration": 37,
    "start_time": "2021-12-10T14:38:49.743Z"
   },
   {
    "duration": 21165,
    "start_time": "2021-12-10T14:38:49.782Z"
   },
   {
    "duration": 286,
    "start_time": "2021-12-10T14:39:10.949Z"
   },
   {
    "duration": 168,
    "start_time": "2021-12-10T14:39:11.238Z"
   },
   {
    "duration": 15,
    "start_time": "2021-12-10T14:39:11.408Z"
   },
   {
    "duration": 1103,
    "start_time": "2021-12-10T14:39:11.426Z"
   },
   {
    "duration": 5,
    "start_time": "2021-12-10T14:39:12.532Z"
   },
   {
    "duration": 55,
    "start_time": "2021-12-10T14:39:12.540Z"
   },
   {
    "duration": 39,
    "start_time": "2021-12-10T14:39:12.598Z"
   },
   {
    "duration": 85,
    "start_time": "2021-12-10T14:39:12.640Z"
   },
   {
    "duration": 5,
    "start_time": "2021-12-10T14:39:12.727Z"
   },
   {
    "duration": 12,
    "start_time": "2021-12-10T14:39:12.736Z"
   },
   {
    "duration": 31,
    "start_time": "2021-12-10T14:39:12.751Z"
   },
   {
    "duration": 2451,
    "start_time": "2021-12-10T14:39:12.784Z"
   },
   {
    "duration": 5,
    "start_time": "2021-12-10T14:39:15.237Z"
   },
   {
    "duration": 208627,
    "start_time": "2021-12-10T14:39:15.244Z"
   },
   {
    "duration": 410,
    "start_time": "2021-12-10T14:42:43.873Z"
   },
   {
    "duration": 5,
    "start_time": "2021-12-10T14:42:44.281Z"
   },
   {
    "duration": 0,
    "start_time": "2021-12-10T14:42:44.288Z"
   },
   {
    "duration": -9,
    "start_time": "2021-12-10T14:42:44.298Z"
   },
   {
    "duration": -14,
    "start_time": "2021-12-10T14:42:44.305Z"
   },
   {
    "duration": -20,
    "start_time": "2021-12-10T14:42:44.312Z"
   },
   {
    "duration": 15,
    "start_time": "2021-12-10T14:42:58.035Z"
   },
   {
    "duration": 317,
    "start_time": "2021-12-10T14:43:40.428Z"
   },
   {
    "duration": 325,
    "start_time": "2021-12-10T14:43:43.504Z"
   },
   {
    "duration": 322810,
    "start_time": "2021-12-10T14:44:52.107Z"
   },
   {
    "duration": 371,
    "start_time": "2021-12-10T14:52:23.336Z"
   },
   {
    "duration": 312,
    "start_time": "2021-12-10T14:52:25.861Z"
   },
   {
    "duration": 6330,
    "start_time": "2021-12-10T14:52:39.023Z"
   },
   {
    "duration": 3335,
    "start_time": "2021-12-10T14:52:45.356Z"
   },
   {
    "duration": 8730,
    "start_time": "2021-12-10T14:52:48.694Z"
   },
   {
    "duration": 1184,
    "start_time": "2021-12-10T14:52:57.428Z"
   },
   {
    "duration": 3,
    "start_time": "2021-12-10T14:52:58.614Z"
   },
   {
    "duration": 9,
    "start_time": "2021-12-10T14:52:58.620Z"
   },
   {
    "duration": 3766,
    "start_time": "2021-12-10T14:52:58.632Z"
   },
   {
    "duration": 3,
    "start_time": "2021-12-10T14:53:02.403Z"
   },
   {
    "duration": 21,
    "start_time": "2021-12-10T14:53:02.409Z"
   },
   {
    "duration": 5235,
    "start_time": "2021-12-10T14:53:02.432Z"
   },
   {
    "duration": 31,
    "start_time": "2021-12-10T14:53:07.669Z"
   },
   {
    "duration": 16,
    "start_time": "2021-12-10T14:53:07.703Z"
   },
   {
    "duration": 1165,
    "start_time": "2021-12-10T14:53:07.722Z"
   },
   {
    "duration": 243,
    "start_time": "2021-12-10T14:53:08.889Z"
   },
   {
    "duration": 15,
    "start_time": "2021-12-10T14:53:09.134Z"
   },
   {
    "duration": 1063,
    "start_time": "2021-12-10T14:53:09.152Z"
   },
   {
    "duration": 5,
    "start_time": "2021-12-10T14:53:10.218Z"
   },
   {
    "duration": 42,
    "start_time": "2021-12-10T14:53:10.225Z"
   },
   {
    "duration": 40,
    "start_time": "2021-12-10T14:53:10.270Z"
   },
   {
    "duration": 61,
    "start_time": "2021-12-10T14:53:10.312Z"
   },
   {
    "duration": 5,
    "start_time": "2021-12-10T14:53:10.375Z"
   },
   {
    "duration": 3,
    "start_time": "2021-12-10T14:53:10.383Z"
   },
   {
    "duration": 10,
    "start_time": "2021-12-10T14:53:10.391Z"
   },
   {
    "duration": 2341,
    "start_time": "2021-12-10T14:53:10.404Z"
   },
   {
    "duration": 3,
    "start_time": "2021-12-10T14:53:12.748Z"
   },
   {
    "duration": 19801,
    "start_time": "2021-12-10T14:53:12.753Z"
   },
   {
    "duration": 10,
    "start_time": "2021-12-10T14:55:16.954Z"
   },
   {
    "duration": 962,
    "start_time": "2021-12-10T14:56:15.199Z"
   },
   {
    "duration": 6,
    "start_time": "2021-12-10T14:56:57.985Z"
   },
   {
    "duration": 6,
    "start_time": "2021-12-10T14:57:04.060Z"
   },
   {
    "duration": 5,
    "start_time": "2021-12-10T14:57:05.246Z"
   },
   {
    "duration": 20,
    "start_time": "2021-12-10T14:57:12.667Z"
   },
   {
    "duration": 5,
    "start_time": "2021-12-10T14:57:57.396Z"
   },
   {
    "duration": 13,
    "start_time": "2021-12-10T14:58:36.275Z"
   },
   {
    "duration": 6,
    "start_time": "2021-12-10T14:58:48.833Z"
   },
   {
    "duration": 5,
    "start_time": "2021-12-10T14:59:09.434Z"
   },
   {
    "duration": 5,
    "start_time": "2021-12-10T14:59:14.756Z"
   },
   {
    "duration": 4,
    "start_time": "2021-12-10T14:59:17.307Z"
   },
   {
    "duration": 4,
    "start_time": "2021-12-10T14:59:19.736Z"
   },
   {
    "duration": 11,
    "start_time": "2021-12-10T14:59:24.872Z"
   },
   {
    "duration": 12,
    "start_time": "2021-12-10T14:59:30.045Z"
   },
   {
    "duration": 304,
    "start_time": "2021-12-10T14:59:42.116Z"
   },
   {
    "duration": 15,
    "start_time": "2021-12-10T15:00:15.544Z"
   },
   {
    "duration": 41,
    "start_time": "2021-12-10T15:04:58.511Z"
   },
   {
    "duration": 5,
    "start_time": "2021-12-10T15:05:00.823Z"
   },
   {
    "duration": 34,
    "start_time": "2021-12-10T15:05:14.824Z"
   },
   {
    "duration": 370,
    "start_time": "2021-12-10T15:05:31.783Z"
   },
   {
    "duration": 29680,
    "start_time": "2021-12-10T15:05:51.787Z"
   },
   {
    "duration": 33458,
    "start_time": "2021-12-10T15:06:25.951Z"
   },
   {
    "duration": 956,
    "start_time": "2021-12-10T15:43:40.812Z"
   },
   {
    "duration": 102,
    "start_time": "2021-12-10T15:44:00.150Z"
   },
   {
    "duration": 183,
    "start_time": "2021-12-10T15:44:04.448Z"
   },
   {
    "duration": 8,
    "start_time": "2021-12-10T15:44:14.541Z"
   },
   {
    "duration": 333,
    "start_time": "2021-12-10T15:44:38.812Z"
   },
   {
    "duration": 725,
    "start_time": "2021-12-10T15:44:42.684Z"
   },
   {
    "duration": 668,
    "start_time": "2021-12-10T15:47:29.385Z"
   },
   {
    "duration": 113,
    "start_time": "2021-12-10T15:47:37.888Z"
   },
   {
    "duration": 630,
    "start_time": "2021-12-10T15:47:40.976Z"
   },
   {
    "duration": -790,
    "start_time": "2021-12-10T15:51:40.711Z"
   },
   {
    "duration": -796,
    "start_time": "2021-12-10T15:51:40.719Z"
   },
   {
    "duration": 656,
    "start_time": "2021-12-10T15:51:42.892Z"
   },
   {
    "duration": -792,
    "start_time": "2021-12-10T15:51:44.343Z"
   },
   {
    "duration": 30,
    "start_time": "2021-12-10T15:51:59.567Z"
   },
   {
    "duration": 8,
    "start_time": "2021-12-10T15:52:00.797Z"
   },
   {
    "duration": 6758,
    "start_time": "2021-12-10T19:12:51.230Z"
   },
   {
    "duration": 3595,
    "start_time": "2021-12-10T19:12:57.991Z"
   },
   {
    "duration": 6568,
    "start_time": "2021-12-10T19:13:01.589Z"
   },
   {
    "duration": 1119,
    "start_time": "2021-12-10T19:13:08.160Z"
   },
   {
    "duration": 23713,
    "start_time": "2021-12-10T19:13:09.282Z"
   },
   {
    "duration": 5,
    "start_time": "2021-12-10T19:13:32.997Z"
   },
   {
    "duration": 3719,
    "start_time": "2021-12-10T19:13:33.004Z"
   },
   {
    "duration": 42,
    "start_time": "2021-12-10T19:13:36.727Z"
   },
   {
    "duration": 25,
    "start_time": "2021-12-10T19:13:36.772Z"
   },
   {
    "duration": 1577,
    "start_time": "2021-12-10T19:13:36.800Z"
   },
   {
    "duration": 159,
    "start_time": "2021-12-10T19:13:38.379Z"
   },
   {
    "duration": 37,
    "start_time": "2021-12-10T19:13:38.540Z"
   },
   {
    "duration": 1082,
    "start_time": "2021-12-10T19:13:38.579Z"
   },
   {
    "duration": 6,
    "start_time": "2021-12-10T19:13:39.664Z"
   },
   {
    "duration": 53,
    "start_time": "2021-12-10T19:13:39.673Z"
   },
   {
    "duration": 21,
    "start_time": "2021-12-10T19:13:39.729Z"
   },
   {
    "duration": 32651,
    "start_time": "2021-12-10T19:13:39.753Z"
   },
   {
    "duration": 42750,
    "start_time": "2021-12-10T19:14:12.406Z"
   },
   {
    "duration": -174,
    "start_time": "2021-12-10T19:14:55.333Z"
   },
   {
    "duration": -176,
    "start_time": "2021-12-10T19:14:55.337Z"
   },
   {
    "duration": -176,
    "start_time": "2021-12-10T19:14:55.340Z"
   },
   {
    "duration": -178,
    "start_time": "2021-12-10T19:14:55.344Z"
   },
   {
    "duration": -180,
    "start_time": "2021-12-10T19:14:55.348Z"
   },
   {
    "duration": -180,
    "start_time": "2021-12-10T19:14:55.351Z"
   },
   {
    "duration": -182,
    "start_time": "2021-12-10T19:14:55.355Z"
   },
   {
    "duration": -228,
    "start_time": "2021-12-10T19:14:55.403Z"
   },
   {
    "duration": -258,
    "start_time": "2021-12-10T19:14:55.435Z"
   },
   {
    "duration": -265,
    "start_time": "2021-12-10T19:14:55.445Z"
   },
   {
    "duration": -265,
    "start_time": "2021-12-10T19:14:55.447Z"
   },
   {
    "duration": -264,
    "start_time": "2021-12-10T19:14:55.449Z"
   },
   {
    "duration": 346,
    "start_time": "2021-12-10T19:15:03.022Z"
   },
   {
    "duration": 289,
    "start_time": "2021-12-10T19:15:08.507Z"
   },
   {
    "duration": 295,
    "start_time": "2021-12-10T19:15:14.030Z"
   },
   {
    "duration": 717,
    "start_time": "2021-12-10T19:15:20.558Z"
   },
   {
    "duration": 431,
    "start_time": "2021-12-10T19:15:34.470Z"
   },
   {
    "duration": 307,
    "start_time": "2021-12-10T19:21:28.300Z"
   },
   {
    "duration": 340,
    "start_time": "2021-12-10T19:21:39.949Z"
   },
   {
    "duration": 306,
    "start_time": "2021-12-10T19:22:13.422Z"
   },
   {
    "duration": 1231,
    "start_time": "2021-12-10T19:22:20.139Z"
   },
   {
    "duration": 299,
    "start_time": "2021-12-10T19:22:30.448Z"
   },
   {
    "duration": 1806,
    "start_time": "2021-12-10T19:26:01.837Z"
   },
   {
    "duration": 89,
    "start_time": "2021-12-10T19:26:09.229Z"
   },
   {
    "duration": 235,
    "start_time": "2021-12-10T19:26:28.183Z"
   },
   {
    "duration": 20,
    "start_time": "2021-12-10T19:27:03.241Z"
   },
   {
    "duration": 12,
    "start_time": "2021-12-10T19:27:34.806Z"
   },
   {
    "duration": 430841,
    "start_time": "2021-12-10T19:29:15.780Z"
   },
   {
    "duration": 3330,
    "start_time": "2021-12-10T19:36:45.567Z"
   },
   {
    "duration": 96,
    "start_time": "2021-12-10T19:37:08.883Z"
   },
   {
    "duration": 118274,
    "start_time": "2021-12-10T19:37:15.056Z"
   },
   {
    "duration": 29,
    "start_time": "2021-12-10T19:40:28.260Z"
   },
   {
    "duration": 56,
    "start_time": "2021-12-10T19:40:34.636Z"
   },
   {
    "duration": 58,
    "start_time": "2021-12-10T19:41:04.418Z"
   },
   {
    "duration": 20,
    "start_time": "2021-12-10T19:41:12.233Z"
   },
   {
    "duration": 355,
    "start_time": "2021-12-10T19:41:35.095Z"
   },
   {
    "duration": 50,
    "start_time": "2021-12-10T19:41:42.942Z"
   },
   {
    "duration": 20,
    "start_time": "2021-12-10T19:41:54.476Z"
   },
   {
    "duration": 18,
    "start_time": "2021-12-10T19:42:02.523Z"
   },
   {
    "duration": 24,
    "start_time": "2021-12-10T19:42:03.204Z"
   },
   {
    "duration": 909500,
    "start_time": "2021-12-10T19:42:23.934Z"
   },
   {
    "duration": 11784,
    "start_time": "2021-12-10T20:02:04.986Z"
   },
   {
    "duration": 9,
    "start_time": "2021-12-10T20:02:24.791Z"
   },
   {
    "duration": 16206,
    "start_time": "2021-12-10T20:02:35.286Z"
   },
   {
    "duration": 7986,
    "start_time": "2021-12-10T20:02:59.124Z"
   },
   {
    "duration": 271,
    "start_time": "2021-12-10T20:03:07.113Z"
   },
   {
    "duration": 34472,
    "start_time": "2021-12-10T20:03:12.667Z"
   },
   {
    "duration": 1850,
    "start_time": "2021-12-10T20:03:47.142Z"
   }
  ],
  "kernelspec": {
   "display_name": "Python 3 (ipykernel)",
   "language": "python",
   "name": "python3"
  },
  "language_info": {
   "codemirror_mode": {
    "name": "ipython",
    "version": 3
   },
   "file_extension": ".py",
   "mimetype": "text/x-python",
   "name": "python",
   "nbconvert_exporter": "python",
   "pygments_lexer": "ipython3",
   "version": "3.9.5"
  },
  "toc": {
   "base_numbering": 1,
   "nav_menu": {},
   "number_sections": true,
   "sideBar": true,
   "skip_h1_title": true,
   "title_cell": "Содержание",
   "title_sidebar": "Contents",
   "toc_cell": true,
   "toc_position": {
    "height": "calc(100% - 180px)",
    "left": "10px",
    "top": "150px",
    "width": "302.391px"
   },
   "toc_section_display": true,
   "toc_window_display": false
  }
 },
 "nbformat": 4,
 "nbformat_minor": 2
}
