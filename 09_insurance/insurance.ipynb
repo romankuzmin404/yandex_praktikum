{
 "cells": [
  {
   "cell_type": "markdown",
   "metadata": {},
   "source": [
    "<div style=\"background: #cceeaa; padding: 5px; border: 1px solid green; border-radius: 5px;\">\n",
    "    <font color='green'> <b><u>КОММЕНТАРИЙ РЕВЬЮЕРА</u></b>\n",
    "\n",
    "Роман, доброго дня! рад приветствовать тебя вновь) <br />\n",
    "(А дальше - шаблонная часть, как ты заметил по другим спринтам)<br>\n",
    "<br />\n",
    "Меня зовут Николай Шавлюго. <br />И на этом этапе твоего движения к новой профессии от меня будут комментарии по написанному коду. <br />Чтобы меньше \"мусорить эфир\" и чтобы максимально наглядно отделяться от основного кода, есть предложение условиться в некоторых обозначениях:<br /> <br />\n",
    "<u><b>ТАКОЙ ШРИФТ</b></u> - всегда начало комментария <br />\n",
    "<font color='green'>такой шрифт</font> - комментарии о том, что всё ОК <br/>\n",
    "<font color='orange'>такой шрифт</font> - комментарии о том, что всё ОК по результату,<br> однако есть на что обратить внимание в плане применения техник, или есть способы сделать более короткий или быстрый код <br/>\n",
    "<font color='red'>такой шрифт</font> - комментарии о том, что есть критичный момент, влияющий на бизнес-результат проекта.<br/>\n",
    "</font><br /><br />\n",
    "<font color='green'>Моей целью является не \"уличить\" в не знании, а просто высказать сверху твоих знаний - свой опыт, что бы ты мог использовать его для своего дальнейшего успеха) И очень здорово будет, если тебе удастся задавать вопросы, да и вообще - всячески доставать меня, если я по каким-то причинам не приму проект:) При этом, из своего опыта скажу, хорошо и важно, когда переписка ревьюера и студента - сохраняется на следующие проекты и даже на будущую практическую деятельность.<br>\n",
    "<BR> В ПУТЬ!<br>"
   ]
  },
  {
   "cell_type": "markdown",
   "metadata": {
    "toc": true
   },
   "source": [
    "<h1>Содержание<span class=\"tocSkip\"></span></h1>\n",
    "<div class=\"toc\"><ul class=\"toc-item\"><li><span><a href=\"#Загрузка-данных\" data-toc-modified-id=\"Загрузка-данных-1\"><span class=\"toc-item-num\">1&nbsp;&nbsp;</span>Загрузка данных</a></span></li><li><span><a href=\"#Умножение-матриц\" data-toc-modified-id=\"Умножение-матриц-2\"><span class=\"toc-item-num\">2&nbsp;&nbsp;</span>Умножение матриц</a></span></li><li><span><a href=\"#Алгоритм-преобразования\" data-toc-modified-id=\"Алгоритм-преобразования-3\"><span class=\"toc-item-num\">3&nbsp;&nbsp;</span>Алгоритм преобразования</a></span></li><li><span><a href=\"#Проверка-алгоритма\" data-toc-modified-id=\"Проверка-алгоритма-4\"><span class=\"toc-item-num\">4&nbsp;&nbsp;</span>Проверка алгоритма</a></span></li><li><span><a href=\"#Чек-лист-проверки\" data-toc-modified-id=\"Чек-лист-проверки-5\"><span class=\"toc-item-num\">5&nbsp;&nbsp;</span>Чек-лист проверки</a></span></li></ul></div>"
   ]
  },
  {
   "cell_type": "markdown",
   "metadata": {
    "toc": true
   },
   "source": [
    "<h1>Содержание<span class=\"tocSkip\"></span></h1>\n",
    "<div class=\"toc\"><ul class=\"toc-item\"><li><span><a href=\"#Загрузка-данных\" data-toc-modified-id=\"Загрузка-данных-1\"><span class=\"toc-item-num\">1&nbsp;&nbsp;</span>Загрузка данных</a></span></li><li><span><a href=\"#Умножение-матриц\" data-toc-modified-id=\"Умножение-матриц-2\"><span class=\"toc-item-num\">2&nbsp;&nbsp;</span>Умножение матриц</a></span></li><li><span><a href=\"#Алгоритм-преобразования\" data-toc-modified-id=\"Алгоритм-преобразования-3\"><span class=\"toc-item-num\">3&nbsp;&nbsp;</span>Алгоритм преобразования</a></span></li><li><span><a href=\"#Проверка-алгоритма\" data-toc-modified-id=\"Проверка-алгоритма-4\"><span class=\"toc-item-num\">4&nbsp;&nbsp;</span>Проверка алгоритма</a></span></li><li><span><a href=\"#Чек-лист-проверки\" data-toc-modified-id=\"Чек-лист-проверки-5\"><span class=\"toc-item-num\">5&nbsp;&nbsp;</span>Чек-лист проверки</a></span></li></ul></div>"
   ]
  },
  {
   "cell_type": "markdown",
   "metadata": {},
   "source": [
    "# Защита персональных данных клиентов"
   ]
  },
  {
   "cell_type": "markdown",
   "metadata": {},
   "source": [
    "Вам нужно защитить данные клиентов страховой компании «Хоть потоп». Разработайте такой метод преобразования данных, чтобы по ним было сложно восстановить персональную информацию. Обоснуйте корректность его работы.\n",
    "\n",
    "Нужно защитить данные, чтобы при преобразовании качество моделей машинного обучения не ухудшилось. Подбирать наилучшую модель не требуется."
   ]
  },
  {
   "cell_type": "code",
   "execution_count": 34,
   "metadata": {},
   "outputs": [],
   "source": [
    "import pandas as pd\n",
    "import numpy as np\n",
    "from sklearn.metrics import r2_score\n",
    "import random"
   ]
  },
  {
   "cell_type": "markdown",
   "metadata": {},
   "source": [
    "## Загрузка данных"
   ]
  },
  {
   "cell_type": "markdown",
   "metadata": {},
   "source": [
    "Загрузим данные:"
   ]
  },
  {
   "cell_type": "code",
   "execution_count": 35,
   "metadata": {},
   "outputs": [],
   "source": [
    "df = pd.read_csv('https://code.s3.yandex.net/datasets/insurance.csv') "
   ]
  },
  {
   "cell_type": "code",
   "execution_count": 36,
   "metadata": {},
   "outputs": [
    {
     "data": {
      "text/html": [
       "<div>\n",
       "<style scoped>\n",
       "    .dataframe tbody tr th:only-of-type {\n",
       "        vertical-align: middle;\n",
       "    }\n",
       "\n",
       "    .dataframe tbody tr th {\n",
       "        vertical-align: top;\n",
       "    }\n",
       "\n",
       "    .dataframe thead th {\n",
       "        text-align: right;\n",
       "    }\n",
       "</style>\n",
       "<table border=\"1\" class=\"dataframe\">\n",
       "  <thead>\n",
       "    <tr style=\"text-align: right;\">\n",
       "      <th></th>\n",
       "      <th>Пол</th>\n",
       "      <th>Возраст</th>\n",
       "      <th>Зарплата</th>\n",
       "      <th>Члены семьи</th>\n",
       "      <th>Страховые выплаты</th>\n",
       "    </tr>\n",
       "  </thead>\n",
       "  <tbody>\n",
       "    <tr>\n",
       "      <td>0</td>\n",
       "      <td>1</td>\n",
       "      <td>41.0</td>\n",
       "      <td>49600.0</td>\n",
       "      <td>1</td>\n",
       "      <td>0</td>\n",
       "    </tr>\n",
       "    <tr>\n",
       "      <td>1</td>\n",
       "      <td>0</td>\n",
       "      <td>46.0</td>\n",
       "      <td>38000.0</td>\n",
       "      <td>1</td>\n",
       "      <td>1</td>\n",
       "    </tr>\n",
       "    <tr>\n",
       "      <td>2</td>\n",
       "      <td>0</td>\n",
       "      <td>29.0</td>\n",
       "      <td>21000.0</td>\n",
       "      <td>0</td>\n",
       "      <td>0</td>\n",
       "    </tr>\n",
       "    <tr>\n",
       "      <td>3</td>\n",
       "      <td>0</td>\n",
       "      <td>21.0</td>\n",
       "      <td>41700.0</td>\n",
       "      <td>2</td>\n",
       "      <td>0</td>\n",
       "    </tr>\n",
       "    <tr>\n",
       "      <td>4</td>\n",
       "      <td>1</td>\n",
       "      <td>28.0</td>\n",
       "      <td>26100.0</td>\n",
       "      <td>0</td>\n",
       "      <td>0</td>\n",
       "    </tr>\n",
       "  </tbody>\n",
       "</table>\n",
       "</div>"
      ],
      "text/plain": [
       "   Пол  Возраст  Зарплата  Члены семьи  Страховые выплаты\n",
       "0    1     41.0   49600.0            1                  0\n",
       "1    0     46.0   38000.0            1                  1\n",
       "2    0     29.0   21000.0            0                  0\n",
       "3    0     21.0   41700.0            2                  0\n",
       "4    1     28.0   26100.0            0                  0"
      ]
     },
     "execution_count": 36,
     "metadata": {},
     "output_type": "execute_result"
    }
   ],
   "source": [
    "df.head()"
   ]
  },
  {
   "cell_type": "code",
   "execution_count": 37,
   "metadata": {},
   "outputs": [
    {
     "name": "stdout",
     "output_type": "stream",
     "text": [
      "<class 'pandas.core.frame.DataFrame'>\n",
      "RangeIndex: 5000 entries, 0 to 4999\n",
      "Data columns (total 5 columns):\n",
      "Пол                  5000 non-null int64\n",
      "Возраст              5000 non-null float64\n",
      "Зарплата             5000 non-null float64\n",
      "Члены семьи          5000 non-null int64\n",
      "Страховые выплаты    5000 non-null int64\n",
      "dtypes: float64(2), int64(3)\n",
      "memory usage: 195.4 KB\n"
     ]
    }
   ],
   "source": [
    "df.info()"
   ]
  },
  {
   "cell_type": "markdown",
   "metadata": {},
   "source": [
    "Переименуем столбцы"
   ]
  },
  {
   "cell_type": "code",
   "execution_count": 38,
   "metadata": {},
   "outputs": [],
   "source": [
    "df.columns = ['sex', 'age', 'income', 'family', 'payout']"
   ]
  },
  {
   "cell_type": "markdown",
   "metadata": {},
   "source": [
    "Изменим тип данных"
   ]
  },
  {
   "cell_type": "code",
   "execution_count": 39,
   "metadata": {},
   "outputs": [],
   "source": [
    "df.age = df.age.astype(int)\n",
    "df.income = df.income.astype(int)"
   ]
  },
  {
   "cell_type": "markdown",
   "metadata": {},
   "source": [
    "Посмотрим основные статистические характеристики"
   ]
  },
  {
   "cell_type": "code",
   "execution_count": 40,
   "metadata": {},
   "outputs": [
    {
     "data": {
      "text/html": [
       "<div>\n",
       "<style scoped>\n",
       "    .dataframe tbody tr th:only-of-type {\n",
       "        vertical-align: middle;\n",
       "    }\n",
       "\n",
       "    .dataframe tbody tr th {\n",
       "        vertical-align: top;\n",
       "    }\n",
       "\n",
       "    .dataframe thead th {\n",
       "        text-align: right;\n",
       "    }\n",
       "</style>\n",
       "<table border=\"1\" class=\"dataframe\">\n",
       "  <thead>\n",
       "    <tr style=\"text-align: right;\">\n",
       "      <th></th>\n",
       "      <th>count</th>\n",
       "      <th>mean</th>\n",
       "      <th>std</th>\n",
       "      <th>min</th>\n",
       "      <th>25%</th>\n",
       "      <th>50%</th>\n",
       "      <th>75%</th>\n",
       "      <th>max</th>\n",
       "    </tr>\n",
       "  </thead>\n",
       "  <tbody>\n",
       "    <tr>\n",
       "      <td>sex</td>\n",
       "      <td>5000.0</td>\n",
       "      <td>0.4990</td>\n",
       "      <td>0.500049</td>\n",
       "      <td>0.0</td>\n",
       "      <td>0.0</td>\n",
       "      <td>0.0</td>\n",
       "      <td>1.0</td>\n",
       "      <td>1.0</td>\n",
       "    </tr>\n",
       "    <tr>\n",
       "      <td>age</td>\n",
       "      <td>5000.0</td>\n",
       "      <td>30.9528</td>\n",
       "      <td>8.440807</td>\n",
       "      <td>18.0</td>\n",
       "      <td>24.0</td>\n",
       "      <td>30.0</td>\n",
       "      <td>37.0</td>\n",
       "      <td>65.0</td>\n",
       "    </tr>\n",
       "    <tr>\n",
       "      <td>income</td>\n",
       "      <td>5000.0</td>\n",
       "      <td>39916.3594</td>\n",
       "      <td>9900.082063</td>\n",
       "      <td>5300.0</td>\n",
       "      <td>33300.0</td>\n",
       "      <td>40200.0</td>\n",
       "      <td>46600.0</td>\n",
       "      <td>79000.0</td>\n",
       "    </tr>\n",
       "    <tr>\n",
       "      <td>family</td>\n",
       "      <td>5000.0</td>\n",
       "      <td>1.1942</td>\n",
       "      <td>1.091387</td>\n",
       "      <td>0.0</td>\n",
       "      <td>0.0</td>\n",
       "      <td>1.0</td>\n",
       "      <td>2.0</td>\n",
       "      <td>6.0</td>\n",
       "    </tr>\n",
       "    <tr>\n",
       "      <td>payout</td>\n",
       "      <td>5000.0</td>\n",
       "      <td>0.1480</td>\n",
       "      <td>0.463183</td>\n",
       "      <td>0.0</td>\n",
       "      <td>0.0</td>\n",
       "      <td>0.0</td>\n",
       "      <td>0.0</td>\n",
       "      <td>5.0</td>\n",
       "    </tr>\n",
       "  </tbody>\n",
       "</table>\n",
       "</div>"
      ],
      "text/plain": [
       "         count        mean          std     min      25%      50%      75%  \\\n",
       "sex     5000.0      0.4990     0.500049     0.0      0.0      0.0      1.0   \n",
       "age     5000.0     30.9528     8.440807    18.0     24.0     30.0     37.0   \n",
       "income  5000.0  39916.3594  9900.082063  5300.0  33300.0  40200.0  46600.0   \n",
       "family  5000.0      1.1942     1.091387     0.0      0.0      1.0      2.0   \n",
       "payout  5000.0      0.1480     0.463183     0.0      0.0      0.0      0.0   \n",
       "\n",
       "            max  \n",
       "sex         1.0  \n",
       "age        65.0  \n",
       "income  79000.0  \n",
       "family      6.0  \n",
       "payout      5.0  "
      ]
     },
     "execution_count": 40,
     "metadata": {},
     "output_type": "execute_result"
    }
   ],
   "source": [
    "df.describe().T"
   ]
  },
  {
   "cell_type": "markdown",
   "metadata": {},
   "source": [
    "<div style=\"background: #cceeaa; padding: 5px; border: 1px solid green; border-radius: 5px;\">\n",
    "    <font color='green'> <b><u>КОММЕНТАРИЙ РЕВЬЮЕРА</u></b>\n",
    "</font>\n",
    "<font color='green'><br>\n",
    "Данные на базе) ОК, хорошо, когда есть аналитическая культура - обязательно делать первичный анализ данных, не смотря на проект)"
   ]
  },
  {
   "cell_type": "code",
   "execution_count": null,
   "metadata": {},
   "outputs": [],
   "source": []
  },
  {
   "cell_type": "markdown",
   "metadata": {},
   "source": [
    "## Умножение матриц"
   ]
  },
  {
   "cell_type": "markdown",
   "metadata": {},
   "source": [
    "В этом задании вы можете записывать формулы в *Jupyter Notebook.*\n",
    "\n",
    "Чтобы записать формулу внутри текста, окружите её символами доллара \\\\$; если снаружи —  двойными символами \\\\$\\\\$. Эти формулы записываются на языке вёрстки *LaTeX.* \n",
    "\n",
    "Для примера мы записали формулы линейной регрессии. Можете их скопировать и отредактировать, чтобы решить задачу.\n",
    "\n",
    "Работать в *LaTeX* необязательно."
   ]
  },
  {
   "cell_type": "markdown",
   "metadata": {},
   "source": [
    "Обозначения:\n",
    "\n",
    "- $X$ — матрица признаков (нулевой столбец состоит из единиц)\n",
    "\n",
    "- $y$ — вектор целевого признака\n",
    "\n",
    "- $P$ — матрица, на которую умножаются признаки\n",
    "\n",
    "- $w$ — вектор весов линейной регрессии (нулевой элемент равен сдвигу)"
   ]
  },
  {
   "cell_type": "markdown",
   "metadata": {},
   "source": [
    "Предсказания:\n",
    "\n",
    "$$\n",
    "a = Xw\n",
    "$$\n",
    "\n",
    "Задача обучения:\n",
    "\n",
    "$$\n",
    "w = \\arg\\min_w MSE(Xw, y)\n",
    "$$\n",
    "\n",
    "Формула обучения:\n",
    "\n",
    "$$\n",
    "w = (X^T X)^{-1} X^T y\n",
    "$$"
   ]
  },
  {
   "cell_type": "markdown",
   "metadata": {},
   "source": [
    "Создадим модель, сохраним её в переменной model и обучим. Найдем её предсказания на обучающей выборке и сохраним их в переменной predictions. Вычислим по MSE и напечатаем на экране значение метрики R2"
   ]
  },
  {
   "cell_type": "markdown",
   "metadata": {},
   "source": [
    "<div style=\"background: #cceeaa; padding: 5px; border: 1px solid green; border-radius: 5px;\">\n",
    "    <font color='green'> <b><u>КОММЕНТАРИЙ РЕВЬЮЕРА</u></b>\n",
    "</font>\n",
    "<font color='red'><br>\n",
    "У матриц есть такие свойста<br>\n",
    "- ($A(BC) = (AB)C$); это свойство ассоциативности (сочетательности) матриц<br>\n",
    "- $(P^T)^{-1} = (P^{-1})^T$; то есть: транспортированная обратная матрица есть обратная матрица транспортированная <br>\n",
    "- $(AB)^T = B^T A^T$; то есть: транспонированное произведение матриц равно произведению транспонированных матриц <br>\n",
    "- $(AB)^{-1} = B^{-1} A^{-1}$,то есть: обратная матрица от произведения двух матриц равна обратной матрицы B(второй) к обратной матрице А(первой)<br>\n",
    "- $P P^{-1} = E$ ; умножение матрицы на свою обратную - есть единичная матрица.<br>\n",
    "    \n",
    "И вот ожидается алгебраическое доказательсто на их основе.<br>\n",
    "    \n",
    "Через выражение (при подстановке $w' = ((XP)^T XP)^{-1} (XP)^T y$) надо дойти до $w' = P^{-1}w$ , где $w = (X^T X)^{-1} X^T y$ Это и будет доказательством. При этом $ (X^T X)^{-1}$ - не надо раскрывать, так как для неквадратных матриц ($X$ и $X^T$) обратных матриц не существует"
   ]
  },
  {
   "cell_type": "markdown",
   "metadata": {},
   "source": [
    "<div style=\"background: #fffff; padding: 5px; border: 10px solid red; border-radius: 5px;\">\n",
    "    <font color='green'> <b><u>КОММЕНТАРИЙ СТУДЕНТА</u></b>\n",
    "</font>\n",
    "<font color='red'><br>Не понял их просто перемножить необходимо? Неочевидность задания это так задумано? Или я где то проглядел этот момент<br>\n"
   ]
  },
  {
   "cell_type": "markdown",
   "metadata": {},
   "source": [
    "<div style=\"background: #cceeaa; padding: 5px; border: 1px solid green; border-radius: 5px;\">\n",
    "    <font color='green'> <b><u>КОММЕНТАРИЙ РЕВЬЮЕРА 2</u></b>\n",
    "</font>\n",
    "<font color='red'><br>Привет, Роман!<br>\n",
    "И перемножить тоже) вот ниже приведу само алгебраическое доказательство без 2-х строк. Вот так оно и будет выглядеть)<br>\n",
    "    \n",
    "В общем-то вот это надо тебе наладить и вроде всё  порядке. "
   ]
  },
  {
   "cell_type": "markdown",
   "metadata": {},
   "source": [
    "$$\n",
    "w' = ((XP)^T XP)^{-1} (XP)^T y\n",
    "$$\n",
    "$$\n",
    "w' = (P^T (X^T X) P)^{-1} (XP)^T y\n",
    "$$\n",
    "$$\n",
    ".......\n",
    "$$\n",
    "$$\n",
    ".......\n",
    "$$\n",
    "$$\n",
    "w' = P^{-1} (X^T X)^{-1} E X^T y\n",
    "$$"
   ]
  },
  {
   "cell_type": "code",
   "execution_count": 41,
   "metadata": {},
   "outputs": [],
   "source": [
    "features = df.drop('payout', axis=1)\n",
    "target = df['payout']"
   ]
  },
  {
   "cell_type": "code",
   "execution_count": 42,
   "metadata": {},
   "outputs": [
    {
     "name": "stdout",
     "output_type": "stream",
     "text": [
      "0.42494550308169177\n"
     ]
    }
   ],
   "source": [
    "class LinearRegression:\n",
    "    def fit(self, train_features, train_target):\n",
    "        X = np.concatenate((np.ones((train_features.shape[0], 1)), train_features), axis=1)\n",
    "        y = train_target\n",
    "        w =  np.linalg.inv(X.T @ X) @ X.T @ y\n",
    "        \n",
    "        self.w = w[1:]\n",
    "        self.w0 = w[0]\n",
    "\n",
    "    def predict(self, test_features):\n",
    "        return test_features.dot(self.w) + self.w0\n",
    "    \n",
    "model = LinearRegression()\n",
    "model.fit(features, target)\n",
    "predictions = model.predict(features)\n",
    "print(r2_score(target, predictions))"
   ]
  },
  {
   "cell_type": "code",
   "execution_count": 43,
   "metadata": {},
   "outputs": [
    {
     "data": {
      "text/plain": [
       "array([ 7.92580563e-03,  3.57083050e-02, -1.70081903e-07, -1.35676627e-02])"
      ]
     },
     "execution_count": 43,
     "metadata": {},
     "output_type": "execute_result"
    }
   ],
   "source": [
    "model.w"
   ]
  },
  {
   "cell_type": "code",
   "execution_count": 44,
   "metadata": {},
   "outputs": [
    {
     "data": {
      "text/plain": [
       "-0.9382354469755936"
      ]
     },
     "execution_count": 44,
     "metadata": {},
     "output_type": "execute_result"
    }
   ],
   "source": [
    "model.w0"
   ]
  },
  {
   "cell_type": "code",
   "execution_count": null,
   "metadata": {},
   "outputs": [],
   "source": []
  },
  {
   "cell_type": "markdown",
   "metadata": {},
   "source": [
    "Выполним умножение матриц для проверки их свойств:"
   ]
  },
  {
   "cell_type": "markdown",
   "metadata": {},
   "source": [
    "$$\n",
    "w' = ((XP)^T XP)^{-1} (XP)^T y\n",
    "$$\n",
    "$$\n",
    "w' = (P^T (X^T X) P)^{-1} (XP)^T y\n",
    "$$\n",
    "$$\n",
    "w' = (P^T P)^{-1} (X^T X)^{-1} (XP)^T y\n",
    "$$\n",
    "$$\n",
    "w' = P^{-1} (X^T X)^{-1}(P^{-1}P)^{T} X^T y\n",
    "$$\n",
    "$$\n",
    "w' = P^{-1} (X^T X)^{-1} E X^T y\n",
    "$$"
   ]
  },
  {
   "cell_type": "markdown",
   "metadata": {},
   "source": [
    "<div style=\"background: #fffff; padding: 5px; border: 10px solid red; border-radius: 5px;\">\n",
    "    <font color='green'> <b><u>КОММЕНТАРИЙ СТУДЕНТА</u></b>\n",
    "</font>\n",
    "<font color='red'><br> 1,2,3 при проверке отличаются почему то, 4 и 5 равны. Посмотри пожалуйста что не так делаю <br>\n",
    "\n"
   ]
  },
  {
   "cell_type": "markdown",
   "metadata": {},
   "source": [
    "<div style=\"background: #cceeaa; padding: 5px; border: 1px solid green; border-radius: 5px;\">\n",
    "    <font color='green'> <b><u>КОММЕНТАРИЙ РЕВЬЮЕРА 3</u></b>\n",
    "</font>\n",
    "<font color='green'><br>Доброго вечера, Роман.<br>\n",
    "Почти так. Вот ниже оставил окончательный вараинт.<br>\n",
    "    \n",
    "Т.е. всё в общем-то. пришли к концу с этим) Отсылаю на ознакомление."
   ]
  },
  {
   "cell_type": "markdown",
   "metadata": {},
   "source": [
    "$$\n",
    "w' = ((XP)^T XP)^{-1} (XP)^T y\n",
    "$$\n",
    "$$\n",
    "w' = (P^T (X^T X) P)^{-1} (XP)^T y\n",
    "$$\n",
    "$$\n",
    "w' = (P^T (X^T X) P)^{-1} P^T X^T y\n",
    "$$\n",
    "$$\n",
    "w' = P^{-1} (X^T X)^{-1} (P^T)^{-1} P^T X^T y\n",
    "$$\n",
    "$$\n",
    "w' = P^{-1} (X^T X)^{-1} E X^T y\n",
    "$$"
   ]
  },
  {
   "cell_type": "markdown",
   "metadata": {},
   "source": [
    "<div style=\"background: #fffff; padding: 5px; border: 10px solid red; border-radius: 5px;\">\n",
    "    <font color='green'> <b><u>КОММЕНТАРИЙ СТУДЕНТА 2</u></b>\n",
    "</font>\n",
    "<font color='red'><br>вот это я деградировал Николай, а ведь 10 лет назад у меня отлично автоматом было по вышке все 4 семестра<br>\n",
    "\n"
   ]
  },
  {
   "cell_type": "markdown",
   "metadata": {},
   "source": [
    "<div style=\"background: #cceeaa; padding: 5px; border: 1px solid green; border-radius: 5px;\">\n",
    "    <font color='green'> <b><u>КОММЕНТАРИЙ РЕВЬЮЕРА 4</u></b>\n",
    "</font>\n",
    "<font color='green'><br>\n",
    "Абсолютно не согласен) Наш голова (или что там в ней...) устроена так, что мы хорошо помним только то, в чем часто пользуемся. Надо признать, что линейная матричная алгебра - это не \"завсегдатый\" нашего модельного застолья:)<br>\n",
    "    \n",
    "Поэтому, тут всё занономерно)<br>\n",
    "Но теперь всё - ты справился со всем этим.<br>\n",
    "Да и весь проект - на уровне, на самом деле.<br>\n",
    "    \n",
    "Если рассматривать передачу данных третьим лицам, то к преимуществам данного подхода можно отнести, в первую очередь, ощутимую экономию ресурсов по сравнению с некоторыми известными алгоритмами шифрования, в особенности это касается ассиметричных алгоритмов с достаточно длинными ключами (AES, RSA), которые требуют много процессорного времени.<br><br>\n",
    "    \n",
    "К главному недостатку подхода можно отнести увеличение сложности проверки на вырожденность преобразования с ростом количества признаков в выборке. В рассмотренном случае необходимо подобрать подходящую матрицу размера  4×4 . Однако, если признаки будут исчисляться тысячами, что в теории всегда надо положить, то расчет соответствующих определителей может быть крайне ресурсозатратным. Но и эту проблему можно будет решить)<br><br>\n",
    "    \n",
    "Если есть время и желание, то можно воту этот маткриал просмотреть:<br>\n",
    "Обзоры по применению криптографии в машинном обучении: https://arxiv.org/pdf/1902.04109.pdf, https://www.researchgate.net/publication/342746786_Some_Applications_of_Machine_Learning_in_Cryptography\n",
    "Подробнее про аналогичный алгоритм: https://www.cs.cmu.edu/~rjhall/JOS_revised_May_31a.pdf<br><br>\n",
    "<font color='green'><font color='green'>\n",
    "Спасибо) Успешного дальнейшего обучения"
   ]
  },
  {
   "cell_type": "code",
   "execution_count": null,
   "metadata": {},
   "outputs": [],
   "source": []
  },
  {
   "cell_type": "code",
   "execution_count": 45,
   "metadata": {},
   "outputs": [
    {
     "data": {
      "text/plain": [
       "(5, 5)"
      ]
     },
     "execution_count": 45,
     "metadata": {},
     "output_type": "execute_result"
    }
   ],
   "source": [
    "X = np.concatenate((np.ones((features.shape[0], 1)), features), axis=1)\n",
    "y = target\n",
    "P_sq = np.random.random((5, 5))\n",
    "P_sq.shape"
   ]
  },
  {
   "cell_type": "code",
   "execution_count": 46,
   "metadata": {},
   "outputs": [
    {
     "data": {
      "text/plain": [
       "array([-9.38235447e-01,  7.92580563e-03,  3.57083050e-02, -1.70081903e-07,\n",
       "       -1.35676627e-02])"
      ]
     },
     "execution_count": 46,
     "metadata": {},
     "output_type": "execute_result"
    }
   ],
   "source": [
    "w = np.linalg.inv(X.T @ X) @ X.T @ y\n",
    "w"
   ]
  },
  {
   "cell_type": "code",
   "execution_count": 47,
   "metadata": {},
   "outputs": [
    {
     "data": {
      "text/plain": [
       "array([-1.38534319, -4.10963316,  1.15275009,  1.29317599,  1.5981363 ])"
      ]
     },
     "execution_count": 47,
     "metadata": {},
     "output_type": "execute_result"
    }
   ],
   "source": [
    "#1\n",
    "w1 = np.linalg.inv((X @ P_sq).T @ (X @ P_sq)) @ (X @ P_sq).T @ y \n",
    "w1"
   ]
  },
  {
   "cell_type": "code",
   "execution_count": 48,
   "metadata": {},
   "outputs": [
    {
     "data": {
      "text/plain": [
       "array([-1.38551314, -4.11013348,  1.15289633,  1.29332878,  1.59833606])"
      ]
     },
     "execution_count": 48,
     "metadata": {},
     "output_type": "execute_result"
    }
   ],
   "source": [
    "#2\n",
    "w1 = np.linalg.inv(P_sq.T @ (X.T @ X) @ P_sq) @ (X @ P_sq).T @ y \n",
    "w1"
   ]
  },
  {
   "cell_type": "markdown",
   "metadata": {},
   "source": [
    "<div style=\"background: #fffff; padding: 5px; border: 10px solid red; border-radius: 5px;\">\n",
    "    <font color='green'> <b><u>КОММЕНТАРИЙ СТУДЕНТА 2</u></b>\n",
    "</font>\n",
    "<font color='red'><br> А почему веса немного отличаются? <br>\n",
    "\n"
   ]
  },
  {
   "cell_type": "code",
   "execution_count": 52,
   "metadata": {},
   "outputs": [
    {
     "data": {
      "text/plain": [
       "array([-1.38551314, -4.11013348,  1.15289633,  1.29332878,  1.59833606])"
      ]
     },
     "execution_count": 52,
     "metadata": {},
     "output_type": "execute_result"
    }
   ],
   "source": [
    "#3\n",
    "w1 = np.linalg.inv(P_sq.T @ (X.T @ X) @ P_sq) @ (P_sq.T @ X.T) @ y \n",
    "w1"
   ]
  },
  {
   "cell_type": "code",
   "execution_count": 55,
   "metadata": {},
   "outputs": [
    {
     "data": {
      "text/plain": [
       "array([-1.38549627, -4.11008305,  1.15288143,  1.29331363,  1.59831605])"
      ]
     },
     "execution_count": 55,
     "metadata": {},
     "output_type": "execute_result"
    }
   ],
   "source": [
    "#4\n",
    "w1 = np.linalg.inv(P_sq) @ np.linalg.inv(X.T @ X) @ np.linalg.inv(P_sq.T) @ P_sq.T @ X.T @ y \n",
    "w1"
   ]
  },
  {
   "cell_type": "markdown",
   "metadata": {},
   "source": [
    "<div style=\"background: #fffff; padding: 5px; border: 10px solid red; border-radius: 5px;\">\n",
    "    <font color='green'> <b><u>КОММЕНТАРИЙ СТУДЕНТА 2</u></b>\n",
    "</font>\n",
    "<font color='red'><br> и тут отличаются <br>\n",
    "\n"
   ]
  },
  {
   "cell_type": "code",
   "execution_count": 56,
   "metadata": {},
   "outputs": [
    {
     "data": {
      "text/plain": [
       "array([-1.38549627, -4.11008305,  1.15288143,  1.29331363,  1.59831605])"
      ]
     },
     "execution_count": 56,
     "metadata": {},
     "output_type": "execute_result"
    }
   ],
   "source": [
    "#5\n",
    "w1 = np.linalg.inv(P_sq) @ np.linalg.inv(X.T @ X) @ X.T @ y\n",
    "w1"
   ]
  },
  {
   "cell_type": "code",
   "execution_count": null,
   "metadata": {},
   "outputs": [],
   "source": [
    "w1 = np.linalg.inv(P_sq) @ w\n",
    "w1"
   ]
  },
  {
   "cell_type": "markdown",
   "metadata": {},
   "source": [
    "<div style=\"background: #fffff; padding: 5px; border: 10px solid red; border-radius: 5px;\">\n",
    "    <font color='green'> <b><u>КОММЕНТАРИЙ СТУДЕНТА</u></b>\n",
    "</font>\n",
    "<font color='red'><br> перемножил, сравнил, или эти веса надо далее использовать? <br>\n",
    "\n"
   ]
  },
  {
   "cell_type": "markdown",
   "metadata": {},
   "source": [
    "При подстановке $w' = ((XP)^T XP)^{-1} (XP)^T y$) получим $w' = P^{-1}w$ , где $w = (X^T X)^{-1} X^T y$ \n",
    "\n",
    "$w' = $w"
   ]
  },
  {
   "cell_type": "markdown",
   "metadata": {},
   "source": [
    "**Ответ:** r2 = 0.424\n",
    "\n",
    "**Обоснование:** Значение R2 неотрицательное, не равно нулю и не больше единицы. Значит, линейная регрессия работает."
   ]
  },
  {
   "cell_type": "markdown",
   "metadata": {},
   "source": [
    "<div style=\"background: #cceeaa; padding: 5px; border: 1px solid green; border-radius: 5px;\">\n",
    "    <font color='green'> <b><u>КОММЕНТАРИЙ РЕВЬЮЕРА</u></b>\n",
    "</font>\n",
    "<font color='green'><br>ОК)"
   ]
  },
  {
   "cell_type": "markdown",
   "metadata": {},
   "source": [
    "<div style=\"background: #fffff; padding: 5px; border: 10px solid red; border-radius: 5px;\">\n",
    "    <font color='green'> <b><u>КОММЕНТАРИЙ СТУДЕНТА</u></b>\n",
    "</font>\n",
    "<font color='red'><br>))) из тренажера вывод слово в слово, решил что сгодится<br>\n",
    "\n"
   ]
  },
  {
   "cell_type": "markdown",
   "metadata": {},
   "source": [
    "<div style=\"background: #cceeaa; padding: 5px; border: 1px solid green; border-radius: 5px;\">\n",
    "    <font color='green'> <b><u>КОММЕНТАРИЙ РЕВЬЮЕРА 2</u></b>\n",
    "</font>\n",
    "<font color='green'><br>:)"
   ]
  },
  {
   "cell_type": "markdown",
   "metadata": {},
   "source": [
    "## Алгоритм преобразования"
   ]
  },
  {
   "cell_type": "markdown",
   "metadata": {},
   "source": [
    "**Алгоритм**\n",
    "Умножим матрицу признаков на рандомную матрицу"
   ]
  },
  {
   "cell_type": "code",
   "execution_count": null,
   "metadata": {},
   "outputs": [],
   "source": [
    "A = df.values"
   ]
  },
  {
   "cell_type": "code",
   "execution_count": null,
   "metadata": {},
   "outputs": [],
   "source": [
    "A.shape"
   ]
  },
  {
   "cell_type": "code",
   "execution_count": null,
   "metadata": {},
   "outputs": [],
   "source": [
    "P = np.random.random((4, 4))\n",
    "P"
   ]
  },
  {
   "cell_type": "markdown",
   "metadata": {},
   "source": [
    "<div style=\"background: #cceeaa; padding: 5px; border: 1px solid green; border-radius: 5px;\">\n",
    "    <font color='green'> <b><u>КОММЕНТАРИЙ РЕВЬЮЕРА</u></b>\n",
    "</font>\n",
    "<font color='red'><br>ВОт тут, обычно, создают матрицу 4х4. А потом проверяют на обратимость)"
   ]
  },
  {
   "cell_type": "markdown",
   "metadata": {},
   "source": [
    "Квадратная матрица обратима:"
   ]
  },
  {
   "cell_type": "code",
   "execution_count": null,
   "metadata": {},
   "outputs": [],
   "source": [
    "np.linalg.inv(P)"
   ]
  },
  {
   "cell_type": "code",
   "execution_count": null,
   "metadata": {},
   "outputs": [],
   "source": [
    "E = P * np.linalg.inv(P)\n",
    "E / np.linalg.inv(P)"
   ]
  },
  {
   "cell_type": "markdown",
   "metadata": {},
   "source": [
    "Нашли единичную матрицу и доказали алгебраически свойство обратимости"
   ]
  },
  {
   "cell_type": "code",
   "execution_count": null,
   "metadata": {},
   "outputs": [],
   "source": [
    "A[:,:4].shape"
   ]
  },
  {
   "cell_type": "code",
   "execution_count": null,
   "metadata": {},
   "outputs": [],
   "source": [
    "P.shape"
   ]
  },
  {
   "cell_type": "code",
   "execution_count": null,
   "metadata": {},
   "outputs": [],
   "source": [
    "A_coded = A[:,:4] * P[3:,:]\n",
    "A_coded.shape"
   ]
  },
  {
   "cell_type": "markdown",
   "metadata": {},
   "source": [
    "<div style=\"background: #fffff; padding: 5px; border: 10px solid red; border-radius: 5px;\">\n",
    "    <font color='green'> <b><u>КОММЕНТАРИЙ СТУДЕНТА</u></b>\n",
    "</font>\n",
    "<font color='red'><br> ок, 4х4 матрица есть для проверки обратимости, а чтобы зашифровать надо подрезать ее на 1х4 все таки? <br>\n"
   ]
  },
  {
   "cell_type": "markdown",
   "metadata": {},
   "source": [
    "<div style=\"background: #cceeaa; padding: 5px; border: 1px solid green; border-radius: 5px;\">\n",
    "    <font color='green'> <b><u>КОММЕНТАРИЙ РЕВЬЮЕРА 2</u></b>\n",
    "</font>\n",
    "<font color='green'><br>Нет, не надо)"
   ]
  },
  {
   "cell_type": "code",
   "execution_count": null,
   "metadata": {},
   "outputs": [],
   "source": [
    "A_coded"
   ]
  },
  {
   "cell_type": "code",
   "execution_count": null,
   "metadata": {},
   "outputs": [],
   "source": [
    "df_coded = pd.DataFrame(A_coded)\n",
    "df_coded.shape"
   ]
  },
  {
   "cell_type": "markdown",
   "metadata": {},
   "source": [
    "**Обоснование**\n",
    "\n",
    "Данные зашифрованы с помощью рандомной матрицы 1 на 4"
   ]
  },
  {
   "cell_type": "markdown",
   "metadata": {},
   "source": [
    "## Проверка алгоритма"
   ]
  },
  {
   "cell_type": "markdown",
   "metadata": {},
   "source": [
    "Обучим модель на преобразованных признаках:"
   ]
  },
  {
   "cell_type": "code",
   "execution_count": null,
   "metadata": {},
   "outputs": [],
   "source": [
    "features = df_coded.copy()\n",
    "\n",
    "model = LinearRegression()\n",
    "model.fit(features, target)\n",
    "predictions = model.predict(features)\n",
    "print(r2_score(target, predictions))"
   ]
  },
  {
   "cell_type": "markdown",
   "metadata": {},
   "source": [
    "<div style=\"background: #ffeeaa; padding: 5px; border: 1px solid green; border-radius: 5px;\">\n",
    "    <font color='green'> <b><u>КОММЕНТАРИЙ РЕВЬЮЕРА</u></b>\n",
    "</font>\n",
    "<font color='green'><br>Вот так рекомендуют, через копирование создавать:<br>\n",
    "features = df_coded.copy()"
   ]
  },
  {
   "cell_type": "markdown",
   "metadata": {},
   "source": [
    "<div style=\"background: #fffff; padding: 5px; border: 10px solid red; border-radius: 5px;\">\n",
    "    <font color='green'> <b><u>КОММЕНТАРИЙ СТУДЕНТА</u></b>\n",
    "</font>\n",
    "<font color='red'><br>Добавил<br>\n",
    "features = df_coded.copy()"
   ]
  },
  {
   "cell_type": "markdown",
   "metadata": {},
   "source": [
    "**Вывод** алгоритм реализован и проверен, проведено сравнение моделей до и после преобразования: качество не изменилось."
   ]
  },
  {
   "cell_type": "markdown",
   "metadata": {},
   "source": [
    "<div style=\"background: #cceeaa; padding: 5px; border: 1px solid green; border-radius: 5px;\">\n",
    "    <font color='green'> <b><u>КОММЕНТАРИЙ РЕВЬЮЕРА</u></b>\n",
    "</font>\n",
    "<font color='green'><br>\n",
    "Роман, идейно - именно такой движение по всем шагам. Да и сама практическая цель достигнута, можно сказать.<br>\n",
    "Тут всё верно. Есть несколько моментов для дополнений:<br>\n",
    "    \n",
    "1) В разделе \"Умножение матриц\" ожидается алгебраическое доказательство. В тексте постарался описать проблематику.<br>\n",
    "2) Создание матрицы 4х4 и проверка на обратимость<br>\n",
    "<font color='red'><br>\n",
    "Посмотри, пожалуйста)<br><font color='green'><font color='green'>\n",
    "Спасибо) Буду ждать."
   ]
  },
  {
   "cell_type": "code",
   "execution_count": null,
   "metadata": {},
   "outputs": [],
   "source": []
  },
  {
   "cell_type": "code",
   "execution_count": null,
   "metadata": {},
   "outputs": [],
   "source": []
  },
  {
   "cell_type": "markdown",
   "metadata": {},
   "source": [
    "## Чек-лист проверки"
   ]
  },
  {
   "cell_type": "markdown",
   "metadata": {},
   "source": [
    "Поставьте 'x' в выполненных пунктах. Далее нажмите Shift+Enter."
   ]
  },
  {
   "cell_type": "markdown",
   "metadata": {},
   "source": [
    "- [x]  Jupyter Notebook открыт\n",
    "- [x]  Весь код выполняется без ошибок\n",
    "- [x]  Ячейки с кодом расположены в порядке исполнения\n",
    "- [x]  Выполнен шаг 1: данные загружены\n",
    "- [x]  Выполнен шаг 2: получен ответ на вопрос об умножении матриц\n",
    "    - [ ]  Указан правильный вариант ответа\n",
    "    - [ ]  Вариант обоснован\n",
    "- [x]  Выполнен шаг 3: предложен алгоритм преобразования\n",
    "    - [x]  Алгоритм описан\n",
    "    - [x]  Алгоритм обоснован\n",
    "- [x]  Выполнен шаг 4: алгоритм проверен\n",
    "    - [x]  Алгоритм реализован\n",
    "    - [x]  Проведено сравнение качества моделей до и после преобразования"
   ]
  },
  {
   "cell_type": "code",
   "execution_count": null,
   "metadata": {},
   "outputs": [],
   "source": []
  }
 ],
 "metadata": {
  "ExecuteTimeLog": [
   {
    "duration": 996,
    "start_time": "2021-11-21T16:10:48.390Z"
   },
   {
    "duration": 101,
    "start_time": "2021-11-21T16:10:49.391Z"
   },
   {
    "duration": 15,
    "start_time": "2021-11-21T16:10:49.494Z"
   },
   {
    "duration": 8,
    "start_time": "2021-11-21T16:10:49.761Z"
   },
   {
    "duration": 3,
    "start_time": "2021-11-21T16:10:50.368Z"
   },
   {
    "duration": 5,
    "start_time": "2021-11-21T16:10:50.816Z"
   },
   {
    "duration": 26,
    "start_time": "2021-11-21T16:10:51.147Z"
   },
   {
    "duration": 5,
    "start_time": "2021-11-21T16:12:21.567Z"
   },
   {
    "duration": 69,
    "start_time": "2021-11-21T16:12:21.825Z"
   },
   {
    "duration": 2,
    "start_time": "2021-11-21T16:12:52.440Z"
   },
   {
    "duration": 4,
    "start_time": "2021-11-21T16:12:52.900Z"
   },
   {
    "duration": 4,
    "start_time": "2021-11-21T16:12:53.184Z"
   },
   {
    "duration": 4,
    "start_time": "2021-11-21T16:12:53.686Z"
   },
   {
    "duration": 3,
    "start_time": "2021-11-21T16:12:54.142Z"
   },
   {
    "duration": 5,
    "start_time": "2021-11-21T16:12:54.684Z"
   },
   {
    "duration": 5,
    "start_time": "2021-11-21T16:12:55.425Z"
   },
   {
    "duration": 5,
    "start_time": "2021-11-21T16:12:55.952Z"
   },
   {
    "duration": 6,
    "start_time": "2021-11-21T16:13:00.203Z"
   },
   {
    "duration": 108,
    "start_time": "2021-11-21T18:24:21.574Z"
   },
   {
    "duration": 351,
    "start_time": "2021-11-21T18:24:24.455Z"
   },
   {
    "duration": 1396,
    "start_time": "2021-11-21T18:24:30.447Z"
   },
   {
    "duration": 72,
    "start_time": "2021-11-21T18:24:31.846Z"
   },
   {
    "duration": 23,
    "start_time": "2021-11-21T18:24:31.922Z"
   },
   {
    "duration": 13,
    "start_time": "2021-11-21T18:24:31.948Z"
   },
   {
    "duration": 7,
    "start_time": "2021-11-21T18:24:31.964Z"
   },
   {
    "duration": 15,
    "start_time": "2021-11-21T18:24:31.974Z"
   },
   {
    "duration": 59,
    "start_time": "2021-11-21T18:24:31.991Z"
   },
   {
    "duration": 361,
    "start_time": "2021-11-21T18:24:32.053Z"
   },
   {
    "duration": -430,
    "start_time": "2021-11-21T18:24:32.847Z"
   },
   {
    "duration": -431,
    "start_time": "2021-11-21T18:24:32.849Z"
   },
   {
    "duration": -432,
    "start_time": "2021-11-21T18:24:32.851Z"
   },
   {
    "duration": -432,
    "start_time": "2021-11-21T18:24:32.853Z"
   },
   {
    "duration": -434,
    "start_time": "2021-11-21T18:24:32.856Z"
   },
   {
    "duration": -434,
    "start_time": "2021-11-21T18:24:32.857Z"
   },
   {
    "duration": -436,
    "start_time": "2021-11-21T18:24:32.860Z"
   },
   {
    "duration": -587,
    "start_time": "2021-11-21T18:24:33.012Z"
   },
   {
    "duration": -593,
    "start_time": "2021-11-21T18:24:33.020Z"
   },
   {
    "duration": -596,
    "start_time": "2021-11-21T18:24:33.024Z"
   },
   {
    "duration": -597,
    "start_time": "2021-11-21T18:24:33.026Z"
   },
   {
    "duration": 291,
    "start_time": "2021-11-21T18:24:54.458Z"
   },
   {
    "duration": 299,
    "start_time": "2021-11-21T18:25:02.935Z"
   },
   {
    "duration": 4,
    "start_time": "2021-11-21T18:25:18.760Z"
   },
   {
    "duration": 48,
    "start_time": "2021-11-21T18:25:18.767Z"
   },
   {
    "duration": 11,
    "start_time": "2021-11-21T18:25:18.818Z"
   },
   {
    "duration": 10,
    "start_time": "2021-11-21T18:25:18.831Z"
   },
   {
    "duration": 3,
    "start_time": "2021-11-21T18:25:18.843Z"
   },
   {
    "duration": 7,
    "start_time": "2021-11-21T18:25:18.848Z"
   },
   {
    "duration": 42,
    "start_time": "2021-11-21T18:25:18.857Z"
   },
   {
    "duration": 5,
    "start_time": "2021-11-21T18:25:18.929Z"
   },
   {
    "duration": 14,
    "start_time": "2021-11-21T18:25:18.937Z"
   },
   {
    "duration": 92,
    "start_time": "2021-11-21T18:25:18.953Z"
   },
   {
    "duration": 6,
    "start_time": "2021-11-21T18:25:19.130Z"
   },
   {
    "duration": 7,
    "start_time": "2021-11-21T18:25:19.139Z"
   },
   {
    "duration": 6,
    "start_time": "2021-11-21T18:25:19.148Z"
   },
   {
    "duration": 8,
    "start_time": "2021-11-21T18:25:19.156Z"
   },
   {
    "duration": 5,
    "start_time": "2021-11-21T18:25:19.167Z"
   },
   {
    "duration": 55,
    "start_time": "2021-11-21T18:25:19.175Z"
   },
   {
    "duration": 9,
    "start_time": "2021-11-21T18:25:19.233Z"
   },
   {
    "duration": 8,
    "start_time": "2021-11-21T18:25:19.245Z"
   },
   {
    "duration": 10,
    "start_time": "2021-11-21T18:25:19.256Z"
   },
   {
    "duration": 1094,
    "start_time": "2021-11-22T19:43:11.147Z"
   },
   {
    "duration": 89,
    "start_time": "2021-11-22T19:43:12.243Z"
   },
   {
    "duration": 14,
    "start_time": "2021-11-22T19:43:12.335Z"
   },
   {
    "duration": 7,
    "start_time": "2021-11-22T19:43:12.350Z"
   },
   {
    "duration": 3,
    "start_time": "2021-11-22T19:43:12.359Z"
   },
   {
    "duration": 8,
    "start_time": "2021-11-22T19:43:12.364Z"
   },
   {
    "duration": 24,
    "start_time": "2021-11-22T19:43:12.373Z"
   },
   {
    "duration": 3,
    "start_time": "2021-11-22T19:43:12.399Z"
   },
   {
    "duration": 45,
    "start_time": "2021-11-22T19:43:12.404Z"
   },
   {
    "duration": 95,
    "start_time": "2021-11-22T19:43:12.451Z"
   },
   {
    "duration": 5,
    "start_time": "2021-11-22T19:43:12.549Z"
   },
   {
    "duration": 5,
    "start_time": "2021-11-22T19:43:12.556Z"
   },
   {
    "duration": 7,
    "start_time": "2021-11-22T19:43:12.563Z"
   },
   {
    "duration": 77,
    "start_time": "2021-11-22T19:43:12.572Z"
   },
   {
    "duration": 5,
    "start_time": "2021-11-22T19:43:12.651Z"
   },
   {
    "duration": 90,
    "start_time": "2021-11-22T19:43:12.658Z"
   },
   {
    "duration": 4,
    "start_time": "2021-11-22T19:43:12.750Z"
   },
   {
    "duration": 90,
    "start_time": "2021-11-22T19:43:12.756Z"
   },
   {
    "duration": 4,
    "start_time": "2021-11-22T19:43:12.848Z"
   },
   {
    "duration": 5,
    "start_time": "2021-11-22T19:43:12.854Z"
   },
   {
    "duration": 7,
    "start_time": "2021-11-22T19:43:12.945Z"
   },
   {
    "duration": 6,
    "start_time": "2021-11-22T19:43:12.954Z"
   },
   {
    "duration": 4,
    "start_time": "2021-11-22T19:43:13.045Z"
   },
   {
    "duration": 5,
    "start_time": "2021-11-22T19:43:13.051Z"
   },
   {
    "duration": 89,
    "start_time": "2021-11-22T19:43:13.057Z"
   },
   {
    "duration": 25,
    "start_time": "2021-11-22T19:43:13.147Z"
   },
   {
    "duration": 75,
    "start_time": "2021-11-22T19:43:13.174Z"
   },
   {
    "duration": 406,
    "start_time": "2021-11-24T09:05:20.031Z"
   },
   {
    "duration": 1373,
    "start_time": "2021-11-24T09:05:23.733Z"
   },
   {
    "duration": 126,
    "start_time": "2021-11-24T09:05:25.109Z"
   },
   {
    "duration": 23,
    "start_time": "2021-11-24T09:05:25.238Z"
   },
   {
    "duration": 12,
    "start_time": "2021-11-24T09:05:25.265Z"
   },
   {
    "duration": 4,
    "start_time": "2021-11-24T09:05:25.279Z"
   },
   {
    "duration": 17,
    "start_time": "2021-11-24T09:05:25.285Z"
   },
   {
    "duration": 37,
    "start_time": "2021-11-24T09:05:25.304Z"
   },
   {
    "duration": 5,
    "start_time": "2021-11-24T09:05:25.344Z"
   },
   {
    "duration": 148,
    "start_time": "2021-11-24T09:05:25.352Z"
   },
   {
    "duration": 97,
    "start_time": "2021-11-24T09:05:25.508Z"
   },
   {
    "duration": 9,
    "start_time": "2021-11-24T09:05:25.608Z"
   },
   {
    "duration": 13,
    "start_time": "2021-11-24T09:05:25.620Z"
   },
   {
    "duration": 65,
    "start_time": "2021-11-24T09:05:25.636Z"
   },
   {
    "duration": 10,
    "start_time": "2021-11-24T09:05:25.704Z"
   },
   {
    "duration": 99,
    "start_time": "2021-11-24T09:05:25.802Z"
   },
   {
    "duration": 10,
    "start_time": "2021-11-24T09:05:25.905Z"
   },
   {
    "duration": 6,
    "start_time": "2021-11-24T09:05:26.003Z"
   },
   {
    "duration": 94,
    "start_time": "2021-11-24T09:05:26.013Z"
   },
   {
    "duration": 22,
    "start_time": "2021-11-24T09:05:26.109Z"
   },
   {
    "duration": 13,
    "start_time": "2021-11-24T09:05:26.133Z"
   },
   {
    "duration": 55,
    "start_time": "2021-11-24T09:05:26.149Z"
   },
   {
    "duration": 95,
    "start_time": "2021-11-24T09:05:26.207Z"
   },
   {
    "duration": 7,
    "start_time": "2021-11-24T09:05:26.306Z"
   },
   {
    "duration": 6,
    "start_time": "2021-11-24T09:05:26.400Z"
   },
   {
    "duration": 13,
    "start_time": "2021-11-24T09:05:26.409Z"
   },
   {
    "duration": 9,
    "start_time": "2021-11-24T09:05:26.425Z"
   },
   {
    "duration": 167,
    "start_time": "2021-11-24T09:05:26.439Z"
   },
   {
    "duration": 9,
    "start_time": "2021-11-24T09:07:20.031Z"
   },
   {
    "duration": 8,
    "start_time": "2021-11-24T09:07:25.885Z"
   },
   {
    "duration": 8,
    "start_time": "2021-11-24T09:07:26.183Z"
   },
   {
    "duration": 7,
    "start_time": "2021-11-24T09:07:42.211Z"
   },
   {
    "duration": 9,
    "start_time": "2021-11-24T09:07:43.037Z"
   },
   {
    "duration": 9,
    "start_time": "2021-11-24T09:07:44.803Z"
   },
   {
    "duration": 10,
    "start_time": "2021-11-24T09:10:19.484Z"
   },
   {
    "duration": 8,
    "start_time": "2021-11-24T09:11:38.180Z"
   },
   {
    "duration": 6,
    "start_time": "2021-11-24T09:11:42.995Z"
   },
   {
    "duration": 8,
    "start_time": "2021-11-24T09:11:52.368Z"
   },
   {
    "duration": 8,
    "start_time": "2021-11-24T09:11:55.325Z"
   },
   {
    "duration": 10,
    "start_time": "2021-11-24T09:12:21.460Z"
   },
   {
    "duration": 6,
    "start_time": "2021-11-24T09:12:53.718Z"
   },
   {
    "duration": 9,
    "start_time": "2021-11-24T09:12:57.407Z"
   },
   {
    "duration": 8,
    "start_time": "2021-11-24T09:13:15.860Z"
   },
   {
    "duration": 8,
    "start_time": "2021-11-24T09:13:34.204Z"
   },
   {
    "duration": 9,
    "start_time": "2021-11-24T09:13:35.081Z"
   },
   {
    "duration": 8,
    "start_time": "2021-11-24T09:13:37.917Z"
   },
   {
    "duration": 10,
    "start_time": "2021-11-24T10:17:28.247Z"
   },
   {
    "duration": 11,
    "start_time": "2021-11-24T10:17:42.435Z"
   },
   {
    "duration": 15,
    "start_time": "2021-11-24T10:18:16.971Z"
   },
   {
    "duration": 6,
    "start_time": "2021-11-24T10:18:17.127Z"
   },
   {
    "duration": 122,
    "start_time": "2021-11-24T10:30:34.842Z"
   },
   {
    "duration": 8,
    "start_time": "2021-11-24T10:32:03.755Z"
   },
   {
    "duration": 8,
    "start_time": "2021-11-24T10:33:07.291Z"
   },
   {
    "duration": 12,
    "start_time": "2021-11-24T10:33:39.506Z"
   },
   {
    "duration": 8,
    "start_time": "2021-11-24T10:33:44.172Z"
   },
   {
    "duration": 11,
    "start_time": "2021-11-24T10:33:44.610Z"
   },
   {
    "duration": 9,
    "start_time": "2021-11-24T10:33:45.141Z"
   },
   {
    "duration": 9,
    "start_time": "2021-11-24T10:33:45.788Z"
   },
   {
    "duration": 15,
    "start_time": "2021-11-24T10:33:46.497Z"
   },
   {
    "duration": 9,
    "start_time": "2021-11-24T10:33:52.016Z"
   },
   {
    "duration": 1417,
    "start_time": "2021-11-24T13:22:51.400Z"
   },
   {
    "duration": 221,
    "start_time": "2021-11-24T13:22:52.820Z"
   },
   {
    "duration": 21,
    "start_time": "2021-11-24T13:22:53.044Z"
   },
   {
    "duration": 21,
    "start_time": "2021-11-24T13:22:53.068Z"
   },
   {
    "duration": 5,
    "start_time": "2021-11-24T13:22:53.091Z"
   },
   {
    "duration": 24,
    "start_time": "2021-11-24T13:22:53.098Z"
   },
   {
    "duration": 45,
    "start_time": "2021-11-24T13:22:53.124Z"
   },
   {
    "duration": 4,
    "start_time": "2021-11-24T13:22:53.172Z"
   },
   {
    "duration": 120,
    "start_time": "2021-11-24T13:22:53.180Z"
   },
   {
    "duration": 94,
    "start_time": "2021-11-24T13:22:53.308Z"
   },
   {
    "duration": 7,
    "start_time": "2021-11-24T13:22:53.405Z"
   },
   {
    "duration": 8,
    "start_time": "2021-11-24T13:22:53.415Z"
   },
   {
    "duration": 76,
    "start_time": "2021-11-24T13:22:53.425Z"
   },
   {
    "duration": 101,
    "start_time": "2021-11-24T13:22:53.503Z"
   },
   {
    "duration": 98,
    "start_time": "2021-11-24T13:22:53.608Z"
   },
   {
    "duration": 97,
    "start_time": "2021-11-24T13:22:53.709Z"
   },
   {
    "duration": 6,
    "start_time": "2021-11-24T13:22:53.808Z"
   },
   {
    "duration": 11,
    "start_time": "2021-11-24T13:22:53.902Z"
   },
   {
    "duration": 12,
    "start_time": "2021-11-24T13:22:54.002Z"
   },
   {
    "duration": 9,
    "start_time": "2021-11-24T13:22:54.102Z"
   },
   {
    "duration": 93,
    "start_time": "2021-11-24T13:22:54.114Z"
   },
   {
    "duration": 99,
    "start_time": "2021-11-24T13:22:54.210Z"
   },
   {
    "duration": 15,
    "start_time": "2021-11-24T13:22:54.312Z"
   },
   {
    "duration": 73,
    "start_time": "2021-11-24T13:22:54.330Z"
   },
   {
    "duration": 8,
    "start_time": "2021-11-24T13:22:54.406Z"
   },
   {
    "duration": 89,
    "start_time": "2021-11-24T13:22:54.417Z"
   },
   {
    "duration": 89,
    "start_time": "2021-11-24T13:22:54.513Z"
   },
   {
    "duration": 6,
    "start_time": "2021-11-24T13:22:54.604Z"
   },
   {
    "duration": 7,
    "start_time": "2021-11-24T13:22:54.613Z"
   },
   {
    "duration": 11,
    "start_time": "2021-11-24T13:22:54.623Z"
   },
   {
    "duration": 168,
    "start_time": "2021-11-24T13:22:54.637Z"
   },
   {
    "duration": 8,
    "start_time": "2021-11-24T13:25:35.451Z"
   },
   {
    "duration": 8,
    "start_time": "2021-11-24T13:27:35.415Z"
   },
   {
    "duration": 8,
    "start_time": "2021-11-24T13:27:41.743Z"
   },
   {
    "duration": 9,
    "start_time": "2021-11-24T13:27:45.813Z"
   },
   {
    "duration": 7,
    "start_time": "2021-11-24T13:27:46.444Z"
   },
   {
    "duration": 8,
    "start_time": "2021-11-24T13:27:48.778Z"
   },
   {
    "duration": 8,
    "start_time": "2021-11-24T14:31:29.293Z"
   },
   {
    "duration": 9,
    "start_time": "2021-11-24T14:31:30.234Z"
   },
   {
    "duration": 10,
    "start_time": "2021-11-24T14:31:41.804Z"
   },
   {
    "duration": 10,
    "start_time": "2021-11-24T14:31:45.649Z"
   },
   {
    "duration": 8,
    "start_time": "2021-11-24T14:31:52.880Z"
   },
   {
    "duration": 9,
    "start_time": "2021-11-24T14:33:19.944Z"
   },
   {
    "duration": 9,
    "start_time": "2021-11-24T14:33:32.508Z"
   },
   {
    "duration": 9,
    "start_time": "2021-11-24T14:34:02.399Z"
   },
   {
    "duration": 8,
    "start_time": "2021-11-24T14:34:22.321Z"
   },
   {
    "duration": 310,
    "start_time": "2021-11-25T10:15:40.081Z"
   },
   {
    "duration": 1032,
    "start_time": "2021-11-25T10:15:44.449Z"
   },
   {
    "duration": 101,
    "start_time": "2021-11-25T10:15:45.483Z"
   },
   {
    "duration": 15,
    "start_time": "2021-11-25T10:15:45.586Z"
   },
   {
    "duration": 6,
    "start_time": "2021-11-25T10:15:45.603Z"
   },
   {
    "duration": 4,
    "start_time": "2021-11-25T10:15:45.611Z"
   },
   {
    "duration": 7,
    "start_time": "2021-11-25T10:15:45.616Z"
   },
   {
    "duration": 24,
    "start_time": "2021-11-25T10:15:45.624Z"
   },
   {
    "duration": 3,
    "start_time": "2021-11-25T10:15:45.650Z"
   },
   {
    "duration": 94,
    "start_time": "2021-11-25T10:15:45.656Z"
   },
   {
    "duration": 93,
    "start_time": "2021-11-25T10:15:45.754Z"
   },
   {
    "duration": 5,
    "start_time": "2021-11-25T10:15:45.849Z"
   },
   {
    "duration": 9,
    "start_time": "2021-11-25T10:15:45.856Z"
   },
   {
    "duration": 12,
    "start_time": "2021-11-25T10:15:45.867Z"
   },
   {
    "duration": 68,
    "start_time": "2021-11-25T10:15:45.881Z"
   },
   {
    "duration": 7,
    "start_time": "2021-11-25T10:15:45.952Z"
   },
   {
    "duration": 718,
    "start_time": "2021-11-25T10:15:45.960Z"
   },
   {
    "duration": 245,
    "start_time": "2021-11-25T10:15:46.435Z"
   },
   {
    "duration": 241,
    "start_time": "2021-11-25T10:15:46.440Z"
   },
   {
    "duration": 238,
    "start_time": "2021-11-25T10:15:46.444Z"
   },
   {
    "duration": 235,
    "start_time": "2021-11-25T10:15:46.448Z"
   },
   {
    "duration": 232,
    "start_time": "2021-11-25T10:15:46.452Z"
   },
   {
    "duration": 228,
    "start_time": "2021-11-25T10:15:46.456Z"
   },
   {
    "duration": 226,
    "start_time": "2021-11-25T10:15:46.459Z"
   },
   {
    "duration": 223,
    "start_time": "2021-11-25T10:15:46.463Z"
   },
   {
    "duration": 220,
    "start_time": "2021-11-25T10:15:46.467Z"
   },
   {
    "duration": 218,
    "start_time": "2021-11-25T10:15:46.470Z"
   },
   {
    "duration": 214,
    "start_time": "2021-11-25T10:15:46.475Z"
   },
   {
    "duration": 210,
    "start_time": "2021-11-25T10:15:46.479Z"
   },
   {
    "duration": 207,
    "start_time": "2021-11-25T10:15:46.483Z"
   },
   {
    "duration": 204,
    "start_time": "2021-11-25T10:15:46.487Z"
   },
   {
    "duration": 3,
    "start_time": "2021-11-25T10:19:17.033Z"
   },
   {
    "duration": 53,
    "start_time": "2021-11-25T10:19:17.040Z"
   },
   {
    "duration": 7,
    "start_time": "2021-11-25T10:19:17.095Z"
   },
   {
    "duration": 7,
    "start_time": "2021-11-25T10:19:17.104Z"
   },
   {
    "duration": 4,
    "start_time": "2021-11-25T10:19:17.113Z"
   },
   {
    "duration": 6,
    "start_time": "2021-11-25T10:19:17.118Z"
   },
   {
    "duration": 23,
    "start_time": "2021-11-25T10:19:17.125Z"
   },
   {
    "duration": 3,
    "start_time": "2021-11-25T10:19:17.150Z"
   },
   {
    "duration": 91,
    "start_time": "2021-11-25T10:19:17.155Z"
   },
   {
    "duration": 94,
    "start_time": "2021-11-25T10:19:17.250Z"
   },
   {
    "duration": 4,
    "start_time": "2021-11-25T10:19:17.348Z"
   },
   {
    "duration": 6,
    "start_time": "2021-11-25T10:19:17.354Z"
   },
   {
    "duration": 6,
    "start_time": "2021-11-25T10:19:17.362Z"
   },
   {
    "duration": 81,
    "start_time": "2021-11-25T10:19:17.371Z"
   },
   {
    "duration": 93,
    "start_time": "2021-11-25T10:19:17.456Z"
   },
   {
    "duration": 273,
    "start_time": "2021-11-25T10:19:17.551Z"
   },
   {
    "duration": 184,
    "start_time": "2021-11-25T10:19:17.642Z"
   },
   {
    "duration": 180,
    "start_time": "2021-11-25T10:19:17.647Z"
   },
   {
    "duration": 177,
    "start_time": "2021-11-25T10:19:17.651Z"
   },
   {
    "duration": 174,
    "start_time": "2021-11-25T10:19:17.655Z"
   },
   {
    "duration": 170,
    "start_time": "2021-11-25T10:19:17.660Z"
   },
   {
    "duration": 166,
    "start_time": "2021-11-25T10:19:17.665Z"
   },
   {
    "duration": 162,
    "start_time": "2021-11-25T10:19:17.670Z"
   },
   {
    "duration": 159,
    "start_time": "2021-11-25T10:19:17.674Z"
   },
   {
    "duration": 156,
    "start_time": "2021-11-25T10:19:17.678Z"
   },
   {
    "duration": 154,
    "start_time": "2021-11-25T10:19:17.682Z"
   },
   {
    "duration": 151,
    "start_time": "2021-11-25T10:19:17.686Z"
   },
   {
    "duration": 148,
    "start_time": "2021-11-25T10:19:17.690Z"
   },
   {
    "duration": 145,
    "start_time": "2021-11-25T10:19:17.694Z"
   },
   {
    "duration": 143,
    "start_time": "2021-11-25T10:19:17.697Z"
   },
   {
    "duration": 3,
    "start_time": "2021-11-25T10:19:32.035Z"
   },
   {
    "duration": 61,
    "start_time": "2021-11-25T10:19:32.043Z"
   },
   {
    "duration": 8,
    "start_time": "2021-11-25T10:19:32.106Z"
   },
   {
    "duration": 19,
    "start_time": "2021-11-25T10:19:32.116Z"
   },
   {
    "duration": 16,
    "start_time": "2021-11-25T10:19:32.137Z"
   },
   {
    "duration": 8,
    "start_time": "2021-11-25T10:19:32.156Z"
   },
   {
    "duration": 30,
    "start_time": "2021-11-25T10:19:32.166Z"
   },
   {
    "duration": 4,
    "start_time": "2021-11-25T10:19:32.198Z"
   },
   {
    "duration": 51,
    "start_time": "2021-11-25T10:19:32.206Z"
   },
   {
    "duration": 88,
    "start_time": "2021-11-25T10:19:32.259Z"
   },
   {
    "duration": 13,
    "start_time": "2021-11-25T10:19:32.349Z"
   },
   {
    "duration": 10,
    "start_time": "2021-11-25T10:19:32.363Z"
   },
   {
    "duration": 16,
    "start_time": "2021-11-25T10:19:32.375Z"
   },
   {
    "duration": 57,
    "start_time": "2021-11-25T10:19:32.393Z"
   },
   {
    "duration": 91,
    "start_time": "2021-11-25T10:19:32.453Z"
   },
   {
    "duration": 292,
    "start_time": "2021-11-25T10:19:32.547Z"
   },
   {
    "duration": 110,
    "start_time": "2021-11-25T10:19:32.731Z"
   },
   {
    "duration": 108,
    "start_time": "2021-11-25T10:19:32.735Z"
   },
   {
    "duration": 105,
    "start_time": "2021-11-25T10:19:32.739Z"
   },
   {
    "duration": 102,
    "start_time": "2021-11-25T10:19:32.743Z"
   },
   {
    "duration": 98,
    "start_time": "2021-11-25T10:19:32.747Z"
   },
   {
    "duration": 95,
    "start_time": "2021-11-25T10:19:32.751Z"
   },
   {
    "duration": 91,
    "start_time": "2021-11-25T10:19:32.756Z"
   },
   {
    "duration": 89,
    "start_time": "2021-11-25T10:19:32.759Z"
   },
   {
    "duration": 86,
    "start_time": "2021-11-25T10:19:32.763Z"
   },
   {
    "duration": 84,
    "start_time": "2021-11-25T10:19:32.766Z"
   },
   {
    "duration": 81,
    "start_time": "2021-11-25T10:19:32.770Z"
   },
   {
    "duration": 78,
    "start_time": "2021-11-25T10:19:32.774Z"
   },
   {
    "duration": 75,
    "start_time": "2021-11-25T10:19:32.778Z"
   },
   {
    "duration": 73,
    "start_time": "2021-11-25T10:19:32.781Z"
   },
   {
    "duration": 100,
    "start_time": "2021-11-25T10:23:29.861Z"
   },
   {
    "duration": 127,
    "start_time": "2021-11-25T10:23:52.932Z"
   },
   {
    "duration": 6,
    "start_time": "2021-11-25T10:24:10.344Z"
   },
   {
    "duration": 6,
    "start_time": "2021-11-25T10:24:26.024Z"
   },
   {
    "duration": 5,
    "start_time": "2021-11-25T10:24:28.606Z"
   },
   {
    "duration": 6,
    "start_time": "2021-11-25T10:25:45.084Z"
   },
   {
    "duration": 6,
    "start_time": "2021-11-25T10:25:52.243Z"
   }
  ],
  "kernelspec": {
   "display_name": "Python 3 (ipykernel)",
   "language": "python",
   "name": "python3"
  },
  "language_info": {
   "codemirror_mode": {
    "name": "ipython",
    "version": 3
   },
   "file_extension": ".py",
   "mimetype": "text/x-python",
   "name": "python",
   "nbconvert_exporter": "python",
   "pygments_lexer": "ipython3",
   "version": "3.9.5"
  },
  "toc": {
   "base_numbering": 1,
   "nav_menu": {},
   "number_sections": true,
   "sideBar": true,
   "skip_h1_title": true,
   "title_cell": "Содержание",
   "title_sidebar": "Contents",
   "toc_cell": true,
   "toc_position": {
    "height": "calc(100% - 180px)",
    "left": "10px",
    "top": "150px",
    "width": "270.388px"
   },
   "toc_section_display": true,
   "toc_window_display": true
  }
 },
 "nbformat": 4,
 "nbformat_minor": 4
}
