{
 "cells": [
  {
   "cell_type": "markdown",
   "metadata": {
    "toc": true
   },
   "source": [
    "<h1>Table of Contents<span class=\"tocSkip\"></span></h1>\n",
    "<div class=\"toc\"><ul class=\"toc-item\"><li><span><a href=\"#Телеком-—-задача-проекта\" data-toc-modified-id=\"Телеком-—-задача-проекта-1\"><span class=\"toc-item-num\">1&nbsp;&nbsp;</span>Телеком — задача проекта</a></span><ul class=\"toc-item\"><li><span><a href=\"#Описание-услуг\" data-toc-modified-id=\"Описание-услуг-1.1\"><span class=\"toc-item-num\">1.1&nbsp;&nbsp;</span>Описание услуг</a></span></li><li><span><a href=\"#Описание-данных\" data-toc-modified-id=\"Описание-данных-1.2\"><span class=\"toc-item-num\">1.2&nbsp;&nbsp;</span>Описание данных</a></span></li><li><span><a href=\"#Данные\" data-toc-modified-id=\"Данные-1.3\"><span class=\"toc-item-num\">1.3&nbsp;&nbsp;</span>Данные</a></span></li><li><span><a href=\"#План-работы\" data-toc-modified-id=\"План-работы-1.4\"><span class=\"toc-item-num\">1.4&nbsp;&nbsp;</span>План работы</a></span></li></ul></li><li><span><a href=\"#Подготовка-данных\" data-toc-modified-id=\"Подготовка-данных-2\"><span class=\"toc-item-num\">2&nbsp;&nbsp;</span>Подготовка данных</a></span><ul class=\"toc-item\"><li><span><a href=\"#Таблица-contract\" data-toc-modified-id=\"Таблица-contract-2.1\"><span class=\"toc-item-num\">2.1&nbsp;&nbsp;</span>Таблица contract</a></span></li><li><span><a href=\"#Таблица-personal\" data-toc-modified-id=\"Таблица-personal-2.2\"><span class=\"toc-item-num\">2.2&nbsp;&nbsp;</span>Таблица personal</a></span></li><li><span><a href=\"#Таблица-internet\" data-toc-modified-id=\"Таблица-internet-2.3\"><span class=\"toc-item-num\">2.3&nbsp;&nbsp;</span>Таблица internet</a></span></li><li><span><a href=\"#Таблица-phone\" data-toc-modified-id=\"Таблица-phone-2.4\"><span class=\"toc-item-num\">2.4&nbsp;&nbsp;</span>Таблица phone</a></span></li></ul></li><li><span><a href=\"#Исследовательский-анализ\" data-toc-modified-id=\"Исследовательский-анализ-3\"><span class=\"toc-item-num\">3&nbsp;&nbsp;</span>Исследовательский анализ</a></span><ul class=\"toc-item\"><li><span><a href=\"#Базовая-проверка-данных\" data-toc-modified-id=\"Базовая-проверка-данных-3.1\"><span class=\"toc-item-num\">3.1&nbsp;&nbsp;</span>Базовая проверка данных</a></span></li></ul></li><li><span><a href=\"#Подготовка-признаков\" data-toc-modified-id=\"Подготовка-признаков-4\"><span class=\"toc-item-num\">4&nbsp;&nbsp;</span>Подготовка признаков</a></span><ul class=\"toc-item\"><li><span><a href=\"#Проверка-на-мультиколлинеарность\" data-toc-modified-id=\"Проверка-на-мультиколлинеарность-4.1\"><span class=\"toc-item-num\">4.1&nbsp;&nbsp;</span>Проверка на мультиколлинеарность</a></span></li><li><span><a href=\"#Разделение-выборки\" data-toc-modified-id=\"Разделение-выборки-4.2\"><span class=\"toc-item-num\">4.2&nbsp;&nbsp;</span>Разделение выборки</a></span></li><li><span><a href=\"#Масштабирование\" data-toc-modified-id=\"Масштабирование-4.3\"><span class=\"toc-item-num\">4.3&nbsp;&nbsp;</span>Масштабирование</a></span></li></ul></li><li><span><a href=\"#Обучение-модели\" data-toc-modified-id=\"Обучение-модели-5\"><span class=\"toc-item-num\">5&nbsp;&nbsp;</span>Обучение модели</a></span><ul class=\"toc-item\"><li><span><a href=\"#Функция-для-обучения-модели\" data-toc-modified-id=\"Функция-для-обучения-модели-5.1\"><span class=\"toc-item-num\">5.1&nbsp;&nbsp;</span>Функция для обучения модели</a></span></li><li><span><a href=\"#RandomForestClassifier\" data-toc-modified-id=\"RandomForestClassifier-5.2\"><span class=\"toc-item-num\">5.2&nbsp;&nbsp;</span>RandomForestClassifier</a></span><ul class=\"toc-item\"><li><span><a href=\"#Дисбаланс-классов\" data-toc-modified-id=\"Дисбаланс-классов-5.2.1\"><span class=\"toc-item-num\">5.2.1&nbsp;&nbsp;</span>Дисбаланс классов</a></span></li><li><span><a href=\"#Подбор-параметров\" data-toc-modified-id=\"Подбор-параметров-5.2.2\"><span class=\"toc-item-num\">5.2.2&nbsp;&nbsp;</span>Подбор параметров</a></span></li></ul></li><li><span><a href=\"#LogisticRegression\" data-toc-modified-id=\"LogisticRegression-5.3\"><span class=\"toc-item-num\">5.3&nbsp;&nbsp;</span>LogisticRegression</a></span></li><li><span><a href=\"#Catboost\" data-toc-modified-id=\"Catboost-5.4\"><span class=\"toc-item-num\">5.4&nbsp;&nbsp;</span>Catboost</a></span><ul class=\"toc-item\"><li><span><a href=\"#Подбор-параметров\" data-toc-modified-id=\"Подбор-параметров-5.4.1\"><span class=\"toc-item-num\">5.4.1&nbsp;&nbsp;</span>Подбор параметров</a></span></li></ul></li></ul></li><li><span><a href=\"#Тестирование\" data-toc-modified-id=\"Тестирование-6\"><span class=\"toc-item-num\">6&nbsp;&nbsp;</span>Тестирование</a></span></li><li><span><a href=\"#Отчет\" data-toc-modified-id=\"Отчет-7\"><span class=\"toc-item-num\">7&nbsp;&nbsp;</span>Отчет</a></span></li></ul></div>"
   ]
  },
  {
   "cell_type": "markdown",
   "metadata": {
    "id": "gsPgYmA9XshT"
   },
   "source": [
    "## Телеком — задача проекта\n",
    "\n",
    "Оператор связи «Ниединогоразрыва.ком» хочет научиться прогнозировать отток клиентов. Если выяснится, что пользователь планирует уйти, ему будут предложены промокоды и специальные условия. Команда оператора собрала персональные данные о некоторых клиентах, информацию об их тарифах и договорах.\n",
    "\n",
    "### Описание услуг\n",
    "\n",
    "Оператор предоставляет два основных типа услуг: \n",
    "\n",
    "1. Стационарную телефонную связь. Возможно подключение телефонного аппарата к нескольким линиям одновременно.\n",
    "2. Интернет. Подключение может быть двух типов: через телефонную линию (DSL*,* от англ. *digital subscriber line*, «цифровая абонентская линия») или оптоволоконный кабель (*Fiber optic*).  \n",
    "\n",
    "Также доступны такие услуги:\n",
    "\n",
    "- Интернет-безопасность: антивирус (*DeviceProtection*) и блокировка небезопасных сайтов (*OnlineSecurity*);\n",
    "- Выделенная линия технической поддержки (*TechSupport*);\n",
    "- Облачное хранилище файлов для резервного копирования данных (*OnlineBackup*);\n",
    "- Стриминговое телевидение (*StreamingTV*) и каталог фильмов (*StreamingMovies*).\n",
    "\n",
    "За услуги клиенты могут платить каждый месяц или заключить договор на 1–2 года. Доступны различные способы расчёта и возможность получения электронного чека.\n",
    "\n",
    "### Описание данных\n",
    "\n",
    "Данные состоят из файлов, полученных из разных источников:\n",
    "\n",
    "- `contract.csv` — информация о договоре;\n",
    "- `personal.csv` — персональные данные клиента;\n",
    "- `internet.csv` — информация об интернет-услугах;\n",
    "- `phone.csv` — информация об услугах телефонии.\n",
    "\n",
    "Во всех файлах столбец `customerID` содержит код клиента.\n",
    "\n",
    "Описание полей данных:\n",
    "- BeginDate – дата начала пользования услугами,\n",
    "- EndDate – дата окончания пользования услугами,\n",
    "- Type – тип оплаты: ежемесячный, годовой и тд,\n",
    "- PaperlessBilling – безналичный расчет,\n",
    "- PaymentMethod – способ оплаты,\n",
    "- MonthlyCharges – ежемесячные траты на услуги,\n",
    "- TotalCharges – всего потрачено денег на услуги\n",
    "- Dependents – наличие иждивенцев\n",
    "- Senior Citizen – наличие пенсионного статуса по возрасту\n",
    "- Partner – наличие супруга(и)\n",
    "- MultipleLines – наличие возможности ведения параллельных линий во время звонка\n",
    "\n",
    "### Данные\n",
    "\n",
    "Данные находятся в папке `/datasets/final_provider/`.\n",
    "\n",
    "\n",
    "### План работы\n",
    " 1. Подготовка данных. Загрузить и изучить данные. Определить и обработать пропущенные значения. Изменить тип данных при необходимости\n",
    " 2. Исследовательский анализ. Проанализировать датасет.\n",
    " 3. Исследовать баланс классов: изучить модели без учёта дисбаланса. Учесть дисбаланс. Привести несколько способов борьбы с дисбалансом. Подготовить признаки техникой OHE\n",
    " 4. Обучение модели. Разбить данные на 3 выборки и построить не менее 3-х моделей (decision tree, logistic regression, catboost)\n",
    " 5. Тестирование. Подбор гиперпараметров для достижения максимального значения AUC-ROC (не менее 0.75)\n",
    "\n",
    " \n",
    "\n",
    "**Распределение баллов**\n",
    "- 0 sp\t                  AUC-ROC < 0.75\n",
    "- 4 sp\t      0.75 ≤ AUC-ROC < 0.81\n",
    "- 4.5 sp    0.81 ≤ AUC-ROC < 0.85\n",
    "- 5 sp       0.85 ≤ AUC-ROC < 0.87\n",
    "- 5.5 sp    0.87 ≤ AUC-ROC < 0.88\n",
    "- 6 sp\t                  AUC-ROC ≥ 0.88"
   ]
  },
  {
   "cell_type": "code",
   "execution_count": 2,
   "metadata": {
    "colab": {
     "base_uri": "https://localhost:8080/"
    },
    "id": "Oe4_Opvun_nr",
    "outputId": "21c78b93-b223-4ada-e29f-61c51144866d"
   },
   "outputs": [
    {
     "name": "stdout",
     "output_type": "stream",
     "text": [
      "Collecting catboost==1.0.4\n",
      "  Downloading catboost-1.0.4-cp39-none-manylinux1_x86_64.whl (76.2 MB)\n",
      "\u001b[K     |████████████████████████████████| 76.2 MB 67 kB/s s eta 0:00:01\n",
      "\u001b[?25hRequirement already satisfied: pandas>=0.24.0 in /opt/conda/lib/python3.9/site-packages (from catboost==1.0.4) (1.2.4)\n",
      "Requirement already satisfied: graphviz in /opt/conda/lib/python3.9/site-packages (from catboost==1.0.4) (0.20)\n",
      "Requirement already satisfied: numpy>=1.16.0 in /opt/conda/lib/python3.9/site-packages (from catboost==1.0.4) (1.21.1)\n",
      "Requirement already satisfied: six in /opt/conda/lib/python3.9/site-packages (from catboost==1.0.4) (1.16.0)\n",
      "Requirement already satisfied: plotly in /opt/conda/lib/python3.9/site-packages (from catboost==1.0.4) (5.4.0)\n",
      "Requirement already satisfied: matplotlib in /opt/conda/lib/python3.9/site-packages (from catboost==1.0.4) (3.3.4)\n",
      "Requirement already satisfied: scipy in /opt/conda/lib/python3.9/site-packages (from catboost==1.0.4) (1.8.0)\n",
      "Requirement already satisfied: python-dateutil>=2.7.3 in /opt/conda/lib/python3.9/site-packages (from pandas>=0.24.0->catboost==1.0.4) (2.8.1)\n",
      "Requirement already satisfied: pytz>=2017.3 in /opt/conda/lib/python3.9/site-packages (from pandas>=0.24.0->catboost==1.0.4) (2021.1)\n",
      "Requirement already satisfied: pyparsing!=2.0.4,!=2.1.2,!=2.1.6,>=2.0.3 in /opt/conda/lib/python3.9/site-packages (from matplotlib->catboost==1.0.4) (2.4.7)\n",
      "Requirement already satisfied: kiwisolver>=1.0.1 in /opt/conda/lib/python3.9/site-packages (from matplotlib->catboost==1.0.4) (1.4.2)\n",
      "Requirement already satisfied: pillow>=6.2.0 in /opt/conda/lib/python3.9/site-packages (from matplotlib->catboost==1.0.4) (8.4.0)\n",
      "Requirement already satisfied: cycler>=0.10 in /opt/conda/lib/python3.9/site-packages (from matplotlib->catboost==1.0.4) (0.11.0)\n",
      "Requirement already satisfied: tenacity>=6.2.0 in /opt/conda/lib/python3.9/site-packages (from plotly->catboost==1.0.4) (8.0.1)\n",
      "Installing collected packages: catboost\n",
      "  Attempting uninstall: catboost\n",
      "    Found existing installation: catboost 1.0.3\n",
      "    Uninstalling catboost-1.0.3:\n",
      "      Successfully uninstalled catboost-1.0.3\n",
      "Successfully installed catboost-1.0.4\n",
      "Note: you may need to restart the kernel to use updated packages.\n"
     ]
    }
   ],
   "source": [
    "pip install catboost==1.0.4"
   ]
  },
  {
   "cell_type": "markdown",
   "metadata": {
    "id": "7r2SFs7cXshY"
   },
   "source": [
    "Импортируем необходимые библиотеки"
   ]
  },
  {
   "cell_type": "code",
   "execution_count": 3,
   "metadata": {
    "id": "_S0A4jazXsha"
   },
   "outputs": [],
   "source": [
    "import pandas as pd\n",
    "import numpy as np\n",
    "import matplotlib.pyplot as plt\n",
    "import seaborn as sns\n",
    "from sklearn.preprocessing import StandardScaler\n",
    "from sklearn.tree import DecisionTreeClassifier\n",
    "from sklearn.model_selection import train_test_split\n",
    "from sklearn.metrics import confusion_matrix\n",
    "from sklearn.metrics import recall_score\n",
    "from sklearn.metrics import make_scorer\n",
    "from sklearn.metrics import precision_score\n",
    "from sklearn.metrics import accuracy_score\n",
    "from sklearn.metrics import f1_score\n",
    "from sklearn.metrics import roc_auc_score\n",
    "from sklearn.ensemble import RandomForestClassifier\n",
    "from sklearn.linear_model import LogisticRegression\n",
    "from sklearn.utils import shuffle\n",
    "from sklearn.metrics import precision_recall_curve\n",
    "from sklearn.metrics import roc_curve\n",
    "from sklearn.datasets import make_classification\n",
    "from catboost import CatBoostClassifier\n",
    "from sklearn.model_selection import GridSearchCV, RandomizedSearchCV, cross_val_score\n",
    "from sklearn import metrics\n",
    "from sklearn.metrics import classification_report\n",
    "from sklearn.pipeline import Pipeline\n",
    "import warnings\n",
    "warnings.filterwarnings('ignore')"
   ]
  },
  {
   "cell_type": "markdown",
   "metadata": {
    "id": "3njbV1cHXshd"
   },
   "source": [
    "## Подготовка данных"
   ]
  },
  {
   "cell_type": "code",
   "execution_count": 4,
   "metadata": {
    "id": "uWQj2m4IXshe"
   },
   "outputs": [],
   "source": [
    "def get_data(path):\n",
    "    df = pd.read_csv(path)\n",
    "    print('Проверим типы данных и пропущенные значения')\n",
    "    display(df.info())\n",
    "    print('Посмотрим содержимое первых 5 строк')\n",
    "    display(df.head())\n",
    "    print('Посмотрим на описательную статистику')\n",
    "    display(df.describe().T)\n",
    "    try: \n",
    "        del df['Unnamed: 0'] #удаление лишнего столбца при наличии\n",
    "    except KeyError:\n",
    "        print('Unnamed: 0 не обнаружено лишних столбцов')\n",
    "        print('')\n",
    "        \n",
    "    print('столбцов: ', len(df.columns), df.columns) \n",
    "    print('')\n",
    "    print('Частично выведем уникальные значения столбцов')    \n",
    "    for i in range(0, len(df.columns)):\n",
    "        print('')\n",
    "        print('уникальные значения столбца ' + str(i) + ' ' + df.columns[i])\n",
    "        print(df.iloc[:,i].unique())\n",
    "        print('')\n",
    "    return df"
   ]
  },
  {
   "cell_type": "code",
   "execution_count": null,
   "metadata": {},
   "outputs": [],
   "source": []
  },
  {
   "cell_type": "raw",
   "metadata": {},
   "source": [
    "df_contract = pd.read_csv('/datasets/final_provider/contract.csv')\n",
    "df_internet = pd.read_csv('/datasets/final_provider/internet.csv')\n",
    "df_personal = pd.read_csv('/datasets/final_provider/personal.csv')\n",
    "df_phone = pd.read_csv('/datasets/final_provider/phone.csv')"
   ]
  },
  {
   "cell_type": "markdown",
   "metadata": {
    "id": "MiXBeu2VXshf"
   },
   "source": [
    "### Таблица contract"
   ]
  },
  {
   "cell_type": "code",
   "execution_count": 5,
   "metadata": {
    "colab": {
     "base_uri": "https://localhost:8080/",
     "height": 1000
    },
    "id": "EDdsAdSsXshf",
    "outputId": "7c2ffed7-b7b5-48eb-8a2f-8ae432cd387b",
    "scrolled": false
   },
   "outputs": [
    {
     "name": "stdout",
     "output_type": "stream",
     "text": [
      "Проверим типы данных и пропущенные значения\n",
      "<class 'pandas.core.frame.DataFrame'>\n",
      "RangeIndex: 7043 entries, 0 to 7042\n",
      "Data columns (total 8 columns):\n",
      " #   Column            Non-Null Count  Dtype  \n",
      "---  ------            --------------  -----  \n",
      " 0   customerID        7043 non-null   object \n",
      " 1   BeginDate         7043 non-null   object \n",
      " 2   EndDate           7043 non-null   object \n",
      " 3   Type              7043 non-null   object \n",
      " 4   PaperlessBilling  7043 non-null   object \n",
      " 5   PaymentMethod     7043 non-null   object \n",
      " 6   MonthlyCharges    7043 non-null   float64\n",
      " 7   TotalCharges      7043 non-null   object \n",
      "dtypes: float64(1), object(7)\n",
      "memory usage: 440.3+ KB\n"
     ]
    },
    {
     "data": {
      "text/plain": [
       "None"
      ]
     },
     "metadata": {},
     "output_type": "display_data"
    },
    {
     "name": "stdout",
     "output_type": "stream",
     "text": [
      "Посмотрим содержимое первых 5 строк\n"
     ]
    },
    {
     "data": {
      "text/html": [
       "<div>\n",
       "<style scoped>\n",
       "    .dataframe tbody tr th:only-of-type {\n",
       "        vertical-align: middle;\n",
       "    }\n",
       "\n",
       "    .dataframe tbody tr th {\n",
       "        vertical-align: top;\n",
       "    }\n",
       "\n",
       "    .dataframe thead th {\n",
       "        text-align: right;\n",
       "    }\n",
       "</style>\n",
       "<table border=\"1\" class=\"dataframe\">\n",
       "  <thead>\n",
       "    <tr style=\"text-align: right;\">\n",
       "      <th></th>\n",
       "      <th>customerID</th>\n",
       "      <th>BeginDate</th>\n",
       "      <th>EndDate</th>\n",
       "      <th>Type</th>\n",
       "      <th>PaperlessBilling</th>\n",
       "      <th>PaymentMethod</th>\n",
       "      <th>MonthlyCharges</th>\n",
       "      <th>TotalCharges</th>\n",
       "    </tr>\n",
       "  </thead>\n",
       "  <tbody>\n",
       "    <tr>\n",
       "      <th>0</th>\n",
       "      <td>7590-VHVEG</td>\n",
       "      <td>2020-01-01</td>\n",
       "      <td>No</td>\n",
       "      <td>Month-to-month</td>\n",
       "      <td>Yes</td>\n",
       "      <td>Electronic check</td>\n",
       "      <td>29.85</td>\n",
       "      <td>29.85</td>\n",
       "    </tr>\n",
       "    <tr>\n",
       "      <th>1</th>\n",
       "      <td>5575-GNVDE</td>\n",
       "      <td>2017-04-01</td>\n",
       "      <td>No</td>\n",
       "      <td>One year</td>\n",
       "      <td>No</td>\n",
       "      <td>Mailed check</td>\n",
       "      <td>56.95</td>\n",
       "      <td>1889.5</td>\n",
       "    </tr>\n",
       "    <tr>\n",
       "      <th>2</th>\n",
       "      <td>3668-QPYBK</td>\n",
       "      <td>2019-10-01</td>\n",
       "      <td>2019-12-01 00:00:00</td>\n",
       "      <td>Month-to-month</td>\n",
       "      <td>Yes</td>\n",
       "      <td>Mailed check</td>\n",
       "      <td>53.85</td>\n",
       "      <td>108.15</td>\n",
       "    </tr>\n",
       "    <tr>\n",
       "      <th>3</th>\n",
       "      <td>7795-CFOCW</td>\n",
       "      <td>2016-05-01</td>\n",
       "      <td>No</td>\n",
       "      <td>One year</td>\n",
       "      <td>No</td>\n",
       "      <td>Bank transfer (automatic)</td>\n",
       "      <td>42.30</td>\n",
       "      <td>1840.75</td>\n",
       "    </tr>\n",
       "    <tr>\n",
       "      <th>4</th>\n",
       "      <td>9237-HQITU</td>\n",
       "      <td>2019-09-01</td>\n",
       "      <td>2019-11-01 00:00:00</td>\n",
       "      <td>Month-to-month</td>\n",
       "      <td>Yes</td>\n",
       "      <td>Electronic check</td>\n",
       "      <td>70.70</td>\n",
       "      <td>151.65</td>\n",
       "    </tr>\n",
       "  </tbody>\n",
       "</table>\n",
       "</div>"
      ],
      "text/plain": [
       "   customerID   BeginDate              EndDate            Type  \\\n",
       "0  7590-VHVEG  2020-01-01                   No  Month-to-month   \n",
       "1  5575-GNVDE  2017-04-01                   No        One year   \n",
       "2  3668-QPYBK  2019-10-01  2019-12-01 00:00:00  Month-to-month   \n",
       "3  7795-CFOCW  2016-05-01                   No        One year   \n",
       "4  9237-HQITU  2019-09-01  2019-11-01 00:00:00  Month-to-month   \n",
       "\n",
       "  PaperlessBilling              PaymentMethod  MonthlyCharges TotalCharges  \n",
       "0              Yes           Electronic check           29.85        29.85  \n",
       "1               No               Mailed check           56.95       1889.5  \n",
       "2              Yes               Mailed check           53.85       108.15  \n",
       "3               No  Bank transfer (automatic)           42.30      1840.75  \n",
       "4              Yes           Electronic check           70.70       151.65  "
      ]
     },
     "metadata": {},
     "output_type": "display_data"
    },
    {
     "name": "stdout",
     "output_type": "stream",
     "text": [
      "Посмотрим на описательную статистику\n"
     ]
    },
    {
     "data": {
      "text/html": [
       "<div>\n",
       "<style scoped>\n",
       "    .dataframe tbody tr th:only-of-type {\n",
       "        vertical-align: middle;\n",
       "    }\n",
       "\n",
       "    .dataframe tbody tr th {\n",
       "        vertical-align: top;\n",
       "    }\n",
       "\n",
       "    .dataframe thead th {\n",
       "        text-align: right;\n",
       "    }\n",
       "</style>\n",
       "<table border=\"1\" class=\"dataframe\">\n",
       "  <thead>\n",
       "    <tr style=\"text-align: right;\">\n",
       "      <th></th>\n",
       "      <th>count</th>\n",
       "      <th>mean</th>\n",
       "      <th>std</th>\n",
       "      <th>min</th>\n",
       "      <th>25%</th>\n",
       "      <th>50%</th>\n",
       "      <th>75%</th>\n",
       "      <th>max</th>\n",
       "    </tr>\n",
       "  </thead>\n",
       "  <tbody>\n",
       "    <tr>\n",
       "      <th>MonthlyCharges</th>\n",
       "      <td>7043.0</td>\n",
       "      <td>64.761692</td>\n",
       "      <td>30.090047</td>\n",
       "      <td>18.25</td>\n",
       "      <td>35.5</td>\n",
       "      <td>70.35</td>\n",
       "      <td>89.85</td>\n",
       "      <td>118.75</td>\n",
       "    </tr>\n",
       "  </tbody>\n",
       "</table>\n",
       "</div>"
      ],
      "text/plain": [
       "                 count       mean        std    min   25%    50%    75%  \\\n",
       "MonthlyCharges  7043.0  64.761692  30.090047  18.25  35.5  70.35  89.85   \n",
       "\n",
       "                   max  \n",
       "MonthlyCharges  118.75  "
      ]
     },
     "metadata": {},
     "output_type": "display_data"
    },
    {
     "name": "stdout",
     "output_type": "stream",
     "text": [
      "Unnamed: 0 не обнаружено лишних столбцов\n",
      "\n",
      "столбцов:  8 Index(['customerID', 'BeginDate', 'EndDate', 'Type', 'PaperlessBilling',\n",
      "       'PaymentMethod', 'MonthlyCharges', 'TotalCharges'],\n",
      "      dtype='object')\n",
      "\n",
      "Частично выведем уникальные значения столбцов\n",
      "\n",
      "уникальные значения столбца 0 customerID\n",
      "['7590-VHVEG' '5575-GNVDE' '3668-QPYBK' ... '4801-JZAZL' '8361-LTMKD'\n",
      " '3186-AJIEK']\n",
      "\n",
      "\n",
      "уникальные значения столбца 1 BeginDate\n",
      "['2020-01-01' '2017-04-01' '2019-10-01' '2016-05-01' '2019-09-01'\n",
      " '2019-03-01' '2018-04-01' '2019-04-01' '2017-07-01' '2014-12-01'\n",
      " '2019-01-01' '2018-10-01' '2015-04-01' '2015-09-01' '2018-01-01'\n",
      " '2014-05-01' '2015-10-01' '2014-03-01' '2018-05-01' '2019-11-01'\n",
      " '2019-02-01' '2016-01-01' '2017-08-01' '2015-12-01' '2014-02-01'\n",
      " '2018-06-01' '2019-12-01' '2017-11-01' '2019-06-01' '2016-04-01'\n",
      " '2017-02-01' '2018-12-01' '2014-04-01' '2018-09-01' '2014-11-01'\n",
      " '2016-07-01' '2015-02-01' '2018-07-01' '2014-08-01' '2016-03-01'\n",
      " '2018-08-01' '2014-10-01' '2015-06-01' '2016-08-01' '2019-05-01'\n",
      " '2017-03-01' '2016-02-01' '2017-09-01' '2014-09-01' '2017-12-01'\n",
      " '2016-12-01' '2017-06-01' '2015-05-01' '2016-10-01' '2016-09-01'\n",
      " '2019-08-01' '2019-07-01' '2017-05-01' '2017-10-01' '2014-07-01'\n",
      " '2018-03-01' '2015-01-01' '2018-11-01' '2015-03-01' '2018-02-01'\n",
      " '2016-06-01' '2015-08-01' '2015-11-01' '2014-06-01' '2017-01-01'\n",
      " '2015-07-01' '2020-02-01' '2016-11-01' '2013-11-01' '2014-01-01'\n",
      " '2013-10-01' '2013-12-01']\n",
      "\n",
      "\n",
      "уникальные значения столбца 2 EndDate\n",
      "['No' '2019-12-01 00:00:00' '2019-11-01 00:00:00' '2019-10-01 00:00:00'\n",
      " '2020-01-01 00:00:00']\n",
      "\n",
      "\n",
      "уникальные значения столбца 3 Type\n",
      "['Month-to-month' 'One year' 'Two year']\n",
      "\n",
      "\n",
      "уникальные значения столбца 4 PaperlessBilling\n",
      "['Yes' 'No']\n",
      "\n",
      "\n",
      "уникальные значения столбца 5 PaymentMethod\n",
      "['Electronic check' 'Mailed check' 'Bank transfer (automatic)'\n",
      " 'Credit card (automatic)']\n",
      "\n",
      "\n",
      "уникальные значения столбца 6 MonthlyCharges\n",
      "[29.85 56.95 53.85 ... 63.1  44.2  78.7 ]\n",
      "\n",
      "\n",
      "уникальные значения столбца 7 TotalCharges\n",
      "['29.85' '1889.5' '108.15' ... '346.45' '306.6' '6844.5']\n",
      "\n"
     ]
    }
   ],
   "source": [
    "df_contract = get_data('/datasets/final_provider/contract.csv')"
   ]
  },
  {
   "cell_type": "markdown",
   "metadata": {
    "id": "nGR83fS5Xshh"
   },
   "source": [
    "В столбце total_charges присутствуют пустые строки"
   ]
  },
  {
   "cell_type": "code",
   "execution_count": 6,
   "metadata": {
    "colab": {
     "base_uri": "https://localhost:8080/",
     "height": 35
    },
    "id": "igPWBOl7Xshi",
    "outputId": "ced259b4-8a12-41c6-9a9c-016ff76e727d"
   },
   "outputs": [
    {
     "data": {
      "text/plain": [
       "' '"
      ]
     },
     "execution_count": 6,
     "metadata": {},
     "output_type": "execute_result"
    }
   ],
   "source": [
    "df_contract.TotalCharges.iloc[488]"
   ]
  },
  {
   "cell_type": "code",
   "execution_count": 7,
   "metadata": {
    "id": "PXB-5vfKXshi"
   },
   "outputs": [],
   "source": [
    "#приведем названия столбцов к стандарту\n",
    "df_contract.columns = ['customer_id', 'begin_date', 'end_date', 'type', 'paperless_billing', 'payment_method', 'monthly_charges', 'total_charges']\n",
    "#обработаем пропущенные значения строкового формата, заменим на 0\n",
    "df_contract.total_charges = df_contract.total_charges.str.replace(' ','0')\n",
    "#изменим типы данных\n",
    "df_contract.begin_date = pd.to_datetime(df_contract['begin_date'], format='%Y-%m-%d')\n",
    "#df_contract.end_date = pd.to_datetime(df_contract['end_date'], format='%Y-%m-%d')\n",
    "df_contract.total_charges = pd.to_numeric(df_contract.total_charges)"
   ]
  },
  {
   "cell_type": "code",
   "execution_count": 8,
   "metadata": {
    "colab": {
     "base_uri": "https://localhost:8080/",
     "height": 112
    },
    "id": "iW-s7mX1Xshj",
    "outputId": "6b06255a-674d-4322-c604-d627a3a3a7d4",
    "scrolled": true
   },
   "outputs": [
    {
     "data": {
      "text/html": [
       "<div>\n",
       "<style scoped>\n",
       "    .dataframe tbody tr th:only-of-type {\n",
       "        vertical-align: middle;\n",
       "    }\n",
       "\n",
       "    .dataframe tbody tr th {\n",
       "        vertical-align: top;\n",
       "    }\n",
       "\n",
       "    .dataframe thead th {\n",
       "        text-align: right;\n",
       "    }\n",
       "</style>\n",
       "<table border=\"1\" class=\"dataframe\">\n",
       "  <thead>\n",
       "    <tr style=\"text-align: right;\">\n",
       "      <th></th>\n",
       "      <th>count</th>\n",
       "      <th>mean</th>\n",
       "      <th>std</th>\n",
       "      <th>min</th>\n",
       "      <th>25%</th>\n",
       "      <th>50%</th>\n",
       "      <th>75%</th>\n",
       "      <th>max</th>\n",
       "    </tr>\n",
       "  </thead>\n",
       "  <tbody>\n",
       "    <tr>\n",
       "      <th>monthly_charges</th>\n",
       "      <td>7043.0</td>\n",
       "      <td>64.761692</td>\n",
       "      <td>30.090047</td>\n",
       "      <td>18.25</td>\n",
       "      <td>35.50</td>\n",
       "      <td>70.35</td>\n",
       "      <td>89.85</td>\n",
       "      <td>118.75</td>\n",
       "    </tr>\n",
       "    <tr>\n",
       "      <th>total_charges</th>\n",
       "      <td>7043.0</td>\n",
       "      <td>2279.734304</td>\n",
       "      <td>2266.794470</td>\n",
       "      <td>0.00</td>\n",
       "      <td>398.55</td>\n",
       "      <td>1394.55</td>\n",
       "      <td>3786.60</td>\n",
       "      <td>8684.80</td>\n",
       "    </tr>\n",
       "  </tbody>\n",
       "</table>\n",
       "</div>"
      ],
      "text/plain": [
       "                  count         mean          std    min     25%      50%  \\\n",
       "monthly_charges  7043.0    64.761692    30.090047  18.25   35.50    70.35   \n",
       "total_charges    7043.0  2279.734304  2266.794470   0.00  398.55  1394.55   \n",
       "\n",
       "                     75%      max  \n",
       "monthly_charges    89.85   118.75  \n",
       "total_charges    3786.60  8684.80  "
      ]
     },
     "execution_count": 8,
     "metadata": {},
     "output_type": "execute_result"
    }
   ],
   "source": [
    "df_contract.describe().T"
   ]
  },
  {
   "cell_type": "markdown",
   "metadata": {
    "id": "fKMWdFfXXshk"
   },
   "source": [
    "Проверим даты окончания пользования услугами"
   ]
  },
  {
   "cell_type": "code",
   "execution_count": 9,
   "metadata": {
    "colab": {
     "base_uri": "https://localhost:8080/"
    },
    "id": "o4WJmWKxXshk",
    "outputId": "b1c7018d-b39f-442c-f4be-485a1f7cbc29"
   },
   "outputs": [
    {
     "data": {
      "text/plain": [
       "No                     5174\n",
       "2019-11-01 00:00:00     485\n",
       "2019-12-01 00:00:00     466\n",
       "2020-01-01 00:00:00     460\n",
       "2019-10-01 00:00:00     458\n",
       "Name: end_date, dtype: int64"
      ]
     },
     "execution_count": 9,
     "metadata": {},
     "output_type": "execute_result"
    }
   ],
   "source": [
    "df_contract['end_date'].value_counts()"
   ]
  },
  {
   "cell_type": "markdown",
   "metadata": {
    "id": "cDxFhtuhXshk"
   },
   "source": [
    "### Таблица personal"
   ]
  },
  {
   "cell_type": "code",
   "execution_count": 10,
   "metadata": {
    "colab": {
     "base_uri": "https://localhost:8080/",
     "height": 998
    },
    "id": "NRTVAK1RXshl",
    "outputId": "6279ee5f-8167-4fd2-9167-bb4b151ffc86",
    "scrolled": false
   },
   "outputs": [
    {
     "name": "stdout",
     "output_type": "stream",
     "text": [
      "Проверим типы данных и пропущенные значения\n",
      "<class 'pandas.core.frame.DataFrame'>\n",
      "RangeIndex: 7043 entries, 0 to 7042\n",
      "Data columns (total 5 columns):\n",
      " #   Column         Non-Null Count  Dtype \n",
      "---  ------         --------------  ----- \n",
      " 0   customerID     7043 non-null   object\n",
      " 1   gender         7043 non-null   object\n",
      " 2   SeniorCitizen  7043 non-null   int64 \n",
      " 3   Partner        7043 non-null   object\n",
      " 4   Dependents     7043 non-null   object\n",
      "dtypes: int64(1), object(4)\n",
      "memory usage: 275.2+ KB\n"
     ]
    },
    {
     "data": {
      "text/plain": [
       "None"
      ]
     },
     "metadata": {},
     "output_type": "display_data"
    },
    {
     "name": "stdout",
     "output_type": "stream",
     "text": [
      "Посмотрим содержимое первых 5 строк\n"
     ]
    },
    {
     "data": {
      "text/html": [
       "<div>\n",
       "<style scoped>\n",
       "    .dataframe tbody tr th:only-of-type {\n",
       "        vertical-align: middle;\n",
       "    }\n",
       "\n",
       "    .dataframe tbody tr th {\n",
       "        vertical-align: top;\n",
       "    }\n",
       "\n",
       "    .dataframe thead th {\n",
       "        text-align: right;\n",
       "    }\n",
       "</style>\n",
       "<table border=\"1\" class=\"dataframe\">\n",
       "  <thead>\n",
       "    <tr style=\"text-align: right;\">\n",
       "      <th></th>\n",
       "      <th>customerID</th>\n",
       "      <th>gender</th>\n",
       "      <th>SeniorCitizen</th>\n",
       "      <th>Partner</th>\n",
       "      <th>Dependents</th>\n",
       "    </tr>\n",
       "  </thead>\n",
       "  <tbody>\n",
       "    <tr>\n",
       "      <th>0</th>\n",
       "      <td>7590-VHVEG</td>\n",
       "      <td>Female</td>\n",
       "      <td>0</td>\n",
       "      <td>Yes</td>\n",
       "      <td>No</td>\n",
       "    </tr>\n",
       "    <tr>\n",
       "      <th>1</th>\n",
       "      <td>5575-GNVDE</td>\n",
       "      <td>Male</td>\n",
       "      <td>0</td>\n",
       "      <td>No</td>\n",
       "      <td>No</td>\n",
       "    </tr>\n",
       "    <tr>\n",
       "      <th>2</th>\n",
       "      <td>3668-QPYBK</td>\n",
       "      <td>Male</td>\n",
       "      <td>0</td>\n",
       "      <td>No</td>\n",
       "      <td>No</td>\n",
       "    </tr>\n",
       "    <tr>\n",
       "      <th>3</th>\n",
       "      <td>7795-CFOCW</td>\n",
       "      <td>Male</td>\n",
       "      <td>0</td>\n",
       "      <td>No</td>\n",
       "      <td>No</td>\n",
       "    </tr>\n",
       "    <tr>\n",
       "      <th>4</th>\n",
       "      <td>9237-HQITU</td>\n",
       "      <td>Female</td>\n",
       "      <td>0</td>\n",
       "      <td>No</td>\n",
       "      <td>No</td>\n",
       "    </tr>\n",
       "  </tbody>\n",
       "</table>\n",
       "</div>"
      ],
      "text/plain": [
       "   customerID  gender  SeniorCitizen Partner Dependents\n",
       "0  7590-VHVEG  Female              0     Yes         No\n",
       "1  5575-GNVDE    Male              0      No         No\n",
       "2  3668-QPYBK    Male              0      No         No\n",
       "3  7795-CFOCW    Male              0      No         No\n",
       "4  9237-HQITU  Female              0      No         No"
      ]
     },
     "metadata": {},
     "output_type": "display_data"
    },
    {
     "name": "stdout",
     "output_type": "stream",
     "text": [
      "Посмотрим на описательную статистику\n"
     ]
    },
    {
     "data": {
      "text/html": [
       "<div>\n",
       "<style scoped>\n",
       "    .dataframe tbody tr th:only-of-type {\n",
       "        vertical-align: middle;\n",
       "    }\n",
       "\n",
       "    .dataframe tbody tr th {\n",
       "        vertical-align: top;\n",
       "    }\n",
       "\n",
       "    .dataframe thead th {\n",
       "        text-align: right;\n",
       "    }\n",
       "</style>\n",
       "<table border=\"1\" class=\"dataframe\">\n",
       "  <thead>\n",
       "    <tr style=\"text-align: right;\">\n",
       "      <th></th>\n",
       "      <th>count</th>\n",
       "      <th>mean</th>\n",
       "      <th>std</th>\n",
       "      <th>min</th>\n",
       "      <th>25%</th>\n",
       "      <th>50%</th>\n",
       "      <th>75%</th>\n",
       "      <th>max</th>\n",
       "    </tr>\n",
       "  </thead>\n",
       "  <tbody>\n",
       "    <tr>\n",
       "      <th>SeniorCitizen</th>\n",
       "      <td>7043.0</td>\n",
       "      <td>0.162147</td>\n",
       "      <td>0.368612</td>\n",
       "      <td>0.0</td>\n",
       "      <td>0.0</td>\n",
       "      <td>0.0</td>\n",
       "      <td>0.0</td>\n",
       "      <td>1.0</td>\n",
       "    </tr>\n",
       "  </tbody>\n",
       "</table>\n",
       "</div>"
      ],
      "text/plain": [
       "                count      mean       std  min  25%  50%  75%  max\n",
       "SeniorCitizen  7043.0  0.162147  0.368612  0.0  0.0  0.0  0.0  1.0"
      ]
     },
     "metadata": {},
     "output_type": "display_data"
    },
    {
     "name": "stdout",
     "output_type": "stream",
     "text": [
      "Unnamed: 0 не обнаружено лишних столбцов\n",
      "\n",
      "столбцов:  5 Index(['customerID', 'gender', 'SeniorCitizen', 'Partner', 'Dependents'], dtype='object')\n",
      "\n",
      "Частично выведем уникальные значения столбцов\n",
      "\n",
      "уникальные значения столбца 0 customerID\n",
      "['7590-VHVEG' '5575-GNVDE' '3668-QPYBK' ... '4801-JZAZL' '8361-LTMKD'\n",
      " '3186-AJIEK']\n",
      "\n",
      "\n",
      "уникальные значения столбца 1 gender\n",
      "['Female' 'Male']\n",
      "\n",
      "\n",
      "уникальные значения столбца 2 SeniorCitizen\n",
      "[0 1]\n",
      "\n",
      "\n",
      "уникальные значения столбца 3 Partner\n",
      "['Yes' 'No']\n",
      "\n",
      "\n",
      "уникальные значения столбца 4 Dependents\n",
      "['No' 'Yes']\n",
      "\n"
     ]
    }
   ],
   "source": [
    "df_personal = get_data('/datasets/final_provider/personal.csv')"
   ]
  },
  {
   "cell_type": "code",
   "execution_count": 11,
   "metadata": {
    "id": "LOK_7G-nXshl"
   },
   "outputs": [],
   "source": [
    "df_personal.columns = ['customer_id','gender', 'senior_citizen', 'partner', 'dependents']"
   ]
  },
  {
   "cell_type": "markdown",
   "metadata": {
    "id": "mtHCbwx_Xshm"
   },
   "source": [
    "### Таблица internet"
   ]
  },
  {
   "cell_type": "code",
   "execution_count": 12,
   "metadata": {
    "colab": {
     "base_uri": "https://localhost:8080/",
     "height": 1000
    },
    "id": "ds2-opLQXshm",
    "outputId": "0f21fce7-ca84-4ec7-f8b3-9e8df2e48683",
    "scrolled": false
   },
   "outputs": [
    {
     "name": "stdout",
     "output_type": "stream",
     "text": [
      "Проверим типы данных и пропущенные значения\n",
      "<class 'pandas.core.frame.DataFrame'>\n",
      "RangeIndex: 5517 entries, 0 to 5516\n",
      "Data columns (total 8 columns):\n",
      " #   Column            Non-Null Count  Dtype \n",
      "---  ------            --------------  ----- \n",
      " 0   customerID        5517 non-null   object\n",
      " 1   InternetService   5517 non-null   object\n",
      " 2   OnlineSecurity    5517 non-null   object\n",
      " 3   OnlineBackup      5517 non-null   object\n",
      " 4   DeviceProtection  5517 non-null   object\n",
      " 5   TechSupport       5517 non-null   object\n",
      " 6   StreamingTV       5517 non-null   object\n",
      " 7   StreamingMovies   5517 non-null   object\n",
      "dtypes: object(8)\n",
      "memory usage: 344.9+ KB\n"
     ]
    },
    {
     "data": {
      "text/plain": [
       "None"
      ]
     },
     "metadata": {},
     "output_type": "display_data"
    },
    {
     "name": "stdout",
     "output_type": "stream",
     "text": [
      "Посмотрим содержимое первых 5 строк\n"
     ]
    },
    {
     "data": {
      "text/html": [
       "<div>\n",
       "<style scoped>\n",
       "    .dataframe tbody tr th:only-of-type {\n",
       "        vertical-align: middle;\n",
       "    }\n",
       "\n",
       "    .dataframe tbody tr th {\n",
       "        vertical-align: top;\n",
       "    }\n",
       "\n",
       "    .dataframe thead th {\n",
       "        text-align: right;\n",
       "    }\n",
       "</style>\n",
       "<table border=\"1\" class=\"dataframe\">\n",
       "  <thead>\n",
       "    <tr style=\"text-align: right;\">\n",
       "      <th></th>\n",
       "      <th>customerID</th>\n",
       "      <th>InternetService</th>\n",
       "      <th>OnlineSecurity</th>\n",
       "      <th>OnlineBackup</th>\n",
       "      <th>DeviceProtection</th>\n",
       "      <th>TechSupport</th>\n",
       "      <th>StreamingTV</th>\n",
       "      <th>StreamingMovies</th>\n",
       "    </tr>\n",
       "  </thead>\n",
       "  <tbody>\n",
       "    <tr>\n",
       "      <th>0</th>\n",
       "      <td>7590-VHVEG</td>\n",
       "      <td>DSL</td>\n",
       "      <td>No</td>\n",
       "      <td>Yes</td>\n",
       "      <td>No</td>\n",
       "      <td>No</td>\n",
       "      <td>No</td>\n",
       "      <td>No</td>\n",
       "    </tr>\n",
       "    <tr>\n",
       "      <th>1</th>\n",
       "      <td>5575-GNVDE</td>\n",
       "      <td>DSL</td>\n",
       "      <td>Yes</td>\n",
       "      <td>No</td>\n",
       "      <td>Yes</td>\n",
       "      <td>No</td>\n",
       "      <td>No</td>\n",
       "      <td>No</td>\n",
       "    </tr>\n",
       "    <tr>\n",
       "      <th>2</th>\n",
       "      <td>3668-QPYBK</td>\n",
       "      <td>DSL</td>\n",
       "      <td>Yes</td>\n",
       "      <td>Yes</td>\n",
       "      <td>No</td>\n",
       "      <td>No</td>\n",
       "      <td>No</td>\n",
       "      <td>No</td>\n",
       "    </tr>\n",
       "    <tr>\n",
       "      <th>3</th>\n",
       "      <td>7795-CFOCW</td>\n",
       "      <td>DSL</td>\n",
       "      <td>Yes</td>\n",
       "      <td>No</td>\n",
       "      <td>Yes</td>\n",
       "      <td>Yes</td>\n",
       "      <td>No</td>\n",
       "      <td>No</td>\n",
       "    </tr>\n",
       "    <tr>\n",
       "      <th>4</th>\n",
       "      <td>9237-HQITU</td>\n",
       "      <td>Fiber optic</td>\n",
       "      <td>No</td>\n",
       "      <td>No</td>\n",
       "      <td>No</td>\n",
       "      <td>No</td>\n",
       "      <td>No</td>\n",
       "      <td>No</td>\n",
       "    </tr>\n",
       "  </tbody>\n",
       "</table>\n",
       "</div>"
      ],
      "text/plain": [
       "   customerID InternetService OnlineSecurity OnlineBackup DeviceProtection  \\\n",
       "0  7590-VHVEG             DSL             No          Yes               No   \n",
       "1  5575-GNVDE             DSL            Yes           No              Yes   \n",
       "2  3668-QPYBK             DSL            Yes          Yes               No   \n",
       "3  7795-CFOCW             DSL            Yes           No              Yes   \n",
       "4  9237-HQITU     Fiber optic             No           No               No   \n",
       "\n",
       "  TechSupport StreamingTV StreamingMovies  \n",
       "0          No          No              No  \n",
       "1          No          No              No  \n",
       "2          No          No              No  \n",
       "3         Yes          No              No  \n",
       "4          No          No              No  "
      ]
     },
     "metadata": {},
     "output_type": "display_data"
    },
    {
     "name": "stdout",
     "output_type": "stream",
     "text": [
      "Посмотрим на описательную статистику\n"
     ]
    },
    {
     "data": {
      "text/html": [
       "<div>\n",
       "<style scoped>\n",
       "    .dataframe tbody tr th:only-of-type {\n",
       "        vertical-align: middle;\n",
       "    }\n",
       "\n",
       "    .dataframe tbody tr th {\n",
       "        vertical-align: top;\n",
       "    }\n",
       "\n",
       "    .dataframe thead th {\n",
       "        text-align: right;\n",
       "    }\n",
       "</style>\n",
       "<table border=\"1\" class=\"dataframe\">\n",
       "  <thead>\n",
       "    <tr style=\"text-align: right;\">\n",
       "      <th></th>\n",
       "      <th>count</th>\n",
       "      <th>unique</th>\n",
       "      <th>top</th>\n",
       "      <th>freq</th>\n",
       "    </tr>\n",
       "  </thead>\n",
       "  <tbody>\n",
       "    <tr>\n",
       "      <th>customerID</th>\n",
       "      <td>5517</td>\n",
       "      <td>5517</td>\n",
       "      <td>5453-YBTWV</td>\n",
       "      <td>1</td>\n",
       "    </tr>\n",
       "    <tr>\n",
       "      <th>InternetService</th>\n",
       "      <td>5517</td>\n",
       "      <td>2</td>\n",
       "      <td>Fiber optic</td>\n",
       "      <td>3096</td>\n",
       "    </tr>\n",
       "    <tr>\n",
       "      <th>OnlineSecurity</th>\n",
       "      <td>5517</td>\n",
       "      <td>2</td>\n",
       "      <td>No</td>\n",
       "      <td>3498</td>\n",
       "    </tr>\n",
       "    <tr>\n",
       "      <th>OnlineBackup</th>\n",
       "      <td>5517</td>\n",
       "      <td>2</td>\n",
       "      <td>No</td>\n",
       "      <td>3088</td>\n",
       "    </tr>\n",
       "    <tr>\n",
       "      <th>DeviceProtection</th>\n",
       "      <td>5517</td>\n",
       "      <td>2</td>\n",
       "      <td>No</td>\n",
       "      <td>3095</td>\n",
       "    </tr>\n",
       "    <tr>\n",
       "      <th>TechSupport</th>\n",
       "      <td>5517</td>\n",
       "      <td>2</td>\n",
       "      <td>No</td>\n",
       "      <td>3473</td>\n",
       "    </tr>\n",
       "    <tr>\n",
       "      <th>StreamingTV</th>\n",
       "      <td>5517</td>\n",
       "      <td>2</td>\n",
       "      <td>No</td>\n",
       "      <td>2810</td>\n",
       "    </tr>\n",
       "    <tr>\n",
       "      <th>StreamingMovies</th>\n",
       "      <td>5517</td>\n",
       "      <td>2</td>\n",
       "      <td>No</td>\n",
       "      <td>2785</td>\n",
       "    </tr>\n",
       "  </tbody>\n",
       "</table>\n",
       "</div>"
      ],
      "text/plain": [
       "                 count unique          top  freq\n",
       "customerID        5517   5517   5453-YBTWV     1\n",
       "InternetService   5517      2  Fiber optic  3096\n",
       "OnlineSecurity    5517      2           No  3498\n",
       "OnlineBackup      5517      2           No  3088\n",
       "DeviceProtection  5517      2           No  3095\n",
       "TechSupport       5517      2           No  3473\n",
       "StreamingTV       5517      2           No  2810\n",
       "StreamingMovies   5517      2           No  2785"
      ]
     },
     "metadata": {},
     "output_type": "display_data"
    },
    {
     "name": "stdout",
     "output_type": "stream",
     "text": [
      "Unnamed: 0 не обнаружено лишних столбцов\n",
      "\n",
      "столбцов:  8 Index(['customerID', 'InternetService', 'OnlineSecurity', 'OnlineBackup',\n",
      "       'DeviceProtection', 'TechSupport', 'StreamingTV', 'StreamingMovies'],\n",
      "      dtype='object')\n",
      "\n",
      "Частично выведем уникальные значения столбцов\n",
      "\n",
      "уникальные значения столбца 0 customerID\n",
      "['7590-VHVEG' '5575-GNVDE' '3668-QPYBK' ... '4801-JZAZL' '8361-LTMKD'\n",
      " '3186-AJIEK']\n",
      "\n",
      "\n",
      "уникальные значения столбца 1 InternetService\n",
      "['DSL' 'Fiber optic']\n",
      "\n",
      "\n",
      "уникальные значения столбца 2 OnlineSecurity\n",
      "['No' 'Yes']\n",
      "\n",
      "\n",
      "уникальные значения столбца 3 OnlineBackup\n",
      "['Yes' 'No']\n",
      "\n",
      "\n",
      "уникальные значения столбца 4 DeviceProtection\n",
      "['No' 'Yes']\n",
      "\n",
      "\n",
      "уникальные значения столбца 5 TechSupport\n",
      "['No' 'Yes']\n",
      "\n",
      "\n",
      "уникальные значения столбца 6 StreamingTV\n",
      "['No' 'Yes']\n",
      "\n",
      "\n",
      "уникальные значения столбца 7 StreamingMovies\n",
      "['No' 'Yes']\n",
      "\n"
     ]
    }
   ],
   "source": [
    "df_internet = get_data('/datasets/final_provider/internet.csv')"
   ]
  },
  {
   "cell_type": "code",
   "execution_count": 13,
   "metadata": {
    "id": "QXpPtnvkXshm"
   },
   "outputs": [],
   "source": [
    "df_internet.columns = \\\n",
    "['customer_id', 'internet_service', \\\n",
    " 'online_security', 'online_backup', \n",
    " 'device_protection', 'tech_support', \n",
    " 'streaming_TV', 'streaming_movies']"
   ]
  },
  {
   "cell_type": "markdown",
   "metadata": {
    "id": "IRy0vIpiXshn"
   },
   "source": [
    "### Таблица phone"
   ]
  },
  {
   "cell_type": "code",
   "execution_count": 14,
   "metadata": {
    "colab": {
     "base_uri": "https://localhost:8080/",
     "height": 770
    },
    "id": "BNOPruCgXshn",
    "outputId": "1997c31b-1669-47e8-daa8-0d7bb4bd3bf6"
   },
   "outputs": [
    {
     "name": "stdout",
     "output_type": "stream",
     "text": [
      "Проверим типы данных и пропущенные значения\n",
      "<class 'pandas.core.frame.DataFrame'>\n",
      "RangeIndex: 6361 entries, 0 to 6360\n",
      "Data columns (total 2 columns):\n",
      " #   Column         Non-Null Count  Dtype \n",
      "---  ------         --------------  ----- \n",
      " 0   customerID     6361 non-null   object\n",
      " 1   MultipleLines  6361 non-null   object\n",
      "dtypes: object(2)\n",
      "memory usage: 99.5+ KB\n"
     ]
    },
    {
     "data": {
      "text/plain": [
       "None"
      ]
     },
     "metadata": {},
     "output_type": "display_data"
    },
    {
     "name": "stdout",
     "output_type": "stream",
     "text": [
      "Посмотрим содержимое первых 5 строк\n"
     ]
    },
    {
     "data": {
      "text/html": [
       "<div>\n",
       "<style scoped>\n",
       "    .dataframe tbody tr th:only-of-type {\n",
       "        vertical-align: middle;\n",
       "    }\n",
       "\n",
       "    .dataframe tbody tr th {\n",
       "        vertical-align: top;\n",
       "    }\n",
       "\n",
       "    .dataframe thead th {\n",
       "        text-align: right;\n",
       "    }\n",
       "</style>\n",
       "<table border=\"1\" class=\"dataframe\">\n",
       "  <thead>\n",
       "    <tr style=\"text-align: right;\">\n",
       "      <th></th>\n",
       "      <th>customerID</th>\n",
       "      <th>MultipleLines</th>\n",
       "    </tr>\n",
       "  </thead>\n",
       "  <tbody>\n",
       "    <tr>\n",
       "      <th>0</th>\n",
       "      <td>5575-GNVDE</td>\n",
       "      <td>No</td>\n",
       "    </tr>\n",
       "    <tr>\n",
       "      <th>1</th>\n",
       "      <td>3668-QPYBK</td>\n",
       "      <td>No</td>\n",
       "    </tr>\n",
       "    <tr>\n",
       "      <th>2</th>\n",
       "      <td>9237-HQITU</td>\n",
       "      <td>No</td>\n",
       "    </tr>\n",
       "    <tr>\n",
       "      <th>3</th>\n",
       "      <td>9305-CDSKC</td>\n",
       "      <td>Yes</td>\n",
       "    </tr>\n",
       "    <tr>\n",
       "      <th>4</th>\n",
       "      <td>1452-KIOVK</td>\n",
       "      <td>Yes</td>\n",
       "    </tr>\n",
       "  </tbody>\n",
       "</table>\n",
       "</div>"
      ],
      "text/plain": [
       "   customerID MultipleLines\n",
       "0  5575-GNVDE            No\n",
       "1  3668-QPYBK            No\n",
       "2  9237-HQITU            No\n",
       "3  9305-CDSKC           Yes\n",
       "4  1452-KIOVK           Yes"
      ]
     },
     "metadata": {},
     "output_type": "display_data"
    },
    {
     "name": "stdout",
     "output_type": "stream",
     "text": [
      "Посмотрим на описательную статистику\n"
     ]
    },
    {
     "data": {
      "text/html": [
       "<div>\n",
       "<style scoped>\n",
       "    .dataframe tbody tr th:only-of-type {\n",
       "        vertical-align: middle;\n",
       "    }\n",
       "\n",
       "    .dataframe tbody tr th {\n",
       "        vertical-align: top;\n",
       "    }\n",
       "\n",
       "    .dataframe thead th {\n",
       "        text-align: right;\n",
       "    }\n",
       "</style>\n",
       "<table border=\"1\" class=\"dataframe\">\n",
       "  <thead>\n",
       "    <tr style=\"text-align: right;\">\n",
       "      <th></th>\n",
       "      <th>count</th>\n",
       "      <th>unique</th>\n",
       "      <th>top</th>\n",
       "      <th>freq</th>\n",
       "    </tr>\n",
       "  </thead>\n",
       "  <tbody>\n",
       "    <tr>\n",
       "      <th>customerID</th>\n",
       "      <td>6361</td>\n",
       "      <td>6361</td>\n",
       "      <td>5453-YBTWV</td>\n",
       "      <td>1</td>\n",
       "    </tr>\n",
       "    <tr>\n",
       "      <th>MultipleLines</th>\n",
       "      <td>6361</td>\n",
       "      <td>2</td>\n",
       "      <td>No</td>\n",
       "      <td>3390</td>\n",
       "    </tr>\n",
       "  </tbody>\n",
       "</table>\n",
       "</div>"
      ],
      "text/plain": [
       "              count unique         top  freq\n",
       "customerID     6361   6361  5453-YBTWV     1\n",
       "MultipleLines  6361      2          No  3390"
      ]
     },
     "metadata": {},
     "output_type": "display_data"
    },
    {
     "name": "stdout",
     "output_type": "stream",
     "text": [
      "Unnamed: 0 не обнаружено лишних столбцов\n",
      "\n",
      "столбцов:  2 Index(['customerID', 'MultipleLines'], dtype='object')\n",
      "\n",
      "Частично выведем уникальные значения столбцов\n",
      "\n",
      "уникальные значения столбца 0 customerID\n",
      "['5575-GNVDE' '3668-QPYBK' '9237-HQITU' ... '2234-XADUH' '8361-LTMKD'\n",
      " '3186-AJIEK']\n",
      "\n",
      "\n",
      "уникальные значения столбца 1 MultipleLines\n",
      "['No' 'Yes']\n",
      "\n"
     ]
    }
   ],
   "source": [
    "df_phone = get_data('/datasets/final_provider/phone.csv')"
   ]
  },
  {
   "cell_type": "code",
   "execution_count": 15,
   "metadata": {
    "id": "lUiLKHGRXshn"
   },
   "outputs": [],
   "source": [
    "df_phone.columns = ['customer_id', 'multiple_lines']"
   ]
  },
  {
   "cell_type": "markdown",
   "metadata": {
    "id": "BpJF9jrBXsho"
   },
   "source": [
    "## Исследовательский анализ"
   ]
  },
  {
   "cell_type": "markdown",
   "metadata": {
    "id": "dWJbJILzXsho"
   },
   "source": [
    "### Базовая проверка данных"
   ]
  },
  {
   "cell_type": "markdown",
   "metadata": {
    "id": "kLz9pjC3Xsho"
   },
   "source": [
    "- Сколько всего пользователей?\n",
    "- За какой период времени есть данные?\n",
    "- Анализ пропусков после объединения таблиц\n"
   ]
  },
  {
   "cell_type": "code",
   "execution_count": 16,
   "metadata": {
    "colab": {
     "base_uri": "https://localhost:8080/"
    },
    "id": "751SRsEOXshp",
    "outputId": "1881cb1c-3937-4522-bd21-8b5a6cc8ce2a"
   },
   "outputs": [
    {
     "name": "stdout",
     "output_type": "stream",
     "text": [
      "Количетво уникальных пользователей: 7043\n"
     ]
    }
   ],
   "source": [
    "print('Количетво уникальных пользователей:', df_contract.customer_id.nunique())"
   ]
  },
  {
   "cell_type": "code",
   "execution_count": 17,
   "metadata": {
    "colab": {
     "base_uri": "https://localhost:8080/"
    },
    "id": "VBagCrIYXshp",
    "outputId": "b6429072-0e25-4454-bc18-bd57b974ad50"
   },
   "outputs": [
    {
     "name": "stdout",
     "output_type": "stream",
     "text": [
      "Данные предоставлены за: 2314 days 00:00:00\n"
     ]
    }
   ],
   "source": [
    "print('Данные предоставлены за:', df_contract.begin_date.max() - df_contract.begin_date.min())"
   ]
  },
  {
   "cell_type": "markdown",
   "metadata": {
    "id": "_4CWN-XIXshq"
   },
   "source": [
    "Объединим таблицы"
   ]
  },
  {
   "cell_type": "code",
   "execution_count": 18,
   "metadata": {
    "id": "ykCbfGriXshq"
   },
   "outputs": [],
   "source": [
    "contr_pers = df_contract.merge(df_personal, on='customer_id')"
   ]
  },
  {
   "cell_type": "code",
   "execution_count": 19,
   "metadata": {
    "id": "bHp4e2I_Xshq"
   },
   "outputs": [],
   "source": [
    "contr_pers_int = contr_pers.merge(df_internet, on='customer_id', how='outer')"
   ]
  },
  {
   "cell_type": "code",
   "execution_count": 20,
   "metadata": {
    "colab": {
     "base_uri": "https://localhost:8080/"
    },
    "id": "zTmafcntXshq",
    "outputId": "3d6bab42-a6dd-4b6b-989e-a6786d950f03"
   },
   "outputs": [
    {
     "name": "stdout",
     "output_type": "stream",
     "text": [
      "<class 'pandas.core.frame.DataFrame'>\n",
      "Int64Index: 7043 entries, 0 to 7042\n",
      "Data columns (total 19 columns):\n",
      " #   Column             Non-Null Count  Dtype         \n",
      "---  ------             --------------  -----         \n",
      " 0   customer_id        7043 non-null   object        \n",
      " 1   begin_date         7043 non-null   datetime64[ns]\n",
      " 2   end_date           7043 non-null   object        \n",
      " 3   type               7043 non-null   object        \n",
      " 4   paperless_billing  7043 non-null   object        \n",
      " 5   payment_method     7043 non-null   object        \n",
      " 6   monthly_charges    7043 non-null   float64       \n",
      " 7   total_charges      7043 non-null   float64       \n",
      " 8   gender             7043 non-null   object        \n",
      " 9   senior_citizen     7043 non-null   int64         \n",
      " 10  partner            7043 non-null   object        \n",
      " 11  dependents         7043 non-null   object        \n",
      " 12  internet_service   5517 non-null   object        \n",
      " 13  online_security    5517 non-null   object        \n",
      " 14  online_backup      5517 non-null   object        \n",
      " 15  device_protection  5517 non-null   object        \n",
      " 16  tech_support       5517 non-null   object        \n",
      " 17  streaming_TV       5517 non-null   object        \n",
      " 18  streaming_movies   5517 non-null   object        \n",
      "dtypes: datetime64[ns](1), float64(2), int64(1), object(15)\n",
      "memory usage: 1.1+ MB\n"
     ]
    }
   ],
   "source": [
    "contr_pers_int.info()"
   ]
  },
  {
   "cell_type": "code",
   "execution_count": 21,
   "metadata": {
    "colab": {
     "base_uri": "https://localhost:8080/"
    },
    "id": "Dn4f5dM_Xshr",
    "outputId": "32448f64-a041-4444-92c1-1e470af9c4e8"
   },
   "outputs": [
    {
     "name": "stdout",
     "output_type": "stream",
     "text": [
      "<class 'pandas.core.frame.DataFrame'>\n",
      "Int64Index: 7043 entries, 0 to 7042\n",
      "Data columns (total 20 columns):\n",
      " #   Column             Non-Null Count  Dtype         \n",
      "---  ------             --------------  -----         \n",
      " 0   customer_id        7043 non-null   object        \n",
      " 1   begin_date         7043 non-null   datetime64[ns]\n",
      " 2   end_date           7043 non-null   object        \n",
      " 3   type               7043 non-null   object        \n",
      " 4   paperless_billing  7043 non-null   object        \n",
      " 5   payment_method     7043 non-null   object        \n",
      " 6   monthly_charges    7043 non-null   float64       \n",
      " 7   total_charges      7043 non-null   float64       \n",
      " 8   gender             7043 non-null   object        \n",
      " 9   senior_citizen     7043 non-null   int64         \n",
      " 10  partner            7043 non-null   object        \n",
      " 11  dependents         7043 non-null   object        \n",
      " 12  internet_service   5517 non-null   object        \n",
      " 13  online_security    5517 non-null   object        \n",
      " 14  online_backup      5517 non-null   object        \n",
      " 15  device_protection  5517 non-null   object        \n",
      " 16  tech_support       5517 non-null   object        \n",
      " 17  streaming_TV       5517 non-null   object        \n",
      " 18  streaming_movies   5517 non-null   object        \n",
      " 19  multiple_lines     6361 non-null   object        \n",
      "dtypes: datetime64[ns](1), float64(2), int64(1), object(16)\n",
      "memory usage: 1.1+ MB\n"
     ]
    }
   ],
   "source": [
    "df_merged = contr_pers_int.merge(df_phone, on='customer_id', how='outer')\n",
    "df_merged.info()"
   ]
  },
  {
   "cell_type": "markdown",
   "metadata": {
    "id": "LJhRrVtGXshr"
   },
   "source": [
    "Проанализируем пропуски после объединения таблиц"
   ]
  },
  {
   "cell_type": "code",
   "execution_count": 22,
   "metadata": {
    "colab": {
     "base_uri": "https://localhost:8080/",
     "height": 335
    },
    "id": "W99afFutXshr",
    "outputId": "ea5568ff-fa2a-41c1-8447-87f63be9597d",
    "scrolled": true
   },
   "outputs": [
    {
     "name": "stdout",
     "output_type": "stream",
     "text": [
      "Your selected dataframe has 20 columns and 7043 Rows.\n",
      "There are 8 columns that have missing values.\n"
     ]
    },
    {
     "data": {
      "text/html": [
       "<div>\n",
       "<style scoped>\n",
       "    .dataframe tbody tr th:only-of-type {\n",
       "        vertical-align: middle;\n",
       "    }\n",
       "\n",
       "    .dataframe tbody tr th {\n",
       "        vertical-align: top;\n",
       "    }\n",
       "\n",
       "    .dataframe thead th {\n",
       "        text-align: right;\n",
       "    }\n",
       "</style>\n",
       "<table border=\"1\" class=\"dataframe\">\n",
       "  <thead>\n",
       "    <tr style=\"text-align: right;\">\n",
       "      <th></th>\n",
       "      <th>Zero Values</th>\n",
       "      <th>Missing Values</th>\n",
       "      <th>% of Total Values</th>\n",
       "      <th>Total Zero Missing Values</th>\n",
       "      <th>% Total Zero Missing Values</th>\n",
       "      <th>Data Type</th>\n",
       "    </tr>\n",
       "  </thead>\n",
       "  <tbody>\n",
       "    <tr>\n",
       "      <th>internet_service</th>\n",
       "      <td>0</td>\n",
       "      <td>1526</td>\n",
       "      <td>21.7</td>\n",
       "      <td>1526</td>\n",
       "      <td>21.7</td>\n",
       "      <td>object</td>\n",
       "    </tr>\n",
       "    <tr>\n",
       "      <th>online_security</th>\n",
       "      <td>0</td>\n",
       "      <td>1526</td>\n",
       "      <td>21.7</td>\n",
       "      <td>1526</td>\n",
       "      <td>21.7</td>\n",
       "      <td>object</td>\n",
       "    </tr>\n",
       "    <tr>\n",
       "      <th>online_backup</th>\n",
       "      <td>0</td>\n",
       "      <td>1526</td>\n",
       "      <td>21.7</td>\n",
       "      <td>1526</td>\n",
       "      <td>21.7</td>\n",
       "      <td>object</td>\n",
       "    </tr>\n",
       "    <tr>\n",
       "      <th>device_protection</th>\n",
       "      <td>0</td>\n",
       "      <td>1526</td>\n",
       "      <td>21.7</td>\n",
       "      <td>1526</td>\n",
       "      <td>21.7</td>\n",
       "      <td>object</td>\n",
       "    </tr>\n",
       "    <tr>\n",
       "      <th>tech_support</th>\n",
       "      <td>0</td>\n",
       "      <td>1526</td>\n",
       "      <td>21.7</td>\n",
       "      <td>1526</td>\n",
       "      <td>21.7</td>\n",
       "      <td>object</td>\n",
       "    </tr>\n",
       "    <tr>\n",
       "      <th>streaming_TV</th>\n",
       "      <td>0</td>\n",
       "      <td>1526</td>\n",
       "      <td>21.7</td>\n",
       "      <td>1526</td>\n",
       "      <td>21.7</td>\n",
       "      <td>object</td>\n",
       "    </tr>\n",
       "    <tr>\n",
       "      <th>streaming_movies</th>\n",
       "      <td>0</td>\n",
       "      <td>1526</td>\n",
       "      <td>21.7</td>\n",
       "      <td>1526</td>\n",
       "      <td>21.7</td>\n",
       "      <td>object</td>\n",
       "    </tr>\n",
       "    <tr>\n",
       "      <th>multiple_lines</th>\n",
       "      <td>0</td>\n",
       "      <td>682</td>\n",
       "      <td>9.7</td>\n",
       "      <td>682</td>\n",
       "      <td>9.7</td>\n",
       "      <td>object</td>\n",
       "    </tr>\n",
       "  </tbody>\n",
       "</table>\n",
       "</div>"
      ],
      "text/plain": [
       "                   Zero Values  Missing Values  % of Total Values  \\\n",
       "internet_service             0            1526               21.7   \n",
       "online_security              0            1526               21.7   \n",
       "online_backup                0            1526               21.7   \n",
       "device_protection            0            1526               21.7   \n",
       "tech_support                 0            1526               21.7   \n",
       "streaming_TV                 0            1526               21.7   \n",
       "streaming_movies             0            1526               21.7   \n",
       "multiple_lines               0             682                9.7   \n",
       "\n",
       "                   Total Zero Missing Values  % Total Zero Missing Values  \\\n",
       "internet_service                        1526                         21.7   \n",
       "online_security                         1526                         21.7   \n",
       "online_backup                           1526                         21.7   \n",
       "device_protection                       1526                         21.7   \n",
       "tech_support                            1526                         21.7   \n",
       "streaming_TV                            1526                         21.7   \n",
       "streaming_movies                        1526                         21.7   \n",
       "multiple_lines                           682                          9.7   \n",
       "\n",
       "                  Data Type  \n",
       "internet_service     object  \n",
       "online_security      object  \n",
       "online_backup        object  \n",
       "device_protection    object  \n",
       "tech_support         object  \n",
       "streaming_TV         object  \n",
       "streaming_movies     object  \n",
       "multiple_lines       object  "
      ]
     },
     "execution_count": 22,
     "metadata": {},
     "output_type": "execute_result"
    }
   ],
   "source": [
    "def missing_zero_values_table(df):\n",
    "        zero_val = (df == 0.00).astype(int).sum(axis=0)\n",
    "        mis_val = df.isnull().sum()\n",
    "        mis_val_percent = 100 * df.isnull().sum() / len(df)\n",
    "        mz_table = pd.concat([zero_val, mis_val, mis_val_percent], axis=1)\n",
    "        mz_table = mz_table.rename(\n",
    "        columns = {0 : 'Zero Values', 1 : 'Missing Values', 2 : '% of Total Values'})\n",
    "        mz_table['Total Zero Missing Values'] = mz_table['Zero Values'] + mz_table['Missing Values']\n",
    "        mz_table['% Total Zero Missing Values'] = 100 * mz_table['Total Zero Missing Values'] / len(df)\n",
    "        mz_table['Data Type'] = df.dtypes\n",
    "        mz_table = mz_table[\n",
    "            mz_table.iloc[:,1] != 0].sort_values(\n",
    "        '% of Total Values', ascending=False).round(1)\n",
    "        print (\"Your selected dataframe has \" + str(df.shape[1]) + \" columns and \" + str(df.shape[0]) + \" Rows.\\n\"      \n",
    "            \"There are \" + str(mz_table.shape[0]) +\n",
    "              \" columns that have missing values.\")\n",
    "        return mz_table\n",
    "\n",
    "missing_zero_values_table(df_merged)"
   ]
  },
  {
   "cell_type": "markdown",
   "metadata": {
    "id": "n2tpW1mgXshr"
   },
   "source": [
    "У 1526 пользователей отсутствуют данные по интернет услугам"
   ]
  },
  {
   "cell_type": "markdown",
   "metadata": {
    "id": "fm2gmpt0Xshr"
   },
   "source": [
    "Заполним предварительно пропуски значением 'No'."
   ]
  },
  {
   "cell_type": "code",
   "execution_count": 23,
   "metadata": {
    "id": "yI7yY6P3Xshs"
   },
   "outputs": [],
   "source": [
    "df_clear = df_merged.fillna('No')"
   ]
  },
  {
   "cell_type": "code",
   "execution_count": 24,
   "metadata": {
    "colab": {
     "base_uri": "https://localhost:8080/",
     "height": 84
    },
    "id": "Y9nPCYfNXshs",
    "outputId": "1b3ded5f-073f-430c-a16f-e632a5ecd1be"
   },
   "outputs": [
    {
     "name": "stdout",
     "output_type": "stream",
     "text": [
      "Your selected dataframe has 20 columns and 7043 Rows.\n",
      "There are 0 columns that have missing values.\n"
     ]
    },
    {
     "data": {
      "text/html": [
       "<div>\n",
       "<style scoped>\n",
       "    .dataframe tbody tr th:only-of-type {\n",
       "        vertical-align: middle;\n",
       "    }\n",
       "\n",
       "    .dataframe tbody tr th {\n",
       "        vertical-align: top;\n",
       "    }\n",
       "\n",
       "    .dataframe thead th {\n",
       "        text-align: right;\n",
       "    }\n",
       "</style>\n",
       "<table border=\"1\" class=\"dataframe\">\n",
       "  <thead>\n",
       "    <tr style=\"text-align: right;\">\n",
       "      <th></th>\n",
       "      <th>Zero Values</th>\n",
       "      <th>Missing Values</th>\n",
       "      <th>% of Total Values</th>\n",
       "      <th>Total Zero Missing Values</th>\n",
       "      <th>% Total Zero Missing Values</th>\n",
       "      <th>Data Type</th>\n",
       "    </tr>\n",
       "  </thead>\n",
       "  <tbody>\n",
       "  </tbody>\n",
       "</table>\n",
       "</div>"
      ],
      "text/plain": [
       "Empty DataFrame\n",
       "Columns: [Zero Values, Missing Values, % of Total Values, Total Zero Missing Values, % Total Zero Missing Values, Data Type]\n",
       "Index: []"
      ]
     },
     "execution_count": 24,
     "metadata": {},
     "output_type": "execute_result"
    }
   ],
   "source": [
    "missing_zero_values_table(df_clear)"
   ]
  },
  {
   "cell_type": "code",
   "execution_count": 25,
   "metadata": {
    "colab": {
     "base_uri": "https://localhost:8080/"
    },
    "id": "mqebAyHmvLbF",
    "outputId": "5682442e-55ca-4a77-db9a-2aa611301c66"
   },
   "outputs": [
    {
     "name": "stdout",
     "output_type": "stream",
     "text": [
      "<class 'pandas.core.frame.DataFrame'>\n",
      "Int64Index: 7043 entries, 0 to 7042\n",
      "Data columns (total 20 columns):\n",
      " #   Column             Non-Null Count  Dtype         \n",
      "---  ------             --------------  -----         \n",
      " 0   customer_id        7043 non-null   object        \n",
      " 1   begin_date         7043 non-null   datetime64[ns]\n",
      " 2   end_date           7043 non-null   object        \n",
      " 3   type               7043 non-null   object        \n",
      " 4   paperless_billing  7043 non-null   object        \n",
      " 5   payment_method     7043 non-null   object        \n",
      " 6   monthly_charges    7043 non-null   float64       \n",
      " 7   total_charges      7043 non-null   float64       \n",
      " 8   gender             7043 non-null   object        \n",
      " 9   senior_citizen     7043 non-null   int64         \n",
      " 10  partner            7043 non-null   object        \n",
      " 11  dependents         7043 non-null   object        \n",
      " 12  internet_service   7043 non-null   object        \n",
      " 13  online_security    7043 non-null   object        \n",
      " 14  online_backup      7043 non-null   object        \n",
      " 15  device_protection  7043 non-null   object        \n",
      " 16  tech_support       7043 non-null   object        \n",
      " 17  streaming_TV       7043 non-null   object        \n",
      " 18  streaming_movies   7043 non-null   object        \n",
      " 19  multiple_lines     7043 non-null   object        \n",
      "dtypes: datetime64[ns](1), float64(2), int64(1), object(16)\n",
      "memory usage: 1.1+ MB\n"
     ]
    }
   ],
   "source": [
    "df_clear.info()"
   ]
  },
  {
   "cell_type": "code",
   "execution_count": 26,
   "metadata": {
    "colab": {
     "base_uri": "https://localhost:8080/"
    },
    "id": "VmEl391CXshs",
    "outputId": "c2447d06-9285-4e01-e757-736b6cea3b0a"
   },
   "outputs": [
    {
     "name": "stdout",
     "output_type": "stream",
     "text": [
      "Количество пользователей у которых закончился договор: 1869\n"
     ]
    }
   ],
   "source": [
    "print('Количество пользователей у которых закончился договор:', df_merged[df_merged['end_date'] != 'No'].shape[0])"
   ]
  },
  {
   "cell_type": "markdown",
   "metadata": {
    "id": "wkLlzSl5Xsht"
   },
   "source": [
    "**Вывод:** Предварительно были объединены таблицы и обработаны пропуски образовавшиеся в результате. Обнаружен дисбаланс классов требующий обработки."
   ]
  },
  {
   "cell_type": "markdown",
   "metadata": {
    "id": "z619DuwM8wEw"
   },
   "source": [
    "## Подготовка признаков"
   ]
  },
  {
   "cell_type": "markdown",
   "metadata": {
    "id": "iMcJVZQTal5Z"
   },
   "source": [
    "Разметим целевой признак"
   ]
  },
  {
   "cell_type": "code",
   "execution_count": 27,
   "metadata": {
    "id": "L28pTK3BZIun"
   },
   "outputs": [],
   "source": [
    "df_clear['exited'] = df_clear['end_date'].apply(lambda x: 0 if x == 'No' else 1)"
   ]
  },
  {
   "cell_type": "markdown",
   "metadata": {},
   "source": [
    "Добавим дополнительные признаки:"
   ]
  },
  {
   "cell_type": "code",
   "execution_count": 28,
   "metadata": {},
   "outputs": [],
   "source": [
    "# Информация актуальна на 1 февраля 2020, поэтому заполним недостающие данные по длительнсоти жизни\n",
    "df_clear['end_date'] = df_clear['end_date'].replace('No', '2020-02-01 00:00:00')\n",
    "# Изменим тип данных\n",
    "df_clear['end_date'] = pd.to_datetime(df_clear['end_date'], format='%Y-%m-%d')\n",
    "# Добавим новый признак\n",
    "df_clear['lifecycle'] = df_clear['end_date'] - df_clear['begin_date']\n",
    "# Изменим тип данных\n",
    "df_clear['lifecycle'] = df_clear['lifecycle'].dt.days"
   ]
  },
  {
   "cell_type": "code",
   "execution_count": 29,
   "metadata": {
    "colab": {
     "base_uri": "https://localhost:8080/",
     "height": 409
    },
    "id": "G4wccsuUc5v3",
    "outputId": "226b7e74-786f-4fa8-f430-5d43cbd6ae7f"
   },
   "outputs": [
    {
     "data": {
      "text/html": [
       "<div>\n",
       "<style scoped>\n",
       "    .dataframe tbody tr th:only-of-type {\n",
       "        vertical-align: middle;\n",
       "    }\n",
       "\n",
       "    .dataframe tbody tr th {\n",
       "        vertical-align: top;\n",
       "    }\n",
       "\n",
       "    .dataframe thead th {\n",
       "        text-align: right;\n",
       "    }\n",
       "</style>\n",
       "<table border=\"1\" class=\"dataframe\">\n",
       "  <thead>\n",
       "    <tr style=\"text-align: right;\">\n",
       "      <th></th>\n",
       "      <th>customer_id</th>\n",
       "      <th>begin_date</th>\n",
       "      <th>end_date</th>\n",
       "      <th>type</th>\n",
       "      <th>paperless_billing</th>\n",
       "      <th>payment_method</th>\n",
       "      <th>monthly_charges</th>\n",
       "      <th>total_charges</th>\n",
       "      <th>gender</th>\n",
       "      <th>senior_citizen</th>\n",
       "      <th>...</th>\n",
       "      <th>internet_service</th>\n",
       "      <th>online_security</th>\n",
       "      <th>online_backup</th>\n",
       "      <th>device_protection</th>\n",
       "      <th>tech_support</th>\n",
       "      <th>streaming_TV</th>\n",
       "      <th>streaming_movies</th>\n",
       "      <th>multiple_lines</th>\n",
       "      <th>exited</th>\n",
       "      <th>lifecycle</th>\n",
       "    </tr>\n",
       "  </thead>\n",
       "  <tbody>\n",
       "    <tr>\n",
       "      <th>0</th>\n",
       "      <td>7590-VHVEG</td>\n",
       "      <td>2020-01-01</td>\n",
       "      <td>2020-02-01</td>\n",
       "      <td>Month-to-month</td>\n",
       "      <td>Yes</td>\n",
       "      <td>Electronic check</td>\n",
       "      <td>29.85</td>\n",
       "      <td>29.85</td>\n",
       "      <td>Female</td>\n",
       "      <td>0</td>\n",
       "      <td>...</td>\n",
       "      <td>DSL</td>\n",
       "      <td>No</td>\n",
       "      <td>Yes</td>\n",
       "      <td>No</td>\n",
       "      <td>No</td>\n",
       "      <td>No</td>\n",
       "      <td>No</td>\n",
       "      <td>No</td>\n",
       "      <td>0</td>\n",
       "      <td>31</td>\n",
       "    </tr>\n",
       "    <tr>\n",
       "      <th>1</th>\n",
       "      <td>5575-GNVDE</td>\n",
       "      <td>2017-04-01</td>\n",
       "      <td>2020-02-01</td>\n",
       "      <td>One year</td>\n",
       "      <td>No</td>\n",
       "      <td>Mailed check</td>\n",
       "      <td>56.95</td>\n",
       "      <td>1889.50</td>\n",
       "      <td>Male</td>\n",
       "      <td>0</td>\n",
       "      <td>...</td>\n",
       "      <td>DSL</td>\n",
       "      <td>Yes</td>\n",
       "      <td>No</td>\n",
       "      <td>Yes</td>\n",
       "      <td>No</td>\n",
       "      <td>No</td>\n",
       "      <td>No</td>\n",
       "      <td>No</td>\n",
       "      <td>0</td>\n",
       "      <td>1036</td>\n",
       "    </tr>\n",
       "    <tr>\n",
       "      <th>2</th>\n",
       "      <td>3668-QPYBK</td>\n",
       "      <td>2019-10-01</td>\n",
       "      <td>2019-12-01</td>\n",
       "      <td>Month-to-month</td>\n",
       "      <td>Yes</td>\n",
       "      <td>Mailed check</td>\n",
       "      <td>53.85</td>\n",
       "      <td>108.15</td>\n",
       "      <td>Male</td>\n",
       "      <td>0</td>\n",
       "      <td>...</td>\n",
       "      <td>DSL</td>\n",
       "      <td>Yes</td>\n",
       "      <td>Yes</td>\n",
       "      <td>No</td>\n",
       "      <td>No</td>\n",
       "      <td>No</td>\n",
       "      <td>No</td>\n",
       "      <td>No</td>\n",
       "      <td>1</td>\n",
       "      <td>61</td>\n",
       "    </tr>\n",
       "    <tr>\n",
       "      <th>3</th>\n",
       "      <td>7795-CFOCW</td>\n",
       "      <td>2016-05-01</td>\n",
       "      <td>2020-02-01</td>\n",
       "      <td>One year</td>\n",
       "      <td>No</td>\n",
       "      <td>Bank transfer (automatic)</td>\n",
       "      <td>42.30</td>\n",
       "      <td>1840.75</td>\n",
       "      <td>Male</td>\n",
       "      <td>0</td>\n",
       "      <td>...</td>\n",
       "      <td>DSL</td>\n",
       "      <td>Yes</td>\n",
       "      <td>No</td>\n",
       "      <td>Yes</td>\n",
       "      <td>Yes</td>\n",
       "      <td>No</td>\n",
       "      <td>No</td>\n",
       "      <td>No</td>\n",
       "      <td>0</td>\n",
       "      <td>1371</td>\n",
       "    </tr>\n",
       "    <tr>\n",
       "      <th>4</th>\n",
       "      <td>9237-HQITU</td>\n",
       "      <td>2019-09-01</td>\n",
       "      <td>2019-11-01</td>\n",
       "      <td>Month-to-month</td>\n",
       "      <td>Yes</td>\n",
       "      <td>Electronic check</td>\n",
       "      <td>70.70</td>\n",
       "      <td>151.65</td>\n",
       "      <td>Female</td>\n",
       "      <td>0</td>\n",
       "      <td>...</td>\n",
       "      <td>Fiber optic</td>\n",
       "      <td>No</td>\n",
       "      <td>No</td>\n",
       "      <td>No</td>\n",
       "      <td>No</td>\n",
       "      <td>No</td>\n",
       "      <td>No</td>\n",
       "      <td>No</td>\n",
       "      <td>1</td>\n",
       "      <td>61</td>\n",
       "    </tr>\n",
       "  </tbody>\n",
       "</table>\n",
       "<p>5 rows × 22 columns</p>\n",
       "</div>"
      ],
      "text/plain": [
       "  customer_id begin_date   end_date            type paperless_billing  \\\n",
       "0  7590-VHVEG 2020-01-01 2020-02-01  Month-to-month               Yes   \n",
       "1  5575-GNVDE 2017-04-01 2020-02-01        One year                No   \n",
       "2  3668-QPYBK 2019-10-01 2019-12-01  Month-to-month               Yes   \n",
       "3  7795-CFOCW 2016-05-01 2020-02-01        One year                No   \n",
       "4  9237-HQITU 2019-09-01 2019-11-01  Month-to-month               Yes   \n",
       "\n",
       "              payment_method  monthly_charges  total_charges  gender  \\\n",
       "0           Electronic check            29.85          29.85  Female   \n",
       "1               Mailed check            56.95        1889.50    Male   \n",
       "2               Mailed check            53.85         108.15    Male   \n",
       "3  Bank transfer (automatic)            42.30        1840.75    Male   \n",
       "4           Electronic check            70.70         151.65  Female   \n",
       "\n",
       "   senior_citizen  ... internet_service online_security online_backup  \\\n",
       "0               0  ...              DSL              No           Yes   \n",
       "1               0  ...              DSL             Yes            No   \n",
       "2               0  ...              DSL             Yes           Yes   \n",
       "3               0  ...              DSL             Yes            No   \n",
       "4               0  ...      Fiber optic              No            No   \n",
       "\n",
       "  device_protection tech_support streaming_TV streaming_movies multiple_lines  \\\n",
       "0                No           No           No               No             No   \n",
       "1               Yes           No           No               No             No   \n",
       "2                No           No           No               No             No   \n",
       "3               Yes          Yes           No               No             No   \n",
       "4                No           No           No               No             No   \n",
       "\n",
       "  exited lifecycle  \n",
       "0      0        31  \n",
       "1      0      1036  \n",
       "2      1        61  \n",
       "3      0      1371  \n",
       "4      1        61  \n",
       "\n",
       "[5 rows x 22 columns]"
      ]
     },
     "execution_count": 29,
     "metadata": {},
     "output_type": "execute_result"
    }
   ],
   "source": [
    "df_clear.head()"
   ]
  },
  {
   "cell_type": "markdown",
   "metadata": {},
   "source": [
    "### Проверка на мультиколлинеарность"
   ]
  },
  {
   "cell_type": "code",
   "execution_count": 30,
   "metadata": {},
   "outputs": [
    {
     "data": {
      "text/html": [
       "<div>\n",
       "<style scoped>\n",
       "    .dataframe tbody tr th:only-of-type {\n",
       "        vertical-align: middle;\n",
       "    }\n",
       "\n",
       "    .dataframe tbody tr th {\n",
       "        vertical-align: top;\n",
       "    }\n",
       "\n",
       "    .dataframe thead th {\n",
       "        text-align: right;\n",
       "    }\n",
       "</style>\n",
       "<table border=\"1\" class=\"dataframe\">\n",
       "  <thead>\n",
       "    <tr style=\"text-align: right;\">\n",
       "      <th></th>\n",
       "      <th>monthly_charges</th>\n",
       "      <th>total_charges</th>\n",
       "      <th>senior_citizen</th>\n",
       "      <th>exited</th>\n",
       "      <th>lifecycle</th>\n",
       "    </tr>\n",
       "  </thead>\n",
       "  <tbody>\n",
       "    <tr>\n",
       "      <th>monthly_charges</th>\n",
       "      <td>1.000000</td>\n",
       "      <td>0.651174</td>\n",
       "      <td>0.220173</td>\n",
       "      <td>0.193356</td>\n",
       "      <td>0.247754</td>\n",
       "    </tr>\n",
       "    <tr>\n",
       "      <th>total_charges</th>\n",
       "      <td>0.651174</td>\n",
       "      <td>1.000000</td>\n",
       "      <td>0.103006</td>\n",
       "      <td>-0.198324</td>\n",
       "      <td>0.826109</td>\n",
       "    </tr>\n",
       "    <tr>\n",
       "      <th>senior_citizen</th>\n",
       "      <td>0.220173</td>\n",
       "      <td>0.103006</td>\n",
       "      <td>1.000000</td>\n",
       "      <td>0.150889</td>\n",
       "      <td>0.016514</td>\n",
       "    </tr>\n",
       "    <tr>\n",
       "      <th>exited</th>\n",
       "      <td>0.193356</td>\n",
       "      <td>-0.198324</td>\n",
       "      <td>0.150889</td>\n",
       "      <td>1.000000</td>\n",
       "      <td>-0.352673</td>\n",
       "    </tr>\n",
       "    <tr>\n",
       "      <th>lifecycle</th>\n",
       "      <td>0.247754</td>\n",
       "      <td>0.826109</td>\n",
       "      <td>0.016514</td>\n",
       "      <td>-0.352673</td>\n",
       "      <td>1.000000</td>\n",
       "    </tr>\n",
       "  </tbody>\n",
       "</table>\n",
       "</div>"
      ],
      "text/plain": [
       "                 monthly_charges  total_charges  senior_citizen    exited  \\\n",
       "monthly_charges         1.000000       0.651174        0.220173  0.193356   \n",
       "total_charges           0.651174       1.000000        0.103006 -0.198324   \n",
       "senior_citizen          0.220173       0.103006        1.000000  0.150889   \n",
       "exited                  0.193356      -0.198324        0.150889  1.000000   \n",
       "lifecycle               0.247754       0.826109        0.016514 -0.352673   \n",
       "\n",
       "                 lifecycle  \n",
       "monthly_charges   0.247754  \n",
       "total_charges     0.826109  \n",
       "senior_citizen    0.016514  \n",
       "exited           -0.352673  \n",
       "lifecycle         1.000000  "
      ]
     },
     "execution_count": 30,
     "metadata": {},
     "output_type": "execute_result"
    }
   ],
   "source": [
    "df_corr = df_clear.corr()\n",
    "df_corr"
   ]
  },
  {
   "cell_type": "code",
   "execution_count": 31,
   "metadata": {},
   "outputs": [
    {
     "data": {
      "text/html": [
       "<div>\n",
       "<style scoped>\n",
       "    .dataframe tbody tr th:only-of-type {\n",
       "        vertical-align: middle;\n",
       "    }\n",
       "\n",
       "    .dataframe tbody tr th {\n",
       "        vertical-align: top;\n",
       "    }\n",
       "\n",
       "    .dataframe thead th {\n",
       "        text-align: right;\n",
       "    }\n",
       "</style>\n",
       "<table border=\"1\" class=\"dataframe\">\n",
       "  <thead>\n",
       "    <tr style=\"text-align: right;\">\n",
       "      <th></th>\n",
       "      <th>monthly_charges</th>\n",
       "      <th>total_charges</th>\n",
       "      <th>senior_citizen</th>\n",
       "      <th>exited</th>\n",
       "      <th>lifecycle</th>\n",
       "    </tr>\n",
       "  </thead>\n",
       "  <tbody>\n",
       "    <tr>\n",
       "      <th>monthly_charges</th>\n",
       "      <td>True</td>\n",
       "      <td>False</td>\n",
       "      <td>False</td>\n",
       "      <td>False</td>\n",
       "      <td>False</td>\n",
       "    </tr>\n",
       "    <tr>\n",
       "      <th>total_charges</th>\n",
       "      <td>False</td>\n",
       "      <td>True</td>\n",
       "      <td>False</td>\n",
       "      <td>False</td>\n",
       "      <td>True</td>\n",
       "    </tr>\n",
       "    <tr>\n",
       "      <th>senior_citizen</th>\n",
       "      <td>False</td>\n",
       "      <td>False</td>\n",
       "      <td>True</td>\n",
       "      <td>False</td>\n",
       "      <td>False</td>\n",
       "    </tr>\n",
       "    <tr>\n",
       "      <th>exited</th>\n",
       "      <td>False</td>\n",
       "      <td>False</td>\n",
       "      <td>False</td>\n",
       "      <td>True</td>\n",
       "      <td>False</td>\n",
       "    </tr>\n",
       "    <tr>\n",
       "      <th>lifecycle</th>\n",
       "      <td>False</td>\n",
       "      <td>True</td>\n",
       "      <td>False</td>\n",
       "      <td>False</td>\n",
       "      <td>True</td>\n",
       "    </tr>\n",
       "  </tbody>\n",
       "</table>\n",
       "</div>"
      ],
      "text/plain": [
       "                 monthly_charges  total_charges  senior_citizen  exited  \\\n",
       "monthly_charges             True          False           False   False   \n",
       "total_charges              False           True           False   False   \n",
       "senior_citizen             False          False            True   False   \n",
       "exited                     False          False           False    True   \n",
       "lifecycle                  False           True           False   False   \n",
       "\n",
       "                 lifecycle  \n",
       "monthly_charges      False  \n",
       "total_charges         True  \n",
       "senior_citizen       False  \n",
       "exited               False  \n",
       "lifecycle             True  "
      ]
     },
     "execution_count": 31,
     "metadata": {},
     "output_type": "execute_result"
    }
   ],
   "source": [
    "df_corr.apply(lambda x: x > 0.8)"
   ]
  },
  {
   "cell_type": "code",
   "execution_count": 32,
   "metadata": {},
   "outputs": [],
   "source": [
    "#удалим столбец total_charges"
   ]
  },
  {
   "cell_type": "code",
   "execution_count": 33,
   "metadata": {},
   "outputs": [
    {
     "data": {
      "text/html": [
       "<div>\n",
       "<style scoped>\n",
       "    .dataframe tbody tr th:only-of-type {\n",
       "        vertical-align: middle;\n",
       "    }\n",
       "\n",
       "    .dataframe tbody tr th {\n",
       "        vertical-align: top;\n",
       "    }\n",
       "\n",
       "    .dataframe thead th {\n",
       "        text-align: right;\n",
       "    }\n",
       "</style>\n",
       "<table border=\"1\" class=\"dataframe\">\n",
       "  <thead>\n",
       "    <tr style=\"text-align: right;\">\n",
       "      <th></th>\n",
       "      <th>customer_id</th>\n",
       "      <th>begin_date</th>\n",
       "      <th>end_date</th>\n",
       "      <th>type</th>\n",
       "      <th>paperless_billing</th>\n",
       "      <th>payment_method</th>\n",
       "      <th>monthly_charges</th>\n",
       "      <th>gender</th>\n",
       "      <th>senior_citizen</th>\n",
       "      <th>partner</th>\n",
       "      <th>...</th>\n",
       "      <th>internet_service</th>\n",
       "      <th>online_security</th>\n",
       "      <th>online_backup</th>\n",
       "      <th>device_protection</th>\n",
       "      <th>tech_support</th>\n",
       "      <th>streaming_TV</th>\n",
       "      <th>streaming_movies</th>\n",
       "      <th>multiple_lines</th>\n",
       "      <th>exited</th>\n",
       "      <th>lifecycle</th>\n",
       "    </tr>\n",
       "  </thead>\n",
       "  <tbody>\n",
       "    <tr>\n",
       "      <th>0</th>\n",
       "      <td>7590-VHVEG</td>\n",
       "      <td>2020-01-01</td>\n",
       "      <td>2020-02-01</td>\n",
       "      <td>Month-to-month</td>\n",
       "      <td>Yes</td>\n",
       "      <td>Electronic check</td>\n",
       "      <td>29.85</td>\n",
       "      <td>Female</td>\n",
       "      <td>0</td>\n",
       "      <td>Yes</td>\n",
       "      <td>...</td>\n",
       "      <td>DSL</td>\n",
       "      <td>No</td>\n",
       "      <td>Yes</td>\n",
       "      <td>No</td>\n",
       "      <td>No</td>\n",
       "      <td>No</td>\n",
       "      <td>No</td>\n",
       "      <td>No</td>\n",
       "      <td>0</td>\n",
       "      <td>31</td>\n",
       "    </tr>\n",
       "    <tr>\n",
       "      <th>1</th>\n",
       "      <td>5575-GNVDE</td>\n",
       "      <td>2017-04-01</td>\n",
       "      <td>2020-02-01</td>\n",
       "      <td>One year</td>\n",
       "      <td>No</td>\n",
       "      <td>Mailed check</td>\n",
       "      <td>56.95</td>\n",
       "      <td>Male</td>\n",
       "      <td>0</td>\n",
       "      <td>No</td>\n",
       "      <td>...</td>\n",
       "      <td>DSL</td>\n",
       "      <td>Yes</td>\n",
       "      <td>No</td>\n",
       "      <td>Yes</td>\n",
       "      <td>No</td>\n",
       "      <td>No</td>\n",
       "      <td>No</td>\n",
       "      <td>No</td>\n",
       "      <td>0</td>\n",
       "      <td>1036</td>\n",
       "    </tr>\n",
       "    <tr>\n",
       "      <th>2</th>\n",
       "      <td>3668-QPYBK</td>\n",
       "      <td>2019-10-01</td>\n",
       "      <td>2019-12-01</td>\n",
       "      <td>Month-to-month</td>\n",
       "      <td>Yes</td>\n",
       "      <td>Mailed check</td>\n",
       "      <td>53.85</td>\n",
       "      <td>Male</td>\n",
       "      <td>0</td>\n",
       "      <td>No</td>\n",
       "      <td>...</td>\n",
       "      <td>DSL</td>\n",
       "      <td>Yes</td>\n",
       "      <td>Yes</td>\n",
       "      <td>No</td>\n",
       "      <td>No</td>\n",
       "      <td>No</td>\n",
       "      <td>No</td>\n",
       "      <td>No</td>\n",
       "      <td>1</td>\n",
       "      <td>61</td>\n",
       "    </tr>\n",
       "    <tr>\n",
       "      <th>3</th>\n",
       "      <td>7795-CFOCW</td>\n",
       "      <td>2016-05-01</td>\n",
       "      <td>2020-02-01</td>\n",
       "      <td>One year</td>\n",
       "      <td>No</td>\n",
       "      <td>Bank transfer (automatic)</td>\n",
       "      <td>42.30</td>\n",
       "      <td>Male</td>\n",
       "      <td>0</td>\n",
       "      <td>No</td>\n",
       "      <td>...</td>\n",
       "      <td>DSL</td>\n",
       "      <td>Yes</td>\n",
       "      <td>No</td>\n",
       "      <td>Yes</td>\n",
       "      <td>Yes</td>\n",
       "      <td>No</td>\n",
       "      <td>No</td>\n",
       "      <td>No</td>\n",
       "      <td>0</td>\n",
       "      <td>1371</td>\n",
       "    </tr>\n",
       "    <tr>\n",
       "      <th>4</th>\n",
       "      <td>9237-HQITU</td>\n",
       "      <td>2019-09-01</td>\n",
       "      <td>2019-11-01</td>\n",
       "      <td>Month-to-month</td>\n",
       "      <td>Yes</td>\n",
       "      <td>Electronic check</td>\n",
       "      <td>70.70</td>\n",
       "      <td>Female</td>\n",
       "      <td>0</td>\n",
       "      <td>No</td>\n",
       "      <td>...</td>\n",
       "      <td>Fiber optic</td>\n",
       "      <td>No</td>\n",
       "      <td>No</td>\n",
       "      <td>No</td>\n",
       "      <td>No</td>\n",
       "      <td>No</td>\n",
       "      <td>No</td>\n",
       "      <td>No</td>\n",
       "      <td>1</td>\n",
       "      <td>61</td>\n",
       "    </tr>\n",
       "  </tbody>\n",
       "</table>\n",
       "<p>5 rows × 21 columns</p>\n",
       "</div>"
      ],
      "text/plain": [
       "  customer_id begin_date   end_date            type paperless_billing  \\\n",
       "0  7590-VHVEG 2020-01-01 2020-02-01  Month-to-month               Yes   \n",
       "1  5575-GNVDE 2017-04-01 2020-02-01        One year                No   \n",
       "2  3668-QPYBK 2019-10-01 2019-12-01  Month-to-month               Yes   \n",
       "3  7795-CFOCW 2016-05-01 2020-02-01        One year                No   \n",
       "4  9237-HQITU 2019-09-01 2019-11-01  Month-to-month               Yes   \n",
       "\n",
       "              payment_method  monthly_charges  gender  senior_citizen partner  \\\n",
       "0           Electronic check            29.85  Female               0     Yes   \n",
       "1               Mailed check            56.95    Male               0      No   \n",
       "2               Mailed check            53.85    Male               0      No   \n",
       "3  Bank transfer (automatic)            42.30    Male               0      No   \n",
       "4           Electronic check            70.70  Female               0      No   \n",
       "\n",
       "   ... internet_service online_security online_backup device_protection  \\\n",
       "0  ...              DSL              No           Yes                No   \n",
       "1  ...              DSL             Yes            No               Yes   \n",
       "2  ...              DSL             Yes           Yes                No   \n",
       "3  ...              DSL             Yes            No               Yes   \n",
       "4  ...      Fiber optic              No            No                No   \n",
       "\n",
       "  tech_support streaming_TV streaming_movies multiple_lines exited  lifecycle  \n",
       "0           No           No               No             No      0         31  \n",
       "1           No           No               No             No      0       1036  \n",
       "2           No           No               No             No      1         61  \n",
       "3          Yes           No               No             No      0       1371  \n",
       "4           No           No               No             No      1         61  \n",
       "\n",
       "[5 rows x 21 columns]"
      ]
     },
     "execution_count": 33,
     "metadata": {},
     "output_type": "execute_result"
    }
   ],
   "source": [
    "df_clear = df_clear.drop('total_charges', axis = 1)\n",
    "df_clear.head()"
   ]
  },
  {
   "cell_type": "markdown",
   "metadata": {
    "id": "bPIlnXbje1mu"
   },
   "source": [
    "Подготовим категориальные признаки"
   ]
  },
  {
   "cell_type": "code",
   "execution_count": 34,
   "metadata": {
    "colab": {
     "base_uri": "https://localhost:8080/",
     "height": 287
    },
    "id": "b88chPzodZzO",
    "outputId": "b83eb975-ae73-4805-ba2f-afb8ff91bd87"
   },
   "outputs": [
    {
     "data": {
      "text/html": [
       "<div>\n",
       "<style scoped>\n",
       "    .dataframe tbody tr th:only-of-type {\n",
       "        vertical-align: middle;\n",
       "    }\n",
       "\n",
       "    .dataframe tbody tr th {\n",
       "        vertical-align: top;\n",
       "    }\n",
       "\n",
       "    .dataframe thead th {\n",
       "        text-align: right;\n",
       "    }\n",
       "</style>\n",
       "<table border=\"1\" class=\"dataframe\">\n",
       "  <thead>\n",
       "    <tr style=\"text-align: right;\">\n",
       "      <th></th>\n",
       "      <th>monthly_charges</th>\n",
       "      <th>senior_citizen</th>\n",
       "      <th>exited</th>\n",
       "      <th>lifecycle</th>\n",
       "      <th>type_One year</th>\n",
       "      <th>type_Two year</th>\n",
       "      <th>paperless_billing_Yes</th>\n",
       "      <th>payment_method_Credit card (automatic)</th>\n",
       "      <th>payment_method_Electronic check</th>\n",
       "      <th>payment_method_Mailed check</th>\n",
       "      <th>...</th>\n",
       "      <th>dependents_Yes</th>\n",
       "      <th>internet_service_Fiber optic</th>\n",
       "      <th>internet_service_No</th>\n",
       "      <th>online_security_Yes</th>\n",
       "      <th>online_backup_Yes</th>\n",
       "      <th>device_protection_Yes</th>\n",
       "      <th>tech_support_Yes</th>\n",
       "      <th>streaming_TV_Yes</th>\n",
       "      <th>streaming_movies_Yes</th>\n",
       "      <th>multiple_lines_Yes</th>\n",
       "    </tr>\n",
       "  </thead>\n",
       "  <tbody>\n",
       "    <tr>\n",
       "      <th>0</th>\n",
       "      <td>29.85</td>\n",
       "      <td>0</td>\n",
       "      <td>0</td>\n",
       "      <td>31</td>\n",
       "      <td>0</td>\n",
       "      <td>0</td>\n",
       "      <td>1</td>\n",
       "      <td>0</td>\n",
       "      <td>1</td>\n",
       "      <td>0</td>\n",
       "      <td>...</td>\n",
       "      <td>0</td>\n",
       "      <td>0</td>\n",
       "      <td>0</td>\n",
       "      <td>0</td>\n",
       "      <td>1</td>\n",
       "      <td>0</td>\n",
       "      <td>0</td>\n",
       "      <td>0</td>\n",
       "      <td>0</td>\n",
       "      <td>0</td>\n",
       "    </tr>\n",
       "    <tr>\n",
       "      <th>1</th>\n",
       "      <td>56.95</td>\n",
       "      <td>0</td>\n",
       "      <td>0</td>\n",
       "      <td>1036</td>\n",
       "      <td>1</td>\n",
       "      <td>0</td>\n",
       "      <td>0</td>\n",
       "      <td>0</td>\n",
       "      <td>0</td>\n",
       "      <td>1</td>\n",
       "      <td>...</td>\n",
       "      <td>0</td>\n",
       "      <td>0</td>\n",
       "      <td>0</td>\n",
       "      <td>1</td>\n",
       "      <td>0</td>\n",
       "      <td>1</td>\n",
       "      <td>0</td>\n",
       "      <td>0</td>\n",
       "      <td>0</td>\n",
       "      <td>0</td>\n",
       "    </tr>\n",
       "    <tr>\n",
       "      <th>2</th>\n",
       "      <td>53.85</td>\n",
       "      <td>0</td>\n",
       "      <td>1</td>\n",
       "      <td>61</td>\n",
       "      <td>0</td>\n",
       "      <td>0</td>\n",
       "      <td>1</td>\n",
       "      <td>0</td>\n",
       "      <td>0</td>\n",
       "      <td>1</td>\n",
       "      <td>...</td>\n",
       "      <td>0</td>\n",
       "      <td>0</td>\n",
       "      <td>0</td>\n",
       "      <td>1</td>\n",
       "      <td>1</td>\n",
       "      <td>0</td>\n",
       "      <td>0</td>\n",
       "      <td>0</td>\n",
       "      <td>0</td>\n",
       "      <td>0</td>\n",
       "    </tr>\n",
       "    <tr>\n",
       "      <th>3</th>\n",
       "      <td>42.30</td>\n",
       "      <td>0</td>\n",
       "      <td>0</td>\n",
       "      <td>1371</td>\n",
       "      <td>1</td>\n",
       "      <td>0</td>\n",
       "      <td>0</td>\n",
       "      <td>0</td>\n",
       "      <td>0</td>\n",
       "      <td>0</td>\n",
       "      <td>...</td>\n",
       "      <td>0</td>\n",
       "      <td>0</td>\n",
       "      <td>0</td>\n",
       "      <td>1</td>\n",
       "      <td>0</td>\n",
       "      <td>1</td>\n",
       "      <td>1</td>\n",
       "      <td>0</td>\n",
       "      <td>0</td>\n",
       "      <td>0</td>\n",
       "    </tr>\n",
       "    <tr>\n",
       "      <th>4</th>\n",
       "      <td>70.70</td>\n",
       "      <td>0</td>\n",
       "      <td>1</td>\n",
       "      <td>61</td>\n",
       "      <td>0</td>\n",
       "      <td>0</td>\n",
       "      <td>1</td>\n",
       "      <td>0</td>\n",
       "      <td>1</td>\n",
       "      <td>0</td>\n",
       "      <td>...</td>\n",
       "      <td>0</td>\n",
       "      <td>1</td>\n",
       "      <td>0</td>\n",
       "      <td>0</td>\n",
       "      <td>0</td>\n",
       "      <td>0</td>\n",
       "      <td>0</td>\n",
       "      <td>0</td>\n",
       "      <td>0</td>\n",
       "      <td>0</td>\n",
       "    </tr>\n",
       "  </tbody>\n",
       "</table>\n",
       "<p>5 rows × 22 columns</p>\n",
       "</div>"
      ],
      "text/plain": [
       "   monthly_charges  senior_citizen  exited  lifecycle  type_One year  \\\n",
       "0            29.85               0       0         31              0   \n",
       "1            56.95               0       0       1036              1   \n",
       "2            53.85               0       1         61              0   \n",
       "3            42.30               0       0       1371              1   \n",
       "4            70.70               0       1         61              0   \n",
       "\n",
       "   type_Two year  paperless_billing_Yes  \\\n",
       "0              0                      1   \n",
       "1              0                      0   \n",
       "2              0                      1   \n",
       "3              0                      0   \n",
       "4              0                      1   \n",
       "\n",
       "   payment_method_Credit card (automatic)  payment_method_Electronic check  \\\n",
       "0                                       0                                1   \n",
       "1                                       0                                0   \n",
       "2                                       0                                0   \n",
       "3                                       0                                0   \n",
       "4                                       0                                1   \n",
       "\n",
       "   payment_method_Mailed check  ...  dependents_Yes  \\\n",
       "0                            0  ...               0   \n",
       "1                            1  ...               0   \n",
       "2                            1  ...               0   \n",
       "3                            0  ...               0   \n",
       "4                            0  ...               0   \n",
       "\n",
       "   internet_service_Fiber optic  internet_service_No  online_security_Yes  \\\n",
       "0                             0                    0                    0   \n",
       "1                             0                    0                    1   \n",
       "2                             0                    0                    1   \n",
       "3                             0                    0                    1   \n",
       "4                             1                    0                    0   \n",
       "\n",
       "   online_backup_Yes  device_protection_Yes  tech_support_Yes  \\\n",
       "0                  1                      0                 0   \n",
       "1                  0                      1                 0   \n",
       "2                  1                      0                 0   \n",
       "3                  0                      1                 1   \n",
       "4                  0                      0                 0   \n",
       "\n",
       "   streaming_TV_Yes  streaming_movies_Yes  multiple_lines_Yes  \n",
       "0                 0                     0                   0  \n",
       "1                 0                     0                   0  \n",
       "2                 0                     0                   0  \n",
       "3                 0                     0                   0  \n",
       "4                 0                     0                   0  \n",
       "\n",
       "[5 rows x 22 columns]"
      ]
     },
     "execution_count": 34,
     "metadata": {},
     "output_type": "execute_result"
    }
   ],
   "source": [
    "df_ohe = pd.get_dummies(df_clear.drop(['customer_id', 'begin_date', 'end_date'], axis=1), drop_first=True)\n",
    "df_ohe.head()"
   ]
  },
  {
   "cell_type": "markdown",
   "metadata": {
    "id": "MYlWx7mmhEjM"
   },
   "source": [
    "### Разделение выборки\n",
    "\n",
    "Поделим выборку на обучающую, валидационную и тестовую в соотношении 80% / 10% / 10%\n",
    "\n"
   ]
  },
  {
   "cell_type": "code",
   "execution_count": 35,
   "metadata": {
    "colab": {
     "base_uri": "https://localhost:8080/"
    },
    "id": "-1eWKHlIhJ16",
    "outputId": "f6d6c96f-ed28-44ba-814f-5d1c3b5a9339"
   },
   "outputs": [
    {
     "name": "stdout",
     "output_type": "stream",
     "text": [
      "проверим размеры выборок:\n",
      "features_test (704, 21)\n",
      "target_test (704,)\n",
      "target_valid (705,)\n",
      "features_train (5634, 21)\n",
      "target_train (5634,)\n",
      "features_valid (705, 21)\n",
      "target_valid (705,)\n"
     ]
    }
   ],
   "source": [
    "target = df_ohe['exited']\n",
    "features = df_ohe.drop('exited', axis=1)\n",
    "features_train, features_valid, target_train, target_valid = train_test_split(\n",
    "                                            features, target, test_size=0.2, random_state=12345)\n",
    "\n",
    "features_test, features_valid, target_test, target_valid = train_test_split(\n",
    "                                            features_valid, target_valid, test_size=0.5, random_state=12345)\n",
    "features_train = features_train.copy()\n",
    "features_valid = features_valid.copy()\n",
    "\n",
    "print('проверим размеры выборок:')\n",
    "print('features_test', features_test.shape)\n",
    "print('target_test', target_test.shape)\n",
    "print('target_valid', target_valid.shape)\n",
    "print('features_train', features_train.shape)\n",
    "print('target_train', target_train.shape)\n",
    "print('features_valid', features_valid.shape)\n",
    "print('target_valid', target_valid.shape)"
   ]
  },
  {
   "cell_type": "markdown",
   "metadata": {
    "id": "AH2IxKw5goaR"
   },
   "source": [
    "### Масштабирование\n",
    "\n",
    "Масштабируем данные методом стандартизации, создадим объект этой структуры StandardScaler и настроим его на обучающих данных:"
   ]
  },
  {
   "cell_type": "code",
   "execution_count": 36,
   "metadata": {
    "id": "vlm0wNtMgnjH"
   },
   "outputs": [],
   "source": [
    "numeric = ['monthly_charges', 'lifecycle']\n",
    "scaler = StandardScaler()\n",
    "scaler.fit(features_train[numeric])\n",
    "#scaler.fit(features_test[numeric])\n",
    "features_train[numeric] = scaler.transform(features_train[numeric])\n",
    "features_valid[numeric] = scaler.transform(features_valid[numeric])\n",
    "#features_test[numeric] = scaler.transform(features_test[numeric])\n",
    "\n",
    "pd.options.mode.chained_assignment = None\n"
   ]
  },
  {
   "cell_type": "code",
   "execution_count": 37,
   "metadata": {
    "colab": {
     "base_uri": "https://localhost:8080/",
     "height": 287
    },
    "id": "aB__LxHcGFJa",
    "outputId": "7141bea1-5d73-4e4b-a39e-c5486a2034e5"
   },
   "outputs": [
    {
     "data": {
      "text/html": [
       "<div>\n",
       "<style scoped>\n",
       "    .dataframe tbody tr th:only-of-type {\n",
       "        vertical-align: middle;\n",
       "    }\n",
       "\n",
       "    .dataframe tbody tr th {\n",
       "        vertical-align: top;\n",
       "    }\n",
       "\n",
       "    .dataframe thead th {\n",
       "        text-align: right;\n",
       "    }\n",
       "</style>\n",
       "<table border=\"1\" class=\"dataframe\">\n",
       "  <thead>\n",
       "    <tr style=\"text-align: right;\">\n",
       "      <th></th>\n",
       "      <th>monthly_charges</th>\n",
       "      <th>senior_citizen</th>\n",
       "      <th>lifecycle</th>\n",
       "      <th>type_One year</th>\n",
       "      <th>type_Two year</th>\n",
       "      <th>paperless_billing_Yes</th>\n",
       "      <th>payment_method_Credit card (automatic)</th>\n",
       "      <th>payment_method_Electronic check</th>\n",
       "      <th>payment_method_Mailed check</th>\n",
       "      <th>gender_Male</th>\n",
       "      <th>...</th>\n",
       "      <th>dependents_Yes</th>\n",
       "      <th>internet_service_Fiber optic</th>\n",
       "      <th>internet_service_No</th>\n",
       "      <th>online_security_Yes</th>\n",
       "      <th>online_backup_Yes</th>\n",
       "      <th>device_protection_Yes</th>\n",
       "      <th>tech_support_Yes</th>\n",
       "      <th>streaming_TV_Yes</th>\n",
       "      <th>streaming_movies_Yes</th>\n",
       "      <th>multiple_lines_Yes</th>\n",
       "    </tr>\n",
       "  </thead>\n",
       "  <tbody>\n",
       "    <tr>\n",
       "      <th>1580</th>\n",
       "      <td>0.227892</td>\n",
       "      <td>1</td>\n",
       "      <td>-0.467212</td>\n",
       "      <td>1</td>\n",
       "      <td>0</td>\n",
       "      <td>0</td>\n",
       "      <td>0</td>\n",
       "      <td>0</td>\n",
       "      <td>0</td>\n",
       "      <td>0</td>\n",
       "      <td>...</td>\n",
       "      <td>0</td>\n",
       "      <td>0</td>\n",
       "      <td>0</td>\n",
       "      <td>0</td>\n",
       "      <td>1</td>\n",
       "      <td>1</td>\n",
       "      <td>0</td>\n",
       "      <td>0</td>\n",
       "      <td>1</td>\n",
       "      <td>1</td>\n",
       "    </tr>\n",
       "    <tr>\n",
       "      <th>2902</th>\n",
       "      <td>0.307749</td>\n",
       "      <td>1</td>\n",
       "      <td>-1.081316</td>\n",
       "      <td>0</td>\n",
       "      <td>0</td>\n",
       "      <td>1</td>\n",
       "      <td>0</td>\n",
       "      <td>1</td>\n",
       "      <td>0</td>\n",
       "      <td>0</td>\n",
       "      <td>...</td>\n",
       "      <td>0</td>\n",
       "      <td>1</td>\n",
       "      <td>0</td>\n",
       "      <td>1</td>\n",
       "      <td>0</td>\n",
       "      <td>0</td>\n",
       "      <td>0</td>\n",
       "      <td>0</td>\n",
       "      <td>0</td>\n",
       "      <td>0</td>\n",
       "    </tr>\n",
       "    <tr>\n",
       "      <th>410</th>\n",
       "      <td>0.548983</td>\n",
       "      <td>1</td>\n",
       "      <td>-1.204943</td>\n",
       "      <td>0</td>\n",
       "      <td>0</td>\n",
       "      <td>1</td>\n",
       "      <td>0</td>\n",
       "      <td>1</td>\n",
       "      <td>0</td>\n",
       "      <td>1</td>\n",
       "      <td>...</td>\n",
       "      <td>0</td>\n",
       "      <td>1</td>\n",
       "      <td>0</td>\n",
       "      <td>0</td>\n",
       "      <td>1</td>\n",
       "      <td>0</td>\n",
       "      <td>0</td>\n",
       "      <td>0</td>\n",
       "      <td>0</td>\n",
       "      <td>1</td>\n",
       "    </tr>\n",
       "    <tr>\n",
       "      <th>6098</th>\n",
       "      <td>0.367642</td>\n",
       "      <td>0</td>\n",
       "      <td>-0.467212</td>\n",
       "      <td>1</td>\n",
       "      <td>0</td>\n",
       "      <td>1</td>\n",
       "      <td>0</td>\n",
       "      <td>0</td>\n",
       "      <td>0</td>\n",
       "      <td>1</td>\n",
       "      <td>...</td>\n",
       "      <td>1</td>\n",
       "      <td>0</td>\n",
       "      <td>0</td>\n",
       "      <td>1</td>\n",
       "      <td>0</td>\n",
       "      <td>0</td>\n",
       "      <td>0</td>\n",
       "      <td>1</td>\n",
       "      <td>1</td>\n",
       "      <td>1</td>\n",
       "    </tr>\n",
       "    <tr>\n",
       "      <th>2930</th>\n",
       "      <td>-1.301034</td>\n",
       "      <td>0</td>\n",
       "      <td>-0.058705</td>\n",
       "      <td>0</td>\n",
       "      <td>1</td>\n",
       "      <td>0</td>\n",
       "      <td>0</td>\n",
       "      <td>0</td>\n",
       "      <td>1</td>\n",
       "      <td>1</td>\n",
       "      <td>...</td>\n",
       "      <td>1</td>\n",
       "      <td>0</td>\n",
       "      <td>1</td>\n",
       "      <td>0</td>\n",
       "      <td>0</td>\n",
       "      <td>0</td>\n",
       "      <td>0</td>\n",
       "      <td>0</td>\n",
       "      <td>0</td>\n",
       "      <td>1</td>\n",
       "    </tr>\n",
       "  </tbody>\n",
       "</table>\n",
       "<p>5 rows × 21 columns</p>\n",
       "</div>"
      ],
      "text/plain": [
       "      monthly_charges  senior_citizen  lifecycle  type_One year  \\\n",
       "1580         0.227892               1  -0.467212              1   \n",
       "2902         0.307749               1  -1.081316              0   \n",
       "410          0.548983               1  -1.204943              0   \n",
       "6098         0.367642               0  -0.467212              1   \n",
       "2930        -1.301034               0  -0.058705              0   \n",
       "\n",
       "      type_Two year  paperless_billing_Yes  \\\n",
       "1580              0                      0   \n",
       "2902              0                      1   \n",
       "410               0                      1   \n",
       "6098              0                      1   \n",
       "2930              1                      0   \n",
       "\n",
       "      payment_method_Credit card (automatic)  payment_method_Electronic check  \\\n",
       "1580                                       0                                0   \n",
       "2902                                       0                                1   \n",
       "410                                        0                                1   \n",
       "6098                                       0                                0   \n",
       "2930                                       0                                0   \n",
       "\n",
       "      payment_method_Mailed check  gender_Male  ...  dependents_Yes  \\\n",
       "1580                            0            0  ...               0   \n",
       "2902                            0            0  ...               0   \n",
       "410                             0            1  ...               0   \n",
       "6098                            0            1  ...               1   \n",
       "2930                            1            1  ...               1   \n",
       "\n",
       "      internet_service_Fiber optic  internet_service_No  online_security_Yes  \\\n",
       "1580                             0                    0                    0   \n",
       "2902                             1                    0                    1   \n",
       "410                              1                    0                    0   \n",
       "6098                             0                    0                    1   \n",
       "2930                             0                    1                    0   \n",
       "\n",
       "      online_backup_Yes  device_protection_Yes  tech_support_Yes  \\\n",
       "1580                  1                      1                 0   \n",
       "2902                  0                      0                 0   \n",
       "410                   1                      0                 0   \n",
       "6098                  0                      0                 0   \n",
       "2930                  0                      0                 0   \n",
       "\n",
       "      streaming_TV_Yes  streaming_movies_Yes  multiple_lines_Yes  \n",
       "1580                 0                     1                   1  \n",
       "2902                 0                     0                   0  \n",
       "410                  0                     0                   1  \n",
       "6098                 1                     1                   1  \n",
       "2930                 0                     0                   1  \n",
       "\n",
       "[5 rows x 21 columns]"
      ]
     },
     "execution_count": 37,
     "metadata": {},
     "output_type": "execute_result"
    }
   ],
   "source": [
    "features_train.head()"
   ]
  },
  {
   "cell_type": "markdown",
   "metadata": {
    "id": "o9lVpUkWl2LI"
   },
   "source": [
    "## Обучение модели"
   ]
  },
  {
   "cell_type": "markdown",
   "metadata": {
    "id": "RjvuRTOE9ZaM"
   },
   "source": [
    "### Функция для обучения модели"
   ]
  },
  {
   "cell_type": "code",
   "execution_count": 38,
   "metadata": {
    "id": "hvRbkBzbl05A"
   },
   "outputs": [],
   "source": [
    "def model_fit_scoring(features_valid, features_train, target_valid, target_train, plot):\n",
    "    model.fit(features_train, target_train)\n",
    "    predicted_valid = model.predict(features_valid)\n",
    "    print('матрица ошибок:')\n",
    "    print(confusion_matrix(target_valid, predicted_valid))\n",
    "    #PR plot\n",
    "    if plot == True:      \n",
    "        probabilities_valid = model.predict_proba(features_valid)\n",
    "        probabilities_one_valid = probabilities_valid[:, 1]\n",
    "        auc_roc = roc_auc_score(target_valid, probabilities_one_valid)\n",
    "        print('auc_roc на валидационной выборке:', auc_roc)\n",
    "        \n",
    "        precision, recall, thresholds = precision_recall_curve(target_valid, probabilities_valid[:, 1])\n",
    "        plt.figure(figsize=(6, 6))\n",
    "        plt.step(recall, precision, where='post')\n",
    "        plt.xlabel('Recall')\n",
    "        plt.ylabel('Precision')\n",
    "        plt.ylim([0.0, 1.05])\n",
    "        plt.xlim([0.0, 1.0])\n",
    "        plt.title('Кривая Precision-Recall')\n",
    "        plt.show()\n",
    "    \n",
    "        \n",
    "        fpr, tpr, thresholds = roc_curve(target_valid, probabilities_one_valid)\n",
    "\n",
    "        plt.figure()\n",
    "        plt.plot(fpr, tpr)\n",
    "        # ROC-кривая случайной модели \n",
    "        plt.plot([0, 1], [0, 1], linestyle='--')\n",
    "\n",
    "        #   установим границы осей от 0 до 1 >\n",
    "        plt.ylim([0.0, 1.0])\n",
    "        plt.xlim([0.0, 1.0])\n",
    "\n",
    "        plt.xlabel(\"False Positive Rate\")\n",
    "        plt.ylabel(\"True Positive Rate\")\n",
    "\n",
    "        plt.title(\"ROC-кривая\")\n",
    "        plt.show()\n",
    "        \n",
    "        \n",
    "    return model"
   ]
  },
  {
   "cell_type": "markdown",
   "metadata": {
    "id": "bGSdL4cwy8xu"
   },
   "source": [
    "### RandomForestClassifier"
   ]
  },
  {
   "cell_type": "markdown",
   "metadata": {
    "id": "UgUAln_17OW2"
   },
   "source": [
    "Учтем дисбаланс классов"
   ]
  },
  {
   "cell_type": "code",
   "execution_count": 39,
   "metadata": {
    "colab": {
     "base_uri": "https://localhost:8080/"
    },
    "id": "Kjws1dId7IIq",
    "outputId": "a9ea699c-59a8-43d2-e856-0b469272142d"
   },
   "outputs": [
    {
     "name": "stdout",
     "output_type": "stream",
     "text": [
      "(5634, 21)\n",
      "(5634,)\n"
     ]
    }
   ],
   "source": [
    "print(features_train.shape)\n",
    "print(target_train.shape)"
   ]
  },
  {
   "cell_type": "markdown",
   "metadata": {
    "id": "rYMN_PqZZLEO"
   },
   "source": [
    "#### Дисбаланс классов"
   ]
  },
  {
   "cell_type": "code",
   "execution_count": 40,
   "metadata": {
    "colab": {
     "base_uri": "https://localhost:8080/"
    },
    "id": "5gPMHXLh7RXT",
    "outputId": "f8ff9f10-33f1-4c94-d515-59845562d193"
   },
   "outputs": [
    {
     "name": "stdout",
     "output_type": "stream",
     "text": [
      "features_zeros (4144, 21)\n",
      "features_ones (1490, 21)\n",
      "target_zeros (4144,)\n",
      "target_ones (1490,)\n",
      "upsampling...\n",
      "features_zeros (4144, 21)\n",
      "features_ones (4470, 21)\n",
      "target_zeros (4144,)\n",
      "target_ones (4470,)\n"
     ]
    }
   ],
   "source": [
    "def upsample(features, target, repeat):\n",
    "    \n",
    "    features_zeros = features[target == 0]\n",
    "    print('features_zeros', features_zeros.shape)\n",
    "    features_ones = features[target == 1]\n",
    "    print('features_ones', features_ones.shape)\n",
    "    target_zeros = target[target == 0]\n",
    "    print('target_zeros', target_zeros.shape)\n",
    "    target_ones = target[target == 1]\n",
    "    print('target_ones', target_ones.shape)\n",
    "\n",
    "    features_upsampled = pd.concat([features_zeros] + [features_ones] * repeat)\n",
    "    target_upsampled = pd.concat([target_zeros] + [target_ones] * repeat)\n",
    "    \n",
    "    out1 = shuffle(features_upsampled, random_state=12345)\n",
    "    out2 = shuffle(target_upsampled, random_state=12345)\n",
    "    \n",
    "    print('upsampling...')\n",
    "    features_zeros = features_upsampled[target == 0]\n",
    "    print('features_zeros', features_zeros.shape)\n",
    "    features_ones = features_upsampled[target == 1]\n",
    "    print('features_ones', features_ones.shape)\n",
    "    target_zeros = target_upsampled[target == 0]\n",
    "    print('target_zeros', target_zeros.shape)\n",
    "    target_ones = target_upsampled[target == 1]\n",
    "    print('target_ones', target_ones.shape)\n",
    "\n",
    "    return out1, out2\n",
    "\n",
    "features_upsampled, target_upsampled = upsample(features_train, target_train, 3)"
   ]
  },
  {
   "cell_type": "code",
   "execution_count": 41,
   "metadata": {
    "colab": {
     "base_uri": "https://localhost:8080/"
    },
    "id": "0MJojCKg7kGT",
    "outputId": "7965d7f6-633b-404c-fd8f-cd9486c64237"
   },
   "outputs": [
    {
     "name": "stdout",
     "output_type": "stream",
     "text": [
      "(8614, 21)\n",
      "(8614,)\n"
     ]
    }
   ],
   "source": [
    "print(features_upsampled.shape)\n",
    "print(target_upsampled.shape)"
   ]
  },
  {
   "cell_type": "code",
   "execution_count": 42,
   "metadata": {
    "id": "I9ccr-BZ2RUd"
   },
   "outputs": [],
   "source": [
    "roc_auc_scorer = make_scorer(roc_auc_score, greater_is_better=True,\n",
    "                             needs_threshold=True)"
   ]
  },
  {
   "cell_type": "markdown",
   "metadata": {
    "id": "1hqnPaam8MGz"
   },
   "source": [
    "#### Подбор параметров"
   ]
  },
  {
   "cell_type": "code",
   "execution_count": 43,
   "metadata": {
    "colab": {
     "base_uri": "https://localhost:8080/",
     "height": 1000
    },
    "id": "Lnr1JlCY1yCv",
    "outputId": "1263b61f-c91b-43e4-f7e1-4a07b4d8cd88"
   },
   "outputs": [
    {
     "name": "stdout",
     "output_type": "stream",
     "text": [
      "лучший AUC-ROC: 0.9418117201373999\n",
      "лучшие параметры модели: {'n_estimators': 202, 'min_samples_split': 10, 'min_samples_leaf': 4, 'max_features': None, 'max_depth': 179, 'criterion': 'gini'}\n",
      "матрица ошибок:\n",
      "[[413  99]\n",
      " [ 66 127]]\n",
      "auc_roc на валидационной выборке: 0.8304070191062176\n"
     ]
    },
    {
     "data": {
      "image/png": "[encoded data removed]",
      "text/plain": [
       "<Figure size 432x288 with 2 Axes>"
      ]
     },
     "metadata": {
      "needs_background": "light"
     },
     "output_type": "display_data"
    },
    {
     "data": {
      "image/png": "[encoded data removed]",
      "text/plain": [
       "<Figure size 432x432 with 1 Axes>"
      ]
     },
     "metadata": {
      "needs_background": "light"
     },
     "output_type": "display_data"
    },
    {
     "data": {
      "image/png": "[encoded data removed]",
      "text/plain": [
       "<Figure size 432x288 with 1 Axes>"
      ]
     },
     "metadata": {
      "needs_background": "light"
     },
     "output_type": "display_data"
    },
    {
     "name": "stdout",
     "output_type": "stream",
     "text": [
      "CPU times: user 43.4 s, sys: 231 ms, total: 43.6 s\n",
      "Wall time: 43.6 s\n"
     ]
    }
   ],
   "source": [
    "%%time\n",
    "\n",
    "rf_clf = RandomForestClassifier()\n",
    "\n",
    "params_rscv = {'criterion': ['entropy', 'gini'],\n",
    "               'max_depth': range(1, 200, 1),            #list(np.linspace(10, 1200, 10, dtype = int)) + [None],\n",
    "               'max_features': ['auto', 'sqrt','log2', None],\n",
    "               'min_samples_leaf': [4, 6, 8, 12],\n",
    "               'min_samples_split': [5, 7, 10, 14],\n",
    "               'n_estimators': range(1, 300, 1)     #list(np.linspace(151, 1200, 10, dtype = int))\n",
    "          }\n",
    "# Random Search Execute\n",
    "rf_rand = RandomizedSearchCV(estimator=rf_clf , param_distributions = params_rscv, cv = 5,  \\\n",
    "                             scoring=roc_auc_scorer, random_state= 101, n_jobs = -1) \n",
    "\n",
    "rf_detector = rf_rand.fit(features_upsampled, target_upsampled)\n",
    "\n",
    "table = pd.pivot_table(pd.DataFrame(rf_rand.cv_results_),\n",
    "                       values='mean_test_score', index='param_n_estimators', \n",
    "                       columns='param_criterion')\n",
    "     \n",
    "sns.heatmap(table)\n",
    "\n",
    "print('лучший AUC-ROC:', rf_rand.best_score_)\n",
    "print('лучшие параметры модели:', rf_rand.best_params_)\n",
    "\n",
    "model = rf_rand.best_estimator_\n",
    "\n",
    "rf_clf_best = model_fit_scoring(features_valid, features_upsampled, target_valid, target_upsampled, True)"
   ]
  },
  {
   "cell_type": "code",
   "execution_count": 44,
   "metadata": {
    "colab": {
     "base_uri": "https://localhost:8080/"
    },
    "id": "ZL3-qg9tQU8g",
    "outputId": "14f6c64c-5286-4e58-d621-735d7dd86af9",
    "scrolled": true
   },
   "outputs": [
    {
     "name": "stdout",
     "output_type": "stream",
     "text": [
      "Fitting 4 folds for each of 45 candidates, totalling 180 fits\n",
      "[CV 1/4] END criterion=gini, max_depth=179, max_features=None, min_samples_leaf=2, min_samples_split=7, n_estimators=52; total time=   0.6s\n",
      "[CV 2/4] END criterion=gini, max_depth=179, max_features=None, min_samples_leaf=2, min_samples_split=7, n_estimators=52; total time=   0.6s\n",
      "[CV 3/4] END criterion=gini, max_depth=179, max_features=None, min_samples_leaf=2, min_samples_split=7, n_estimators=52; total time=   0.6s\n",
      "[CV 4/4] END criterion=gini, max_depth=179, max_features=None, min_samples_leaf=2, min_samples_split=7, n_estimators=52; total time=   0.6s\n",
      "[CV 1/4] END criterion=gini, max_depth=179, max_features=None, min_samples_leaf=2, min_samples_split=7, n_estimators=102; total time=   1.2s\n",
      "[CV 2/4] END criterion=gini, max_depth=179, max_features=None, min_samples_leaf=2, min_samples_split=7, n_estimators=102; total time=   1.2s\n",
      "[CV 3/4] END criterion=gini, max_depth=179, max_features=None, min_samples_leaf=2, min_samples_split=7, n_estimators=102; total time=   1.2s\n",
      "[CV 4/4] END criterion=gini, max_depth=179, max_features=None, min_samples_leaf=2, min_samples_split=7, n_estimators=102; total time=   1.2s\n",
      "[CV 1/4] END criterion=gini, max_depth=179, max_features=None, min_samples_leaf=2, min_samples_split=7, n_estimators=202; total time=   2.4s\n",
      "[CV 2/4] END criterion=gini, max_depth=179, max_features=None, min_samples_leaf=2, min_samples_split=7, n_estimators=202; total time=   2.4s\n",
      "[CV 3/4] END criterion=gini, max_depth=179, max_features=None, min_samples_leaf=2, min_samples_split=7, n_estimators=202; total time=   2.5s\n",
      "[CV 4/4] END criterion=gini, max_depth=179, max_features=None, min_samples_leaf=2, min_samples_split=7, n_estimators=202; total time=   2.3s\n",
      "[CV 1/4] END criterion=gini, max_depth=179, max_features=None, min_samples_leaf=2, min_samples_split=7, n_estimators=302; total time=   3.6s\n",
      "[CV 2/4] END criterion=gini, max_depth=179, max_features=None, min_samples_leaf=2, min_samples_split=7, n_estimators=302; total time=   3.8s\n",
      "[CV 3/4] END criterion=gini, max_depth=179, max_features=None, min_samples_leaf=2, min_samples_split=7, n_estimators=302; total time=   3.5s\n",
      "[CV 4/4] END criterion=gini, max_depth=179, max_features=None, min_samples_leaf=2, min_samples_split=7, n_estimators=302; total time=   3.5s\n",
      "[CV 1/4] END criterion=gini, max_depth=179, max_features=None, min_samples_leaf=2, min_samples_split=7, n_estimators=352; total time=   4.2s\n",
      "[CV 2/4] END criterion=gini, max_depth=179, max_features=None, min_samples_leaf=2, min_samples_split=7, n_estimators=352; total time=   4.1s\n",
      "[CV 3/4] END criterion=gini, max_depth=179, max_features=None, min_samples_leaf=2, min_samples_split=7, n_estimators=352; total time=   4.2s\n",
      "[CV 4/4] END criterion=gini, max_depth=179, max_features=None, min_samples_leaf=2, min_samples_split=7, n_estimators=352; total time=   4.1s\n",
      "[CV 1/4] END criterion=gini, max_depth=179, max_features=None, min_samples_leaf=2, min_samples_split=10, n_estimators=52; total time=   0.6s\n",
      "[CV 2/4] END criterion=gini, max_depth=179, max_features=None, min_samples_leaf=2, min_samples_split=10, n_estimators=52; total time=   0.6s\n",
      "[CV 3/4] END criterion=gini, max_depth=179, max_features=None, min_samples_leaf=2, min_samples_split=10, n_estimators=52; total time=   0.6s\n",
      "[CV 4/4] END criterion=gini, max_depth=179, max_features=None, min_samples_leaf=2, min_samples_split=10, n_estimators=52; total time=   0.6s\n",
      "[CV 1/4] END criterion=gini, max_depth=179, max_features=None, min_samples_leaf=2, min_samples_split=10, n_estimators=102; total time=   1.2s\n",
      "[CV 2/4] END criterion=gini, max_depth=179, max_features=None, min_samples_leaf=2, min_samples_split=10, n_estimators=102; total time=   1.2s\n",
      "[CV 3/4] END criterion=gini, max_depth=179, max_features=None, min_samples_leaf=2, min_samples_split=10, n_estimators=102; total time=   1.2s\n",
      "[CV 4/4] END criterion=gini, max_depth=179, max_features=None, min_samples_leaf=2, min_samples_split=10, n_estimators=102; total time=   1.2s\n",
      "[CV 1/4] END criterion=gini, max_depth=179, max_features=None, min_samples_leaf=2, min_samples_split=10, n_estimators=202; total time=   2.5s\n",
      "[CV 2/4] END criterion=gini, max_depth=179, max_features=None, min_samples_leaf=2, min_samples_split=10, n_estimators=202; total time=   2.3s\n",
      "[CV 3/4] END criterion=gini, max_depth=179, max_features=None, min_samples_leaf=2, min_samples_split=10, n_estimators=202; total time=   2.4s\n",
      "[CV 4/4] END criterion=gini, max_depth=179, max_features=None, min_samples_leaf=2, min_samples_split=10, n_estimators=202; total time=   2.3s\n",
      "[CV 1/4] END criterion=gini, max_depth=179, max_features=None, min_samples_leaf=2, min_samples_split=10, n_estimators=302; total time=   3.5s\n",
      "[CV 2/4] END criterion=gini, max_depth=179, max_features=None, min_samples_leaf=2, min_samples_split=10, n_estimators=302; total time=   3.4s\n",
      "[CV 3/4] END criterion=gini, max_depth=179, max_features=None, min_samples_leaf=2, min_samples_split=10, n_estimators=302; total time=   3.4s\n",
      "[CV 4/4] END criterion=gini, max_depth=179, max_features=None, min_samples_leaf=2, min_samples_split=10, n_estimators=302; total time=   3.4s\n",
      "[CV 1/4] END criterion=gini, max_depth=179, max_features=None, min_samples_leaf=2, min_samples_split=10, n_estimators=352; total time=   4.3s\n",
      "[CV 2/4] END criterion=gini, max_depth=179, max_features=None, min_samples_leaf=2, min_samples_split=10, n_estimators=352; total time=   4.2s\n",
      "[CV 3/4] END criterion=gini, max_depth=179, max_features=None, min_samples_leaf=2, min_samples_split=10, n_estimators=352; total time=   4.1s\n",
      "[CV 4/4] END criterion=gini, max_depth=179, max_features=None, min_samples_leaf=2, min_samples_split=10, n_estimators=352; total time=   4.0s\n",
      "[CV 1/4] END criterion=gini, max_depth=179, max_features=None, min_samples_leaf=2, min_samples_split=13, n_estimators=52; total time=   0.6s\n",
      "[CV 2/4] END criterion=gini, max_depth=179, max_features=None, min_samples_leaf=2, min_samples_split=13, n_estimators=52; total time=   0.6s\n",
      "[CV 3/4] END criterion=gini, max_depth=179, max_features=None, min_samples_leaf=2, min_samples_split=13, n_estimators=52; total time=   0.6s\n",
      "[CV 4/4] END criterion=gini, max_depth=179, max_features=None, min_samples_leaf=2, min_samples_split=13, n_estimators=52; total time=   0.6s\n",
      "[CV 1/4] END criterion=gini, max_depth=179, max_features=None, min_samples_leaf=2, min_samples_split=13, n_estimators=102; total time=   1.1s\n",
      "[CV 2/4] END criterion=gini, max_depth=179, max_features=None, min_samples_leaf=2, min_samples_split=13, n_estimators=102; total time=   1.1s\n",
      "[CV 3/4] END criterion=gini, max_depth=179, max_features=None, min_samples_leaf=2, min_samples_split=13, n_estimators=102; total time=   1.2s\n",
      "[CV 4/4] END criterion=gini, max_depth=179, max_features=None, min_samples_leaf=2, min_samples_split=13, n_estimators=102; total time=   1.3s\n",
      "[CV 1/4] END criterion=gini, max_depth=179, max_features=None, min_samples_leaf=2, min_samples_split=13, n_estimators=202; total time=   2.3s\n",
      "[CV 2/4] END criterion=gini, max_depth=179, max_features=None, min_samples_leaf=2, min_samples_split=13, n_estimators=202; total time=   2.3s\n",
      "[CV 3/4] END criterion=gini, max_depth=179, max_features=None, min_samples_leaf=2, min_samples_split=13, n_estimators=202; total time=   2.2s\n",
      "[CV 4/4] END criterion=gini, max_depth=179, max_features=None, min_samples_leaf=2, min_samples_split=13, n_estimators=202; total time=   2.3s\n",
      "[CV 1/4] END criterion=gini, max_depth=179, max_features=None, min_samples_leaf=2, min_samples_split=13, n_estimators=302; total time=   3.5s\n",
      "[CV 2/4] END criterion=gini, max_depth=179, max_features=None, min_samples_leaf=2, min_samples_split=13, n_estimators=302; total time=   3.4s\n",
      "[CV 3/4] END criterion=gini, max_depth=179, max_features=None, min_samples_leaf=2, min_samples_split=13, n_estimators=302; total time=   3.4s\n",
      "[CV 4/4] END criterion=gini, max_depth=179, max_features=None, min_samples_leaf=2, min_samples_split=13, n_estimators=302; total time=   3.3s\n",
      "[CV 1/4] END criterion=gini, max_depth=179, max_features=None, min_samples_leaf=2, min_samples_split=13, n_estimators=352; total time=   5.7s\n",
      "[CV 2/4] END criterion=gini, max_depth=179, max_features=None, min_samples_leaf=2, min_samples_split=13, n_estimators=352; total time=   4.0s\n",
      "[CV 3/4] END criterion=gini, max_depth=179, max_features=None, min_samples_leaf=2, min_samples_split=13, n_estimators=352; total time=   7.1s\n",
      "[CV 4/4] END criterion=gini, max_depth=179, max_features=None, min_samples_leaf=2, min_samples_split=13, n_estimators=352; total time=   6.0s\n",
      "[CV 1/4] END criterion=gini, max_depth=179, max_features=None, min_samples_leaf=4, min_samples_split=7, n_estimators=52; total time=   0.6s\n",
      "[CV 2/4] END criterion=gini, max_depth=179, max_features=None, min_samples_leaf=4, min_samples_split=7, n_estimators=52; total time=   0.6s\n",
      "[CV 3/4] END criterion=gini, max_depth=179, max_features=None, min_samples_leaf=4, min_samples_split=7, n_estimators=52; total time=   0.6s\n",
      "[CV 4/4] END criterion=gini, max_depth=179, max_features=None, min_samples_leaf=4, min_samples_split=7, n_estimators=52; total time=   0.6s\n",
      "[CV 1/4] END criterion=gini, max_depth=179, max_features=None, min_samples_leaf=4, min_samples_split=7, n_estimators=102; total time=   1.2s\n",
      "[CV 2/4] END criterion=gini, max_depth=179, max_features=None, min_samples_leaf=4, min_samples_split=7, n_estimators=102; total time=   1.1s\n",
      "[CV 3/4] END criterion=gini, max_depth=179, max_features=None, min_samples_leaf=4, min_samples_split=7, n_estimators=102; total time=   1.1s\n",
      "[CV 4/4] END criterion=gini, max_depth=179, max_features=None, min_samples_leaf=4, min_samples_split=7, n_estimators=102; total time=   1.1s\n",
      "[CV 1/4] END criterion=gini, max_depth=179, max_features=None, min_samples_leaf=4, min_samples_split=7, n_estimators=202; total time=   2.3s\n",
      "[CV 2/4] END criterion=gini, max_depth=179, max_features=None, min_samples_leaf=4, min_samples_split=7, n_estimators=202; total time=   2.2s\n",
      "[CV 3/4] END criterion=gini, max_depth=179, max_features=None, min_samples_leaf=4, min_samples_split=7, n_estimators=202; total time=   2.4s\n",
      "[CV 4/4] END criterion=gini, max_depth=179, max_features=None, min_samples_leaf=4, min_samples_split=7, n_estimators=202; total time=   2.3s\n",
      "[CV 1/4] END criterion=gini, max_depth=179, max_features=None, min_samples_leaf=4, min_samples_split=7, n_estimators=302; total time=   3.5s\n",
      "[CV 2/4] END criterion=gini, max_depth=179, max_features=None, min_samples_leaf=4, min_samples_split=7, n_estimators=302; total time=   3.4s\n",
      "[CV 3/4] END criterion=gini, max_depth=179, max_features=None, min_samples_leaf=4, min_samples_split=7, n_estimators=302; total time=   3.5s\n",
      "[CV 4/4] END criterion=gini, max_depth=179, max_features=None, min_samples_leaf=4, min_samples_split=7, n_estimators=302; total time=   3.5s\n",
      "[CV 1/4] END criterion=gini, max_depth=179, max_features=None, min_samples_leaf=4, min_samples_split=7, n_estimators=352; total time=   4.1s\n",
      "[CV 2/4] END criterion=gini, max_depth=179, max_features=None, min_samples_leaf=4, min_samples_split=7, n_estimators=352; total time=   3.9s\n",
      "[CV 3/4] END criterion=gini, max_depth=179, max_features=None, min_samples_leaf=4, min_samples_split=7, n_estimators=352; total time=   4.0s\n",
      "[CV 4/4] END criterion=gini, max_depth=179, max_features=None, min_samples_leaf=4, min_samples_split=7, n_estimators=352; total time=   3.9s\n",
      "[CV 1/4] END criterion=gini, max_depth=179, max_features=None, min_samples_leaf=4, min_samples_split=10, n_estimators=52; total time=   0.6s\n",
      "[CV 2/4] END criterion=gini, max_depth=179, max_features=None, min_samples_leaf=4, min_samples_split=10, n_estimators=52; total time=   0.6s\n",
      "[CV 3/4] END criterion=gini, max_depth=179, max_features=None, min_samples_leaf=4, min_samples_split=10, n_estimators=52; total time=   0.6s\n",
      "[CV 4/4] END criterion=gini, max_depth=179, max_features=None, min_samples_leaf=4, min_samples_split=10, n_estimators=52; total time=   0.6s\n",
      "[CV 1/4] END criterion=gini, max_depth=179, max_features=None, min_samples_leaf=4, min_samples_split=10, n_estimators=102; total time=   1.1s\n",
      "[CV 2/4] END criterion=gini, max_depth=179, max_features=None, min_samples_leaf=4, min_samples_split=10, n_estimators=102; total time=   1.1s\n",
      "[CV 3/4] END criterion=gini, max_depth=179, max_features=None, min_samples_leaf=4, min_samples_split=10, n_estimators=102; total time=   1.1s\n",
      "[CV 4/4] END criterion=gini, max_depth=179, max_features=None, min_samples_leaf=4, min_samples_split=10, n_estimators=102; total time=   1.2s\n",
      "[CV 1/4] END criterion=gini, max_depth=179, max_features=None, min_samples_leaf=4, min_samples_split=10, n_estimators=202; total time=   2.5s\n",
      "[CV 2/4] END criterion=gini, max_depth=179, max_features=None, min_samples_leaf=4, min_samples_split=10, n_estimators=202; total time=   2.3s\n",
      "[CV 3/4] END criterion=gini, max_depth=179, max_features=None, min_samples_leaf=4, min_samples_split=10, n_estimators=202; total time=   2.3s\n",
      "[CV 4/4] END criterion=gini, max_depth=179, max_features=None, min_samples_leaf=4, min_samples_split=10, n_estimators=202; total time=   2.2s\n",
      "[CV 1/4] END criterion=gini, max_depth=179, max_features=None, min_samples_leaf=4, min_samples_split=10, n_estimators=302; total time=   3.4s\n",
      "[CV 2/4] END criterion=gini, max_depth=179, max_features=None, min_samples_leaf=4, min_samples_split=10, n_estimators=302; total time=   3.4s\n",
      "[CV 3/4] END criterion=gini, max_depth=179, max_features=None, min_samples_leaf=4, min_samples_split=10, n_estimators=302; total time=   3.3s\n",
      "[CV 4/4] END criterion=gini, max_depth=179, max_features=None, min_samples_leaf=4, min_samples_split=10, n_estimators=302; total time=   3.4s\n",
      "[CV 1/4] END criterion=gini, max_depth=179, max_features=None, min_samples_leaf=4, min_samples_split=10, n_estimators=352; total time=   4.0s\n",
      "[CV 2/4] END criterion=gini, max_depth=179, max_features=None, min_samples_leaf=4, min_samples_split=10, n_estimators=352; total time=   3.9s\n",
      "[CV 3/4] END criterion=gini, max_depth=179, max_features=None, min_samples_leaf=4, min_samples_split=10, n_estimators=352; total time=   4.0s\n",
      "[CV 4/4] END criterion=gini, max_depth=179, max_features=None, min_samples_leaf=4, min_samples_split=10, n_estimators=352; total time=   3.9s\n",
      "[CV 1/4] END criterion=gini, max_depth=179, max_features=None, min_samples_leaf=4, min_samples_split=13, n_estimators=52; total time=   0.6s\n",
      "[CV 2/4] END criterion=gini, max_depth=179, max_features=None, min_samples_leaf=4, min_samples_split=13, n_estimators=52; total time=   0.6s\n",
      "[CV 3/4] END criterion=gini, max_depth=179, max_features=None, min_samples_leaf=4, min_samples_split=13, n_estimators=52; total time=   0.6s\n",
      "[CV 4/4] END criterion=gini, max_depth=179, max_features=None, min_samples_leaf=4, min_samples_split=13, n_estimators=52; total time=   0.6s\n",
      "[CV 1/4] END criterion=gini, max_depth=179, max_features=None, min_samples_leaf=4, min_samples_split=13, n_estimators=102; total time=   1.1s\n",
      "[CV 2/4] END criterion=gini, max_depth=179, max_features=None, min_samples_leaf=4, min_samples_split=13, n_estimators=102; total time=   1.1s\n",
      "[CV 3/4] END criterion=gini, max_depth=179, max_features=None, min_samples_leaf=4, min_samples_split=13, n_estimators=102; total time=   1.1s\n",
      "[CV 4/4] END criterion=gini, max_depth=179, max_features=None, min_samples_leaf=4, min_samples_split=13, n_estimators=102; total time=   1.2s\n",
      "[CV 1/4] END criterion=gini, max_depth=179, max_features=None, min_samples_leaf=4, min_samples_split=13, n_estimators=202; total time=   2.2s\n",
      "[CV 2/4] END criterion=gini, max_depth=179, max_features=None, min_samples_leaf=4, min_samples_split=13, n_estimators=202; total time=   2.2s\n",
      "[CV 3/4] END criterion=gini, max_depth=179, max_features=None, min_samples_leaf=4, min_samples_split=13, n_estimators=202; total time=   2.2s\n",
      "[CV 4/4] END criterion=gini, max_depth=179, max_features=None, min_samples_leaf=4, min_samples_split=13, n_estimators=202; total time=   2.2s\n",
      "[CV 1/4] END criterion=gini, max_depth=179, max_features=None, min_samples_leaf=4, min_samples_split=13, n_estimators=302; total time=   3.4s\n",
      "[CV 2/4] END criterion=gini, max_depth=179, max_features=None, min_samples_leaf=4, min_samples_split=13, n_estimators=302; total time=   3.5s\n",
      "[CV 3/4] END criterion=gini, max_depth=179, max_features=None, min_samples_leaf=4, min_samples_split=13, n_estimators=302; total time=   3.5s\n",
      "[CV 4/4] END criterion=gini, max_depth=179, max_features=None, min_samples_leaf=4, min_samples_split=13, n_estimators=302; total time=   3.3s\n",
      "[CV 1/4] END criterion=gini, max_depth=179, max_features=None, min_samples_leaf=4, min_samples_split=13, n_estimators=352; total time=   3.9s\n",
      "[CV 2/4] END criterion=gini, max_depth=179, max_features=None, min_samples_leaf=4, min_samples_split=13, n_estimators=352; total time=   3.8s\n",
      "[CV 3/4] END criterion=gini, max_depth=179, max_features=None, min_samples_leaf=4, min_samples_split=13, n_estimators=352; total time=   3.9s\n",
      "[CV 4/4] END criterion=gini, max_depth=179, max_features=None, min_samples_leaf=4, min_samples_split=13, n_estimators=352; total time=   3.9s\n",
      "[CV 1/4] END criterion=gini, max_depth=179, max_features=None, min_samples_leaf=6, min_samples_split=7, n_estimators=52; total time=   0.6s\n",
      "[CV 2/4] END criterion=gini, max_depth=179, max_features=None, min_samples_leaf=6, min_samples_split=7, n_estimators=52; total time=   0.6s\n",
      "[CV 3/4] END criterion=gini, max_depth=179, max_features=None, min_samples_leaf=6, min_samples_split=7, n_estimators=52; total time=   0.6s\n",
      "[CV 4/4] END criterion=gini, max_depth=179, max_features=None, min_samples_leaf=6, min_samples_split=7, n_estimators=52; total time=   0.6s\n",
      "[CV 1/4] END criterion=gini, max_depth=179, max_features=None, min_samples_leaf=6, min_samples_split=7, n_estimators=102; total time=   1.1s\n",
      "[CV 2/4] END criterion=gini, max_depth=179, max_features=None, min_samples_leaf=6, min_samples_split=7, n_estimators=102; total time=   1.1s\n",
      "[CV 3/4] END criterion=gini, max_depth=179, max_features=None, min_samples_leaf=6, min_samples_split=7, n_estimators=102; total time=   1.1s\n",
      "[CV 4/4] END criterion=gini, max_depth=179, max_features=None, min_samples_leaf=6, min_samples_split=7, n_estimators=102; total time=   1.1s\n",
      "[CV 1/4] END criterion=gini, max_depth=179, max_features=None, min_samples_leaf=6, min_samples_split=7, n_estimators=202; total time=   2.3s\n",
      "[CV 2/4] END criterion=gini, max_depth=179, max_features=None, min_samples_leaf=6, min_samples_split=7, n_estimators=202; total time=   2.2s\n",
      "[CV 3/4] END criterion=gini, max_depth=179, max_features=None, min_samples_leaf=6, min_samples_split=7, n_estimators=202; total time=   2.2s\n",
      "[CV 4/4] END criterion=gini, max_depth=179, max_features=None, min_samples_leaf=6, min_samples_split=7, n_estimators=202; total time=   2.2s\n",
      "[CV 1/4] END criterion=gini, max_depth=179, max_features=None, min_samples_leaf=6, min_samples_split=7, n_estimators=302; total time=   3.3s\n",
      "[CV 2/4] END criterion=gini, max_depth=179, max_features=None, min_samples_leaf=6, min_samples_split=7, n_estimators=302; total time=   3.3s\n",
      "[CV 3/4] END criterion=gini, max_depth=179, max_features=None, min_samples_leaf=6, min_samples_split=7, n_estimators=302; total time=   3.2s\n",
      "[CV 4/4] END criterion=gini, max_depth=179, max_features=None, min_samples_leaf=6, min_samples_split=7, n_estimators=302; total time=   3.2s\n",
      "[CV 1/4] END criterion=gini, max_depth=179, max_features=None, min_samples_leaf=6, min_samples_split=7, n_estimators=352; total time=   3.9s\n",
      "[CV 2/4] END criterion=gini, max_depth=179, max_features=None, min_samples_leaf=6, min_samples_split=7, n_estimators=352; total time=   3.8s\n",
      "[CV 3/4] END criterion=gini, max_depth=179, max_features=None, min_samples_leaf=6, min_samples_split=7, n_estimators=352; total time=   4.0s\n",
      "[CV 4/4] END criterion=gini, max_depth=179, max_features=None, min_samples_leaf=6, min_samples_split=7, n_estimators=352; total time=   3.9s\n",
      "[CV 1/4] END criterion=gini, max_depth=179, max_features=None, min_samples_leaf=6, min_samples_split=10, n_estimators=52; total time=   0.6s\n",
      "[CV 2/4] END criterion=gini, max_depth=179, max_features=None, min_samples_leaf=6, min_samples_split=10, n_estimators=52; total time=   0.6s\n",
      "[CV 3/4] END criterion=gini, max_depth=179, max_features=None, min_samples_leaf=6, min_samples_split=10, n_estimators=52; total time=   0.6s\n",
      "[CV 4/4] END criterion=gini, max_depth=179, max_features=None, min_samples_leaf=6, min_samples_split=10, n_estimators=52; total time=   0.6s\n",
      "[CV 1/4] END criterion=gini, max_depth=179, max_features=None, min_samples_leaf=6, min_samples_split=10, n_estimators=102; total time=   1.1s\n",
      "[CV 2/4] END criterion=gini, max_depth=179, max_features=None, min_samples_leaf=6, min_samples_split=10, n_estimators=102; total time=   1.1s\n",
      "[CV 3/4] END criterion=gini, max_depth=179, max_features=None, min_samples_leaf=6, min_samples_split=10, n_estimators=102; total time=   1.1s\n",
      "[CV 4/4] END criterion=gini, max_depth=179, max_features=None, min_samples_leaf=6, min_samples_split=10, n_estimators=102; total time=   1.1s\n",
      "[CV 1/4] END criterion=gini, max_depth=179, max_features=None, min_samples_leaf=6, min_samples_split=10, n_estimators=202; total time=   2.2s\n",
      "[CV 2/4] END criterion=gini, max_depth=179, max_features=None, min_samples_leaf=6, min_samples_split=10, n_estimators=202; total time=   2.2s\n",
      "[CV 3/4] END criterion=gini, max_depth=179, max_features=None, min_samples_leaf=6, min_samples_split=10, n_estimators=202; total time=   2.3s\n",
      "[CV 4/4] END criterion=gini, max_depth=179, max_features=None, min_samples_leaf=6, min_samples_split=10, n_estimators=202; total time=   2.2s\n",
      "[CV 1/4] END criterion=gini, max_depth=179, max_features=None, min_samples_leaf=6, min_samples_split=10, n_estimators=302; total time=   3.3s\n",
      "[CV 2/4] END criterion=gini, max_depth=179, max_features=None, min_samples_leaf=6, min_samples_split=10, n_estimators=302; total time=   3.3s\n",
      "[CV 3/4] END criterion=gini, max_depth=179, max_features=None, min_samples_leaf=6, min_samples_split=10, n_estimators=302; total time=   3.3s\n",
      "[CV 4/4] END criterion=gini, max_depth=179, max_features=None, min_samples_leaf=6, min_samples_split=10, n_estimators=302; total time=   3.3s\n",
      "[CV 1/4] END criterion=gini, max_depth=179, max_features=None, min_samples_leaf=6, min_samples_split=10, n_estimators=352; total time=   3.8s\n",
      "[CV 2/4] END criterion=gini, max_depth=179, max_features=None, min_samples_leaf=6, min_samples_split=10, n_estimators=352; total time=   3.8s\n",
      "[CV 3/4] END criterion=gini, max_depth=179, max_features=None, min_samples_leaf=6, min_samples_split=10, n_estimators=352; total time=   3.8s\n",
      "[CV 4/4] END criterion=gini, max_depth=179, max_features=None, min_samples_leaf=6, min_samples_split=10, n_estimators=352; total time=   3.7s\n",
      "[CV 1/4] END criterion=gini, max_depth=179, max_features=None, min_samples_leaf=6, min_samples_split=13, n_estimators=52; total time=   0.6s\n",
      "[CV 2/4] END criterion=gini, max_depth=179, max_features=None, min_samples_leaf=6, min_samples_split=13, n_estimators=52; total time=   0.6s\n",
      "[CV 3/4] END criterion=gini, max_depth=179, max_features=None, min_samples_leaf=6, min_samples_split=13, n_estimators=52; total time=   0.6s\n",
      "[CV 4/4] END criterion=gini, max_depth=179, max_features=None, min_samples_leaf=6, min_samples_split=13, n_estimators=52; total time=   0.5s\n",
      "[CV 1/4] END criterion=gini, max_depth=179, max_features=None, min_samples_leaf=6, min_samples_split=13, n_estimators=102; total time=   1.1s\n",
      "[CV 2/4] END criterion=gini, max_depth=179, max_features=None, min_samples_leaf=6, min_samples_split=13, n_estimators=102; total time=   1.1s\n",
      "[CV 3/4] END criterion=gini, max_depth=179, max_features=None, min_samples_leaf=6, min_samples_split=13, n_estimators=102; total time=   1.1s\n",
      "[CV 4/4] END criterion=gini, max_depth=179, max_features=None, min_samples_leaf=6, min_samples_split=13, n_estimators=102; total time=   1.1s\n",
      "[CV 1/4] END criterion=gini, max_depth=179, max_features=None, min_samples_leaf=6, min_samples_split=13, n_estimators=202; total time=   2.3s\n",
      "[CV 2/4] END criterion=gini, max_depth=179, max_features=None, min_samples_leaf=6, min_samples_split=13, n_estimators=202; total time=   2.3s\n",
      "[CV 3/4] END criterion=gini, max_depth=179, max_features=None, min_samples_leaf=6, min_samples_split=13, n_estimators=202; total time=   2.2s\n",
      "[CV 4/4] END criterion=gini, max_depth=179, max_features=None, min_samples_leaf=6, min_samples_split=13, n_estimators=202; total time=   2.1s\n",
      "[CV 1/4] END criterion=gini, max_depth=179, max_features=None, min_samples_leaf=6, min_samples_split=13, n_estimators=302; total time=   3.3s\n",
      "[CV 2/4] END criterion=gini, max_depth=179, max_features=None, min_samples_leaf=6, min_samples_split=13, n_estimators=302; total time=   3.3s\n",
      "[CV 3/4] END criterion=gini, max_depth=179, max_features=None, min_samples_leaf=6, min_samples_split=13, n_estimators=302; total time=   3.3s\n",
      "[CV 4/4] END criterion=gini, max_depth=179, max_features=None, min_samples_leaf=6, min_samples_split=13, n_estimators=302; total time=   3.2s\n",
      "[CV 1/4] END criterion=gini, max_depth=179, max_features=None, min_samples_leaf=6, min_samples_split=13, n_estimators=352; total time=   3.9s\n",
      "[CV 2/4] END criterion=gini, max_depth=179, max_features=None, min_samples_leaf=6, min_samples_split=13, n_estimators=352; total time=   3.8s\n",
      "[CV 3/4] END criterion=gini, max_depth=179, max_features=None, min_samples_leaf=6, min_samples_split=13, n_estimators=352; total time=   3.9s\n",
      "[CV 4/4] END criterion=gini, max_depth=179, max_features=None, min_samples_leaf=6, min_samples_split=13, n_estimators=352; total time=   3.9s\n"
     ]
    }
   ],
   "source": [
    "#подбор параметров с помощью grid_search\n",
    "grid_search = {\n",
    "    'criterion': [rf_rand.best_params_['criterion']],\n",
    "    'max_depth': [rf_rand.best_params_['max_depth']],\n",
    "    'max_features': [rf_rand.best_params_['max_features']],\n",
    "    'min_samples_leaf': [rf_rand.best_params_['min_samples_leaf'] - 2, \n",
    "                         rf_rand.best_params_['min_samples_leaf'], \n",
    "                         rf_rand.best_params_['min_samples_leaf'] + 2],\n",
    "    'min_samples_split': [rf_rand.best_params_['min_samples_split'] - 3, \n",
    "                          rf_rand.best_params_['min_samples_split'], \n",
    "                          rf_rand.best_params_['min_samples_split'] + 3],\n",
    "    'n_estimators': [rf_rand.best_params_['n_estimators'] - 150, \n",
    "                     rf_rand.best_params_['n_estimators'] - 100, \n",
    "                     rf_rand.best_params_['n_estimators'], \n",
    "                     rf_rand.best_params_['n_estimators'] + 100, \n",
    "                     rf_rand.best_params_['n_estimators'] + 150]\n",
    "}\n",
    "\n",
    "rf_grid = GridSearchCV(estimator = rf_clf, param_grid = grid_search, scoring=roc_auc_scorer, \n",
    "                               cv = 4, verbose= 5, n_jobs = -1)\n",
    "rf_grid.fit(features_upsampled, target_upsampled)\n",
    "\n",
    "predictionforest = rf_grid.best_estimator_.predict(features_upsampled)"
   ]
  },
  {
   "cell_type": "code",
   "execution_count": 45,
   "metadata": {
    "colab": {
     "base_uri": "https://localhost:8080/"
    },
    "id": "BRBD9V9XRyY0",
    "outputId": "ece19d44-2d60-4c3b-e8dc-e824fe338268"
   },
   "outputs": [
    {
     "name": "stdout",
     "output_type": "stream",
     "text": [
      "лучший AUC-ROC: 0.9559794744704622\n",
      "лучшие параметры модели: {'criterion': 'gini', 'max_depth': 179, 'max_features': None, 'min_samples_leaf': 2, 'min_samples_split': 7, 'n_estimators': 302}\n"
     ]
    }
   ],
   "source": [
    "print('лучший AUC-ROC:', rf_grid.best_score_)\n",
    "print('лучшие параметры модели:', rf_grid.best_params_)"
   ]
  },
  {
   "cell_type": "code",
   "execution_count": 46,
   "metadata": {
    "id": "Yw9uiJ1F4YjL"
   },
   "outputs": [],
   "source": [
    "model = rf_grid.best_estimator_"
   ]
  },
  {
   "cell_type": "code",
   "execution_count": 47,
   "metadata": {
    "colab": {
     "base_uri": "https://localhost:8080/",
     "height": 769
    },
    "id": "3-N5nXRoLruW",
    "outputId": "9fc92c72-8f12-4076-daa0-5162ddd53df0"
   },
   "outputs": [
    {
     "name": "stdout",
     "output_type": "stream",
     "text": [
      "матрица ошибок:\n",
      "[[422  90]\n",
      " [ 77 116]]\n",
      "auc_roc на валидационной выборке: 0.8212840025906738\n"
     ]
    },
    {
     "data": {
      "image/png": "[encoded data removed]",
      "text/plain": [
       "<Figure size 432x432 with 1 Axes>"
      ]
     },
     "metadata": {
      "needs_background": "light"
     },
     "output_type": "display_data"
    },
    {
     "data": {
      "image/png": "[encoded data removed]",
      "text/plain": [
       "<Figure size 432x288 with 1 Axes>"
      ]
     },
     "metadata": {
      "needs_background": "light"
     },
     "output_type": "display_data"
    }
   ],
   "source": [
    "best_rf = model_fit_scoring(features_valid, features_upsampled, target_valid, target_upsampled, True)"
   ]
  },
  {
   "cell_type": "code",
   "execution_count": 48,
   "metadata": {
    "colab": {
     "base_uri": "https://localhost:8080/",
     "height": 441
    },
    "id": "IM85sD9xmsYZ",
    "outputId": "22b80bcb-2d81-4433-c48d-0594158e76a4"
   },
   "outputs": [
    {
     "data": {
      "image/png": "[encoded data removed]",
      "text/plain": [
       "<Figure size 864x432 with 1 Axes>"
      ]
     },
     "metadata": {
      "needs_background": "light"
     },
     "output_type": "display_data"
    }
   ],
   "source": [
    "#степень влияния признаков\n",
    "feature_names = [name for name in features.columns] \n",
    "\n",
    "importances = model.feature_importances_\n",
    "forest_importances = pd.Series(importances, index=feature_names)\n",
    "std = np.std([\n",
    "    tree.feature_importances_ for tree in model.estimators_], axis=0)\n",
    "fig, ax = plt.subplots(figsize=(12,6))\n",
    "forest_importances.plot.bar(yerr=std, ax=ax)\n",
    "ax.set_title(\"Feature importances using MDI\")\n",
    "ax.set_ylabel(\"Mean decrease in impurity\")\n",
    "fig.tight_layout()"
   ]
  },
  {
   "cell_type": "markdown",
   "metadata": {
    "id": "GgpGlx1DmnJ8"
   },
   "source": [
    "### LogisticRegression"
   ]
  },
  {
   "cell_type": "code",
   "execution_count": 49,
   "metadata": {
    "colab": {
     "base_uri": "https://localhost:8080/"
    },
    "id": "C8RB1scxU7PB",
    "outputId": "496663a7-08e8-4ccf-db87-2d1fbba5cc89"
   },
   "outputs": [
    {
     "name": "stdout",
     "output_type": "stream",
     "text": [
      "tuned hpyerparameters :(best parameters)  {'C': 0.9, 'penalty': 'l2', 'solver': 'lbfgs'}\n",
      "roc_auc : 0.8434170609097219\n",
      "LogisticRegression(C=0.9)\n"
     ]
    }
   ],
   "source": [
    "grid={'C': [0.1, 0.2, 0.3, 0.4, 0.5, 0.6, 0.7, 0.8, 0.9, 1.0], \n",
    "                 'penalty':['l2'], \n",
    "                 'solver':['newton-cg', 'lbfgs', 'liblinear', 'sag', 'saga']}\n",
    "logreg=LogisticRegression()\n",
    "logreg_cv=GridSearchCV(logreg, grid, cv=10, scoring=roc_auc_scorer)\n",
    "logreg_cv.fit(features_train, target_train)\n",
    "\n",
    "print(\"tuned hpyerparameters :(best parameters) \", logreg_cv.best_params_)\n",
    "print(\"roc_auc :\", logreg_cv.best_score_)\n",
    "print(logreg_cv.best_estimator_)"
   ]
  },
  {
   "cell_type": "code",
   "execution_count": 50,
   "metadata": {
    "colab": {
     "base_uri": "https://localhost:8080/",
     "height": 769
    },
    "id": "Erwc8wuTnEKy",
    "outputId": "9991bd29-43ad-4d41-c9d2-a3ff60392d35"
   },
   "outputs": [
    {
     "name": "stdout",
     "output_type": "stream",
     "text": [
      "матрица ошибок:\n",
      "[[456  56]\n",
      " [ 94  99]]\n",
      "auc_roc на валидационной выборке: 0.8265969073834196\n"
     ]
    },
    {
     "data": {
      "image/png": "[encoded data removed]",
      "text/plain": [
       "<Figure size 432x432 with 1 Axes>"
      ]
     },
     "metadata": {
      "needs_background": "light"
     },
     "output_type": "display_data"
    },
    {
     "data": {
      "image/png": "[encoded data removed]",
      "text/plain": [
       "<Figure size 432x288 with 1 Axes>"
      ]
     },
     "metadata": {
      "needs_background": "light"
     },
     "output_type": "display_data"
    }
   ],
   "source": [
    "model = logreg_cv.best_estimator_\n",
    "best_lr = model_fit_scoring(features_valid, features_train, target_valid, target_train, True)"
   ]
  },
  {
   "cell_type": "markdown",
   "metadata": {
    "id": "NVgsG0ccrGZy"
   },
   "source": [
    "### Catboost"
   ]
  },
  {
   "cell_type": "code",
   "execution_count": 51,
   "metadata": {
    "colab": {
     "base_uri": "https://localhost:8080/"
    },
    "id": "bMnROT3euIlt",
    "outputId": "6b0bfad2-9c8e-4caa-b745-576574f22205"
   },
   "outputs": [
    {
     "name": "stdout",
     "output_type": "stream",
     "text": [
      "CPU times: user 1.62 ms, sys: 253 µs, total: 1.87 ms\n",
      "Wall time: 1.64 ms\n"
     ]
    }
   ],
   "source": [
    "%%time\n",
    "1 + 1\n",
    "\n",
    "df_cbc = df_clear.drop(['customer_id', 'begin_date', 'end_date'], axis=1)"
   ]
  },
  {
   "cell_type": "code",
   "execution_count": 52,
   "metadata": {
    "colab": {
     "base_uri": "https://localhost:8080/",
     "height": 409
    },
    "id": "R9Cp78YdYQ7D",
    "outputId": "2070f7be-9b7e-403d-b0f3-b9ca9f790adb",
    "scrolled": true
   },
   "outputs": [
    {
     "data": {
      "text/html": [
       "<div>\n",
       "<style scoped>\n",
       "    .dataframe tbody tr th:only-of-type {\n",
       "        vertical-align: middle;\n",
       "    }\n",
       "\n",
       "    .dataframe tbody tr th {\n",
       "        vertical-align: top;\n",
       "    }\n",
       "\n",
       "    .dataframe thead th {\n",
       "        text-align: right;\n",
       "    }\n",
       "</style>\n",
       "<table border=\"1\" class=\"dataframe\">\n",
       "  <thead>\n",
       "    <tr style=\"text-align: right;\">\n",
       "      <th></th>\n",
       "      <th>type</th>\n",
       "      <th>paperless_billing</th>\n",
       "      <th>payment_method</th>\n",
       "      <th>monthly_charges</th>\n",
       "      <th>gender</th>\n",
       "      <th>senior_citizen</th>\n",
       "      <th>partner</th>\n",
       "      <th>dependents</th>\n",
       "      <th>internet_service</th>\n",
       "      <th>online_security</th>\n",
       "      <th>online_backup</th>\n",
       "      <th>device_protection</th>\n",
       "      <th>tech_support</th>\n",
       "      <th>streaming_TV</th>\n",
       "      <th>streaming_movies</th>\n",
       "      <th>multiple_lines</th>\n",
       "      <th>exited</th>\n",
       "      <th>lifecycle</th>\n",
       "    </tr>\n",
       "  </thead>\n",
       "  <tbody>\n",
       "    <tr>\n",
       "      <th>0</th>\n",
       "      <td>Month-to-month</td>\n",
       "      <td>Yes</td>\n",
       "      <td>Electronic check</td>\n",
       "      <td>29.85</td>\n",
       "      <td>Female</td>\n",
       "      <td>0</td>\n",
       "      <td>Yes</td>\n",
       "      <td>No</td>\n",
       "      <td>DSL</td>\n",
       "      <td>No</td>\n",
       "      <td>Yes</td>\n",
       "      <td>No</td>\n",
       "      <td>No</td>\n",
       "      <td>No</td>\n",
       "      <td>No</td>\n",
       "      <td>No</td>\n",
       "      <td>0</td>\n",
       "      <td>31</td>\n",
       "    </tr>\n",
       "    <tr>\n",
       "      <th>1</th>\n",
       "      <td>One year</td>\n",
       "      <td>No</td>\n",
       "      <td>Mailed check</td>\n",
       "      <td>56.95</td>\n",
       "      <td>Male</td>\n",
       "      <td>0</td>\n",
       "      <td>No</td>\n",
       "      <td>No</td>\n",
       "      <td>DSL</td>\n",
       "      <td>Yes</td>\n",
       "      <td>No</td>\n",
       "      <td>Yes</td>\n",
       "      <td>No</td>\n",
       "      <td>No</td>\n",
       "      <td>No</td>\n",
       "      <td>No</td>\n",
       "      <td>0</td>\n",
       "      <td>1036</td>\n",
       "    </tr>\n",
       "    <tr>\n",
       "      <th>2</th>\n",
       "      <td>Month-to-month</td>\n",
       "      <td>Yes</td>\n",
       "      <td>Mailed check</td>\n",
       "      <td>53.85</td>\n",
       "      <td>Male</td>\n",
       "      <td>0</td>\n",
       "      <td>No</td>\n",
       "      <td>No</td>\n",
       "      <td>DSL</td>\n",
       "      <td>Yes</td>\n",
       "      <td>Yes</td>\n",
       "      <td>No</td>\n",
       "      <td>No</td>\n",
       "      <td>No</td>\n",
       "      <td>No</td>\n",
       "      <td>No</td>\n",
       "      <td>1</td>\n",
       "      <td>61</td>\n",
       "    </tr>\n",
       "    <tr>\n",
       "      <th>3</th>\n",
       "      <td>One year</td>\n",
       "      <td>No</td>\n",
       "      <td>Bank transfer (automatic)</td>\n",
       "      <td>42.30</td>\n",
       "      <td>Male</td>\n",
       "      <td>0</td>\n",
       "      <td>No</td>\n",
       "      <td>No</td>\n",
       "      <td>DSL</td>\n",
       "      <td>Yes</td>\n",
       "      <td>No</td>\n",
       "      <td>Yes</td>\n",
       "      <td>Yes</td>\n",
       "      <td>No</td>\n",
       "      <td>No</td>\n",
       "      <td>No</td>\n",
       "      <td>0</td>\n",
       "      <td>1371</td>\n",
       "    </tr>\n",
       "    <tr>\n",
       "      <th>4</th>\n",
       "      <td>Month-to-month</td>\n",
       "      <td>Yes</td>\n",
       "      <td>Electronic check</td>\n",
       "      <td>70.70</td>\n",
       "      <td>Female</td>\n",
       "      <td>0</td>\n",
       "      <td>No</td>\n",
       "      <td>No</td>\n",
       "      <td>Fiber optic</td>\n",
       "      <td>No</td>\n",
       "      <td>No</td>\n",
       "      <td>No</td>\n",
       "      <td>No</td>\n",
       "      <td>No</td>\n",
       "      <td>No</td>\n",
       "      <td>No</td>\n",
       "      <td>1</td>\n",
       "      <td>61</td>\n",
       "    </tr>\n",
       "  </tbody>\n",
       "</table>\n",
       "</div>"
      ],
      "text/plain": [
       "             type paperless_billing             payment_method  \\\n",
       "0  Month-to-month               Yes           Electronic check   \n",
       "1        One year                No               Mailed check   \n",
       "2  Month-to-month               Yes               Mailed check   \n",
       "3        One year                No  Bank transfer (automatic)   \n",
       "4  Month-to-month               Yes           Electronic check   \n",
       "\n",
       "   monthly_charges  gender  senior_citizen partner dependents  \\\n",
       "0            29.85  Female               0     Yes         No   \n",
       "1            56.95    Male               0      No         No   \n",
       "2            53.85    Male               0      No         No   \n",
       "3            42.30    Male               0      No         No   \n",
       "4            70.70  Female               0      No         No   \n",
       "\n",
       "  internet_service online_security online_backup device_protection  \\\n",
       "0              DSL              No           Yes                No   \n",
       "1              DSL             Yes            No               Yes   \n",
       "2              DSL             Yes           Yes                No   \n",
       "3              DSL             Yes            No               Yes   \n",
       "4      Fiber optic              No            No                No   \n",
       "\n",
       "  tech_support streaming_TV streaming_movies multiple_lines  exited  lifecycle  \n",
       "0           No           No               No             No       0         31  \n",
       "1           No           No               No             No       0       1036  \n",
       "2           No           No               No             No       1         61  \n",
       "3          Yes           No               No             No       0       1371  \n",
       "4           No           No               No             No       1         61  "
      ]
     },
     "execution_count": 52,
     "metadata": {},
     "output_type": "execute_result"
    }
   ],
   "source": [
    "df_cbc.head()"
   ]
  },
  {
   "cell_type": "code",
   "execution_count": 53,
   "metadata": {
    "colab": {
     "base_uri": "https://localhost:8080/"
    },
    "id": "PJCDV7aqZyXV",
    "outputId": "a5918564-8feb-4466-a40e-fc4acf92fef1"
   },
   "outputs": [
    {
     "name": "stdout",
     "output_type": "stream",
     "text": [
      "проверим размеры выборок:\n",
      "features_test (704, 17)\n",
      "target_test (704,)\n",
      "target_valid (705,)\n",
      "features_train (5634, 17)\n",
      "target_train (5634,)\n",
      "features_valid (705, 17)\n",
      "target_valid (705,)\n"
     ]
    }
   ],
   "source": [
    "target = df_cbc['exited']\n",
    "features = df_cbc.drop('exited', axis=1)\n",
    "features_train, features_valid, target_train, target_valid = train_test_split(\n",
    "                                            features, target, test_size=0.2, random_state=12345)\n",
    "\n",
    "features_test_cb, features_valid, target_test_cb, target_valid = train_test_split(\n",
    "                                            features_valid, target_valid, test_size=0.5, random_state=12345)\n",
    "features_train = features_train.copy()\n",
    "features_valid = features_valid.copy()\n",
    "\n",
    "print('проверим размеры выборок:')\n",
    "print('features_test', features_test_cb.shape)\n",
    "print('target_test', target_test_cb.shape)\n",
    "print('target_valid', target_valid.shape)\n",
    "print('features_train', features_train.shape)\n",
    "print('target_train', target_train.shape)\n",
    "print('features_valid', features_valid.shape)\n",
    "print('target_valid', target_valid.shape)"
   ]
  },
  {
   "cell_type": "code",
   "execution_count": 54,
   "metadata": {
    "colab": {
     "base_uri": "https://localhost:8080/"
    },
    "id": "MED1jhpdXRlN",
    "outputId": "277b65af-0f1b-4334-c033-045e8a158297"
   },
   "outputs": [
    {
     "name": "stdout",
     "output_type": "stream",
     "text": [
      "features_zeros (4144, 17)\n",
      "features_ones (1490, 17)\n",
      "target_zeros (4144,)\n",
      "target_ones (1490,)\n",
      "upsampling...\n",
      "features_zeros (4144, 17)\n",
      "features_ones (4470, 17)\n",
      "target_zeros (4144,)\n",
      "target_ones (4470,)\n"
     ]
    }
   ],
   "source": [
    "#дисбаланс классов\n",
    "features_upsampled, target_upsampled = upsample(features_train, target_train, 3)"
   ]
  },
  {
   "cell_type": "markdown",
   "metadata": {
    "id": "hWzEOwXqlqgz"
   },
   "source": [
    "#### Подбор параметров"
   ]
  },
  {
   "cell_type": "code",
   "execution_count": 55,
   "metadata": {
    "id": "FofbiGDgaYqH"
   },
   "outputs": [],
   "source": [
    "cat_features=['type',\t'paperless_billing', 'payment_method', \\\n",
    "              'gender',\t\\\n",
    "              'partner',\t'dependents',\t'internet_service', \\\n",
    "              'online_security',\t'online_backup',\t'device_protection', \\\n",
    "              'tech_support',\t'streaming_TV',\t'streaming_movies',\t'multiple_lines']"
   ]
  },
  {
   "cell_type": "code",
   "execution_count": 56,
   "metadata": {
    "colab": {
     "base_uri": "https://localhost:8080/"
    },
    "id": "xAMLYuCeltcm",
    "outputId": "1cbf19d5-55db-487f-c327-9e071f535018"
   },
   "outputs": [
    {
     "data": {
      "text/plain": [
       "GridSearchCV(cv=5,\n",
       "             estimator=<catboost.core.CatBoostClassifier object at 0x7ffa6c698310>,\n",
       "             param_grid={'max_depth': [3, 4, 5],\n",
       "                         'n_estimators': [100, 200, 300]},\n",
       "             scoring=make_scorer(roc_auc_score, needs_threshold=True))"
      ]
     },
     "execution_count": 56,
     "metadata": {},
     "output_type": "execute_result"
    }
   ],
   "source": [
    "#Instantiate CatBoostClassifier\n",
    "cbc = CatBoostClassifier(cat_features=cat_features, verbose = 0)\n",
    "#create the grid\n",
    "grid = {'max_depth': [3,4,5],\n",
    "        'n_estimators':[100, 200, 300]\n",
    "        }\n",
    "#Instantiate GridSearchCV\n",
    "gscv = GridSearchCV (estimator = cbc, param_grid = grid, scoring = roc_auc_scorer, cv = 5, verbose = 0)\n",
    "#fit the model\n",
    "gscv.fit(features_upsampled, target_upsampled)"
   ]
  },
  {
   "cell_type": "code",
   "execution_count": 57,
   "metadata": {
    "colab": {
     "base_uri": "https://localhost:8080/"
    },
    "id": "peiKtrmomxjE",
    "outputId": "4fc8b5ca-2c59-4b72-dd08-407289a678a4"
   },
   "outputs": [
    {
     "name": "stdout",
     "output_type": "stream",
     "text": [
      "{'max_depth': 5, 'n_estimators': 300}\n"
     ]
    }
   ],
   "source": [
    "print(gscv.best_params_)"
   ]
  },
  {
   "cell_type": "code",
   "execution_count": 58,
   "metadata": {
    "id": "ACK7fHY6ZqeK"
   },
   "outputs": [],
   "source": [
    "model = gscv.best_estimator_ "
   ]
  },
  {
   "cell_type": "code",
   "execution_count": 59,
   "metadata": {
    "colab": {
     "base_uri": "https://localhost:8080/",
     "height": 1000
    },
    "id": "Ds_uIPjLuTMp",
    "outputId": "f941285c-ea41-4b30-edb3-97f711528988"
   },
   "outputs": [
    {
     "name": "stdout",
     "output_type": "stream",
     "text": [
      "матрица ошибок:\n",
      "[[409 103]\n",
      " [ 34 159]]\n",
      "auc_roc на валидационной выборке: 0.8921176732512953\n"
     ]
    },
    {
     "data": {
      "image/png": "[encoded data removed]",
      "text/plain": [
       "<Figure size 432x432 with 1 Axes>"
      ]
     },
     "metadata": {
      "needs_background": "light"
     },
     "output_type": "display_data"
    },
    {
     "data": {
      "image/png": "[encoded data removed]",
      "text/plain": [
       "<Figure size 432x288 with 1 Axes>"
      ]
     },
     "metadata": {
      "needs_background": "light"
     },
     "output_type": "display_data"
    }
   ],
   "source": [
    "best_cb = model_fit_scoring(features_valid, features_upsampled, target_valid, target_upsampled, True)"
   ]
  },
  {
   "cell_type": "markdown",
   "metadata": {
    "id": "Bk4lhzP_wrjW"
   },
   "source": [
    "## Тестирование"
   ]
  },
  {
   "cell_type": "code",
   "execution_count": 60,
   "metadata": {
    "id": "VtRzYV2vvMKw"
   },
   "outputs": [
    {
     "data": {
      "text/html": [
       "<div>\n",
       "<style scoped>\n",
       "    .dataframe tbody tr th:only-of-type {\n",
       "        vertical-align: middle;\n",
       "    }\n",
       "\n",
       "    .dataframe tbody tr th {\n",
       "        vertical-align: top;\n",
       "    }\n",
       "\n",
       "    .dataframe thead th {\n",
       "        text-align: right;\n",
       "    }\n",
       "</style>\n",
       "<table border=\"1\" class=\"dataframe\">\n",
       "  <thead>\n",
       "    <tr style=\"text-align: right;\">\n",
       "      <th></th>\n",
       "      <th>model</th>\n",
       "      <th>mean_roc_auc</th>\n",
       "      <th>accuracy</th>\n",
       "    </tr>\n",
       "  </thead>\n",
       "  <tbody>\n",
       "    <tr>\n",
       "      <th>0</th>\n",
       "      <td>logistic-regression</td>\n",
       "      <td>0.842677</td>\n",
       "      <td>0.735795</td>\n",
       "    </tr>\n",
       "    <tr>\n",
       "      <th>1</th>\n",
       "      <td>random_forest</td>\n",
       "      <td>0.858195</td>\n",
       "      <td>0.650568</td>\n",
       "    </tr>\n",
       "    <tr>\n",
       "      <th>2</th>\n",
       "      <td>cat boost</td>\n",
       "      <td>0.870620</td>\n",
       "      <td>0.830966</td>\n",
       "    </tr>\n",
       "  </tbody>\n",
       "</table>\n",
       "</div>"
      ],
      "text/plain": [
       "                 model  mean_roc_auc  accuracy\n",
       "0  logistic-regression      0.842677  0.735795\n",
       "1        random_forest      0.858195  0.650568\n",
       "2            cat boost      0.870620  0.830966"
      ]
     },
     "execution_count": 60,
     "metadata": {},
     "output_type": "execute_result"
    }
   ],
   "source": [
    "# Рассчитаем для всех моделей среднее AUC-ROC\n",
    "auc_roc_lr_test = cross_val_score(best_lr, features_test, target_test, scoring = 'roc_auc', cv = 20, n_jobs = -1)\n",
    "mean_auc_roc_lr_test = sum(auc_roc_lr_test)/len(auc_roc_lr_test)\n",
    "auc_roc_rf_test = cross_val_score(best_rf, features_test, target_test, scoring = 'roc_auc', cv = 10, n_jobs = -1)\n",
    "mean_auc_roc_rf_test = sum(auc_roc_rf_test)/len(auc_roc_rf_test)\n",
    "auc_roc_cb_test = cross_val_score(best_cb, features_test_cb, target_test_cb, scoring = 'roc_auc', cv = 10, n_jobs = -1)\n",
    "mean_auc_roc_cb_test = sum(auc_roc_cb_test)/len(auc_roc_cb_test)\n",
    "\n",
    "data_for_score = [['logistic-regression', mean_auc_roc_lr_test, accuracy_score(target_test, best_lr.predict(features_test))], \n",
    "                  ['random_forest', mean_auc_roc_rf_test, accuracy_score(target_test, best_rf.predict(features_test))], \n",
    "                  ['cat boost', mean_auc_roc_cb_test, accuracy_score(target_test_cb, best_cb.predict(features_test_cb))]]\n",
    "columns_for_score = ['model', 'mean_roc_auc', 'accuracy']\n",
    "table_for_score = pd.DataFrame(data = data_for_score, columns = columns_for_score)\n",
    "table_for_score"
   ]
  },
  {
   "cell_type": "markdown",
   "metadata": {},
   "source": [
    "## Отчет"
   ]
  },
  {
   "cell_type": "markdown",
   "metadata": {},
   "source": [
    "1. Основные пункты плана были выполнены. В результате тестирования различных методов борьбы с дисбалансом классов от некоторых пришлось отказаться в виду незначительного улучшения результата, в работу включены не были. Модель логистической регрессии рассчитана без учета дисбаланса. \n",
    "\n",
    "2. Без добавления нового признака метрика AUC-ROC не преодолевала отметку 0.84. Были добавлены новые признаки, такие как год и месяц начала пользования услугами, было принято решения отказаться от признака в связи с некорректностью его использования. Признак преобразован в длительность пользования услугами, благодаря которому удалось достичь лучших результатов.\n",
    "\n",
    "3. Ключевые шаги в решении задачи это предобработка данных, подготовка признаков и непосредственно моделирование.\n",
    "\n",
    "4. Итоговая модель с cat boost, качество итоговой модели составляет 0.876828. "
   ]
  }
 ],
 "metadata": {
  "ExecuteTimeLog": [
   {
    "duration": 78,
    "start_time": "2022-02-07T16:16:18.970Z"
   },
   {
    "duration": 3,
    "start_time": "2022-08-20T21:46:14.030Z"
   },
   {
    "duration": 9730,
    "start_time": "2022-08-20T21:46:14.041Z"
   },
   {
    "duration": 1344,
    "start_time": "2022-08-20T21:46:23.773Z"
   },
   {
    "duration": 5,
    "start_time": "2022-08-20T21:46:25.119Z"
   },
   {
    "duration": 206,
    "start_time": "2022-08-20T21:46:25.125Z"
   },
   {
    "duration": 4,
    "start_time": "2022-08-20T21:46:25.332Z"
   },
   {
    "duration": 21,
    "start_time": "2022-08-20T21:46:25.338Z"
   },
   {
    "duration": 19,
    "start_time": "2022-08-20T21:46:25.361Z"
   },
   {
    "duration": 5,
    "start_time": "2022-08-20T21:46:25.382Z"
   },
   {
    "duration": 138,
    "start_time": "2022-08-20T21:46:25.388Z"
   },
   {
    "duration": 3,
    "start_time": "2022-08-20T21:46:25.528Z"
   },
   {
    "duration": 95,
    "start_time": "2022-08-20T21:46:25.532Z"
   },
   {
    "duration": 2,
    "start_time": "2022-08-20T21:46:25.629Z"
   },
   {
    "duration": 80,
    "start_time": "2022-08-20T21:46:25.633Z"
   },
   {
    "duration": 3,
    "start_time": "2022-08-20T21:46:25.715Z"
   },
   {
    "duration": 10,
    "start_time": "2022-08-20T21:46:25.720Z"
   },
   {
    "duration": 8,
    "start_time": "2022-08-20T21:46:25.732Z"
   },
   {
    "duration": 13,
    "start_time": "2022-08-20T21:46:25.742Z"
   },
   {
    "duration": 8,
    "start_time": "2022-08-20T21:46:25.757Z"
   },
   {
    "duration": 13,
    "start_time": "2022-08-20T21:46:25.767Z"
   },
   {
    "duration": 19,
    "start_time": "2022-08-20T21:46:25.781Z"
   },
   {
    "duration": 34,
    "start_time": "2022-08-20T21:46:25.801Z"
   },
   {
    "duration": 10,
    "start_time": "2022-08-20T21:46:25.857Z"
   },
   {
    "duration": 29,
    "start_time": "2022-08-20T21:46:25.868Z"
   },
   {
    "duration": 13,
    "start_time": "2022-08-20T21:46:25.899Z"
   },
   {
    "duration": 4,
    "start_time": "2022-08-20T21:46:25.914Z"
   },
   {
    "duration": 8,
    "start_time": "2022-08-20T21:46:25.919Z"
   },
   {
    "duration": 8,
    "start_time": "2022-08-20T21:46:25.957Z"
   },
   {
    "duration": 23,
    "start_time": "2022-08-20T21:46:25.968Z"
   },
   {
    "duration": 9,
    "start_time": "2022-08-20T21:46:25.993Z"
   },
   {
    "duration": 9,
    "start_time": "2022-08-20T21:46:26.004Z"
   },
   {
    "duration": 8,
    "start_time": "2022-08-20T21:46:26.015Z"
   },
   {
    "duration": 44,
    "start_time": "2022-08-20T21:46:26.024Z"
   },
   {
    "duration": 30,
    "start_time": "2022-08-20T21:46:26.069Z"
   },
   {
    "duration": 10,
    "start_time": "2022-08-20T21:46:26.100Z"
   },
   {
    "duration": 14,
    "start_time": "2022-08-20T21:46:26.112Z"
   },
   {
    "duration": 39,
    "start_time": "2022-08-20T21:46:26.128Z"
   },
   {
    "duration": 5,
    "start_time": "2022-08-20T21:46:26.169Z"
   },
   {
    "duration": 17,
    "start_time": "2022-08-20T21:46:26.176Z"
   },
   {
    "duration": 24,
    "start_time": "2022-08-20T21:46:26.194Z"
   },
   {
    "duration": 3,
    "start_time": "2022-08-20T21:46:26.219Z"
   },
   {
    "duration": 9,
    "start_time": "2022-08-20T21:46:26.223Z"
   },
   {
    "duration": 43619,
    "start_time": "2022-08-20T21:46:26.233Z"
   },
   {
    "duration": 421028,
    "start_time": "2022-08-20T21:47:09.854Z"
   },
   {
    "duration": 3,
    "start_time": "2022-08-20T21:54:10.884Z"
   },
   {
    "duration": 4,
    "start_time": "2022-08-20T21:54:10.888Z"
   },
   {
    "duration": 4900,
    "start_time": "2022-08-20T21:54:10.894Z"
   },
   {
    "duration": 385,
    "start_time": "2022-08-20T21:54:15.796Z"
   },
   {
    "duration": 135776,
    "start_time": "2022-08-20T21:54:16.182Z"
   },
   {
    "duration": 810,
    "start_time": "2022-08-20T21:56:31.963Z"
   },
   {
    "duration": 6,
    "start_time": "2022-08-20T21:56:32.775Z"
   },
   {
    "duration": 24,
    "start_time": "2022-08-20T21:56:32.782Z"
   },
   {
    "duration": 15,
    "start_time": "2022-08-20T21:56:32.807Z"
   },
   {
    "duration": 40,
    "start_time": "2022-08-20T21:56:32.823Z"
   },
   {
    "duration": 3,
    "start_time": "2022-08-20T21:56:32.865Z"
   },
   {
    "duration": 69555,
    "start_time": "2022-08-20T21:56:32.869Z"
   },
   {
    "duration": 3,
    "start_time": "2022-08-20T21:57:42.425Z"
   },
   {
    "duration": 17,
    "start_time": "2022-08-20T21:57:42.429Z"
   },
   {
    "duration": 2921,
    "start_time": "2022-08-20T21:57:42.447Z"
   },
   {
    "duration": 24226,
    "start_time": "2022-08-20T21:57:45.369Z"
   }
  ],
  "kernelspec": {
   "display_name": "Python 3 (ipykernel)",
   "language": "python",
   "name": "python3"
  },
  "language_info": {
   "codemirror_mode": {
    "name": "ipython",
    "version": 3
   },
   "file_extension": ".py",
   "mimetype": "text/x-python",
   "name": "python",
   "nbconvert_exporter": "python",
   "pygments_lexer": "ipython3",
   "version": "3.8.13"
  },
  "toc": {
   "base_numbering": 1,
   "nav_menu": {},
   "number_sections": true,
   "sideBar": true,
   "skip_h1_title": true,
   "title_cell": "Table of Contents",
   "title_sidebar": "Contents",
   "toc_cell": true,
   "toc_position": {
    "height": "calc(100% - 180px)",
    "left": "10px",
    "top": "150px",
    "width": "313.234375px"
   },
   "toc_section_display": true,
   "toc_window_display": true
  }
 },
 "nbformat": 4,
 "nbformat_minor": 2
}
