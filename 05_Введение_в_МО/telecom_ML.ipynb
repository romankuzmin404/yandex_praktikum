{
 "cells": [
  {
   "cell_type": "markdown",
   "metadata": {},
   "source": [
    "# Рекомендация тарифов"
   ]
  },
  {
   "cell_type": "markdown",
   "metadata": {},
   "source": [
    "Оператор мобильной связи «Мегалайн» выяснил: многие клиенты пользуются архивными тарифами. Они хотят построить систему, способную проанализировать поведение клиентов и предложить пользователям новый тариф: «Смарт» или «Ультра».\n",
    "\n",
    "\n",
    "В нашем распоряжении данные о поведении клиентов, которые уже перешли на тарифы. Нужно построить модель для задачи классификации, которая выберет подходящий тариф.\n",
    "\n",
    "Построим модель с максимально большим значением *accuracy*. Цель - 0.75. Проверим *accuracy* на тестовой выборке."
   ]
  },
  {
   "cell_type": "markdown",
   "metadata": {},
   "source": [
    "## Откроем и изучим файл"
   ]
  },
  {
   "cell_type": "markdown",
   "metadata": {},
   "source": [
    "Импортируем необходимые библиотеки"
   ]
  },
  {
   "cell_type": "code",
   "execution_count": 1,
   "metadata": {},
   "outputs": [],
   "source": [
    "import pandas as pd\n",
    "import numpy as np\n",
    "from sklearn.tree import DecisionTreeClassifier\n",
    "from sklearn.ensemble import RandomForestClassifier\n",
    "from sklearn.linear_model import LogisticRegression\n",
    "from sklearn.model_selection import train_test_split\n",
    "from sklearn.metrics import accuracy_score\n",
    "import random"
   ]
  },
  {
   "cell_type": "markdown",
   "metadata": {},
   "source": [
    "Откроем файл с данными"
   ]
  },
  {
   "cell_type": "code",
   "execution_count": 2,
   "metadata": {},
   "outputs": [],
   "source": [
    "df = pd.read_csv('/datasets/users_behavior.csv')"
   ]
  },
  {
   "cell_type": "markdown",
   "metadata": {},
   "source": [
    "Описание данных\n",
    "\n",
    "Каждый объект в наборе данных — это информация о поведении одного пользователя за месяц. Известно:\n",
    "- сalls — количество звонков,\n",
    "- minutes — суммарная длительность звонков в минутах,\n",
    "- messages — количество sms-сообщений,\n",
    "- mb_used — израсходованный интернет-трафик в Мб,\n",
    "- is_ultra — каким тарифом пользовался в течение месяца («Ультра» — 1, «Смарт» — 0)."
   ]
  },
  {
   "cell_type": "code",
   "execution_count": 3,
   "metadata": {},
   "outputs": [
    {
     "data": {
      "text/html": [
       "<div>\n",
       "<style scoped>\n",
       "    .dataframe tbody tr th:only-of-type {\n",
       "        vertical-align: middle;\n",
       "    }\n",
       "\n",
       "    .dataframe tbody tr th {\n",
       "        vertical-align: top;\n",
       "    }\n",
       "\n",
       "    .dataframe thead th {\n",
       "        text-align: right;\n",
       "    }\n",
       "</style>\n",
       "<table border=\"1\" class=\"dataframe\">\n",
       "  <thead>\n",
       "    <tr style=\"text-align: right;\">\n",
       "      <th></th>\n",
       "      <th>calls</th>\n",
       "      <th>minutes</th>\n",
       "      <th>messages</th>\n",
       "      <th>mb_used</th>\n",
       "      <th>is_ultra</th>\n",
       "    </tr>\n",
       "  </thead>\n",
       "  <tbody>\n",
       "    <tr>\n",
       "      <th>0</th>\n",
       "      <td>40.0</td>\n",
       "      <td>311.90</td>\n",
       "      <td>83.0</td>\n",
       "      <td>19915.42</td>\n",
       "      <td>0</td>\n",
       "    </tr>\n",
       "    <tr>\n",
       "      <th>1</th>\n",
       "      <td>85.0</td>\n",
       "      <td>516.75</td>\n",
       "      <td>56.0</td>\n",
       "      <td>22696.96</td>\n",
       "      <td>0</td>\n",
       "    </tr>\n",
       "    <tr>\n",
       "      <th>2</th>\n",
       "      <td>77.0</td>\n",
       "      <td>467.66</td>\n",
       "      <td>86.0</td>\n",
       "      <td>21060.45</td>\n",
       "      <td>0</td>\n",
       "    </tr>\n",
       "    <tr>\n",
       "      <th>3</th>\n",
       "      <td>106.0</td>\n",
       "      <td>745.53</td>\n",
       "      <td>81.0</td>\n",
       "      <td>8437.39</td>\n",
       "      <td>1</td>\n",
       "    </tr>\n",
       "    <tr>\n",
       "      <th>4</th>\n",
       "      <td>66.0</td>\n",
       "      <td>418.74</td>\n",
       "      <td>1.0</td>\n",
       "      <td>14502.75</td>\n",
       "      <td>0</td>\n",
       "    </tr>\n",
       "  </tbody>\n",
       "</table>\n",
       "</div>"
      ],
      "text/plain": [
       "   calls  minutes  messages   mb_used  is_ultra\n",
       "0   40.0   311.90      83.0  19915.42         0\n",
       "1   85.0   516.75      56.0  22696.96         0\n",
       "2   77.0   467.66      86.0  21060.45         0\n",
       "3  106.0   745.53      81.0   8437.39         1\n",
       "4   66.0   418.74       1.0  14502.75         0"
      ]
     },
     "execution_count": 3,
     "metadata": {},
     "output_type": "execute_result"
    }
   ],
   "source": [
    "df.head()"
   ]
  },
  {
   "cell_type": "code",
   "execution_count": 4,
   "metadata": {},
   "outputs": [
    {
     "name": "stdout",
     "output_type": "stream",
     "text": [
      "<class 'pandas.core.frame.DataFrame'>\n",
      "RangeIndex: 3214 entries, 0 to 3213\n",
      "Data columns (total 5 columns):\n",
      " #   Column    Non-Null Count  Dtype  \n",
      "---  ------    --------------  -----  \n",
      " 0   calls     3214 non-null   float64\n",
      " 1   minutes   3214 non-null   float64\n",
      " 2   messages  3214 non-null   float64\n",
      " 3   mb_used   3214 non-null   float64\n",
      " 4   is_ultra  3214 non-null   int64  \n",
      "dtypes: float64(4), int64(1)\n",
      "memory usage: 125.7 KB\n"
     ]
    }
   ],
   "source": [
    "df.info()"
   ]
  },
  {
   "cell_type": "markdown",
   "metadata": {},
   "source": [
    "Предобработка данных не требуется, пропущенных значений нет."
   ]
  },
  {
   "cell_type": "markdown",
   "metadata": {},
   "source": [
    "Посмотрим на соотношение между классами"
   ]
  },
  {
   "cell_type": "code",
   "execution_count": 5,
   "metadata": {},
   "outputs": [
    {
     "data": {
      "text/plain": [
       "0    0.693528\n",
       "1    0.306472\n",
       "Name: is_ultra, dtype: float64"
      ]
     },
     "execution_count": 5,
     "metadata": {},
     "output_type": "execute_result"
    }
   ],
   "source": [
    "df.is_ultra.value_counts()/df.shape[0]"
   ]
  },
  {
   "cell_type": "markdown",
   "metadata": {},
   "source": [
    "## Разобьем данные на выборки"
   ]
  },
  {
   "cell_type": "markdown",
   "metadata": {},
   "source": [
    "Извлекем признаки для обучения:"
   ]
  },
  {
   "cell_type": "code",
   "execution_count": 6,
   "metadata": {},
   "outputs": [],
   "source": [
    "features = df.drop(['is_ultra'], axis=1)\n",
    "target = df['is_ultra']"
   ]
  },
  {
   "cell_type": "markdown",
   "metadata": {},
   "source": [
    "Выделим 25% данных для тестовой выборки, остальные — для валидационной."
   ]
  },
  {
   "cell_type": "code",
   "execution_count": 7,
   "metadata": {},
   "outputs": [],
   "source": [
    "features_train, features_test_valid, target_train, target_test_valid = (train_test_split(features,\n",
    "                                                                               target, \n",
    "                                                                               test_size=0.40, \n",
    "                                                                               random_state=12345) \n",
    "                                                             )"
   ]
  },
  {
   "cell_type": "code",
   "execution_count": 8,
   "metadata": {},
   "outputs": [],
   "source": [
    "features_test, features_valid, target_test, target_valid = (train_test_split(features_test_valid,\n",
    "                                                                               target_test_valid, \n",
    "                                                                               test_size=0.50, \n",
    "                                                                               random_state=12345) \n",
    "                                                             )"
   ]
  },
  {
   "cell_type": "markdown",
   "metadata": {},
   "source": [
    "## Исследуем модели"
   ]
  },
  {
   "cell_type": "markdown",
   "metadata": {},
   "source": [
    "### Модель дерево решений\n",
    "\n",
    "Проверим точность модели на валидационной выборке и найдем оптимальные гиперпараметры"
   ]
  },
  {
   "cell_type": "code",
   "execution_count": 9,
   "metadata": {},
   "outputs": [
    {
     "name": "stdout",
     "output_type": "stream",
     "text": [
      "accuracy наилучшей модели на валидационной выборке: 0.7993779160186625 Глубина дерева: 7\n",
      "CPU times: user 83.6 ms, sys: 5.33 ms, total: 88.9 ms\n",
      "Wall time: 106 ms\n"
     ]
    }
   ],
   "source": [
    "%%time\n",
    "1 + 1\n",
    "best_model = None\n",
    "best_result = 0\n",
    "best_depth = 0\n",
    "for depth in range(1, 11):\n",
    "    model = DecisionTreeClassifier(random_state=12345, max_depth=depth)# инициализируем модель DecisionTreeRegressor\n",
    "    model.fit(features_train, target_train) # обучим модель на тренировочной выборке\n",
    "    predictions_valid = model.predict(features_valid) # получим предсказания модели на валидационной выборке\n",
    "\n",
    "    result = accuracy_score(target_valid, predictions_valid)\n",
    "    if result > best_result:\n",
    "        best_model = model\n",
    "        best_result = result\n",
    "        best_depth = depth\n",
    "print(\"accuracy наилучшей модели на валидационной выборке:\", best_result, \"Глубина дерева:\", best_depth)"
   ]
  },
  {
   "cell_type": "markdown",
   "metadata": {},
   "source": [
    "### Модель случайный лес"
   ]
  },
  {
   "cell_type": "code",
   "execution_count": 10,
   "metadata": {},
   "outputs": [
    {
     "name": "stdout",
     "output_type": "stream",
     "text": [
      "accuracy наилучшей модели на валидационной выборке: 0.8133748055987559 Количество деревьев: 8 Глубина дерева: 9\n",
      "CPU times: user 2.3 s, sys: 33.1 ms, total: 2.33 s\n",
      "Wall time: 2.4 s\n"
     ]
    }
   ],
   "source": [
    "%%time\n",
    "1 + 1\n",
    "best_model = None\n",
    "best_result = 0\n",
    "best_depth = 0\n",
    "for est in range(1, 11):\n",
    "    for depth in range(1,11):\n",
    "        model = RandomForestClassifier(random_state=12345, n_estimators=est, max_depth = depth)\n",
    "        model.fit(features_train, target_train) \n",
    "        result = model.score(features_valid, target_valid)\n",
    "        if result > best_result:\n",
    "            best_model = model\n",
    "            best_result = result\n",
    "            best_est = est\n",
    "            best_depth = depth\n",
    "print(\"accuracy наилучшей модели на валидационной выборке:\", best_result, \"Количество деревьев:\", best_est,  \"Глубина дерева:\", best_depth)"
   ]
  },
  {
   "cell_type": "markdown",
   "metadata": {},
   "source": [
    "### Модель логистическая регрессия"
   ]
  },
  {
   "cell_type": "code",
   "execution_count": 11,
   "metadata": {},
   "outputs": [
    {
     "name": "stdout",
     "output_type": "stream",
     "text": [
      "accuracy наилучшей модели на валидационной выборке: 0.6842923794712286\n",
      "CPU times: user 25.9 ms, sys: 12.6 ms, total: 38.4 ms\n",
      "Wall time: 115 ms\n"
     ]
    }
   ],
   "source": [
    "%%time\n",
    "1 + 1\n",
    "best_model = None\n",
    "best_result = 0\n",
    "best_depth = 0\n",
    "model = LogisticRegression(random_state=12345) \n",
    "model.fit(features_train, target_train)\n",
    "result = model.score(features_valid, target_valid)\n",
    "print(\"accuracy наилучшей модели на валидационной выборке:\", result)"
   ]
  },
  {
   "cell_type": "markdown",
   "metadata": {},
   "source": [
    "**Вывод:** Видим что у случайного леса и решающего дерева одинаково высокое качество, у дерева решений быстродействие выше. Логистическая регрессия имеет наиболее высокое быстродействие и низкую точность."
   ]
  },
  {
   "cell_type": "markdown",
   "metadata": {},
   "source": [
    "## Проверим модель на тестовой выборке"
   ]
  },
  {
   "cell_type": "markdown",
   "metadata": {},
   "source": [
    "Проверим модель показавшую лучший результат на валидационной выборке - дерево решений на тестовой выборке"
   ]
  },
  {
   "cell_type": "code",
   "execution_count": 12,
   "metadata": {
    "scrolled": true
   },
   "outputs": [
    {
     "name": "stdout",
     "output_type": "stream",
     "text": [
      "accuracy модели на тестовой выборке: 0.7822706065318819\n",
      "CPU times: user 16.1 ms, sys: 3.92 ms, total: 20 ms\n",
      "Wall time: 20.7 ms\n"
     ]
    }
   ],
   "source": [
    "%%time\n",
    "1 + 1\n",
    "model = DecisionTreeClassifier(random_state=12345, max_depth=7)\n",
    "model.fit(features_train, target_train) \n",
    "predictions_test = model.predict(features_test) \n",
    "result = accuracy_score(target_test, predictions_test)\n",
    "print(\"accuracy модели на тестовой выборке:\", result)"
   ]
  },
  {
   "cell_type": "markdown",
   "metadata": {},
   "source": [
    "Результат качества выше целевого 0,75."
   ]
  },
  {
   "cell_type": "markdown",
   "metadata": {},
   "source": [
    "## Проверим модели на адекватность"
   ]
  },
  {
   "cell_type": "markdown",
   "metadata": {},
   "source": [
    "Чтобы оценить адекватность модели в задачах классификации, нужно сравнить её со случайной. Ответим на все объекты одним и тем же классом. Чтобы оно не сильно расходилось с правдой, примем за этот класс наиболее популярный тариф."
   ]
  },
  {
   "cell_type": "markdown",
   "metadata": {},
   "source": [
    "Проверим соотношение количества клиентов с тарифом Ультра и Смарт"
   ]
  },
  {
   "cell_type": "code",
   "execution_count": 13,
   "metadata": {},
   "outputs": [
    {
     "data": {
      "text/plain": [
       "0.30647168637212197"
      ]
     },
     "execution_count": 13,
     "metadata": {},
     "output_type": "execute_result"
    }
   ],
   "source": [
    "df.is_ultra.mean()"
   ]
  },
  {
   "cell_type": "markdown",
   "metadata": {},
   "source": [
    "30% клиентов пользуются тарифом ультра. Остальные тарифом смарт."
   ]
  },
  {
   "cell_type": "code",
   "execution_count": 14,
   "metadata": {},
   "outputs": [],
   "source": [
    "predictions_mean = pd.Series(0, index=target.index)"
   ]
  },
  {
   "cell_type": "code",
   "execution_count": 15,
   "metadata": {},
   "outputs": [
    {
     "name": "stdout",
     "output_type": "stream",
     "text": [
      "accuracy модели при предсказании одного и того же тарифа: 0.693528313627878\n"
     ]
    }
   ],
   "source": [
    "result = accuracy_score(target, predictions_mean)\n",
    "print(\"accuracy модели при предсказании одного и того же тарифа:\", result)"
   ]
  },
  {
   "cell_type": "markdown",
   "metadata": {},
   "source": [
    "**Вывод:** точность полученная с использованием модели выше, чем при случайных предсказанных значениях. Целесообранее использовать модель для предложения пользователям нового тарифа."
   ]
  }
 ],
 "metadata": {
  "ExecuteTimeLog": [
   {
    "duration": 1053,
    "start_time": "2021-07-16T18:58:00.422Z"
   },
   {
    "duration": 126,
    "start_time": "2021-07-16T18:58:34.578Z"
   },
   {
    "duration": 22,
    "start_time": "2021-07-16T18:58:46.257Z"
   },
   {
    "duration": 10,
    "start_time": "2021-07-16T19:01:12.788Z"
   },
   {
    "duration": 594,
    "start_time": "2021-07-16T19:06:49.408Z"
   },
   {
    "duration": 5,
    "start_time": "2021-07-16T19:10:13.106Z"
   },
   {
    "duration": 7,
    "start_time": "2021-07-16T19:11:02.915Z"
   },
   {
    "duration": 9,
    "start_time": "2021-07-16T19:17:05.638Z"
   },
   {
    "duration": 16,
    "start_time": "2021-07-16T19:17:15.254Z"
   },
   {
    "duration": 16,
    "start_time": "2021-07-16T19:17:28.455Z"
   },
   {
    "duration": 6,
    "start_time": "2021-07-16T19:17:33.482Z"
   },
   {
    "duration": 7,
    "start_time": "2021-07-16T19:17:38.969Z"
   },
   {
    "duration": 15,
    "start_time": "2021-07-16T19:17:42.868Z"
   },
   {
    "duration": 6,
    "start_time": "2021-07-16T19:17:48.431Z"
   },
   {
    "duration": 1582,
    "start_time": "2021-07-17T07:39:57.589Z"
   },
   {
    "duration": 143,
    "start_time": "2021-07-17T07:39:59.174Z"
   },
   {
    "duration": 24,
    "start_time": "2021-07-17T07:39:59.321Z"
   },
   {
    "duration": 11,
    "start_time": "2021-07-17T07:39:59.349Z"
   },
   {
    "duration": 10,
    "start_time": "2021-07-17T07:39:59.364Z"
   },
   {
    "duration": 21,
    "start_time": "2021-07-17T07:39:59.376Z"
   },
   {
    "duration": 582,
    "start_time": "2021-07-17T07:39:59.400Z"
   },
   {
    "duration": 384,
    "start_time": "2021-07-17T07:40:23.036Z"
   },
   {
    "duration": 7,
    "start_time": "2021-07-17T07:40:52.821Z"
   },
   {
    "duration": 22,
    "start_time": "2021-07-17T07:41:00.037Z"
   },
   {
    "duration": 562,
    "start_time": "2021-07-17T07:41:47.781Z"
   },
   {
    "duration": 397,
    "start_time": "2021-07-17T07:42:10.993Z"
   },
   {
    "duration": 4,
    "start_time": "2021-07-17T07:42:26.247Z"
   },
   {
    "duration": 39,
    "start_time": "2021-07-17T07:42:32.413Z"
   },
   {
    "duration": 40,
    "start_time": "2021-07-17T07:42:43.691Z"
   },
   {
    "duration": 7,
    "start_time": "2021-07-17T07:42:58.908Z"
   },
   {
    "duration": 40,
    "start_time": "2021-07-17T07:43:07.965Z"
   },
   {
    "duration": 41,
    "start_time": "2021-07-17T07:43:09.584Z"
   },
   {
    "duration": 37,
    "start_time": "2021-07-17T07:43:23.170Z"
   },
   {
    "duration": 80,
    "start_time": "2021-07-17T07:45:02.845Z"
   },
   {
    "duration": 722,
    "start_time": "2021-07-17T07:45:11.333Z"
   },
   {
    "duration": 38,
    "start_time": "2021-07-17T07:45:18.014Z"
   },
   {
    "duration": 425,
    "start_time": "2021-07-17T07:47:24.697Z"
   },
   {
    "duration": 92,
    "start_time": "2021-07-17T07:47:41.539Z"
   },
   {
    "duration": 94,
    "start_time": "2021-07-17T07:48:02.398Z"
   },
   {
    "duration": 422,
    "start_time": "2021-07-17T07:48:04.182Z"
   },
   {
    "duration": 8378,
    "start_time": "2021-07-17T07:48:19.057Z"
   },
   {
    "duration": 724,
    "start_time": "2021-07-17T07:48:51.366Z"
   },
   {
    "duration": 4,
    "start_time": "2021-07-17T07:49:24.493Z"
   },
   {
    "duration": 377,
    "start_time": "2021-07-17T07:53:01.667Z"
   },
   {
    "duration": 23,
    "start_time": "2021-07-17T07:53:36.037Z"
   },
   {
    "duration": 22,
    "start_time": "2021-07-17T07:53:51.249Z"
   },
   {
    "duration": 229,
    "start_time": "2021-07-17T07:56:18.768Z"
   },
   {
    "duration": 8116,
    "start_time": "2021-07-17T07:58:07.944Z"
   },
   {
    "duration": 7985,
    "start_time": "2021-07-17T07:58:30.185Z"
   },
   {
    "duration": 421,
    "start_time": "2021-07-17T07:58:45.722Z"
   },
   {
    "duration": 393,
    "start_time": "2021-07-17T07:58:58.701Z"
   },
   {
    "duration": 497,
    "start_time": "2021-07-17T07:59:24.222Z"
   },
   {
    "duration": 405,
    "start_time": "2021-07-17T08:01:05.107Z"
   },
   {
    "duration": 8029,
    "start_time": "2021-07-17T08:01:11.394Z"
   },
   {
    "duration": 412,
    "start_time": "2021-07-17T08:01:27.199Z"
   },
   {
    "duration": 1110,
    "start_time": "2021-07-17T08:01:40.480Z"
   },
   {
    "duration": 91,
    "start_time": "2021-07-17T08:01:56.500Z"
   },
   {
    "duration": 21,
    "start_time": "2021-07-17T08:02:19.875Z"
   },
   {
    "duration": 7,
    "start_time": "2021-07-17T08:38:13.929Z"
   },
   {
    "duration": 7,
    "start_time": "2021-07-17T08:39:12.541Z"
   },
   {
    "duration": 78,
    "start_time": "2021-07-17T08:39:20.762Z"
   },
   {
    "duration": 345,
    "start_time": "2021-07-17T08:39:26.231Z"
   },
   {
    "duration": 6677,
    "start_time": "2021-07-17T08:41:29.782Z"
   },
   {
    "duration": 277,
    "start_time": "2021-07-17T08:41:51.631Z"
   },
   {
    "duration": 337,
    "start_time": "2021-07-17T08:41:58.796Z"
   },
   {
    "duration": 25,
    "start_time": "2021-07-17T08:42:05.282Z"
   },
   {
    "duration": 25,
    "start_time": "2021-07-17T08:42:09.783Z"
   },
   {
    "duration": 17,
    "start_time": "2021-07-17T08:44:22.464Z"
   },
   {
    "duration": 15,
    "start_time": "2021-07-17T08:44:49.633Z"
   },
   {
    "duration": 55,
    "start_time": "2021-07-17T08:46:55.422Z"
   },
   {
    "duration": 114,
    "start_time": "2021-07-17T08:47:21.544Z"
   },
   {
    "duration": 26,
    "start_time": "2021-07-17T08:48:05.173Z"
   },
   {
    "duration": 295,
    "start_time": "2021-07-17T08:49:00.744Z"
   },
   {
    "duration": 16,
    "start_time": "2021-07-17T08:49:10.345Z"
   },
   {
    "duration": 53,
    "start_time": "2021-07-17T08:49:16.531Z"
   },
   {
    "duration": 54,
    "start_time": "2021-07-17T08:49:49.946Z"
   },
   {
    "duration": 26,
    "start_time": "2021-07-17T08:49:52.802Z"
   },
   {
    "duration": 16,
    "start_time": "2021-07-17T08:50:24.459Z"
   },
   {
    "duration": 7,
    "start_time": "2021-07-17T08:50:39.988Z"
   },
   {
    "duration": 18,
    "start_time": "2021-07-17T08:53:33.892Z"
   },
   {
    "duration": 6,
    "start_time": "2021-07-17T08:53:43.810Z"
   },
   {
    "duration": 6,
    "start_time": "2021-07-17T08:54:39.242Z"
   },
   {
    "duration": 8,
    "start_time": "2021-07-17T09:44:10.368Z"
   },
   {
    "duration": 8,
    "start_time": "2021-07-17T09:44:21.532Z"
   },
   {
    "duration": 4,
    "start_time": "2021-07-17T09:44:37.311Z"
   },
   {
    "duration": 5,
    "start_time": "2021-07-17T09:44:48.381Z"
   },
   {
    "duration": 5,
    "start_time": "2021-07-17T09:44:50.447Z"
   },
   {
    "duration": 6,
    "start_time": "2021-07-17T09:45:10.794Z"
   },
   {
    "duration": 6,
    "start_time": "2021-07-17T09:45:27.065Z"
   },
   {
    "duration": 7,
    "start_time": "2021-07-17T09:45:48.582Z"
   },
   {
    "duration": 4,
    "start_time": "2021-07-17T09:46:03.571Z"
   },
   {
    "duration": 362,
    "start_time": "2021-07-17T09:46:15.576Z"
   },
   {
    "duration": 4,
    "start_time": "2021-07-17T09:46:24.470Z"
   },
   {
    "duration": 6,
    "start_time": "2021-07-17T09:46:25.253Z"
   },
   {
    "duration": 365,
    "start_time": "2021-07-17T09:46:35.796Z"
   },
   {
    "duration": 4,
    "start_time": "2021-07-17T09:46:37.277Z"
   },
   {
    "duration": 6,
    "start_time": "2021-07-17T09:46:37.961Z"
   },
   {
    "duration": 7,
    "start_time": "2021-07-17T09:47:57.486Z"
   },
   {
    "duration": 5,
    "start_time": "2021-07-17T09:48:22.461Z"
   },
   {
    "duration": 7,
    "start_time": "2021-07-17T09:48:22.913Z"
   },
   {
    "duration": 4,
    "start_time": "2021-07-17T09:48:28.676Z"
   },
   {
    "duration": 7,
    "start_time": "2021-07-17T09:48:29.059Z"
   },
   {
    "duration": 347,
    "start_time": "2021-07-17T09:52:53.714Z"
   },
   {
    "duration": 430,
    "start_time": "2021-07-17T09:53:06.266Z"
   },
   {
    "duration": 4,
    "start_time": "2021-07-17T09:53:17.125Z"
   },
   {
    "duration": 389,
    "start_time": "2021-07-17T09:53:21.692Z"
   },
   {
    "duration": 4,
    "start_time": "2021-07-17T09:58:21.767Z"
   },
   {
    "duration": 360,
    "start_time": "2021-07-17T09:59:36.853Z"
   },
   {
    "duration": 4,
    "start_time": "2021-07-17T09:59:47.903Z"
   },
   {
    "duration": 7,
    "start_time": "2021-07-17T09:59:50.984Z"
   },
   {
    "duration": 9,
    "start_time": "2021-07-17T10:00:08.259Z"
   },
   {
    "duration": 9,
    "start_time": "2021-07-17T10:00:17.449Z"
   },
   {
    "duration": 8,
    "start_time": "2021-07-17T10:00:21.597Z"
   },
   {
    "duration": 369,
    "start_time": "2021-07-17T10:00:23.566Z"
   },
   {
    "duration": 9,
    "start_time": "2021-07-17T10:00:25.258Z"
   },
   {
    "duration": 9,
    "start_time": "2021-07-17T10:00:27.946Z"
   },
   {
    "duration": 448,
    "start_time": "2021-07-17T10:01:30.444Z"
   },
   {
    "duration": 318,
    "start_time": "2021-07-17T10:03:43.413Z"
   },
   {
    "duration": 394,
    "start_time": "2021-07-17T10:03:52.641Z"
   },
   {
    "duration": 28,
    "start_time": "2021-07-17T10:03:58.242Z"
   },
   {
    "duration": 398,
    "start_time": "2021-07-17T10:04:02.985Z"
   },
   {
    "duration": 459,
    "start_time": "2021-07-17T10:04:10.305Z"
   },
   {
    "duration": 336,
    "start_time": "2021-07-17T10:04:21.341Z"
   },
   {
    "duration": 375,
    "start_time": "2021-07-17T10:04:26.501Z"
   },
   {
    "duration": 28,
    "start_time": "2021-07-17T10:04:36.315Z"
   },
   {
    "duration": 349,
    "start_time": "2021-07-17T10:04:54.381Z"
   },
   {
    "duration": 22,
    "start_time": "2021-07-17T10:05:11.359Z"
   },
   {
    "duration": 107,
    "start_time": "2021-07-17T10:05:18.701Z"
   },
   {
    "duration": 525,
    "start_time": "2021-07-17T10:05:21.377Z"
   },
   {
    "duration": 338,
    "start_time": "2021-07-17T10:05:32.838Z"
   },
   {
    "duration": 6,
    "start_time": "2021-07-17T10:05:45.588Z"
   },
   {
    "duration": 376,
    "start_time": "2021-07-17T10:05:49.615Z"
   },
   {
    "duration": 6,
    "start_time": "2021-07-17T10:05:52.967Z"
   },
   {
    "duration": 6,
    "start_time": "2021-07-17T10:06:13.446Z"
   },
   {
    "duration": 8,
    "start_time": "2021-07-17T10:06:16.921Z"
   },
   {
    "duration": 346,
    "start_time": "2021-07-17T10:07:52.724Z"
   },
   {
    "duration": 6,
    "start_time": "2021-07-17T10:08:04.271Z"
   },
   {
    "duration": 7,
    "start_time": "2021-07-17T10:08:10.994Z"
   },
   {
    "duration": 366,
    "start_time": "2021-07-17T10:08:18.411Z"
   },
   {
    "duration": 6,
    "start_time": "2021-07-17T10:08:21.680Z"
   },
   {
    "duration": 5,
    "start_time": "2021-07-17T10:08:27.605Z"
   },
   {
    "duration": 386,
    "start_time": "2021-07-17T10:08:29.004Z"
   },
   {
    "duration": 5,
    "start_time": "2021-07-17T10:08:30.617Z"
   },
   {
    "duration": 7,
    "start_time": "2021-07-17T10:08:33.024Z"
   },
   {
    "duration": 6,
    "start_time": "2021-07-17T10:08:38.700Z"
   },
   {
    "duration": 349,
    "start_time": "2021-07-17T10:08:39.596Z"
   },
   {
    "duration": 6,
    "start_time": "2021-07-17T10:08:41.323Z"
   },
   {
    "duration": 7,
    "start_time": "2021-07-17T10:08:42.756Z"
   },
   {
    "duration": 379,
    "start_time": "2021-07-17T10:08:48.381Z"
   },
   {
    "duration": 372,
    "start_time": "2021-07-17T10:08:52.690Z"
   },
   {
    "duration": 6,
    "start_time": "2021-07-17T10:09:07.996Z"
   },
   {
    "duration": 370,
    "start_time": "2021-07-17T10:09:17.263Z"
   },
   {
    "duration": 6,
    "start_time": "2021-07-17T10:09:22.429Z"
   },
   {
    "duration": 7,
    "start_time": "2021-07-17T10:09:26.394Z"
   },
   {
    "duration": 6,
    "start_time": "2021-07-17T10:09:30.482Z"
   },
   {
    "duration": 361,
    "start_time": "2021-07-17T10:09:35.554Z"
   },
   {
    "duration": 6,
    "start_time": "2021-07-17T10:09:41.033Z"
   },
   {
    "duration": 6,
    "start_time": "2021-07-17T10:09:48.511Z"
   },
   {
    "duration": 6,
    "start_time": "2021-07-17T10:09:52.097Z"
   },
   {
    "duration": 2483,
    "start_time": "2021-07-17T10:10:01.435Z"
   },
   {
    "duration": 2710,
    "start_time": "2021-07-17T10:10:08.186Z"
   },
   {
    "duration": 5,
    "start_time": "2021-07-17T10:10:14.054Z"
   },
   {
    "duration": 360,
    "start_time": "2021-07-17T10:10:17.726Z"
   },
   {
    "duration": 6,
    "start_time": "2021-07-17T10:10:25.202Z"
   },
   {
    "duration": 6,
    "start_time": "2021-07-17T10:10:39.290Z"
   },
   {
    "duration": 6,
    "start_time": "2021-07-17T10:11:42.294Z"
   },
   {
    "duration": 5,
    "start_time": "2021-07-17T10:11:47.991Z"
   },
   {
    "duration": 7,
    "start_time": "2021-07-17T10:11:52.736Z"
   },
   {
    "duration": 9,
    "start_time": "2021-07-17T10:11:57.922Z"
   },
   {
    "duration": 1447,
    "start_time": "2021-07-17T10:12:14.694Z"
   },
   {
    "duration": 6,
    "start_time": "2021-07-17T10:12:20.857Z"
   },
   {
    "duration": 6,
    "start_time": "2021-07-17T10:12:25.168Z"
   },
   {
    "duration": 6,
    "start_time": "2021-07-17T10:12:29.389Z"
   },
   {
    "duration": 5,
    "start_time": "2021-07-17T10:12:33.473Z"
   },
   {
    "duration": 6,
    "start_time": "2021-07-17T10:12:36.776Z"
   },
   {
    "duration": 5,
    "start_time": "2021-07-17T10:12:40.274Z"
   },
   {
    "duration": 7,
    "start_time": "2021-07-17T10:12:54.591Z"
   },
   {
    "duration": 6,
    "start_time": "2021-07-17T10:12:58.836Z"
   },
   {
    "duration": 6,
    "start_time": "2021-07-17T10:13:00.514Z"
   },
   {
    "duration": 8,
    "start_time": "2021-07-17T10:13:41.772Z"
   },
   {
    "duration": 9,
    "start_time": "2021-07-17T10:13:55.042Z"
   },
   {
    "duration": 9,
    "start_time": "2021-07-17T10:13:57.615Z"
   },
   {
    "duration": 411,
    "start_time": "2021-07-17T10:13:58.140Z"
   },
   {
    "duration": 9,
    "start_time": "2021-07-17T10:14:03.269Z"
   },
   {
    "duration": 9,
    "start_time": "2021-07-17T10:14:05.276Z"
   },
   {
    "duration": 9,
    "start_time": "2021-07-17T10:14:07.233Z"
   },
   {
    "duration": 9,
    "start_time": "2021-07-17T10:14:08.907Z"
   },
   {
    "duration": 8,
    "start_time": "2021-07-17T10:14:15.812Z"
   },
   {
    "duration": 9,
    "start_time": "2021-07-17T10:14:19.156Z"
   },
   {
    "duration": 10,
    "start_time": "2021-07-17T10:14:21.914Z"
   },
   {
    "duration": 10,
    "start_time": "2021-07-17T10:14:29.103Z"
   },
   {
    "duration": 11,
    "start_time": "2021-07-17T10:14:32.872Z"
   },
   {
    "duration": 11,
    "start_time": "2021-07-17T10:14:35.891Z"
   },
   {
    "duration": 8,
    "start_time": "2021-07-17T10:15:04.572Z"
   },
   {
    "duration": 8,
    "start_time": "2021-07-17T10:15:07.780Z"
   },
   {
    "duration": 8,
    "start_time": "2021-07-17T10:15:09.593Z"
   },
   {
    "duration": 9,
    "start_time": "2021-07-17T10:15:11.208Z"
   },
   {
    "duration": 8,
    "start_time": "2021-07-17T10:15:12.432Z"
   },
   {
    "duration": 8,
    "start_time": "2021-07-17T10:15:13.647Z"
   },
   {
    "duration": 8,
    "start_time": "2021-07-17T10:15:14.808Z"
   },
   {
    "duration": 8,
    "start_time": "2021-07-17T10:15:15.997Z"
   },
   {
    "duration": 7,
    "start_time": "2021-07-17T10:15:17.291Z"
   },
   {
    "duration": 7,
    "start_time": "2021-07-17T10:15:19.050Z"
   },
   {
    "duration": 1490,
    "start_time": "2021-07-18T08:41:54.135Z"
   },
   {
    "duration": 134,
    "start_time": "2021-07-18T08:41:55.627Z"
   },
   {
    "duration": 25,
    "start_time": "2021-07-18T08:41:55.764Z"
   },
   {
    "duration": 12,
    "start_time": "2021-07-18T08:41:55.792Z"
   },
   {
    "duration": 442,
    "start_time": "2021-07-18T09:19:24.969Z"
   },
   {
    "duration": 1442,
    "start_time": "2021-07-18T09:19:34.775Z"
   },
   {
    "duration": 62,
    "start_time": "2021-07-18T09:19:37.256Z"
   },
   {
    "duration": 23,
    "start_time": "2021-07-18T09:19:39.199Z"
   },
   {
    "duration": 10,
    "start_time": "2021-07-18T09:19:41.837Z"
   },
   {
    "duration": 9,
    "start_time": "2021-07-18T09:19:43.437Z"
   },
   {
    "duration": 15,
    "start_time": "2021-07-18T09:19:55.884Z"
   },
   {
    "duration": 385,
    "start_time": "2021-07-18T09:25:28.740Z"
   },
   {
    "duration": 9,
    "start_time": "2021-07-18T09:25:46.175Z"
   },
   {
    "duration": 6,
    "start_time": "2021-07-18T09:25:47.342Z"
   },
   {
    "duration": 7,
    "start_time": "2021-07-18T09:25:49.193Z"
   },
   {
    "duration": 7,
    "start_time": "2021-07-18T09:25:49.507Z"
   },
   {
    "duration": 2245,
    "start_time": "2021-07-18T09:25:54.232Z"
   },
   {
    "duration": 16,
    "start_time": "2021-07-18T09:43:15.336Z"
   },
   {
    "duration": 7,
    "start_time": "2021-07-18T09:43:20.228Z"
   },
   {
    "duration": 7,
    "start_time": "2021-07-18T09:43:30.065Z"
   },
   {
    "duration": 8,
    "start_time": "2021-07-18T09:43:45.061Z"
   }
  ],
  "kernelspec": {
   "display_name": "Python 3",
   "language": "python",
   "name": "python3"
  },
  "language_info": {
   "codemirror_mode": {
    "name": "ipython",
    "version": 3
   },
   "file_extension": ".py",
   "mimetype": "text/x-python",
   "name": "python",
   "nbconvert_exporter": "python",
   "pygments_lexer": "ipython3",
   "version": "3.9.0"
  },
  "toc": {
   "base_numbering": 1,
   "nav_menu": {},
   "number_sections": true,
   "sideBar": true,
   "skip_h1_title": true,
   "title_cell": "Table of Contents",
   "title_sidebar": "Contents",
   "toc_cell": false,
   "toc_position": {
    "height": "calc(100% - 180px)",
    "left": "10px",
    "top": "150px",
    "width": "192.5px"
   },
   "toc_section_display": true,
   "toc_window_display": true
  }
 },
 "nbformat": 4,
 "nbformat_minor": 2
}
