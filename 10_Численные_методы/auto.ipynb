{
 "cells": [
  {
   "cell_type": "markdown",
   "metadata": {
    "toc": true
   },
   "source": [
    "<h1>Table of Contents<span class=\"tocSkip\"></span></h1>\n",
    "<div class=\"toc\"><ul class=\"toc-item\"><li><span><a href=\"#Подготовка-данных\" data-toc-modified-id=\"Подготовка-данных-1\"><span class=\"toc-item-num\">1&nbsp;&nbsp;</span>Подготовка данных</a></span></li><li><span><a href=\"#Обучение-моделей\" data-toc-modified-id=\"Обучение-моделей-2\"><span class=\"toc-item-num\">2&nbsp;&nbsp;</span>Обучение моделей</a></span><ul class=\"toc-item\"><li><span><a href=\"#LinearRegression\" data-toc-modified-id=\"LinearRegression-2.1\"><span class=\"toc-item-num\">2.1&nbsp;&nbsp;</span>LinearRegression</a></span></li><li><span><a href=\"#LightGBM\" data-toc-modified-id=\"LightGBM-2.2\"><span class=\"toc-item-num\">2.2&nbsp;&nbsp;</span>LightGBM</a></span></li><li><span><a href=\"#CatBoostRegressor\" data-toc-modified-id=\"CatBoostRegressor-2.3\"><span class=\"toc-item-num\">2.3&nbsp;&nbsp;</span>CatBoostRegressor</a></span></li></ul></li><li><span><a href=\"#Анализ-моделей\" data-toc-modified-id=\"Анализ-моделей-3\"><span class=\"toc-item-num\">3&nbsp;&nbsp;</span>Анализ моделей</a></span></li></ul></div>"
   ]
  },
  {
   "cell_type": "markdown",
   "metadata": {
    "id": "lyzg_Af0zwYD"
   },
   "source": [
    "# Определение стоимости автомобилей"
   ]
  },
  {
   "cell_type": "markdown",
   "metadata": {
    "id": "XTvGOQqBzwYE"
   },
   "source": [
    "Сервис по продаже автомобилей с пробегом «Не бит, не крашен» разрабатывает приложение для привлечения новых клиентов. В нём можно быстро узнать рыночную стоимость своего автомобиля. В вашем распоряжении исторические данные: технические характеристики, комплектации и цены автомобилей. Вам нужно построить модель для определения стоимости. \n",
    "\n",
    "Заказчику важны:\n",
    "\n",
    "- качество предсказания;\n",
    "- скорость предсказания;\n",
    "- время обучения."
   ]
  },
  {
   "cell_type": "markdown",
   "metadata": {
    "id": "dBWtfTQLzwYF"
   },
   "source": [
    "Признаки\n",
    "\n",
    "- DateCrawled — дата скачивания анкеты из базы\n",
    "- VehicleType — тип автомобильного кузова\n",
    "- RegistrationYear — год регистрации автомобиля\n",
    "- Gearbox — тип коробки передач\n",
    "- Power — мощность (л. с.)\n",
    "- Model — модель автомобиля\n",
    "- Kilometer — пробег (км)\n",
    "- RegistrationMonth — месяц регистрации автомобиля\n",
    "- FuelType — тип топлива\n",
    "- Brand — марка автомобиля\n",
    "- NotRepaired — была машина в ремонте или нет\n",
    "- DateCreated — дата создания анкеты\n",
    "- NumberOfPictures — количество фотографий автомобиля\n",
    "- PostalCode — почтовый индекс владельца анкеты (пользователя)\n",
    "- LastSeen — дата последней активности пользователя\n",
    "\n",
    "Целевой признак\n",
    "\n",
    "- Price — цена (евро)"
   ]
  },
  {
   "cell_type": "code",
   "execution_count": 1,
   "metadata": {
    "colab": {
     "base_uri": "https://localhost:8080/"
    },
    "id": "73hMPxKOzwYG",
    "outputId": "5df3c38c-8d4f-4bca-923f-f339d750958d"
   },
   "outputs": [
    {
     "name": "stdout",
     "output_type": "stream",
     "text": [
      "Requirement already satisfied: catboost in /opt/conda/lib/python3.9/site-packages (1.0.3)\n",
      "Requirement already satisfied: numpy>=1.16.0 in /opt/conda/lib/python3.9/site-packages (from catboost) (1.21.1)\n",
      "Requirement already satisfied: pandas>=0.24.0 in /opt/conda/lib/python3.9/site-packages (from catboost) (1.2.4)\n",
      "Requirement already satisfied: matplotlib in /opt/conda/lib/python3.9/site-packages (from catboost) (3.3.4)\n",
      "Requirement already satisfied: graphviz in /opt/conda/lib/python3.9/site-packages (from catboost) (0.20)\n",
      "Requirement already satisfied: plotly in /opt/conda/lib/python3.9/site-packages (from catboost) (5.4.0)\n",
      "Requirement already satisfied: scipy in /opt/conda/lib/python3.9/site-packages (from catboost) (1.8.0)\n",
      "Requirement already satisfied: six in /opt/conda/lib/python3.9/site-packages (from catboost) (1.16.0)\n",
      "Requirement already satisfied: python-dateutil>=2.7.3 in /opt/conda/lib/python3.9/site-packages (from pandas>=0.24.0->catboost) (2.8.1)\n",
      "Requirement already satisfied: pytz>=2017.3 in /opt/conda/lib/python3.9/site-packages (from pandas>=0.24.0->catboost) (2021.1)\n",
      "Requirement already satisfied: cycler>=0.10 in /opt/conda/lib/python3.9/site-packages (from matplotlib->catboost) (0.11.0)\n",
      "Requirement already satisfied: pillow>=6.2.0 in /opt/conda/lib/python3.9/site-packages (from matplotlib->catboost) (8.4.0)\n",
      "Requirement already satisfied: pyparsing!=2.0.4,!=2.1.2,!=2.1.6,>=2.0.3 in /opt/conda/lib/python3.9/site-packages (from matplotlib->catboost) (2.4.7)\n",
      "Requirement already satisfied: kiwisolver>=1.0.1 in /opt/conda/lib/python3.9/site-packages (from matplotlib->catboost) (1.4.2)\n",
      "Requirement already satisfied: tenacity>=6.2.0 in /opt/conda/lib/python3.9/site-packages (from plotly->catboost) (8.0.1)\n",
      "Note: you may need to restart the kernel to use updated packages.\n"
     ]
    }
   ],
   "source": [
    "pip install catboost"
   ]
  },
  {
   "cell_type": "code",
   "execution_count": 2,
   "metadata": {
    "colab": {
     "base_uri": "https://localhost:8080/"
    },
    "id": "MZTXO-K9exhM",
    "outputId": "42fb5308-cea0-496c-900c-7454d5aff871"
   },
   "outputs": [
    {
     "name": "stdout",
     "output_type": "stream",
     "text": [
      "Requirement already satisfied: shap in /opt/conda/lib/python3.9/site-packages (0.41.0)\n",
      "Requirement already satisfied: numba in /opt/conda/lib/python3.9/site-packages (from shap) (0.55.1)\n",
      "Requirement already satisfied: cloudpickle in /opt/conda/lib/python3.9/site-packages (from shap) (2.1.0)\n",
      "Requirement already satisfied: slicer==0.0.7 in /opt/conda/lib/python3.9/site-packages (from shap) (0.0.7)\n",
      "Requirement already satisfied: scikit-learn in /opt/conda/lib/python3.9/site-packages (from shap) (0.24.1)\n",
      "Requirement already satisfied: scipy in /opt/conda/lib/python3.9/site-packages (from shap) (1.8.0)\n",
      "Requirement already satisfied: tqdm>4.25.0 in /opt/conda/lib/python3.9/site-packages (from shap) (4.61.2)\n",
      "Requirement already satisfied: numpy in /opt/conda/lib/python3.9/site-packages (from shap) (1.21.1)\n",
      "Requirement already satisfied: pandas in /opt/conda/lib/python3.9/site-packages (from shap) (1.2.4)\n",
      "Requirement already satisfied: packaging>20.9 in /opt/conda/lib/python3.9/site-packages (from shap) (21.3)\n",
      "Requirement already satisfied: pyparsing!=3.0.5,>=2.0.2 in /opt/conda/lib/python3.9/site-packages (from packaging>20.9->shap) (2.4.7)\n",
      "Requirement already satisfied: llvmlite<0.39,>=0.38.0rc1 in /opt/conda/lib/python3.9/site-packages (from numba->shap) (0.38.0)\n",
      "Requirement already satisfied: setuptools in /opt/conda/lib/python3.9/site-packages (from numba->shap) (49.6.0.post20210108)\n",
      "Requirement already satisfied: python-dateutil>=2.7.3 in /opt/conda/lib/python3.9/site-packages (from pandas->shap) (2.8.1)\n",
      "Requirement already satisfied: pytz>=2017.3 in /opt/conda/lib/python3.9/site-packages (from pandas->shap) (2021.1)\n",
      "Requirement already satisfied: six>=1.5 in /opt/conda/lib/python3.9/site-packages (from python-dateutil>=2.7.3->pandas->shap) (1.16.0)\n",
      "Requirement already satisfied: threadpoolctl>=2.0.0 in /opt/conda/lib/python3.9/site-packages (from scikit-learn->shap) (3.1.0)\n",
      "Requirement already satisfied: joblib>=0.11 in /opt/conda/lib/python3.9/site-packages (from scikit-learn->shap) (1.1.0)\n",
      "Note: you may need to restart the kernel to use updated packages.\n"
     ]
    }
   ],
   "source": [
    "pip install shap"
   ]
  },
  {
   "cell_type": "code",
   "execution_count": 3,
   "metadata": {},
   "outputs": [
    {
     "name": "stdout",
     "output_type": "stream",
     "text": [
      "Requirement already satisfied: kaleido in /opt/conda/lib/python3.9/site-packages (0.2.1)\n",
      "Note: you may need to restart the kernel to use updated packages.\n"
     ]
    }
   ],
   "source": [
    "pip install -U kaleido"
   ]
  },
  {
   "cell_type": "code",
   "execution_count": 4,
   "metadata": {
    "id": "zxED3ReJzwYH"
   },
   "outputs": [],
   "source": [
    "import pandas as pd\n",
    "import numpy as np\n",
    "import shap\n",
    "\n",
    "from sklearn.model_selection import train_test_split\n",
    "from sklearn.model_selection import GridSearchCV\n",
    "from sklearn.model_selection import KFold\n",
    "from sklearn.model_selection import cross_val_score\n",
    "\n",
    "from sklearn.metrics import mean_squared_error\n",
    "\n",
    "import lightgbm as lgb\n",
    "from lightgbm import LGBMRegressor\n",
    "from catboost import CatBoostRegressor\n",
    "from sklearn.linear_model import LinearRegression\n",
    "\n",
    "import matplotlib.pyplot as plt\n",
    "import seaborn as sns\n",
    "import plotly.express as px\n",
    "import plotly.io as pio\n",
    "pio.renderers.default = \"svg\" # only for GitHub, comment for \n",
    "                              # Plotly's interactive\n",
    "\n",
    "import warnings\n",
    "warnings.simplefilter(action='ignore', category=FutureWarning)\n",
    "warnings.simplefilter(action='ignore', category=UserWarning)"
   ]
  },
  {
   "cell_type": "markdown",
   "metadata": {
    "id": "cXXHUU1XzwYI"
   },
   "source": [
    "## Подготовка данных"
   ]
  },
  {
   "cell_type": "markdown",
   "metadata": {
    "id": "1B8MHn7MzwYJ"
   },
   "source": [
    "Для отображения таблицы полностью добавим атрибуты"
   ]
  },
  {
   "cell_type": "code",
   "execution_count": 5,
   "metadata": {
    "id": "F58clQU1zwYJ"
   },
   "outputs": [],
   "source": [
    "pd.set_option('display.max_rows', 500)\n",
    "pd.set_option('display.max_columns', 500)\n",
    "pd.set_option('display.width', 1000)"
   ]
  },
  {
   "cell_type": "code",
   "execution_count": 6,
   "metadata": {
    "id": "IHMzrJ8VzwYK"
   },
   "outputs": [],
   "source": [
    "def missing_zero_values_table(df):\n",
    "        zero_val = (df == 0.00).astype(int).sum(axis=0)\n",
    "        mis_val = df.isnull().sum()\n",
    "        mis_val_percent = 100 * df.isnull().sum() / len(df)\n",
    "        mz_table = pd.concat([zero_val, mis_val, mis_val_percent], axis=1)\n",
    "        mz_table = mz_table.rename(\n",
    "        columns = {0 : 'Zero Values', 1 : 'Missing Values', 2 : '% of Total Values'})\n",
    "        mz_table['Total Zero Missing Values'] = mz_table['Zero Values'] + mz_table['Missing Values']\n",
    "        mz_table['% Total Zero Missing Values'] = 100 * mz_table['Total Zero Missing Values'] / len(df)\n",
    "        mz_table['Data Type'] = df.dtypes\n",
    "        mz_table = mz_table[\n",
    "            mz_table.iloc[:,1] != 0].sort_values(\n",
    "        '% of Total Values', ascending=False).round(1)\n",
    "        print (\"Your selected dataframe has \" + str(df.shape[1]) + \" columns and \" + str(df.shape[0]) + \" Rows.\\n\"      \n",
    "            \"There are \" + str(mz_table.shape[0]) +\n",
    "              \" columns that have missing values.\")\n",
    "        return mz_table"
   ]
  },
  {
   "cell_type": "code",
   "execution_count": 7,
   "metadata": {
    "id": "05ANebBYzwYK"
   },
   "outputs": [],
   "source": [
    "df = pd.read_csv('/datasets/autos.csv')"
   ]
  },
  {
   "cell_type": "code",
   "execution_count": 8,
   "metadata": {
    "colab": {
     "base_uri": "https://localhost:8080/",
     "height": 802
    },
    "id": "u0sVL98TzwYL",
    "outputId": "87810422-ad49-4549-ba20-0e86efa9dcbf"
   },
   "outputs": [
    {
     "name": "stdout",
     "output_type": "stream",
     "text": [
      "<class 'pandas.core.frame.DataFrame'>\n",
      "RangeIndex: 354369 entries, 0 to 354368\n",
      "Data columns (total 16 columns):\n",
      " #   Column             Non-Null Count   Dtype \n",
      "---  ------             --------------   ----- \n",
      " 0   DateCrawled        354369 non-null  object\n",
      " 1   Price              354369 non-null  int64 \n",
      " 2   VehicleType        316879 non-null  object\n",
      " 3   RegistrationYear   354369 non-null  int64 \n",
      " 4   Gearbox            334536 non-null  object\n",
      " 5   Power              354369 non-null  int64 \n",
      " 6   Model              334664 non-null  object\n",
      " 7   Kilometer          354369 non-null  int64 \n",
      " 8   RegistrationMonth  354369 non-null  int64 \n",
      " 9   FuelType           321474 non-null  object\n",
      " 10  Brand              354369 non-null  object\n",
      " 11  NotRepaired        283215 non-null  object\n",
      " 12  DateCreated        354369 non-null  object\n",
      " 13  NumberOfPictures   354369 non-null  int64 \n",
      " 14  PostalCode         354369 non-null  int64 \n",
      " 15  LastSeen           354369 non-null  object\n",
      "dtypes: int64(7), object(9)\n",
      "memory usage: 43.3+ MB\n",
      "None\n"
     ]
    },
    {
     "data": {
      "text/html": [
       "<div>\n",
       "<style scoped>\n",
       "    .dataframe tbody tr th:only-of-type {\n",
       "        vertical-align: middle;\n",
       "    }\n",
       "\n",
       "    .dataframe tbody tr th {\n",
       "        vertical-align: top;\n",
       "    }\n",
       "\n",
       "    .dataframe thead th {\n",
       "        text-align: right;\n",
       "    }\n",
       "</style>\n",
       "<table border=\"1\" class=\"dataframe\">\n",
       "  <thead>\n",
       "    <tr style=\"text-align: right;\">\n",
       "      <th></th>\n",
       "      <th>DateCrawled</th>\n",
       "      <th>Price</th>\n",
       "      <th>VehicleType</th>\n",
       "      <th>RegistrationYear</th>\n",
       "      <th>Gearbox</th>\n",
       "      <th>Power</th>\n",
       "      <th>Model</th>\n",
       "      <th>Kilometer</th>\n",
       "      <th>RegistrationMonth</th>\n",
       "      <th>FuelType</th>\n",
       "      <th>Brand</th>\n",
       "      <th>NotRepaired</th>\n",
       "      <th>DateCreated</th>\n",
       "      <th>NumberOfPictures</th>\n",
       "      <th>PostalCode</th>\n",
       "      <th>LastSeen</th>\n",
       "    </tr>\n",
       "  </thead>\n",
       "  <tbody>\n",
       "    <tr>\n",
       "      <th>0</th>\n",
       "      <td>2016-03-24 11:52:17</td>\n",
       "      <td>480</td>\n",
       "      <td>NaN</td>\n",
       "      <td>1993</td>\n",
       "      <td>manual</td>\n",
       "      <td>0</td>\n",
       "      <td>golf</td>\n",
       "      <td>150000</td>\n",
       "      <td>0</td>\n",
       "      <td>petrol</td>\n",
       "      <td>volkswagen</td>\n",
       "      <td>NaN</td>\n",
       "      <td>2016-03-24 00:00:00</td>\n",
       "      <td>0</td>\n",
       "      <td>70435</td>\n",
       "      <td>2016-04-07 03:16:57</td>\n",
       "    </tr>\n",
       "    <tr>\n",
       "      <th>1</th>\n",
       "      <td>2016-03-24 10:58:45</td>\n",
       "      <td>18300</td>\n",
       "      <td>coupe</td>\n",
       "      <td>2011</td>\n",
       "      <td>manual</td>\n",
       "      <td>190</td>\n",
       "      <td>NaN</td>\n",
       "      <td>125000</td>\n",
       "      <td>5</td>\n",
       "      <td>gasoline</td>\n",
       "      <td>audi</td>\n",
       "      <td>yes</td>\n",
       "      <td>2016-03-24 00:00:00</td>\n",
       "      <td>0</td>\n",
       "      <td>66954</td>\n",
       "      <td>2016-04-07 01:46:50</td>\n",
       "    </tr>\n",
       "    <tr>\n",
       "      <th>2</th>\n",
       "      <td>2016-03-14 12:52:21</td>\n",
       "      <td>9800</td>\n",
       "      <td>suv</td>\n",
       "      <td>2004</td>\n",
       "      <td>auto</td>\n",
       "      <td>163</td>\n",
       "      <td>grand</td>\n",
       "      <td>125000</td>\n",
       "      <td>8</td>\n",
       "      <td>gasoline</td>\n",
       "      <td>jeep</td>\n",
       "      <td>NaN</td>\n",
       "      <td>2016-03-14 00:00:00</td>\n",
       "      <td>0</td>\n",
       "      <td>90480</td>\n",
       "      <td>2016-04-05 12:47:46</td>\n",
       "    </tr>\n",
       "    <tr>\n",
       "      <th>3</th>\n",
       "      <td>2016-03-17 16:54:04</td>\n",
       "      <td>1500</td>\n",
       "      <td>small</td>\n",
       "      <td>2001</td>\n",
       "      <td>manual</td>\n",
       "      <td>75</td>\n",
       "      <td>golf</td>\n",
       "      <td>150000</td>\n",
       "      <td>6</td>\n",
       "      <td>petrol</td>\n",
       "      <td>volkswagen</td>\n",
       "      <td>no</td>\n",
       "      <td>2016-03-17 00:00:00</td>\n",
       "      <td>0</td>\n",
       "      <td>91074</td>\n",
       "      <td>2016-03-17 17:40:17</td>\n",
       "    </tr>\n",
       "    <tr>\n",
       "      <th>4</th>\n",
       "      <td>2016-03-31 17:25:20</td>\n",
       "      <td>3600</td>\n",
       "      <td>small</td>\n",
       "      <td>2008</td>\n",
       "      <td>manual</td>\n",
       "      <td>69</td>\n",
       "      <td>fabia</td>\n",
       "      <td>90000</td>\n",
       "      <td>7</td>\n",
       "      <td>gasoline</td>\n",
       "      <td>skoda</td>\n",
       "      <td>no</td>\n",
       "      <td>2016-03-31 00:00:00</td>\n",
       "      <td>0</td>\n",
       "      <td>60437</td>\n",
       "      <td>2016-04-06 10:17:21</td>\n",
       "    </tr>\n",
       "  </tbody>\n",
       "</table>\n",
       "</div>"
      ],
      "text/plain": [
       "           DateCrawled  Price VehicleType  RegistrationYear Gearbox  Power  Model  Kilometer  RegistrationMonth  FuelType       Brand NotRepaired          DateCreated  NumberOfPictures  PostalCode             LastSeen\n",
       "0  2016-03-24 11:52:17    480         NaN              1993  manual      0   golf     150000                  0    petrol  volkswagen         NaN  2016-03-24 00:00:00                 0       70435  2016-04-07 03:16:57\n",
       "1  2016-03-24 10:58:45  18300       coupe              2011  manual    190    NaN     125000                  5  gasoline        audi         yes  2016-03-24 00:00:00                 0       66954  2016-04-07 01:46:50\n",
       "2  2016-03-14 12:52:21   9800         suv              2004    auto    163  grand     125000                  8  gasoline        jeep         NaN  2016-03-14 00:00:00                 0       90480  2016-04-05 12:47:46\n",
       "3  2016-03-17 16:54:04   1500       small              2001  manual     75   golf     150000                  6    petrol  volkswagen          no  2016-03-17 00:00:00                 0       91074  2016-03-17 17:40:17\n",
       "4  2016-03-31 17:25:20   3600       small              2008  manual     69  fabia      90000                  7  gasoline       skoda          no  2016-03-31 00:00:00                 0       60437  2016-04-06 10:17:21"
      ]
     },
     "metadata": {},
     "output_type": "display_data"
    }
   ],
   "source": [
    "print(df.info())\n",
    "display(df.head())"
   ]
  },
  {
   "cell_type": "code",
   "execution_count": 9,
   "metadata": {
    "colab": {
     "base_uri": "https://localhost:8080/",
     "height": 54
    },
    "id": "QEasXiCGzwYL",
    "outputId": "64d86979-b34c-4dbc-95e3-dfecc61a00a7"
   },
   "outputs": [
    {
     "data": {
      "text/plain": [
       "\"index(['datecrawled', 'price', 'vehicletype', 'registrationyear', 'gearbox', 'power', 'model', 'kilometer', 'registrationmonth', 'fueltype', 'brand', 'notrepaired', 'datecreated', 'numberofpictures', 'postalcode', 'lastseen'], dtype='object')\""
      ]
     },
     "execution_count": 9,
     "metadata": {},
     "output_type": "execute_result"
    }
   ],
   "source": [
    "col = str(df.columns).lower\n",
    "col()"
   ]
  },
  {
   "cell_type": "code",
   "execution_count": 10,
   "metadata": {
    "id": "ah-Fl-GQzwYM"
   },
   "outputs": [],
   "source": [
    "df.columns = ['date_crawled', 'price', 'vehicle_type', 'registration_year', 'gearbox', 'power', 'model', 'kilometer', 'registration_month', 'fuel_type', 'brand', 'not_repaired', 'date_created', 'number_of_pictures', 'postal_code', 'last_seen']"
   ]
  },
  {
   "cell_type": "code",
   "execution_count": 11,
   "metadata": {
    "colab": {
     "base_uri": "https://localhost:8080/",
     "height": 309
    },
    "id": "w7KUQ-v8zwYM",
    "outputId": "083ed0a5-443c-4222-be74-9a04a71e4308"
   },
   "outputs": [
    {
     "data": {
      "text/html": [
       "<div>\n",
       "<style scoped>\n",
       "    .dataframe tbody tr th:only-of-type {\n",
       "        vertical-align: middle;\n",
       "    }\n",
       "\n",
       "    .dataframe tbody tr th {\n",
       "        vertical-align: top;\n",
       "    }\n",
       "\n",
       "    .dataframe thead th {\n",
       "        text-align: right;\n",
       "    }\n",
       "</style>\n",
       "<table border=\"1\" class=\"dataframe\">\n",
       "  <thead>\n",
       "    <tr style=\"text-align: right;\">\n",
       "      <th></th>\n",
       "      <th>date_crawled</th>\n",
       "      <th>price</th>\n",
       "      <th>vehicle_type</th>\n",
       "      <th>registration_year</th>\n",
       "      <th>gearbox</th>\n",
       "      <th>power</th>\n",
       "      <th>model</th>\n",
       "      <th>kilometer</th>\n",
       "      <th>registration_month</th>\n",
       "      <th>fuel_type</th>\n",
       "      <th>brand</th>\n",
       "      <th>not_repaired</th>\n",
       "      <th>date_created</th>\n",
       "      <th>number_of_pictures</th>\n",
       "      <th>postal_code</th>\n",
       "      <th>last_seen</th>\n",
       "    </tr>\n",
       "  </thead>\n",
       "  <tbody>\n",
       "    <tr>\n",
       "      <th>0</th>\n",
       "      <td>2016-03-24 11:52:17</td>\n",
       "      <td>480</td>\n",
       "      <td>NaN</td>\n",
       "      <td>1993</td>\n",
       "      <td>manual</td>\n",
       "      <td>0</td>\n",
       "      <td>golf</td>\n",
       "      <td>150000</td>\n",
       "      <td>0</td>\n",
       "      <td>petrol</td>\n",
       "      <td>volkswagen</td>\n",
       "      <td>NaN</td>\n",
       "      <td>2016-03-24 00:00:00</td>\n",
       "      <td>0</td>\n",
       "      <td>70435</td>\n",
       "      <td>2016-04-07 03:16:57</td>\n",
       "    </tr>\n",
       "    <tr>\n",
       "      <th>1</th>\n",
       "      <td>2016-03-24 10:58:45</td>\n",
       "      <td>18300</td>\n",
       "      <td>coupe</td>\n",
       "      <td>2011</td>\n",
       "      <td>manual</td>\n",
       "      <td>190</td>\n",
       "      <td>NaN</td>\n",
       "      <td>125000</td>\n",
       "      <td>5</td>\n",
       "      <td>gasoline</td>\n",
       "      <td>audi</td>\n",
       "      <td>yes</td>\n",
       "      <td>2016-03-24 00:00:00</td>\n",
       "      <td>0</td>\n",
       "      <td>66954</td>\n",
       "      <td>2016-04-07 01:46:50</td>\n",
       "    </tr>\n",
       "    <tr>\n",
       "      <th>2</th>\n",
       "      <td>2016-03-14 12:52:21</td>\n",
       "      <td>9800</td>\n",
       "      <td>suv</td>\n",
       "      <td>2004</td>\n",
       "      <td>auto</td>\n",
       "      <td>163</td>\n",
       "      <td>grand</td>\n",
       "      <td>125000</td>\n",
       "      <td>8</td>\n",
       "      <td>gasoline</td>\n",
       "      <td>jeep</td>\n",
       "      <td>NaN</td>\n",
       "      <td>2016-03-14 00:00:00</td>\n",
       "      <td>0</td>\n",
       "      <td>90480</td>\n",
       "      <td>2016-04-05 12:47:46</td>\n",
       "    </tr>\n",
       "    <tr>\n",
       "      <th>3</th>\n",
       "      <td>2016-03-17 16:54:04</td>\n",
       "      <td>1500</td>\n",
       "      <td>small</td>\n",
       "      <td>2001</td>\n",
       "      <td>manual</td>\n",
       "      <td>75</td>\n",
       "      <td>golf</td>\n",
       "      <td>150000</td>\n",
       "      <td>6</td>\n",
       "      <td>petrol</td>\n",
       "      <td>volkswagen</td>\n",
       "      <td>no</td>\n",
       "      <td>2016-03-17 00:00:00</td>\n",
       "      <td>0</td>\n",
       "      <td>91074</td>\n",
       "      <td>2016-03-17 17:40:17</td>\n",
       "    </tr>\n",
       "    <tr>\n",
       "      <th>4</th>\n",
       "      <td>2016-03-31 17:25:20</td>\n",
       "      <td>3600</td>\n",
       "      <td>small</td>\n",
       "      <td>2008</td>\n",
       "      <td>manual</td>\n",
       "      <td>69</td>\n",
       "      <td>fabia</td>\n",
       "      <td>90000</td>\n",
       "      <td>7</td>\n",
       "      <td>gasoline</td>\n",
       "      <td>skoda</td>\n",
       "      <td>no</td>\n",
       "      <td>2016-03-31 00:00:00</td>\n",
       "      <td>0</td>\n",
       "      <td>60437</td>\n",
       "      <td>2016-04-06 10:17:21</td>\n",
       "    </tr>\n",
       "  </tbody>\n",
       "</table>\n",
       "</div>"
      ],
      "text/plain": [
       "          date_crawled  price vehicle_type  registration_year gearbox  power  model  kilometer  registration_month fuel_type       brand not_repaired         date_created  number_of_pictures  postal_code            last_seen\n",
       "0  2016-03-24 11:52:17    480          NaN               1993  manual      0   golf     150000                   0    petrol  volkswagen          NaN  2016-03-24 00:00:00                   0        70435  2016-04-07 03:16:57\n",
       "1  2016-03-24 10:58:45  18300        coupe               2011  manual    190    NaN     125000                   5  gasoline        audi          yes  2016-03-24 00:00:00                   0        66954  2016-04-07 01:46:50\n",
       "2  2016-03-14 12:52:21   9800          suv               2004    auto    163  grand     125000                   8  gasoline        jeep          NaN  2016-03-14 00:00:00                   0        90480  2016-04-05 12:47:46\n",
       "3  2016-03-17 16:54:04   1500        small               2001  manual     75   golf     150000                   6    petrol  volkswagen           no  2016-03-17 00:00:00                   0        91074  2016-03-17 17:40:17\n",
       "4  2016-03-31 17:25:20   3600        small               2008  manual     69  fabia      90000                   7  gasoline       skoda           no  2016-03-31 00:00:00                   0        60437  2016-04-06 10:17:21"
      ]
     },
     "execution_count": 11,
     "metadata": {},
     "output_type": "execute_result"
    }
   ],
   "source": [
    "df.head()"
   ]
  },
  {
   "cell_type": "code",
   "execution_count": 12,
   "metadata": {
    "id": "qSIBpk4QzwYM"
   },
   "outputs": [],
   "source": [
    "df.date_crawled = df.date_crawled.astype('datetime64')\n",
    "df.date_created = df.date_created.astype('datetime64')\n",
    "df.last_seen = df.last_seen.astype('datetime64')"
   ]
  },
  {
   "cell_type": "code",
   "execution_count": 13,
   "metadata": {
    "colab": {
     "base_uri": "https://localhost:8080/",
     "height": 238
    },
    "id": "MQVxbwdhzwYO",
    "outputId": "adf97756-355b-47e8-f713-fbbad82f7be4"
   },
   "outputs": [
    {
     "name": "stdout",
     "output_type": "stream",
     "text": [
      "Your selected dataframe has 16 columns and 354369 Rows.\n",
      "There are 5 columns that have missing values.\n"
     ]
    },
    {
     "data": {
      "text/html": [
       "<div>\n",
       "<style scoped>\n",
       "    .dataframe tbody tr th:only-of-type {\n",
       "        vertical-align: middle;\n",
       "    }\n",
       "\n",
       "    .dataframe tbody tr th {\n",
       "        vertical-align: top;\n",
       "    }\n",
       "\n",
       "    .dataframe thead th {\n",
       "        text-align: right;\n",
       "    }\n",
       "</style>\n",
       "<table border=\"1\" class=\"dataframe\">\n",
       "  <thead>\n",
       "    <tr style=\"text-align: right;\">\n",
       "      <th></th>\n",
       "      <th>Zero Values</th>\n",
       "      <th>Missing Values</th>\n",
       "      <th>% of Total Values</th>\n",
       "      <th>Total Zero Missing Values</th>\n",
       "      <th>% Total Zero Missing Values</th>\n",
       "      <th>Data Type</th>\n",
       "    </tr>\n",
       "  </thead>\n",
       "  <tbody>\n",
       "    <tr>\n",
       "      <th>not_repaired</th>\n",
       "      <td>0</td>\n",
       "      <td>71154</td>\n",
       "      <td>20.1</td>\n",
       "      <td>71154</td>\n",
       "      <td>20.1</td>\n",
       "      <td>object</td>\n",
       "    </tr>\n",
       "    <tr>\n",
       "      <th>vehicle_type</th>\n",
       "      <td>0</td>\n",
       "      <td>37490</td>\n",
       "      <td>10.6</td>\n",
       "      <td>37490</td>\n",
       "      <td>10.6</td>\n",
       "      <td>object</td>\n",
       "    </tr>\n",
       "    <tr>\n",
       "      <th>fuel_type</th>\n",
       "      <td>0</td>\n",
       "      <td>32895</td>\n",
       "      <td>9.3</td>\n",
       "      <td>32895</td>\n",
       "      <td>9.3</td>\n",
       "      <td>object</td>\n",
       "    </tr>\n",
       "    <tr>\n",
       "      <th>gearbox</th>\n",
       "      <td>0</td>\n",
       "      <td>19833</td>\n",
       "      <td>5.6</td>\n",
       "      <td>19833</td>\n",
       "      <td>5.6</td>\n",
       "      <td>object</td>\n",
       "    </tr>\n",
       "    <tr>\n",
       "      <th>model</th>\n",
       "      <td>0</td>\n",
       "      <td>19705</td>\n",
       "      <td>5.6</td>\n",
       "      <td>19705</td>\n",
       "      <td>5.6</td>\n",
       "      <td>object</td>\n",
       "    </tr>\n",
       "  </tbody>\n",
       "</table>\n",
       "</div>"
      ],
      "text/plain": [
       "              Zero Values  Missing Values  % of Total Values  Total Zero Missing Values  % Total Zero Missing Values Data Type\n",
       "not_repaired            0           71154               20.1                      71154                         20.1    object\n",
       "vehicle_type            0           37490               10.6                      37490                         10.6    object\n",
       "fuel_type               0           32895                9.3                      32895                          9.3    object\n",
       "gearbox                 0           19833                5.6                      19833                          5.6    object\n",
       "model                   0           19705                5.6                      19705                          5.6    object"
      ]
     },
     "execution_count": 13,
     "metadata": {},
     "output_type": "execute_result"
    }
   ],
   "source": [
    "missing_zero_values_table(df)"
   ]
  },
  {
   "cell_type": "markdown",
   "metadata": {
    "id": "kirJk5wazwYP"
   },
   "source": [
    "Рассмотрим каждый признак с пропущенными значениями в отдельности"
   ]
  },
  {
   "cell_type": "code",
   "execution_count": 14,
   "metadata": {
    "colab": {
     "base_uri": "https://localhost:8080/"
    },
    "id": "8wMIeikpzwYP",
    "outputId": "64e4e67e-f55e-48e8-bb68-cdb7a876f3da"
   },
   "outputs": [
    {
     "data": {
      "text/plain": [
       "no     247161\n",
       "yes     36054\n",
       "Name: not_repaired, dtype: int64"
      ]
     },
     "execution_count": 14,
     "metadata": {},
     "output_type": "execute_result"
    }
   ],
   "source": [
    "df.not_repaired.value_counts()"
   ]
  },
  {
   "cell_type": "markdown",
   "metadata": {
    "id": "Y77X0mEXzwYR"
   },
   "source": [
    "Пропущенные данные о ремонте обозначим как \"no\""
   ]
  },
  {
   "cell_type": "code",
   "execution_count": 15,
   "metadata": {
    "colab": {
     "base_uri": "https://localhost:8080/"
    },
    "id": "KocpkFNzzwYR",
    "outputId": "b31010e3-6712-4d4b-a42e-df72f28d7b0d"
   },
   "outputs": [
    {
     "data": {
      "text/plain": [
       "no     318315\n",
       "yes     36054\n",
       "Name: not_repaired, dtype: int64"
      ]
     },
     "execution_count": 15,
     "metadata": {},
     "output_type": "execute_result"
    }
   ],
   "source": [
    "df.not_repaired = df.not_repaired.fillna('no')\n",
    "df.not_repaired.value_counts()"
   ]
  },
  {
   "cell_type": "code",
   "execution_count": 16,
   "metadata": {
    "colab": {
     "base_uri": "https://localhost:8080/"
    },
    "id": "_9bABROMzwYS",
    "outputId": "8284c71e-0cc2-4b7a-82bc-6d6205591dba"
   },
   "outputs": [
    {
     "data": {
      "text/plain": [
       "sedan          91457\n",
       "small          79831\n",
       "wagon          65166\n",
       "bus            28775\n",
       "convertible    20203\n",
       "coupe          16163\n",
       "suv            11996\n",
       "other           3288\n",
       "Name: vehicle_type, dtype: int64"
      ]
     },
     "execution_count": 16,
     "metadata": {},
     "output_type": "execute_result"
    }
   ],
   "source": [
    "df.vehicle_type.value_counts()"
   ]
  },
  {
   "cell_type": "markdown",
   "metadata": {
    "id": "eNPbcQz_zwYS"
   },
   "source": [
    "Пропущенные данные о типе ТС обозначим как \"other\""
   ]
  },
  {
   "cell_type": "code",
   "execution_count": 17,
   "metadata": {
    "colab": {
     "base_uri": "https://localhost:8080/"
    },
    "id": "DP_g6Gt0zwYT",
    "outputId": "de97b318-12a3-4dd7-822b-26a374d65803"
   },
   "outputs": [
    {
     "data": {
      "text/plain": [
       "sedan          91457\n",
       "small          79831\n",
       "wagon          65166\n",
       "other          40778\n",
       "bus            28775\n",
       "convertible    20203\n",
       "coupe          16163\n",
       "suv            11996\n",
       "Name: vehicle_type, dtype: int64"
      ]
     },
     "execution_count": 17,
     "metadata": {},
     "output_type": "execute_result"
    }
   ],
   "source": [
    "df.vehicle_type = df.vehicle_type.fillna('other')\n",
    "df.vehicle_type.value_counts()"
   ]
  },
  {
   "cell_type": "code",
   "execution_count": 18,
   "metadata": {
    "colab": {
     "base_uri": "https://localhost:8080/"
    },
    "id": "P3KVn3obzwYT",
    "outputId": "e5bbb2f6-26db-4b55-e003-8014e475a9be"
   },
   "outputs": [
    {
     "data": {
      "text/plain": [
       "petrol      216352\n",
       "gasoline     98720\n",
       "lpg           5310\n",
       "cng            565\n",
       "hybrid         233\n",
       "other          204\n",
       "electric        90\n",
       "Name: fuel_type, dtype: int64"
      ]
     },
     "execution_count": 18,
     "metadata": {},
     "output_type": "execute_result"
    }
   ],
   "source": [
    "df.fuel_type.value_counts()"
   ]
  },
  {
   "cell_type": "markdown",
   "metadata": {
    "id": "L6ak4xh3zwYU"
   },
   "source": [
    "Пропущенные данные о типе топлива обозначим как \"petrol\""
   ]
  },
  {
   "cell_type": "code",
   "execution_count": 19,
   "metadata": {
    "colab": {
     "base_uri": "https://localhost:8080/"
    },
    "id": "yKPqrRQSzwYU",
    "outputId": "23b4a181-47fd-45b6-b24d-4172805d7851"
   },
   "outputs": [
    {
     "data": {
      "text/plain": [
       "petrol      249247\n",
       "gasoline     98720\n",
       "lpg           5310\n",
       "cng            565\n",
       "hybrid         233\n",
       "other          204\n",
       "electric        90\n",
       "Name: fuel_type, dtype: int64"
      ]
     },
     "execution_count": 19,
     "metadata": {},
     "output_type": "execute_result"
    }
   ],
   "source": [
    "df.fuel_type = df.fuel_type.fillna('petrol')\n",
    "df.fuel_type.value_counts()"
   ]
  },
  {
   "cell_type": "code",
   "execution_count": 20,
   "metadata": {
    "colab": {
     "base_uri": "https://localhost:8080/"
    },
    "id": "JM6_1f4uzwYU",
    "outputId": "9a07ca87-86a5-4597-c451-572d190905b7"
   },
   "outputs": [
    {
     "data": {
      "text/plain": [
       "manual    268251\n",
       "auto       66285\n",
       "Name: gearbox, dtype: int64"
      ]
     },
     "execution_count": 20,
     "metadata": {},
     "output_type": "execute_result"
    }
   ],
   "source": [
    "df.gearbox.value_counts()"
   ]
  },
  {
   "cell_type": "code",
   "execution_count": 21,
   "metadata": {
    "colab": {
     "base_uri": "https://localhost:8080/"
    },
    "id": "6zROdk_yzwYV",
    "outputId": "c19b4cbf-2bf9-410c-cd92-c692e03a51ab"
   },
   "outputs": [
    {
     "data": {
      "text/plain": [
       "manual    288084\n",
       "auto       66285\n",
       "Name: gearbox, dtype: int64"
      ]
     },
     "execution_count": 21,
     "metadata": {},
     "output_type": "execute_result"
    }
   ],
   "source": [
    "df.gearbox = df.gearbox.fillna('manual')\n",
    "df.gearbox.value_counts()"
   ]
  },
  {
   "cell_type": "code",
   "execution_count": 22,
   "metadata": {
    "colab": {
     "base_uri": "https://localhost:8080/"
    },
    "id": "xtbL4PbjzwYV",
    "outputId": "e99a3df0-48d3-4e23-c2a6-e1b9e709387f"
   },
   "outputs": [
    {
     "data": {
      "text/plain": [
       "golf                  29232\n",
       "other                 24421\n",
       "3er                   19761\n",
       "polo                  13066\n",
       "corsa                 12570\n",
       "astra                 10809\n",
       "passat                10146\n",
       "a4                     9900\n",
       "c_klasse               8312\n",
       "5er                    7868\n",
       "e_klasse               6785\n",
       "a3                     6122\n",
       "focus                  5874\n",
       "fiesta                 5774\n",
       "a6                     5541\n",
       "twingo                 4953\n",
       "transporter            4822\n",
       "2_reihe                4816\n",
       "fortwo                 4337\n",
       "vectra                 4254\n",
       "a_klasse               4193\n",
       "mondeo                 3601\n",
       "clio                   3546\n",
       "1er                    3514\n",
       "3_reihe                3493\n",
       "touran                 3470\n",
       "punto                  3347\n",
       "zafira                 3044\n",
       "megane                 2910\n",
       "ka                     2702\n",
       "ibiza                  2702\n",
       "lupo                   2594\n",
       "octavia                2108\n",
       "fabia                  2080\n",
       "cooper                 1950\n",
       "clk                    1830\n",
       "micra                  1758\n",
       "80                     1604\n",
       "caddy                  1595\n",
       "x_reihe                1589\n",
       "sharan                 1483\n",
       "scenic                 1446\n",
       "omega                  1416\n",
       "laguna                 1364\n",
       "civic                  1347\n",
       "1_reihe                1306\n",
       "leon                   1304\n",
       "6_reihe                1278\n",
       "i_reihe                1226\n",
       "slk                    1223\n",
       "galaxy                 1156\n",
       "tt                     1076\n",
       "meriva                 1052\n",
       "yaris                  1033\n",
       "7er                    1017\n",
       "mx_reihe               1014\n",
       "kangoo                  958\n",
       "m_klasse                953\n",
       "500                     920\n",
       "escort                  905\n",
       "arosa                   899\n",
       "one                     897\n",
       "s_klasse                892\n",
       "vito                    879\n",
       "b_klasse                873\n",
       "bora                    872\n",
       "colt                    869\n",
       "berlingo                824\n",
       "beetle                  815\n",
       "tigra                   789\n",
       "v40                     775\n",
       "sprinter                774\n",
       "transit                 754\n",
       "fox                     744\n",
       "z_reihe                 717\n",
       "swift                   705\n",
       "c_max                   686\n",
       "corolla                 684\n",
       "panda                   676\n",
       "seicento                670\n",
       "tiguan                  662\n",
       "insignia                641\n",
       "4_reihe                 638\n",
       "v70                     633\n",
       "156                     629\n",
       "primera                 621\n",
       "espace                  616\n",
       "scirocco                605\n",
       "stilo                   603\n",
       "a1                      595\n",
       "touareg                 586\n",
       "almera                  584\n",
       "147                     572\n",
       "avensis                 565\n",
       "grand                   561\n",
       "a5                      545\n",
       "qashqai                 531\n",
       "a8                      529\n",
       "eos                     516\n",
       "c3                      506\n",
       "signum                  493\n",
       "c5                      490\n",
       "c4                      444\n",
       "matiz                   443\n",
       "kaefer                  442\n",
       "5_reihe                 442\n",
       "ducato                  435\n",
       "s_max                   432\n",
       "aygo                    430\n",
       "agila                   430\n",
       "getz                    422\n",
       "601                     419\n",
       "combo                   417\n",
       "100                     417\n",
       "carisma                 414\n",
       "sl                      403\n",
       "cordoba                 399\n",
       "c2                      395\n",
       "c1                      391\n",
       "forfour                 386\n",
       "rio                     377\n",
       "jetta                   375\n",
       "cuore                   374\n",
       "a2                      373\n",
       "altea                   372\n",
       "superb                  366\n",
       "kadett                  364\n",
       "picanto                 362\n",
       "alhambra                357\n",
       "accord                  351\n",
       "rav                     350\n",
       "up                      348\n",
       "cr_reihe                345\n",
       "toledo                  343\n",
       "voyager                 342\n",
       "sorento                 341\n",
       "bravo                   331\n",
       "doblo                   325\n",
       "logan                   322\n",
       "vivaro                  321\n",
       "modus                   321\n",
       "kuga                    320\n",
       "santa                   313\n",
       "verso                   309\n",
       "ptcruiser               308\n",
       "jazz                    302\n",
       "fusion                  300\n",
       "sandero                 295\n",
       "roomster                276\n",
       "carnival                273\n",
       "xc_reihe                267\n",
       "viano                   261\n",
       "galant                  257\n",
       "v50                     255\n",
       "ceed                    252\n",
       "sportage                248\n",
       "auris                   234\n",
       "cayenne                 232\n",
       "tucson                  231\n",
       "cl                      230\n",
       "impreza                 225\n",
       "lancer                  222\n",
       "boxster                 221\n",
       "freelander              218\n",
       "calibra                 217\n",
       "phaeton                 214\n",
       "159                     212\n",
       "jimny                   212\n",
       "850                     212\n",
       "ypsilon                 209\n",
       "x_trail                 208\n",
       "pajero                  208\n",
       "q7                      205\n",
       "duster                  204\n",
       "clubman                 201\n",
       "spider                  194\n",
       "c_reihe                 193\n",
       "roadster                181\n",
       "mustang                 177\n",
       "yeti                    174\n",
       "x_type                  173\n",
       "cherokee                169\n",
       "captiva                 168\n",
       "legacy                  160\n",
       "6er                     156\n",
       "v_klasse                151\n",
       "s60                     146\n",
       "300c                    145\n",
       "rx_reihe                142\n",
       "justy                   139\n",
       "sirion                  139\n",
       "cc                      137\n",
       "m_reihe                 132\n",
       "note                    130\n",
       "forester                130\n",
       "niva                    129\n",
       "s_type                  128\n",
       "spark                   125\n",
       "r19                     123\n",
       "outlander               123\n",
       "aveo                    117\n",
       "900                     116\n",
       "antara                  108\n",
       "wrangler                103\n",
       "90                      103\n",
       "juke                    102\n",
       "exeo                    100\n",
       "navara                   98\n",
       "q5                       97\n",
       "g_klasse                 97\n",
       "kalos                    95\n",
       "citigo                   91\n",
       "lanos                    89\n",
       "911                      84\n",
       "mii                      81\n",
       "discovery                79\n",
       "range_rover              77\n",
       "defender                 76\n",
       "cx_reihe                 66\n",
       "glk                      64\n",
       "crossfire                64\n",
       "nubira                   62\n",
       "move                     60\n",
       "lybra                    54\n",
       "range_rover_sport        54\n",
       "145                      49\n",
       "croma                    45\n",
       "v60                      42\n",
       "lodgy                    35\n",
       "delta                    35\n",
       "terios                   35\n",
       "9000                     31\n",
       "charade                  27\n",
       "b_max                    26\n",
       "musa                     25\n",
       "200                      18\n",
       "materia                  18\n",
       "amarok                   16\n",
       "kappa                    15\n",
       "q3                       15\n",
       "samara                   13\n",
       "gl                       13\n",
       "elefantino               11\n",
       "kalina                    9\n",
       "i3                        8\n",
       "serie_2                   8\n",
       "rangerover                4\n",
       "serie_3                   4\n",
       "range_rover_evoque        2\n",
       "serie_1                   2\n",
       "Name: model, dtype: int64"
      ]
     },
     "execution_count": 22,
     "metadata": {},
     "output_type": "execute_result"
    }
   ],
   "source": [
    "df.model.value_counts()"
   ]
  },
  {
   "cell_type": "code",
   "execution_count": 23,
   "metadata": {
    "colab": {
     "base_uri": "https://localhost:8080/"
    },
    "id": "kW9-UyF7zwYW",
    "outputId": "0808129a-a3f7-405f-e561-8bc18b588496"
   },
   "outputs": [
    {
     "data": {
      "text/plain": [
       "other                 44126\n",
       "golf                  29232\n",
       "3er                   19761\n",
       "polo                  13066\n",
       "corsa                 12570\n",
       "astra                 10809\n",
       "passat                10146\n",
       "a4                     9900\n",
       "c_klasse               8312\n",
       "5er                    7868\n",
       "e_klasse               6785\n",
       "a3                     6122\n",
       "focus                  5874\n",
       "fiesta                 5774\n",
       "a6                     5541\n",
       "twingo                 4953\n",
       "transporter            4822\n",
       "2_reihe                4816\n",
       "fortwo                 4337\n",
       "vectra                 4254\n",
       "a_klasse               4193\n",
       "mondeo                 3601\n",
       "clio                   3546\n",
       "1er                    3514\n",
       "3_reihe                3493\n",
       "touran                 3470\n",
       "punto                  3347\n",
       "zafira                 3044\n",
       "megane                 2910\n",
       "ka                     2702\n",
       "ibiza                  2702\n",
       "lupo                   2594\n",
       "octavia                2108\n",
       "fabia                  2080\n",
       "cooper                 1950\n",
       "clk                    1830\n",
       "micra                  1758\n",
       "80                     1604\n",
       "caddy                  1595\n",
       "x_reihe                1589\n",
       "sharan                 1483\n",
       "scenic                 1446\n",
       "omega                  1416\n",
       "laguna                 1364\n",
       "civic                  1347\n",
       "1_reihe                1306\n",
       "leon                   1304\n",
       "6_reihe                1278\n",
       "i_reihe                1226\n",
       "slk                    1223\n",
       "galaxy                 1156\n",
       "tt                     1076\n",
       "meriva                 1052\n",
       "yaris                  1033\n",
       "7er                    1017\n",
       "mx_reihe               1014\n",
       "kangoo                  958\n",
       "m_klasse                953\n",
       "500                     920\n",
       "escort                  905\n",
       "arosa                   899\n",
       "one                     897\n",
       "s_klasse                892\n",
       "vito                    879\n",
       "b_klasse                873\n",
       "bora                    872\n",
       "colt                    869\n",
       "berlingo                824\n",
       "beetle                  815\n",
       "tigra                   789\n",
       "v40                     775\n",
       "sprinter                774\n",
       "transit                 754\n",
       "fox                     744\n",
       "z_reihe                 717\n",
       "swift                   705\n",
       "c_max                   686\n",
       "corolla                 684\n",
       "panda                   676\n",
       "seicento                670\n",
       "tiguan                  662\n",
       "insignia                641\n",
       "4_reihe                 638\n",
       "v70                     633\n",
       "156                     629\n",
       "primera                 621\n",
       "espace                  616\n",
       "scirocco                605\n",
       "stilo                   603\n",
       "a1                      595\n",
       "touareg                 586\n",
       "almera                  584\n",
       "147                     572\n",
       "avensis                 565\n",
       "grand                   561\n",
       "a5                      545\n",
       "qashqai                 531\n",
       "a8                      529\n",
       "eos                     516\n",
       "c3                      506\n",
       "signum                  493\n",
       "c5                      490\n",
       "c4                      444\n",
       "matiz                   443\n",
       "kaefer                  442\n",
       "5_reihe                 442\n",
       "ducato                  435\n",
       "s_max                   432\n",
       "aygo                    430\n",
       "agila                   430\n",
       "getz                    422\n",
       "601                     419\n",
       "combo                   417\n",
       "100                     417\n",
       "carisma                 414\n",
       "sl                      403\n",
       "cordoba                 399\n",
       "c2                      395\n",
       "c1                      391\n",
       "forfour                 386\n",
       "rio                     377\n",
       "jetta                   375\n",
       "cuore                   374\n",
       "a2                      373\n",
       "altea                   372\n",
       "superb                  366\n",
       "kadett                  364\n",
       "picanto                 362\n",
       "alhambra                357\n",
       "accord                  351\n",
       "rav                     350\n",
       "up                      348\n",
       "cr_reihe                345\n",
       "toledo                  343\n",
       "voyager                 342\n",
       "sorento                 341\n",
       "bravo                   331\n",
       "doblo                   325\n",
       "logan                   322\n",
       "vivaro                  321\n",
       "modus                   321\n",
       "kuga                    320\n",
       "santa                   313\n",
       "verso                   309\n",
       "ptcruiser               308\n",
       "jazz                    302\n",
       "fusion                  300\n",
       "sandero                 295\n",
       "roomster                276\n",
       "carnival                273\n",
       "xc_reihe                267\n",
       "viano                   261\n",
       "galant                  257\n",
       "v50                     255\n",
       "ceed                    252\n",
       "sportage                248\n",
       "auris                   234\n",
       "cayenne                 232\n",
       "tucson                  231\n",
       "cl                      230\n",
       "impreza                 225\n",
       "lancer                  222\n",
       "boxster                 221\n",
       "freelander              218\n",
       "calibra                 217\n",
       "phaeton                 214\n",
       "159                     212\n",
       "jimny                   212\n",
       "850                     212\n",
       "ypsilon                 209\n",
       "x_trail                 208\n",
       "pajero                  208\n",
       "q7                      205\n",
       "duster                  204\n",
       "clubman                 201\n",
       "spider                  194\n",
       "c_reihe                 193\n",
       "roadster                181\n",
       "mustang                 177\n",
       "yeti                    174\n",
       "x_type                  173\n",
       "cherokee                169\n",
       "captiva                 168\n",
       "legacy                  160\n",
       "6er                     156\n",
       "v_klasse                151\n",
       "s60                     146\n",
       "300c                    145\n",
       "rx_reihe                142\n",
       "justy                   139\n",
       "sirion                  139\n",
       "cc                      137\n",
       "m_reihe                 132\n",
       "note                    130\n",
       "forester                130\n",
       "niva                    129\n",
       "s_type                  128\n",
       "spark                   125\n",
       "r19                     123\n",
       "outlander               123\n",
       "aveo                    117\n",
       "900                     116\n",
       "antara                  108\n",
       "wrangler                103\n",
       "90                      103\n",
       "juke                    102\n",
       "exeo                    100\n",
       "navara                   98\n",
       "q5                       97\n",
       "g_klasse                 97\n",
       "kalos                    95\n",
       "citigo                   91\n",
       "lanos                    89\n",
       "911                      84\n",
       "mii                      81\n",
       "discovery                79\n",
       "range_rover              77\n",
       "defender                 76\n",
       "cx_reihe                 66\n",
       "glk                      64\n",
       "crossfire                64\n",
       "nubira                   62\n",
       "move                     60\n",
       "lybra                    54\n",
       "range_rover_sport        54\n",
       "145                      49\n",
       "croma                    45\n",
       "v60                      42\n",
       "lodgy                    35\n",
       "delta                    35\n",
       "terios                   35\n",
       "9000                     31\n",
       "charade                  27\n",
       "b_max                    26\n",
       "musa                     25\n",
       "200                      18\n",
       "materia                  18\n",
       "amarok                   16\n",
       "kappa                    15\n",
       "q3                       15\n",
       "samara                   13\n",
       "gl                       13\n",
       "elefantino               11\n",
       "kalina                    9\n",
       "i3                        8\n",
       "serie_2                   8\n",
       "rangerover                4\n",
       "serie_3                   4\n",
       "range_rover_evoque        2\n",
       "serie_1                   2\n",
       "Name: model, dtype: int64"
      ]
     },
     "execution_count": 23,
     "metadata": {},
     "output_type": "execute_result"
    }
   ],
   "source": [
    "df.model = df.model.fillna('other')\n",
    "df.model.value_counts()"
   ]
  },
  {
   "cell_type": "code",
   "execution_count": 24,
   "metadata": {
    "colab": {
     "base_uri": "https://localhost:8080/"
    },
    "id": "3CsbNbsNzwYW",
    "outputId": "1d88dc95-10ed-46f6-f296-02fd99644c5f"
   },
   "outputs": [
    {
     "data": {
      "text/plain": [
       "250"
      ]
     },
     "execution_count": 24,
     "metadata": {},
     "output_type": "execute_result"
    }
   ],
   "source": [
    "df.model.nunique()"
   ]
  },
  {
   "cell_type": "code",
   "execution_count": 25,
   "metadata": {
    "colab": {
     "base_uri": "https://localhost:8080/"
    },
    "id": "Trc_ASbX1Z-t",
    "outputId": "701a7a7a-5ecd-409e-a355-969f2e8b09e0"
   },
   "outputs": [
    {
     "data": {
      "text/plain": [
       "date_crawled          0\n",
       "price                 0\n",
       "vehicle_type          0\n",
       "registration_year     0\n",
       "gearbox               0\n",
       "power                 0\n",
       "model                 0\n",
       "kilometer             0\n",
       "registration_month    0\n",
       "fuel_type             0\n",
       "brand                 0\n",
       "not_repaired          0\n",
       "date_created          0\n",
       "number_of_pictures    0\n",
       "postal_code           0\n",
       "last_seen             0\n",
       "dtype: int64"
      ]
     },
     "execution_count": 25,
     "metadata": {},
     "output_type": "execute_result"
    }
   ],
   "source": [
    "df.isnull().sum()"
   ]
  },
  {
   "cell_type": "code",
   "execution_count": 26,
   "metadata": {
    "id": "hiMny5T71mS2"
   },
   "outputs": [],
   "source": [
    "df = df.dropna()"
   ]
  },
  {
   "cell_type": "code",
   "execution_count": 27,
   "metadata": {
    "colab": {
     "base_uri": "https://localhost:8080/"
    },
    "id": "95KF1uKI1q5G",
    "outputId": "00b5c9a7-ba5f-4499-f3ab-83d3356e23fb"
   },
   "outputs": [
    {
     "data": {
      "text/plain": [
       "date_crawled          0\n",
       "price                 0\n",
       "vehicle_type          0\n",
       "registration_year     0\n",
       "gearbox               0\n",
       "power                 0\n",
       "model                 0\n",
       "kilometer             0\n",
       "registration_month    0\n",
       "fuel_type             0\n",
       "brand                 0\n",
       "not_repaired          0\n",
       "date_created          0\n",
       "number_of_pictures    0\n",
       "postal_code           0\n",
       "last_seen             0\n",
       "dtype: int64"
      ]
     },
     "execution_count": 27,
     "metadata": {},
     "output_type": "execute_result"
    }
   ],
   "source": [
    "df.isnull().sum()"
   ]
  },
  {
   "cell_type": "markdown",
   "metadata": {
    "id": "_TMCvyfsQqD6"
   },
   "source": [
    "Проверим количество объектов с отсутствующей ценой"
   ]
  },
  {
   "cell_type": "code",
   "execution_count": 28,
   "metadata": {
    "colab": {
     "base_uri": "https://localhost:8080/"
    },
    "id": "v5li4v1KQpMT",
    "outputId": "fe9d7802-ff0f-4181-edac-93d1b2c363c3"
   },
   "outputs": [
    {
     "data": {
      "text/plain": [
       "date_crawled          3.039769\n",
       "price                 3.039769\n",
       "vehicle_type          3.039769\n",
       "registration_year     3.039769\n",
       "gearbox               3.039769\n",
       "power                 3.039769\n",
       "model                 3.039769\n",
       "kilometer             3.039769\n",
       "registration_month    3.039769\n",
       "fuel_type             3.039769\n",
       "brand                 3.039769\n",
       "not_repaired          3.039769\n",
       "date_created          3.039769\n",
       "number_of_pictures    3.039769\n",
       "postal_code           3.039769\n",
       "last_seen             3.039769\n",
       "dtype: float64"
      ]
     },
     "execution_count": 28,
     "metadata": {},
     "output_type": "execute_result"
    }
   ],
   "source": [
    "df[df['price']==0].count() / df.shape[0] * 100"
   ]
  },
  {
   "cell_type": "markdown",
   "metadata": {
    "id": "SIX-SdAnQ6dV"
   },
   "source": [
    "Удалим эти данные"
   ]
  },
  {
   "cell_type": "code",
   "execution_count": 29,
   "metadata": {
    "id": "4U4h8QmaQwxK"
   },
   "outputs": [],
   "source": [
    "df = df[df['price']!=0]"
   ]
  },
  {
   "cell_type": "markdown",
   "metadata": {
    "id": "tA-gB6E2zwYW"
   },
   "source": [
    "Вывод: загрузили данные, заменили пропуски"
   ]
  },
  {
   "cell_type": "markdown",
   "metadata": {
    "id": "Hexlx8IszwYX"
   },
   "source": [
    "## Обучение моделей"
   ]
  },
  {
   "cell_type": "markdown",
   "metadata": {
    "id": "YNW8de05zwYX"
   },
   "source": [
    "Подготовим данные, разделим выборку на обучающую и валидационную, выделим признаки и целевой признак"
   ]
  },
  {
   "cell_type": "code",
   "execution_count": 30,
   "metadata": {
    "id": "p1_xKeidzwYZ"
   },
   "outputs": [],
   "source": [
    "df_clear = df.drop(['date_crawled', 'date_created', 'last_seen'], axis=1)  \n",
    "df_ohe = pd.get_dummies(df_clear, drop_first=True)\n",
    "features_train, features_valid, target_train, target_valid = train_test_split(\n",
    "    df_ohe.drop(['price'], axis=1), df_ohe.price, test_size=0.2, random_state=12345)"
   ]
  },
  {
   "cell_type": "markdown",
   "metadata": {
    "id": "5UgaNPDFL5J-"
   },
   "source": [
    "### LinearRegression"
   ]
  },
  {
   "cell_type": "code",
   "execution_count": 31,
   "metadata": {
    "colab": {
     "base_uri": "https://localhost:8080/"
    },
    "id": "BXFR7TOuzwYa",
    "outputId": "735a89a2-58a5-48b2-d7e6-2fd0d7c17616"
   },
   "outputs": [
    {
     "name": "stdout",
     "output_type": "stream",
     "text": [
      "CPU times: user 18.1 s, sys: 15.7 s, total: 33.8 s\n",
      "Wall time: 33.8 s\n"
     ]
    },
    {
     "data": {
      "text/plain": [
       "LinearRegression()"
      ]
     },
     "execution_count": 31,
     "metadata": {},
     "output_type": "execute_result"
    }
   ],
   "source": [
    "%%time\n",
    "1 + 1\n",
    "model = LinearRegression()\n",
    "model.fit(features_train, target_train)"
   ]
  },
  {
   "cell_type": "code",
   "execution_count": 32,
   "metadata": {
    "colab": {
     "base_uri": "https://localhost:8080/"
    },
    "id": "_T6XpfkvzwYb",
    "outputId": "199d90a8-0c22-434e-acf1-6ce92c8714aa"
   },
   "outputs": [
    {
     "name": "stdout",
     "output_type": "stream",
     "text": [
      "RMSE на обучающей выборке:  3160.52\n",
      "RMSE на валидационной выборке:  3165.52\n"
     ]
    }
   ],
   "source": [
    "predictions_train = model.predict(features_train) #предсказания на обучающей выборке\n",
    "predictions_valid = model.predict(features_valid) #предсказания на валидационной выборке\n",
    "print(\"RMSE на обучающей выборке: \", round(mean_squared_error(target_train, predictions_train) ** 0.5, 2)) \n",
    "print(\"RMSE на валидационной выборке: \", round(mean_squared_error(target_valid, predictions_valid) ** 0.5, 2))"
   ]
  },
  {
   "cell_type": "markdown",
   "metadata": {
    "id": "oDjp2LfcGYTn"
   },
   "source": [
    "Вычислим MSE и RMSE для константной модели: каждому объекту она прогнозирует среднее значение целевого признака"
   ]
  },
  {
   "cell_type": "code",
   "execution_count": 33,
   "metadata": {
    "colab": {
     "base_uri": "https://localhost:8080/"
    },
    "id": "gcMBXcTLGajn",
    "outputId": "a88cc131-a98b-40da-8f74-e4c7fa5dfce2"
   },
   "outputs": [
    {
     "name": "stdout",
     "output_type": "stream",
     "text": [
      "RMSE на валидационной выборке:  4523.1\n"
     ]
    }
   ],
   "source": [
    "predictions_valid = pd.Series(target_train.mean(), index=target_valid.index)\n",
    "print(\"RMSE на валидационной выборке: \", round(mean_squared_error(target_valid, predictions_valid) ** 0.5 , 2) )"
   ]
  },
  {
   "cell_type": "markdown",
   "metadata": {
    "id": "8n3yskdAYDiN"
   },
   "source": [
    "**Вывод** модель линейной регрессии показало лучший результат чем дамми модель со средним значением целевого признака. "
   ]
  },
  {
   "cell_type": "markdown",
   "metadata": {
    "id": "d3AIv2ZJ97EH"
   },
   "source": [
    "### LightGBM"
   ]
  },
  {
   "cell_type": "code",
   "execution_count": 34,
   "metadata": {
    "id": "-J57cPKubbvs"
   },
   "outputs": [],
   "source": [
    "lgb_train = lgb.Dataset(features_train, target_train)\n",
    "lgb_test = lgb.Dataset(features_valid, target_valid, reference=lgb_train)"
   ]
  },
  {
   "cell_type": "code",
   "execution_count": 35,
   "metadata": {
    "scrolled": false
   },
   "outputs": [
    {
     "name": "stdout",
     "output_type": "stream",
     "text": [
      "[LightGBM] [Warning] num_iterations is set=1000, num_boost_round=1000 will be ignored. Current value: num_iterations=1000\n",
      "[LightGBM] [Warning] lambda_l2 is set=0, reg_lambda=0.0 will be ignored. Current value: lambda_l2=0\n",
      "[LightGBM] [Warning] num_iterations is set=1000, num_boost_round=1000 will be ignored. Current value: num_iterations=1000\n",
      "[LightGBM] [Warning] lambda_l2 is set=0, reg_lambda=0.0 will be ignored. Current value: lambda_l2=0\n",
      "[LightGBM] [Warning] num_iterations is set=1000, num_boost_round=1000 will be ignored. Current value: num_iterations=1000\n",
      "[LightGBM] [Warning] lambda_l2 is set=0, reg_lambda=0.0 will be ignored. Current value: lambda_l2=0\n",
      "[LightGBM] [Warning] num_iterations is set=1000, num_boost_round=1000 will be ignored. Current value: num_iterations=1000\n",
      "[LightGBM] [Warning] lambda_l2 is set=0, reg_lambda=0.0 will be ignored. Current value: lambda_l2=0\n",
      "[LightGBM] [Warning] num_iterations is set=1000, num_boost_round=1000 will be ignored. Current value: num_iterations=1000\n",
      "[LightGBM] [Warning] lambda_l2 is set=0, reg_lambda=0.0 will be ignored. Current value: lambda_l2=0\n",
      "[LightGBM] [Warning] num_iterations is set=1000, num_boost_round=1000 will be ignored. Current value: num_iterations=1000\n",
      "[LightGBM] [Warning] lambda_l2 is set=0, reg_lambda=0.0 will be ignored. Current value: lambda_l2=0\n",
      "[LightGBM] [Warning] num_iterations is set=1000, num_boost_round=1000 will be ignored. Current value: num_iterations=1000\n",
      "[LightGBM] [Warning] lambda_l2 is set=0, reg_lambda=0.0 will be ignored. Current value: lambda_l2=0\n",
      "[LightGBM] [Warning] num_iterations is set=1000, num_boost_round=1000 will be ignored. Current value: num_iterations=1000\n",
      "[LightGBM] [Warning] lambda_l2 is set=0, reg_lambda=0.0 will be ignored. Current value: lambda_l2=0\n",
      "[LightGBM] [Warning] num_iterations is set=1000, num_boost_round=1000 will be ignored. Current value: num_iterations=1000\n",
      "[LightGBM] [Warning] lambda_l2 is set=0, reg_lambda=0.0 will be ignored. Current value: lambda_l2=0\n",
      "[LightGBM] [Warning] num_iterations is set=1000, num_boost_round=1000 will be ignored. Current value: num_iterations=1000\n",
      "[LightGBM] [Warning] lambda_l2 is set=0, reg_lambda=0.0 will be ignored. Current value: lambda_l2=0\n",
      "[LightGBM] [Warning] num_iterations is set=1000, num_boost_round=1000 will be ignored. Current value: num_iterations=1000\n",
      "[LightGBM] [Warning] lambda_l2 is set=0, reg_lambda=0.0 will be ignored. Current value: lambda_l2=0\n",
      "[LightGBM] [Warning] num_iterations is set=1000, num_boost_round=1000 will be ignored. Current value: num_iterations=1000\n",
      "[LightGBM] [Warning] lambda_l2 is set=0, reg_lambda=0.0 will be ignored. Current value: lambda_l2=0\n",
      "[LightGBM] [Warning] num_iterations is set=1000, num_boost_round=1000 will be ignored. Current value: num_iterations=1000\n",
      "[LightGBM] [Warning] lambda_l2 is set=0, reg_lambda=0.0 will be ignored. Current value: lambda_l2=0\n",
      "[LightGBM] [Warning] num_iterations is set=1000, num_boost_round=1000 will be ignored. Current value: num_iterations=1000\n",
      "[LightGBM] [Warning] lambda_l2 is set=0, reg_lambda=0.0 will be ignored. Current value: lambda_l2=0\n",
      "[LightGBM] [Warning] num_iterations is set=1000, num_boost_round=1000 will be ignored. Current value: num_iterations=1000\n",
      "[LightGBM] [Warning] lambda_l2 is set=0, reg_lambda=0.0 will be ignored. Current value: lambda_l2=0\n",
      "[LightGBM] [Warning] num_iterations is set=1000, num_boost_round=1000 will be ignored. Current value: num_iterations=1000\n",
      "[LightGBM] [Warning] lambda_l2 is set=0, reg_lambda=0.0 will be ignored. Current value: lambda_l2=0\n",
      "[LightGBM] [Warning] num_iterations is set=1000, num_boost_round=1000 will be ignored. Current value: num_iterations=1000\n",
      "[LightGBM] [Warning] lambda_l2 is set=0, reg_lambda=0.0 will be ignored. Current value: lambda_l2=0\n",
      "[LightGBM] [Warning] num_iterations is set=1000, num_boost_round=1000 will be ignored. Current value: num_iterations=1000\n",
      "[LightGBM] [Warning] lambda_l2 is set=0, reg_lambda=0.0 will be ignored. Current value: lambda_l2=0\n",
      "[LightGBM] [Warning] num_iterations is set=1000, num_boost_round=1000 will be ignored. Current value: num_iterations=1000\n",
      "[LightGBM] [Warning] lambda_l2 is set=0, reg_lambda=0.0 will be ignored. Current value: lambda_l2=0\n",
      "[LightGBM] [Warning] num_iterations is set=1000, num_boost_round=1000 will be ignored. Current value: num_iterations=1000\n",
      "[LightGBM] [Warning] lambda_l2 is set=0, reg_lambda=0.0 will be ignored. Current value: lambda_l2=0\n",
      "[LightGBM] [Warning] num_iterations is set=1000, num_boost_round=1000 will be ignored. Current value: num_iterations=1000\n",
      "[LightGBM] [Warning] lambda_l2 is set=1, reg_lambda=0.0 will be ignored. Current value: lambda_l2=1\n",
      "[LightGBM] [Warning] num_iterations is set=1000, num_boost_round=1000 will be ignored. Current value: num_iterations=1000\n",
      "[LightGBM] [Warning] lambda_l2 is set=1, reg_lambda=0.0 will be ignored. Current value: lambda_l2=1\n",
      "[LightGBM] [Warning] num_iterations is set=1000, num_boost_round=1000 will be ignored. Current value: num_iterations=1000\n",
      "[LightGBM] [Warning] lambda_l2 is set=1, reg_lambda=0.0 will be ignored. Current value: lambda_l2=1\n",
      "[LightGBM] [Warning] num_iterations is set=1000, num_boost_round=1000 will be ignored. Current value: num_iterations=1000\n",
      "[LightGBM] [Warning] lambda_l2 is set=1, reg_lambda=0.0 will be ignored. Current value: lambda_l2=1\n",
      "[LightGBM] [Warning] num_iterations is set=1000, num_boost_round=1000 will be ignored. Current value: num_iterations=1000\n",
      "[LightGBM] [Warning] lambda_l2 is set=1, reg_lambda=0.0 will be ignored. Current value: lambda_l2=1\n",
      "[LightGBM] [Warning] num_iterations is set=1000, num_boost_round=1000 will be ignored. Current value: num_iterations=1000\n",
      "[LightGBM] [Warning] lambda_l2 is set=1, reg_lambda=0.0 will be ignored. Current value: lambda_l2=1\n",
      "[LightGBM] [Warning] num_iterations is set=1000, num_boost_round=1000 will be ignored. Current value: num_iterations=1000\n",
      "[LightGBM] [Warning] lambda_l2 is set=1, reg_lambda=0.0 will be ignored. Current value: lambda_l2=1\n",
      "[LightGBM] [Warning] num_iterations is set=1000, num_boost_round=1000 will be ignored. Current value: num_iterations=1000\n",
      "[LightGBM] [Warning] lambda_l2 is set=1, reg_lambda=0.0 will be ignored. Current value: lambda_l2=1\n",
      "[LightGBM] [Warning] num_iterations is set=1000, num_boost_round=1000 will be ignored. Current value: num_iterations=1000\n",
      "[LightGBM] [Warning] lambda_l2 is set=1, reg_lambda=0.0 will be ignored. Current value: lambda_l2=1\n",
      "[LightGBM] [Warning] num_iterations is set=1000, num_boost_round=1000 will be ignored. Current value: num_iterations=1000\n",
      "[LightGBM] [Warning] lambda_l2 is set=1, reg_lambda=0.0 will be ignored. Current value: lambda_l2=1\n",
      "[LightGBM] [Warning] num_iterations is set=1000, num_boost_round=1000 will be ignored. Current value: num_iterations=1000\n",
      "[LightGBM] [Warning] lambda_l2 is set=1, reg_lambda=0.0 will be ignored. Current value: lambda_l2=1\n",
      "[LightGBM] [Warning] num_iterations is set=1000, num_boost_round=1000 will be ignored. Current value: num_iterations=1000\n",
      "[LightGBM] [Warning] lambda_l2 is set=1, reg_lambda=0.0 will be ignored. Current value: lambda_l2=1\n",
      "[LightGBM] [Warning] num_iterations is set=1000, num_boost_round=1000 will be ignored. Current value: num_iterations=1000\n",
      "[LightGBM] [Warning] lambda_l2 is set=1, reg_lambda=0.0 will be ignored. Current value: lambda_l2=1\n",
      "[LightGBM] [Warning] num_iterations is set=1000, num_boost_round=1000 will be ignored. Current value: num_iterations=1000\n",
      "[LightGBM] [Warning] lambda_l2 is set=1, reg_lambda=0.0 will be ignored. Current value: lambda_l2=1\n",
      "[LightGBM] [Warning] num_iterations is set=1000, num_boost_round=1000 will be ignored. Current value: num_iterations=1000\n",
      "[LightGBM] [Warning] lambda_l2 is set=1, reg_lambda=0.0 will be ignored. Current value: lambda_l2=1\n",
      "[LightGBM] [Warning] num_iterations is set=1000, num_boost_round=1000 will be ignored. Current value: num_iterations=1000\n",
      "[LightGBM] [Warning] lambda_l2 is set=1, reg_lambda=0.0 will be ignored. Current value: lambda_l2=1\n",
      "[LightGBM] [Warning] num_iterations is set=1000, num_boost_round=1000 will be ignored. Current value: num_iterations=1000\n",
      "[LightGBM] [Warning] lambda_l2 is set=1, reg_lambda=0.0 will be ignored. Current value: lambda_l2=1\n",
      "[LightGBM] [Warning] num_iterations is set=1000, num_boost_round=1000 will be ignored. Current value: num_iterations=1000\n",
      "[LightGBM] [Warning] lambda_l2 is set=1, reg_lambda=0.0 will be ignored. Current value: lambda_l2=1\n",
      "[LightGBM] [Warning] num_iterations is set=1000, num_boost_round=1000 will be ignored. Current value: num_iterations=1000\n",
      "[LightGBM] [Warning] lambda_l2 is set=1, reg_lambda=0.0 will be ignored. Current value: lambda_l2=1\n",
      "[LightGBM] [Warning] num_iterations is set=1000, num_boost_round=1000 will be ignored. Current value: num_iterations=1000\n",
      "[LightGBM] [Warning] lambda_l2 is set=1, reg_lambda=0.0 will be ignored. Current value: lambda_l2=1\n",
      "[LightGBM] [Warning] num_iterations is set=1000, num_boost_round=1000 will be ignored. Current value: num_iterations=1000\n",
      "[LightGBM] [Warning] lambda_l2 is set=0, reg_lambda=0.0 will be ignored. Current value: lambda_l2=0\n",
      "{'lambda_l2': 0, 'num_leaves': 31, 'reg_alpha': 0.1} -1.0185036199050248\n",
      "CPU times: user 1min 25s, sys: 15.8 s, total: 1min 40s\n",
      "Wall time: 1min 41s\n"
     ]
    }
   ],
   "source": [
    "%%time\n",
    "1 + 1\n",
    "gkf = KFold(n_splits=5, shuffle=True, random_state=42).split(X=features_train, y=target_train)\n",
    "\n",
    "param_grid = {\n",
    "    'num_leaves': [31, 37],\n",
    "    'reg_alpha': [0.1, 0.2],\n",
    "    'lambda_l2': [0, 1]\n",
    "    }\n",
    "\n",
    "lgb_estimator = lgb.LGBMRegressor(boosting_type='gbdt', \n",
    "                                   objective='binary', \n",
    "                                   num_boost_round=1000,\n",
    "                                   learning_rate=0.01, \n",
    "                                   metric=['l1', 'l2']\n",
    "                                  )\n",
    "\n",
    "gsearch = GridSearchCV(estimator=lgb_estimator, param_grid=param_grid, cv=gkf)\n",
    "\n",
    "lgb_model = gsearch.fit(X=features_train, y=target_train)\n",
    "\n",
    "print(lgb_model.best_params_, lgb_model.best_score_)\n"
   ]
  },
  {
   "cell_type": "code",
   "execution_count": 36,
   "metadata": {
    "id": "vEflpUq4bb1f"
   },
   "outputs": [],
   "source": [
    "params = {\n",
    "    'verbose': -1,\n",
    "    'num_leaves': 31, \n",
    "    'reg_alpha': 0.1,\n",
    "    'lambda_l2': 0\n",
    "}"
   ]
  },
  {
   "cell_type": "code",
   "execution_count": 37,
   "metadata": {
    "colab": {
     "base_uri": "https://localhost:8080/"
    },
    "id": "2CbJ3nf5bb6i",
    "outputId": "c5eea93c-44ab-48ce-e9a7-609cc49b4d96"
   },
   "outputs": [
    {
     "name": "stdout",
     "output_type": "stream",
     "text": [
      "CPU times: user 30.3 s, sys: 424 ms, total: 30.7 s\n",
      "Wall time: 30.9 s\n"
     ]
    }
   ],
   "source": [
    "%%time\n",
    "1 + 1\n",
    "\n",
    "evals_result = {}  \n",
    "gbm = lgb.train(params,\n",
    "                lgb_train,\n",
    "                num_boost_round=1000,\n",
    "                valid_sets=[lgb_train, lgb_test],\n",
    "                feature_name=[f'f{i + 1}' for i in range(features_train.shape[-1])],\n",
    "                evals_result=evals_result,\n",
    "                verbose_eval=0)"
   ]
  },
  {
   "cell_type": "code",
   "execution_count": 38,
   "metadata": {
    "colab": {
     "base_uri": "https://localhost:8080/"
    },
    "id": "b8XtLxupbb-2",
    "outputId": "0571a48a-57e8-48d5-fcb6-3da16b930b98"
   },
   "outputs": [
    {
     "name": "stdout",
     "output_type": "stream",
     "text": [
      "RMSE на обучающей выборке:  1482.2\n",
      "RMSE на валидационной выборке:  1605.24\n"
     ]
    }
   ],
   "source": [
    "predictions_train = gbm.predict(features_train)  # предсказания на обучающей выборке\n",
    "predictions_valid = gbm.predict(features_valid)  # предсказания на валидационной выборке\n",
    "print(\"RMSE на обучающей выборке: \", round(mean_squared_error(target_train, predictions_train) ** 0.5, 2)) \n",
    "print(\"RMSE на валидационной выборке: \", round(mean_squared_error(target_valid, predictions_valid) ** 0.5, 2))"
   ]
  },
  {
   "cell_type": "markdown",
   "metadata": {},
   "source": [
    "Посмотрим на важность признаков"
   ]
  },
  {
   "cell_type": "code",
   "execution_count": 39,
   "metadata": {
    "id": "3LMgjgpYqRKC"
   },
   "outputs": [],
   "source": [
    "def plotImp(model, X , num = 20, fig_size = (40, 20)):\n",
    "    feature_imp = pd.DataFrame({'Value':model.feature_importance(),'Feature':X.columns})\n",
    "    plt.figure(figsize=fig_size)\n",
    "    sns.set(font_scale = 5)\n",
    "    sns.barplot(x=\"Value\", y=\"Feature\", data=feature_imp.sort_values(by=\"Value\", \n",
    "                                                        ascending=False)[0:num])\n",
    "    plt.title('LightGBM Features (avg over folds)')\n",
    "    plt.tight_layout()\n",
    "    plt.savefig('lgbm_importances-01.png')\n",
    "    plt.show()"
   ]
  },
  {
   "cell_type": "code",
   "execution_count": 40,
   "metadata": {
    "colab": {
     "base_uri": "https://localhost:8080/",
     "height": 536
    },
    "id": "uXELhqqvqZ4Q",
    "outputId": "585320f9-2dd3-4e39-be79-bfca21dc0da6"
   },
   "outputs": [
    {
     "data": {
      "image/png": "[encoded data removed]",
      "text/plain": [
       "<Figure size 2880x1440 with 1 Axes>"
      ]
     },
     "metadata": {
      "needs_background": "light"
     },
     "output_type": "display_data"
    }
   ],
   "source": [
    "plotImp(gbm, features_train)"
   ]
  },
  {
   "cell_type": "markdown",
   "metadata": {
    "id": "clXkWQIwakco"
   },
   "source": [
    "**Вывод** RMSE ниже чем при линейной регрессии, время обучения почти в 2 раза дольше."
   ]
  },
  {
   "cell_type": "markdown",
   "metadata": {
    "id": "toRtxTFZfX4L"
   },
   "source": [
    "### CatBoostRegressor"
   ]
  },
  {
   "cell_type": "code",
   "execution_count": 41,
   "metadata": {
    "id": "V5MJU6lCzwYX"
   },
   "outputs": [],
   "source": [
    "features_train, features_valid, target_train, target_valid = train_test_split(\n",
    "    df.drop(['price', 'date_crawled', 'date_created', 'last_seen'], axis=1), df.price, test_size=0.2, random_state=12345)"
   ]
  },
  {
   "cell_type": "code",
   "execution_count": 42,
   "metadata": {
    "colab": {
     "base_uri": "https://localhost:8080/"
    },
    "id": "yDUKjikozwYY",
    "outputId": "9d4ce04a-4b19-4c43-b880-ee2c3776c2be"
   },
   "outputs": [
    {
     "name": "stdout",
     "output_type": "stream",
     "text": [
      "CPU times: user 55.2 s, sys: 585 ms, total: 55.8 s\n",
      "Wall time: 56.3 s\n"
     ]
    },
    {
     "data": {
      "text/plain": [
       "<catboost.core.CatBoostRegressor at 0x7ff99cc8f280>"
      ]
     },
     "execution_count": 42,
     "metadata": {},
     "output_type": "execute_result"
    }
   ],
   "source": [
    "%%time\n",
    "1 + 1\n",
    "cat_features = ['vehicle_type', 'gearbox', 'model',\n",
    "                'fuel_type', 'brand', 'not_repaired', 'postal_code', 'registration_year']\n",
    "\n",
    "cbr = CatBoostRegressor(loss_function=\"RMSE\", iterations=200, random_seed = 12345)\n",
    "\n",
    "cbr.fit(features_train, target_train, cat_features=cat_features, verbose=0)\n"
   ]
  },
  {
   "cell_type": "code",
   "execution_count": 43,
   "metadata": {
    "colab": {
     "base_uri": "https://localhost:8080/"
    },
    "id": "FXKXG2CcQLrE",
    "outputId": "2191dbe7-ea9c-4ad6-8b67-d59ea24496e2"
   },
   "outputs": [
    {
     "name": "stdout",
     "output_type": "stream",
     "text": [
      "RMSE на обучающей выборке:  1537.93\n",
      "RMSE на валидационной выборке:  1655.69\n"
     ]
    }
   ],
   "source": [
    "predictions_train = cbr.predict(features_train)  # предсказания на обучающей выборке\n",
    "predictions_valid = cbr.predict(features_valid)  # предсказания на валидационной выборке\n",
    "print(\"RMSE на обучающей выборке: \", round(mean_squared_error(target_train, predictions_train) ** 0.5, 2)) \n",
    "print(\"RMSE на валидационной выборке: \", round(mean_squared_error(target_valid, predictions_valid) ** 0.5, 2))"
   ]
  },
  {
   "cell_type": "markdown",
   "metadata": {},
   "source": [
    "Посмотрим на важность признаков"
   ]
  },
  {
   "cell_type": "code",
   "execution_count": 44,
   "metadata": {
    "colab": {
     "base_uri": "https://localhost:8080/",
     "height": 369
    },
    "id": "-DB62sg-cple",
    "outputId": "c85084ce-5583-4e5c-c1f2-bfb8ec087c3a"
   },
   "outputs": [
    {
     "data": {
      "image/png": "[encoded data removed]",
      "text/plain": [
       "<Figure size 432x288 with 1 Axes>"
      ]
     },
     "metadata": {},
     "output_type": "display_data"
    }
   ],
   "source": [
    "sorted_feature_importance = cbr.feature_importances_.argsort()\n",
    "plt.barh(features_train.columns[sorted_feature_importance], \n",
    "        cbr.feature_importances_[sorted_feature_importance], \n",
    "        color='turquoise')\n",
    "plt.yticks(fontsize=15)\n",
    "plt.xticks(fontsize=10)\n",
    "plt.title(\"CatBoost Feature Importance\", fontsize=20)\n",
    "plt.show()"
   ]
  },
  {
   "cell_type": "code",
   "execution_count": 45,
   "metadata": {
    "colab": {
     "base_uri": "https://localhost:8080/",
     "height": 414
    },
    "id": "02hyW0DteTN2",
    "outputId": "261bd528-c5b3-40bb-a775-5ed01a702f5a"
   },
   "outputs": [
    {
     "data": {
      "image/png": "[encoded data removed]",
      "text/plain": [
       "<Figure size 576x453.6 with 2 Axes>"
      ]
     },
     "metadata": {},
     "output_type": "display_data"
    }
   ],
   "source": [
    "explainer = shap.TreeExplainer(cbr)\n",
    "shap_values = explainer.shap_values(features_valid)\n",
    "shap.summary_plot(shap_values, features_valid, feature_names = features_train.columns[sorted_feature_importance])"
   ]
  },
  {
   "cell_type": "markdown",
   "metadata": {
    "id": "H3wSB26Rbzwn"
   },
   "source": [
    "**Вывод** наилучший результат покзаывает модель CatBoostRegressor дольше всего при этом происходит обучение модели."
   ]
  },
  {
   "cell_type": "markdown",
   "metadata": {
    "id": "ftn7F1b7zwYc"
   },
   "source": [
    "## Анализ моделей"
   ]
  },
  {
   "cell_type": "markdown",
   "metadata": {
    "id": "e2OaRXP4tXzF"
   },
   "source": [
    "Анализируя модели видим, что наиболее быстрая модель линейной регрессии показало худшее качество. Модель LightGBM оказалась немного медленее, при этом качество оказалось лучше. Самое высокое качество и медленную скорость показывает модель CatBoodtRegressor."
   ]
  }
 ],
 "metadata": {
  "ExecuteTimeLog": [
   {
    "duration": 852,
    "start_time": "2021-12-06T04:49:20.371Z"
   },
   {
    "duration": 241,
    "start_time": "2021-12-06T04:52:07.416Z"
   },
   {
    "duration": 4297,
    "start_time": "2021-12-06T04:52:26.121Z"
   },
   {
    "duration": 5153,
    "start_time": "2021-12-06T04:52:30.420Z"
   },
   {
    "duration": 249,
    "start_time": "2021-12-06T04:55:52.436Z"
   },
   {
    "duration": 1997,
    "start_time": "2021-12-06T04:55:58.320Z"
   },
   {
    "duration": 2005,
    "start_time": "2021-12-06T04:56:00.319Z"
   },
   {
    "duration": 4,
    "start_time": "2021-12-06T04:56:02.326Z"
   },
   {
    "duration": 6,
    "start_time": "2021-12-06T04:56:02.332Z"
   },
   {
    "duration": 6,
    "start_time": "2021-12-06T04:56:02.340Z"
   },
   {
    "duration": 1620,
    "start_time": "2021-12-06T04:56:02.347Z"
   },
   {
    "duration": 126,
    "start_time": "2021-12-06T04:56:03.969Z"
   },
   {
    "duration": 3,
    "start_time": "2021-12-06T04:56:04.097Z"
   },
   {
    "duration": 4,
    "start_time": "2021-12-06T04:56:04.102Z"
   },
   {
    "duration": 13,
    "start_time": "2021-12-06T04:56:04.107Z"
   },
   {
    "duration": 251,
    "start_time": "2021-12-06T04:56:04.121Z"
   },
   {
    "duration": 364,
    "start_time": "2021-12-06T04:56:04.374Z"
   },
   {
    "duration": 31,
    "start_time": "2021-12-06T04:56:04.740Z"
   },
   {
    "duration": 46,
    "start_time": "2021-12-06T04:56:04.788Z"
   },
   {
    "duration": 30,
    "start_time": "2021-12-06T04:56:04.837Z"
   },
   {
    "duration": 57,
    "start_time": "2021-12-06T04:56:04.869Z"
   },
   {
    "duration": 29,
    "start_time": "2021-12-06T04:56:04.928Z"
   },
   {
    "duration": 63,
    "start_time": "2021-12-06T04:56:04.958Z"
   },
   {
    "duration": 31,
    "start_time": "2021-12-06T04:56:05.022Z"
   },
   {
    "duration": 54,
    "start_time": "2021-12-06T04:56:05.054Z"
   },
   {
    "duration": 32,
    "start_time": "2021-12-06T04:56:05.109Z"
   },
   {
    "duration": 60,
    "start_time": "2021-12-06T04:56:05.142Z"
   },
   {
    "duration": 16,
    "start_time": "2021-12-06T04:56:05.205Z"
   },
   {
    "duration": 83,
    "start_time": "2021-12-06T04:56:05.223Z"
   },
   {
    "duration": 110,
    "start_time": "2021-12-06T04:56:05.308Z"
   },
   {
    "duration": 80,
    "start_time": "2021-12-06T04:56:05.419Z"
   },
   {
    "duration": 14,
    "start_time": "2021-12-06T04:56:05.500Z"
   },
   {
    "duration": 30,
    "start_time": "2021-12-06T04:56:05.515Z"
   },
   {
    "duration": 1471,
    "start_time": "2021-12-06T04:56:05.546Z"
   },
   {
    "duration": 21879,
    "start_time": "2021-12-06T04:56:07.019Z"
   },
   {
    "duration": 891,
    "start_time": "2021-12-06T04:56:28.900Z"
   },
   {
    "duration": 95,
    "start_time": "2021-12-06T04:56:29.793Z"
   },
   {
    "duration": 4,
    "start_time": "2021-12-06T04:56:29.890Z"
   },
   {
    "duration": 167,
    "start_time": "2021-12-06T04:56:29.895Z"
   },
   {
    "duration": 2,
    "start_time": "2021-12-06T04:56:30.064Z"
   },
   {
    "duration": 10,
    "start_time": "2021-12-06T04:56:30.068Z"
   },
   {
    "duration": 745,
    "start_time": "2021-12-06T04:56:29.334Z"
   },
   {
    "duration": 744,
    "start_time": "2021-12-06T04:56:29.336Z"
   },
   {
    "duration": 742,
    "start_time": "2021-12-06T04:56:29.339Z"
   },
   {
    "duration": 740,
    "start_time": "2021-12-06T04:56:29.342Z"
   },
   {
    "duration": 739,
    "start_time": "2021-12-06T04:56:29.344Z"
   },
   {
    "duration": 730,
    "start_time": "2021-12-06T04:56:29.354Z"
   },
   {
    "duration": 728,
    "start_time": "2021-12-06T04:56:29.357Z"
   },
   {
    "duration": 726,
    "start_time": "2021-12-06T04:56:29.360Z"
   },
   {
    "duration": 4,
    "start_time": "2021-12-06T04:57:36.767Z"
   },
   {
    "duration": 226,
    "start_time": "2021-12-06T04:58:26.661Z"
   },
   {
    "duration": 176,
    "start_time": "2021-12-06T04:58:41.127Z"
   },
   {
    "duration": 2,
    "start_time": "2021-12-06T04:59:31.389Z"
   },
   {
    "duration": 169,
    "start_time": "2021-12-06T04:59:32.631Z"
   },
   {
    "duration": 234,
    "start_time": "2021-12-06T04:59:43.567Z"
   },
   {
    "duration": 170,
    "start_time": "2021-12-06T05:00:29.422Z"
   },
   {
    "duration": 1452,
    "start_time": "2021-12-06T05:00:47.418Z"
   },
   {
    "duration": 3,
    "start_time": "2021-12-06T05:00:53.288Z"
   },
   {
    "duration": 173,
    "start_time": "2021-12-06T05:00:59.677Z"
   },
   {
    "duration": 1187,
    "start_time": "2021-12-06T05:02:17.459Z"
   },
   {
    "duration": 277,
    "start_time": "2021-12-06T05:07:50.926Z"
   },
   {
    "duration": 53791,
    "start_time": "2021-12-06T05:08:24.423Z"
   },
   {
    "duration": 52914,
    "start_time": "2021-12-06T05:09:51.094Z"
   },
   {
    "duration": 2223,
    "start_time": "2021-12-06T05:39:56.996Z"
   },
   {
    "duration": 2019,
    "start_time": "2021-12-06T05:39:59.221Z"
   },
   {
    "duration": 5,
    "start_time": "2021-12-06T05:40:01.242Z"
   },
   {
    "duration": 12,
    "start_time": "2021-12-06T05:40:01.248Z"
   },
   {
    "duration": 16,
    "start_time": "2021-12-06T05:40:01.261Z"
   },
   {
    "duration": 1656,
    "start_time": "2021-12-06T05:40:01.278Z"
   },
   {
    "duration": 120,
    "start_time": "2021-12-06T05:40:02.936Z"
   },
   {
    "duration": 4,
    "start_time": "2021-12-06T05:40:03.058Z"
   },
   {
    "duration": 9,
    "start_time": "2021-12-06T05:40:03.064Z"
   },
   {
    "duration": 23,
    "start_time": "2021-12-06T05:40:03.074Z"
   },
   {
    "duration": 304,
    "start_time": "2021-12-06T05:40:03.098Z"
   },
   {
    "duration": 269,
    "start_time": "2021-12-06T05:40:03.403Z"
   },
   {
    "duration": 32,
    "start_time": "2021-12-06T05:40:03.674Z"
   },
   {
    "duration": 47,
    "start_time": "2021-12-06T05:40:03.707Z"
   },
   {
    "duration": 42,
    "start_time": "2021-12-06T05:40:03.755Z"
   },
   {
    "duration": 44,
    "start_time": "2021-12-06T05:40:03.798Z"
   },
   {
    "duration": 44,
    "start_time": "2021-12-06T05:40:03.844Z"
   },
   {
    "duration": 45,
    "start_time": "2021-12-06T05:40:03.889Z"
   },
   {
    "duration": 29,
    "start_time": "2021-12-06T05:40:03.936Z"
   },
   {
    "duration": 58,
    "start_time": "2021-12-06T05:40:03.967Z"
   },
   {
    "duration": 32,
    "start_time": "2021-12-06T05:40:04.027Z"
   },
   {
    "duration": 61,
    "start_time": "2021-12-06T05:40:04.061Z"
   },
   {
    "duration": 17,
    "start_time": "2021-12-06T05:40:04.125Z"
   },
   {
    "duration": 84,
    "start_time": "2021-12-06T05:40:04.143Z"
   },
   {
    "duration": 98,
    "start_time": "2021-12-06T05:40:04.228Z"
   },
   {
    "duration": 76,
    "start_time": "2021-12-06T05:40:04.327Z"
   },
   {
    "duration": 13,
    "start_time": "2021-12-06T05:40:04.404Z"
   },
   {
    "duration": 23,
    "start_time": "2021-12-06T05:40:04.418Z"
   },
   {
    "duration": 1479,
    "start_time": "2021-12-06T05:40:04.443Z"
   },
   {
    "duration": 22367,
    "start_time": "2021-12-06T05:40:05.924Z"
   },
   {
    "duration": 895,
    "start_time": "2021-12-06T05:40:28.292Z"
   },
   {
    "duration": 7,
    "start_time": "2021-12-06T05:40:29.190Z"
   },
   {
    "duration": 3,
    "start_time": "2021-12-06T05:40:29.288Z"
   },
   {
    "duration": 235,
    "start_time": "2021-12-06T05:40:29.293Z"
   },
   {
    "duration": 845,
    "start_time": "2021-12-06T05:40:28.685Z"
   },
   {
    "duration": 802,
    "start_time": "2021-12-06T05:40:28.729Z"
   },
   {
    "duration": 719,
    "start_time": "2021-12-06T05:40:28.813Z"
   },
   {
    "duration": 666,
    "start_time": "2021-12-06T05:40:28.867Z"
   },
   {
    "duration": 625,
    "start_time": "2021-12-06T05:40:28.909Z"
   },
   {
    "duration": 617,
    "start_time": "2021-12-06T05:40:28.918Z"
   },
   {
    "duration": 612,
    "start_time": "2021-12-06T05:40:28.924Z"
   },
   {
    "duration": 604,
    "start_time": "2021-12-06T05:40:28.933Z"
   },
   {
    "duration": 599,
    "start_time": "2021-12-06T05:40:28.939Z"
   },
   {
    "duration": 592,
    "start_time": "2021-12-06T05:40:28.947Z"
   },
   {
    "duration": 585,
    "start_time": "2021-12-06T05:40:28.955Z"
   },
   {
    "duration": 80,
    "start_time": "2021-12-06T05:43:20.439Z"
   },
   {
    "duration": 3,
    "start_time": "2021-12-06T05:47:39.945Z"
   },
   {
    "duration": 13194,
    "start_time": "2021-12-06T05:47:58.964Z"
   },
   {
    "duration": 1953,
    "start_time": "2021-12-06T05:50:24.803Z"
   },
   {
    "duration": 2008,
    "start_time": "2021-12-06T05:50:26.758Z"
   },
   {
    "duration": 2279,
    "start_time": "2021-12-06T05:50:28.768Z"
   },
   {
    "duration": 2,
    "start_time": "2021-12-06T05:50:33.298Z"
   },
   {
    "duration": 5,
    "start_time": "2021-12-06T05:50:33.313Z"
   },
   {
    "duration": 1458,
    "start_time": "2021-12-06T05:50:33.319Z"
   },
   {
    "duration": 121,
    "start_time": "2021-12-06T05:50:34.779Z"
   },
   {
    "duration": 4,
    "start_time": "2021-12-06T05:50:34.901Z"
   },
   {
    "duration": 5,
    "start_time": "2021-12-06T05:50:34.907Z"
   },
   {
    "duration": 14,
    "start_time": "2021-12-06T05:50:34.913Z"
   },
   {
    "duration": 256,
    "start_time": "2021-12-06T05:50:34.929Z"
   },
   {
    "duration": 277,
    "start_time": "2021-12-06T05:50:35.186Z"
   },
   {
    "duration": 33,
    "start_time": "2021-12-06T05:50:35.465Z"
   },
   {
    "duration": 49,
    "start_time": "2021-12-06T05:50:35.499Z"
   },
   {
    "duration": 39,
    "start_time": "2021-12-06T05:50:35.549Z"
   },
   {
    "duration": 49,
    "start_time": "2021-12-06T05:50:35.589Z"
   },
   {
    "duration": 29,
    "start_time": "2021-12-06T05:50:35.640Z"
   },
   {
    "duration": 59,
    "start_time": "2021-12-06T05:50:35.671Z"
   },
   {
    "duration": 29,
    "start_time": "2021-12-06T05:50:35.731Z"
   },
   {
    "duration": 58,
    "start_time": "2021-12-06T05:50:35.761Z"
   },
   {
    "duration": 31,
    "start_time": "2021-12-06T05:50:35.821Z"
   },
   {
    "duration": 57,
    "start_time": "2021-12-06T05:50:35.853Z"
   },
   {
    "duration": 16,
    "start_time": "2021-12-06T05:50:35.911Z"
   },
   {
    "duration": 83,
    "start_time": "2021-12-06T05:50:35.929Z"
   },
   {
    "duration": 107,
    "start_time": "2021-12-06T05:50:36.013Z"
   },
   {
    "duration": 77,
    "start_time": "2021-12-06T05:50:36.122Z"
   },
   {
    "duration": 13,
    "start_time": "2021-12-06T05:50:36.200Z"
   },
   {
    "duration": 27,
    "start_time": "2021-12-06T05:50:36.215Z"
   },
   {
    "duration": 1644,
    "start_time": "2021-12-06T05:50:36.244Z"
   },
   {
    "duration": 21304,
    "start_time": "2021-12-06T05:50:37.889Z"
   },
   {
    "duration": 801,
    "start_time": "2021-12-06T05:50:59.196Z"
   },
   {
    "duration": 7,
    "start_time": "2021-12-06T05:51:00.090Z"
   },
   {
    "duration": 3,
    "start_time": "2021-12-06T05:51:00.189Z"
   },
   {
    "duration": 673,
    "start_time": "2021-12-06T05:51:00.193Z"
   },
   {
    "duration": -60,
    "start_time": "2021-12-06T05:51:00.928Z"
   },
   {
    "duration": -75,
    "start_time": "2021-12-06T05:51:00.944Z"
   },
   {
    "duration": -97,
    "start_time": "2021-12-06T05:51:00.967Z"
   },
   {
    "duration": -122,
    "start_time": "2021-12-06T05:51:00.994Z"
   },
   {
    "duration": -141,
    "start_time": "2021-12-06T05:51:01.014Z"
   },
   {
    "duration": -158,
    "start_time": "2021-12-06T05:51:01.031Z"
   },
   {
    "duration": -191,
    "start_time": "2021-12-06T05:51:01.065Z"
   },
   {
    "duration": -218,
    "start_time": "2021-12-06T05:51:01.093Z"
   },
   {
    "duration": -234,
    "start_time": "2021-12-06T05:51:01.110Z"
   },
   {
    "duration": -255,
    "start_time": "2021-12-06T05:51:01.132Z"
   },
   {
    "duration": -273,
    "start_time": "2021-12-06T05:51:01.150Z"
   },
   {
    "duration": 3989,
    "start_time": "2021-12-06T09:43:50.614Z"
   },
   {
    "duration": 8300,
    "start_time": "2021-12-06T09:43:54.607Z"
   },
   {
    "duration": 4331,
    "start_time": "2021-12-06T09:44:02.911Z"
   },
   {
    "duration": 5,
    "start_time": "2021-12-06T09:44:07.249Z"
   },
   {
    "duration": 12,
    "start_time": "2021-12-06T09:44:07.256Z"
   },
   {
    "duration": 2505,
    "start_time": "2021-12-06T09:44:07.271Z"
   },
   {
    "duration": 198,
    "start_time": "2021-12-06T09:44:09.778Z"
   },
   {
    "duration": 6,
    "start_time": "2021-12-06T09:44:09.982Z"
   },
   {
    "duration": 5,
    "start_time": "2021-12-06T09:44:10.020Z"
   },
   {
    "duration": 60,
    "start_time": "2021-12-06T09:44:10.030Z"
   },
   {
    "duration": 605,
    "start_time": "2021-12-06T09:44:10.093Z"
   },
   {
    "duration": 472,
    "start_time": "2021-12-06T09:44:10.701Z"
   },
   {
    "duration": 64,
    "start_time": "2021-12-06T09:44:11.176Z"
   },
   {
    "duration": 92,
    "start_time": "2021-12-06T09:44:11.243Z"
   },
   {
    "duration": 50,
    "start_time": "2021-12-06T09:44:11.337Z"
   },
   {
    "duration": 134,
    "start_time": "2021-12-06T09:44:11.389Z"
   },
   {
    "duration": 53,
    "start_time": "2021-12-06T09:44:11.528Z"
   },
   {
    "duration": 98,
    "start_time": "2021-12-06T09:44:11.584Z"
   },
   {
    "duration": 61,
    "start_time": "2021-12-06T09:44:11.685Z"
   },
   {
    "duration": 95,
    "start_time": "2021-12-06T09:44:11.748Z"
   },
   {
    "duration": 48,
    "start_time": "2021-12-06T09:44:11.845Z"
   },
   {
    "duration": 91,
    "start_time": "2021-12-06T09:44:11.896Z"
   },
   {
    "duration": 48,
    "start_time": "2021-12-06T09:44:11.995Z"
   },
   {
    "duration": 191,
    "start_time": "2021-12-06T09:44:12.047Z"
   },
   {
    "duration": 244,
    "start_time": "2021-12-06T09:44:12.241Z"
   },
   {
    "duration": 118,
    "start_time": "2021-12-06T09:44:12.488Z"
   },
   {
    "duration": 30,
    "start_time": "2021-12-06T09:44:12.609Z"
   },
   {
    "duration": 78,
    "start_time": "2021-12-06T09:44:12.641Z"
   },
   {
    "duration": 2852,
    "start_time": "2021-12-06T09:44:12.722Z"
   },
   {
    "duration": -52,
    "start_time": "2021-12-06T09:45:10.280Z"
   },
   {
    "duration": -58,
    "start_time": "2021-12-06T09:45:10.288Z"
   },
   {
    "duration": -60,
    "start_time": "2021-12-06T09:45:10.292Z"
   },
   {
    "duration": -64,
    "start_time": "2021-12-06T09:45:10.299Z"
   },
   {
    "duration": -63,
    "start_time": "2021-12-06T09:45:10.301Z"
   },
   {
    "duration": -63,
    "start_time": "2021-12-06T09:45:10.305Z"
   },
   {
    "duration": -65,
    "start_time": "2021-12-06T09:45:10.309Z"
   },
   {
    "duration": -65,
    "start_time": "2021-12-06T09:45:10.311Z"
   },
   {
    "duration": -67,
    "start_time": "2021-12-06T09:45:10.314Z"
   },
   {
    "duration": -68,
    "start_time": "2021-12-06T09:45:10.317Z"
   },
   {
    "duration": -73,
    "start_time": "2021-12-06T09:45:10.324Z"
   },
   {
    "duration": -75,
    "start_time": "2021-12-06T09:45:10.327Z"
   },
   {
    "duration": -76,
    "start_time": "2021-12-06T09:45:10.330Z"
   },
   {
    "duration": -77,
    "start_time": "2021-12-06T09:45:10.333Z"
   },
   {
    "duration": -77,
    "start_time": "2021-12-06T09:45:10.336Z"
   },
   {
    "duration": -79,
    "start_time": "2021-12-06T09:45:10.340Z"
   },
   {
    "duration": -26,
    "start_time": "2021-12-06T09:45:10.343Z"
   },
   {
    "duration": -27,
    "start_time": "2021-12-06T09:45:10.346Z"
   },
   {
    "duration": -31,
    "start_time": "2021-12-06T09:45:10.352Z"
   },
   {
    "duration": -33,
    "start_time": "2021-12-06T09:45:10.355Z"
   },
   {
    "duration": -32,
    "start_time": "2021-12-06T09:45:10.358Z"
   },
   {
    "duration": -32,
    "start_time": "2021-12-06T09:45:10.360Z"
   },
   {
    "duration": -33,
    "start_time": "2021-12-06T09:45:10.363Z"
   },
   {
    "duration": -34,
    "start_time": "2021-12-06T09:45:10.366Z"
   },
   {
    "duration": -35,
    "start_time": "2021-12-06T09:45:10.370Z"
   },
   {
    "duration": -35,
    "start_time": "2021-12-06T09:45:10.372Z"
   },
   {
    "duration": -70,
    "start_time": "2021-12-06T09:45:10.408Z"
   },
   {
    "duration": -71,
    "start_time": "2021-12-06T09:45:10.411Z"
   },
   {
    "duration": -95,
    "start_time": "2021-12-06T09:45:10.436Z"
   },
   {
    "duration": -98,
    "start_time": "2021-12-06T09:45:10.440Z"
   },
   {
    "duration": -103,
    "start_time": "2021-12-06T09:45:10.446Z"
   },
   {
    "duration": -106,
    "start_time": "2021-12-06T09:45:10.450Z"
   },
   {
    "duration": -111,
    "start_time": "2021-12-06T09:45:10.456Z"
   },
   {
    "duration": -168,
    "start_time": "2021-12-06T09:45:10.514Z"
   },
   {
    "duration": -174,
    "start_time": "2021-12-06T09:45:10.521Z"
   },
   {
    "duration": -177,
    "start_time": "2021-12-06T09:45:10.525Z"
   },
   {
    "duration": -181,
    "start_time": "2021-12-06T09:45:10.530Z"
   },
   {
    "duration": -200,
    "start_time": "2021-12-06T09:45:10.550Z"
   },
   {
    "duration": -204,
    "start_time": "2021-12-06T09:45:10.556Z"
   },
   {
    "duration": -214,
    "start_time": "2021-12-06T09:45:10.567Z"
   },
   {
    "duration": -216,
    "start_time": "2021-12-06T09:45:10.571Z"
   },
   {
    "duration": -220,
    "start_time": "2021-12-06T09:45:10.576Z"
   },
   {
    "duration": -222,
    "start_time": "2021-12-06T09:45:10.579Z"
   },
   {
    "duration": -225,
    "start_time": "2021-12-06T09:45:10.583Z"
   },
   {
    "duration": -171,
    "start_time": "2021-12-06T09:45:10.590Z"
   },
   {
    "duration": 3858,
    "start_time": "2021-12-06T09:45:36.056Z"
   },
   {
    "duration": 3477,
    "start_time": "2021-12-06T09:45:39.917Z"
   },
   {
    "duration": 6,
    "start_time": "2021-12-06T09:45:43.397Z"
   },
   {
    "duration": 10,
    "start_time": "2021-12-06T09:45:43.405Z"
   },
   {
    "duration": 11,
    "start_time": "2021-12-06T09:45:43.418Z"
   },
   {
    "duration": 1899,
    "start_time": "2021-12-06T09:45:43.433Z"
   },
   {
    "duration": 209,
    "start_time": "2021-12-06T09:45:45.335Z"
   },
   {
    "duration": 6,
    "start_time": "2021-12-06T09:45:45.547Z"
   },
   {
    "duration": 6,
    "start_time": "2021-12-06T09:45:45.557Z"
   },
   {
    "duration": 29,
    "start_time": "2021-12-06T09:45:45.566Z"
   },
   {
    "duration": 375,
    "start_time": "2021-12-06T09:45:45.618Z"
   },
   {
    "duration": 481,
    "start_time": "2021-12-06T09:45:45.996Z"
   },
   {
    "duration": 67,
    "start_time": "2021-12-06T09:45:46.479Z"
   },
   {
    "duration": 115,
    "start_time": "2021-12-06T09:45:46.549Z"
   },
   {
    "duration": 81,
    "start_time": "2021-12-06T09:45:46.668Z"
   },
   {
    "duration": 94,
    "start_time": "2021-12-06T09:45:46.751Z"
   },
   {
    "duration": 52,
    "start_time": "2021-12-06T09:45:46.848Z"
   },
   {
    "duration": 74,
    "start_time": "2021-12-06T09:45:46.917Z"
   },
   {
    "duration": 73,
    "start_time": "2021-12-06T09:45:46.994Z"
   },
   {
    "duration": 94,
    "start_time": "2021-12-06T09:45:47.069Z"
   },
   {
    "duration": 59,
    "start_time": "2021-12-06T09:45:47.165Z"
   },
   {
    "duration": 159,
    "start_time": "2021-12-06T09:45:47.227Z"
   },
   {
    "duration": 30,
    "start_time": "2021-12-06T09:45:47.388Z"
   },
   {
    "duration": 137,
    "start_time": "2021-12-06T09:45:47.422Z"
   },
   {
    "duration": 173,
    "start_time": "2021-12-06T09:45:47.561Z"
   },
   {
    "duration": 182,
    "start_time": "2021-12-06T09:45:47.737Z"
   },
   {
    "duration": 28,
    "start_time": "2021-12-06T09:45:47.927Z"
   },
   {
    "duration": 76,
    "start_time": "2021-12-06T09:45:47.959Z"
   },
   {
    "duration": 2547,
    "start_time": "2021-12-06T09:45:48.039Z"
   },
   {
    "duration": 41251,
    "start_time": "2021-12-06T09:45:50.588Z"
   },
   {
    "duration": 1177,
    "start_time": "2021-12-06T09:46:31.843Z"
   },
   {
    "duration": 94,
    "start_time": "2021-12-06T09:46:33.024Z"
   },
   {
    "duration": 6,
    "start_time": "2021-12-06T09:46:33.126Z"
   },
   {
    "duration": 11914,
    "start_time": "2021-12-06T09:46:33.135Z"
   },
   {
    "duration": -73,
    "start_time": "2021-12-06T09:46:45.126Z"
   },
   {
    "duration": -76,
    "start_time": "2021-12-06T09:46:45.131Z"
   },
   {
    "duration": -77,
    "start_time": "2021-12-06T09:46:45.134Z"
   },
   {
    "duration": -94,
    "start_time": "2021-12-06T09:46:45.154Z"
   },
   {
    "duration": -96,
    "start_time": "2021-12-06T09:46:45.157Z"
   },
   {
    "duration": -97,
    "start_time": "2021-12-06T09:46:45.160Z"
   },
   {
    "duration": -99,
    "start_time": "2021-12-06T09:46:45.163Z"
   },
   {
    "duration": -100,
    "start_time": "2021-12-06T09:46:45.166Z"
   },
   {
    "duration": -101,
    "start_time": "2021-12-06T09:46:45.169Z"
   },
   {
    "duration": -103,
    "start_time": "2021-12-06T09:46:45.172Z"
   },
   {
    "duration": -104,
    "start_time": "2021-12-06T09:46:45.174Z"
   },
   {
    "duration": 3634,
    "start_time": "2021-12-06T10:41:24.123Z"
   },
   {
    "duration": 3925,
    "start_time": "2021-12-06T10:41:27.759Z"
   },
   {
    "duration": 6,
    "start_time": "2021-12-06T10:41:31.687Z"
   },
   {
    "duration": 16,
    "start_time": "2021-12-06T10:41:31.695Z"
   },
   {
    "duration": 14,
    "start_time": "2021-12-06T10:41:31.713Z"
   },
   {
    "duration": 2141,
    "start_time": "2021-12-06T10:41:31.731Z"
   },
   {
    "duration": 182,
    "start_time": "2021-12-06T10:41:33.876Z"
   },
   {
    "duration": 6,
    "start_time": "2021-12-06T10:41:34.060Z"
   },
   {
    "duration": 8,
    "start_time": "2021-12-06T10:41:34.068Z"
   },
   {
    "duration": 52,
    "start_time": "2021-12-06T10:41:34.079Z"
   },
   {
    "duration": 322,
    "start_time": "2021-12-06T10:41:34.133Z"
   },
   {
    "duration": 412,
    "start_time": "2021-12-06T10:41:34.457Z"
   },
   {
    "duration": 51,
    "start_time": "2021-12-06T10:41:34.871Z"
   },
   {
    "duration": 70,
    "start_time": "2021-12-06T10:41:34.925Z"
   },
   {
    "duration": 60,
    "start_time": "2021-12-06T10:41:34.998Z"
   },
   {
    "duration": 90,
    "start_time": "2021-12-06T10:41:35.061Z"
   },
   {
    "duration": 45,
    "start_time": "2021-12-06T10:41:35.154Z"
   },
   {
    "duration": 71,
    "start_time": "2021-12-06T10:41:35.218Z"
   },
   {
    "duration": 65,
    "start_time": "2021-12-06T10:41:35.292Z"
   },
   {
    "duration": 84,
    "start_time": "2021-12-06T10:41:35.359Z"
   },
   {
    "duration": 50,
    "start_time": "2021-12-06T10:41:35.446Z"
   },
   {
    "duration": 74,
    "start_time": "2021-12-06T10:41:35.518Z"
   },
   {
    "duration": 39,
    "start_time": "2021-12-06T10:41:35.594Z"
   },
   {
    "duration": 118,
    "start_time": "2021-12-06T10:41:35.639Z"
   },
   {
    "duration": 167,
    "start_time": "2021-12-06T10:41:35.760Z"
   },
   {
    "duration": 114,
    "start_time": "2021-12-06T10:41:35.929Z"
   },
   {
    "duration": 22,
    "start_time": "2021-12-06T10:41:36.045Z"
   },
   {
    "duration": 76,
    "start_time": "2021-12-06T10:41:36.070Z"
   },
   {
    "duration": 3188,
    "start_time": "2021-12-06T10:41:36.149Z"
   },
   {
    "duration": 40388,
    "start_time": "2021-12-06T10:41:39.339Z"
   },
   {
    "duration": 1787,
    "start_time": "2021-12-06T10:42:19.730Z"
   },
   {
    "duration": 9,
    "start_time": "2021-12-06T10:42:21.520Z"
   },
   {
    "duration": 11,
    "start_time": "2021-12-06T10:42:21.617Z"
   },
   {
    "duration": 19008,
    "start_time": "2021-12-06T10:42:21.630Z"
   },
   {
    "duration": -1450,
    "start_time": "2021-12-06T10:42:42.091Z"
   },
   {
    "duration": -3222,
    "start_time": "2021-12-06T10:42:43.864Z"
   },
   {
    "duration": -3229,
    "start_time": "2021-12-06T10:42:43.873Z"
   },
   {
    "duration": -3233,
    "start_time": "2021-12-06T10:42:43.878Z"
   },
   {
    "duration": -3235,
    "start_time": "2021-12-06T10:42:43.882Z"
   },
   {
    "duration": -3237,
    "start_time": "2021-12-06T10:42:43.885Z"
   },
   {
    "duration": -3248,
    "start_time": "2021-12-06T10:42:43.897Z"
   },
   {
    "duration": -3280,
    "start_time": "2021-12-06T10:42:43.931Z"
   },
   {
    "duration": -3282,
    "start_time": "2021-12-06T10:42:43.935Z"
   },
   {
    "duration": -3285,
    "start_time": "2021-12-06T10:42:43.939Z"
   },
   {
    "duration": -3286,
    "start_time": "2021-12-06T10:42:43.941Z"
   },
   {
    "duration": 3752,
    "start_time": "2021-12-06T10:47:59.828Z"
   },
   {
    "duration": 3619,
    "start_time": "2021-12-06T10:48:03.583Z"
   },
   {
    "duration": 8,
    "start_time": "2021-12-06T10:48:07.205Z"
   },
   {
    "duration": 16,
    "start_time": "2021-12-06T10:48:07.216Z"
   },
   {
    "duration": 12,
    "start_time": "2021-12-06T10:48:07.234Z"
   },
   {
    "duration": 2244,
    "start_time": "2021-12-06T10:48:07.248Z"
   },
   {
    "duration": 214,
    "start_time": "2021-12-06T10:48:09.495Z"
   },
   {
    "duration": 7,
    "start_time": "2021-12-06T10:48:09.718Z"
   },
   {
    "duration": 11,
    "start_time": "2021-12-06T10:48:09.728Z"
   },
   {
    "duration": 27,
    "start_time": "2021-12-06T10:48:09.742Z"
   },
   {
    "duration": 369,
    "start_time": "2021-12-06T10:48:09.772Z"
   },
   {
    "duration": 412,
    "start_time": "2021-12-06T10:48:10.144Z"
   },
   {
    "duration": 60,
    "start_time": "2021-12-06T10:48:10.559Z"
   },
   {
    "duration": 76,
    "start_time": "2021-12-06T10:48:10.625Z"
   },
   {
    "duration": 53,
    "start_time": "2021-12-06T10:48:10.704Z"
   },
   {
    "duration": 88,
    "start_time": "2021-12-06T10:48:10.759Z"
   },
   {
    "duration": 46,
    "start_time": "2021-12-06T10:48:10.850Z"
   },
   {
    "duration": 83,
    "start_time": "2021-12-06T10:48:10.899Z"
   },
   {
    "duration": 62,
    "start_time": "2021-12-06T10:48:10.985Z"
   },
   {
    "duration": 90,
    "start_time": "2021-12-06T10:48:11.049Z"
   },
   {
    "duration": 50,
    "start_time": "2021-12-06T10:48:11.142Z"
   },
   {
    "duration": 88,
    "start_time": "2021-12-06T10:48:11.194Z"
   },
   {
    "duration": 38,
    "start_time": "2021-12-06T10:48:11.285Z"
   },
   {
    "duration": 118,
    "start_time": "2021-12-06T10:48:11.325Z"
   },
   {
    "duration": 166,
    "start_time": "2021-12-06T10:48:11.445Z"
   },
   {
    "duration": 113,
    "start_time": "2021-12-06T10:48:11.614Z"
   },
   {
    "duration": 22,
    "start_time": "2021-12-06T10:48:11.730Z"
   },
   {
    "duration": 76,
    "start_time": "2021-12-06T10:48:11.754Z"
   },
   {
    "duration": 2850,
    "start_time": "2021-12-06T10:48:11.833Z"
   },
   {
    "duration": 31841,
    "start_time": "2021-12-06T10:48:14.686Z"
   },
   {
    "duration": 1094,
    "start_time": "2021-12-06T10:48:46.529Z"
   },
   {
    "duration": 93,
    "start_time": "2021-12-06T10:48:47.626Z"
   },
   {
    "duration": 10,
    "start_time": "2021-12-06T10:48:47.721Z"
   },
   {
    "duration": 13370,
    "start_time": "2021-12-06T10:48:47.734Z"
   },
   {
    "duration": -248,
    "start_time": "2021-12-06T10:49:01.355Z"
   },
   {
    "duration": -273,
    "start_time": "2021-12-06T10:49:01.381Z"
   },
   {
    "duration": -301,
    "start_time": "2021-12-06T10:49:01.411Z"
   },
   {
    "duration": -305,
    "start_time": "2021-12-06T10:49:01.416Z"
   },
   {
    "duration": -307,
    "start_time": "2021-12-06T10:49:01.420Z"
   },
   {
    "duration": -312,
    "start_time": "2021-12-06T10:49:01.426Z"
   },
   {
    "duration": -315,
    "start_time": "2021-12-06T10:49:01.431Z"
   },
   {
    "duration": -317,
    "start_time": "2021-12-06T10:49:01.434Z"
   },
   {
    "duration": -319,
    "start_time": "2021-12-06T10:49:01.437Z"
   },
   {
    "duration": -323,
    "start_time": "2021-12-06T10:49:01.442Z"
   },
   {
    "duration": -325,
    "start_time": "2021-12-06T10:49:01.446Z"
   },
   {
    "duration": 81784,
    "start_time": "2021-12-06T10:49:07.736Z"
   },
   {
    "duration": 4422,
    "start_time": "2021-12-06T15:43:37.179Z"
   },
   {
    "duration": 6179,
    "start_time": "2021-12-06T15:43:41.604Z"
   },
   {
    "duration": 3370,
    "start_time": "2021-12-06T15:43:47.786Z"
   },
   {
    "duration": 4,
    "start_time": "2021-12-06T15:43:51.159Z"
   },
   {
    "duration": 11,
    "start_time": "2021-12-06T15:43:51.166Z"
   },
   {
    "duration": 3294,
    "start_time": "2021-12-06T15:43:51.180Z"
   },
   {
    "duration": 195,
    "start_time": "2021-12-06T15:43:54.477Z"
   },
   {
    "duration": 6,
    "start_time": "2021-12-06T15:43:54.674Z"
   },
   {
    "duration": 13,
    "start_time": "2021-12-06T15:43:54.684Z"
   },
   {
    "duration": 26,
    "start_time": "2021-12-06T15:43:54.700Z"
   },
   {
    "duration": 409,
    "start_time": "2021-12-06T15:43:54.728Z"
   },
   {
    "duration": 416,
    "start_time": "2021-12-06T15:43:55.140Z"
   },
   {
    "duration": 49,
    "start_time": "2021-12-06T15:43:55.559Z"
   },
   {
    "duration": 94,
    "start_time": "2021-12-06T15:43:55.610Z"
   },
   {
    "duration": 47,
    "start_time": "2021-12-06T15:43:55.706Z"
   },
   {
    "duration": 69,
    "start_time": "2021-12-06T15:43:55.768Z"
   },
   {
    "duration": 65,
    "start_time": "2021-12-06T15:43:55.839Z"
   },
   {
    "duration": 88,
    "start_time": "2021-12-06T15:43:55.906Z"
   },
   {
    "duration": 47,
    "start_time": "2021-12-06T15:43:55.996Z"
   },
   {
    "duration": 85,
    "start_time": "2021-12-06T15:43:56.045Z"
   },
   {
    "duration": 60,
    "start_time": "2021-12-06T15:43:56.132Z"
   },
   {
    "duration": 102,
    "start_time": "2021-12-06T15:43:56.195Z"
   },
   {
    "duration": 27,
    "start_time": "2021-12-06T15:43:56.299Z"
   },
   {
    "duration": 129,
    "start_time": "2021-12-06T15:43:56.328Z"
   },
   {
    "duration": 170,
    "start_time": "2021-12-06T15:43:56.459Z"
   },
   {
    "duration": 119,
    "start_time": "2021-12-06T15:43:56.631Z"
   },
   {
    "duration": 31,
    "start_time": "2021-12-06T15:43:56.755Z"
   },
   {
    "duration": 56,
    "start_time": "2021-12-06T15:43:56.789Z"
   },
   {
    "duration": 2835,
    "start_time": "2021-12-06T15:43:56.847Z"
   },
   {
    "duration": 30894,
    "start_time": "2021-12-06T15:43:59.685Z"
   },
   {
    "duration": 1088,
    "start_time": "2021-12-06T15:44:30.581Z"
   },
   {
    "duration": 99,
    "start_time": "2021-12-06T15:44:31.673Z"
   },
   {
    "duration": 9,
    "start_time": "2021-12-06T15:44:31.774Z"
   },
   {
    "duration": 11371,
    "start_time": "2021-12-06T15:44:31.785Z"
   },
   {
    "duration": -134,
    "start_time": "2021-12-06T15:44:43.293Z"
   },
   {
    "duration": -135,
    "start_time": "2021-12-06T15:44:43.296Z"
   },
   {
    "duration": -137,
    "start_time": "2021-12-06T15:44:43.299Z"
   },
   {
    "duration": -141,
    "start_time": "2021-12-06T15:44:43.304Z"
   },
   {
    "duration": -142,
    "start_time": "2021-12-06T15:44:43.307Z"
   },
   {
    "duration": -143,
    "start_time": "2021-12-06T15:44:43.309Z"
   },
   {
    "duration": -144,
    "start_time": "2021-12-06T15:44:43.312Z"
   },
   {
    "duration": -147,
    "start_time": "2021-12-06T15:44:43.316Z"
   },
   {
    "duration": -149,
    "start_time": "2021-12-06T15:44:43.320Z"
   },
   {
    "duration": -151,
    "start_time": "2021-12-06T15:44:43.323Z"
   },
   {
    "duration": -154,
    "start_time": "2021-12-06T15:44:43.328Z"
   },
   {
    "duration": 4,
    "start_time": "2021-12-06T15:45:29.368Z"
   },
   {
    "duration": 82843,
    "start_time": "2021-12-06T15:45:30.427Z"
   },
   {
    "duration": 81112,
    "start_time": "2021-12-06T15:51:53.971Z"
   },
   {
    "duration": 82170,
    "start_time": "2021-12-06T15:54:08.409Z"
   },
   {
    "duration": 82436,
    "start_time": "2021-12-06T15:55:52.434Z"
   },
   {
    "duration": 4,
    "start_time": "2021-12-06T15:58:01.107Z"
   },
   {
    "duration": 7,
    "start_time": "2021-12-06T15:58:02.008Z"
   },
   {
    "duration": 7,
    "start_time": "2021-12-06T15:58:06.277Z"
   },
   {
    "duration": 3666,
    "start_time": "2021-12-06T16:11:42.284Z"
   },
   {
    "duration": 3412,
    "start_time": "2021-12-06T16:11:45.953Z"
   },
   {
    "duration": 6,
    "start_time": "2021-12-06T16:11:49.368Z"
   },
   {
    "duration": 6,
    "start_time": "2021-12-06T16:11:49.377Z"
   },
   {
    "duration": 10,
    "start_time": "2021-12-06T16:11:49.386Z"
   },
   {
    "duration": 3525,
    "start_time": "2021-12-06T16:11:49.399Z"
   },
   {
    "duration": 177,
    "start_time": "2021-12-06T16:11:52.927Z"
   },
   {
    "duration": 6,
    "start_time": "2021-12-06T16:11:53.108Z"
   },
   {
    "duration": 5,
    "start_time": "2021-12-06T16:11:53.117Z"
   },
   {
    "duration": 52,
    "start_time": "2021-12-06T16:11:53.125Z"
   },
   {
    "duration": 346,
    "start_time": "2021-12-06T16:11:53.179Z"
   },
   {
    "duration": 413,
    "start_time": "2021-12-06T16:11:53.527Z"
   },
   {
    "duration": 53,
    "start_time": "2021-12-06T16:11:53.943Z"
   },
   {
    "duration": 88,
    "start_time": "2021-12-06T16:11:53.998Z"
   },
   {
    "duration": 49,
    "start_time": "2021-12-06T16:11:54.088Z"
   },
   {
    "duration": 88,
    "start_time": "2021-12-06T16:11:54.139Z"
   },
   {
    "duration": 50,
    "start_time": "2021-12-06T16:11:54.229Z"
   },
   {
    "duration": 87,
    "start_time": "2021-12-06T16:11:54.281Z"
   },
   {
    "duration": 44,
    "start_time": "2021-12-06T16:11:54.371Z"
   },
   {
    "duration": 84,
    "start_time": "2021-12-06T16:11:54.418Z"
   },
   {
    "duration": 63,
    "start_time": "2021-12-06T16:11:54.504Z"
   },
   {
    "duration": 74,
    "start_time": "2021-12-06T16:11:54.570Z"
   },
   {
    "duration": 41,
    "start_time": "2021-12-06T16:11:54.649Z"
   },
   {
    "duration": 123,
    "start_time": "2021-12-06T16:11:54.693Z"
   },
   {
    "duration": 163,
    "start_time": "2021-12-06T16:11:54.818Z"
   },
   {
    "duration": 112,
    "start_time": "2021-12-06T16:11:54.983Z"
   },
   {
    "duration": 23,
    "start_time": "2021-12-06T16:11:55.097Z"
   },
   {
    "duration": 77,
    "start_time": "2021-12-06T16:11:55.122Z"
   },
   {
    "duration": 2769,
    "start_time": "2021-12-06T16:11:55.201Z"
   },
   {
    "duration": 36006,
    "start_time": "2021-12-06T16:11:57.972Z"
   },
   {
    "duration": 1101,
    "start_time": "2021-12-06T16:12:33.980Z"
   },
   {
    "duration": 9,
    "start_time": "2021-12-06T16:12:35.169Z"
   },
   {
    "duration": 6,
    "start_time": "2021-12-06T16:12:35.181Z"
   },
   {
    "duration": 77,
    "start_time": "2021-12-06T16:12:35.192Z"
   },
   {
    "duration": 95705,
    "start_time": "2021-12-06T16:12:35.272Z"
   },
   {
    "duration": 4,
    "start_time": "2021-12-06T16:14:10.979Z"
   },
   {
    "duration": 88,
    "start_time": "2021-12-06T16:14:10.985Z"
   },
   {
    "duration": -738,
    "start_time": "2021-12-06T16:14:11.813Z"
   },
   {
    "duration": -741,
    "start_time": "2021-12-06T16:14:11.818Z"
   },
   {
    "duration": -746,
    "start_time": "2021-12-06T16:14:11.824Z"
   },
   {
    "duration": -750,
    "start_time": "2021-12-06T16:14:11.830Z"
   },
   {
    "duration": -779,
    "start_time": "2021-12-06T16:14:11.861Z"
   },
   {
    "duration": -783,
    "start_time": "2021-12-06T16:14:11.867Z"
   },
   {
    "duration": -786,
    "start_time": "2021-12-06T16:14:11.871Z"
   },
   {
    "duration": -789,
    "start_time": "2021-12-06T16:14:11.876Z"
   },
   {
    "duration": 7,
    "start_time": "2021-12-06T16:14:32.995Z"
   },
   {
    "duration": 118438,
    "start_time": "2021-12-06T16:14:41.933Z"
   },
   {
    "duration": 40950,
    "start_time": "2021-12-06T16:16:51.570Z"
   },
   {
    "duration": 6,
    "start_time": "2021-12-06T16:18:12.014Z"
   },
   {
    "duration": 166826,
    "start_time": "2021-12-06T16:18:49.048Z"
   },
   {
    "duration": 4,
    "start_time": "2021-12-06T16:21:53.692Z"
   },
   {
    "duration": 105014,
    "start_time": "2021-12-06T16:21:54.872Z"
   },
   {
    "duration": 7,
    "start_time": "2021-12-06T16:23:54.465Z"
   },
   {
    "duration": 3680,
    "start_time": "2021-12-06T16:23:54.475Z"
   },
   {
    "duration": 208,
    "start_time": "2021-12-06T16:23:58.159Z"
   },
   {
    "duration": 2131,
    "start_time": "2022-08-20T20:54:24.486Z"
   },
   {
    "duration": 3117,
    "start_time": "2022-08-20T20:54:26.619Z"
   },
   {
    "duration": 2543,
    "start_time": "2022-08-20T20:54:29.738Z"
   },
   {
    "duration": 3,
    "start_time": "2022-08-20T20:54:32.284Z"
   },
   {
    "duration": 31,
    "start_time": "2022-08-20T20:54:32.289Z"
   },
   {
    "duration": 1771,
    "start_time": "2022-08-20T20:54:32.322Z"
   },
   {
    "duration": 117,
    "start_time": "2022-08-20T20:54:34.095Z"
   },
   {
    "duration": 4,
    "start_time": "2022-08-20T20:54:34.213Z"
   },
   {
    "duration": 7,
    "start_time": "2022-08-20T20:54:34.219Z"
   },
   {
    "duration": 34,
    "start_time": "2022-08-20T20:54:34.228Z"
   },
   {
    "duration": 246,
    "start_time": "2022-08-20T20:54:34.264Z"
   },
   {
    "duration": 256,
    "start_time": "2022-08-20T20:54:34.513Z"
   },
   {
    "duration": 29,
    "start_time": "2022-08-20T20:54:34.771Z"
   },
   {
    "duration": 59,
    "start_time": "2022-08-20T20:54:34.801Z"
   },
   {
    "duration": 27,
    "start_time": "2022-08-20T20:54:34.862Z"
   },
   {
    "duration": 40,
    "start_time": "2022-08-20T20:54:34.890Z"
   },
   {
    "duration": 41,
    "start_time": "2022-08-20T20:54:34.932Z"
   },
   {
    "duration": 42,
    "start_time": "2022-08-20T20:54:34.975Z"
   },
   {
    "duration": 44,
    "start_time": "2022-08-20T20:54:35.019Z"
   },
   {
    "duration": 46,
    "start_time": "2022-08-20T20:54:35.065Z"
   },
   {
    "duration": 30,
    "start_time": "2022-08-20T20:54:35.112Z"
   },
   {
    "duration": 73,
    "start_time": "2022-08-20T20:54:35.143Z"
   },
   {
    "duration": 56,
    "start_time": "2022-08-20T20:54:35.218Z"
   },
   {
    "duration": 89,
    "start_time": "2022-08-20T20:54:35.276Z"
   },
   {
    "duration": 125,
    "start_time": "2022-08-20T20:54:35.368Z"
   },
   {
    "duration": 74,
    "start_time": "2022-08-20T20:54:35.495Z"
   },
   {
    "duration": 15,
    "start_time": "2022-08-20T20:54:35.570Z"
   },
   {
    "duration": 31,
    "start_time": "2022-08-20T20:54:35.587Z"
   },
   {
    "duration": 1252,
    "start_time": "2022-08-20T20:54:35.620Z"
   },
   {
    "duration": 23093,
    "start_time": "2022-08-20T20:54:36.873Z"
   },
   {
    "duration": 1193,
    "start_time": "2022-08-20T20:54:59.968Z"
   },
   {
    "duration": 6,
    "start_time": "2022-08-20T20:55:01.163Z"
   },
   {
    "duration": 116,
    "start_time": "2022-08-20T20:55:01.171Z"
   },
   {
    "duration": 106199,
    "start_time": "2022-08-20T20:55:01.290Z"
   },
   {
    "duration": 4,
    "start_time": "2022-08-20T20:56:47.491Z"
   },
   {
    "duration": 39496,
    "start_time": "2022-08-20T20:56:47.496Z"
   },
   {
    "duration": 32974,
    "start_time": "2022-08-20T20:57:26.994Z"
   },
   {
    "duration": 4,
    "start_time": "2022-08-20T20:57:59.970Z"
   },
   {
    "duration": 1449,
    "start_time": "2022-08-20T20:57:59.976Z"
   },
   {
    "duration": 105,
    "start_time": "2022-08-20T20:58:01.427Z"
   },
   {
    "duration": 59823,
    "start_time": "2022-08-20T20:58:01.533Z"
   },
   {
    "duration": 1923,
    "start_time": "2022-08-20T20:59:01.360Z"
   },
   {
    "duration": 223,
    "start_time": "2022-08-20T20:59:03.285Z"
   },
   {
    "duration": 11137,
    "start_time": "2022-08-20T20:59:03.510Z"
   },
   {
    "duration": 2111,
    "start_time": "2022-08-20T21:01:56.693Z"
   },
   {
    "duration": 2132,
    "start_time": "2022-08-20T21:01:58.807Z"
   },
   {
    "duration": 7141,
    "start_time": "2022-08-20T21:02:00.941Z"
   },
   {
    "duration": 69,
    "start_time": "2022-08-20T21:02:08.084Z"
   },
   {
    "duration": 6,
    "start_time": "2022-08-20T21:02:08.155Z"
   },
   {
    "duration": 23,
    "start_time": "2022-08-20T21:02:08.169Z"
   },
   {
    "duration": 1632,
    "start_time": "2022-08-20T21:02:08.194Z"
   },
   {
    "duration": 132,
    "start_time": "2022-08-20T21:02:09.828Z"
   },
   {
    "duration": 5,
    "start_time": "2022-08-20T21:02:09.962Z"
   },
   {
    "duration": 9,
    "start_time": "2022-08-20T21:02:09.974Z"
   },
   {
    "duration": 16,
    "start_time": "2022-08-20T21:02:09.985Z"
   },
   {
    "duration": 224,
    "start_time": "2022-08-20T21:02:10.002Z"
   },
   {
    "duration": 293,
    "start_time": "2022-08-20T21:02:10.227Z"
   },
   {
    "duration": 28,
    "start_time": "2022-08-20T21:02:10.522Z"
   },
   {
    "duration": 62,
    "start_time": "2022-08-20T21:02:10.552Z"
   },
   {
    "duration": 28,
    "start_time": "2022-08-20T21:02:10.615Z"
   },
   {
    "duration": 55,
    "start_time": "2022-08-20T21:02:10.644Z"
   },
   {
    "duration": 28,
    "start_time": "2022-08-20T21:02:10.700Z"
   },
   {
    "duration": 60,
    "start_time": "2022-08-20T21:02:10.729Z"
   },
   {
    "duration": 26,
    "start_time": "2022-08-20T21:02:10.791Z"
   },
   {
    "duration": 52,
    "start_time": "2022-08-20T21:02:10.819Z"
   },
   {
    "duration": 31,
    "start_time": "2022-08-20T21:02:10.881Z"
   },
   {
    "duration": 45,
    "start_time": "2022-08-20T21:02:10.913Z"
   },
   {
    "duration": 37,
    "start_time": "2022-08-20T21:02:10.965Z"
   },
   {
    "duration": 88,
    "start_time": "2022-08-20T21:02:11.003Z"
   },
   {
    "duration": 209,
    "start_time": "2022-08-20T21:02:11.093Z"
   },
   {
    "duration": 85,
    "start_time": "2022-08-20T21:02:11.304Z"
   },
   {
    "duration": 16,
    "start_time": "2022-08-20T21:02:11.394Z"
   },
   {
    "duration": 26,
    "start_time": "2022-08-20T21:02:11.411Z"
   },
   {
    "duration": 1296,
    "start_time": "2022-08-20T21:02:11.439Z"
   },
   {
    "duration": 37929,
    "start_time": "2022-08-20T21:02:12.737Z"
   },
   {
    "duration": 1290,
    "start_time": "2022-08-20T21:02:50.671Z"
   },
   {
    "duration": 11,
    "start_time": "2022-08-20T21:02:51.965Z"
   },
   {
    "duration": 110,
    "start_time": "2022-08-20T21:02:51.981Z"
   },
   {
    "duration": 113683,
    "start_time": "2022-08-20T21:02:52.093Z"
   },
   {
    "duration": 3,
    "start_time": "2022-08-20T21:04:45.779Z"
   },
   {
    "duration": 35705,
    "start_time": "2022-08-20T21:04:45.784Z"
   },
   {
    "duration": 34320,
    "start_time": "2022-08-20T21:05:21.491Z"
   },
   {
    "duration": 56,
    "start_time": "2022-08-20T21:05:55.812Z"
   },
   {
    "duration": 1432,
    "start_time": "2022-08-20T21:05:55.870Z"
   },
   {
    "duration": 95,
    "start_time": "2022-08-20T21:05:57.304Z"
   },
   {
    "duration": 56953,
    "start_time": "2022-08-20T21:05:57.401Z"
   },
   {
    "duration": 1759,
    "start_time": "2022-08-20T21:06:54.356Z"
   },
   {
    "duration": 205,
    "start_time": "2022-08-20T21:06:56.117Z"
   },
   {
    "duration": 10253,
    "start_time": "2022-08-20T21:06:56.324Z"
   },
   {
    "duration": 201,
    "start_time": "2022-08-20T21:11:06.210Z"
   },
   {
    "duration": 266,
    "start_time": "2022-08-20T21:11:42.022Z"
   },
   {
    "duration": 192,
    "start_time": "2022-08-20T21:11:46.556Z"
   },
   {
    "duration": 210,
    "start_time": "2022-08-20T21:15:17.722Z"
   },
   {
    "duration": 215,
    "start_time": "2022-08-20T21:15:25.478Z"
   },
   {
    "duration": 212,
    "start_time": "2022-08-20T21:15:30.780Z"
   },
   {
    "duration": 126,
    "start_time": "2022-08-20T21:15:50.296Z"
   },
   {
    "duration": 190,
    "start_time": "2022-08-20T21:16:00.097Z"
   },
   {
    "duration": 175,
    "start_time": "2022-08-20T21:16:07.778Z"
   },
   {
    "duration": 176,
    "start_time": "2022-08-20T21:16:11.886Z"
   },
   {
    "duration": 13,
    "start_time": "2022-08-20T21:16:46.090Z"
   },
   {
    "duration": 14,
    "start_time": "2022-08-20T21:17:01.513Z"
   },
   {
    "duration": 12,
    "start_time": "2022-08-20T21:23:48.127Z"
   },
   {
    "duration": 173,
    "start_time": "2022-08-20T21:23:54.690Z"
   },
   {
    "duration": 183,
    "start_time": "2022-08-20T21:24:09.290Z"
   },
   {
    "duration": 174,
    "start_time": "2022-08-20T21:24:20.722Z"
   },
   {
    "duration": 269,
    "start_time": "2022-08-20T21:25:26.391Z"
   },
   {
    "duration": 196,
    "start_time": "2022-08-20T21:25:33.247Z"
   },
   {
    "duration": 324,
    "start_time": "2022-08-20T21:25:36.278Z"
   },
   {
    "duration": 174,
    "start_time": "2022-08-20T21:27:07.646Z"
   },
   {
    "duration": 184,
    "start_time": "2022-08-20T21:27:32.318Z"
   },
   {
    "duration": 183,
    "start_time": "2022-08-20T21:27:38.548Z"
   },
   {
    "duration": 161,
    "start_time": "2022-08-20T21:27:49.298Z"
   },
   {
    "duration": 173,
    "start_time": "2022-08-20T21:27:53.553Z"
   },
   {
    "duration": 149,
    "start_time": "2022-08-20T21:28:24.843Z"
   },
   {
    "duration": 1866,
    "start_time": "2022-08-20T21:29:26.907Z"
   },
   {
    "duration": 1975,
    "start_time": "2022-08-20T21:29:28.775Z"
   },
   {
    "duration": 2180,
    "start_time": "2022-08-20T21:29:30.752Z"
   },
   {
    "duration": 2467,
    "start_time": "2022-08-20T21:29:32.934Z"
   },
   {
    "duration": 3,
    "start_time": "2022-08-20T21:29:35.404Z"
   },
   {
    "duration": 16,
    "start_time": "2022-08-20T21:29:35.409Z"
   },
   {
    "duration": 1602,
    "start_time": "2022-08-20T21:29:35.426Z"
   },
   {
    "duration": 112,
    "start_time": "2022-08-20T21:29:37.030Z"
   },
   {
    "duration": 16,
    "start_time": "2022-08-20T21:29:37.143Z"
   },
   {
    "duration": 19,
    "start_time": "2022-08-20T21:29:37.161Z"
   },
   {
    "duration": 18,
    "start_time": "2022-08-20T21:29:37.181Z"
   },
   {
    "duration": 230,
    "start_time": "2022-08-20T21:29:37.200Z"
   },
   {
    "duration": 277,
    "start_time": "2022-08-20T21:29:37.432Z"
   },
   {
    "duration": 26,
    "start_time": "2022-08-20T21:29:37.711Z"
   },
   {
    "duration": 57,
    "start_time": "2022-08-20T21:29:37.738Z"
   },
   {
    "duration": 28,
    "start_time": "2022-08-20T21:29:37.797Z"
   },
   {
    "duration": 51,
    "start_time": "2022-08-20T21:29:37.827Z"
   },
   {
    "duration": 28,
    "start_time": "2022-08-20T21:29:37.880Z"
   },
   {
    "duration": 52,
    "start_time": "2022-08-20T21:29:37.910Z"
   },
   {
    "duration": 33,
    "start_time": "2022-08-20T21:29:37.963Z"
   },
   {
    "duration": 61,
    "start_time": "2022-08-20T21:29:37.998Z"
   },
   {
    "duration": 32,
    "start_time": "2022-08-20T21:29:38.061Z"
   },
   {
    "duration": 43,
    "start_time": "2022-08-20T21:29:38.094Z"
   },
   {
    "duration": 49,
    "start_time": "2022-08-20T21:29:38.139Z"
   },
   {
    "duration": 77,
    "start_time": "2022-08-20T21:29:38.190Z"
   },
   {
    "duration": 123,
    "start_time": "2022-08-20T21:29:38.269Z"
   },
   {
    "duration": 73,
    "start_time": "2022-08-20T21:29:38.394Z"
   },
   {
    "duration": 15,
    "start_time": "2022-08-20T21:29:38.470Z"
   },
   {
    "duration": 31,
    "start_time": "2022-08-20T21:29:38.487Z"
   },
   {
    "duration": 1401,
    "start_time": "2022-08-20T21:29:38.520Z"
   },
   {
    "duration": 33843,
    "start_time": "2022-08-20T21:29:39.923Z"
   },
   {
    "duration": 1390,
    "start_time": "2022-08-20T21:30:13.768Z"
   },
   {
    "duration": 7,
    "start_time": "2022-08-20T21:30:15.161Z"
   },
   {
    "duration": 17,
    "start_time": "2022-08-20T21:30:15.258Z"
   },
   {
    "duration": 101194,
    "start_time": "2022-08-20T21:30:15.277Z"
   },
   {
    "duration": 3,
    "start_time": "2022-08-20T21:31:56.473Z"
   },
   {
    "duration": 30901,
    "start_time": "2022-08-20T21:31:56.478Z"
   },
   {
    "duration": 29460,
    "start_time": "2022-08-20T21:32:27.381Z"
   },
   {
    "duration": 15,
    "start_time": "2022-08-20T21:32:56.843Z"
   },
   {
    "duration": 1429,
    "start_time": "2022-08-20T21:32:56.860Z"
   },
   {
    "duration": 92,
    "start_time": "2022-08-20T21:32:58.291Z"
   },
   {
    "duration": 56327,
    "start_time": "2022-08-20T21:32:58.384Z"
   },
   {
    "duration": 1718,
    "start_time": "2022-08-20T21:33:54.712Z"
   },
   {
    "duration": 157,
    "start_time": "2022-08-20T21:33:56.432Z"
   },
   {
    "duration": 9957,
    "start_time": "2022-08-20T21:33:56.591Z"
   }
  ],
  "colab": {
   "collapsed_sections": [],
   "name": "13_sprint_gradient.ipynb",
   "provenance": [],
   "toc_visible": true
  },
  "kernelspec": {
   "display_name": "Python 3",
   "language": "python",
   "name": "python3"
  },
  "language_info": {
   "codemirror_mode": {
    "name": "ipython",
    "version": 3
   },
   "file_extension": ".py",
   "mimetype": "text/x-python",
   "name": "python",
   "nbconvert_exporter": "python",
   "pygments_lexer": "ipython3",
   "version": "3.8.5"
  },
  "toc": {
   "base_numbering": 1,
   "nav_menu": {},
   "number_sections": true,
   "sideBar": true,
   "skip_h1_title": true,
   "title_cell": "Table of Contents",
   "title_sidebar": "Contents",
   "toc_cell": true,
   "toc_position": {
    "height": "calc(100% - 180px)",
    "left": "10px",
    "top": "150px",
    "width": "280px"
   },
   "toc_section_display": true,
   "toc_window_display": true
  }
 },
 "nbformat": 4,
 "nbformat_minor": 1
}
